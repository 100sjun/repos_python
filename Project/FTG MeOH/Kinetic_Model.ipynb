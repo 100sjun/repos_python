{
 "cells": [
  {
   "cell_type": "code",
   "execution_count": 24,
   "metadata": {},
   "outputs": [],
   "source": [
    "import numpy as np\n",
    "import matplotlib.pyplot as plt\n",
    "from scipy.optimize import minimize\n",
    "from scipy.special import expit"
   ]
  },
  {
   "cell_type": "code",
   "execution_count": 25,
   "metadata": {},
   "outputs": [],
   "source": [
    "# General Parameters\n",
    "R = 8.314 # Gas constant, units: J/mol/K\n",
    "T = 523 # units: K"
   ]
  },
  {
   "cell_type": "code",
   "execution_count": 26,
   "metadata": {},
   "outputs": [],
   "source": [
    "# kinetic parameters\n",
    "k10 = 4.06358e-6\n",
    "k20 = 9.0421e8\n",
    "k30 = 1.5188e-33\n",
    "E1 = -1.1695e4 # units: J/mol\n",
    "E2 = -1.1286e5 # units: J/mol\n",
    "E3 = -2.6601e5 # units: J/mol\n",
    "KCO0 = 8.3965e-11\n",
    "KCO20 = 1.17214e-10\n",
    "KH0 = 4.3676e-12\n",
    "ECO = 1.1827e5\n",
    "ECO2 = 8.1287e4\n",
    "EH = 1.1508e5\n",
    "\n",
    "k1 = k10*np.exp(-E1/R/T)\n",
    "k2 = k20*np.exp(-E2/R/T)\n",
    "k3 = k30*np.exp(-E3/R/T)\n",
    "KCO = KCO0*np.exp(ECO/R/T)\n",
    "KCO2 = KCO20*np.exp(ECO2/R/T)\n",
    "KH = KH0*np.exp(EH/R/T)"
   ]
  },
  {
   "cell_type": "code",
   "execution_count": 35,
   "metadata": {},
   "outputs": [],
   "source": [
    "# Equilibrium Constant\n",
    "K10 = np.exp(-29.07)\n",
    "EK1 = 9.8438e4\n",
    "K20 = np.exp(5.639)\n",
    "EK2 = -4.3939e4\n",
    "\n",
    "K1 = K10*np.exp(EK1/R/T)\n",
    "K2 = K20*np.exp(EK2/R/T)\n",
    "K3 = K1*K2"
   ]
  },
  {
   "cell_type": "code",
   "execution_count": 37,
   "metadata": {},
   "outputs": [
    {
     "data": {
      "text/plain": [
       "2.385615444030076e-23"
      ]
     },
     "execution_count": 37,
     "metadata": {},
     "output_type": "execute_result"
    }
   ],
   "source": [
    "K10\n",
    "np.exp(-52.09)"
   ]
  },
  {
   "cell_type": "code",
   "execution_count": 54,
   "metadata": {},
   "outputs": [
    {
     "data": {
      "text/plain": [
       "0.563980208005229"
      ]
     },
     "execution_count": 54,
     "metadata": {},
     "output_type": "execute_result"
    }
   ],
   "source": [
    "np.log(KCO20) - np.log(K10) - np.log(K20)"
   ]
  },
  {
   "cell_type": "code",
   "execution_count": 38,
   "metadata": {},
   "outputs": [
    {
     "data": {
      "text/plain": [
       "3222.035121481838"
      ]
     },
     "execution_count": 38,
     "metadata": {},
     "output_type": "execute_result"
    }
   ],
   "source": [
    "(ECO2 - EK1 - EK2)/R"
   ]
  },
  {
   "cell_type": "code",
   "execution_count": 44,
   "metadata": {},
   "outputs": [
    {
     "data": {
      "text/plain": [
       "5.869378929418424"
      ]
     },
     "execution_count": 44,
     "metadata": {},
     "output_type": "execute_result"
    }
   ],
   "source": [
    "np.log(KCO0) - np.log(K10)"
   ]
  },
  {
   "cell_type": "code",
   "execution_count": 49,
   "metadata": {},
   "outputs": [
    {
     "data": {
      "text/plain": [
       "1.0001149362841112e-05"
      ]
     },
     "execution_count": 49,
     "metadata": {},
     "output_type": "execute_result"
    }
   ],
   "source": [
    "a = 28.895 - np.log(KCO0) + np.log(K10)\n",
    "(1/np.exp(a))**(0.5)"
   ]
  },
  {
   "cell_type": "code",
   "execution_count": 51,
   "metadata": {},
   "outputs": [
    {
     "data": {
      "text/plain": [
       "-22.86701979199477"
      ]
     },
     "execution_count": 51,
     "metadata": {},
     "output_type": "execute_result"
    }
   ],
   "source": [
    "np.log(KCO20)"
   ]
  },
  {
   "cell_type": "code",
   "execution_count": 30,
   "metadata": {},
   "outputs": [
    {
     "data": {
      "text/plain": [
       "-29.06092645867785"
      ]
     },
     "execution_count": 30,
     "metadata": {},
     "output_type": "execute_result"
    }
   ],
   "source": [
    "np.log(10**(-12.621))"
   ]
  },
  {
   "cell_type": "code",
   "execution_count": 31,
   "metadata": {},
   "outputs": [
    {
     "name": "stdout",
     "output_type": "stream",
     "text": [
      "1.9120458891013383\n"
     ]
    },
    {
     "data": {
      "text/plain": [
       "-6.431321478066206"
      ]
     },
     "execution_count": 31,
     "metadata": {},
     "output_type": "execute_result"
    }
   ],
   "source": [
    "print(1000/T)\n",
    "np.log(K1)\n"
   ]
  }
 ],
 "metadata": {
  "kernelspec": {
   "display_name": "Python 3",
   "language": "python",
   "name": "python3"
  },
  "language_info": {
   "codemirror_mode": {
    "name": "ipython",
    "version": 3
   },
   "file_extension": ".py",
   "mimetype": "text/x-python",
   "name": "python",
   "nbconvert_exporter": "python",
   "pygments_lexer": "ipython3",
   "version": "3.10.12"
  }
 },
 "nbformat": 4,
 "nbformat_minor": 2
}
