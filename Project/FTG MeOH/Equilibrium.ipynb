{
 "cells": [
  {
   "cell_type": "code",
   "execution_count": 97,
   "metadata": {},
   "outputs": [],
   "source": [
    "import numpy as np\n",
    "import pandas as pd\n",
    "from sklearn.linear_model import LinearRegression\n",
    "import matplotlib.pyplot as plt"
   ]
  },
  {
   "cell_type": "code",
   "execution_count": 98,
   "metadata": {},
   "outputs": [],
   "source": [
    "# Data Treatment\n",
    "T = [474.4,488.2,489.6,502.3,509.3,530.4,532.3,506.4,509.1,515.2,518.7,534.9,538.1,472.4,481.0,487.8,488.1,495.2,502.3,509.3,516.9,530.0,536.2]\n",
    "Kp1 = [16.3,8.1,7.48,4.07,2.95,1.17,1.08,3.4,3.01,2.25,1.91,1.04,0.892,18.6,12.3,8.43,8.62,6.06,4.23,3.15,2.11,1.22,0.97]\n",
    "Kp2 = [4.1,6.24,5.46,7.5,8.75,13.3,13.4,9.41,9.16,10.3,11.1,15.4,15.3,4.52,6.1,6.53,6.19,8.06,8.05,10.3,10.6,13.7,14.8]\n",
    "p = [10.7,19.3,10.6,10.7,9.8,10.8,11.5,26.5,34.6,32.6,25.2,23.8,26.5,44.5,63.1,48.7,50.7,71.6,50.5,72.2,44.2,43.4,49.8]\n",
    "d_T = np.array(T)\n",
    "d_Kp1 = np.array(Kp1)/1000\n",
    "d_Kp2 = np.array(Kp2)/1000\n",
    "d_P = np.array(p)\n",
    "df = pd.DataFrame({\n",
    "    'Press': d_P,\n",
    "    'Temp': d_T,\n",
    "    'Kp1': d_Kp1,\n",
    "    'Kp2': d_Kp2\n",
    "})"
   ]
  },
  {
   "cell_type": "code",
   "execution_count": 99,
   "metadata": {},
   "outputs": [
    {
     "data": {
      "text/html": [
       "<div>\n",
       "<style scoped>\n",
       "    .dataframe tbody tr th:only-of-type {\n",
       "        vertical-align: middle;\n",
       "    }\n",
       "\n",
       "    .dataframe tbody tr th {\n",
       "        vertical-align: top;\n",
       "    }\n",
       "\n",
       "    .dataframe thead th {\n",
       "        text-align: right;\n",
       "    }\n",
       "</style>\n",
       "<table border=\"1\" class=\"dataframe\">\n",
       "  <thead>\n",
       "    <tr style=\"text-align: right;\">\n",
       "      <th></th>\n",
       "      <th>Press</th>\n",
       "      <th>Temp</th>\n",
       "      <th>Kp1</th>\n",
       "      <th>Kp2</th>\n",
       "    </tr>\n",
       "  </thead>\n",
       "  <tbody>\n",
       "    <tr>\n",
       "      <th>0</th>\n",
       "      <td>10.7</td>\n",
       "      <td>474.4</td>\n",
       "      <td>0.016300</td>\n",
       "      <td>0.00410</td>\n",
       "    </tr>\n",
       "    <tr>\n",
       "      <th>1</th>\n",
       "      <td>19.3</td>\n",
       "      <td>488.2</td>\n",
       "      <td>0.008100</td>\n",
       "      <td>0.00624</td>\n",
       "    </tr>\n",
       "    <tr>\n",
       "      <th>2</th>\n",
       "      <td>10.6</td>\n",
       "      <td>489.6</td>\n",
       "      <td>0.007480</td>\n",
       "      <td>0.00546</td>\n",
       "    </tr>\n",
       "    <tr>\n",
       "      <th>3</th>\n",
       "      <td>10.7</td>\n",
       "      <td>502.3</td>\n",
       "      <td>0.004070</td>\n",
       "      <td>0.00750</td>\n",
       "    </tr>\n",
       "    <tr>\n",
       "      <th>4</th>\n",
       "      <td>9.8</td>\n",
       "      <td>509.3</td>\n",
       "      <td>0.002950</td>\n",
       "      <td>0.00875</td>\n",
       "    </tr>\n",
       "    <tr>\n",
       "      <th>5</th>\n",
       "      <td>10.8</td>\n",
       "      <td>530.4</td>\n",
       "      <td>0.001170</td>\n",
       "      <td>0.01330</td>\n",
       "    </tr>\n",
       "    <tr>\n",
       "      <th>6</th>\n",
       "      <td>11.5</td>\n",
       "      <td>532.3</td>\n",
       "      <td>0.001080</td>\n",
       "      <td>0.01340</td>\n",
       "    </tr>\n",
       "    <tr>\n",
       "      <th>7</th>\n",
       "      <td>26.5</td>\n",
       "      <td>506.4</td>\n",
       "      <td>0.003400</td>\n",
       "      <td>0.00941</td>\n",
       "    </tr>\n",
       "    <tr>\n",
       "      <th>8</th>\n",
       "      <td>34.6</td>\n",
       "      <td>509.1</td>\n",
       "      <td>0.003010</td>\n",
       "      <td>0.00916</td>\n",
       "    </tr>\n",
       "    <tr>\n",
       "      <th>9</th>\n",
       "      <td>32.6</td>\n",
       "      <td>515.2</td>\n",
       "      <td>0.002250</td>\n",
       "      <td>0.01030</td>\n",
       "    </tr>\n",
       "    <tr>\n",
       "      <th>10</th>\n",
       "      <td>25.2</td>\n",
       "      <td>518.7</td>\n",
       "      <td>0.001910</td>\n",
       "      <td>0.01110</td>\n",
       "    </tr>\n",
       "    <tr>\n",
       "      <th>11</th>\n",
       "      <td>23.8</td>\n",
       "      <td>534.9</td>\n",
       "      <td>0.001040</td>\n",
       "      <td>0.01540</td>\n",
       "    </tr>\n",
       "    <tr>\n",
       "      <th>12</th>\n",
       "      <td>26.5</td>\n",
       "      <td>538.1</td>\n",
       "      <td>0.000892</td>\n",
       "      <td>0.01530</td>\n",
       "    </tr>\n",
       "    <tr>\n",
       "      <th>13</th>\n",
       "      <td>44.5</td>\n",
       "      <td>472.4</td>\n",
       "      <td>0.018600</td>\n",
       "      <td>0.00452</td>\n",
       "    </tr>\n",
       "    <tr>\n",
       "      <th>14</th>\n",
       "      <td>63.1</td>\n",
       "      <td>481.0</td>\n",
       "      <td>0.012300</td>\n",
       "      <td>0.00610</td>\n",
       "    </tr>\n",
       "    <tr>\n",
       "      <th>15</th>\n",
       "      <td>48.7</td>\n",
       "      <td>487.8</td>\n",
       "      <td>0.008430</td>\n",
       "      <td>0.00653</td>\n",
       "    </tr>\n",
       "    <tr>\n",
       "      <th>16</th>\n",
       "      <td>50.7</td>\n",
       "      <td>488.1</td>\n",
       "      <td>0.008620</td>\n",
       "      <td>0.00619</td>\n",
       "    </tr>\n",
       "    <tr>\n",
       "      <th>17</th>\n",
       "      <td>71.6</td>\n",
       "      <td>495.2</td>\n",
       "      <td>0.006060</td>\n",
       "      <td>0.00806</td>\n",
       "    </tr>\n",
       "    <tr>\n",
       "      <th>18</th>\n",
       "      <td>50.5</td>\n",
       "      <td>502.3</td>\n",
       "      <td>0.004230</td>\n",
       "      <td>0.00805</td>\n",
       "    </tr>\n",
       "    <tr>\n",
       "      <th>19</th>\n",
       "      <td>72.2</td>\n",
       "      <td>509.3</td>\n",
       "      <td>0.003150</td>\n",
       "      <td>0.01030</td>\n",
       "    </tr>\n",
       "    <tr>\n",
       "      <th>20</th>\n",
       "      <td>44.2</td>\n",
       "      <td>516.9</td>\n",
       "      <td>0.002110</td>\n",
       "      <td>0.01060</td>\n",
       "    </tr>\n",
       "    <tr>\n",
       "      <th>21</th>\n",
       "      <td>43.4</td>\n",
       "      <td>530.0</td>\n",
       "      <td>0.001220</td>\n",
       "      <td>0.01370</td>\n",
       "    </tr>\n",
       "    <tr>\n",
       "      <th>22</th>\n",
       "      <td>49.8</td>\n",
       "      <td>536.2</td>\n",
       "      <td>0.000970</td>\n",
       "      <td>0.01480</td>\n",
       "    </tr>\n",
       "  </tbody>\n",
       "</table>\n",
       "</div>"
      ],
      "text/plain": [
       "    Press   Temp       Kp1      Kp2\n",
       "0    10.7  474.4  0.016300  0.00410\n",
       "1    19.3  488.2  0.008100  0.00624\n",
       "2    10.6  489.6  0.007480  0.00546\n",
       "3    10.7  502.3  0.004070  0.00750\n",
       "4     9.8  509.3  0.002950  0.00875\n",
       "5    10.8  530.4  0.001170  0.01330\n",
       "6    11.5  532.3  0.001080  0.01340\n",
       "7    26.5  506.4  0.003400  0.00941\n",
       "8    34.6  509.1  0.003010  0.00916\n",
       "9    32.6  515.2  0.002250  0.01030\n",
       "10   25.2  518.7  0.001910  0.01110\n",
       "11   23.8  534.9  0.001040  0.01540\n",
       "12   26.5  538.1  0.000892  0.01530\n",
       "13   44.5  472.4  0.018600  0.00452\n",
       "14   63.1  481.0  0.012300  0.00610\n",
       "15   48.7  487.8  0.008430  0.00653\n",
       "16   50.7  488.1  0.008620  0.00619\n",
       "17   71.6  495.2  0.006060  0.00806\n",
       "18   50.5  502.3  0.004230  0.00805\n",
       "19   72.2  509.3  0.003150  0.01030\n",
       "20   44.2  516.9  0.002110  0.01060\n",
       "21   43.4  530.0  0.001220  0.01370\n",
       "22   49.8  536.2  0.000970  0.01480"
      ]
     },
     "execution_count": 99,
     "metadata": {},
     "output_type": "execute_result"
    }
   ],
   "source": [
    "df"
   ]
  },
  {
   "cell_type": "code",
   "execution_count": 108,
   "metadata": {},
   "outputs": [
    {
     "name": "stdout",
     "output_type": "stream",
     "text": [
      "0.9991518968289496\n",
      "[11.82811195]\n",
      "-29.026770751288943\n"
     ]
    },
    {
     "data": {
      "text/plain": [
       "<matplotlib.collections.PathCollection at 0x1538697dae30>"
      ]
     },
     "execution_count": 108,
     "metadata": {},
     "output_type": "execute_result"
    },
    {
     "data": {
      "image/png": "[encoded data removed]",
      "text/plain": [
       "<Figure size 640x480 with 1 Axes>"
      ]
     },
     "metadata": {},
     "output_type": "display_data"
    }
   ],
   "source": [
    "# Linear Regression\n",
    "x = np.array(1000/df['Temp'])\n",
    "y = np.array(np.log(df['Kp1']))\n",
    "\n",
    "model = LinearRegression()\n",
    "model.fit(x.reshape(-1,1),y)\n",
    "\n",
    "print(model.score(x.reshape(-1,1),y))\n",
    "print(model.coef_)\n",
    "print(model.intercept_)\n",
    "\n",
    "plt.scatter(x,y)"
   ]
  },
  {
   "cell_type": "code",
   "execution_count": 101,
   "metadata": {},
   "outputs": [],
   "source": [
    "# Kp1\n",
    "E1 = model.coef_*8.314*1000\n",
    "A1 = np.exp(model.intercept_)"
   ]
  },
  {
   "cell_type": "code",
   "execution_count": 102,
   "metadata": {},
   "outputs": [
    {
     "name": "stdout",
     "output_type": "stream",
     "text": [
      "0.9676791441972745\n",
      "[-4.81361393]\n",
      "4.776268664171197\n"
     ]
    },
    {
     "data": {
      "text/plain": [
       "<matplotlib.collections.PathCollection at 0x153869b8f490>"
      ]
     },
     "execution_count": 102,
     "metadata": {},
     "output_type": "execute_result"
    },
    {
     "data": {
      "image/png": "[encoded data removed]",
      "text/plain": [
       "<Figure size 640x480 with 1 Axes>"
      ]
     },
     "metadata": {},
     "output_type": "display_data"
    }
   ],
   "source": [
    "# Linear Regression\n",
    "x = np.array(1000/df['Temp'])\n",
    "y = np.array(np.log(df['Kp2']))\n",
    "\n",
    "model = LinearRegression()\n",
    "model.fit(x.reshape(-1,1),y)\n",
    "\n",
    "print(model.score(x.reshape(-1,1),y))\n",
    "print(model.coef_)\n",
    "print(model.intercept_)\n",
    "plt.scatter(x,y)"
   ]
  },
  {
   "cell_type": "code",
   "execution_count": 103,
   "metadata": {},
   "outputs": [],
   "source": [
    "# Kp2\n",
    "E2 = model.coef_*8.314*1000\n",
    "A2 = np.exp(model.intercept_)"
   ]
  },
  {
   "cell_type": "code",
   "execution_count": 111,
   "metadata": {},
   "outputs": [
    {
     "name": "stdout",
     "output_type": "stream",
     "text": [
      "0.9992439936802536\n",
      "[-0.51917034]\n",
      "7.255301364975185\n"
     ]
    },
    {
     "data": {
      "text/plain": [
       "<matplotlib.collections.PathCollection at 0x153869894fa0>"
      ]
     },
     "execution_count": 111,
     "metadata": {},
     "output_type": "execute_result"
    },
    {
     "data": {
      "image/png": "[encoded data removed]",
      "text/plain": [
       "<Figure size 640x480 with 1 Axes>"
      ]
     },
     "metadata": {},
     "output_type": "display_data"
    }
   ],
   "source": [
    "T = [200, 250, 300]\n",
    "TT = np.array(T)+273.15\n",
    "KP0 = [1.74/100, 1.59/1000, 2.21/10000]\n",
    "KKP0 = np.array(TT)\n",
    "\n",
    "# Linear Regression\n",
    "x = np.array(1000/TT)\n",
    "y = np.array(np.log(KKP0))\n",
    "\n",
    "model = LinearRegression()\n",
    "model.fit(x.reshape(-1,1),y)\n",
    "\n",
    "print(model.score(x.reshape(-1,1),y))\n",
    "print(model.coef_)\n",
    "print(model.intercept_)\n",
    "plt.scatter(x,y)"
   ]
  }
 ],
 "metadata": {
  "kernelspec": {
   "display_name": "Python 3",
   "language": "python",
   "name": "python3"
  },
  "language_info": {
   "codemirror_mode": {
    "name": "ipython",
    "version": 3
   },
   "file_extension": ".py",
   "mimetype": "text/x-python",
   "name": "python",
   "nbconvert_exporter": "python",
   "pygments_lexer": "ipython3",
   "version": "3.10.12"
  }
 },
 "nbformat": 4,
 "nbformat_minor": 2
}
