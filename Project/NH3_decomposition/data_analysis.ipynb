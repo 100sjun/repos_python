{
 "cells": [
  {
   "cell_type": "code",
   "execution_count": 129,
   "id": "5f63c851",
   "metadata": {},
   "outputs": [],
   "source": [
    "import pandas as pd\n",
    "import numpy as np\n",
    "from scipy.integrate import solve_ivp"
   ]
  },
  {
   "cell_type": "code",
   "execution_count": 130,
   "id": "ae7c39bf",
   "metadata": {},
   "outputs": [],
   "source": [
    "df = pd.read_csv('data.csv', index_col='Run')\n",
    "df['molF [mmol/min]'] = df['VolF [mL/min]'] /0.08206/(273.15+25)"
   ]
  },
  {
   "cell_type": "code",
   "execution_count": 131,
   "id": "1e7c85fb",
   "metadata": {},
   "outputs": [],
   "source": [
    "df['Conv'] = (1-df['xNH3'])/(1+df['xNH3'])"
   ]
  },
  {
   "cell_type": "code",
   "execution_count": 132,
   "id": "a6050756",
   "metadata": {},
   "outputs": [],
   "source": [
    "df['molF_NH3'] = df['molF [mmol/min]'] * (1-df['Conv'])\n",
    "df['molF_N2'] = df['molF [mmol/min]'] * df['Conv'] * 0.5\n",
    "df['molF_H2'] = df['molF [mmol/min]'] * df['Conv'] * 1.5"
   ]
  },
  {
   "cell_type": "code",
   "execution_count": 133,
   "id": "05c77bf5",
   "metadata": {},
   "outputs": [],
   "source": [
    "df['xNH3_cal'] = df['molF_NH3'] / (df['molF_NH3'] + df['molF_N2'] + df['molF_H2'])\n",
    "df['xN2_cal'] = df['molF_N2'] / (df['molF_NH3'] + df['molF_N2'] + df['molF_H2'])\n",
    "df['xH2_cal'] = df['molF_H2'] / (df['molF_NH3'] + df['molF_N2'] + df['molF_H2'])"
   ]
  },
  {
   "cell_type": "code",
   "execution_count": 134,
   "id": "e59a348a",
   "metadata": {},
   "outputs": [],
   "source": [
    "df['Fin [mmol/min]'] = df['molF [mmol/min]']\n",
    "df['Fout [mmol/min]'] = df['molF_NH3'] + df['molF_N2'] + df['molF_H2']"
   ]
  },
  {
   "cell_type": "code",
   "execution_count": 135,
   "id": "b760298c",
   "metadata": {},
   "outputs": [],
   "source": [
    "df['Vin [mL/min]'] = df['Fin [mmol/min]'] * 0.08206 * (273.15+df['Temp [degC]'])\n",
    "df['Vout [mL/min]'] = df['Fout [mmol/min]'] * 0.08206 * (273.15+df['Temp [degC]'])\n",
    "df['Vavg [mL/min]'] = (df['Vout [mL/min]'] - df['Vin [mL/min]'])/np.log(df['Vout [mL/min]']/df['Vin [mL/min]'])"
   ]
  },
  {
   "cell_type": "code",
   "execution_count": 136,
   "id": "8793c792",
   "metadata": {},
   "outputs": [],
   "source": [
    "rb_cat = 8.2/11 # g/mL\n",
    "rt_cat = 6.51 # g/mL\n",
    "por = 1 - rb_cat/rt_cat\n",
    "df['Vcat [mL]'] = df['Wcat [g]']/rb_cat\n",
    "df['rt [min]'] = df['Vcat [mL]']*por/df['Vavg [mL/min]']"
   ]
  },
  {
   "cell_type": "code",
   "execution_count": 137,
   "id": "e33848ff",
   "metadata": {},
   "outputs": [],
   "source": [
    "df.to_csv('data_treated.csv')"
   ]
  },
  {
   "cell_type": "code",
   "execution_count": 138,
   "id": "62d29d79",
   "metadata": {},
   "outputs": [],
   "source": [
    "df_ref = df[df['Temp [degC]'] == 450]"
   ]
  },
  {
   "cell_type": "code",
   "execution_count": 139,
   "id": "d557234b",
   "metadata": {},
   "outputs": [
    {
     "data": {
      "text/html": [
       "<div>\n",
       "<style scoped>\n",
       "    .dataframe tbody tr th:only-of-type {\n",
       "        vertical-align: middle;\n",
       "    }\n",
       "\n",
       "    .dataframe tbody tr th {\n",
       "        vertical-align: top;\n",
       "    }\n",
       "\n",
       "    .dataframe thead th {\n",
       "        text-align: right;\n",
       "    }\n",
       "</style>\n",
       "<table border=\"1\" class=\"dataframe\">\n",
       "  <thead>\n",
       "    <tr style=\"text-align: right;\">\n",
       "      <th></th>\n",
       "      <th>Temp [K]</th>\n",
       "      <th>Wcat [g]</th>\n",
       "      <th>Fin [mmol/min]</th>\n",
       "      <th>RT [min]</th>\n",
       "      <th>Conv</th>\n",
       "    </tr>\n",
       "    <tr>\n",
       "      <th>Run</th>\n",
       "      <th></th>\n",
       "      <th></th>\n",
       "      <th></th>\n",
       "      <th></th>\n",
       "      <th></th>\n",
       "    </tr>\n",
       "  </thead>\n",
       "  <tbody>\n",
       "    <tr>\n",
       "      <th>9</th>\n",
       "      <td>723.15</td>\n",
       "      <td>0.3</td>\n",
       "      <td>1.226182</td>\n",
       "      <td>0.003756</td>\n",
       "      <td>0.663894</td>\n",
       "    </tr>\n",
       "    <tr>\n",
       "      <th>10</th>\n",
       "      <td>723.15</td>\n",
       "      <td>0.3</td>\n",
       "      <td>2.452364</td>\n",
       "      <td>0.002028</td>\n",
       "      <td>0.441961</td>\n",
       "    </tr>\n",
       "    <tr>\n",
       "      <th>11</th>\n",
       "      <td>723.15</td>\n",
       "      <td>0.3</td>\n",
       "      <td>3.678546</td>\n",
       "      <td>0.001409</td>\n",
       "      <td>0.333333</td>\n",
       "    </tr>\n",
       "  </tbody>\n",
       "</table>\n",
       "</div>"
      ],
      "text/plain": [
       "     Temp [K]  Wcat [g]  Fin [mmol/min]  RT [min]      Conv\n",
       "Run                                                        \n",
       "9      723.15       0.3        1.226182  0.003756  0.663894\n",
       "10     723.15       0.3        2.452364  0.002028  0.441961\n",
       "11     723.15       0.3        3.678546  0.001409  0.333333"
      ]
     },
     "execution_count": 139,
     "metadata": {},
     "output_type": "execute_result"
    }
   ],
   "source": [
    "df1 = pd.DataFrame()\n",
    "df1['Temp [K]'] = df_ref['Temp [degC]'] + 273.15\n",
    "df1['Wcat [g]'] = df_ref['Wcat [g]']\n",
    "df1['Fin [mmol/min]'] = df_ref['Fin [mmol/min]']\n",
    "df1['RT [min]'] = df_ref['rt [min]']\n",
    "df1['Conv'] = df_ref['Conv']\n",
    "df1.head(5)"
   ]
  },
  {
   "cell_type": "code",
   "execution_count": null,
   "id": "fd3a2cf5",
   "metadata": {},
   "outputs": [],
   "source": []
  }
 ],
 "metadata": {
  "kernelspec": {
   "display_name": "torchenv",
   "language": "python",
   "name": "python3"
  },
  "language_info": {
   "codemirror_mode": {
    "name": "ipython",
    "version": 3
   },
   "file_extension": ".py",
   "mimetype": "text/x-python",
   "name": "python",
   "nbconvert_exporter": "python",
   "pygments_lexer": "ipython3",
   "version": "3.11.13"
  }
 },
 "nbformat": 4,
 "nbformat_minor": 5
}
