{
 "cells": [
  {
   "cell_type": "code",
   "execution_count": null,
   "id": "41d1b0a9",
   "metadata": {},
   "outputs": [],
   "source": "print('hello')"
  }
 ],
 "metadata": {
  "kernelspec": {
   "display_name": "torchenv",
   "language": "python",
   "name": "python3"
  },
  "language_info": {
   "name": "python",
   "version": "3.11.13"
  }
 },
 "nbformat": 4,
 "nbformat_minor": 5
}