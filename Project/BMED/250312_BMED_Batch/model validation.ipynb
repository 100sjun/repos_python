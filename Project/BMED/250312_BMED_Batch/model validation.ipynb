{
 "cells": [
  {
   "cell_type": "code",
   "execution_count": 33,
   "metadata": {},
   "outputs": [],
   "source": [
    "# import modules\n",
    "import pandas as pd\n",
    "from sklearn.preprocessing import StandardScaler\n",
    "from sklearn.model_selection import KFold\n",
    "import torch\n",
    "import torch.nn as nn\n",
    "import torch.optim as optim\n",
    "from torch.utils.data import DataLoader, TensorDataset\n",
    "from sklearn.model_selection import train_test_split\n",
    "import matplotlib.pyplot as plt\n",
    "from sklearn.metrics import r2_score\n",
    "import numpy as np\n",
    "import plotly.graph_objects as go"
   ]
  },
  {
   "cell_type": "code",
   "execution_count": 34,
   "metadata": {},
   "outputs": [
    {
     "name": "stdout",
     "output_type": "stream",
     "text": [
      "Using GPU: NVIDIA GeForce RTX 4080 SUPER\n",
      "Memory Usage: 9.59MB\n",
      "Model loaded from bmed_flux_batch_NN_model_v0.pth\n"
     ]
    }
   ],
   "source": [
    "\n",
    "\n",
    "# load data\n",
    "class RawDataLoader():\n",
    "    def __init__(self, path='BMED_train_data_v2.xlsx'):\n",
    "        self.path = path\n",
    "        self.X_data, self.Y_data = self.RawData()\n",
    "        self.device = torch.device('cuda' if torch.cuda.is_available() else 'cpu')\n",
    "\n",
    "    def RawData(self):\n",
    "        df = pd.read_excel(self.path, sheet_name='Sheet2')\n",
    "        X_data = df[['T','V','E','CF_LA','CF_K','CA_LA','CB_K']].values\n",
    "        Y_data = df[['dNLA','dNK','dVF','dVA','dVB']].values\n",
    "        return X_data, Y_data\n",
    "    \n",
    "    def PrepareData(self, test_size=0.2, random_state=42):\n",
    "        # Split the data into training and test sets\n",
    "        X_train, X_test, Y_train, Y_test = train_test_split(\n",
    "            self.X_data, self.Y_data, \n",
    "            test_size=test_size, \n",
    "            random_state=random_state\n",
    "            )\n",
    "        \n",
    "        # Normalize the data\n",
    "        scaler_X = StandardScaler()\n",
    "        scaler_Y = StandardScaler()\n",
    "\n",
    "        X_train_scaled = scaler_X.fit_transform(X_train)\n",
    "        X_test_scaled = scaler_X.transform(X_test)\n",
    "\n",
    "        Y_train_scaled = scaler_Y.fit_transform(Y_train)\n",
    "        Y_test_scaled = scaler_Y.transform(Y_test)\n",
    "\n",
    "        # Convert to PyTorch tensors and move to appropriate device\n",
    "        X_train_tensor = torch.FloatTensor(X_train_scaled).to(self.device)\n",
    "        X_test_tensor = torch.FloatTensor(X_test_scaled).to(self.device)\n",
    "        Y_train_tensor = torch.FloatTensor(Y_train_scaled).to(self.device)\n",
    "        Y_test_tensor = torch.FloatTensor(Y_test_scaled).to(self.device)\n",
    "\n",
    "        return X_train_tensor, X_test_tensor, Y_train_tensor, Y_test_tensor, scaler_X, scaler_Y\n",
    "    \n",
    "# Customize the NN architecture\n",
    "class CustomModel(nn.Module):\n",
    "    def __init__(self, hidden_layers=4, hidden_nodes = 128):\n",
    "        super().__init__()\n",
    "        layers = []\n",
    "        nodes = 7\n",
    "        for _ in range(hidden_layers):\n",
    "            layers.append(nn.Linear(nodes, hidden_nodes))\n",
    "            layers.append(nn.ReLU())\n",
    "            nodes = hidden_nodes\n",
    "        layers.append(nn.Linear(hidden_nodes, 5))\n",
    "        self.hidden = nn.Sequential(*layers)\n",
    "\n",
    "    def forward(self, x):\n",
    "        return self.hidden(x) \n",
    "\n",
    "# Set the hyperparameters\n",
    "class NNmodel():\n",
    "    def __init__(self, hidden_layers=4, hidden_nodes = 128, learning_rate=0.0005791697935397798, num_epochs=9680, batch_size=16, weight_decay=1.0000000000000004e-06, title='bmed_flux_batch_NN_model.pth'):\n",
    "        self.device = torch.device('cuda' if torch.cuda.is_available() else 'cpu')\n",
    "        self.hidden_layers = hidden_layers\n",
    "        self.hidden_nodes = hidden_nodes\n",
    "        self.learning_rate = learning_rate\n",
    "        self.num_epochs = num_epochs\n",
    "        self.batch_size = batch_size\n",
    "        self.weight_decay = weight_decay\n",
    "        self.model = CustomModel(hidden_layers=self.hidden_layers, hidden_nodes=self.hidden_nodes).to(self.device)\n",
    "        self.criterion = nn.MSELoss()\n",
    "        self.optimizer = optim.Adam(self.model.parameters(), lr=self.learning_rate, weight_decay=self.weight_decay)\n",
    "        self.train_losses = []  # 각 에폭의 학습 손실 저장\n",
    "        self.test_losses = []   # 각 에폭의 검증 손실 저장\n",
    "        self.predictions = {}   # 예측 결과 저장\n",
    "        self.title = title\n",
    "        self.scaler_X = None\n",
    "        self.scaler_Y = None\n",
    "\n",
    "        if torch.cuda.is_available():\n",
    "            print(f'Using GPU: {torch.cuda.get_device_name(0)}')\n",
    "            print(f'Memory Usage: {torch.cuda.memory_allocated(0)/1024**2:.2f}MB')\n",
    "        \n",
    "\n",
    "    def train(self, X_train, Y_train, X_test, Y_test):\n",
    "        try:\n",
    "            X_train_gpu = X_train\n",
    "            Y_train_gpu = Y_train\n",
    "            X_test_gpu = X_test\n",
    "            Y_test_gpu = Y_test\n",
    "\n",
    "            dataset = TensorDataset(X_train_gpu, Y_train_gpu)\n",
    "            dataloader = DataLoader(dataset, batch_size=self.batch_size, shuffle=True)\n",
    "            \n",
    "            for epoch in range(self.num_epochs):\n",
    "                self.model.train()\n",
    "                epoch_loss = 0\n",
    "                batch_count = 0\n",
    "\n",
    "                for X_batch, Y_batch in dataloader:\n",
    "                    X_batch = X_batch.to(self.device)\n",
    "                    Y_batch = Y_batch.to(self.device)\n",
    "                    self.optimizer.zero_grad()\n",
    "                    train_outputs = self.model(X_batch)\n",
    "                    train_loss = self.criterion(train_outputs, Y_batch)\n",
    "                    train_loss.backward()\n",
    "                    self.optimizer.step()\n",
    "\n",
    "                    epoch_loss += train_loss.item()\n",
    "                    batch_count += 1\n",
    "\n",
    "                # 각 에폭마다 학습 및 검증 손실 저장\n",
    "                with torch.no_grad():\n",
    "                    train_pred = self.model(X_train_gpu)\n",
    "                    test_pred = self.model(X_test_gpu)\n",
    "                    train_loss = self.criterion(train_pred, Y_train_gpu).item()\n",
    "                    test_loss = self.criterion(test_pred, Y_test_gpu).item()\n",
    "                    self.train_losses.append(train_loss)\n",
    "                    self.test_losses.append(test_loss)\n",
    "\n",
    "                if (epoch + 1) % 10 == 0:\n",
    "                    print(f'\\rEpoch [{epoch}/{self.num_epochs}] Train Loss: {train_loss:.4f}, Test Loss: {test_loss:.4f}', end='',flush=True)\n",
    "                \n",
    "                # 주기적으로 메모리 정리\n",
    "                if torch.cuda.is_available():\n",
    "                    torch.cuda.empty_cache()\n",
    "            \n",
    "            # 최종 예측 결과 저장\n",
    "            with torch.no_grad():\n",
    "                test_outputs = self.model(X_test_gpu)\n",
    "                self.predictions = {\n",
    "                    'true': Y_test_gpu.cpu().numpy(),\n",
    "                    'pred': test_outputs.cpu().numpy()\n",
    "                }\n",
    "\n",
    "            # 학습 곡선 시각화\n",
    "            self.plot_learning_curves()\n",
    "            # 예측 결과 시각화\n",
    "            self.plot_predictions()\n",
    "\n",
    "            # Save the model\n",
    "            self.save_model(self.title)\n",
    "\n",
    "            return test_loss.item()\n",
    "        \n",
    "        except RuntimeError as e:\n",
    "            print(f\"GPU 메모리 에러: {e}\")\n",
    "            # 메모리 해제\n",
    "            del X_train_gpu, Y_train_gpu\n",
    "            torch.cuda.empty_cache()\n",
    "            raise\n",
    "            \n",
    "        finally:\n",
    "            # 학습 완료 후 메모리 정리\n",
    "            if torch.cuda.is_available():\n",
    "                torch.cuda.empty_cache()\n",
    "\n",
    "    def save_model(self, title):\n",
    "        model_state = {\n",
    "            'model_state_dict': self.model.state_dict(),\n",
    "            'optimizer_state_dict': self.optimizer.state_dict(),\n",
    "            'hyperparameters': {\n",
    "                'train_losses': self.train_losses,\n",
    "                'test_losses': self.test_losses,\n",
    "                'hidden_layers': self.hidden_layers,\n",
    "                'hidden_nodes': self.hidden_nodes,\n",
    "                'learning_rate': self.learning_rate,\n",
    "                'num_epochs': self.num_epochs,\n",
    "                'batch_size': self.batch_size,\n",
    "                'weight_decay': self.weight_decay\n",
    "            },\n",
    "            'scalers': {\n",
    "                'scaler_X': self.scaler_X,\n",
    "                'scaler_Y': self.scaler_Y\n",
    "            },\n",
    "            'predictions': self.predictions,\n",
    "            'train_losses': self.train_losses,\n",
    "            'test_losses': self.test_losses\n",
    "        }\n",
    "        torch.save(model_state, title)\n",
    "        print(f\"Model saved to {title}\")            \n",
    "        \n",
    "    def load_model(self, filepath):\n",
    "        model_state = torch.load(filepath, weights_only=False)\n",
    "\n",
    "        # load hyperparameters\n",
    "        hyperparameters = model_state['hyperparameters']\n",
    "        self.hidden_layers = hyperparameters['hidden_layers']\n",
    "        self.hidden_nodes = hyperparameters['hidden_nodes']\n",
    "        self.learning_rate = hyperparameters['learning_rate']\n",
    "        self.num_epochs = hyperparameters['num_epochs']\n",
    "        self.batch_size = hyperparameters['batch_size']\n",
    "        self.weight_decay = hyperparameters['weight_decay']\n",
    "\n",
    "        # load connection weights of the model\n",
    "        self.model.load_state_dict(model_state['model_state_dict'])\n",
    "        self.optimizer.load_state_dict(model_state['optimizer_state_dict'])\n",
    "        self.train_losses = model_state['train_losses']\n",
    "        self.test_losses = model_state['test_losses']\n",
    "        self.predictions = model_state['predictions']\n",
    "\n",
    "        # load scalers\n",
    "        self.scaler_X = model_state['scalers']['scaler_X']\n",
    "        self.scaler_Y = model_state['scalers']['scaler_Y']\n",
    "\n",
    "        print(f\"Model loaded from {filepath}\")\n",
    "        \n",
    "    \n",
    "    def plot_learning_curves(self):\n",
    "        plt.figure(figsize=(10, 6))\n",
    "        plt.plot(self.train_losses, label='Train Loss')\n",
    "        plt.plot(self.test_losses, label='Test Loss')\n",
    "        plt.xlabel('Epoch')\n",
    "        plt.ylabel('Loss')\n",
    "        plt.title('Learning Curves')\n",
    "        plt.legend()\n",
    "        plt.grid(True)\n",
    "        plt.savefig('learning_curves.png')\n",
    "        plt.close()\n",
    "\n",
    "    def plot_predictions(self, X_train, Y_train, X_test, Y_test):\n",
    "        with torch.no_grad():\n",
    "            # 학습 데이터 예측\n",
    "            train_outputs = self.model(X_train)\n",
    "            Y_train_true = Y_train.cpu().numpy()\n",
    "            Y_train_pred = train_outputs.cpu().numpy()\n",
    "            \n",
    "            # 테스트 데이터 예측\n",
    "            test_outputs = self.model(X_test)\n",
    "            Y_test_true = Y_test.cpu().numpy()\n",
    "            Y_test_pred = test_outputs.cpu().numpy()\n",
    "            \n",
    "            # 전체 데이터 합치기\n",
    "            Y_all_true = np.vstack([Y_train_true, Y_test_true])\n",
    "            Y_all_pred = np.vstack([Y_train_pred, Y_test_pred])\n",
    "            \n",
    "            # 스케일 복원\n",
    "            Y_train_true = self.scaler_Y.inverse_transform(Y_train_true)\n",
    "            Y_train_pred = self.scaler_Y.inverse_transform(Y_train_pred)\n",
    "            Y_test_true = self.scaler_Y.inverse_transform(Y_test_true)\n",
    "            Y_test_pred = self.scaler_Y.inverse_transform(Y_test_pred)\n",
    "            Y_all_true = self.scaler_Y.inverse_transform(Y_all_true)\n",
    "            Y_all_pred = self.scaler_Y.inverse_transform(Y_all_pred)\n",
    "            \n",
    "            output_names = ['dNLA', 'dNK', 'dVF', 'dVA', 'dVB']\n",
    "            \n",
    "            for i, name in enumerate(output_names):\n",
    "                # 테스트 데이터 플롯\n",
    "                plt.figure(figsize=(10, 6))\n",
    "                r2_test = r2_score(Y_test_true[:, i], Y_test_pred[:, i])\n",
    "                plt.scatter(Y_test_true[:, i], Y_test_pred[:, i], alpha=0.5, label=f'Test Data (R² = {r2_test:.3f})')\n",
    "                \n",
    "                min_val = min(min(Y_test_true[:, i]), min(Y_test_pred[:, i]))\n",
    "                max_val = max(max(Y_test_true[:, i]), max(Y_test_pred[:, i]))\n",
    "                plt.plot([min_val, max_val], [min_val, max_val], 'r--')\n",
    "                \n",
    "                plt.xlabel(f'Actual {name}')\n",
    "                plt.ylabel(f'Predicted {name}')\n",
    "                plt.title(f'Prediction vs Actual for {name} (Test Data)')\n",
    "                plt.legend()\n",
    "                plt.grid(True)\n",
    "                plt.savefig(f'prediction_plot_{name}_test.png')\n",
    "                plt.close()\n",
    "                \n",
    "                # 전체 데이터 플롯\n",
    "                plt.figure(figsize=(10, 6))\n",
    "                r2_all = r2_score(Y_all_true[:, i], Y_all_pred[:, i])\n",
    "                plt.scatter(Y_all_true[:, i], Y_all_pred[:, i], alpha=0.5, label=f'All Data (R² = {r2_all:.3f})')\n",
    "                \n",
    "                min_val = min(min(Y_all_true[:, i]), min(Y_all_pred[:, i]))\n",
    "                max_val = max(max(Y_all_true[:, i]), max(Y_all_pred[:, i]))\n",
    "                plt.plot([min_val, max_val], [min_val, max_val], 'r--')\n",
    "                \n",
    "                plt.xlabel(f'Actual {name}')\n",
    "                plt.ylabel(f'Predicted {name}')\n",
    "                plt.title(f'Prediction vs Actual for {name} (All Data)')\n",
    "                plt.legend()\n",
    "                plt.grid(True)\n",
    "                plt.savefig(f'prediction_plot_{name}_all.png')\n",
    "                plt.close()\n",
    "\n",
    "    def __del__(self):\n",
    "        # 객체가 삭제될 때 메모리 정리\n",
    "        if torch.cuda.is_available():\n",
    "            torch.cuda.empty_cache()\n",
    "\n",
    "if __name__ == \"__main__\":\n",
    "    # 데이터 로드\n",
    "    data_loader = RawDataLoader()\n",
    "    X_train, X_test, Y_train, Y_test, scaler_X, scaler_Y = data_loader.PrepareData()\n",
    "\n",
    "    NN = NNmodel()\n",
    "    NN.load_model('bmed_flux_batch_NN_model_v0.pth')\n",
    "    NN.plot_learning_curves()\n",
    "    NN.plot_predictions(X_train, Y_train, X_test, Y_test)"
   ]
  },
  {
   "cell_type": "code",
   "execution_count": 35,
   "metadata": {},
   "outputs": [
    {
     "name": "stdout",
     "output_type": "stream",
     "text": [
      "Available studies:\n",
      "- optimization_study\n"
     ]
    },
    {
     "data": {
      "application/vnd.plotly.v1+json": {
       "config": {
        "plotlyServerURL": "https://plot.ly"
       },
       "data": [
        {
         "mode": "markers",
         "name": "Objective Value",
         "type": "scatter",
         "x": [
          0,
          1,
          2,
          3,
          4,
          5,
          6,
          7,
          8,
          9,
          10,
          11,
          12,
          13,
          14,
          15,
          16,
          17,
          18,
          19,
          20,
          21,
          22,
          23,
          24,
          25,
          26,
          27,
          28,
          29,
          30,
          31,
          32,
          33,
          34,
          35,
          36,
          37,
          38,
          39,
          40,
          41,
          42,
          43,
          44,
          45,
          46,
          47,
          48,
          49,
          50,
          51,
          52,
          53,
          54,
          55,
          56,
          57,
          58,
          59,
          60,
          61,
          62,
          63,
          64,
          65,
          66,
          67,
          68,
          69,
          70,
          71,
          72,
          73,
          74,
          75,
          76,
          77,
          78,
          79,
          80,
          81,
          82,
          83,
          84,
          85,
          86,
          87,
          88,
          89,
          90,
          91,
          92,
          93,
          94,
          95,
          96,
          97,
          98,
          99
         ],
         "y": [
          -0.002965121273882687,
          0.5344814777374267,
          -2.654841342009604,
          -0.002989025099668652,
          0.768088448047638,
          -0.0025071573560126125,
          -0.006292815506458283,
          0.8728316903114319,
          -0.003168740274850279,
          -0.0030974913970567286,
          0.6596721291542054,
          0.6561193943023682,
          0.5779853820800781,
          0.8952014803886413,
          0.9308592319488526,
          0.6833253383636475,
          0.1949504780350253,
          -0.0029816627386026083,
          0.9061066389083863,
          -0.002953987184446305,
          0.8807854652404785,
          0.6093916058540344,
          0.6199948072433472,
          0.6726077914237976,
          0.6486811637878418,
          0.20410634726285934,
          0.9318232893943786,
          -0.23901967068668456,
          0.5028126024641096,
          0.8350015044212341,
          0.5846830844879151,
          0.9217611312866211,
          0.6173703789710998,
          0.930033278465271,
          0.7824608087539673,
          0.6785212635993958,
          0.8807787299156189,
          0.9313088417053222,
          0.2997381627559662,
          0.6467797160148621,
          0.9253352046012878,
          0.9429897904396057,
          0.9398759245872498,
          0.8063497185707093,
          0.6131300806999207,
          0.9510938405990601,
          0.9449265360832214,
          0.7708857536315918,
          0.4385568559169769,
          0.8945684552192688,
          -0.0036670066649094222,
          -0.0029783200938254596,
          0.9212105393409729,
          0.9344869375228881,
          0.9345736622810363,
          0.9351139068603516,
          0.949070680141449,
          0.8808156967163085,
          0.9155785322189331,
          0.9465735197067261,
          0.9490415334701539,
          0.8834969282150269,
          0.6121013164520264,
          0.9422675371170044,
          0.9367935061454773,
          0.8461429357528687,
          0.9207988739013672,
          0.74844411611557,
          0.932323944568634,
          0.9375185370445251,
          0.9437841653823853,
          0.7920295715332031,
          0.945623254776001,
          0.9387853026390076,
          0.9480822563171387,
          0.9368132710456848,
          0.8665874600410461,
          0.9374355196952819,
          0.9452745676040649,
          0.9202879667282104,
          0.9221655011177063,
          0.9120074272155761,
          0.9369735717773438,
          0.9450478553771973,
          0.9286145448684693,
          0.9417712926864624,
          0.8749983787536622,
          0.949284017086029,
          0.9436989665031433,
          0.9491367340087891,
          0.9275494575500488,
          0.9416497111320495,
          0.9296018719673157,
          0.9344072103500366,
          0.9458000659942627,
          0.937102222442627,
          0.9397958159446717,
          0.9446762800216675,
          0.9474002122879028,
          0.9375841498374939
         ]
        },
        {
         "mode": "lines",
         "name": "Best Value",
         "type": "scatter",
         "x": [
          0,
          1,
          2,
          3,
          4,
          5,
          6,
          7,
          8,
          9,
          10,
          11,
          12,
          13,
          14,
          15,
          16,
          17,
          18,
          19,
          20,
          21,
          22,
          23,
          24,
          25,
          26,
          27,
          28,
          29,
          30,
          31,
          32,
          33,
          34,
          35,
          36,
          37,
          38,
          39,
          40,
          41,
          42,
          43,
          44,
          45,
          46,
          47,
          48,
          49,
          50,
          51,
          52,
          53,
          54,
          55,
          56,
          57,
          58,
          59,
          60,
          61,
          62,
          63,
          64,
          65,
          66,
          67,
          68,
          69,
          70,
          71,
          72,
          73,
          74,
          75,
          76,
          77,
          78,
          79,
          80,
          81,
          82,
          83,
          84,
          85,
          86,
          87,
          88,
          89,
          90,
          91,
          92,
          93,
          94,
          95,
          96,
          97,
          98,
          99,
          100
         ],
         "y": [
          -0.002965121273882687,
          0.5344814777374267,
          0.5344814777374267,
          0.5344814777374267,
          0.768088448047638,
          0.768088448047638,
          0.768088448047638,
          0.8728316903114319,
          0.8728316903114319,
          0.8728316903114319,
          0.8728316903114319,
          0.8728316903114319,
          0.8728316903114319,
          0.8952014803886413,
          0.9308592319488526,
          0.9308592319488526,
          0.9308592319488526,
          0.9308592319488526,
          0.9308592319488526,
          0.9308592319488526,
          0.9308592319488526,
          0.9308592319488526,
          0.9308592319488526,
          0.9308592319488526,
          0.9308592319488526,
          0.9308592319488526,
          0.9318232893943786,
          0.9318232893943786,
          0.9318232893943786,
          0.9318232893943786,
          0.9318232893943786,
          0.9318232893943786,
          0.9318232893943786,
          0.9318232893943786,
          0.9318232893943786,
          0.9318232893943786,
          0.9318232893943786,
          0.9318232893943786,
          0.9318232893943786,
          0.9318232893943786,
          0.9318232893943786,
          0.9429897904396057,
          0.9429897904396057,
          0.9429897904396057,
          0.9429897904396057,
          0.9510938405990601,
          0.9510938405990601,
          0.9510938405990601,
          0.9510938405990601,
          0.9510938405990601,
          0.9510938405990601,
          0.9510938405990601,
          0.9510938405990601,
          0.9510938405990601,
          0.9510938405990601,
          0.9510938405990601,
          0.9510938405990601,
          0.9510938405990601,
          0.9510938405990601,
          0.9510938405990601,
          0.9510938405990601,
          0.9510938405990601,
          0.9510938405990601,
          0.9510938405990601,
          0.9510938405990601,
          0.9510938405990601,
          0.9510938405990601,
          0.9510938405990601,
          0.9510938405990601,
          0.9510938405990601,
          0.9510938405990601,
          0.9510938405990601,
          0.9510938405990601,
          0.9510938405990601,
          0.9510938405990601,
          0.9510938405990601,
          0.9510938405990601,
          0.9510938405990601,
          0.9510938405990601,
          0.9510938405990601,
          0.9510938405990601,
          0.9510938405990601,
          0.9510938405990601,
          0.9510938405990601,
          0.9510938405990601,
          0.9510938405990601,
          0.9510938405990601,
          0.9510938405990601,
          0.9510938405990601,
          0.9510938405990601,
          0.9510938405990601,
          0.9510938405990601,
          0.9510938405990601,
          0.9510938405990601,
          0.9510938405990601,
          0.9510938405990601,
          0.9510938405990601,
          0.9510938405990601,
          0.9510938405990601,
          0.9510938405990601,
          0.9510938405990601
         ]
        },
        {
         "marker": {
          "color": "#cccccc"
         },
         "mode": "markers",
         "name": "Infeasible Trial",
         "showlegend": false,
         "type": "scatter",
         "x": [],
         "y": []
        }
       ],
       "layout": {
        "template": {
         "data": {
          "bar": [
           {
            "error_x": {
             "color": "#2a3f5f"
            },
            "error_y": {
             "color": "#2a3f5f"
            },
            "marker": {
             "line": {
              "color": "#E5ECF6",
              "width": 0.5
             },
             "pattern": {
              "fillmode": "overlay",
              "size": 10,
              "solidity": 0.2
             }
            },
            "type": "bar"
           }
          ],
          "barpolar": [
           {
            "marker": {
             "line": {
              "color": "#E5ECF6",
              "width": 0.5
             },
             "pattern": {
              "fillmode": "overlay",
              "size": 10,
              "solidity": 0.2
             }
            },
            "type": "barpolar"
           }
          ],
          "carpet": [
           {
            "aaxis": {
             "endlinecolor": "#2a3f5f",
             "gridcolor": "white",
             "linecolor": "white",
             "minorgridcolor": "white",
             "startlinecolor": "#2a3f5f"
            },
            "baxis": {
             "endlinecolor": "#2a3f5f",
             "gridcolor": "white",
             "linecolor": "white",
             "minorgridcolor": "white",
             "startlinecolor": "#2a3f5f"
            },
            "type": "carpet"
           }
          ],
          "choropleth": [
           {
            "colorbar": {
             "outlinewidth": 0,
             "ticks": ""
            },
            "type": "choropleth"
           }
          ],
          "contour": [
           {
            "colorbar": {
             "outlinewidth": 0,
             "ticks": ""
            },
            "colorscale": [
             [
              0,
              "#0d0887"
             ],
             [
              0.1111111111111111,
              "#46039f"
             ],
             [
              0.2222222222222222,
              "#7201a8"
             ],
             [
              0.3333333333333333,
              "#9c179e"
             ],
             [
              0.4444444444444444,
              "#bd3786"
             ],
             [
              0.5555555555555556,
              "#d8576b"
             ],
             [
              0.6666666666666666,
              "#ed7953"
             ],
             [
              0.7777777777777778,
              "#fb9f3a"
             ],
             [
              0.8888888888888888,
              "#fdca26"
             ],
             [
              1,
              "#f0f921"
             ]
            ],
            "type": "contour"
           }
          ],
          "contourcarpet": [
           {
            "colorbar": {
             "outlinewidth": 0,
             "ticks": ""
            },
            "type": "contourcarpet"
           }
          ],
          "heatmap": [
           {
            "colorbar": {
             "outlinewidth": 0,
             "ticks": ""
            },
            "colorscale": [
             [
              0,
              "#0d0887"
             ],
             [
              0.1111111111111111,
              "#46039f"
             ],
             [
              0.2222222222222222,
              "#7201a8"
             ],
             [
              0.3333333333333333,
              "#9c179e"
             ],
             [
              0.4444444444444444,
              "#bd3786"
             ],
             [
              0.5555555555555556,
              "#d8576b"
             ],
             [
              0.6666666666666666,
              "#ed7953"
             ],
             [
              0.7777777777777778,
              "#fb9f3a"
             ],
             [
              0.8888888888888888,
              "#fdca26"
             ],
             [
              1,
              "#f0f921"
             ]
            ],
            "type": "heatmap"
           }
          ],
          "histogram": [
           {
            "marker": {
             "pattern": {
              "fillmode": "overlay",
              "size": 10,
              "solidity": 0.2
             }
            },
            "type": "histogram"
           }
          ],
          "histogram2d": [
           {
            "colorbar": {
             "outlinewidth": 0,
             "ticks": ""
            },
            "colorscale": [
             [
              0,
              "#0d0887"
             ],
             [
              0.1111111111111111,
              "#46039f"
             ],
             [
              0.2222222222222222,
              "#7201a8"
             ],
             [
              0.3333333333333333,
              "#9c179e"
             ],
             [
              0.4444444444444444,
              "#bd3786"
             ],
             [
              0.5555555555555556,
              "#d8576b"
             ],
             [
              0.6666666666666666,
              "#ed7953"
             ],
             [
              0.7777777777777778,
              "#fb9f3a"
             ],
             [
              0.8888888888888888,
              "#fdca26"
             ],
             [
              1,
              "#f0f921"
             ]
            ],
            "type": "histogram2d"
           }
          ],
          "histogram2dcontour": [
           {
            "colorbar": {
             "outlinewidth": 0,
             "ticks": ""
            },
            "colorscale": [
             [
              0,
              "#0d0887"
             ],
             [
              0.1111111111111111,
              "#46039f"
             ],
             [
              0.2222222222222222,
              "#7201a8"
             ],
             [
              0.3333333333333333,
              "#9c179e"
             ],
             [
              0.4444444444444444,
              "#bd3786"
             ],
             [
              0.5555555555555556,
              "#d8576b"
             ],
             [
              0.6666666666666666,
              "#ed7953"
             ],
             [
              0.7777777777777778,
              "#fb9f3a"
             ],
             [
              0.8888888888888888,
              "#fdca26"
             ],
             [
              1,
              "#f0f921"
             ]
            ],
            "type": "histogram2dcontour"
           }
          ],
          "mesh3d": [
           {
            "colorbar": {
             "outlinewidth": 0,
             "ticks": ""
            },
            "type": "mesh3d"
           }
          ],
          "parcoords": [
           {
            "line": {
             "colorbar": {
              "outlinewidth": 0,
              "ticks": ""
             }
            },
            "type": "parcoords"
           }
          ],
          "pie": [
           {
            "automargin": true,
            "type": "pie"
           }
          ],
          "scatter": [
           {
            "fillpattern": {
             "fillmode": "overlay",
             "size": 10,
             "solidity": 0.2
            },
            "type": "scatter"
           }
          ],
          "scatter3d": [
           {
            "line": {
             "colorbar": {
              "outlinewidth": 0,
              "ticks": ""
             }
            },
            "marker": {
             "colorbar": {
              "outlinewidth": 0,
              "ticks": ""
             }
            },
            "type": "scatter3d"
           }
          ],
          "scattercarpet": [
           {
            "marker": {
             "colorbar": {
              "outlinewidth": 0,
              "ticks": ""
             }
            },
            "type": "scattercarpet"
           }
          ],
          "scattergeo": [
           {
            "marker": {
             "colorbar": {
              "outlinewidth": 0,
              "ticks": ""
             }
            },
            "type": "scattergeo"
           }
          ],
          "scattergl": [
           {
            "marker": {
             "colorbar": {
              "outlinewidth": 0,
              "ticks": ""
             }
            },
            "type": "scattergl"
           }
          ],
          "scattermap": [
           {
            "marker": {
             "colorbar": {
              "outlinewidth": 0,
              "ticks": ""
             }
            },
            "type": "scattermap"
           }
          ],
          "scattermapbox": [
           {
            "marker": {
             "colorbar": {
              "outlinewidth": 0,
              "ticks": ""
             }
            },
            "type": "scattermapbox"
           }
          ],
          "scatterpolar": [
           {
            "marker": {
             "colorbar": {
              "outlinewidth": 0,
              "ticks": ""
             }
            },
            "type": "scatterpolar"
           }
          ],
          "scatterpolargl": [
           {
            "marker": {
             "colorbar": {
              "outlinewidth": 0,
              "ticks": ""
             }
            },
            "type": "scatterpolargl"
           }
          ],
          "scatterternary": [
           {
            "marker": {
             "colorbar": {
              "outlinewidth": 0,
              "ticks": ""
             }
            },
            "type": "scatterternary"
           }
          ],
          "surface": [
           {
            "colorbar": {
             "outlinewidth": 0,
             "ticks": ""
            },
            "colorscale": [
             [
              0,
              "#0d0887"
             ],
             [
              0.1111111111111111,
              "#46039f"
             ],
             [
              0.2222222222222222,
              "#7201a8"
             ],
             [
              0.3333333333333333,
              "#9c179e"
             ],
             [
              0.4444444444444444,
              "#bd3786"
             ],
             [
              0.5555555555555556,
              "#d8576b"
             ],
             [
              0.6666666666666666,
              "#ed7953"
             ],
             [
              0.7777777777777778,
              "#fb9f3a"
             ],
             [
              0.8888888888888888,
              "#fdca26"
             ],
             [
              1,
              "#f0f921"
             ]
            ],
            "type": "surface"
           }
          ],
          "table": [
           {
            "cells": {
             "fill": {
              "color": "#EBF0F8"
             },
             "line": {
              "color": "white"
             }
            },
            "header": {
             "fill": {
              "color": "#C8D4E3"
             },
             "line": {
              "color": "white"
             }
            },
            "type": "table"
           }
          ]
         },
         "layout": {
          "annotationdefaults": {
           "arrowcolor": "#2a3f5f",
           "arrowhead": 0,
           "arrowwidth": 1
          },
          "autotypenumbers": "strict",
          "coloraxis": {
           "colorbar": {
            "outlinewidth": 0,
            "ticks": ""
           }
          },
          "colorscale": {
           "diverging": [
            [
             0,
             "#8e0152"
            ],
            [
             0.1,
             "#c51b7d"
            ],
            [
             0.2,
             "#de77ae"
            ],
            [
             0.3,
             "#f1b6da"
            ],
            [
             0.4,
             "#fde0ef"
            ],
            [
             0.5,
             "#f7f7f7"
            ],
            [
             0.6,
             "#e6f5d0"
            ],
            [
             0.7,
             "#b8e186"
            ],
            [
             0.8,
             "#7fbc41"
            ],
            [
             0.9,
             "#4d9221"
            ],
            [
             1,
             "#276419"
            ]
           ],
           "sequential": [
            [
             0,
             "#0d0887"
            ],
            [
             0.1111111111111111,
             "#46039f"
            ],
            [
             0.2222222222222222,
             "#7201a8"
            ],
            [
             0.3333333333333333,
             "#9c179e"
            ],
            [
             0.4444444444444444,
             "#bd3786"
            ],
            [
             0.5555555555555556,
             "#d8576b"
            ],
            [
             0.6666666666666666,
             "#ed7953"
            ],
            [
             0.7777777777777778,
             "#fb9f3a"
            ],
            [
             0.8888888888888888,
             "#fdca26"
            ],
            [
             1,
             "#f0f921"
            ]
           ],
           "sequentialminus": [
            [
             0,
             "#0d0887"
            ],
            [
             0.1111111111111111,
             "#46039f"
            ],
            [
             0.2222222222222222,
             "#7201a8"
            ],
            [
             0.3333333333333333,
             "#9c179e"
            ],
            [
             0.4444444444444444,
             "#bd3786"
            ],
            [
             0.5555555555555556,
             "#d8576b"
            ],
            [
             0.6666666666666666,
             "#ed7953"
            ],
            [
             0.7777777777777778,
             "#fb9f3a"
            ],
            [
             0.8888888888888888,
             "#fdca26"
            ],
            [
             1,
             "#f0f921"
            ]
           ]
          },
          "colorway": [
           "#636efa",
           "#EF553B",
           "#00cc96",
           "#ab63fa",
           "#FFA15A",
           "#19d3f3",
           "#FF6692",
           "#B6E880",
           "#FF97FF",
           "#FECB52"
          ],
          "font": {
           "color": "#2a3f5f"
          },
          "geo": {
           "bgcolor": "white",
           "lakecolor": "white",
           "landcolor": "#E5ECF6",
           "showlakes": true,
           "showland": true,
           "subunitcolor": "white"
          },
          "hoverlabel": {
           "align": "left"
          },
          "hovermode": "closest",
          "mapbox": {
           "style": "light"
          },
          "paper_bgcolor": "white",
          "plot_bgcolor": "#E5ECF6",
          "polar": {
           "angularaxis": {
            "gridcolor": "white",
            "linecolor": "white",
            "ticks": ""
           },
           "bgcolor": "#E5ECF6",
           "radialaxis": {
            "gridcolor": "white",
            "linecolor": "white",
            "ticks": ""
           }
          },
          "scene": {
           "xaxis": {
            "backgroundcolor": "#E5ECF6",
            "gridcolor": "white",
            "gridwidth": 2,
            "linecolor": "white",
            "showbackground": true,
            "ticks": "",
            "zerolinecolor": "white"
           },
           "yaxis": {
            "backgroundcolor": "#E5ECF6",
            "gridcolor": "white",
            "gridwidth": 2,
            "linecolor": "white",
            "showbackground": true,
            "ticks": "",
            "zerolinecolor": "white"
           },
           "zaxis": {
            "backgroundcolor": "#E5ECF6",
            "gridcolor": "white",
            "gridwidth": 2,
            "linecolor": "white",
            "showbackground": true,
            "ticks": "",
            "zerolinecolor": "white"
           }
          },
          "shapedefaults": {
           "line": {
            "color": "#2a3f5f"
           }
          },
          "ternary": {
           "aaxis": {
            "gridcolor": "white",
            "linecolor": "white",
            "ticks": ""
           },
           "baxis": {
            "gridcolor": "white",
            "linecolor": "white",
            "ticks": ""
           },
           "bgcolor": "#E5ECF6",
           "caxis": {
            "gridcolor": "white",
            "linecolor": "white",
            "ticks": ""
           }
          },
          "title": {
           "x": 0.05
          },
          "xaxis": {
           "automargin": true,
           "gridcolor": "white",
           "linecolor": "white",
           "ticks": "",
           "title": {
            "standoff": 15
           },
           "zerolinecolor": "white",
           "zerolinewidth": 2
          },
          "yaxis": {
           "automargin": true,
           "gridcolor": "white",
           "linecolor": "white",
           "ticks": "",
           "title": {
            "standoff": 15
           },
           "zerolinecolor": "white",
           "zerolinewidth": 2
          }
         }
        },
        "title": {
         "text": "Optimization History Plot"
        },
        "xaxis": {
         "title": {
          "text": "Trial"
         }
        },
        "yaxis": {
         "title": {
          "text": "Objective Value"
         }
        }
       }
      }
     },
     "metadata": {},
     "output_type": "display_data"
    }
   ],
   "source": [
    "import optuna\n",
    "import sqlite3\n",
    "\n",
    "# study.db에서 study 이름 확인\n",
    "conn = sqlite3.connect('study.db')\n",
    "cursor = conn.cursor()\n",
    "\n",
    "# studies 테이블에서 study_name 조회\n",
    "cursor.execute(\"SELECT study_name FROM studies\")\n",
    "study_names = cursor.fetchall()\n",
    "\n",
    "print(\"Available studies:\")\n",
    "for name in study_names:\n",
    "    print(f\"- {name[0]}\")\n",
    "\n",
    "conn.close()\n",
    "\n",
    "# 확인된 study 이름으로 로드\n",
    "study = optuna.load_study(\n",
    "    study_name=\"optimization_study\",  # 위에서 확인된 이름을 입력\n",
    "    storage=\"sqlite:///study.db\"\n",
    ")\n",
    "\n",
    "# 최적화 히스토리 시각화\n",
    "optuna.visualization.plot_optimization_history(study)"
   ]
  },
  {
   "cell_type": "code",
   "execution_count": null,
   "metadata": {},
   "outputs": [],
   "source": [
    "\n"
   ]
  },
  {
   "cell_type": "code",
   "execution_count": null,
   "metadata": {},
   "outputs": [],
   "source": []
  },
  {
   "cell_type": "code",
   "execution_count": 36,
   "metadata": {},
   "outputs": [
    {
     "data": {
      "text/plain": [
       "tensor([[-0.8624,  0.8908, -0.2284,  ..., -0.9063, -0.5821, -0.7165],\n",
       "        [-0.6940,  0.8908, -0.2284,  ..., -0.6657, -0.1427, -0.2059],\n",
       "        [-1.4732, -0.2161, -0.2284,  ..., -0.6980, -0.4307, -0.1692],\n",
       "        ...,\n",
       "        [-0.8251, -1.3229, -0.2284,  ..., -0.4497, -0.6085, -0.5903],\n",
       "        [ 0.6169,  0.8908, -0.2284,  ...,  1.1754, -0.2422,  0.7441],\n",
       "        [-0.5728,  0.8908, -0.2284,  ..., -0.7751,  0.0939, -0.0619]],\n",
       "       device='cuda:0')"
      ]
     },
     "execution_count": 36,
     "metadata": {},
     "output_type": "execute_result"
    }
   ],
   "source": [
    "X_train"
   ]
  }
 ],
 "metadata": {
  "kernelspec": {
   "display_name": "NNenv",
   "language": "python",
   "name": "python3"
  },
  "language_info": {
   "codemirror_mode": {
    "name": "ipython",
    "version": 3
   },
   "file_extension": ".py",
   "mimetype": "text/x-python",
   "name": "python",
   "nbconvert_exporter": "python",
   "pygments_lexer": "ipython3",
   "version": "3.12.9"
  }
 },
 "nbformat": 4,
 "nbformat_minor": 2
}
