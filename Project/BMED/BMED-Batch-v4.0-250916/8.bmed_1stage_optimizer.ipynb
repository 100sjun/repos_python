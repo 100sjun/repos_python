{
 "cells": [
  {
   "cell_type": "code",
   "execution_count": 153,
   "id": "78f38071",
   "metadata": {},
   "outputs": [],
   "source": [
    "# import module libraries\n",
    "import torch\n",
    "from torch import nn\n",
    "import numpy as np\n",
    "import matplotlib.pyplot as plt\n",
    "from matplotlib.gridspec import GridSpec\n",
    "import pandas as pd\n",
    "import optuna\n",
    "from datetime import datetime\n",
    "import plotly.graph_objects as go\n",
    "from plotly.subplots import make_subplots"
   ]
  },
  {
   "cell_type": "code",
   "execution_count": 154,
   "id": "bc2a8ee0",
   "metadata": {},
   "outputs": [],
   "source": [
    "# LSTM with layer normalization\n",
    "class LayerNormLSTM(nn.Module):\n",
    "    def __init__(self, input_node, hidden_node):\n",
    "        super().__init__()\n",
    "        self.input_node = input_node\n",
    "        self.hidden_node = hidden_node\n",
    "\n",
    "        self.w_i = nn.Linear(input_node, 4*hidden_node, bias=False)\n",
    "        self.w_h = nn.Linear(hidden_node, 4*hidden_node, bias=False)\n",
    "\n",
    "        self.ln_i = nn.LayerNorm(hidden_node)\n",
    "        self.ln_f = nn.LayerNorm(hidden_node)\n",
    "        self.ln_w = nn.LayerNorm(hidden_node)\n",
    "        self.ln_o = nn.LayerNorm(hidden_node)\n",
    "        self.ln_c = nn.LayerNorm(hidden_node)\n",
    "\n",
    "    def forward(self, input, hidden):\n",
    "        h_prev, c_prev = hidden\n",
    "\n",
    "        gi = self.w_i(input)\n",
    "        gh = self.w_h(h_prev)\n",
    "        i_i, i_f, i_w, i_o = gi.chunk(4, dim=-1)\n",
    "        h_i, h_f, h_w, h_o = gh.chunk(4, dim=-1)\n",
    "\n",
    "        i_g = torch.sigmoid(self.ln_i(i_i + h_i))\n",
    "        f_g = torch.sigmoid(self.ln_f(i_f + h_f))\n",
    "        w_g = torch.tanh(self.ln_w(i_w + h_w))\n",
    "        o_g = torch.sigmoid(self.ln_o(i_o + h_o))\n",
    "        \n",
    "\n",
    "        c_new = f_g * c_prev + i_g * w_g\n",
    "        c_new = self.ln_c(c_new)\n",
    "\n",
    "        h_new = o_g * torch.tanh(c_new)\n",
    "\n",
    "        return h_new, c_new"
   ]
  },
  {
   "cell_type": "code",
   "execution_count": 155,
   "id": "0921e687",
   "metadata": {},
   "outputs": [],
   "source": [
    "# State feature extractor using LayerNorm LSTM\n",
    "class StateExtr(nn.Module):\n",
    "    def __init__(self, input_node, hidden_node, n_layer, dropout):\n",
    "        super().__init__()\n",
    "        self.hidden_node = hidden_node\n",
    "        self.n_layer = n_layer\n",
    "        self.input_node = input_node\n",
    "\n",
    "        self.lstm_cells = nn.ModuleList()\n",
    "        self.lstm_cells.append(LayerNormLSTM(input_node, hidden_node))\n",
    "\n",
    "        for i in range(n_layer - 1):\n",
    "            self.lstm_cells.append(LayerNormLSTM(hidden_node, hidden_node))\n",
    "\n",
    "        self.dropout = nn.Dropout(dropout)\n",
    "        self.layernorm = nn.LayerNorm(hidden_node)\n",
    "\n",
    "    def forward(self, x, seq_len):\n",
    "        batch_size, max_len, _ = x.size()\n",
    "        device = x.device\n",
    "\n",
    "        h_states = []\n",
    "        c_states = []\n",
    "\n",
    "        for _ in range(self.n_layer):\n",
    "            h_states.append(torch.zeros(batch_size, self.hidden_node, device=device))\n",
    "            c_states.append(torch.zeros(batch_size, self.hidden_node, device=device))\n",
    "\n",
    "        outputs = []\n",
    "        for t in range(max_len):\n",
    "            x_t = x[:, t, :]\n",
    "\n",
    "            layer_input = x_t # initialize layer input with input tensor\n",
    "            for layer_idx, lstm_cell in enumerate(self.lstm_cells):\n",
    "                h_new, c_new = lstm_cell(layer_input, (h_states[layer_idx], c_states[layer_idx]))\n",
    "                \n",
    "                h_states[layer_idx] = h_new\n",
    "                c_states[layer_idx] = c_new\n",
    "\n",
    "                if layer_idx < len(self.lstm_cells) - 1:\n",
    "                    layer_input = self.dropout(h_new)\n",
    "                else:\n",
    "                    layer_input = h_new\n",
    "\n",
    "            outputs.append(layer_input)\n",
    "\n",
    "        output_tensor = torch.stack(outputs, dim=1)\n",
    "        seq_len_cpu = seq_len.detach().cpu().long()\n",
    "        mask = torch.arange(max_len, device='cpu')[None, :] < seq_len_cpu[:, None]\n",
    "        mask = mask.float().to(device).unsqueeze(-1)\n",
    "\n",
    "        masked_output = output_tensor * mask\n",
    "        normed_output = self.layernorm(masked_output)\n",
    "        return self.dropout(normed_output)"
   ]
  },
  {
   "cell_type": "code",
   "execution_count": 156,
   "id": "843575d6",
   "metadata": {},
   "outputs": [],
   "source": [
    "# Physical change regressor\n",
    "class PhysRegr(nn.Module):\n",
    "    def __init__(self, input_node, output_node, n_layer, hidden_node, dropout):\n",
    "        super().__init__()\n",
    "\n",
    "        layers = []\n",
    "\n",
    "        layers.extend([\n",
    "            nn.Linear(input_node, hidden_node),\n",
    "            nn.LayerNorm(hidden_node),\n",
    "            nn.ReLU(),\n",
    "            nn.Dropout(dropout)\n",
    "        ])\n",
    "\n",
    "        for _ in range(n_layer - 1):\n",
    "            layers.extend([\n",
    "                nn.Linear(hidden_node, hidden_node),\n",
    "                nn.LayerNorm(hidden_node),\n",
    "                nn.ReLU(),\n",
    "                nn.Dropout(dropout)\n",
    "            ])\n",
    "        \n",
    "        layers.append(nn.Linear(hidden_node, output_node))\n",
    "\n",
    "        self.layers = nn.Sequential(*layers)\n",
    "\n",
    "    def forward(self, hidden_states):\n",
    "        return self.layers(hidden_states)"
   ]
  },
  {
   "cell_type": "code",
   "execution_count": 157,
   "id": "cf5c7df8",
   "metadata": {},
   "outputs": [],
   "source": [
    "# Current regressor\n",
    "class CurrRegr(nn.Module):\n",
    "    def __init__(self, input_node, hidden_node, n_layer, dropout):\n",
    "        super().__init__()\n",
    "\n",
    "        layers = []\n",
    "\n",
    "        layers.extend([\n",
    "            nn.Linear(input_node, hidden_node),\n",
    "            nn.LayerNorm(hidden_node),\n",
    "            nn.ReLU(),\n",
    "            nn.Dropout(dropout)\n",
    "        ])\n",
    "\n",
    "        for _ in range(n_layer - 1):\n",
    "            layers.extend([\n",
    "                nn.Linear(hidden_node, hidden_node),\n",
    "                nn.LayerNorm(hidden_node),\n",
    "                nn.ReLU(),\n",
    "                nn.Dropout(dropout)\n",
    "            ])\n",
    "        \n",
    "        layers.append(nn.Linear(hidden_node, 1))\n",
    "\n",
    "        self.layers = nn.Sequential(*layers)\n",
    "\n",
    "    def forward(self, hidden_states):\n",
    "        return self.layers(hidden_states)   "
   ]
  },
  {
   "cell_type": "code",
   "execution_count": 158,
   "id": "095dea1c",
   "metadata": {},
   "outputs": [],
   "source": [
    "# Physical Constraint Layer\n",
    "class PhysConstr(nn.Module):\n",
    "    def __init__(self, range_mm, curr_regr, eps=1e-2):\n",
    "        super().__init__()\n",
    "        \n",
    "        self.eps = eps\n",
    "        self.curr_regr = curr_regr\n",
    "        self.register_buffer('range_mm_tensor',self._range2tensor(range_mm))\n",
    "\n",
    "    def _range2tensor(self, range_mm):\n",
    "        feature_names = ['V', 'E', 'VF', 'VA', 'VB', 'CFLA', 'CALA', 'CFK', 'CBK', 'I']\n",
    "        ranges = torch.zeros(len(feature_names), 2)\n",
    "\n",
    "        for i, name in enumerate(feature_names):\n",
    "            ranges[i, 0] = range_mm[name]['min']\n",
    "            ranges[i, 1] = range_mm[name]['max']\n",
    "\n",
    "        return ranges\n",
    "\n",
    "    def _norm_tensor(self, data, feature_idx):\n",
    "        min_val = self.range_mm_tensor[feature_idx, 0]\n",
    "        max_val = self.range_mm_tensor[feature_idx, 1]\n",
    "        return (data - min_val) / (max_val - min_val)\n",
    "\n",
    "    def _denorm_tensor(self, norm_data, feature_idx):\n",
    "        min_val = self.range_mm_tensor[feature_idx, 0]\n",
    "        max_val = self.range_mm_tensor[feature_idx, 1]\n",
    "        return norm_data * (max_val - min_val) + min_val\n",
    "\n",
    "    def forward(self, phys_chng, cur_state, fin, initV):\n",
    "        V_idx, E_idx, VF_idx, VA_idx, VB_idx = 0, 1, 2, 3, 4\n",
    "        CFLA_idx, CALA_idx, CFK_idx, CBK_idx, I_idx = 5, 6, 7, 8, 9\n",
    "\n",
    "        VF = self._denorm_tensor(cur_state[..., 2:3], VF_idx)\n",
    "        VA = self._denorm_tensor(cur_state[..., 3:4], VA_idx)\n",
    "        VB = self._denorm_tensor(cur_state[..., 4:5], VB_idx)\n",
    "        CFLA = self._denorm_tensor(cur_state[..., 5:6], CFLA_idx)\n",
    "        CALA = self._denorm_tensor(cur_state[..., 6:7], CALA_idx)\n",
    "        CFK = self._denorm_tensor(cur_state[..., 7:8], CFK_idx)\n",
    "        CBK = self._denorm_tensor(cur_state[..., 8:9], CBK_idx)\n",
    "\n",
    "        ## Flow in parameters\n",
    "        FvF, FvA, FvB, CiLA, CiK = fin\n",
    "\n",
    "        VFi, VAi, VBi = initV\n",
    "\n",
    "        dVF_in, dVA_in, dVB_in = FvF, FvA, FvB\n",
    "        dNFLA_in, dNFK_in = FvF * CiLA, FvF * CiK\n",
    "\n",
    "        dVA = phys_chng[..., 0:1]\n",
    "        dVB = phys_chng[..., 1:2]\n",
    "        rratio = phys_chng[..., 2:3]\n",
    "        dNBK = phys_chng[..., 3:4]\n",
    "\n",
    "        ## physical boundary: dNALA <= dNBK\n",
    "        ratio = torch.sigmoid(rratio)\n",
    "        dNALA = ratio * dNBK\n",
    "\n",
    "        ## Mass Balance\n",
    "        NFLA = CFLA * VF\n",
    "        NALA = CALA * VA\n",
    "        NFK = CFK * VF\n",
    "        NBK = CBK * VB\n",
    "\n",
    "        ### conservation\n",
    "        dVA = torch.where(VF < dVA + dVB, torch.zeros_like(dVA), dVA)\n",
    "        dVB = torch.where(VF < dVA + dVB, torch.zeros_like(dVB), dVB)\n",
    "        dNALA = torch.where(NFLA < dNALA, torch.zeros_like(dNALA), dNALA)\n",
    "        dNBK = torch.where(NFK < dNBK, torch.zeros_like(dNBK), dNBK)\n",
    "\n",
    "        ### new states before discharge\n",
    "        nVF_bf = VF - dVA - dVB + dVF_in\n",
    "        nVA_bf = VA + dVA + dVA_in\n",
    "        nVB_bf = VB + dVB + dVB_in\n",
    "\n",
    "        nNFLA_bf = NFLA - dNALA + dNFLA_in\n",
    "        nNALA_bf = NALA + dNALA\n",
    "        nNFK_bf = NFK - dNBK + dNFK_in\n",
    "        nNBK_bf = NBK + dNBK\n",
    "\n",
    "        nCFLA = nNFLA_bf / nVF_bf\n",
    "        nCALA = nNALA_bf / nVA_bf\n",
    "        nCFK = nNFK_bf / nVF_bf\n",
    "        nCBK = nNBK_bf / nVB_bf\n",
    "\n",
    "        dVF_out = torch.clamp(nVF_bf - VFi, min=0.0)\n",
    "        dVA_out = torch.clamp(nVA_bf - VAi, min=0.0)\n",
    "        dVB_out = torch.clamp(nVB_bf - VBi, min=0.0)\n",
    "\n",
    "        nVF = nVF_bf - dVF_out\n",
    "        nVA = nVA_bf - dVA_out\n",
    "        nVB = nVB_bf - dVB_out\n",
    "        \n",
    "        dNFLA_out, dNFK_out = nCFLA*dVF_out, nCFK*dVF_out\n",
    "\n",
    "        dNALA_out = nCALA*dVA_out\n",
    "        dNBK_out = nCBK*dVB_out\n",
    "\n",
    "        ### Final new states\n",
    "        nNFLA = nNFLA_bf - dNFLA_out\n",
    "        nNALA = nNALA_bf - dNALA_out\n",
    "        nNFK = nNFK_bf - dNFK_out\n",
    "        nNBK = nNBK_bf - dNBK_out\n",
    "\n",
    "        V = cur_state[..., 0:1]\n",
    "        E = cur_state[..., 1:2]\n",
    "\n",
    "        nVF_norm = self._norm_tensor(nVF, VF_idx)\n",
    "        nVA_norm = self._norm_tensor(nVA, VA_idx)\n",
    "        nVB_norm = self._norm_tensor(nVB, VB_idx)\n",
    "        nCFLA_norm = self._norm_tensor(nCFLA, CFLA_idx)\n",
    "        nCALA_norm = self._norm_tensor(nCALA, CALA_idx)\n",
    "        nCFK_norm = self._norm_tensor(nCFK, CFK_idx)\n",
    "        nCBK_norm = self._norm_tensor(nCBK, CBK_idx)\n",
    "\n",
    "        temp_state = torch.cat([\n",
    "            V, E, nVF_norm, nVA_norm, nVB_norm, nCFLA_norm, nCALA_norm, nCFK_norm, nCBK_norm\n",
    "        ], dim=-1)\n",
    "\n",
    "        nI_pred = self.curr_regr(temp_state)\n",
    "        nI_real = self._denorm_tensor(nI_pred, I_idx)\n",
    "        nI_real = torch.clamp(nI_real, min=0.0)\n",
    "        nI_norm = self._norm_tensor(nI_real, I_idx)\n",
    "\n",
    "        next_state = torch.cat([\n",
    "            V, E, nVF_norm, nVA_norm, nVB_norm, nCFLA_norm, nCALA_norm, nCFK_norm, nCBK_norm, nI_norm\n",
    "        ], dim=-1)\n",
    "\n",
    "        ### discharge\n",
    "        discharge = {\n",
    "            'VF': dVF_out,\n",
    "            'VA': dVA_out,\n",
    "            'VB': dVB_out,\n",
    "            'NFLA': dNFLA_out,\n",
    "            'NALA': dNALA_out,\n",
    "            'NFK': dNFK_out,\n",
    "            'NBK': dNBK_out,\n",
    "            'CFLA': nCFLA,\n",
    "            'CALA': nCALA,\n",
    "            'CFK': nCFK,\n",
    "            'CBK': nCBK\n",
    "        }\n",
    "\n",
    "        return next_state, discharge"
   ]
  },
  {
   "cell_type": "code",
   "execution_count": 159,
   "id": "b30255df",
   "metadata": {},
   "outputs": [],
   "source": [
    "# BMED model\n",
    "class BMEDModel(nn.Module):\n",
    "    def __init__(self, state_extr_params, phys_regr_params, curr_regr_params, range_mm):\n",
    "        super().__init__()\n",
    "        self.state_extr = StateExtr(**state_extr_params)\n",
    "        self.phys_regr = PhysRegr(**phys_regr_params)\n",
    "        self.curr_regr = CurrRegr(**curr_regr_params)\n",
    "        self.phys_constr = PhysConstr(range_mm, self.curr_regr)\n",
    "\n",
    "        self._hidden_states = None\n",
    "        self._cell_states = None\n",
    "\n",
    "    def _reset_hidden_states(self, batch_size, device):\n",
    "        self._hidden_states = []\n",
    "        self._cell_states = []\n",
    "        for _ in range(self.state_extr.n_layer):\n",
    "            self._hidden_states.append(torch.zeros(batch_size, self.state_extr.hidden_node, device=device))\n",
    "            self._cell_states.append(torch.zeros(batch_size, self.state_extr.hidden_node, device=device))\n",
    "\n",
    "    def cont_sim(self, init_state, target_len, fin, initV):\n",
    "        batch_size = init_state.size(0)\n",
    "        feature_size = init_state.size(1)\n",
    "        device = init_state.device\n",
    "\n",
    "        self._reset_hidden_states(batch_size, device)\n",
    "\n",
    "        pred = torch.zeros(batch_size, target_len, feature_size, device=device)\n",
    "        discharge_record = []\n",
    "        cur_state = init_state.clone()\n",
    "\n",
    "        for t in range(target_len):\n",
    "            pred[:, t, :] = cur_state\n",
    "\n",
    "            if t < target_len - 1:\n",
    "                lstm_input = cur_state[:, :-1] # except current\n",
    "                hidden_output = self._lstm_single_step(lstm_input)\n",
    "\n",
    "                phys_chng = self.phys_regr(hidden_output.unsqueeze(1))\n",
    "                cur_state_expanded = cur_state.unsqueeze(1)\n",
    "\n",
    "                next_state, discharge = self.phys_constr(\n",
    "                    phys_chng, cur_state_expanded, fin, initV\n",
    "                )\n",
    "\n",
    "                cur_state = next_state.squeeze(1)\n",
    "                discharge_record.append(discharge)\n",
    "        return pred, discharge_record\n",
    "\n",
    "    def _lstm_single_step(self, x_t):\n",
    "        layer_input = x_t\n",
    "\n",
    "        for layer_idx, lstm_cell in enumerate(self.state_extr.lstm_cells):\n",
    "            h_new, c_new = lstm_cell(layer_input, (self._hidden_states[layer_idx], self._cell_states[layer_idx]))\n",
    "            \n",
    "            self._hidden_states[layer_idx] = h_new\n",
    "            self._cell_states[layer_idx] = c_new\n",
    "\n",
    "            if layer_idx < len(self.state_extr.lstm_cells) - 1:\n",
    "                layer_input = self.state_extr.dropout(h_new)\n",
    "            else:\n",
    "                layer_input = h_new # last layer output\n",
    "\n",
    "        normed_output = self.state_extr.layernorm(layer_input)\n",
    "        return self.state_extr.dropout(normed_output)\n",
    "\n",
    "    def forward(self, init_state, target_len, fin, initV):\n",
    "        return self.cont_sim(init_state, target_len, fin, initV)"
   ]
  },
  {
   "cell_type": "code",
   "execution_count": 160,
   "id": "d8d406e5",
   "metadata": {},
   "outputs": [],
   "source": [
    "# Utility functions\n",
    "\n",
    "## Normalize input data with the min-max normalization range of pre-trained model\n",
    "def normalize(inputs, range_mm):\n",
    "    features = ['V', 'E', 'VF', 'VA', 'VB', 'CFLA', 'CALA', 'CFK', 'CBK']\n",
    "    norm = []\n",
    "\n",
    "    for _, (name, value) in enumerate(zip(features, inputs)):\n",
    "        min_val = range_mm[name]['min']\n",
    "        max_val = range_mm[name]['max']\n",
    "        norm_val = (value - min_val) / (max_val - min_val)\n",
    "        norm.append(norm_val)\n",
    "    \n",
    "    return norm\n",
    "\n",
    "def denormalize(outputs, range_mm):\n",
    "    \"\"\"출력값들을 실제 물리적 값으로 변환\"\"\"\n",
    "    feature_names = ['V', 'E', 'VF', 'VA', 'VB', 'CFLA', 'CALA', 'CFK', 'CBK', 'I']\n",
    "    denormalized = np.zeros_like(outputs)\n",
    "    \n",
    "    for i, name in enumerate(feature_names):\n",
    "        if name in range_mm:\n",
    "            min_val = range_mm[name]['min']\n",
    "            max_val = range_mm[name]['max']\n",
    "            denormalized[:, :, i] = outputs[:, :, i] * (max_val - min_val) + min_val\n",
    "        else:\n",
    "            denormalized[:, :, i] = outputs[:, :, i]\n",
    "    \n",
    "    return denormalized"
   ]
  },
  {
   "cell_type": "code",
   "execution_count": 161,
   "id": "1e8242d7",
   "metadata": {},
   "outputs": [
    {
     "name": "stdout",
     "output_type": "stream",
     "text": [
      "Model: BMED_FR_250916.pth\n",
      "Device: cuda\n",
      "Load model parameters\n"
     ]
    }
   ],
   "source": [
    "# Load trained model\n",
    "model_path = 'BMED_FR_250916.pth'\n",
    "device = torch.device('cuda' if torch.cuda.is_available() else 'cpu')\n",
    "\n",
    "print(f'Model: {model_path}')\n",
    "print(f'Device: {device}')\n",
    "\n",
    "model = torch.load(model_path, map_location=device, weights_only=False)\n",
    "model_config = model['model_config']\n",
    "state_extr_params = model_config['state_extr_params']\n",
    "phys_regr_params = model_config['phys_regr_params']\n",
    "curr_regr_params = model_config['curr_regr_params']\n",
    "model_range_mm = model_config['range_mm']\n",
    "\n",
    "simulator = BMEDModel(\n",
    "    state_extr_params = state_extr_params,\n",
    "    phys_regr_params = phys_regr_params,\n",
    "    curr_regr_params = curr_regr_params,\n",
    "    range_mm = model_range_mm\n",
    ").to(device)\n",
    "\n",
    "simulator.load_state_dict(model['model_state_dict'])\n",
    "simulator.eval()\n",
    "\n",
    "print('Load model parameters')"
   ]
  },
  {
   "cell_type": "code",
   "execution_count": 162,
   "id": "15337925",
   "metadata": {},
   "outputs": [],
   "source": [
    "def objective(trial):\n",
    "    # maximize LA productivity\n",
    "    # experimental conditions\n",
    "    V = trial.suggest_float('Voltage',10, 35, step=2.5)\n",
    "    E = trial.suggest_float('Electrolyte',0.25, 1.0,step=0.05)\n",
    "    CFLA = trial.suggest_float('LA conc', 0.5, 3.0, step=0.5)\n",
    "    QF = trial.suggest_float('Flow rate', 2.5,10, step=0.5)\n",
    "\n",
    "    cond_init = [V, E, 0.7, 0.7, 0.7, CFLA, 0, CFLA*2, 0]\n",
    "    simulation_time = 3000\n",
    "\n",
    "    QF, QA, QB = QF, 10, 10\n",
    "    cond_flow = [QF*60/1000*0.25, QA*60/1000*0.25, QB*60/1000*0.25, CFLA, CFLA*2]\n",
    "\n",
    "    initV = [0.7, 0.7, 0.7]\n",
    "    norm_inputs = normalize(cond_init, model_range_mm)\n",
    "    \n",
    "    init_normI = 0.0\n",
    "    init_state_values = norm_inputs + [init_normI]\n",
    "    init_state_tensor = torch.tensor([init_state_values]).float().to(device)\n",
    "\n",
    "    with torch.no_grad():\n",
    "        pred, discharge_record = simulator(init_state_tensor, simulation_time, cond_flow, initV)\n",
    "\n",
    "    pred_norm = pred.cpu().numpy()\n",
    "    pred_real = denormalize(pred_norm, model_range_mm)\n",
    "\n",
    "    time_steps = np.arange(simulation_time)*0.25\n",
    "\n",
    "    sim_res = {\n",
    "        'time': time_steps,\n",
    "        'V': pred_real[0, :, 0],\n",
    "        'E': pred_real[0, :, 1], \n",
    "        'VF': pred_real[0, :, 2],\n",
    "        'VA': pred_real[0, :, 3],\n",
    "        'VB': pred_real[0, :, 4],\n",
    "        'CFLA': pred_real[0, :, 5],\n",
    "        'CALA': pred_real[0, :, 6],\n",
    "        'CFK': pred_real[0, :, 7],\n",
    "        'CBK': pred_real[0, :, 8],\n",
    "        'I': pred_real[0, :, 9]\n",
    "    }\n",
    "    \n",
    "    discharge_data = {\n",
    "        'time': time_steps[:-1],  # discharge는 simulation_time-1 개\n",
    "        'VF_out': [],\n",
    "        'VA_out': [],\n",
    "        'VB_out': [],\n",
    "        'CFLA_out': [],\n",
    "        'CALA_out': [],\n",
    "        'CFK_out': [],\n",
    "        'CBK_out': [],\n",
    "        'NFLA_out': [],\n",
    "        'NALA_out': [],\n",
    "        'NFK_out': [],\n",
    "        'NBK_out': []\n",
    "    }\n",
    "\n",
    "    ## Extract discharge results from the record variable\n",
    "    for discharge in discharge_record:\n",
    "        discharge_data['VF_out'].append(discharge['VF'].item()*0.25)\n",
    "        discharge_data['VA_out'].append(discharge['VA'].item()*0.25)\n",
    "        discharge_data['VB_out'].append(discharge['VB'].item()*0.25)\n",
    "        discharge_data['CFLA_out'].append(discharge['CFLA'].item())\n",
    "        discharge_data['CALA_out'].append(discharge['CALA'].item())\n",
    "        discharge_data['CFK_out'].append(discharge['CFK'].item())\n",
    "        discharge_data['CBK_out'].append(discharge['CBK'].item())\n",
    "        discharge_data['NFLA_out'].append(discharge['NFLA'].item()*0.25)\n",
    "        discharge_data['NALA_out'].append(discharge['NALA'].item()*0.25)\n",
    "        discharge_data['NFK_out'].append(discharge['NFK'].item()*0.25)\n",
    "        discharge_data['NBK_out'].append(discharge['NBK'].item()*0.25)\n",
    "\n",
    "    input_LA_rate = 0.25*(cond_flow[0] * cond_flow[3])  # mol/hr\n",
    "    recovery_efficiency = np.array(discharge_data['NALA_out']) / input_LA_rate * 100\n",
    "    #Performance calculation\n",
    "    I_st = sim_res['I'][1500:2500] # A = C/s\n",
    "    C_st = 3600*I_st # C/hr\n",
    "    CE_st = np.array(discharge_data['NALA_out'][1500:2500])*96485/10/C_st*100 # %\n",
    "    Fm_st = np.array(discharge_data['NALA_out'][1500:2500])*90.1 # g/hr\n",
    "    SEC_st = cond_init[0]*I_st/Fm_st # Wh/g = kWh/kg\n",
    "    t_st = 1000/Fm_st # hr/kg\n",
    "    E_pump = 0.0047*t_st # kWh/kg\n",
    "    VA_st = np.array(discharge_data['VA_out'][1500:2500]) # L/hr = kg/hr\n",
    "    E_dist = (VA_st *4.184*(100-25)*t_st + (VA_st - Fm_st/0.85/1000)*43.9*1000/18)/3600 # kWh/kg\n",
    "    RR_st = recovery_efficiency[1500:2500]\n",
    "    TotalE_st = SEC_st + E_pump + E_dist\n",
    "    \n",
    "\n",
    "    return np.mean(RR_st), np.mean(Fm_st), np.mean(TotalE_st)"
   ]
  },
  {
   "cell_type": "code",
   "execution_count": 163,
   "id": "0fd19894",
   "metadata": {},
   "outputs": [
    {
     "name": "stderr",
     "output_type": "stream",
     "text": [
      "[I 2025-09-18 00:32:58,221] Using an existing study with name 'bmed_1stage_optimization_LA productivity' instead of creating a new one.\n"
     ]
    },
    {
     "name": "stderr",
     "output_type": "stream",
     "text": [
      "[I 2025-09-18 00:33:11,319] Trial 1 finished with values: [89.01784517698816, 0.6767303498814347, 24.903551591005627] and parameters: {'Voltage': 25.0, 'Electrolyte': 0.6000000000000001, 'LA conc': 0.5, 'Flow rate': 4.5}.\n",
      "[I 2025-09-18 00:33:24,066] Trial 2 finished with values: [84.02081383900207, 0.7806846430859528, 27.94012026249466] and parameters: {'Voltage': 32.5, 'Electrolyte': 0.55, 'LA conc': 0.5, 'Flow rate': 5.5}.\n",
      "[I 2025-09-18 00:33:35,849] Trial 3 finished with values: [22.900569796562195, 1.934382505003363, 8.61216451503481] and parameters: {'Voltage': 10.0, 'Electrolyte': 1.0, 'LA conc': 2.5, 'Flow rate': 10.0}.\n",
      "[I 2025-09-18 00:33:49,144] Trial 4 finished with values: [82.83027681211631, 1.1194511911157516, 13.405243506546364] and parameters: {'Voltage': 15.0, 'Electrolyte': 0.3, 'LA conc': 0.5, 'Flow rate': 8.0}.\n",
      "[I 2025-09-18 00:34:02,818] Trial 5 finished with values: [5.406340600078944, 0.178100064699538, 64.97343284465408] and parameters: {'Voltage': 10.0, 'Electrolyte': 0.55, 'LA conc': 1.5, 'Flow rate': 6.5}.\n",
      "[I 2025-09-18 00:34:16,701] Trial 6 finished with values: [44.22272135416667, 1.8677189971923827, 13.097782878864018] and parameters: {'Voltage': 15.0, 'Electrolyte': 0.5, 'LA conc': 2.5, 'Flow rate': 5.0}.\n",
      "[I 2025-09-18 00:34:31,959] Trial 7 finished with values: [64.54222732120091, 0.6542161516845226, 24.788281368545444] and parameters: {'Voltage': 17.5, 'Electrolyte': 0.3, 'LA conc': 0.5, 'Flow rate': 6.0}.\n",
      "[I 2025-09-18 00:34:45,898] Trial 8 finished with values: [43.393321453578885, 3.078918882086874, 21.135786266883205] and parameters: {'Voltage': 32.5, 'Electrolyte': 0.25, 'LA conc': 3.0, 'Flow rate': 7.0}.\n",
      "[I 2025-09-18 00:34:59,590] Trial 9 finished with values: [31.726957634091377, 1.9295542459113522, 9.701005313644798] and parameters: {'Voltage': 12.5, 'Electrolyte': 0.9500000000000001, 'LA conc': 3.0, 'Flow rate': 6.0}.\n",
      "[I 2025-09-18 00:35:13,118] Trial 10 finished with values: [97.61505188828421, 2.8858974949659775, 6.437945054656853] and parameters: {'Voltage': 20.0, 'Electrolyte': 0.8, 'LA conc': 2.5, 'Flow rate': 3.5}.\n",
      "[I 2025-09-18 00:35:25,223] Trial 11 finished with values: [100.02426351441278, 1.267338676309958, 31.104767784174946] and parameters: {'Voltage': 22.5, 'Electrolyte': 0.8, 'LA conc': 1.5, 'Flow rate': 2.5}.\n",
      "[I 2025-09-18 00:35:38,499] Trial 12 finished with values: [96.9706926420331, 1.6381986388213463, 16.665106723790952] and parameters: {'Voltage': 27.5, 'Electrolyte': 0.8, 'LA conc': 2.0, 'Flow rate': 2.5}.\n",
      "[I 2025-09-18 00:35:52,698] Trial 13 finished with values: [86.77574377211316, 3.078532214835285, 6.439242337512925] and parameters: {'Voltage': 20.0, 'Electrolyte': 0.8500000000000001, 'LA conc': 3.0, 'Flow rate': 3.5}.\n",
      "[I 2025-09-18 00:36:06,963] Trial 14 finished with values: [91.20143453280131, 3.081468469277025, 6.482836112056349] and parameters: {'Voltage': 20.0, 'Electrolyte': 0.8, 'LA conc': 2.5, 'Flow rate': 4.0}.\n",
      "[I 2025-09-18 00:36:19,447] Trial 15 finished with values: [95.91805790861449, 2.592665105269849, 7.815011731237329] and parameters: {'Voltage': 20.0, 'Electrolyte': 0.7, 'LA conc': 2.0, 'Flow rate': 4.0}.\n",
      "[I 2025-09-18 00:36:31,929] Trial 16 finished with values: [97.6165690592357, 2.8859423487028106, 8.265035792153984] and parameters: {'Voltage': 27.5, 'Electrolyte': 0.7, 'LA conc': 2.5, 'Flow rate': 3.5}.\n",
      "[I 2025-09-18 00:36:45,046] Trial 17 finished with values: [99.04574837949542, 2.0079049340233204, 9.728829249523242] and parameters: {'Voltage': 22.5, 'Electrolyte': 0.9, 'LA conc': 2.0, 'Flow rate': 3.0}.\n",
      "[I 2025-09-18 00:36:58,714] Trial 18 finished with values: [49.950349052747086, 1.8986595959471537, 14.364569906920627] and parameters: {'Voltage': 17.5, 'Electrolyte': 0.7, 'LA conc': 2.5, 'Flow rate': 4.5}.\n",
      "[I 2025-09-18 00:37:11,879] Trial 19 finished with values: [85.45210363343358, 2.3097703612117093, 17.947712360763084] and parameters: {'Voltage': 27.5, 'Electrolyte': 0.45, 'LA conc': 1.0, 'Flow rate': 8.0}.\n",
      "[I 2025-09-18 00:37:24,666] Trial 20 finished with values: [91.1555786927541, 3.0799191150814305, 12.039766080069704] and parameters: {'Voltage': 35.0, 'Electrolyte': 0.75, 'LA conc': 2.5, 'Flow rate': 4.0}.\n",
      "[I 2025-09-18 00:37:37,970] Trial 21 finished with values: [92.61651031176251, 2.3469602566190066, 12.607434140224424] and parameters: {'Voltage': 20.0, 'Electrolyte': 1.0, 'LA conc': 1.5, 'Flow rate': 5.0}.\n",
      "[I 2025-09-18 00:37:51,851] Trial 22 finished with values: [99.0420324024227, 2.0078296018781137, 9.763016314111967] and parameters: {'Voltage': 22.5, 'Electrolyte': 0.8500000000000001, 'LA conc': 2.0, 'Flow rate': 3.0}.\n",
      "[I 2025-09-18 00:38:05,962] Trial 23 finished with values: [45.57150105635325, 3.079494183883071, 18.97814208769648] and parameters: {'Voltage': 25.0, 'Electrolyte': 0.9, 'LA conc': 2.0, 'Flow rate': 10.0}.\n",
      "[I 2025-09-18 00:38:20,972] Trial 24 finished with values: [86.41334512995348, 2.627721808720473, 8.209247523871294] and parameters: {'Voltage': 17.5, 'Electrolyte': 0.4, 'LA conc': 3.0, 'Flow rate': 3.0}.\n",
      "[I 2025-09-18 00:38:35,390] Trial 25 finished with values: [18.742989610742647, 1.4248772133141756, 15.97428874301576] and parameters: {'Voltage': 15.0, 'Electrolyte': 0.65, 'LA conc': 2.5, 'Flow rate': 9.0}.\n",
      "[I 2025-09-18 00:38:49,361] Trial 26 finished with values: [96.3438093662262, 1.1393257606364786, 20.07215449789071] and parameters: {'Voltage': 25.0, 'Electrolyte': 0.9, 'LA conc': 1.0, 'Flow rate': 3.5}.\n",
      "[I 2025-09-18 00:39:02,950] Trial 27 finished with values: [94.6660687526067, 2.8786768181808293, 7.2580686529537015] and parameters: {'Voltage': 20.0, 'Electrolyte': 0.8, 'LA conc': 2.0, 'Flow rate': 4.5}.\n",
      "[I 2025-09-18 00:39:17,269] Trial 28 finished with values: [40.50635109565876, 3.0793687597002837, 9.823789670368143] and parameters: {'Voltage': 22.5, 'Electrolyte': 0.65, 'LA conc': 3.0, 'Flow rate': 7.5}.\n",
      "[I 2025-09-18 00:39:29,715] Trial 29 finished with values: [75.65537099705803, 1.9171543856723232, 9.73348428147385] and parameters: {'Voltage': 12.5, 'Electrolyte': 0.9, 'LA conc': 2.5, 'Flow rate': 3.0}.\n",
      "[I 2025-09-18 00:39:42,277] Trial 30 finished with values: [92.86836644013722, 1.4120054689932613, 18.173047334089084] and parameters: {'Voltage': 25.0, 'Electrolyte': 0.6000000000000001, 'LA conc': 1.0, 'Flow rate': 4.5}.\n",
      "[I 2025-09-18 00:39:54,923] Trial 31 finished with values: [82.86521290287827, 3.0797892190515985, 16.670567665620947] and parameters: {'Voltage': 30.0, 'Electrolyte': 0.75, 'LA conc': 2.0, 'Flow rate': 5.5}.\n",
      "[I 2025-09-18 00:40:06,807] Trial 32 finished with values: [100.00903682576286, 1.267145749406423, 21.270933532479496] and parameters: {'Voltage': 17.5, 'Electrolyte': 0.8, 'LA conc': 1.5, 'Flow rate': 2.5}.\n",
      "[I 2025-09-18 00:40:18,542] Trial 33 finished with values: [91.21968348821004, 3.082085055857896, 5.851747531085328] and parameters: {'Voltage': 17.5, 'Electrolyte': 0.8500000000000001, 'LA conc': 2.5, 'Flow rate': 4.0}.\n",
      "[I 2025-09-18 00:40:30,538] Trial 34 finished with values: [92.40360106031099, 1.9513041692657862, 10.674570335521105] and parameters: {'Voltage': 17.5, 'Electrolyte': 0.9500000000000001, 'LA conc': 2.5, 'Flow rate': 2.5}.\n",
      "[I 2025-09-18 00:40:42,890] Trial 35 finished with values: [86.77513826461065, 3.078510733321309, 6.926946600065752] and parameters: {'Voltage': 22.5, 'Electrolyte': 0.9500000000000001, 'LA conc': 3.0, 'Flow rate': 3.5}.\n",
      "[I 2025-09-18 00:40:56,090] Trial 36 finished with values: [30.670303286928117, 1.42487519942224, 13.984524424347372] and parameters: {'Voltage': 12.5, 'Electrolyte': 0.55, 'LA conc': 2.5, 'Flow rate': 5.5}.\n",
      "[I 2025-09-18 00:41:09,242] Trial 37 finished with values: [50.641767404697575, 3.079905689135195, 8.884169097107348] and parameters: {'Voltage': 17.5, 'Electrolyte': 0.8500000000000001, 'LA conc': 2.0, 'Flow rate': 9.0}.\n",
      "[I 2025-09-18 00:41:21,914] Trial 38 finished with values: [92.62889901796977, 2.34727419417724, 7.894893761926142] and parameters: {'Voltage': 15.0, 'Electrolyte': 1.0, 'LA conc': 1.5, 'Flow rate': 5.0}.\n",
      "[I 2025-09-18 00:41:34,970] Trial 39 finished with values: [82.01052354314388, 0.9005524333695415, 14.053487854871328] and parameters: {'Voltage': 10.0, 'Electrolyte': 0.75, 'LA conc': 0.5, 'Flow rate': 6.5}.\n",
      "[I 2025-09-18 00:41:49,404] Trial 40 finished with values: [91.00394025720931, 2.767316068296414, 10.449554631093852] and parameters: {'Voltage': 30.0, 'Electrolyte': 0.6000000000000001, 'LA conc': 3.0, 'Flow rate': 3.0}.\n",
      "[I 2025-09-18 00:42:02,970] Trial 41 finished with values: [91.14235639572144, 3.079472366720438, 14.641391550244352] and parameters: {'Voltage': 35.0, 'Electrolyte': 0.35, 'LA conc': 2.5, 'Flow rate': 4.0}.\n",
      "[I 2025-09-18 00:42:17,550] Trial 42 finished with values: [97.61703386193228, 2.885956090158783, 5.923740023494229] and parameters: {'Voltage': 17.5, 'Electrolyte': 0.8500000000000001, 'LA conc': 2.5, 'Flow rate': 3.5}.\n",
      "[I 2025-09-18 00:42:31,821] Trial 43 finished with values: [100.0040774875217, 1.2670829130411148, 15.331555939244694] and parameters: {'Voltage': 12.5, 'Electrolyte': 0.9, 'LA conc': 1.5, 'Flow rate': 2.5}.\n",
      "[I 2025-09-18 00:42:45,782] Trial 44 finished with values: [50.660322109858186, 3.0810341399163, 7.173062210239667] and parameters: {'Voltage': 15.0, 'Electrolyte': 0.9, 'LA conc': 2.0, 'Flow rate': 9.0}.\n",
      "[I 2025-09-18 00:42:59,819] Trial 45 finished with values: [75.63944176170561, 1.9167507288927212, 9.234199286308078] and parameters: {'Voltage': 12.5, 'Electrolyte': 0.8500000000000001, 'LA conc': 3.0, 'Flow rate': 2.5}.\n",
      "[I 2025-09-18 00:43:13,156] Trial 46 finished with values: [93.93193003572064, 2.14226443310529, 10.292646751600744] and parameters: {'Voltage': 17.5, 'Electrolyte': 0.9500000000000001, 'LA conc': 1.5, 'Flow rate': 4.5}.\n",
      "[I 2025-09-18 00:43:25,758] Trial 47 finished with values: [87.0503388941288, 0.7353033313463441, 17.532099181301906] and parameters: {'Voltage': 10.0, 'Electrolyte': 0.8500000000000001, 'LA conc': 0.5, 'Flow rate': 5.0}.\n",
      "[I 2025-09-18 00:43:38,443] Trial 48 finished with values: [37.06256660487917, 1.8783772037435322, 12.125296573874431] and parameters: {'Voltage': 15.0, 'Electrolyte': 0.75, 'LA conc': 2.5, 'Flow rate': 6.0}.\n",
      "[I 2025-09-18 00:43:51,119] Trial 49 finished with values: [52.081829025631826, 3.0795008968561888, 8.831200125218233] and parameters: {'Voltage': 17.5, 'Electrolyte': 0.25, 'LA conc': 2.5, 'Flow rate': 7.0}.\n",
      "[W 2025-09-18 00:44:03,901] Trial 50 failed with parameters: {'Voltage': 12.5, 'Electrolyte': 0.9, 'LA conc': 2.0, 'Flow rate': 9.5} because of the following error: KeyboardInterrupt().\n",
      "Traceback (most recent call last):\n",
      "  File \"/home/sjbaek/miniforge3/envs/torchenv/lib/python3.11/site-packages/optuna/study/_optimize.py\", line 201, in _run_trial\n",
      "    value_or_values = func(trial)\n",
      "                      ^^^^^^^^^^^\n",
      "  File \"/tmp/ipykernel_13699/957157295.py\", line 62, in objective\n",
      "    discharge_data['VA_out'].append(discharge['VA'].item()*0.25)\n",
      "                                    ^^^^^^^^^^^^^^^^^^^^^^\n",
      "KeyboardInterrupt\n",
      "[W 2025-09-18 00:44:03,901] Trial 50 failed with value None.\n"
     ]
    },
    {
     "ename": "KeyboardInterrupt",
     "evalue": "",
     "output_type": "error",
     "traceback": [
      "\u001b[31m---------------------------------------------------------------------------\u001b[39m",
      "\u001b[31mKeyboardInterrupt\u001b[39m                         Traceback (most recent call last)",
      "\u001b[36mCell\u001b[39m\u001b[36m \u001b[39m\u001b[32mIn[163]\u001b[39m\u001b[32m, line 11\u001b[39m\n\u001b[32m      1\u001b[39m db_url = \u001b[33mf\u001b[39m\u001b[33m\"\u001b[39m\u001b[33msqlite:///bmed_1stage_optimization_LA productivity_\u001b[39m\u001b[38;5;132;01m{\u001b[39;00mtimestamp\u001b[38;5;132;01m}\u001b[39;00m\u001b[33m.db\u001b[39m\u001b[33m\"\u001b[39m\n\u001b[32m      3\u001b[39m study = optuna.create_study(\n\u001b[32m      4\u001b[39m     directions= [\u001b[33m'\u001b[39m\u001b[33mmaximize\u001b[39m\u001b[33m'\u001b[39m, \u001b[33m'\u001b[39m\u001b[33mmaximize\u001b[39m\u001b[33m'\u001b[39m, \u001b[33m'\u001b[39m\u001b[33mminimize\u001b[39m\u001b[33m'\u001b[39m],\n\u001b[32m      5\u001b[39m     study_name=\u001b[33m'\u001b[39m\u001b[33mbmed_1stage_optimization_LA productivity\u001b[39m\u001b[33m'\u001b[39m,\n\u001b[32m   (...)\u001b[39m\u001b[32m      8\u001b[39m     load_if_exists=\u001b[38;5;28;01mTrue\u001b[39;00m\n\u001b[32m      9\u001b[39m )\n\u001b[32m---> \u001b[39m\u001b[32m11\u001b[39m \u001b[43mstudy\u001b[49m\u001b[43m.\u001b[49m\u001b[43moptimize\u001b[49m\u001b[43m(\u001b[49m\u001b[43mobjective\u001b[49m\u001b[43m,\u001b[49m\u001b[43m \u001b[49m\u001b[43mn_trials\u001b[49m\u001b[43m=\u001b[49m\u001b[32;43m100\u001b[39;49m\u001b[43m)\u001b[49m\n",
      "\u001b[36mFile \u001b[39m\u001b[32m~/miniforge3/envs/torchenv/lib/python3.11/site-packages/optuna/study/study.py:489\u001b[39m, in \u001b[36mStudy.optimize\u001b[39m\u001b[34m(self, func, n_trials, timeout, n_jobs, catch, callbacks, gc_after_trial, show_progress_bar)\u001b[39m\n\u001b[32m    387\u001b[39m \u001b[38;5;28;01mdef\u001b[39;00m\u001b[38;5;250m \u001b[39m\u001b[34moptimize\u001b[39m(\n\u001b[32m    388\u001b[39m     \u001b[38;5;28mself\u001b[39m,\n\u001b[32m    389\u001b[39m     func: ObjectiveFuncType,\n\u001b[32m   (...)\u001b[39m\u001b[32m    396\u001b[39m     show_progress_bar: \u001b[38;5;28mbool\u001b[39m = \u001b[38;5;28;01mFalse\u001b[39;00m,\n\u001b[32m    397\u001b[39m ) -> \u001b[38;5;28;01mNone\u001b[39;00m:\n\u001b[32m    398\u001b[39m \u001b[38;5;250m    \u001b[39m\u001b[33;03m\"\"\"Optimize an objective function.\u001b[39;00m\n\u001b[32m    399\u001b[39m \n\u001b[32m    400\u001b[39m \u001b[33;03m    Optimization is done by choosing a suitable set of hyperparameter values from a given\u001b[39;00m\n\u001b[32m   (...)\u001b[39m\u001b[32m    487\u001b[39m \u001b[33;03m            If nested invocation of this method occurs.\u001b[39;00m\n\u001b[32m    488\u001b[39m \u001b[33;03m    \"\"\"\u001b[39;00m\n\u001b[32m--> \u001b[39m\u001b[32m489\u001b[39m     \u001b[43m_optimize\u001b[49m\u001b[43m(\u001b[49m\n\u001b[32m    490\u001b[39m \u001b[43m        \u001b[49m\u001b[43mstudy\u001b[49m\u001b[43m=\u001b[49m\u001b[38;5;28;43mself\u001b[39;49m\u001b[43m,\u001b[49m\n\u001b[32m    491\u001b[39m \u001b[43m        \u001b[49m\u001b[43mfunc\u001b[49m\u001b[43m=\u001b[49m\u001b[43mfunc\u001b[49m\u001b[43m,\u001b[49m\n\u001b[32m    492\u001b[39m \u001b[43m        \u001b[49m\u001b[43mn_trials\u001b[49m\u001b[43m=\u001b[49m\u001b[43mn_trials\u001b[49m\u001b[43m,\u001b[49m\n\u001b[32m    493\u001b[39m \u001b[43m        \u001b[49m\u001b[43mtimeout\u001b[49m\u001b[43m=\u001b[49m\u001b[43mtimeout\u001b[49m\u001b[43m,\u001b[49m\n\u001b[32m    494\u001b[39m \u001b[43m        \u001b[49m\u001b[43mn_jobs\u001b[49m\u001b[43m=\u001b[49m\u001b[43mn_jobs\u001b[49m\u001b[43m,\u001b[49m\n\u001b[32m    495\u001b[39m \u001b[43m        \u001b[49m\u001b[43mcatch\u001b[49m\u001b[43m=\u001b[49m\u001b[38;5;28;43mtuple\u001b[39;49m\u001b[43m(\u001b[49m\u001b[43mcatch\u001b[49m\u001b[43m)\u001b[49m\u001b[43m \u001b[49m\u001b[38;5;28;43;01mif\u001b[39;49;00m\u001b[43m \u001b[49m\u001b[38;5;28;43misinstance\u001b[39;49m\u001b[43m(\u001b[49m\u001b[43mcatch\u001b[49m\u001b[43m,\u001b[49m\u001b[43m \u001b[49m\u001b[43mIterable\u001b[49m\u001b[43m)\u001b[49m\u001b[43m \u001b[49m\u001b[38;5;28;43;01melse\u001b[39;49;00m\u001b[43m \u001b[49m\u001b[43m(\u001b[49m\u001b[43mcatch\u001b[49m\u001b[43m,\u001b[49m\u001b[43m)\u001b[49m\u001b[43m,\u001b[49m\n\u001b[32m    496\u001b[39m \u001b[43m        \u001b[49m\u001b[43mcallbacks\u001b[49m\u001b[43m=\u001b[49m\u001b[43mcallbacks\u001b[49m\u001b[43m,\u001b[49m\n\u001b[32m    497\u001b[39m \u001b[43m        \u001b[49m\u001b[43mgc_after_trial\u001b[49m\u001b[43m=\u001b[49m\u001b[43mgc_after_trial\u001b[49m\u001b[43m,\u001b[49m\n\u001b[32m    498\u001b[39m \u001b[43m        \u001b[49m\u001b[43mshow_progress_bar\u001b[49m\u001b[43m=\u001b[49m\u001b[43mshow_progress_bar\u001b[49m\u001b[43m,\u001b[49m\n\u001b[32m    499\u001b[39m \u001b[43m    \u001b[49m\u001b[43m)\u001b[49m\n",
      "\u001b[36mFile \u001b[39m\u001b[32m~/miniforge3/envs/torchenv/lib/python3.11/site-packages/optuna/study/_optimize.py:64\u001b[39m, in \u001b[36m_optimize\u001b[39m\u001b[34m(study, func, n_trials, timeout, n_jobs, catch, callbacks, gc_after_trial, show_progress_bar)\u001b[39m\n\u001b[32m     62\u001b[39m \u001b[38;5;28;01mtry\u001b[39;00m:\n\u001b[32m     63\u001b[39m     \u001b[38;5;28;01mif\u001b[39;00m n_jobs == \u001b[32m1\u001b[39m:\n\u001b[32m---> \u001b[39m\u001b[32m64\u001b[39m         \u001b[43m_optimize_sequential\u001b[49m\u001b[43m(\u001b[49m\n\u001b[32m     65\u001b[39m \u001b[43m            \u001b[49m\u001b[43mstudy\u001b[49m\u001b[43m,\u001b[49m\n\u001b[32m     66\u001b[39m \u001b[43m            \u001b[49m\u001b[43mfunc\u001b[49m\u001b[43m,\u001b[49m\n\u001b[32m     67\u001b[39m \u001b[43m            \u001b[49m\u001b[43mn_trials\u001b[49m\u001b[43m,\u001b[49m\n\u001b[32m     68\u001b[39m \u001b[43m            \u001b[49m\u001b[43mtimeout\u001b[49m\u001b[43m,\u001b[49m\n\u001b[32m     69\u001b[39m \u001b[43m            \u001b[49m\u001b[43mcatch\u001b[49m\u001b[43m,\u001b[49m\n\u001b[32m     70\u001b[39m \u001b[43m            \u001b[49m\u001b[43mcallbacks\u001b[49m\u001b[43m,\u001b[49m\n\u001b[32m     71\u001b[39m \u001b[43m            \u001b[49m\u001b[43mgc_after_trial\u001b[49m\u001b[43m,\u001b[49m\n\u001b[32m     72\u001b[39m \u001b[43m            \u001b[49m\u001b[43mreseed_sampler_rng\u001b[49m\u001b[43m=\u001b[49m\u001b[38;5;28;43;01mFalse\u001b[39;49;00m\u001b[43m,\u001b[49m\n\u001b[32m     73\u001b[39m \u001b[43m            \u001b[49m\u001b[43mtime_start\u001b[49m\u001b[43m=\u001b[49m\u001b[38;5;28;43;01mNone\u001b[39;49;00m\u001b[43m,\u001b[49m\n\u001b[32m     74\u001b[39m \u001b[43m            \u001b[49m\u001b[43mprogress_bar\u001b[49m\u001b[43m=\u001b[49m\u001b[43mprogress_bar\u001b[49m\u001b[43m,\u001b[49m\n\u001b[32m     75\u001b[39m \u001b[43m        \u001b[49m\u001b[43m)\u001b[49m\n\u001b[32m     76\u001b[39m     \u001b[38;5;28;01melse\u001b[39;00m:\n\u001b[32m     77\u001b[39m         \u001b[38;5;28;01mif\u001b[39;00m n_jobs == -\u001b[32m1\u001b[39m:\n",
      "\u001b[36mFile \u001b[39m\u001b[32m~/miniforge3/envs/torchenv/lib/python3.11/site-packages/optuna/study/_optimize.py:161\u001b[39m, in \u001b[36m_optimize_sequential\u001b[39m\u001b[34m(study, func, n_trials, timeout, catch, callbacks, gc_after_trial, reseed_sampler_rng, time_start, progress_bar)\u001b[39m\n\u001b[32m    158\u001b[39m         \u001b[38;5;28;01mbreak\u001b[39;00m\n\u001b[32m    160\u001b[39m \u001b[38;5;28;01mtry\u001b[39;00m:\n\u001b[32m--> \u001b[39m\u001b[32m161\u001b[39m     frozen_trial = \u001b[43m_run_trial\u001b[49m\u001b[43m(\u001b[49m\u001b[43mstudy\u001b[49m\u001b[43m,\u001b[49m\u001b[43m \u001b[49m\u001b[43mfunc\u001b[49m\u001b[43m,\u001b[49m\u001b[43m \u001b[49m\u001b[43mcatch\u001b[49m\u001b[43m)\u001b[49m\n\u001b[32m    162\u001b[39m \u001b[38;5;28;01mfinally\u001b[39;00m:\n\u001b[32m    163\u001b[39m     \u001b[38;5;66;03m# The following line mitigates memory problems that can be occurred in some\u001b[39;00m\n\u001b[32m    164\u001b[39m     \u001b[38;5;66;03m# environments (e.g., services that use computing containers such as GitHub Actions).\u001b[39;00m\n\u001b[32m    165\u001b[39m     \u001b[38;5;66;03m# Please refer to the following PR for further details:\u001b[39;00m\n\u001b[32m    166\u001b[39m     \u001b[38;5;66;03m# https://github.com/optuna/optuna/pull/325.\u001b[39;00m\n\u001b[32m    167\u001b[39m     \u001b[38;5;28;01mif\u001b[39;00m gc_after_trial:\n",
      "\u001b[36mFile \u001b[39m\u001b[32m~/miniforge3/envs/torchenv/lib/python3.11/site-packages/optuna/study/_optimize.py:253\u001b[39m, in \u001b[36m_run_trial\u001b[39m\u001b[34m(study, func, catch)\u001b[39m\n\u001b[32m    246\u001b[39m         \u001b[38;5;28;01massert\u001b[39;00m \u001b[38;5;28;01mFalse\u001b[39;00m, \u001b[33m\"\u001b[39m\u001b[33mShould not reach.\u001b[39m\u001b[33m\"\u001b[39m\n\u001b[32m    248\u001b[39m \u001b[38;5;28;01mif\u001b[39;00m (\n\u001b[32m    249\u001b[39m     frozen_trial.state == TrialState.FAIL\n\u001b[32m    250\u001b[39m     \u001b[38;5;129;01mand\u001b[39;00m func_err \u001b[38;5;129;01mis\u001b[39;00m \u001b[38;5;129;01mnot\u001b[39;00m \u001b[38;5;28;01mNone\u001b[39;00m\n\u001b[32m    251\u001b[39m     \u001b[38;5;129;01mand\u001b[39;00m \u001b[38;5;129;01mnot\u001b[39;00m \u001b[38;5;28misinstance\u001b[39m(func_err, catch)\n\u001b[32m    252\u001b[39m ):\n\u001b[32m--> \u001b[39m\u001b[32m253\u001b[39m     \u001b[38;5;28;01mraise\u001b[39;00m func_err\n\u001b[32m    254\u001b[39m \u001b[38;5;28;01mreturn\u001b[39;00m frozen_trial\n",
      "\u001b[36mFile \u001b[39m\u001b[32m~/miniforge3/envs/torchenv/lib/python3.11/site-packages/optuna/study/_optimize.py:201\u001b[39m, in \u001b[36m_run_trial\u001b[39m\u001b[34m(study, func, catch)\u001b[39m\n\u001b[32m    199\u001b[39m \u001b[38;5;28;01mwith\u001b[39;00m get_heartbeat_thread(trial._trial_id, study._storage):\n\u001b[32m    200\u001b[39m     \u001b[38;5;28;01mtry\u001b[39;00m:\n\u001b[32m--> \u001b[39m\u001b[32m201\u001b[39m         value_or_values = \u001b[43mfunc\u001b[49m\u001b[43m(\u001b[49m\u001b[43mtrial\u001b[49m\u001b[43m)\u001b[49m\n\u001b[32m    202\u001b[39m     \u001b[38;5;28;01mexcept\u001b[39;00m exceptions.TrialPruned \u001b[38;5;28;01mas\u001b[39;00m e:\n\u001b[32m    203\u001b[39m         \u001b[38;5;66;03m# TODO(mamu): Handle multi-objective cases.\u001b[39;00m\n\u001b[32m    204\u001b[39m         state = TrialState.PRUNED\n",
      "\u001b[36mCell\u001b[39m\u001b[36m \u001b[39m\u001b[32mIn[162]\u001b[39m\u001b[32m, line 62\u001b[39m, in \u001b[36mobjective\u001b[39m\u001b[34m(trial)\u001b[39m\n\u001b[32m     60\u001b[39m \u001b[38;5;28;01mfor\u001b[39;00m discharge \u001b[38;5;129;01min\u001b[39;00m discharge_record:\n\u001b[32m     61\u001b[39m     discharge_data[\u001b[33m'\u001b[39m\u001b[33mVF_out\u001b[39m\u001b[33m'\u001b[39m].append(discharge[\u001b[33m'\u001b[39m\u001b[33mVF\u001b[39m\u001b[33m'\u001b[39m].item()*\u001b[32m0.25\u001b[39m)\n\u001b[32m---> \u001b[39m\u001b[32m62\u001b[39m     discharge_data[\u001b[33m'\u001b[39m\u001b[33mVA_out\u001b[39m\u001b[33m'\u001b[39m].append(\u001b[43mdischarge\u001b[49m\u001b[43m[\u001b[49m\u001b[33;43m'\u001b[39;49m\u001b[33;43mVA\u001b[39;49m\u001b[33;43m'\u001b[39;49m\u001b[43m]\u001b[49m\u001b[43m.\u001b[49m\u001b[43mitem\u001b[49m\u001b[43m(\u001b[49m\u001b[43m)\u001b[49m*\u001b[32m0.25\u001b[39m)\n\u001b[32m     63\u001b[39m     discharge_data[\u001b[33m'\u001b[39m\u001b[33mVB_out\u001b[39m\u001b[33m'\u001b[39m].append(discharge[\u001b[33m'\u001b[39m\u001b[33mVB\u001b[39m\u001b[33m'\u001b[39m].item()*\u001b[32m0.25\u001b[39m)\n\u001b[32m     64\u001b[39m     discharge_data[\u001b[33m'\u001b[39m\u001b[33mCFLA_out\u001b[39m\u001b[33m'\u001b[39m].append(discharge[\u001b[33m'\u001b[39m\u001b[33mCFLA\u001b[39m\u001b[33m'\u001b[39m].item())\n",
      "\u001b[31mKeyboardInterrupt\u001b[39m: "
     ]
    }
   ],
   "source": [
    "\n",
    "db_url = f\"sqlite:///bmed_1stage_optimization_LA productivity_{timestamp}.db\"\n",
    "\n",
    "study = optuna.create_study(\n",
    "    directions= ['maximize', 'maximize', 'minimize'],\n",
    "    study_name='bmed_1stage_optimization_LA productivity',\n",
    "    sampler=optuna.samplers.TPESampler(),\n",
    "    storage=db_url,\n",
    "    load_if_exists=True\n",
    ")\n",
    "\n",
    "study.optimize(objective, n_trials=100)\n",
    "\n"
   ]
  },
  {
   "cell_type": "code",
   "execution_count": null,
   "id": "fd66919d",
   "metadata": {},
   "outputs": [
    {
     "name": "stdout",
     "output_type": "stream",
     "text": [
      "Best 조건 (가중합 기준):\n",
      "  Recovery Ratio: 101.21 %\n",
      "  Flux: 3.08 g/hr\n",
      "  Energy Efficiency: 5.33 kWh/kg\n",
      "  Parameters: {'Voltage': 15.0, 'Electrolyte': 0.25, 'LA conc': 3.0, 'Flow rate': 3.0}\n"
     ]
    },
    {
     "data": {
      "application/vnd.plotly.v1+json": {
       "config": {
        "plotlyServerURL": "https://plot.ly"
       },
       "data": [
        {
         "marker": {
          "color": {
           "bdata": "VVXVczhBQ0AJ7eVVnlpXQI/jaEWDRFVAjuM4pkA1TUAAAAD758lGQG9ubt6VdEVAE9pLyxy0VEBoLyF9Cs1WQKyqqv4dyUZAAQAgxcWlWEAUqPWE6Z5WQAEAEGKU61dASZKkbBNsWECaHxZqzJtXQA3DMOwsCkpAPs/zBMWyRUBKkqTmTG1YQKuqquSTCFdAGIZhg9iVVUA6juPIoWFOQNy2LRoIcFhARBddFG2SUEABAAC31AdXQKuqKoeqKFhArKqqSUTLVkAex3FW7/tSQKyqqvRsylZAqqrqeomzWEBCewnWyBAxQMZxHDnZEjNAHcdxsHZKP0D2EpoUmXRQQE022S1x51RAgjRIE73zOUBVVVV31/tSQOI4jh3ES1lAQnuJXmpPWUDKcRwA7zROQFVV1ZRFTllAVVXVlEVOWUBFURR5ox9JQI/juIb2+0JAOo7jqSbyU0BWVdWzYgJQQKqqasGIvkVAVVXNfdwxU0BrJbWF+/k/QDmO47h2slJAynEcAO80TkCTJElYQG9PQAAAAMFWOlJACwoK8iDeQUCO47grpXlUQEiSJObNOlhAVVUV3mztSUB8Ce05vd9QQAIAgHOH/UNAhPYS1sZNWUBVVVUbD0VLQI7jOPxj91hATezETnYLTEDUNE0bSapWQJbQXoIXUklAvoS2v+GQUEBNZzEt7fk/QFZV7VBC/FdAAQBw+4g0WECzl9B28k9JQHMcx3muTkhATWgv5GJPWUCUJImgnSxYQPLDItn931BAj+PYZmuWV0DoogutBi9KQHMcR75X/lhAOo7ji6BeTkCbpmmSGLFVQNu2bXe3vk1A27Ztd7e+TUCO4zjvRvBMQAAAQCQMfEhAm6ZpkhixVUBVVZW4lRhRQDqOY5s++1JA9hJaNzRNWUBWVW1je9dWQLq5uSnE8FBAYjqLiU/CMUBVVVVnUslGQLBIGZNiilNA7iW032s/REAqA09fQt9QQKVpmsa4sFVAx3GcCorEQ0CO4xij1n5FQDIMwwuXBFdAMAyDiE2VVUDETuwsUaA1QNOt+RkK4VBAVVVV1KjJVkA=",
           "dtype": "f8"
          },
          "colorscale": [
           [
            0,
            "#440154"
           ],
           [
            0.1111111111111111,
            "#482878"
           ],
           [
            0.2222222222222222,
            "#3e4989"
           ],
           [
            0.3333333333333333,
            "#31688e"
           ],
           [
            0.4444444444444444,
            "#26828e"
           ],
           [
            0.5555555555555556,
            "#1f9e89"
           ],
           [
            0.6666666666666666,
            "#35b779"
           ],
           [
            0.7777777777777778,
            "#6ece58"
           ],
           [
            0.8888888888888888,
            "#b5de2b"
           ],
           [
            1,
            "#fde725"
           ]
          ],
          "showscale": true,
          "size": 5
         },
         "mode": "markers",
         "type": "scatter3d",
         "x": {
          "bdata": "VVXVczhBQ0AJ7eVVnlpXQI/jaEWDRFVAjuM4pkA1TUAAAAD758lGQG9ubt6VdEVAE9pLyxy0VEBoLyF9Cs1WQKyqqv4dyUZAAQAgxcWlWEAUqPWE6Z5WQAEAEGKU61dASZKkbBNsWECaHxZqzJtXQA3DMOwsCkpAPs/zBMWyRUBKkqTmTG1YQKuqquSTCFdAGIZhg9iVVUA6juPIoWFOQNy2LRoIcFhARBddFG2SUEABAAC31AdXQKuqKoeqKFhArKqqSUTLVkAex3FW7/tSQKyqqvRsylZAqqrqeomzWEBCewnWyBAxQMZxHDnZEjNAHcdxsHZKP0D2EpoUmXRQQE022S1x51RAgjRIE73zOUBVVVV31/tSQOI4jh3ES1lAQnuJXmpPWUDKcRwA7zROQFVV1ZRFTllAVVXVlEVOWUBFURR5ox9JQI/juIb2+0JAOo7jqSbyU0BWVdWzYgJQQKqqasGIvkVAVVXNfdwxU0BrJbWF+/k/QDmO47h2slJAynEcAO80TkCTJElYQG9PQAAAAMFWOlJACwoK8iDeQUCO47grpXlUQEiSJObNOlhAVVUV3mztSUB8Ce05vd9QQAIAgHOH/UNAhPYS1sZNWUBVVVUbD0VLQI7jOPxj91hATezETnYLTEDUNE0bSapWQJbQXoIXUklAvoS2v+GQUEBNZzEt7fk/QFZV7VBC/FdAAQBw+4g0WECzl9B28k9JQHMcx3muTkhATWgv5GJPWUCUJImgnSxYQPLDItn931BAj+PYZmuWV0DoogutBi9KQHMcR75X/lhAOo7ji6BeTkCbpmmSGLFVQNu2bXe3vk1A27Ztd7e+TUCO4zjvRvBMQAAAQCQMfEhAm6ZpkhixVUBVVZW4lRhRQDqOY5s++1JA9hJaNzRNWUBWVW1je9dWQLq5uSnE8FBAYjqLiU/CMUBVVVVnUslGQLBIGZNiilNA7iW032s/REAqA09fQt9QQKVpmsa4sFVAx3GcCorEQ0CO4xij1n5FQDIMwwuXBFdAMAyDiE2VVUDETuwsUaA1QNOt+RkK4VBAVVVV1KjJVkA=",
          "dtype": "f8"
         },
         "y": {
          "bdata": "zcwsJXnR5D8L1wuRrLkGQOtRkLztl+s/KlyPA/dr/D/NzAyOnqMIQGVmpqy+pQhAZmaG9m4lBEDC9Xhn6C/mPwAAACvEoghA9igURiCm6j9SuPaNby0EQK5HEcSmsARAPgoHNNJ7AkAqXJcX0zoBQDIzMwqJoghAmpkZlRuiCEAAAHB0v3wCQHoUzuyIrQJAXI+iXC5WAEBlZma74aIIQDIza6PQfgJAMjMztACjCECG6wHm7awCQChcb2vcHvo/zcwMJRelCEAAAABVeaEIQGVm5lMupAhAmpkpdzQGAEDOzCxFLZvgP83MjPlmj+I/UrheWa9f+T8pXJfgMQMAQPYofL6T3Og/MjPztVvM9j8yMzNcWqEIQOtReD5wnQhAj8IFWf2gCEAehTvHon74P12PEnHgnwhAXY8SceCfCEBQuN79lIX8P2VmpqiCoQhAR+FK75MsAEAehXv+wvb5PzIzk38+Nvw/CteLIEua8D8yM3PQHKIIQKVwPdqvUv4/HoU7x6J++D+OwqUlGr39Pz0Kh5eOoghAAABA2ZKhCEDqUTA5c5rwP83MdLop7AZA4nrEnNTRAEAyM3N8LaEIQHoUBurNNQBAFa7HG2WfCEB7FNaftJUAQHoUDlPHPgRAZWZmXvqiCECF69FLGrv5PzIzMwuYowhAj8J9oLceAEApXE/DEaIIQHA9UhYUv/Q/uB6pmLEr2j9lZmbHgaEIQKRwXTB3owhA4Xo0EvagCEABAOi7ykvyPwAAQM+LoQhAMzMDr3ya/j+amWkACyT/P+F6vIdqRARARuHq9HGgCEBlZuYuNaAIQPYofHRX4gBA9ih8dFfiAEB6FA6l2Cj8P1K4DkwDefo/ZWbmLjWgCEB6FCZmxKIAQJqZ2QiUoAhAehR+b9aeCECZmWGI1sHjPzAzM10mI/8/AACAOB/N9j+amRnV/KIIQK1Hkc6Uhfw/MjPzxtqgCEAAAIAqeqAIQAAAAG7InwhAFK6fXJcHAEDNzLxJmuP7P1K4/nG/a+E/E64fLcVVAECamdkpOMz2PwAAgFsTowhAZWamRlqjCEA=",
          "dtype": "f8"
         },
         "z": {
          "bdata": "PltXq69fMkAuhrmDA9wdQFoGFSWJOjFAw6Qdm1+MKkAGMfumuhImQP7cRGhKCiBAthdbDwlOGUDOxXqQvqs/QFvMBWA4fzNAw1HTSUtKVkBeXfhKHB4xQBhGHAjiDx9Aco4Hf1ZWIkAYk5n7AD4qQEvxbXZ++jpAQrGXmWXNI0C5D7fvdb8jQPMC+jbH6h5AFq2XLXplMEAjWavmezkvQGrGyK8JYiJArlWALfiMKkBaFy6glS4jQGlR+b9XpCZAo/ON5H+sH0DScEmf5qsgQD5v3kwFdCNATw2u4BUpIkBK1QfQGMs2QKZhSn9AyzRA0EO16FLPKkAbN8HGg30qQMy5SeFpRDZAzr4W9UiAK0BD4pzSDv0ZQK71KNPuTRpA72vlNvLiGEA6bB/8v2grQBJA9CSDeBVAEkD0JIN4FUDUBBIQ6XclQP01k2SBUyBADVMnt0Q2IEBVQMuAAT8uQA5hp014ISZAS0A/eh66QUBwH/yyem03QGMWPVcGBypAOmwf/L9oK0A2cDAsFO8mQJDIlfK7VR1AThZqecl7IEBzCS7lIphBQAkkYkEFsBZAalXKqyBdIUCum/Zgj6oYQAjnBb5B4yBAKGoQoVtoIEAsuY50AY0nQNtati1ipBtA9tICdPgvJ0CV8mQUvIkoQGJzSxcAZxxAxnStPF6RH0DD/OORhVwwQILvtg7rqS5A3EJqguvCYkB7SSCMqOYgQNLaUzTd1BxAAJ6fYR75GkBKSMKCE+lEQPjlDwyRKyhAAKj0aeqlJUB9KzvzJKAuQKZJWxUR5iBAyO+pSZH7FkC0jQS6kE4UQOgj8E247x9A6CPwTbjvH0DWMX0rcQ8lQFo2T746+ihAtI0EupBOFEByuhPkPw4gQGvBZysX8hdAXaTH1UpVFUAqTl+fATs1QFchdJAgMyNAjnkYBPxZJkCPLUtqht8zQE2KvhnEZyZA7OflcRvCGEAefW6BQwYZQOruqIAr9BxAPjltyHpMJkCGDWgkofsiQGJZ0epCcTVAXltDIY4ZR0DwOrZyHQsnQCL+dtn3/TpA0ndtx9HJMEA=",
          "dtype": "f8"
         }
        }
       ],
       "layout": {
        "scene": {
         "xaxis": {
          "title": {
           "text": "Recovery Ratio (%)"
          }
         },
         "yaxis": {
          "title": {
           "text": "Flux (g/hr)"
          }
         },
         "zaxis": {
          "title": {
           "text": "Energy Efficiency (kWh/kg)"
          }
         }
        },
        "template": {
         "data": {
          "bar": [
           {
            "error_x": {
             "color": "#2a3f5f"
            },
            "error_y": {
             "color": "#2a3f5f"
            },
            "marker": {
             "line": {
              "color": "#E5ECF6",
              "width": 0.5
             },
             "pattern": {
              "fillmode": "overlay",
              "size": 10,
              "solidity": 0.2
             }
            },
            "type": "bar"
           }
          ],
          "barpolar": [
           {
            "marker": {
             "line": {
              "color": "#E5ECF6",
              "width": 0.5
             },
             "pattern": {
              "fillmode": "overlay",
              "size": 10,
              "solidity": 0.2
             }
            },
            "type": "barpolar"
           }
          ],
          "carpet": [
           {
            "aaxis": {
             "endlinecolor": "#2a3f5f",
             "gridcolor": "white",
             "linecolor": "white",
             "minorgridcolor": "white",
             "startlinecolor": "#2a3f5f"
            },
            "baxis": {
             "endlinecolor": "#2a3f5f",
             "gridcolor": "white",
             "linecolor": "white",
             "minorgridcolor": "white",
             "startlinecolor": "#2a3f5f"
            },
            "type": "carpet"
           }
          ],
          "choropleth": [
           {
            "colorbar": {
             "outlinewidth": 0,
             "ticks": ""
            },
            "type": "choropleth"
           }
          ],
          "contour": [
           {
            "colorbar": {
             "outlinewidth": 0,
             "ticks": ""
            },
            "colorscale": [
             [
              0,
              "#0d0887"
             ],
             [
              0.1111111111111111,
              "#46039f"
             ],
             [
              0.2222222222222222,
              "#7201a8"
             ],
             [
              0.3333333333333333,
              "#9c179e"
             ],
             [
              0.4444444444444444,
              "#bd3786"
             ],
             [
              0.5555555555555556,
              "#d8576b"
             ],
             [
              0.6666666666666666,
              "#ed7953"
             ],
             [
              0.7777777777777778,
              "#fb9f3a"
             ],
             [
              0.8888888888888888,
              "#fdca26"
             ],
             [
              1,
              "#f0f921"
             ]
            ],
            "type": "contour"
           }
          ],
          "contourcarpet": [
           {
            "colorbar": {
             "outlinewidth": 0,
             "ticks": ""
            },
            "type": "contourcarpet"
           }
          ],
          "heatmap": [
           {
            "colorbar": {
             "outlinewidth": 0,
             "ticks": ""
            },
            "colorscale": [
             [
              0,
              "#0d0887"
             ],
             [
              0.1111111111111111,
              "#46039f"
             ],
             [
              0.2222222222222222,
              "#7201a8"
             ],
             [
              0.3333333333333333,
              "#9c179e"
             ],
             [
              0.4444444444444444,
              "#bd3786"
             ],
             [
              0.5555555555555556,
              "#d8576b"
             ],
             [
              0.6666666666666666,
              "#ed7953"
             ],
             [
              0.7777777777777778,
              "#fb9f3a"
             ],
             [
              0.8888888888888888,
              "#fdca26"
             ],
             [
              1,
              "#f0f921"
             ]
            ],
            "type": "heatmap"
           }
          ],
          "histogram": [
           {
            "marker": {
             "pattern": {
              "fillmode": "overlay",
              "size": 10,
              "solidity": 0.2
             }
            },
            "type": "histogram"
           }
          ],
          "histogram2d": [
           {
            "colorbar": {
             "outlinewidth": 0,
             "ticks": ""
            },
            "colorscale": [
             [
              0,
              "#0d0887"
             ],
             [
              0.1111111111111111,
              "#46039f"
             ],
             [
              0.2222222222222222,
              "#7201a8"
             ],
             [
              0.3333333333333333,
              "#9c179e"
             ],
             [
              0.4444444444444444,
              "#bd3786"
             ],
             [
              0.5555555555555556,
              "#d8576b"
             ],
             [
              0.6666666666666666,
              "#ed7953"
             ],
             [
              0.7777777777777778,
              "#fb9f3a"
             ],
             [
              0.8888888888888888,
              "#fdca26"
             ],
             [
              1,
              "#f0f921"
             ]
            ],
            "type": "histogram2d"
           }
          ],
          "histogram2dcontour": [
           {
            "colorbar": {
             "outlinewidth": 0,
             "ticks": ""
            },
            "colorscale": [
             [
              0,
              "#0d0887"
             ],
             [
              0.1111111111111111,
              "#46039f"
             ],
             [
              0.2222222222222222,
              "#7201a8"
             ],
             [
              0.3333333333333333,
              "#9c179e"
             ],
             [
              0.4444444444444444,
              "#bd3786"
             ],
             [
              0.5555555555555556,
              "#d8576b"
             ],
             [
              0.6666666666666666,
              "#ed7953"
             ],
             [
              0.7777777777777778,
              "#fb9f3a"
             ],
             [
              0.8888888888888888,
              "#fdca26"
             ],
             [
              1,
              "#f0f921"
             ]
            ],
            "type": "histogram2dcontour"
           }
          ],
          "mesh3d": [
           {
            "colorbar": {
             "outlinewidth": 0,
             "ticks": ""
            },
            "type": "mesh3d"
           }
          ],
          "parcoords": [
           {
            "line": {
             "colorbar": {
              "outlinewidth": 0,
              "ticks": ""
             }
            },
            "type": "parcoords"
           }
          ],
          "pie": [
           {
            "automargin": true,
            "type": "pie"
           }
          ],
          "scatter": [
           {
            "fillpattern": {
             "fillmode": "overlay",
             "size": 10,
             "solidity": 0.2
            },
            "type": "scatter"
           }
          ],
          "scatter3d": [
           {
            "line": {
             "colorbar": {
              "outlinewidth": 0,
              "ticks": ""
             }
            },
            "marker": {
             "colorbar": {
              "outlinewidth": 0,
              "ticks": ""
             }
            },
            "type": "scatter3d"
           }
          ],
          "scattercarpet": [
           {
            "marker": {
             "colorbar": {
              "outlinewidth": 0,
              "ticks": ""
             }
            },
            "type": "scattercarpet"
           }
          ],
          "scattergeo": [
           {
            "marker": {
             "colorbar": {
              "outlinewidth": 0,
              "ticks": ""
             }
            },
            "type": "scattergeo"
           }
          ],
          "scattergl": [
           {
            "marker": {
             "colorbar": {
              "outlinewidth": 0,
              "ticks": ""
             }
            },
            "type": "scattergl"
           }
          ],
          "scattermap": [
           {
            "marker": {
             "colorbar": {
              "outlinewidth": 0,
              "ticks": ""
             }
            },
            "type": "scattermap"
           }
          ],
          "scattermapbox": [
           {
            "marker": {
             "colorbar": {
              "outlinewidth": 0,
              "ticks": ""
             }
            },
            "type": "scattermapbox"
           }
          ],
          "scatterpolar": [
           {
            "marker": {
             "colorbar": {
              "outlinewidth": 0,
              "ticks": ""
             }
            },
            "type": "scatterpolar"
           }
          ],
          "scatterpolargl": [
           {
            "marker": {
             "colorbar": {
              "outlinewidth": 0,
              "ticks": ""
             }
            },
            "type": "scatterpolargl"
           }
          ],
          "scatterternary": [
           {
            "marker": {
             "colorbar": {
              "outlinewidth": 0,
              "ticks": ""
             }
            },
            "type": "scatterternary"
           }
          ],
          "surface": [
           {
            "colorbar": {
             "outlinewidth": 0,
             "ticks": ""
            },
            "colorscale": [
             [
              0,
              "#0d0887"
             ],
             [
              0.1111111111111111,
              "#46039f"
             ],
             [
              0.2222222222222222,
              "#7201a8"
             ],
             [
              0.3333333333333333,
              "#9c179e"
             ],
             [
              0.4444444444444444,
              "#bd3786"
             ],
             [
              0.5555555555555556,
              "#d8576b"
             ],
             [
              0.6666666666666666,
              "#ed7953"
             ],
             [
              0.7777777777777778,
              "#fb9f3a"
             ],
             [
              0.8888888888888888,
              "#fdca26"
             ],
             [
              1,
              "#f0f921"
             ]
            ],
            "type": "surface"
           }
          ],
          "table": [
           {
            "cells": {
             "fill": {
              "color": "#EBF0F8"
             },
             "line": {
              "color": "white"
             }
            },
            "header": {
             "fill": {
              "color": "#C8D4E3"
             },
             "line": {
              "color": "white"
             }
            },
            "type": "table"
           }
          ]
         },
         "layout": {
          "annotationdefaults": {
           "arrowcolor": "#2a3f5f",
           "arrowhead": 0,
           "arrowwidth": 1
          },
          "autotypenumbers": "strict",
          "coloraxis": {
           "colorbar": {
            "outlinewidth": 0,
            "ticks": ""
           }
          },
          "colorscale": {
           "diverging": [
            [
             0,
             "#8e0152"
            ],
            [
             0.1,
             "#c51b7d"
            ],
            [
             0.2,
             "#de77ae"
            ],
            [
             0.3,
             "#f1b6da"
            ],
            [
             0.4,
             "#fde0ef"
            ],
            [
             0.5,
             "#f7f7f7"
            ],
            [
             0.6,
             "#e6f5d0"
            ],
            [
             0.7,
             "#b8e186"
            ],
            [
             0.8,
             "#7fbc41"
            ],
            [
             0.9,
             "#4d9221"
            ],
            [
             1,
             "#276419"
            ]
           ],
           "sequential": [
            [
             0,
             "#0d0887"
            ],
            [
             0.1111111111111111,
             "#46039f"
            ],
            [
             0.2222222222222222,
             "#7201a8"
            ],
            [
             0.3333333333333333,
             "#9c179e"
            ],
            [
             0.4444444444444444,
             "#bd3786"
            ],
            [
             0.5555555555555556,
             "#d8576b"
            ],
            [
             0.6666666666666666,
             "#ed7953"
            ],
            [
             0.7777777777777778,
             "#fb9f3a"
            ],
            [
             0.8888888888888888,
             "#fdca26"
            ],
            [
             1,
             "#f0f921"
            ]
           ],
           "sequentialminus": [
            [
             0,
             "#0d0887"
            ],
            [
             0.1111111111111111,
             "#46039f"
            ],
            [
             0.2222222222222222,
             "#7201a8"
            ],
            [
             0.3333333333333333,
             "#9c179e"
            ],
            [
             0.4444444444444444,
             "#bd3786"
            ],
            [
             0.5555555555555556,
             "#d8576b"
            ],
            [
             0.6666666666666666,
             "#ed7953"
            ],
            [
             0.7777777777777778,
             "#fb9f3a"
            ],
            [
             0.8888888888888888,
             "#fdca26"
            ],
            [
             1,
             "#f0f921"
            ]
           ]
          },
          "colorway": [
           "#636efa",
           "#EF553B",
           "#00cc96",
           "#ab63fa",
           "#FFA15A",
           "#19d3f3",
           "#FF6692",
           "#B6E880",
           "#FF97FF",
           "#FECB52"
          ],
          "font": {
           "color": "#2a3f5f"
          },
          "geo": {
           "bgcolor": "white",
           "lakecolor": "white",
           "landcolor": "#E5ECF6",
           "showlakes": true,
           "showland": true,
           "subunitcolor": "white"
          },
          "hoverlabel": {
           "align": "left"
          },
          "hovermode": "closest",
          "mapbox": {
           "style": "light"
          },
          "paper_bgcolor": "white",
          "plot_bgcolor": "#E5ECF6",
          "polar": {
           "angularaxis": {
            "gridcolor": "white",
            "linecolor": "white",
            "ticks": ""
           },
           "bgcolor": "#E5ECF6",
           "radialaxis": {
            "gridcolor": "white",
            "linecolor": "white",
            "ticks": ""
           }
          },
          "scene": {
           "xaxis": {
            "backgroundcolor": "#E5ECF6",
            "gridcolor": "white",
            "gridwidth": 2,
            "linecolor": "white",
            "showbackground": true,
            "ticks": "",
            "zerolinecolor": "white"
           },
           "yaxis": {
            "backgroundcolor": "#E5ECF6",
            "gridcolor": "white",
            "gridwidth": 2,
            "linecolor": "white",
            "showbackground": true,
            "ticks": "",
            "zerolinecolor": "white"
           },
           "zaxis": {
            "backgroundcolor": "#E5ECF6",
            "gridcolor": "white",
            "gridwidth": 2,
            "linecolor": "white",
            "showbackground": true,
            "ticks": "",
            "zerolinecolor": "white"
           }
          },
          "shapedefaults": {
           "line": {
            "color": "#2a3f5f"
           }
          },
          "ternary": {
           "aaxis": {
            "gridcolor": "white",
            "linecolor": "white",
            "ticks": ""
           },
           "baxis": {
            "gridcolor": "white",
            "linecolor": "white",
            "ticks": ""
           },
           "bgcolor": "#E5ECF6",
           "caxis": {
            "gridcolor": "white",
            "linecolor": "white",
            "ticks": ""
           }
          },
          "title": {
           "x": 0.05
          },
          "xaxis": {
           "automargin": true,
           "gridcolor": "white",
           "linecolor": "white",
           "ticks": "",
           "title": {
            "standoff": 15
           },
           "zerolinecolor": "white",
           "zerolinewidth": 2
          },
          "yaxis": {
           "automargin": true,
           "gridcolor": "white",
           "linecolor": "white",
           "ticks": "",
           "title": {
            "standoff": 15
           },
           "zerolinecolor": "white",
           "zerolinewidth": 2
          }
         }
        },
        "title": {
         "text": "Pareto Front Analysis"
        }
       }
      }
     },
     "metadata": {},
     "output_type": "display_data"
    }
   ],
   "source": [
    "def analyze_pareto_front(study):\n",
    "    \"\"\"Pareto front 분석 및 시각화 및 best 조건 출력\"\"\"\n",
    "    trials = study.trials\n",
    "\n",
    "    # 목적함수 값 추출 및 best trial 찾기\n",
    "    objectives = []\n",
    "    best_idx = None\n",
    "    best_score = None\n",
    "\n",
    "    for idx, trial in enumerate(trials):\n",
    "        if trial.state == optuna.trial.TrialState.COMPLETE:\n",
    "            objectives.append(trial.values)\n",
    "            # best 조건: Recovery Ratio, Flux 최대, Energy Efficiency 최소\n",
    "            # 간단히 weighted sum으로 best trial 선정 (가중치는 임의, 필요시 조정)\n",
    "            score = trial.values[0] + trial.values[1] - trial.values[2]\n",
    "            if (best_score is None) or (score > best_score):\n",
    "                best_score = score\n",
    "                best_idx = idx\n",
    "\n",
    "    objectives = np.array(objectives)\n",
    "\n",
    "    # 3D scatter plot으로 Pareto front 시각화\n",
    "    fig = go.Figure(data=go.Scatter3d(\n",
    "        x=objectives[:, 0],  # RR_st\n",
    "        y=objectives[:, 1],  # Fm_st \n",
    "        z=objectives[:, 2],  # TotalE_st\n",
    "        mode='markers',\n",
    "        marker=dict(\n",
    "            size=5,\n",
    "            color=objectives[:, 0],  # Recovery Ratio로 색상 구분\n",
    "            colorscale='Viridis',\n",
    "            showscale=True\n",
    "        )\n",
    "    ))\n",
    "\n",
    "    fig.update_layout(\n",
    "        title='Pareto Front Analysis',\n",
    "        scene=dict(\n",
    "            xaxis_title='Recovery Ratio (%)',\n",
    "            yaxis_title='Flux (g/hr)',\n",
    "            zaxis_title='Energy Efficiency (kWh/kg)'\n",
    "        )\n",
    "    )\n",
    "\n",
    "    # best 조건 출력\n",
    "    if best_idx is not None:\n",
    "        # best_idx는 전체 trials 기준이므로, COMPLETE trial만 추출한 objectives와 인덱스가 다를 수 있음\n",
    "        # 따라서 best trial을 직접 찾음\n",
    "        best_trial = None\n",
    "        best_score = None\n",
    "        for trial in trials:\n",
    "            if trial.state == optuna.trial.TrialState.COMPLETE:\n",
    "                score = trial.values[0] + trial.values[1] - trial.values[2]\n",
    "                if (best_score is None) or (score > best_score):\n",
    "                    best_score = score\n",
    "                    best_trial = trial\n",
    "        print(\"Best 조건 (가중합 기준):\")\n",
    "        print(f\"  Recovery Ratio: {best_trial.values[0]:.2f} %\")\n",
    "        print(f\"  Flux: {best_trial.values[1]:.2f} g/hr\")\n",
    "        print(f\"  Energy Efficiency: {best_trial.values[2]:.2f} kWh/kg\")\n",
    "        print(\"  Parameters:\", best_trial.params)\n",
    "\n",
    "    return fig\n",
    "\n",
    "# 결과 분석\n",
    "fig = analyze_pareto_front(study)\n",
    "fig.show()"
   ]
  }
 ],
 "metadata": {
  "kernelspec": {
   "display_name": "torchenv",
   "language": "python",
   "name": "python3"
  },
  "language_info": {
   "codemirror_mode": {
    "name": "ipython",
    "version": 3
   },
   "file_extension": ".py",
   "mimetype": "text/x-python",
   "name": "python",
   "nbconvert_exporter": "python",
   "pygments_lexer": "ipython3",
   "version": "3.11.13"
  }
 },
 "nbformat": 4,
 "nbformat_minor": 5
}
