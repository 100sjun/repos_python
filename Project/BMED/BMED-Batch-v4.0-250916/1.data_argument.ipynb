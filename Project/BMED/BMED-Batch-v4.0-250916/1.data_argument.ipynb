{
 "cells": [
  {
   "cell_type": "code",
   "execution_count": 4,
   "id": "937bfa2f",
   "metadata": {},
   "outputs": [],
   "source": [
    "import pandas as pd\n",
    "from scipy.interpolate import PchipInterpolator\n",
    "import numpy as np"
   ]
  },
  {
   "cell_type": "code",
   "execution_count": 5,
   "id": "cf84b797",
   "metadata": {},
   "outputs": [],
   "source": [
    "df = pd.read_csv('BMED_DATA.csv')\n",
    "\n",
    "df_ag = pd.DataFrame()\n",
    "\n",
    "# exp 값을 0부터 시작해서 실험별로 연속적으로 증가하도록 매핑\n",
    "unique_exps = sorted(df['exp'].unique())\n",
    "exp_map = {old_exp: new_exp for new_exp, old_exp in enumerate(unique_exps)}\n",
    "\n",
    "for exp_num in unique_exps:\n",
    "    exp_data = df[df['exp'] == exp_num]\n",
    "\n",
    "    # For each experiment, generate new time points at 0.25 intervals up to the end time.\n",
    "    new_times = np.arange(0, exp_data['time'].max() + 0.25, 0.25)\n",
    "\n",
    "    # The columns to be interpolated\n",
    "    columns_to_interpolate = ['VF', 'VA', 'VB', 'CFLA', 'CALA', 'CFK','CBK', 'I']\n",
    "\n",
    "    # exp 값을 0부터 시작해서 연속적으로 증가하도록 저장\n",
    "    temp_df = pd.DataFrame({\n",
    "        'exp': exp_map[exp_num],\n",
    "        'V': exp_data['V'].iloc[0],\n",
    "        'E': exp_data['E'].iloc[0],\n",
    "        't': new_times\n",
    "    })\n",
    "\n",
    "    # apply the monotonic cubic interpolation for each column\n",
    "    for col in columns_to_interpolate:\n",
    "        interpolator = PchipInterpolator(exp_data['time'], exp_data[col])\n",
    "        temp_df[col] = interpolator(new_times)\n",
    "    \n",
    "    # add the results to main dataframe\n",
    "    if df_ag.empty:\n",
    "        df_ag = temp_df\n",
    "    else:\n",
    "        df_ag = pd.concat([df_ag, temp_df], ignore_index=True)"
   ]
  },
  {
   "cell_type": "code",
   "execution_count": 6,
   "id": "53c0dd03",
   "metadata": {},
   "outputs": [],
   "source": [
    "# save CSV file\n",
    "df_ag.to_csv('BMED_DATA_AG.csv', index=False)"
   ]
  },
  {
   "cell_type": "code",
   "execution_count": null,
   "id": "c6ab507b",
   "metadata": {},
   "outputs": [],
   "source": []
  }
 ],
 "metadata": {
  "kernelspec": {
   "display_name": "torchenv",
   "language": "python",
   "name": "python3"
  },
  "language_info": {
   "codemirror_mode": {
    "name": "ipython",
    "version": 3
   },
   "file_extension": ".py",
   "mimetype": "text/x-python",
   "name": "python",
   "nbconvert_exporter": "python",
   "pygments_lexer": "ipython3",
   "version": "3.11.13"
  }
 },
 "nbformat": 4,
 "nbformat_minor": 5
}
