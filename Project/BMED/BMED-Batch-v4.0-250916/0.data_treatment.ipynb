{
 "cells": [
  {
   "cell_type": "code",
   "execution_count": 21,
   "id": "431373cf",
   "metadata": {},
   "outputs": [],
   "source": [
    "# import libraries\n",
    "import pandas as pd\n",
    "import matplotlib.pyplot as plt"
   ]
  },
  {
   "cell_type": "code",
   "execution_count": 22,
   "id": "f01c7b22",
   "metadata": {},
   "outputs": [],
   "source": [
    "# data treatment\n",
    "df = pd.read_csv('BMED_RAW_DATA.csv')\n",
    "df = df.drop(['Temp_F [C]', 'Temp_A [C]', 'Temp_B [C]', 'pH_F', 'pH_A', 'pH_B'], axis=1)\n",
    "df = df.dropna().reset_index(drop=True)\n",
    "minLA = df[['CF_LA [M]','CA_LA [M]']].min().min()\n",
    "minK = df[['CF_K [M]', 'CB_K [M]']].min().min()"
   ]
  },
  {
   "cell_type": "code",
   "execution_count": 23,
   "id": "1ed4e9e5",
   "metadata": {},
   "outputs": [],
   "source": [
    "# dataframe generation\n",
    "idx = df['exp'].unique().tolist()\n",
    "rdf = pd.DataFrame(columns=['V','E','t','CFLA','CALA','CFK','CBK','SEC','I','exp'])"
   ]
  },
  {
   "cell_type": "code",
   "execution_count": 24,
   "id": "69b8f8c3",
   "metadata": {},
   "outputs": [
    {
     "name": "stderr",
     "output_type": "stream",
     "text": [
      "/tmp/ipykernel_2172/1999487822.py:50: FutureWarning: The behavior of DataFrame concatenation with empty or all-NA entries is deprecated. In a future version, this will no longer exclude empty or all-NA columns when determining the result dtypes. To retain the old behavior, exclude the relevant entries before the concat operation.\n",
      "  rdf = pd.concat([rdf, sdf_s], ignore_index=True)\n"
     ]
    }
   ],
   "source": [
    "i_num = [26, 27, 2, 25, 18, 5, 34, 6, 44, 17, 31, 28, 41, 40, 42]\n",
    "\n",
    "for i in i_num:\n",
    "    sdf = df[df['exp']==i][['exp','Voltage [V]','Electrolyte [M]','Time [hr]','Ci_LA [M]','Ci_K [M]','CF_LA [M]','CA_LA [M]','CF_K [M]','CB_K [M]','VF_Tank [L]','VA_Tank [L]','VB_Tank [L]','VF_Line [L]','VA_Line [L]','VB_Line [L]','Current [A]']]\n",
    "\n",
    "    cal = pd.DataFrame()\n",
    "    cal['time'] = sdf['Time [hr]']\n",
    "    cal['VF'] = sdf['VF_Tank [L]'] + sdf['VF_Line [L]']\n",
    "    cal['VA'] = sdf['VA_Tank [L]'] + sdf['VA_Line [L]']\n",
    "    cal['VB'] = sdf['VB_Tank [L]'] + sdf['VB_Line [L]']\n",
    "    cal['TVi'] = cal['VF'] + cal['VA'] + cal['VB']\n",
    "    cal['VFm'] = cal['VF'] * cal['TVi'].iloc[0] / cal['TVi']\n",
    "    cal['VAm'] = cal['VA'] * cal['TVi'].iloc[0] / cal['TVi']\n",
    "    cal['VBm'] = cal['VB'] * cal['TVi'].iloc[0] / cal['TVi']\n",
    "    cal['TVm'] = cal['VFm'] + cal['VAm'] + cal['VBm']\n",
    "\n",
    "    cal['CFi_LA'] = sdf['CF_LA [M]'] - minLA\n",
    "    cal['CAi_LA'] = sdf['CA_LA [M]'] - minLA\n",
    "\n",
    "    cal['NFi_LA'] = cal['CFi_LA'] * cal['VFm']\n",
    "    cal['NAi_LA'] = cal['CAi_LA'] * cal['VAm']\n",
    "    cal['TNi_LA'] = cal['NFi_LA'] + cal['NAi_LA']\n",
    "    cal['NFm_LA'] = cal['NFi_LA'] * cal['TNi_LA'].iloc[0] / cal['TNi_LA']\n",
    "    cal['NAm_LA'] = cal['NAi_LA'] * cal['TNi_LA'].iloc[0] / cal['TNi_LA']\n",
    "    cal['TNm_LA'] = cal['NFm_LA'] + cal['NAm_LA']\n",
    "\n",
    "    cal['CFi_K'] = sdf['CF_K [M]'] - minK\n",
    "    cal['CBi_K'] = sdf['CB_K [M]'] - minK\n",
    "\n",
    "    cal['NFi_K'] = cal['CFi_K'] * cal['VFm']\n",
    "    cal['NBi_K'] = cal['CBi_K'] * cal['VBm']\n",
    "    cal['TNi_K'] = cal['NFi_K'] + cal['NBi_K']\n",
    "    cal['NFm_K'] = cal['NFi_K'] * cal['TNi_K'].iloc[0] / cal['TNi_K']\n",
    "    cal['NBm_K'] = cal['NBi_K'] * cal['TNi_K'].iloc[0] / cal['TNi_K']\n",
    "    cal['TNm_K'] = cal['NFm_K'] + cal['NBm_K']\n",
    "\n",
    "    cal['CFm_LA'] = cal['NFm_LA'] / cal['VFm']\n",
    "    cal['CAm_LA'] = cal['NAm_LA'] / cal['VAm']\n",
    "    cal['CFm_K'] = cal['NFm_K'] / cal['VFm']\n",
    "    cal['CBm_K'] = cal['NBm_K'] / cal['VBm']\n",
    "\n",
    "    sdf_s = pd.DataFrame()\n",
    "    sdf_s['V'] = sdf['Voltage [V]']; sdf_s['E'] = sdf['Electrolyte [M]']; sdf_s['time'] = cal['time'];\n",
    "    sdf_s['CFLA'] = cal['CFm_LA']; sdf_s['CALA'] = cal['CAm_LA']; \n",
    "    sdf_s['CFK'] = cal['CFm_K']; sdf_s['CBK'] = cal['CBm_K'];\n",
    "    sdf_s['VF'] = cal['VFm']; sdf_s['VA'] = cal['VAm']; sdf_s['VB'] = cal['VBm'];\n",
    "    sdf_s['I'] = sdf['Current [A]']; sdf_s['exp'] = i\n",
    "    sdf_s = sdf_s.reset_index(drop=True)\n",
    "\n",
    "    rdf = pd.concat([rdf, sdf_s], ignore_index=True)"
   ]
  },
  {
   "cell_type": "code",
   "execution_count": 25,
   "id": "550d7e5c",
   "metadata": {},
   "outputs": [],
   "source": [
    "rdf.to_csv('BMED_DATA.csv', index=False)"
   ]
  }
 ],
 "metadata": {
  "kernelspec": {
   "display_name": "torchenv",
   "language": "python",
   "name": "python3"
  },
  "language_info": {
   "codemirror_mode": {
    "name": "ipython",
    "version": 3
   },
   "file_extension": ".py",
   "mimetype": "text/x-python",
   "name": "python",
   "nbconvert_exporter": "python",
   "pygments_lexer": "ipython3",
   "version": "3.11.13"
  }
 },
 "nbformat": 4,
 "nbformat_minor": 5
}
