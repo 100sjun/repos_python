{
 "cells": [
  {
   "cell_type": "code",
   "execution_count": 2,
   "id": "6fd3ee96",
   "metadata": {},
   "outputs": [
    {
     "name": "stdout",
     "output_type": "stream",
     "text": [
      "Best trial number: 90\n",
      "Best value (objective): 0.01037523580598645\n",
      "Best hyperparameters:\n",
      "  lstm_hidden_size: 72\n",
      "  lstm_n_layers: 4\n",
      "  lstm_dropout: 0.4\n",
      "  decoder_hidden_size: 96\n",
      "  decoder_n_layers: 3\n",
      "  decoder_dropout: 0.4\n",
      "  current_hidden_size: 48\n",
      "  current_n_layers: 2\n",
      "  current_dropout: 0.1\n"
     ]
    }
   ],
   "source": [
    "import optuna\n",
    "# Optuna study에서 가장 좋은 trial의 하이퍼파라미터를 불러오는 코드입니다.\n",
    "# 데이터베이스 파일 경로를 지정하세요.\n",
    "study_name = \"bmed_tf_optimization\"  # 실제 study 이름으로 변경하세요\n",
    "storage_url = \"sqlite:///bmed_hpopt_study.db\"  # 실제 DB 경로로 변경하세요\n",
    "\n",
    "# Optuna study 불러오기\n",
    "study = optuna.load_study(study_name=study_name, storage=storage_url)\n",
    "\n",
    "# 최적의 trial 가져오기\n",
    "best_trial = study.best_trial\n",
    "\n",
    "print(\"Best trial number:\", best_trial.number)\n",
    "print(\"Best value (objective):\", best_trial.value)\n",
    "print(\"Best hyperparameters:\")\n",
    "for key, value in best_trial.params.items():\n",
    "    print(f\"  {key}: {value}\")\n"
   ]
  }
 ],
 "metadata": {
  "kernelspec": {
   "display_name": "torchenv",
   "language": "python",
   "name": "python3"
  },
  "language_info": {
   "codemirror_mode": {
    "name": "ipython",
    "version": 3
   },
   "file_extension": ".py",
   "mimetype": "text/x-python",
   "name": "python",
   "nbconvert_exporter": "python",
   "pygments_lexer": "ipython3",
   "version": "3.11.13"
  }
 },
 "nbformat": 4,
 "nbformat_minor": 5
}
