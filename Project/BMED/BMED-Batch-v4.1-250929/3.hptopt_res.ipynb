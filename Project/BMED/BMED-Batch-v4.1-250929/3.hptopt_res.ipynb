{
 "cells": [
  {
   "cell_type": "code",
   "execution_count": 1,
   "id": "6fd3ee96",
   "metadata": {},
   "outputs": [
    {
     "name": "stderr",
     "output_type": "stream",
     "text": [
      "/home/sjbaek/miniforge3/envs/torchenv/lib/python3.11/site-packages/tqdm/auto.py:21: TqdmWarning: IProgress not found. Please update jupyter and ipywidgets. See https://ipywidgets.readthedocs.io/en/stable/user_install.html\n",
      "  from .autonotebook import tqdm as notebook_tqdm\n"
     ]
    },
    {
     "name": "stdout",
     "output_type": "stream",
     "text": [
      "Best trial number: 35\n",
      "Best value (objective): 0.011858979251701384\n",
      "Best hyperparameters:\n",
      "  lstm_hidden_size: 72\n",
      "  lstm_n_layers: 4\n",
      "  lstm_dropout: 0.1\n",
      "  decoder_hidden_size: 32\n",
      "  decoder_n_layers: 6\n",
      "  decoder_dropout: 0.1\n",
      "  current_hidden_size: 72\n",
      "  current_n_layers: 2\n",
      "  current_dropout: 0.30000000000000004\n"
     ]
    }
   ],
   "source": [
    "import optuna\n",
    "# Optuna study에서 가장 좋은 trial의 하이퍼파라미터를 불러오는 코드입니다.\n",
    "# 데이터베이스 파일 경로를 지정하세요.\n",
    "study_name = \"bmed_tf_optimization\"  # 실제 study 이름으로 변경하세요\n",
    "storage_url = \"sqlite:///bmed_optuna_study_20250915_234452.db\"  # 실제 DB 경로로 변경하세요\n",
    "\n",
    "# Optuna study 불러오기\n",
    "study = optuna.load_study(study_name=study_name, storage=storage_url)\n",
    "\n",
    "# 최적의 trial 가져오기\n",
    "best_trial = study.best_trial\n",
    "\n",
    "print(\"Best trial number:\", best_trial.number)\n",
    "print(\"Best value (objective):\", best_trial.value)\n",
    "print(\"Best hyperparameters:\")\n",
    "for key, value in best_trial.params.items():\n",
    "    print(f\"  {key}: {value}\")\n"
   ]
  }
 ],
 "metadata": {
  "kernelspec": {
   "display_name": "torchenv",
   "language": "python",
   "name": "python3"
  },
  "language_info": {
   "codemirror_mode": {
    "name": "ipython",
    "version": 3
   },
   "file_extension": ".py",
   "mimetype": "text/x-python",
   "name": "python",
   "nbconvert_exporter": "python",
   "pygments_lexer": "ipython3",
   "version": "3.11.13"
  }
 },
 "nbformat": 4,
 "nbformat_minor": 5
}
