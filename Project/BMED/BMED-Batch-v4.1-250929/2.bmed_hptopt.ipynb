{
 "cells": [
  {
   "cell_type": "code",
   "execution_count": 1,
   "id": "9342def1",
   "metadata": {},
   "outputs": [
    {
     "name": "stderr",
     "output_type": "stream",
     "text": [
      "/home/sjbaek/miniforge3/envs/torchenv/lib/python3.11/site-packages/tqdm/auto.py:21: TqdmWarning: IProgress not found. Please update jupyter and ipywidgets. See https://ipywidgets.readthedocs.io/en/stable/user_install.html\n",
      "  from .autonotebook import tqdm as notebook_tqdm\n"
     ]
    }
   ],
   "source": [
    "# import libraries\n",
    "import torch\n",
    "import torch.nn as nn\n",
    "import torch.nn.functional as F\n",
    "import pandas as pd\n",
    "from torch.nn.utils.rnn import pad_sequence\n",
    "from torch.utils.data import TensorDataset, DataLoader, Subset\n",
    "from sklearn.model_selection import KFold\n",
    "import optuna\n",
    "from datetime import datetime\n",
    "from optuna.trial import TrialState\n",
    "import numpy as np"
   ]
  },
  {
   "cell_type": "code",
   "execution_count": 2,
   "id": "2bbeb8bd",
   "metadata": {},
   "outputs": [],
   "source": [
    "class LayerNormLSTM(nn.Module):\n",
    "    def __init__(self, input_node, hidden_node):\n",
    "        super().__init__()\n",
    "        self.input_node = input_node\n",
    "        self.hidden_node = hidden_node\n",
    "\n",
    "        self.w_i = nn.Linear(input_node, 4*hidden_node, bias=False)\n",
    "        self.w_h = nn.Linear(hidden_node, 4*hidden_node, bias=False)\n",
    "\n",
    "        self.ln_i = nn.LayerNorm(hidden_node)\n",
    "        self.ln_f = nn.LayerNorm(hidden_node)\n",
    "        self.ln_w = nn.LayerNorm(hidden_node)\n",
    "        self.ln_o = nn.LayerNorm(hidden_node)\n",
    "        self.ln_c = nn.LayerNorm(hidden_node)\n",
    "\n",
    "    def forward(self, input, hidden):\n",
    "        h_prev, c_prev = hidden\n",
    "\n",
    "        gi = self.w_i(input)\n",
    "        gh = self.w_h(h_prev)\n",
    "        i_i, i_f, i_w, i_o = gi.chunk(4, dim=-1)\n",
    "        h_i, h_f, h_w, h_o = gh.chunk(4, dim=-1)\n",
    "\n",
    "        i_g = torch.sigmoid(self.ln_i(i_i + h_i))\n",
    "        f_g = torch.sigmoid(self.ln_f(i_f + h_f))\n",
    "        w_g = torch.tanh(self.ln_w(i_w + h_w))\n",
    "        o_g = torch.sigmoid(self.ln_o(i_o + h_o))\n",
    "        \n",
    "\n",
    "        c_new = f_g * c_prev + i_g * w_g\n",
    "        c_new = self.ln_c(c_new)\n",
    "\n",
    "        h_new = o_g * torch.tanh(c_new)\n",
    "\n",
    "        return h_new, c_new"
   ]
  },
  {
   "cell_type": "code",
   "execution_count": 3,
   "id": "d8de49e1",
   "metadata": {},
   "outputs": [],
   "source": [
    "class StateExtr(nn.Module):\n",
    "    def __init__(self, input_node, hidden_node, n_layer, dropout):\n",
    "        super().__init__()\n",
    "        self.hidden_node = hidden_node\n",
    "        self.n_layer = n_layer\n",
    "        self.input_node = input_node\n",
    "\n",
    "        self.lstm_cells = nn.ModuleList()\n",
    "        self.lstm_cells.append(LayerNormLSTM(input_node, hidden_node))\n",
    "        for _ in range(n_layer - 1):\n",
    "            self.lstm_cells.append(LayerNormLSTM(hidden_node, hidden_node))\n",
    "\n",
    "        self.dropout = nn.Dropout(dropout)\n",
    "        self.final_layer_norm = nn.LayerNorm(hidden_node)\n",
    "        self.final_dropout = nn.Dropout(dropout)\n",
    "\n",
    "    def forward(self, x, seq_len):\n",
    "        batch_size, max_len, input_node = x.size()\n",
    "        device = x.device\n",
    "\n",
    "        h_states = []\n",
    "        c_states = []\n",
    "        for _ in range(self.n_layer):\n",
    "            h_states.append(torch.zeros(batch_size, self.hidden_node, device=device))\n",
    "            c_states.append(torch.zeros(batch_size, self.hidden_node, device=device))\n",
    "        \n",
    "        outputs = []\n",
    "        for t in range(max_len):\n",
    "            x_t = x[:, t, :]\n",
    "            layer_input = x_t\n",
    "            for layer_idx, lstm_cell in enumerate(self.lstm_cells):\n",
    "                h_new, c_new = lstm_cell(layer_input, (h_states[layer_idx], c_states[layer_idx]))\n",
    "                h_states[layer_idx] = h_new\n",
    "                c_states[layer_idx] = c_new\n",
    "\n",
    "                if layer_idx < len(self.lstm_cells) - 1:\n",
    "                    layer_input = self.dropout(h_new)\n",
    "                else:\n",
    "                    layer_input = h_new\n",
    "            outputs.append(layer_input)\n",
    "        \n",
    "        output_tensor = torch.stack(outputs, dim=1)\n",
    "        seq_len_cpu = seq_len.detach().cpu().long()\n",
    "        mask = torch.arange(max_len, device='cpu')[None, :] < seq_len_cpu[:, None]\n",
    "        mask = mask.float().to(device).unsqueeze(-1)\n",
    "        masked_output = output_tensor * mask\n",
    "        normalized = self.final_layer_norm(masked_output)\n",
    "        return self.final_dropout(normalized)"
   ]
  },
  {
   "cell_type": "code",
   "execution_count": 4,
   "id": "adf624d5",
   "metadata": {},
   "outputs": [],
   "source": [
    "class PhysicalChangeDecoder(nn.Module):\n",
    "    def __init__(self, input_node, output_node, n_layer, hidden_node, dropout):\n",
    "        super().__init__()\n",
    "        self.layers = nn.ModuleList()\n",
    "        \n",
    "        self.layers.append(nn.Linear(input_node, hidden_node))\n",
    "        self.layers.append(nn.LayerNorm(hidden_node))\n",
    "        self.layers.append(nn.ReLU())\n",
    "        self.layers.append(nn.Dropout(dropout))\n",
    "\n",
    "        for i in range(n_layer - 1):\n",
    "            self.layers.append(nn.Linear(hidden_node, hidden_node))\n",
    "            self.layers.append(nn.LayerNorm(hidden_node))\n",
    "            self.layers.append(nn.ReLU())\n",
    "            self.layers.append(nn.Dropout(dropout))\n",
    "\n",
    "        self.layers.append(nn.Linear(hidden_node, output_node))\n",
    "        self.layers.append(nn.Sigmoid())\n",
    "    \n",
    "    def forward(self, hidden_states):\n",
    "        x = hidden_states\n",
    "        for layer in self.layers:\n",
    "            x = layer(x)\n",
    "        return x"
   ]
  },
  {
   "cell_type": "code",
   "execution_count": 5,
   "id": "564cd921",
   "metadata": {},
   "outputs": [],
   "source": [
    "class CurrentPredictor(nn.Module):\n",
    "    def __init__(self, input_node, hidden_node, n_layer, dropout):\n",
    "        super().__init__()\n",
    "        self.layers = nn.ModuleList()\n",
    "        \n",
    "        self.layers.append(nn.Linear(input_node, hidden_node))\n",
    "        self.layers.append(nn.LayerNorm(hidden_node))\n",
    "        self.layers.append(nn.ReLU())\n",
    "        self.layers.append(nn.Dropout(dropout))\n",
    "        \n",
    "        for i in range(n_layer - 1):\n",
    "            self.layers.append(nn.Linear(hidden_node, hidden_node))\n",
    "            self.layers.append(nn.LayerNorm(hidden_node))\n",
    "            self.layers.append(nn.ReLU())\n",
    "            self.layers.append(nn.Dropout(dropout))\n",
    "        \n",
    "        self.layers.append(nn.Linear(hidden_node, 1))\n",
    "    \n",
    "    def forward(self, new_state):\n",
    "        x = new_state\n",
    "        for layer in self.layers:\n",
    "            x = layer(x)\n",
    "        return x"
   ]
  },
  {
   "cell_type": "code",
   "execution_count": 6,
   "id": "5f65d5b9",
   "metadata": {},
   "outputs": [],
   "source": [
    "class PhysicsConstraintLayer(nn.Module):\n",
    "    def __init__(self, range_mm, current_predictor, eps=1e-2):\n",
    "        super().__init__()\n",
    "        self.sps = eps\n",
    "        self.current_predictor = current_predictor\n",
    "        self.register_buffer('range_mm_tensor', self._convert_range_to_tensor(range_mm))\n",
    "\n",
    "    def _convert_range_to_tensor(self, range_mm):\n",
    "        feature_names = ['V','E','VF','VA','VB','CFLA','CALA','CFK','CBK','I']\n",
    "        ranges = torch.zeros(len(feature_names),2)\n",
    "        for i, name in enumerate(feature_names):\n",
    "            if name in range_mm:\n",
    "                ranges[i, 0] = range_mm[name]['min']\n",
    "                ranges[i, 1] = range_mm[name]['max']\n",
    "        return ranges\n",
    "    \n",
    "    def normalize(self, data, feature_idx):\n",
    "        min_val = self.range_mm_tensor[feature_idx, 0]\n",
    "        max_val = self.range_mm_tensor[feature_idx, 1]\n",
    "        return (data - min_val) / (max_val - min_val)\n",
    "\n",
    "    def denormalize(self, data, feature_idx):\n",
    "        min_val = self.range_mm_tensor[feature_idx, 0]\n",
    "        max_val = self.range_mm_tensor[feature_idx, 1]\n",
    "        return data * (max_val - min_val) + min_val\n",
    "\n",
    "    def forward(self, physical_changes, current_state):\n",
    "        V_idx, E_idx, VF_idx, VA_idx, VB_idx = 0, 1, 2, 3, 4\n",
    "        CFLA_idx, CALA_idx, CFK_idx, CBK_idx, I_idx = 5, 6, 7, 8, 9\n",
    "\n",
    "        VF = self.denormalize(current_state[..., 2:3], VF_idx)\n",
    "        VA = self.denormalize(current_state[..., 3:4], VA_idx)\n",
    "        VB = self.denormalize(current_state[..., 4:5], VB_idx)\n",
    "        CFLA = self.denormalize(current_state[..., 5:6], CFLA_idx)\n",
    "        CALA = self.denormalize(current_state[..., 6:7], CALA_idx)\n",
    "        CFK = self.denormalize(current_state[..., 7:8], CFK_idx)\n",
    "        CBK = self.denormalize(current_state[..., 8:9], CBK_idx)\n",
    "\n",
    "        NFLA = CFLA * VF\n",
    "        NALA = CALA * VA\n",
    "        NFK = CFK * VF\n",
    "        NBK = CBK * VB\n",
    "\n",
    "        rdVA = physical_changes[..., 0:1]\n",
    "        rdVB = physical_changes[..., 1:2]\n",
    "        rLA2K = physical_changes[..., 2:3]\n",
    "        rdNBK = physical_changes[..., 3:4]\n",
    "\n",
    "        dVA = VF*(rdVA -0.5)\n",
    "        dVB = VF*(rdVB - 0.5)\n",
    "        dNBK = NFK*rdNBK\n",
    "        dNALA = dNBK * rLA2K\n",
    "\n",
    "        nVF = VF - dVA - dVB\n",
    "        nVA = VA + dVA\n",
    "        nVB = VB + dVB\n",
    "        \n",
    "        nNFLA = NFLA - dNALA\n",
    "        nNALA = NALA + dNALA\n",
    "        nNFK = NFK - dNBK\n",
    "        nNBK = NBK + dNBK\n",
    "\n",
    "        nCFLA = nNFLA / nVF\n",
    "        nCALA = nNALA / nVA\n",
    "        nCFK = nNFK / nVF\n",
    "        nCBK = nNBK / nVB\n",
    "\n",
    "        V = current_state[..., 0:1]\n",
    "        E = current_state[..., 1:2]\n",
    "        nVF_norm = self.normalize(nVF, VF_idx)\n",
    "        nVA_norm = self.normalize(nVA, VA_idx)\n",
    "        nVB_norm = self.normalize(nVB, VB_idx)\n",
    "        nCFLA_norm = self.normalize(nCFLA, CFLA_idx)\n",
    "        nCALA_norm = self.normalize(nCALA, CALA_idx)\n",
    "        nCFK_norm = self.normalize(nCFK, CFK_idx)\n",
    "        nCBK_norm = self.normalize(nCBK, CBK_idx)\n",
    "\n",
    "        temp_state = torch.cat([\n",
    "            V, E, nVF_norm, nVA_norm, nVB_norm, nCFLA_norm, nCALA_norm, nCFK_norm, nCBK_norm\n",
    "        ], dim=-1)\n",
    "        \n",
    "        nI_pred_norm = self.current_predictor(temp_state)\n",
    "        nI_real = self.denormalize(nI_pred_norm, I_idx)\n",
    "        nI_real = torch.clamp(nI_real, min=0.0)\n",
    "        nI_norm = self.normalize(nI_real, I_idx)\n",
    "\n",
    "        next_state = torch.cat([\n",
    "            V, E, nVF_norm, nVA_norm, nVB_norm, nCFLA_norm, nCALA_norm, nCFK_norm, nCBK_norm, nI_norm\n",
    "        ], dim=-1)\n",
    "        \n",
    "        return next_state"
   ]
  },
  {
   "cell_type": "code",
   "execution_count": 7,
   "id": "a77ec51a",
   "metadata": {},
   "outputs": [],
   "source": [
    "class BMEDAutoregressiveModel(nn.Module):\n",
    "    def __init__(self, state_extr_params, decoder_params, current_predictor_params, range_mm):\n",
    "        super().__init__()\n",
    "        self.state_extr = StateExtr(**state_extr_params)\n",
    "        self.physical_decoder = PhysicalChangeDecoder(**decoder_params)\n",
    "        self.current_predictor = CurrentPredictor(**current_predictor_params)\n",
    "        self.physics_constraint = PhysicsConstraintLayer(range_mm, self.current_predictor)\n",
    "\n",
    "    def forward(self, x, seq_len):\n",
    "        hidden_states = self.state_extr(x, seq_len)\n",
    "        physical_changes = self.physical_decoder(hidden_states)\n",
    "        new_x = self.physics_constraint(physical_changes, x)\n",
    "        return new_x"
   ]
  },
  {
   "cell_type": "code",
   "execution_count": 8,
   "id": "3917c899",
   "metadata": {},
   "outputs": [],
   "source": [
    "class NoamScheduler:\n",
    "    def __init__(self, optimizer, model_size, warmup_epochs, factor=1.0):\n",
    "        self.optimizer = optimizer\n",
    "        self.model_size = model_size\n",
    "        self.warmup_epochs = warmup_epochs\n",
    "        self.factor = 1\n",
    "        self.epoch_num = 0\n",
    "\n",
    "    def step_epoch(self):\n",
    "        self.epoch_num += 1\n",
    "        lr = self.factor * (\n",
    "            self.model_size ** (-0.5) *\n",
    "            min(self.epoch_num ** (-0.5), self.epoch_num * self.warmup_epochs ** (-1.5))\n",
    "        )\n",
    "        for param_group in self.optimizer.param_groups:\n",
    "            param_group['lr'] = lr\n",
    "        return lr"
   ]
  },
  {
   "cell_type": "code",
   "execution_count": 9,
   "id": "0b1c08c0",
   "metadata": {},
   "outputs": [],
   "source": [
    "# 유틸리티 함수들\n",
    "def df_treat(name):\n",
    "    df = pd.read_csv(name)\n",
    "    ndf = pd.DataFrame()\n",
    "    range_mm={\n",
    "        'V': {'min':df['V'].min()*0.8, 'max': df['V'].max()*1.2},\n",
    "        'E': {'min':df['E'].min()*0.8, 'max': df['E'].max()*1.2},\n",
    "        'VF': {'min':df['VF'].min()*0.8, 'max': df['VF'].max()*1.2},\n",
    "        'VA': {'min':df['VA'].min()*0.8, 'max': df['VA'].max()*1.2},\n",
    "        'VB': {'min':df['VB'].min()*0.8, 'max': df['VB'].max()*1.2},\n",
    "        'CFLA': {'min':0, 'max': df['CFLA'].max()*1.2},\n",
    "        'CALA': {'min':0, 'max': df['CALA'].max()*1.2},\n",
    "        'CFK': {'min':0, 'max': df['CFK'].max()*1.2},\n",
    "        'CBK': {'min':0, 'max': df['CBK'].max()*1.2},\n",
    "        'I': {'min':0, 'max': df['I'].max()*1.2},\n",
    "    }\n",
    "    ndf['exp'] = df['exp']; ndf['t'] = df['t']\n",
    "\n",
    "    for col in ['V', 'E', 'VF', 'VA', 'VB', 'CFLA', 'CALA', 'CFK', 'CBK', 'I']:\n",
    "        if col in range_mm:\n",
    "            ndf[col] = (df[col] - range_mm[col]['min'])/(range_mm[col]['max'] - range_mm[col]['min'])\n",
    "        else:\n",
    "            ndf[col] = df[col]\n",
    "\n",
    "    exp_num_list = sorted(ndf['exp'].unique())\n",
    "    return df, ndf, range_mm, exp_num_list\n",
    "\n",
    "def seq_data(ndf, exp_num_list):\n",
    "    seq = []\n",
    "    feature_cols = ['V', 'E', 'VF', 'VA', 'VB', 'CFLA', 'CALA', 'CFK', 'CBK', 'I']\n",
    "    for exp in exp_num_list:\n",
    "        exp_df = ndf[ndf['exp'] == exp]\n",
    "        seq.append(exp_df[feature_cols].values)\n",
    "    return seq\n",
    "\n",
    "def pad_seq(seq):\n",
    "    max_len = max([len(s) for s in seq])\n",
    "    seq_len = [len(s) for s in seq]\n",
    "    pad_seq = pad_sequence([torch.tensor(s) for s in seq], batch_first=True, padding_value=-1)\n",
    "    return pad_seq, seq_len, max_len\n",
    "\n",
    "def gen_dataset(pad_seq, seq_len):\n",
    "    input_tensor = pad_seq.float()\n",
    "    seq_len_tensor = torch.tensor(seq_len)\n",
    "    dataset = TensorDataset(input_tensor, seq_len_tensor)\n",
    "    return dataset\n",
    "\n",
    "def masked_mse_loss(pred, target, seq_len):\n",
    "    batch_size, max_len, features = pred.shape\n",
    "    seq_len_cpu = seq_len.detach().cpu().long()\n",
    "    mask = torch.arange(max_len, device='cpu')[None, :] < seq_len_cpu[:, None]\n",
    "    mask = mask.float().to(pred.device)\n",
    "    loss = F.mse_loss(pred, target, reduction='none')\n",
    "    masked_loss = loss * mask.unsqueeze(-1)\n",
    "    total_loss = masked_loss.sum()\n",
    "    total_elements = mask.sum()\n",
    "    masked_loss = total_loss / total_elements\n",
    "    return masked_loss\n",
    "\n",
    "def tf_data(input_seq, seq_len):\n",
    "    inputs = input_seq[:, :-1, :-1]\n",
    "    targets = input_seq[:, 1:, :]\n",
    "    target_seq_len = seq_len - 1\n",
    "    return inputs, targets, target_seq_len"
   ]
  },
  {
   "cell_type": "code",
   "execution_count": 10,
   "id": "816cee32",
   "metadata": {},
   "outputs": [],
   "source": [
    "# Optuna 목적 함수\n",
    "def objective(trial):\n",
    "    \"\"\"\n",
    "    Optuna trial을 위한 목적 함수\n",
    "    K-fold cross validation을 사용하여 하이퍼파라미터 최적화\n",
    "    \"\"\"\n",
    "    \n",
    "    # 1. 하이퍼파라미터 제안\n",
    "    # LSTM StateExtractor 파라미터\n",
    "    lstm_hidden_size = trial.suggest_categorical('lstm_hidden_size', [16, 32, 48, 64, 72, 96])\n",
    "    lstm_n_layers = trial.suggest_int('lstm_n_layers', 2, 6, step=1)\n",
    "    lstm_dropout = trial.suggest_float('lstm_dropout', 0.1, 0.5, step=0.1)\n",
    "    \n",
    "    # PhysicalChangeDecoder 파라미터\n",
    "    decoder_hidden_size = trial.suggest_categorical('decoder_hidden_size', [16, 32, 48, 64, 72, 96])\n",
    "    decoder_n_layers = trial.suggest_int('decoder_n_layers', 2, 6, step=1)\n",
    "    decoder_dropout = trial.suggest_float('decoder_dropout', 0.1, 0.6, step=0.1)\n",
    "    \n",
    "    # CurrentPredictor 파라미터\n",
    "    current_hidden_size = trial.suggest_categorical('current_hidden_size', [16, 32, 48, 64, 72, 96])\n",
    "    current_n_layers = trial.suggest_int('current_n_layers', 2, 6, step=1)\n",
    "    current_dropout = trial.suggest_float('current_dropout', 0.1, 0.6, step=0.1)\n",
    "    \n",
    "    # 2. K-fold Cross Validation\n",
    "    device = torch.device('cuda' if torch.cuda.is_available() else 'cpu')\n",
    "    n_splits = 5\n",
    "    kfold = KFold(n_splits=n_splits, shuffle=True, random_state=42)\n",
    "    \n",
    "    fold_losses = []\n",
    "    \n",
    "    # 데이터 로드 (global 변수 사용)\n",
    "    indices = list(range(len(dataset)))\n",
    "    \n",
    "    for fold, (train_idx, val_idx) in enumerate(kfold.split(indices)):\n",
    "        print(f\"  🔄 Trial {trial.number}, Fold {fold+1}/{n_splits}\")\n",
    "        \n",
    "        # 폴드별 데이터셋 준비\n",
    "        train_subset = Subset(dataset, train_idx)\n",
    "        val_subset = Subset(dataset, val_idx)\n",
    "        \n",
    "        train_loader = DataLoader(train_subset, batch_size=3, shuffle=True)\n",
    "        val_loader = DataLoader(val_subset, batch_size=3, shuffle=False)\n",
    "        \n",
    "        # 3. 모델 파라미터 설정\n",
    "        state_extr_params = {\n",
    "            'input_node': 9,\n",
    "            'hidden_node': lstm_hidden_size,\n",
    "            'n_layer': lstm_n_layers,\n",
    "            'dropout': lstm_dropout\n",
    "        }\n",
    "        \n",
    "        decoder_params = {\n",
    "            'input_node': lstm_hidden_size,\n",
    "            'hidden_node': decoder_hidden_size,\n",
    "            'n_layer': decoder_n_layers,\n",
    "            'dropout': decoder_dropout,\n",
    "            'output_node': 4\n",
    "        }\n",
    "        \n",
    "        current_predictor_params = {\n",
    "            'input_node': 9,\n",
    "            'hidden_node': current_hidden_size,\n",
    "            'n_layer': current_n_layers,\n",
    "            'dropout': current_dropout\n",
    "        }\n",
    "        \n",
    "        # 4. 모델 초기화\n",
    "        model = BMEDAutoregressiveModel(state_extr_params, decoder_params, current_predictor_params, range_mm)\n",
    "        model = model.to(device)\n",
    "        \n",
    "        # 5. 옵티마이저 및 스케줄러 설정\n",
    "        optimizer = torch.optim.AdamW(model.parameters(), lr=1.0)\n",
    "        \n",
    "        # 총 에포크 수와 warmup 에포크 계산\n",
    "        total_epochs = 100  # Optuna 최적화를 위해 에포크 수 감소\n",
    "        warmup_epochs = int(total_epochs * 0.1)\n",
    "        \n",
    "        scheduler = NoamScheduler(\n",
    "            optimizer, \n",
    "            model_size=lstm_hidden_size,\n",
    "            warmup_epochs=warmup_epochs,\n",
    "            factor=1\n",
    "        )\n",
    "        \n",
    "        # 6. 훈련\n",
    "        best_total_loss = float('inf')\n",
    "        \n",
    "        for epoch in range(total_epochs):\n",
    "            # Learning rate 업데이트\n",
    "            current_lr = scheduler.step_epoch()\n",
    "            \n",
    "            # 훈련\n",
    "            model.train()\n",
    "            train_loss = 0.0\n",
    "            train_batches = 0\n",
    "            \n",
    "            for input_seq, seq_len in train_loader:\n",
    "                try:\n",
    "                    input_seq = input_seq.to(device)\n",
    "                    seq_len = seq_len.to(device)\n",
    "                    \n",
    "                    inputs, targets, target_seq_len = tf_data(input_seq, seq_len)\n",
    "                    \n",
    "                    optimizer.zero_grad()\n",
    "                    pred = model(inputs, target_seq_len)\n",
    "                    loss = masked_mse_loss(pred, targets, target_seq_len)\n",
    "                    \n",
    "                    loss.backward()\n",
    "                    torch.nn.utils.clip_grad_norm_(model.parameters(), max_norm=1.0)\n",
    "                    optimizer.step()\n",
    "                    \n",
    "                    train_loss += loss.item()\n",
    "                    train_batches += 1\n",
    "                    \n",
    "                except Exception as e:\n",
    "                    print(f\"❌ Error in training: {str(e)}\")\n",
    "                    continue\n",
    "            \n",
    "            if train_batches == 0:\n",
    "                break\n",
    "                \n",
    "            train_loss = train_loss / train_batches\n",
    "            \n",
    "            # 검증\n",
    "            model.eval()\n",
    "            val_loss = 0.0\n",
    "            val_batches = 0\n",
    "            \n",
    "            with torch.no_grad():\n",
    "                for input_seq, seq_len in val_loader:\n",
    "                    try:\n",
    "                        input_seq = input_seq.to(device)\n",
    "                        seq_len = seq_len.to(device)\n",
    "                        \n",
    "                        inputs, targets, target_seq_len = tf_data(input_seq, seq_len)\n",
    "                        \n",
    "                        pred = model(inputs, target_seq_len)\n",
    "                        loss = masked_mse_loss(pred, targets, target_seq_len)\n",
    "                        \n",
    "                        val_loss += loss.item()\n",
    "                        val_batches += 1\n",
    "                        \n",
    "                    except Exception as e:\n",
    "                        continue\n",
    "            \n",
    "            if val_batches == 0:\n",
    "                break\n",
    "                \n",
    "            val_loss = val_loss / val_batches\n",
    "            \n",
    "            # Calculate total loss\n",
    "            total_loss = train_loss + val_loss\n",
    "            \n",
    "            # Early stopping\n",
    "            if total_loss < best_total_loss:\n",
    "                best_total_loss = total_loss\n",
    "        \n",
    "        fold_losses.append(best_total_loss)\n",
    "        print(f\"    Fold {fold+1} best total loss: {best_total_loss:.6f}\")\n",
    "        \n",
    "        # 메모리 정리\n",
    "        del model, optimizer, scheduler\n",
    "        torch.cuda.empty_cache()\n",
    "    \n",
    "    # 7. K-fold 평균 손실 반환\n",
    "    avg_loss = np.mean(fold_losses)\n",
    "    std_loss = np.std(fold_losses)\n",
    "    \n",
    "    print(f\"  📊 Trial {trial.number} - Average CV Loss: {avg_loss:.6f} (±{std_loss:.6f})\")\n",
    "    \n",
    "    return avg_loss"
   ]
  },
  {
   "cell_type": "code",
   "execution_count": 11,
   "id": "17421f30",
   "metadata": {},
   "outputs": [
    {
     "name": "stdout",
     "output_type": "stream",
     "text": [
      "🚀 BMED TF Model Hyperparameter Optimization with Optuna\n",
      "================================================================================\n",
      "📋 데이터 로드 중...\n",
      "   - 총 실험 개수: 15\n",
      "   - 총 데이터 포인트: 15\n",
      "   - 최대 시퀀스 길이: 37\n"
     ]
    },
    {
     "name": "stderr",
     "output_type": "stream",
     "text": [
      "[I 2025-09-29 19:08:44,198] Using an existing study with name 'bmed_tf_optimization' instead of creating a new one.\n"
     ]
    },
    {
     "name": "stdout",
     "output_type": "stream",
     "text": [
      "🔍 최적화 시작 (총 100 trials)\n",
      "  🔄 Trial 13, Fold 1/5\n",
      "    Fold 1 best total loss: 0.016504\n",
      "  🔄 Trial 13, Fold 2/5\n",
      "    Fold 2 best total loss: 0.319265\n",
      "  🔄 Trial 13, Fold 3/5\n",
      "    Fold 3 best total loss: 0.025245\n",
      "  🔄 Trial 13, Fold 4/5\n",
      "    Fold 4 best total loss: 0.019693\n",
      "  🔄 Trial 13, Fold 5/5\n"
     ]
    },
    {
     "name": "stderr",
     "output_type": "stream",
     "text": [
      "[I 2025-09-29 19:16:56,095] Trial 13 finished with value: 0.0816689093131572 and parameters: {'lstm_hidden_size': 72, 'lstm_n_layers': 5, 'lstm_dropout': 0.30000000000000004, 'decoder_hidden_size': 96, 'decoder_n_layers': 4, 'decoder_dropout': 0.6, 'current_hidden_size': 48, 'current_n_layers': 2, 'current_dropout': 0.6}. Best is trial 10 with value: 0.02191737436223775.\n"
     ]
    },
    {
     "name": "stdout",
     "output_type": "stream",
     "text": [
      "    Fold 5 best total loss: 0.027637\n",
      "  📊 Trial 13 - Average CV Loss: 0.081669 (±0.118863)\n",
      "  🔄 Trial 14, Fold 1/5\n",
      "    Fold 1 best total loss: 0.013320\n",
      "  🔄 Trial 14, Fold 2/5\n",
      "    Fold 2 best total loss: 0.025548\n",
      "  🔄 Trial 14, Fold 3/5\n",
      "    Fold 3 best total loss: 0.024671\n",
      "  🔄 Trial 14, Fold 4/5\n",
      "    Fold 4 best total loss: 0.018073\n",
      "  🔄 Trial 14, Fold 5/5\n"
     ]
    },
    {
     "name": "stderr",
     "output_type": "stream",
     "text": [
      "[I 2025-09-29 19:24:09,138] Trial 14 finished with value: 0.02085857084020972 and parameters: {'lstm_hidden_size': 72, 'lstm_n_layers': 4, 'lstm_dropout': 0.2, 'decoder_hidden_size': 96, 'decoder_n_layers': 4, 'decoder_dropout': 0.6, 'current_hidden_size': 32, 'current_n_layers': 2, 'current_dropout': 0.5}. Best is trial 14 with value: 0.02085857084020972.\n"
     ]
    },
    {
     "name": "stdout",
     "output_type": "stream",
     "text": [
      "    Fold 5 best total loss: 0.022680\n",
      "  📊 Trial 14 - Average CV Loss: 0.020859 (±0.004570)\n",
      "  🔄 Trial 15, Fold 1/5\n",
      "    Fold 1 best total loss: 0.013427\n",
      "  🔄 Trial 15, Fold 2/5\n",
      "    Fold 2 best total loss: 0.025672\n",
      "  🔄 Trial 15, Fold 3/5\n",
      "    Fold 3 best total loss: 0.022725\n",
      "  🔄 Trial 15, Fold 4/5\n",
      "    Fold 4 best total loss: 0.020386\n",
      "  🔄 Trial 15, Fold 5/5\n"
     ]
    },
    {
     "name": "stderr",
     "output_type": "stream",
     "text": [
      "[I 2025-09-29 19:31:07,534] Trial 15 finished with value: 0.02015695902518928 and parameters: {'lstm_hidden_size': 72, 'lstm_n_layers': 4, 'lstm_dropout': 0.2, 'decoder_hidden_size': 96, 'decoder_n_layers': 3, 'decoder_dropout': 0.5, 'current_hidden_size': 32, 'current_n_layers': 2, 'current_dropout': 0.5}. Best is trial 15 with value: 0.02015695902518928.\n"
     ]
    },
    {
     "name": "stdout",
     "output_type": "stream",
     "text": [
      "    Fold 5 best total loss: 0.018575\n",
      "  📊 Trial 15 - Average CV Loss: 0.020157 (±0.004120)\n",
      "  🔄 Trial 16, Fold 1/5\n",
      "    Fold 1 best total loss: 0.020895\n",
      "  🔄 Trial 16, Fold 2/5\n",
      "    Fold 2 best total loss: 0.024323\n",
      "  🔄 Trial 16, Fold 3/5\n",
      "    Fold 3 best total loss: 0.032728\n",
      "  🔄 Trial 16, Fold 4/5\n",
      "    Fold 4 best total loss: 0.027955\n",
      "  🔄 Trial 16, Fold 5/5\n"
     ]
    },
    {
     "name": "stderr",
     "output_type": "stream",
     "text": [
      "[I 2025-09-29 19:37:55,518] Trial 16 finished with value: 0.02734473315067589 and parameters: {'lstm_hidden_size': 72, 'lstm_n_layers': 4, 'lstm_dropout': 0.30000000000000004, 'decoder_hidden_size': 96, 'decoder_n_layers': 3, 'decoder_dropout': 0.5, 'current_hidden_size': 32, 'current_n_layers': 3, 'current_dropout': 0.5}. Best is trial 15 with value: 0.02015695902518928.\n"
     ]
    },
    {
     "name": "stdout",
     "output_type": "stream",
     "text": [
      "    Fold 5 best total loss: 0.030822\n",
      "  📊 Trial 16 - Average CV Loss: 0.027345 (±0.004294)\n",
      "  🔄 Trial 17, Fold 1/5\n",
      "    Fold 1 best total loss: 0.028199\n",
      "  🔄 Trial 17, Fold 2/5\n",
      "    Fold 2 best total loss: 0.109707\n",
      "  🔄 Trial 17, Fold 3/5\n",
      "    Fold 3 best total loss: 0.034742\n",
      "  🔄 Trial 17, Fold 4/5\n",
      "    Fold 4 best total loss: 0.035096\n",
      "  🔄 Trial 17, Fold 5/5\n"
     ]
    },
    {
     "name": "stderr",
     "output_type": "stream",
     "text": [
      "[I 2025-09-29 19:44:47,071] Trial 17 finished with value: 0.053200533823110165 and parameters: {'lstm_hidden_size': 72, 'lstm_n_layers': 4, 'lstm_dropout': 0.4, 'decoder_hidden_size': 96, 'decoder_n_layers': 3, 'decoder_dropout': 0.5, 'current_hidden_size': 32, 'current_n_layers': 4, 'current_dropout': 0.5}. Best is trial 15 with value: 0.02015695902518928.\n"
     ]
    },
    {
     "name": "stdout",
     "output_type": "stream",
     "text": [
      "    Fold 5 best total loss: 0.058259\n",
      "  📊 Trial 17 - Average CV Loss: 0.053201 (±0.030041)\n",
      "  🔄 Trial 18, Fold 1/5\n",
      "    Fold 1 best total loss: 0.032605\n",
      "  🔄 Trial 18, Fold 2/5\n",
      "    Fold 2 best total loss: 0.032154\n",
      "  🔄 Trial 18, Fold 3/5\n",
      "    Fold 3 best total loss: 0.041565\n",
      "  🔄 Trial 18, Fold 4/5\n",
      "    Fold 4 best total loss: 0.033009\n",
      "  🔄 Trial 18, Fold 5/5\n"
     ]
    },
    {
     "name": "stderr",
     "output_type": "stream",
     "text": [
      "[I 2025-09-29 19:49:57,205] Trial 18 finished with value: 0.03667394984513521 and parameters: {'lstm_hidden_size': 96, 'lstm_n_layers': 3, 'lstm_dropout': 0.2, 'decoder_hidden_size': 32, 'decoder_n_layers': 4, 'decoder_dropout': 0.5, 'current_hidden_size': 32, 'current_n_layers': 4, 'current_dropout': 0.5}. Best is trial 15 with value: 0.02015695902518928.\n"
     ]
    },
    {
     "name": "stdout",
     "output_type": "stream",
     "text": [
      "    Fold 5 best total loss: 0.044037\n",
      "  📊 Trial 18 - Average CV Loss: 0.036674 (±0.005071)\n",
      "  🔄 Trial 19, Fold 1/5\n",
      "    Fold 1 best total loss: 0.011934\n",
      "  🔄 Trial 19, Fold 2/5\n",
      "    Fold 2 best total loss: 0.020710\n",
      "  🔄 Trial 19, Fold 3/5\n",
      "    Fold 3 best total loss: 0.021861\n",
      "  🔄 Trial 19, Fold 4/5\n",
      "    Fold 4 best total loss: 0.015651\n",
      "  🔄 Trial 19, Fold 5/5\n"
     ]
    },
    {
     "name": "stderr",
     "output_type": "stream",
     "text": [
      "[I 2025-09-29 19:55:08,364] Trial 19 finished with value: 0.017774961609393358 and parameters: {'lstm_hidden_size': 64, 'lstm_n_layers': 3, 'lstm_dropout': 0.4, 'decoder_hidden_size': 72, 'decoder_n_layers': 2, 'decoder_dropout': 0.5, 'current_hidden_size': 32, 'current_n_layers': 2, 'current_dropout': 0.4}. Best is trial 19 with value: 0.017774961609393358.\n"
     ]
    },
    {
     "name": "stdout",
     "output_type": "stream",
     "text": [
      "    Fold 5 best total loss: 0.018719\n",
      "  📊 Trial 19 - Average CV Loss: 0.017775 (±0.003601)\n",
      "  🔄 Trial 20, Fold 1/5\n",
      "    Fold 1 best total loss: 0.013520\n",
      "  🔄 Trial 20, Fold 2/5\n",
      "    Fold 2 best total loss: 0.021744\n",
      "  🔄 Trial 20, Fold 3/5\n",
      "    Fold 3 best total loss: 0.021832\n",
      "  🔄 Trial 20, Fold 4/5\n",
      "    Fold 4 best total loss: 0.016808\n",
      "  🔄 Trial 20, Fold 5/5\n"
     ]
    },
    {
     "name": "stderr",
     "output_type": "stream",
     "text": [
      "[I 2025-09-29 20:00:20,479] Trial 20 finished with value: 0.01941157344263047 and parameters: {'lstm_hidden_size': 64, 'lstm_n_layers': 3, 'lstm_dropout': 0.4, 'decoder_hidden_size': 72, 'decoder_n_layers': 2, 'decoder_dropout': 0.5, 'current_hidden_size': 32, 'current_n_layers': 3, 'current_dropout': 0.4}. Best is trial 19 with value: 0.017774961609393358.\n"
     ]
    },
    {
     "name": "stdout",
     "output_type": "stream",
     "text": [
      "    Fold 5 best total loss: 0.023154\n",
      "  📊 Trial 20 - Average CV Loss: 0.019412 (±0.003655)\n",
      "  🔄 Trial 21, Fold 1/5\n",
      "    Fold 1 best total loss: 0.317323\n",
      "  🔄 Trial 21, Fold 2/5\n",
      "    Fold 2 best total loss: 0.319882\n",
      "  🔄 Trial 21, Fold 3/5\n",
      "    Fold 3 best total loss: 0.225906\n",
      "  🔄 Trial 21, Fold 4/5\n",
      "    Fold 4 best total loss: 0.201773\n",
      "  🔄 Trial 21, Fold 5/5\n"
     ]
    },
    {
     "name": "stderr",
     "output_type": "stream",
     "text": [
      "[I 2025-09-29 20:05:18,060] Trial 21 finished with value: 0.2821568480692804 and parameters: {'lstm_hidden_size': 64, 'lstm_n_layers': 3, 'lstm_dropout': 0.4, 'decoder_hidden_size': 72, 'decoder_n_layers': 2, 'decoder_dropout': 0.4, 'current_hidden_size': 72, 'current_n_layers': 3, 'current_dropout': 0.1}. Best is trial 19 with value: 0.017774961609393358.\n"
     ]
    },
    {
     "name": "stdout",
     "output_type": "stream",
     "text": [
      "    Fold 5 best total loss: 0.345900\n",
      "  📊 Trial 21 - Average CV Loss: 0.282157 (±0.057182)\n",
      "  🔄 Trial 22, Fold 1/5\n",
      "    Fold 1 best total loss: 0.012259\n",
      "  🔄 Trial 22, Fold 2/5\n",
      "    Fold 2 best total loss: 0.019911\n",
      "  🔄 Trial 22, Fold 3/5\n",
      "    Fold 3 best total loss: 0.023229\n",
      "  🔄 Trial 22, Fold 4/5\n",
      "    Fold 4 best total loss: 0.014308\n",
      "  🔄 Trial 22, Fold 5/5\n"
     ]
    },
    {
     "name": "stderr",
     "output_type": "stream",
     "text": [
      "[I 2025-09-29 20:10:16,113] Trial 22 finished with value: 0.01805626475252211 and parameters: {'lstm_hidden_size': 64, 'lstm_n_layers': 3, 'lstm_dropout': 0.4, 'decoder_hidden_size': 72, 'decoder_n_layers': 2, 'decoder_dropout': 0.5, 'current_hidden_size': 32, 'current_n_layers': 2, 'current_dropout': 0.4}. Best is trial 19 with value: 0.017774961609393358.\n"
     ]
    },
    {
     "name": "stdout",
     "output_type": "stream",
     "text": [
      "    Fold 5 best total loss: 0.020574\n",
      "  📊 Trial 22 - Average CV Loss: 0.018056 (±0.004104)\n",
      "  🔄 Trial 23, Fold 1/5\n",
      "    Fold 1 best total loss: 0.317916\n",
      "  🔄 Trial 23, Fold 2/5\n",
      "    Fold 2 best total loss: 0.021760\n",
      "  🔄 Trial 23, Fold 3/5\n",
      "    Fold 3 best total loss: 0.025080\n",
      "  🔄 Trial 23, Fold 4/5\n",
      "    Fold 4 best total loss: 0.023167\n",
      "  🔄 Trial 23, Fold 5/5\n"
     ]
    },
    {
     "name": "stderr",
     "output_type": "stream",
     "text": [
      "[I 2025-09-29 20:13:41,697] Trial 23 finished with value: 0.08256013123318554 and parameters: {'lstm_hidden_size': 64, 'lstm_n_layers': 2, 'lstm_dropout': 0.4, 'decoder_hidden_size': 72, 'decoder_n_layers': 2, 'decoder_dropout': 0.5, 'current_hidden_size': 32, 'current_n_layers': 3, 'current_dropout': 0.4}. Best is trial 19 with value: 0.017774961609393358.\n"
     ]
    },
    {
     "name": "stdout",
     "output_type": "stream",
     "text": [
      "    Fold 5 best total loss: 0.024878\n",
      "  📊 Trial 23 - Average CV Loss: 0.082560 (±0.117684)\n",
      "  🔄 Trial 24, Fold 1/5\n",
      "    Fold 1 best total loss: 0.010043\n",
      "  🔄 Trial 24, Fold 2/5\n",
      "    Fold 2 best total loss: 0.018906\n",
      "  🔄 Trial 24, Fold 3/5\n",
      "    Fold 3 best total loss: 0.021450\n",
      "  🔄 Trial 24, Fold 4/5\n",
      "    Fold 4 best total loss: 0.017306\n",
      "  🔄 Trial 24, Fold 5/5\n"
     ]
    },
    {
     "name": "stderr",
     "output_type": "stream",
     "text": [
      "[I 2025-09-29 20:18:38,294] Trial 24 finished with value: 0.016999375366140157 and parameters: {'lstm_hidden_size': 64, 'lstm_n_layers': 3, 'lstm_dropout': 0.4, 'decoder_hidden_size': 72, 'decoder_n_layers': 2, 'decoder_dropout': 0.4, 'current_hidden_size': 32, 'current_n_layers': 2, 'current_dropout': 0.30000000000000004}. Best is trial 24 with value: 0.016999375366140157.\n"
     ]
    },
    {
     "name": "stdout",
     "output_type": "stream",
     "text": [
      "    Fold 5 best total loss: 0.017292\n",
      "  📊 Trial 24 - Average CV Loss: 0.016999 (±0.003795)\n",
      "  🔄 Trial 25, Fold 1/5\n",
      "    Fold 1 best total loss: 0.009263\n",
      "  🔄 Trial 25, Fold 2/5\n",
      "    Fold 2 best total loss: 0.019447\n",
      "  🔄 Trial 25, Fold 3/5\n",
      "    Fold 3 best total loss: 0.019501\n",
      "  🔄 Trial 25, Fold 4/5\n",
      "    Fold 4 best total loss: 0.011440\n",
      "  🔄 Trial 25, Fold 5/5\n"
     ]
    },
    {
     "name": "stderr",
     "output_type": "stream",
     "text": [
      "[I 2025-09-29 20:23:47,224] Trial 25 finished with value: 0.01515727280639112 and parameters: {'lstm_hidden_size': 64, 'lstm_n_layers': 3, 'lstm_dropout': 0.4, 'decoder_hidden_size': 72, 'decoder_n_layers': 2, 'decoder_dropout': 0.30000000000000004, 'current_hidden_size': 32, 'current_n_layers': 2, 'current_dropout': 0.30000000000000004}. Best is trial 25 with value: 0.01515727280639112.\n"
     ]
    },
    {
     "name": "stdout",
     "output_type": "stream",
     "text": [
      "    Fold 5 best total loss: 0.016136\n",
      "  📊 Trial 25 - Average CV Loss: 0.015157 (±0.004166)\n",
      "  🔄 Trial 26, Fold 1/5\n",
      "    Fold 1 best total loss: 0.009379\n",
      "  🔄 Trial 26, Fold 2/5\n",
      "    Fold 2 best total loss: 0.017493\n",
      "  🔄 Trial 26, Fold 3/5\n",
      "    Fold 3 best total loss: 0.019678\n",
      "  🔄 Trial 26, Fold 4/5\n",
      "    Fold 4 best total loss: 0.014946\n",
      "  🔄 Trial 26, Fold 5/5\n"
     ]
    },
    {
     "name": "stderr",
     "output_type": "stream",
     "text": [
      "[I 2025-09-29 20:27:21,227] Trial 26 finished with value: 0.01529569566482678 and parameters: {'lstm_hidden_size': 64, 'lstm_n_layers': 2, 'lstm_dropout': 0.5, 'decoder_hidden_size': 72, 'decoder_n_layers': 2, 'decoder_dropout': 0.30000000000000004, 'current_hidden_size': 32, 'current_n_layers': 2, 'current_dropout': 0.30000000000000004}. Best is trial 25 with value: 0.01515727280639112.\n"
     ]
    },
    {
     "name": "stdout",
     "output_type": "stream",
     "text": [
      "    Fold 5 best total loss: 0.014983\n",
      "  📊 Trial 26 - Average CV Loss: 0.015296 (±0.003443)\n",
      "  🔄 Trial 27, Fold 1/5\n",
      "    Fold 1 best total loss: 0.010633\n",
      "  🔄 Trial 27, Fold 2/5\n",
      "    Fold 2 best total loss: 0.015048\n",
      "  🔄 Trial 27, Fold 3/5\n",
      "    Fold 3 best total loss: 0.021227\n",
      "  🔄 Trial 27, Fold 4/5\n",
      "    Fold 4 best total loss: 0.015523\n",
      "  🔄 Trial 27, Fold 5/5\n"
     ]
    },
    {
     "name": "stderr",
     "output_type": "stream",
     "text": [
      "[I 2025-09-29 20:30:45,384] Trial 27 finished with value: 0.016069229878485202 and parameters: {'lstm_hidden_size': 64, 'lstm_n_layers': 2, 'lstm_dropout': 0.5, 'decoder_hidden_size': 72, 'decoder_n_layers': 3, 'decoder_dropout': 0.30000000000000004, 'current_hidden_size': 32, 'current_n_layers': 2, 'current_dropout': 0.30000000000000004}. Best is trial 25 with value: 0.01515727280639112.\n"
     ]
    },
    {
     "name": "stdout",
     "output_type": "stream",
     "text": [
      "    Fold 5 best total loss: 0.017915\n",
      "  📊 Trial 27 - Average CV Loss: 0.016069 (±0.003490)\n",
      "  🔄 Trial 28, Fold 1/5\n",
      "    Fold 1 best total loss: 0.315865\n",
      "  🔄 Trial 28, Fold 2/5\n",
      "    Fold 2 best total loss: 0.317866\n",
      "  🔄 Trial 28, Fold 3/5\n",
      "    Fold 3 best total loss: 0.077913\n",
      "  🔄 Trial 28, Fold 4/5\n",
      "    Fold 4 best total loss: 0.202736\n",
      "  🔄 Trial 28, Fold 5/5\n"
     ]
    },
    {
     "name": "stderr",
     "output_type": "stream",
     "text": [
      "[I 2025-09-29 20:34:11,204] Trial 28 finished with value: 0.20721907829865813 and parameters: {'lstm_hidden_size': 16, 'lstm_n_layers': 2, 'lstm_dropout': 0.5, 'decoder_hidden_size': 72, 'decoder_n_layers': 3, 'decoder_dropout': 0.2, 'current_hidden_size': 32, 'current_n_layers': 6, 'current_dropout': 0.30000000000000004}. Best is trial 25 with value: 0.01515727280639112.\n"
     ]
    },
    {
     "name": "stdout",
     "output_type": "stream",
     "text": [
      "    Fold 5 best total loss: 0.121716\n",
      "  📊 Trial 28 - Average CV Loss: 0.207219 (±0.098079)\n",
      "  🔄 Trial 29, Fold 1/5\n",
      "    Fold 1 best total loss: 0.316532\n",
      "  🔄 Trial 29, Fold 2/5\n",
      "    Fold 2 best total loss: 0.318557\n",
      "  🔄 Trial 29, Fold 3/5\n",
      "    Fold 3 best total loss: 0.015553\n",
      "  🔄 Trial 29, Fold 4/5\n",
      "    Fold 4 best total loss: 0.010769\n",
      "  🔄 Trial 29, Fold 5/5\n"
     ]
    },
    {
     "name": "stderr",
     "output_type": "stream",
     "text": [
      "[I 2025-09-29 20:37:39,407] Trial 29 finished with value: 0.20131087851477786 and parameters: {'lstm_hidden_size': 64, 'lstm_n_layers': 2, 'lstm_dropout': 0.5, 'decoder_hidden_size': 72, 'decoder_n_layers': 3, 'decoder_dropout': 0.30000000000000004, 'current_hidden_size': 72, 'current_n_layers': 3, 'current_dropout': 0.1}. Best is trial 25 with value: 0.01515727280639112.\n"
     ]
    },
    {
     "name": "stdout",
     "output_type": "stream",
     "text": [
      "    Fold 5 best total loss: 0.345144\n",
      "  📊 Trial 29 - Average CV Loss: 0.201311 (±0.153963)\n",
      "  🔄 Trial 30, Fold 1/5\n",
      "    Fold 1 best total loss: 0.014967\n",
      "  🔄 Trial 30, Fold 2/5\n",
      "    Fold 2 best total loss: 0.026774\n",
      "  🔄 Trial 30, Fold 3/5\n",
      "    Fold 3 best total loss: 0.027567\n",
      "  🔄 Trial 30, Fold 4/5\n",
      "    Fold 4 best total loss: 0.021299\n",
      "  🔄 Trial 30, Fold 5/5\n"
     ]
    },
    {
     "name": "stderr",
     "output_type": "stream",
     "text": [
      "[I 2025-09-29 20:41:11,580] Trial 30 finished with value: 0.08727262308821082 and parameters: {'lstm_hidden_size': 64, 'lstm_n_layers': 2, 'lstm_dropout': 0.5, 'decoder_hidden_size': 64, 'decoder_n_layers': 2, 'decoder_dropout': 0.1, 'current_hidden_size': 16, 'current_n_layers': 3, 'current_dropout': 0.30000000000000004}. Best is trial 25 with value: 0.01515727280639112.\n"
     ]
    },
    {
     "name": "stdout",
     "output_type": "stream",
     "text": [
      "    Fold 5 best total loss: 0.345756\n",
      "  📊 Trial 30 - Average CV Loss: 0.087273 (±0.129321)\n",
      "  🔄 Trial 31, Fold 1/5\n",
      "    Fold 1 best total loss: 0.316133\n",
      "  🔄 Trial 31, Fold 2/5\n",
      "    Fold 2 best total loss: 0.319043\n",
      "  🔄 Trial 31, Fold 3/5\n",
      "    Fold 3 best total loss: 0.017052\n",
      "  🔄 Trial 31, Fold 4/5\n",
      "    Fold 4 best total loss: 0.013495\n",
      "  🔄 Trial 31, Fold 5/5\n"
     ]
    },
    {
     "name": "stderr",
     "output_type": "stream",
     "text": [
      "[I 2025-09-29 20:44:40,808] Trial 31 finished with value: 0.17749768403591587 and parameters: {'lstm_hidden_size': 64, 'lstm_n_layers': 2, 'lstm_dropout': 0.5, 'decoder_hidden_size': 72, 'decoder_n_layers': 3, 'decoder_dropout': 0.2, 'current_hidden_size': 96, 'current_n_layers': 4, 'current_dropout': 0.30000000000000004}. Best is trial 25 with value: 0.01515727280639112.\n"
     ]
    },
    {
     "name": "stdout",
     "output_type": "stream",
     "text": [
      "    Fold 5 best total loss: 0.221765\n",
      "  📊 Trial 31 - Average CV Loss: 0.177498 (±0.137007)\n",
      "  🔄 Trial 32, Fold 1/5\n",
      "    Fold 1 best total loss: 0.009617\n",
      "  🔄 Trial 32, Fold 2/5\n",
      "    Fold 2 best total loss: 0.022311\n",
      "  🔄 Trial 32, Fold 3/5\n",
      "    Fold 3 best total loss: 0.015742\n",
      "  🔄 Trial 32, Fold 4/5\n",
      "    Fold 4 best total loss: 0.016825\n",
      "  🔄 Trial 32, Fold 5/5\n"
     ]
    },
    {
     "name": "stderr",
     "output_type": "stream",
     "text": [
      "[I 2025-09-29 20:48:12,716] Trial 32 finished with value: 0.015805650979746132 and parameters: {'lstm_hidden_size': 64, 'lstm_n_layers': 2, 'lstm_dropout': 0.5, 'decoder_hidden_size': 72, 'decoder_n_layers': 2, 'decoder_dropout': 0.30000000000000004, 'current_hidden_size': 32, 'current_n_layers': 2, 'current_dropout': 0.30000000000000004}. Best is trial 25 with value: 0.01515727280639112.\n"
     ]
    },
    {
     "name": "stdout",
     "output_type": "stream",
     "text": [
      "    Fold 5 best total loss: 0.014534\n",
      "  📊 Trial 32 - Average CV Loss: 0.015806 (±0.004081)\n",
      "  🔄 Trial 33, Fold 1/5\n",
      "    Fold 1 best total loss: 0.009910\n",
      "  🔄 Trial 33, Fold 2/5\n",
      "    Fold 2 best total loss: 0.020160\n",
      "  🔄 Trial 33, Fold 3/5\n",
      "    Fold 3 best total loss: 0.019013\n",
      "  🔄 Trial 33, Fold 4/5\n",
      "    Fold 4 best total loss: 0.014574\n",
      "  🔄 Trial 33, Fold 5/5\n"
     ]
    },
    {
     "name": "stderr",
     "output_type": "stream",
     "text": [
      "[I 2025-09-29 20:51:34,888] Trial 33 finished with value: 0.01575434682890773 and parameters: {'lstm_hidden_size': 64, 'lstm_n_layers': 2, 'lstm_dropout': 0.5, 'decoder_hidden_size': 72, 'decoder_n_layers': 2, 'decoder_dropout': 0.30000000000000004, 'current_hidden_size': 32, 'current_n_layers': 2, 'current_dropout': 0.30000000000000004}. Best is trial 25 with value: 0.01515727280639112.\n"
     ]
    },
    {
     "name": "stdout",
     "output_type": "stream",
     "text": [
      "    Fold 5 best total loss: 0.015114\n",
      "  📊 Trial 33 - Average CV Loss: 0.015754 (±0.003633)\n",
      "  🔄 Trial 34, Fold 1/5\n",
      "    Fold 1 best total loss: 0.007802\n",
      "  🔄 Trial 34, Fold 2/5\n",
      "    Fold 2 best total loss: 0.016540\n",
      "  🔄 Trial 34, Fold 3/5\n",
      "    Fold 3 best total loss: 0.017323\n",
      "  🔄 Trial 34, Fold 4/5\n",
      "    Fold 4 best total loss: 0.014300\n",
      "  🔄 Trial 34, Fold 5/5\n"
     ]
    },
    {
     "name": "stderr",
     "output_type": "stream",
     "text": [
      "[I 2025-09-29 20:54:53,493] Trial 34 finished with value: 0.01374785042135045 and parameters: {'lstm_hidden_size': 64, 'lstm_n_layers': 2, 'lstm_dropout': 0.5, 'decoder_hidden_size': 72, 'decoder_n_layers': 2, 'decoder_dropout': 0.30000000000000004, 'current_hidden_size': 32, 'current_n_layers': 2, 'current_dropout': 0.2}. Best is trial 34 with value: 0.01374785042135045.\n"
     ]
    },
    {
     "name": "stdout",
     "output_type": "stream",
     "text": [
      "    Fold 5 best total loss: 0.012775\n",
      "  📊 Trial 34 - Average CV Loss: 0.013748 (±0.003382)\n",
      "  🔄 Trial 35, Fold 1/5\n",
      "    Fold 1 best total loss: 0.317331\n",
      "  🔄 Trial 35, Fold 2/5\n",
      "    Fold 2 best total loss: 0.318161\n",
      "  🔄 Trial 35, Fold 3/5\n",
      "    Fold 3 best total loss: 0.014015\n",
      "  🔄 Trial 35, Fold 4/5\n",
      "    Fold 4 best total loss: 0.010809\n",
      "  🔄 Trial 35, Fold 5/5\n"
     ]
    },
    {
     "name": "stderr",
     "output_type": "stream",
     "text": [
      "[I 2025-09-29 20:58:12,776] Trial 35 finished with value: 0.13410588552942498 and parameters: {'lstm_hidden_size': 64, 'lstm_n_layers': 2, 'lstm_dropout': 0.5, 'decoder_hidden_size': 72, 'decoder_n_layers': 2, 'decoder_dropout': 0.2, 'current_hidden_size': 72, 'current_n_layers': 2, 'current_dropout': 0.2}. Best is trial 34 with value: 0.01374785042135045.\n"
     ]
    },
    {
     "name": "stdout",
     "output_type": "stream",
     "text": [
      "    Fold 5 best total loss: 0.010212\n",
      "  📊 Trial 35 - Average CV Loss: 0.134106 (±0.149948)\n",
      "  🔄 Trial 36, Fold 1/5\n",
      "    Fold 1 best total loss: 0.008656\n",
      "  🔄 Trial 36, Fold 2/5\n",
      "    Fold 2 best total loss: 0.013983\n",
      "  🔄 Trial 36, Fold 3/5\n",
      "    Fold 3 best total loss: 0.017732\n",
      "  🔄 Trial 36, Fold 4/5\n",
      "    Fold 4 best total loss: 0.012749\n",
      "  🔄 Trial 36, Fold 5/5\n"
     ]
    },
    {
     "name": "stderr",
     "output_type": "stream",
     "text": [
      "[I 2025-09-29 21:01:33,181] Trial 36 finished with value: 0.013651931239292026 and parameters: {'lstm_hidden_size': 96, 'lstm_n_layers': 2, 'lstm_dropout': 0.5, 'decoder_hidden_size': 16, 'decoder_n_layers': 2, 'decoder_dropout': 0.30000000000000004, 'current_hidden_size': 32, 'current_n_layers': 2, 'current_dropout': 0.1}. Best is trial 36 with value: 0.013651931239292026.\n"
     ]
    },
    {
     "name": "stdout",
     "output_type": "stream",
     "text": [
      "    Fold 5 best total loss: 0.015141\n",
      "  📊 Trial 36 - Average CV Loss: 0.013652 (±0.002992)\n",
      "  🔄 Trial 37, Fold 1/5\n",
      "    Fold 1 best total loss: 0.009331\n",
      "  🔄 Trial 37, Fold 2/5\n",
      "    Fold 2 best total loss: 0.015980\n",
      "  🔄 Trial 37, Fold 3/5\n",
      "    Fold 3 best total loss: 0.019365\n",
      "  🔄 Trial 37, Fold 4/5\n",
      "    Fold 4 best total loss: 0.016687\n",
      "  🔄 Trial 37, Fold 5/5\n"
     ]
    },
    {
     "name": "stderr",
     "output_type": "stream",
     "text": [
      "[I 2025-09-29 21:06:23,905] Trial 37 finished with value: 0.01655132739106193 and parameters: {'lstm_hidden_size': 96, 'lstm_n_layers': 3, 'lstm_dropout': 0.5, 'decoder_hidden_size': 16, 'decoder_n_layers': 2, 'decoder_dropout': 0.2, 'current_hidden_size': 16, 'current_n_layers': 3, 'current_dropout': 0.1}. Best is trial 36 with value: 0.013651931239292026.\n"
     ]
    },
    {
     "name": "stdout",
     "output_type": "stream",
     "text": [
      "    Fold 5 best total loss: 0.021393\n",
      "  📊 Trial 37 - Average CV Loss: 0.016551 (±0.004095)\n",
      "  🔄 Trial 38, Fold 1/5\n",
      "    Fold 1 best total loss: 0.315816\n",
      "  🔄 Trial 38, Fold 2/5\n",
      "    Fold 2 best total loss: 0.319948\n",
      "  🔄 Trial 38, Fold 3/5\n",
      "    Fold 3 best total loss: 0.015679\n",
      "  🔄 Trial 38, Fold 4/5\n",
      "    Fold 4 best total loss: 0.197915\n",
      "  🔄 Trial 38, Fold 5/5\n"
     ]
    },
    {
     "name": "stderr",
     "output_type": "stream",
     "text": [
      "[I 2025-09-29 21:09:44,157] Trial 38 finished with value: 0.17229508715099656 and parameters: {'lstm_hidden_size': 96, 'lstm_n_layers': 2, 'lstm_dropout': 0.5, 'decoder_hidden_size': 16, 'decoder_n_layers': 2, 'decoder_dropout': 0.30000000000000004, 'current_hidden_size': 96, 'current_n_layers': 2, 'current_dropout': 0.1}. Best is trial 36 with value: 0.013651931239292026.\n"
     ]
    },
    {
     "name": "stdout",
     "output_type": "stream",
     "text": [
      "    Fold 5 best total loss: 0.012118\n",
      "  📊 Trial 38 - Average CV Loss: 0.172295 (±0.136559)\n",
      "  🔄 Trial 39, Fold 1/5\n",
      "    Fold 1 best total loss: 0.010382\n",
      "  🔄 Trial 39, Fold 2/5\n",
      "    Fold 2 best total loss: 0.021164\n",
      "  🔄 Trial 39, Fold 3/5\n",
      "    Fold 3 best total loss: 0.019405\n",
      "  🔄 Trial 39, Fold 4/5\n",
      "    Fold 4 best total loss: 0.011704\n",
      "  🔄 Trial 39, Fold 5/5\n"
     ]
    },
    {
     "name": "stderr",
     "output_type": "stream",
     "text": [
      "[I 2025-09-29 21:14:35,393] Trial 39 finished with value: 0.015607682836707682 and parameters: {'lstm_hidden_size': 32, 'lstm_n_layers': 3, 'lstm_dropout': 0.4, 'decoder_hidden_size': 16, 'decoder_n_layers': 5, 'decoder_dropout': 0.30000000000000004, 'current_hidden_size': 32, 'current_n_layers': 3, 'current_dropout': 0.2}. Best is trial 36 with value: 0.013651931239292026.\n"
     ]
    },
    {
     "name": "stdout",
     "output_type": "stream",
     "text": [
      "    Fold 5 best total loss: 0.015383\n",
      "  📊 Trial 39 - Average CV Loss: 0.015608 (±0.004192)\n",
      "  🔄 Trial 40, Fold 1/5\n",
      "    Fold 1 best total loss: 0.008631\n",
      "  🔄 Trial 40, Fold 2/5\n",
      "    Fold 2 best total loss: 0.019579\n",
      "  🔄 Trial 40, Fold 3/5\n",
      "    Fold 3 best total loss: 0.018731\n",
      "  🔄 Trial 40, Fold 4/5\n",
      "    Fold 4 best total loss: 0.010277\n",
      "  🔄 Trial 40, Fold 5/5\n"
     ]
    },
    {
     "name": "stderr",
     "output_type": "stream",
     "text": [
      "[I 2025-09-29 21:17:56,401] Trial 40 finished with value: 0.014444711070973426 and parameters: {'lstm_hidden_size': 96, 'lstm_n_layers': 2, 'lstm_dropout': 0.30000000000000004, 'decoder_hidden_size': 32, 'decoder_n_layers': 3, 'decoder_dropout': 0.2, 'current_hidden_size': 32, 'current_n_layers': 2, 'current_dropout': 0.2}. Best is trial 36 with value: 0.013651931239292026.\n"
     ]
    },
    {
     "name": "stdout",
     "output_type": "stream",
     "text": [
      "    Fold 5 best total loss: 0.015005\n",
      "  📊 Trial 40 - Average CV Loss: 0.014445 (±0.004387)\n",
      "  🔄 Trial 41, Fold 1/5\n",
      "    Fold 1 best total loss: 0.314426\n",
      "  🔄 Trial 41, Fold 2/5\n",
      "    Fold 2 best total loss: 0.213541\n",
      "  🔄 Trial 41, Fold 3/5\n",
      "    Fold 3 best total loss: 0.016562\n",
      "  🔄 Trial 41, Fold 4/5\n",
      "    Fold 4 best total loss: 0.011728\n",
      "  🔄 Trial 41, Fold 5/5\n"
     ]
    },
    {
     "name": "stderr",
     "output_type": "stream",
     "text": [
      "[I 2025-09-29 21:22:49,808] Trial 41 finished with value: 0.16092009158455767 and parameters: {'lstm_hidden_size': 96, 'lstm_n_layers': 3, 'lstm_dropout': 0.30000000000000004, 'decoder_hidden_size': 32, 'decoder_n_layers': 3, 'decoder_dropout': 0.1, 'current_hidden_size': 64, 'current_n_layers': 3, 'current_dropout': 0.1}. Best is trial 36 with value: 0.013651931239292026.\n"
     ]
    },
    {
     "name": "stdout",
     "output_type": "stream",
     "text": [
      "    Fold 5 best total loss: 0.248344\n",
      "  📊 Trial 41 - Average CV Loss: 0.160920 (±0.124156)\n",
      "  🔄 Trial 42, Fold 1/5\n",
      "    Fold 1 best total loss: 0.008550\n",
      "  🔄 Trial 42, Fold 2/5\n",
      "    Fold 2 best total loss: 0.016390\n",
      "  🔄 Trial 42, Fold 3/5\n",
      "    Fold 3 best total loss: 0.016571\n",
      "  🔄 Trial 42, Fold 4/5\n",
      "    Fold 4 best total loss: 0.014897\n",
      "  🔄 Trial 42, Fold 5/5\n"
     ]
    },
    {
     "name": "stderr",
     "output_type": "stream",
     "text": [
      "[I 2025-09-29 21:26:09,805] Trial 42 finished with value: 0.013624434161465615 and parameters: {'lstm_hidden_size': 96, 'lstm_n_layers': 2, 'lstm_dropout': 0.30000000000000004, 'decoder_hidden_size': 32, 'decoder_n_layers': 2, 'decoder_dropout': 0.2, 'current_hidden_size': 32, 'current_n_layers': 2, 'current_dropout': 0.2}. Best is trial 42 with value: 0.013624434161465615.\n"
     ]
    },
    {
     "name": "stdout",
     "output_type": "stream",
     "text": [
      "    Fold 5 best total loss: 0.011714\n",
      "  📊 Trial 42 - Average CV Loss: 0.013624 (±0.003077)\n",
      "  🔄 Trial 43, Fold 1/5\n",
      "    Fold 1 best total loss: 0.007822\n",
      "  🔄 Trial 43, Fold 2/5\n",
      "    Fold 2 best total loss: 0.013708\n",
      "  🔄 Trial 43, Fold 3/5\n",
      "    Fold 3 best total loss: 0.016324\n",
      "  🔄 Trial 43, Fold 4/5\n",
      "    Fold 4 best total loss: 0.014036\n",
      "  🔄 Trial 43, Fold 5/5\n"
     ]
    },
    {
     "name": "stderr",
     "output_type": "stream",
     "text": [
      "[I 2025-09-29 21:29:29,840] Trial 43 finished with value: 0.01295835494529456 and parameters: {'lstm_hidden_size': 96, 'lstm_n_layers': 2, 'lstm_dropout': 0.30000000000000004, 'decoder_hidden_size': 32, 'decoder_n_layers': 2, 'decoder_dropout': 0.2, 'current_hidden_size': 32, 'current_n_layers': 2, 'current_dropout': 0.2}. Best is trial 43 with value: 0.01295835494529456.\n"
     ]
    },
    {
     "name": "stdout",
     "output_type": "stream",
     "text": [
      "    Fold 5 best total loss: 0.012902\n",
      "  📊 Trial 43 - Average CV Loss: 0.012958 (±0.002808)\n",
      "  🔄 Trial 44, Fold 1/5\n",
      "    Fold 1 best total loss: 0.008186\n",
      "  🔄 Trial 44, Fold 2/5\n",
      "    Fold 2 best total loss: 0.019270\n",
      "  🔄 Trial 44, Fold 3/5\n",
      "    Fold 3 best total loss: 0.016531\n",
      "  🔄 Trial 44, Fold 4/5\n",
      "    Fold 4 best total loss: 0.012858\n",
      "  🔄 Trial 44, Fold 5/5\n"
     ]
    },
    {
     "name": "stderr",
     "output_type": "stream",
     "text": [
      "[I 2025-09-29 21:32:51,956] Trial 44 finished with value: 0.0143723358749412 and parameters: {'lstm_hidden_size': 96, 'lstm_n_layers': 2, 'lstm_dropout': 0.30000000000000004, 'decoder_hidden_size': 32, 'decoder_n_layers': 3, 'decoder_dropout': 0.2, 'current_hidden_size': 32, 'current_n_layers': 2, 'current_dropout': 0.2}. Best is trial 43 with value: 0.01295835494529456.\n"
     ]
    },
    {
     "name": "stdout",
     "output_type": "stream",
     "text": [
      "    Fold 5 best total loss: 0.015017\n",
      "  📊 Trial 44 - Average CV Loss: 0.014372 (±0.003732)\n",
      "  🔄 Trial 45, Fold 1/5\n",
      "    Fold 1 best total loss: 0.010979\n",
      "  🔄 Trial 45, Fold 2/5\n",
      "    Fold 2 best total loss: 0.022198\n",
      "  🔄 Trial 45, Fold 3/5\n",
      "    Fold 3 best total loss: 0.022815\n",
      "  🔄 Trial 45, Fold 4/5\n",
      "    Fold 4 best total loss: 0.016167\n",
      "  🔄 Trial 45, Fold 5/5\n"
     ]
    },
    {
     "name": "stderr",
     "output_type": "stream",
     "text": [
      "[I 2025-09-29 21:36:11,892] Trial 45 finished with value: 0.018035689007956535 and parameters: {'lstm_hidden_size': 96, 'lstm_n_layers': 2, 'lstm_dropout': 0.30000000000000004, 'decoder_hidden_size': 32, 'decoder_n_layers': 2, 'decoder_dropout': 0.1, 'current_hidden_size': 16, 'current_n_layers': 2, 'current_dropout': 0.2}. Best is trial 43 with value: 0.01295835494529456.\n"
     ]
    },
    {
     "name": "stdout",
     "output_type": "stream",
     "text": [
      "    Fold 5 best total loss: 0.018020\n",
      "  📊 Trial 45 - Average CV Loss: 0.018036 (±0.004323)\n",
      "  🔄 Trial 46, Fold 1/5\n",
      "    Fold 1 best total loss: 0.008560\n",
      "  🔄 Trial 46, Fold 2/5\n",
      "    Fold 2 best total loss: 0.319503\n",
      "  🔄 Trial 46, Fold 3/5\n",
      "    Fold 3 best total loss: 0.016602\n",
      "  🔄 Trial 46, Fold 4/5\n",
      "    Fold 4 best total loss: 0.008654\n",
      "  🔄 Trial 46, Fold 5/5\n"
     ]
    },
    {
     "name": "stderr",
     "output_type": "stream",
     "text": [
      "[I 2025-09-29 21:39:32,397] Trial 46 finished with value: 0.07318799157510511 and parameters: {'lstm_hidden_size': 96, 'lstm_n_layers': 2, 'lstm_dropout': 0.1, 'decoder_hidden_size': 32, 'decoder_n_layers': 3, 'decoder_dropout': 0.2, 'current_hidden_size': 32, 'current_n_layers': 2, 'current_dropout': 0.1}. Best is trial 43 with value: 0.01295835494529456.\n"
     ]
    },
    {
     "name": "stdout",
     "output_type": "stream",
     "text": [
      "    Fold 5 best total loss: 0.012621\n",
      "  📊 Trial 46 - Average CV Loss: 0.073188 (±0.123193)\n",
      "  🔄 Trial 47, Fold 1/5\n",
      "    Fold 1 best total loss: 0.007179\n",
      "  🔄 Trial 47, Fold 2/5\n",
      "    Fold 2 best total loss: 0.017401\n",
      "  🔄 Trial 47, Fold 3/5\n",
      "    Fold 3 best total loss: 0.017469\n",
      "  🔄 Trial 47, Fold 4/5\n",
      "    Fold 4 best total loss: 0.008922\n",
      "  🔄 Trial 47, Fold 5/5\n"
     ]
    },
    {
     "name": "stderr",
     "output_type": "stream",
     "text": [
      "[I 2025-09-29 21:42:53,087] Trial 47 finished with value: 0.012869430589489639 and parameters: {'lstm_hidden_size': 96, 'lstm_n_layers': 2, 'lstm_dropout': 0.30000000000000004, 'decoder_hidden_size': 32, 'decoder_n_layers': 2, 'decoder_dropout': 0.2, 'current_hidden_size': 96, 'current_n_layers': 2, 'current_dropout': 0.2}. Best is trial 47 with value: 0.012869430589489639.\n"
     ]
    },
    {
     "name": "stdout",
     "output_type": "stream",
     "text": [
      "    Fold 5 best total loss: 0.013376\n",
      "  📊 Trial 47 - Average CV Loss: 0.012869 (±0.004241)\n",
      "  🔄 Trial 48, Fold 1/5\n",
      "    Fold 1 best total loss: 0.009742\n",
      "  🔄 Trial 48, Fold 2/5\n",
      "    Fold 2 best total loss: 0.318562\n",
      "  🔄 Trial 48, Fold 3/5\n",
      "    Fold 3 best total loss: 0.222139\n",
      "  🔄 Trial 48, Fold 4/5\n",
      "    Fold 4 best total loss: 0.015045\n",
      "  🔄 Trial 48, Fold 5/5\n"
     ]
    },
    {
     "name": "stderr",
     "output_type": "stream",
     "text": [
      "[I 2025-09-29 21:46:17,103] Trial 48 finished with value: 0.18220715842908247 and parameters: {'lstm_hidden_size': 48, 'lstm_n_layers': 2, 'lstm_dropout': 0.30000000000000004, 'decoder_hidden_size': 32, 'decoder_n_layers': 2, 'decoder_dropout': 0.1, 'current_hidden_size': 96, 'current_n_layers': 5, 'current_dropout': 0.2}. Best is trial 47 with value: 0.012869430589489639.\n"
     ]
    },
    {
     "name": "stdout",
     "output_type": "stream",
     "text": [
      "    Fold 5 best total loss: 0.345549\n",
      "  📊 Trial 48 - Average CV Loss: 0.182207 (±0.144607)\n",
      "  🔄 Trial 49, Fold 1/5\n",
      "    Fold 1 best total loss: 0.006954\n",
      "  🔄 Trial 49, Fold 2/5\n",
      "    Fold 2 best total loss: 0.317857\n",
      "  🔄 Trial 49, Fold 3/5\n",
      "    Fold 3 best total loss: 0.013469\n",
      "  🔄 Trial 49, Fold 4/5\n",
      "    Fold 4 best total loss: 0.009835\n",
      "  🔄 Trial 49, Fold 5/5\n"
     ]
    },
    {
     "name": "stderr",
     "output_type": "stream",
     "text": [
      "[I 2025-09-29 21:49:56,276] Trial 49 finished with value: 0.13868104622815736 and parameters: {'lstm_hidden_size': 96, 'lstm_n_layers': 2, 'lstm_dropout': 0.30000000000000004, 'decoder_hidden_size': 32, 'decoder_n_layers': 2, 'decoder_dropout': 0.2, 'current_hidden_size': 96, 'current_n_layers': 2, 'current_dropout': 0.1}. Best is trial 47 with value: 0.012869430589489639.\n"
     ]
    },
    {
     "name": "stdout",
     "output_type": "stream",
     "text": [
      "    Fold 5 best total loss: 0.345290\n",
      "  📊 Trial 49 - Average CV Loss: 0.138681 (±0.157748)\n",
      "  🔄 Trial 50, Fold 1/5\n",
      "    Fold 1 best total loss: 0.007427\n",
      "  🔄 Trial 50, Fold 2/5\n",
      "    Fold 2 best total loss: 0.016810\n",
      "  🔄 Trial 50, Fold 3/5\n",
      "    Fold 3 best total loss: 0.017084\n",
      "  🔄 Trial 50, Fold 4/5\n",
      "    Fold 4 best total loss: 0.012856\n",
      "  🔄 Trial 50, Fold 5/5\n"
     ]
    },
    {
     "name": "stderr",
     "output_type": "stream",
     "text": [
      "[I 2025-09-29 21:53:54,426] Trial 50 finished with value: 0.0800248431682121 and parameters: {'lstm_hidden_size': 96, 'lstm_n_layers': 2, 'lstm_dropout': 0.1, 'decoder_hidden_size': 48, 'decoder_n_layers': 6, 'decoder_dropout': 0.2, 'current_hidden_size': 96, 'current_n_layers': 3, 'current_dropout': 0.2}. Best is trial 47 with value: 0.012869430589489639.\n"
     ]
    },
    {
     "name": "stdout",
     "output_type": "stream",
     "text": [
      "    Fold 5 best total loss: 0.345947\n",
      "  📊 Trial 50 - Average CV Loss: 0.080025 (±0.133007)\n",
      "  🔄 Trial 51, Fold 1/5\n",
      "    Fold 1 best total loss: 0.313972\n",
      "  🔄 Trial 51, Fold 2/5\n",
      "    Fold 2 best total loss: 0.318085\n",
      "  🔄 Trial 51, Fold 3/5\n",
      "    Fold 3 best total loss: 0.224164\n",
      "  🔄 Trial 51, Fold 4/5\n",
      "    Fold 4 best total loss: 0.081080\n",
      "  🔄 Trial 51, Fold 5/5\n"
     ]
    },
    {
     "name": "stderr",
     "output_type": "stream",
     "text": [
      "[I 2025-09-29 22:04:26,699] Trial 51 finished with value: 0.2562971721403301 and parameters: {'lstm_hidden_size': 16, 'lstm_n_layers': 6, 'lstm_dropout': 0.2, 'decoder_hidden_size': 16, 'decoder_n_layers': 2, 'decoder_dropout': 0.1, 'current_hidden_size': 48, 'current_n_layers': 6, 'current_dropout': 0.1}. Best is trial 47 with value: 0.012869430589489639.\n"
     ]
    },
    {
     "name": "stdout",
     "output_type": "stream",
     "text": [
      "    Fold 5 best total loss: 0.344186\n",
      "  📊 Trial 51 - Average CV Loss: 0.256297 (±0.096542)\n",
      "  🔄 Trial 52, Fold 1/5\n",
      "    Fold 1 best total loss: 0.007901\n",
      "  🔄 Trial 52, Fold 2/5\n",
      "    Fold 2 best total loss: 0.319191\n",
      "  🔄 Trial 52, Fold 3/5\n",
      "    Fold 3 best total loss: 0.016110\n",
      "  🔄 Trial 52, Fold 4/5\n",
      "    Fold 4 best total loss: 0.012699\n",
      "  🔄 Trial 52, Fold 5/5\n"
     ]
    },
    {
     "name": "stderr",
     "output_type": "stream",
     "text": [
      "[I 2025-09-29 22:08:04,611] Trial 52 finished with value: 0.07335147415287793 and parameters: {'lstm_hidden_size': 96, 'lstm_n_layers': 2, 'lstm_dropout': 0.30000000000000004, 'decoder_hidden_size': 32, 'decoder_n_layers': 2, 'decoder_dropout': 0.2, 'current_hidden_size': 64, 'current_n_layers': 2, 'current_dropout': 0.2}. Best is trial 47 with value: 0.012869430589489639.\n"
     ]
    },
    {
     "name": "stdout",
     "output_type": "stream",
     "text": [
      "    Fold 5 best total loss: 0.010855\n",
      "  📊 Trial 52 - Average CV Loss: 0.073351 (±0.122949)\n",
      "  🔄 Trial 53, Fold 1/5\n",
      "    Fold 1 best total loss: 0.315675\n",
      "  🔄 Trial 53, Fold 2/5\n",
      "    Fold 2 best total loss: 0.017208\n",
      "  🔄 Trial 53, Fold 3/5\n",
      "    Fold 3 best total loss: 0.014765\n",
      "  🔄 Trial 53, Fold 4/5\n",
      "    Fold 4 best total loss: 0.010115\n",
      "  🔄 Trial 53, Fold 5/5\n"
     ]
    },
    {
     "name": "stderr",
     "output_type": "stream",
     "text": [
      "[I 2025-09-29 22:11:54,175] Trial 53 finished with value: 0.14101756197633222 and parameters: {'lstm_hidden_size': 96, 'lstm_n_layers': 2, 'lstm_dropout': 0.30000000000000004, 'decoder_hidden_size': 32, 'decoder_n_layers': 3, 'decoder_dropout': 0.2, 'current_hidden_size': 96, 'current_n_layers': 2, 'current_dropout': 0.2}. Best is trial 47 with value: 0.012869430589489639.\n"
     ]
    },
    {
     "name": "stdout",
     "output_type": "stream",
     "text": [
      "    Fold 5 best total loss: 0.347324\n",
      "  📊 Trial 53 - Average CV Loss: 0.141018 (±0.155866)\n",
      "  🔄 Trial 54, Fold 1/5\n",
      "    Fold 1 best total loss: 0.008522\n",
      "  🔄 Trial 54, Fold 2/5\n",
      "    Fold 2 best total loss: 0.022473\n",
      "  🔄 Trial 54, Fold 3/5\n",
      "    Fold 3 best total loss: 0.019568\n",
      "  🔄 Trial 54, Fold 4/5\n",
      "    Fold 4 best total loss: 0.011438\n",
      "  🔄 Trial 54, Fold 5/5\n"
     ]
    },
    {
     "name": "stderr",
     "output_type": "stream",
     "text": [
      "[I 2025-09-29 22:15:42,561] Trial 54 finished with value: 0.015241271827835589 and parameters: {'lstm_hidden_size': 96, 'lstm_n_layers': 2, 'lstm_dropout': 0.30000000000000004, 'decoder_hidden_size': 32, 'decoder_n_layers': 2, 'decoder_dropout': 0.30000000000000004, 'current_hidden_size': 32, 'current_n_layers': 2, 'current_dropout': 0.2}. Best is trial 47 with value: 0.012869430589489639.\n"
     ]
    },
    {
     "name": "stdout",
     "output_type": "stream",
     "text": [
      "    Fold 5 best total loss: 0.014205\n",
      "  📊 Trial 54 - Average CV Loss: 0.015241 (±0.005132)\n",
      "  🔄 Trial 55, Fold 1/5\n",
      "    Fold 1 best total loss: 0.009421\n",
      "  🔄 Trial 55, Fold 2/5\n",
      "    Fold 2 best total loss: 0.017587\n",
      "  🔄 Trial 55, Fold 3/5\n",
      "    Fold 3 best total loss: 0.018312\n",
      "  🔄 Trial 55, Fold 4/5\n",
      "    Fold 4 best total loss: 0.012799\n",
      "  🔄 Trial 55, Fold 5/5\n"
     ]
    },
    {
     "name": "stderr",
     "output_type": "stream",
     "text": [
      "[I 2025-09-29 22:19:29,332] Trial 55 finished with value: 0.07998393406160176 and parameters: {'lstm_hidden_size': 32, 'lstm_n_layers': 2, 'lstm_dropout': 0.2, 'decoder_hidden_size': 64, 'decoder_n_layers': 3, 'decoder_dropout': 0.4, 'current_hidden_size': 32, 'current_n_layers': 2, 'current_dropout': 0.2}. Best is trial 47 with value: 0.012869430589489639.\n"
     ]
    },
    {
     "name": "stdout",
     "output_type": "stream",
     "text": [
      "    Fold 5 best total loss: 0.341800\n",
      "  📊 Trial 55 - Average CV Loss: 0.079984 (±0.130949)\n",
      "  🔄 Trial 56, Fold 1/5\n",
      "    Fold 1 best total loss: 0.009367\n",
      "  🔄 Trial 56, Fold 2/5\n",
      "    Fold 2 best total loss: 0.014948\n",
      "  🔄 Trial 56, Fold 3/5\n",
      "    Fold 3 best total loss: 0.014580\n",
      "  🔄 Trial 56, Fold 4/5\n",
      "    Fold 4 best total loss: 0.011167\n",
      "  🔄 Trial 56, Fold 5/5\n"
     ]
    },
    {
     "name": "stderr",
     "output_type": "stream",
     "text": [
      "[I 2025-09-29 22:24:47,664] Trial 56 finished with value: 0.012543224275577813 and parameters: {'lstm_hidden_size': 96, 'lstm_n_layers': 3, 'lstm_dropout': 0.30000000000000004, 'decoder_hidden_size': 32, 'decoder_n_layers': 2, 'decoder_dropout': 0.2, 'current_hidden_size': 48, 'current_n_layers': 2, 'current_dropout': 0.2}. Best is trial 56 with value: 0.012543224275577813.\n"
     ]
    },
    {
     "name": "stdout",
     "output_type": "stream",
     "text": [
      "    Fold 5 best total loss: 0.012655\n",
      "  📊 Trial 56 - Average CV Loss: 0.012543 (±0.002094)\n",
      "  🔄 Trial 57, Fold 1/5\n",
      "    Fold 1 best total loss: 0.006795\n",
      "  🔄 Trial 57, Fold 2/5\n",
      "    Fold 2 best total loss: 0.319072\n",
      "  🔄 Trial 57, Fold 3/5\n",
      "    Fold 3 best total loss: 0.014422\n",
      "  🔄 Trial 57, Fold 4/5\n",
      "    Fold 4 best total loss: 0.010304\n",
      "  🔄 Trial 57, Fold 5/5\n"
     ]
    },
    {
     "name": "stderr",
     "output_type": "stream",
     "text": [
      "[I 2025-09-29 22:32:34,136] Trial 57 finished with value: 0.11998672202462331 and parameters: {'lstm_hidden_size': 48, 'lstm_n_layers': 4, 'lstm_dropout': 0.30000000000000004, 'decoder_hidden_size': 32, 'decoder_n_layers': 5, 'decoder_dropout': 0.1, 'current_hidden_size': 48, 'current_n_layers': 3, 'current_dropout': 0.1}. Best is trial 56 with value: 0.012543224275577813.\n"
     ]
    },
    {
     "name": "stdout",
     "output_type": "stream",
     "text": [
      "    Fold 5 best total loss: 0.249341\n",
      "  📊 Trial 57 - Average CV Loss: 0.119987 (±0.135908)\n",
      "  🔄 Trial 58, Fold 1/5\n",
      "    Fold 1 best total loss: 0.008332\n",
      "  🔄 Trial 58, Fold 2/5\n",
      "    Fold 2 best total loss: 0.177959\n",
      "  🔄 Trial 58, Fold 3/5\n",
      "    Fold 3 best total loss: 0.017617\n",
      "  🔄 Trial 58, Fold 4/5\n",
      "    Fold 4 best total loss: 0.010198\n",
      "  🔄 Trial 58, Fold 5/5\n"
     ]
    },
    {
     "name": "stderr",
     "output_type": "stream",
     "text": [
      "[I 2025-09-29 22:37:54,297] Trial 58 finished with value: 0.04578937941696495 and parameters: {'lstm_hidden_size': 96, 'lstm_n_layers': 3, 'lstm_dropout': 0.2, 'decoder_hidden_size': 16, 'decoder_n_layers': 2, 'decoder_dropout': 0.2, 'current_hidden_size': 48, 'current_n_layers': 2, 'current_dropout': 0.2}. Best is trial 56 with value: 0.012543224275577813.\n"
     ]
    },
    {
     "name": "stdout",
     "output_type": "stream",
     "text": [
      "    Fold 5 best total loss: 0.014841\n",
      "  📊 Trial 58 - Average CV Loss: 0.045789 (±0.066166)\n",
      "  🔄 Trial 59, Fold 1/5\n",
      "    Fold 1 best total loss: 0.006748\n",
      "  🔄 Trial 59, Fold 2/5\n",
      "    Fold 2 best total loss: 0.012659\n",
      "  🔄 Trial 59, Fold 3/5\n",
      "    Fold 3 best total loss: 0.015082\n",
      "  🔄 Trial 59, Fold 4/5\n",
      "    Fold 4 best total loss: 0.010648\n",
      "  🔄 Trial 59, Fold 5/5\n"
     ]
    },
    {
     "name": "stderr",
     "output_type": "stream",
     "text": [
      "[I 2025-09-29 22:43:24,498] Trial 59 finished with value: 0.011053004348650575 and parameters: {'lstm_hidden_size': 96, 'lstm_n_layers': 3, 'lstm_dropout': 0.4, 'decoder_hidden_size': 48, 'decoder_n_layers': 2, 'decoder_dropout': 0.30000000000000004, 'current_hidden_size': 48, 'current_n_layers': 2, 'current_dropout': 0.1}. Best is trial 59 with value: 0.011053004348650575.\n"
     ]
    },
    {
     "name": "stdout",
     "output_type": "stream",
     "text": [
      "    Fold 5 best total loss: 0.010128\n",
      "  📊 Trial 59 - Average CV Loss: 0.011053 (±0.002770)\n",
      "  🔄 Trial 60, Fold 1/5\n",
      "    Fold 1 best total loss: 0.007389\n",
      "  🔄 Trial 60, Fold 2/5\n",
      "    Fold 2 best total loss: 0.013185\n",
      "  🔄 Trial 60, Fold 3/5\n",
      "    Fold 3 best total loss: 0.015425\n",
      "  🔄 Trial 60, Fold 4/5\n",
      "    Fold 4 best total loss: 0.013275\n",
      "  🔄 Trial 60, Fold 5/5\n"
     ]
    },
    {
     "name": "stderr",
     "output_type": "stream",
     "text": [
      "[I 2025-09-29 22:48:56,166] Trial 60 finished with value: 0.012437578762182966 and parameters: {'lstm_hidden_size': 96, 'lstm_n_layers': 3, 'lstm_dropout': 0.4, 'decoder_hidden_size': 48, 'decoder_n_layers': 2, 'decoder_dropout': 0.2, 'current_hidden_size': 48, 'current_n_layers': 2, 'current_dropout': 0.1}. Best is trial 59 with value: 0.011053004348650575.\n"
     ]
    },
    {
     "name": "stdout",
     "output_type": "stream",
     "text": [
      "    Fold 5 best total loss: 0.012914\n",
      "  📊 Trial 60 - Average CV Loss: 0.012438 (±0.002680)\n",
      "  🔄 Trial 61, Fold 1/5\n",
      "    Fold 1 best total loss: 0.007294\n",
      "  🔄 Trial 61, Fold 2/5\n",
      "    Fold 2 best total loss: 0.017222\n",
      "  🔄 Trial 61, Fold 3/5\n",
      "    Fold 3 best total loss: 0.017407\n",
      "  🔄 Trial 61, Fold 4/5\n",
      "    Fold 4 best total loss: 0.011130\n",
      "  🔄 Trial 61, Fold 5/5\n"
     ]
    },
    {
     "name": "stderr",
     "output_type": "stream",
     "text": [
      "[I 2025-09-29 22:56:34,829] Trial 61 finished with value: 0.012973133433843032 and parameters: {'lstm_hidden_size': 96, 'lstm_n_layers': 4, 'lstm_dropout': 0.4, 'decoder_hidden_size': 48, 'decoder_n_layers': 2, 'decoder_dropout': 0.2, 'current_hidden_size': 48, 'current_n_layers': 3, 'current_dropout': 0.1}. Best is trial 59 with value: 0.011053004348650575.\n"
     ]
    },
    {
     "name": "stdout",
     "output_type": "stream",
     "text": [
      "    Fold 5 best total loss: 0.011814\n",
      "  📊 Trial 61 - Average CV Loss: 0.012973 (±0.003865)\n",
      "  🔄 Trial 62, Fold 1/5\n",
      "    Fold 1 best total loss: 0.007385\n",
      "  🔄 Trial 62, Fold 2/5\n",
      "    Fold 2 best total loss: 0.317472\n",
      "  🔄 Trial 62, Fold 3/5\n",
      "    Fold 3 best total loss: 0.013283\n",
      "  🔄 Trial 62, Fold 4/5\n",
      "    Fold 4 best total loss: 0.010253\n",
      "  🔄 Trial 62, Fold 5/5\n"
     ]
    },
    {
     "name": "stderr",
     "output_type": "stream",
     "text": [
      "[I 2025-09-29 23:03:58,892] Trial 62 finished with value: 0.12542152348905802 and parameters: {'lstm_hidden_size': 96, 'lstm_n_layers': 4, 'lstm_dropout': 0.4, 'decoder_hidden_size': 48, 'decoder_n_layers': 2, 'decoder_dropout': 0.2, 'current_hidden_size': 48, 'current_n_layers': 4, 'current_dropout': 0.1}. Best is trial 59 with value: 0.011053004348650575.\n"
     ]
    },
    {
     "name": "stdout",
     "output_type": "stream",
     "text": [
      "    Fold 5 best total loss: 0.278713\n",
      "  📊 Trial 62 - Average CV Loss: 0.125422 (±0.141529)\n",
      "  🔄 Trial 63, Fold 1/5\n",
      "    Fold 1 best total loss: 0.007192\n",
      "  🔄 Trial 63, Fold 2/5\n",
      "    Fold 2 best total loss: 0.015408\n",
      "  🔄 Trial 63, Fold 3/5\n",
      "    Fold 3 best total loss: 0.015064\n",
      "  🔄 Trial 63, Fold 4/5\n",
      "    Fold 4 best total loss: 0.010345\n",
      "  🔄 Trial 63, Fold 5/5\n"
     ]
    },
    {
     "name": "stderr",
     "output_type": "stream",
     "text": [
      "[I 2025-09-29 23:10:27,438] Trial 63 finished with value: 0.011709601007169113 and parameters: {'lstm_hidden_size': 96, 'lstm_n_layers': 4, 'lstm_dropout': 0.4, 'decoder_hidden_size': 48, 'decoder_n_layers': 2, 'decoder_dropout': 0.2, 'current_hidden_size': 48, 'current_n_layers': 2, 'current_dropout': 0.1}. Best is trial 59 with value: 0.011053004348650575.\n"
     ]
    },
    {
     "name": "stdout",
     "output_type": "stream",
     "text": [
      "    Fold 5 best total loss: 0.010540\n",
      "  📊 Trial 63 - Average CV Loss: 0.011710 (±0.003117)\n",
      "  🔄 Trial 64, Fold 1/5\n",
      "    Fold 1 best total loss: 0.007162\n",
      "  🔄 Trial 64, Fold 2/5\n",
      "    Fold 2 best total loss: 0.016266\n",
      "  🔄 Trial 64, Fold 3/5\n",
      "    Fold 3 best total loss: 0.018160\n",
      "  🔄 Trial 64, Fold 4/5\n",
      "    Fold 4 best total loss: 0.011586\n",
      "  🔄 Trial 64, Fold 5/5\n"
     ]
    },
    {
     "name": "stderr",
     "output_type": "stream",
     "text": [
      "[I 2025-09-29 23:18:24,671] Trial 64 finished with value: 0.013487047422677279 and parameters: {'lstm_hidden_size': 96, 'lstm_n_layers': 5, 'lstm_dropout': 0.4, 'decoder_hidden_size': 48, 'decoder_n_layers': 2, 'decoder_dropout': 0.1, 'current_hidden_size': 48, 'current_n_layers': 3, 'current_dropout': 0.1}. Best is trial 59 with value: 0.011053004348650575.\n"
     ]
    },
    {
     "name": "stdout",
     "output_type": "stream",
     "text": [
      "    Fold 5 best total loss: 0.014262\n",
      "  📊 Trial 64 - Average CV Loss: 0.013487 (±0.003841)\n",
      "  🔄 Trial 65, Fold 1/5\n",
      "    Fold 1 best total loss: 0.007361\n",
      "  🔄 Trial 65, Fold 2/5\n",
      "    Fold 2 best total loss: 0.019374\n",
      "  🔄 Trial 65, Fold 3/5\n",
      "    Fold 3 best total loss: 0.015729\n",
      "  🔄 Trial 65, Fold 4/5\n",
      "    Fold 4 best total loss: 0.198960\n",
      "  🔄 Trial 65, Fold 5/5\n"
     ]
    },
    {
     "name": "stderr",
     "output_type": "stream",
     "text": [
      "[I 2025-09-29 23:24:49,297] Trial 65 finished with value: 0.050743967189919206 and parameters: {'lstm_hidden_size': 96, 'lstm_n_layers': 4, 'lstm_dropout': 0.4, 'decoder_hidden_size': 48, 'decoder_n_layers': 2, 'decoder_dropout': 0.2, 'current_hidden_size': 48, 'current_n_layers': 2, 'current_dropout': 0.1}. Best is trial 59 with value: 0.011053004348650575.\n"
     ]
    },
    {
     "name": "stdout",
     "output_type": "stream",
     "text": [
      "    Fold 5 best total loss: 0.012297\n",
      "  📊 Trial 65 - Average CV Loss: 0.050744 (±0.074214)\n",
      "  🔄 Trial 66, Fold 1/5\n",
      "    Fold 1 best total loss: 0.007565\n",
      "  🔄 Trial 66, Fold 2/5\n",
      "    Fold 2 best total loss: 0.014326\n",
      "  🔄 Trial 66, Fold 3/5\n",
      "    Fold 3 best total loss: 0.016386\n",
      "  🔄 Trial 66, Fold 4/5\n",
      "    Fold 4 best total loss: 0.009894\n",
      "  🔄 Trial 66, Fold 5/5\n"
     ]
    },
    {
     "name": "stderr",
     "output_type": "stream",
     "text": [
      "[I 2025-09-29 23:31:12,694] Trial 66 finished with value: 0.011745190666988491 and parameters: {'lstm_hidden_size': 96, 'lstm_n_layers': 4, 'lstm_dropout': 0.4, 'decoder_hidden_size': 48, 'decoder_n_layers': 2, 'decoder_dropout': 0.2, 'current_hidden_size': 48, 'current_n_layers': 2, 'current_dropout': 0.1}. Best is trial 59 with value: 0.011053004348650575.\n"
     ]
    },
    {
     "name": "stdout",
     "output_type": "stream",
     "text": [
      "    Fold 5 best total loss: 0.010554\n",
      "  📊 Trial 66 - Average CV Loss: 0.011745 (±0.003179)\n",
      "  🔄 Trial 67, Fold 1/5\n",
      "    Fold 1 best total loss: 0.006679\n",
      "  🔄 Trial 67, Fold 2/5\n",
      "    Fold 2 best total loss: 0.016938\n",
      "  🔄 Trial 67, Fold 3/5\n",
      "    Fold 3 best total loss: 0.017806\n",
      "  🔄 Trial 67, Fold 4/5\n",
      "    Fold 4 best total loss: 0.011257\n",
      "  🔄 Trial 67, Fold 5/5\n"
     ]
    },
    {
     "name": "stderr",
     "output_type": "stream",
     "text": [
      "[I 2025-09-29 23:37:37,411] Trial 67 finished with value: 0.013005511392839253 and parameters: {'lstm_hidden_size': 96, 'lstm_n_layers': 4, 'lstm_dropout': 0.4, 'decoder_hidden_size': 48, 'decoder_n_layers': 2, 'decoder_dropout': 0.2, 'current_hidden_size': 48, 'current_n_layers': 2, 'current_dropout': 0.1}. Best is trial 59 with value: 0.011053004348650575.\n"
     ]
    },
    {
     "name": "stdout",
     "output_type": "stream",
     "text": [
      "    Fold 5 best total loss: 0.012348\n",
      "  📊 Trial 67 - Average CV Loss: 0.013006 (±0.004050)\n",
      "  🔄 Trial 68, Fold 1/5\n",
      "    Fold 1 best total loss: 0.006807\n",
      "  🔄 Trial 68, Fold 2/5\n",
      "    Fold 2 best total loss: 0.016894\n",
      "  🔄 Trial 68, Fold 3/5\n",
      "    Fold 3 best total loss: 0.015901\n",
      "  🔄 Trial 68, Fold 4/5\n",
      "    Fold 4 best total loss: 0.008860\n",
      "  🔄 Trial 68, Fold 5/5\n"
     ]
    },
    {
     "name": "stderr",
     "output_type": "stream",
     "text": [
      "[I 2025-09-29 23:45:40,730] Trial 68 finished with value: 0.011869396443944424 and parameters: {'lstm_hidden_size': 96, 'lstm_n_layers': 5, 'lstm_dropout': 0.4, 'decoder_hidden_size': 48, 'decoder_n_layers': 2, 'decoder_dropout': 0.2, 'current_hidden_size': 48, 'current_n_layers': 2, 'current_dropout': 0.1}. Best is trial 59 with value: 0.011053004348650575.\n"
     ]
    },
    {
     "name": "stdout",
     "output_type": "stream",
     "text": [
      "    Fold 5 best total loss: 0.010884\n",
      "  📊 Trial 68 - Average CV Loss: 0.011869 (±0.003928)\n",
      "  🔄 Trial 69, Fold 1/5\n",
      "    Fold 1 best total loss: 0.007407\n",
      "  🔄 Trial 69, Fold 2/5\n",
      "    Fold 2 best total loss: 0.318269\n",
      "  🔄 Trial 69, Fold 3/5\n",
      "    Fold 3 best total loss: 0.020628\n",
      "  🔄 Trial 69, Fold 4/5\n",
      "    Fold 4 best total loss: 0.172830\n",
      "  🔄 Trial 69, Fold 5/5\n"
     ]
    },
    {
     "name": "stderr",
     "output_type": "stream",
     "text": [
      "[I 2025-09-29 23:53:33,898] Trial 69 finished with value: 0.1060449808370322 and parameters: {'lstm_hidden_size': 16, 'lstm_n_layers': 5, 'lstm_dropout': 0.4, 'decoder_hidden_size': 48, 'decoder_n_layers': 4, 'decoder_dropout': 0.1, 'current_hidden_size': 48, 'current_n_layers': 2, 'current_dropout': 0.1}. Best is trial 59 with value: 0.011053004348650575.\n"
     ]
    },
    {
     "name": "stdout",
     "output_type": "stream",
     "text": [
      "    Fold 5 best total loss: 0.011091\n",
      "  📊 Trial 69 - Average CV Loss: 0.106045 (±0.122915)\n",
      "  🔄 Trial 70, Fold 1/5\n",
      "    Fold 1 best total loss: 0.314716\n",
      "  🔄 Trial 70, Fold 2/5\n",
      "    Fold 2 best total loss: 0.014609\n",
      "  🔄 Trial 70, Fold 3/5\n",
      "    Fold 3 best total loss: 0.011554\n",
      "  🔄 Trial 70, Fold 4/5\n",
      "    Fold 4 best total loss: 0.011265\n",
      "  🔄 Trial 70, Fold 5/5\n"
     ]
    },
    {
     "name": "stderr",
     "output_type": "stream",
     "text": [
      "[I 2025-09-29 23:59:55,077] Trial 70 finished with value: 0.07254046759917401 and parameters: {'lstm_hidden_size': 32, 'lstm_n_layers': 4, 'lstm_dropout': 0.4, 'decoder_hidden_size': 48, 'decoder_n_layers': 2, 'decoder_dropout': 0.2, 'current_hidden_size': 48, 'current_n_layers': 2, 'current_dropout': 0.1}. Best is trial 59 with value: 0.011053004348650575.\n"
     ]
    },
    {
     "name": "stdout",
     "output_type": "stream",
     "text": [
      "    Fold 5 best total loss: 0.010558\n",
      "  📊 Trial 70 - Average CV Loss: 0.072540 (±0.121096)\n",
      "  🔄 Trial 71, Fold 1/5\n",
      "    Fold 1 best total loss: 0.007074\n",
      "  🔄 Trial 71, Fold 2/5\n",
      "    Fold 2 best total loss: 0.013796\n",
      "  🔄 Trial 71, Fold 3/5\n",
      "    Fold 3 best total loss: 0.013763\n",
      "  🔄 Trial 71, Fold 4/5\n",
      "    Fold 4 best total loss: 0.014047\n",
      "  🔄 Trial 71, Fold 5/5\n"
     ]
    },
    {
     "name": "stderr",
     "output_type": "stream",
     "text": [
      "[I 2025-09-30 00:07:51,000] Trial 71 finished with value: 0.011973617516923695 and parameters: {'lstm_hidden_size': 96, 'lstm_n_layers': 5, 'lstm_dropout': 0.4, 'decoder_hidden_size': 48, 'decoder_n_layers': 2, 'decoder_dropout': 0.2, 'current_hidden_size': 48, 'current_n_layers': 2, 'current_dropout': 0.1}. Best is trial 59 with value: 0.011053004348650575.\n"
     ]
    },
    {
     "name": "stdout",
     "output_type": "stream",
     "text": [
      "    Fold 5 best total loss: 0.011188\n",
      "  📊 Trial 71 - Average CV Loss: 0.011974 (±0.002663)\n",
      "  🔄 Trial 72, Fold 1/5\n",
      "    Fold 1 best total loss: 0.314800\n",
      "  🔄 Trial 72, Fold 2/5\n",
      "    Fold 2 best total loss: 0.012548\n",
      "  🔄 Trial 72, Fold 3/5\n",
      "    Fold 3 best total loss: 0.016415\n",
      "  🔄 Trial 72, Fold 4/5\n",
      "    Fold 4 best total loss: 0.010980\n",
      "  🔄 Trial 72, Fold 5/5\n"
     ]
    },
    {
     "name": "stderr",
     "output_type": "stream",
     "text": [
      "[I 2025-09-30 00:15:49,257] Trial 72 finished with value: 0.07319083870388568 and parameters: {'lstm_hidden_size': 96, 'lstm_n_layers': 5, 'lstm_dropout': 0.4, 'decoder_hidden_size': 48, 'decoder_n_layers': 2, 'decoder_dropout': 0.2, 'current_hidden_size': 48, 'current_n_layers': 2, 'current_dropout': 0.1}. Best is trial 59 with value: 0.011053004348650575.\n"
     ]
    },
    {
     "name": "stdout",
     "output_type": "stream",
     "text": [
      "    Fold 5 best total loss: 0.011211\n",
      "  📊 Trial 72 - Average CV Loss: 0.073191 (±0.120820)\n",
      "  🔄 Trial 73, Fold 1/5\n",
      "    Fold 1 best total loss: 0.007370\n",
      "  🔄 Trial 73, Fold 2/5\n",
      "    Fold 2 best total loss: 0.016390\n",
      "  🔄 Trial 73, Fold 3/5\n",
      "    Fold 3 best total loss: 0.013324\n",
      "  🔄 Trial 73, Fold 4/5\n",
      "    Fold 4 best total loss: 0.010637\n",
      "  🔄 Trial 73, Fold 5/5\n"
     ]
    },
    {
     "name": "stderr",
     "output_type": "stream",
     "text": [
      "[I 2025-09-30 00:23:43,889] Trial 73 finished with value: 0.012021190853556619 and parameters: {'lstm_hidden_size': 96, 'lstm_n_layers': 5, 'lstm_dropout': 0.4, 'decoder_hidden_size': 48, 'decoder_n_layers': 2, 'decoder_dropout': 0.2, 'current_hidden_size': 48, 'current_n_layers': 2, 'current_dropout': 0.1}. Best is trial 59 with value: 0.011053004348650575.\n"
     ]
    },
    {
     "name": "stdout",
     "output_type": "stream",
     "text": [
      "    Fold 5 best total loss: 0.012385\n",
      "  📊 Trial 73 - Average CV Loss: 0.012021 (±0.002982)\n",
      "  🔄 Trial 74, Fold 1/5\n",
      "    Fold 1 best total loss: 0.007568\n",
      "  🔄 Trial 74, Fold 2/5\n",
      "    Fold 2 best total loss: 0.017318\n",
      "  🔄 Trial 74, Fold 3/5\n",
      "    Fold 3 best total loss: 0.015598\n",
      "  🔄 Trial 74, Fold 4/5\n",
      "    Fold 4 best total loss: 0.197795\n",
      "  🔄 Trial 74, Fold 5/5\n"
     ]
    },
    {
     "name": "stderr",
     "output_type": "stream",
     "text": [
      "[I 2025-09-30 00:31:37,256] Trial 74 finished with value: 0.04946426229435019 and parameters: {'lstm_hidden_size': 96, 'lstm_n_layers': 5, 'lstm_dropout': 0.4, 'decoder_hidden_size': 48, 'decoder_n_layers': 2, 'decoder_dropout': 0.2, 'current_hidden_size': 48, 'current_n_layers': 2, 'current_dropout': 0.1}. Best is trial 59 with value: 0.011053004348650575.\n"
     ]
    },
    {
     "name": "stdout",
     "output_type": "stream",
     "text": [
      "    Fold 5 best total loss: 0.009041\n",
      "  📊 Trial 74 - Average CV Loss: 0.049464 (±0.074258)\n",
      "  🔄 Trial 75, Fold 1/5\n",
      "    Fold 1 best total loss: 0.007313\n",
      "  🔄 Trial 75, Fold 2/5\n",
      "    Fold 2 best total loss: 0.015666\n",
      "  🔄 Trial 75, Fold 3/5\n",
      "    Fold 3 best total loss: 0.015913\n",
      "  🔄 Trial 75, Fold 4/5\n",
      "    Fold 4 best total loss: 0.014558\n",
      "  🔄 Trial 75, Fold 5/5\n"
     ]
    },
    {
     "name": "stderr",
     "output_type": "stream",
     "text": [
      "[I 2025-09-30 00:39:32,390] Trial 75 finished with value: 0.013078332802979275 and parameters: {'lstm_hidden_size': 96, 'lstm_n_layers': 5, 'lstm_dropout': 0.4, 'decoder_hidden_size': 48, 'decoder_n_layers': 2, 'decoder_dropout': 0.30000000000000004, 'current_hidden_size': 48, 'current_n_layers': 2, 'current_dropout': 0.1}. Best is trial 59 with value: 0.011053004348650575.\n"
     ]
    },
    {
     "name": "stdout",
     "output_type": "stream",
     "text": [
      "    Fold 5 best total loss: 0.011942\n",
      "  📊 Trial 75 - Average CV Loss: 0.013078 (±0.003208)\n",
      "  🔄 Trial 76, Fold 1/5\n",
      "    Fold 1 best total loss: 0.007073\n",
      "  🔄 Trial 76, Fold 2/5\n",
      "    Fold 2 best total loss: 0.318775\n",
      "  🔄 Trial 76, Fold 3/5\n",
      "    Fold 3 best total loss: 0.013092\n",
      "  🔄 Trial 76, Fold 4/5\n",
      "    Fold 4 best total loss: 0.008926\n",
      "  🔄 Trial 76, Fold 5/5\n"
     ]
    },
    {
     "name": "stderr",
     "output_type": "stream",
     "text": [
      "[I 2025-09-30 00:49:02,674] Trial 76 finished with value: 0.07145701042027212 and parameters: {'lstm_hidden_size': 48, 'lstm_n_layers': 6, 'lstm_dropout': 0.4, 'decoder_hidden_size': 48, 'decoder_n_layers': 2, 'decoder_dropout': 0.2, 'current_hidden_size': 48, 'current_n_layers': 2, 'current_dropout': 0.1}. Best is trial 59 with value: 0.011053004348650575.\n"
     ]
    },
    {
     "name": "stdout",
     "output_type": "stream",
     "text": [
      "    Fold 5 best total loss: 0.009420\n",
      "  📊 Trial 76 - Average CV Loss: 0.071457 (±0.123674)\n",
      "  🔄 Trial 77, Fold 1/5\n",
      "    Fold 1 best total loss: 0.008489\n",
      "  🔄 Trial 77, Fold 2/5\n",
      "    Fold 2 best total loss: 0.013536\n",
      "  🔄 Trial 77, Fold 3/5\n",
      "    Fold 3 best total loss: 0.222400\n",
      "  🔄 Trial 77, Fold 4/5\n",
      "    Fold 4 best total loss: 0.018472\n",
      "  🔄 Trial 77, Fold 5/5\n"
     ]
    },
    {
     "name": "stderr",
     "output_type": "stream",
     "text": [
      "[I 2025-09-30 00:57:06,910] Trial 77 finished with value: 0.1216907531954348 and parameters: {'lstm_hidden_size': 72, 'lstm_n_layers': 5, 'lstm_dropout': 0.4, 'decoder_hidden_size': 48, 'decoder_n_layers': 2, 'decoder_dropout': 0.1, 'current_hidden_size': 48, 'current_n_layers': 5, 'current_dropout': 0.1}. Best is trial 59 with value: 0.011053004348650575.\n"
     ]
    },
    {
     "name": "stdout",
     "output_type": "stream",
     "text": [
      "    Fold 5 best total loss: 0.345557\n",
      "  📊 Trial 77 - Average CV Loss: 0.121691 (±0.138148)\n",
      "  🔄 Trial 78, Fold 1/5\n",
      "    Fold 1 best total loss: 0.007654\n",
      "  🔄 Trial 78, Fold 2/5\n",
      "    Fold 2 best total loss: 0.018787\n",
      "  🔄 Trial 78, Fold 3/5\n",
      "    Fold 3 best total loss: 0.014967\n",
      "  🔄 Trial 78, Fold 4/5\n",
      "    Fold 4 best total loss: 0.009518\n",
      "  🔄 Trial 78, Fold 5/5\n"
     ]
    },
    {
     "name": "stderr",
     "output_type": "stream",
     "text": [
      "[I 2025-09-30 01:05:04,149] Trial 78 finished with value: 0.012451499269809574 and parameters: {'lstm_hidden_size': 96, 'lstm_n_layers': 5, 'lstm_dropout': 0.4, 'decoder_hidden_size': 48, 'decoder_n_layers': 2, 'decoder_dropout': 0.30000000000000004, 'current_hidden_size': 48, 'current_n_layers': 2, 'current_dropout': 0.1}. Best is trial 59 with value: 0.011053004348650575.\n"
     ]
    },
    {
     "name": "stdout",
     "output_type": "stream",
     "text": [
      "    Fold 5 best total loss: 0.011332\n",
      "  📊 Trial 78 - Average CV Loss: 0.012451 (±0.003984)\n",
      "  🔄 Trial 79, Fold 1/5\n",
      "    Fold 1 best total loss: 0.009050\n",
      "  🔄 Trial 79, Fold 2/5\n",
      "    Fold 2 best total loss: 0.318272\n",
      "  🔄 Trial 79, Fold 3/5\n",
      "    Fold 3 best total loss: 0.018640\n",
      "  🔄 Trial 79, Fold 4/5\n",
      "    Fold 4 best total loss: 0.009395\n",
      "  🔄 Trial 79, Fold 5/5\n"
     ]
    },
    {
     "name": "stderr",
     "output_type": "stream",
     "text": [
      "[I 2025-09-30 01:13:02,013] Trial 79 finished with value: 0.07321978932595812 and parameters: {'lstm_hidden_size': 96, 'lstm_n_layers': 5, 'lstm_dropout': 0.4, 'decoder_hidden_size': 48, 'decoder_n_layers': 3, 'decoder_dropout': 0.4, 'current_hidden_size': 48, 'current_n_layers': 2, 'current_dropout': 0.1}. Best is trial 59 with value: 0.011053004348650575.\n"
     ]
    },
    {
     "name": "stdout",
     "output_type": "stream",
     "text": [
      "    Fold 5 best total loss: 0.010742\n",
      "  📊 Trial 79 - Average CV Loss: 0.073220 (±0.122576)\n",
      "  🔄 Trial 80, Fold 1/5\n",
      "    Fold 1 best total loss: 0.007867\n",
      "  🔄 Trial 80, Fold 2/5\n",
      "    Fold 2 best total loss: 0.021995\n",
      "  🔄 Trial 80, Fold 3/5\n",
      "    Fold 3 best total loss: 0.015960\n",
      "  🔄 Trial 80, Fold 4/5\n",
      "    Fold 4 best total loss: 0.009615\n",
      "  🔄 Trial 80, Fold 5/5\n"
     ]
    },
    {
     "name": "stderr",
     "output_type": "stream",
     "text": [
      "[I 2025-09-30 01:21:04,838] Trial 80 finished with value: 0.013061346614267676 and parameters: {'lstm_hidden_size': 96, 'lstm_n_layers': 5, 'lstm_dropout': 0.4, 'decoder_hidden_size': 48, 'decoder_n_layers': 6, 'decoder_dropout': 0.30000000000000004, 'current_hidden_size': 48, 'current_n_layers': 2, 'current_dropout': 0.1}. Best is trial 59 with value: 0.011053004348650575.\n"
     ]
    },
    {
     "name": "stdout",
     "output_type": "stream",
     "text": [
      "    Fold 5 best total loss: 0.009870\n",
      "  📊 Trial 80 - Average CV Loss: 0.013061 (±0.005240)\n",
      "  🔄 Trial 81, Fold 1/5\n",
      "    Fold 1 best total loss: 0.314907\n",
      "  🔄 Trial 81, Fold 2/5\n",
      "    Fold 2 best total loss: 0.016474\n",
      "  🔄 Trial 81, Fold 3/5\n",
      "    Fold 3 best total loss: 0.225780\n",
      "  🔄 Trial 81, Fold 4/5\n",
      "    Fold 4 best total loss: 0.010585\n",
      "  🔄 Trial 81, Fold 5/5\n"
     ]
    },
    {
     "name": "stderr",
     "output_type": "stream",
     "text": [
      "[I 2025-09-30 01:30:50,180] Trial 81 finished with value: 0.11573967811418698 and parameters: {'lstm_hidden_size': 96, 'lstm_n_layers': 6, 'lstm_dropout': 0.4, 'decoder_hidden_size': 48, 'decoder_n_layers': 2, 'decoder_dropout': 0.30000000000000004, 'current_hidden_size': 48, 'current_n_layers': 3, 'current_dropout': 0.1}. Best is trial 59 with value: 0.011053004348650575.\n"
     ]
    },
    {
     "name": "stdout",
     "output_type": "stream",
     "text": [
      "    Fold 5 best total loss: 0.010953\n",
      "  📊 Trial 81 - Average CV Loss: 0.115740 (±0.129358)\n",
      "  🔄 Trial 82, Fold 1/5\n",
      "    Fold 1 best total loss: 0.007322\n",
      "  🔄 Trial 82, Fold 2/5\n",
      "    Fold 2 best total loss: 0.018230\n",
      "  🔄 Trial 82, Fold 3/5\n",
      "    Fold 3 best total loss: 0.014411\n",
      "  🔄 Trial 82, Fold 4/5\n",
      "    Fold 4 best total loss: 0.012650\n",
      "  🔄 Trial 82, Fold 5/5\n"
     ]
    },
    {
     "name": "stderr",
     "output_type": "stream",
     "text": [
      "[I 2025-09-30 01:38:47,255] Trial 82 finished with value: 0.012596767884679139 and parameters: {'lstm_hidden_size': 96, 'lstm_n_layers': 5, 'lstm_dropout': 0.4, 'decoder_hidden_size': 48, 'decoder_n_layers': 2, 'decoder_dropout': 0.30000000000000004, 'current_hidden_size': 48, 'current_n_layers': 2, 'current_dropout': 0.1}. Best is trial 59 with value: 0.011053004348650575.\n"
     ]
    },
    {
     "name": "stdout",
     "output_type": "stream",
     "text": [
      "    Fold 5 best total loss: 0.010371\n",
      "  📊 Trial 82 - Average CV Loss: 0.012597 (±0.003683)\n",
      "  🔄 Trial 83, Fold 1/5\n",
      "    Fold 1 best total loss: 0.007551\n",
      "  🔄 Trial 83, Fold 2/5\n",
      "    Fold 2 best total loss: 0.169967\n",
      "  🔄 Trial 83, Fold 3/5\n",
      "    Fold 3 best total loss: 0.016925\n",
      "  🔄 Trial 83, Fold 4/5\n",
      "    Fold 4 best total loss: 0.008351\n",
      "  🔄 Trial 83, Fold 5/5\n"
     ]
    },
    {
     "name": "stderr",
     "output_type": "stream",
     "text": [
      "[I 2025-09-30 01:43:37,685] Trial 83 finished with value: 0.04281790408422239 and parameters: {'lstm_hidden_size': 96, 'lstm_n_layers': 3, 'lstm_dropout': 0.4, 'decoder_hidden_size': 48, 'decoder_n_layers': 2, 'decoder_dropout': 0.2, 'current_hidden_size': 48, 'current_n_layers': 2, 'current_dropout': 0.1}. Best is trial 59 with value: 0.011053004348650575.\n"
     ]
    },
    {
     "name": "stdout",
     "output_type": "stream",
     "text": [
      "    Fold 5 best total loss: 0.011296\n",
      "  📊 Trial 83 - Average CV Loss: 0.042818 (±0.063660)\n",
      "  🔄 Trial 84, Fold 1/5\n",
      "    Fold 1 best total loss: 0.007773\n",
      "  🔄 Trial 84, Fold 2/5\n",
      "    Fold 2 best total loss: 0.016391\n",
      "  🔄 Trial 84, Fold 3/5\n",
      "    Fold 3 best total loss: 0.015276\n",
      "  🔄 Trial 84, Fold 4/5\n",
      "    Fold 4 best total loss: 0.010450\n",
      "  🔄 Trial 84, Fold 5/5\n"
     ]
    },
    {
     "name": "stderr",
     "output_type": "stream",
     "text": [
      "[I 2025-09-30 01:48:29,547] Trial 84 finished with value: 0.012695529748452828 and parameters: {'lstm_hidden_size': 96, 'lstm_n_layers': 3, 'lstm_dropout': 0.4, 'decoder_hidden_size': 48, 'decoder_n_layers': 2, 'decoder_dropout': 0.2, 'current_hidden_size': 48, 'current_n_layers': 2, 'current_dropout': 0.1}. Best is trial 59 with value: 0.011053004348650575.\n"
     ]
    },
    {
     "name": "stdout",
     "output_type": "stream",
     "text": [
      "    Fold 5 best total loss: 0.013587\n",
      "  📊 Trial 84 - Average CV Loss: 0.012696 (±0.003174)\n",
      "  🔄 Trial 85, Fold 1/5\n",
      "    Fold 1 best total loss: 0.007039\n",
      "  🔄 Trial 85, Fold 2/5\n",
      "    Fold 2 best total loss: 0.017313\n",
      "  🔄 Trial 85, Fold 3/5\n",
      "    Fold 3 best total loss: 0.016155\n",
      "  🔄 Trial 85, Fold 4/5\n",
      "    Fold 4 best total loss: 0.009595\n",
      "  🔄 Trial 85, Fold 5/5\n"
     ]
    },
    {
     "name": "stderr",
     "output_type": "stream",
     "text": [
      "[I 2025-09-30 01:54:51,677] Trial 85 finished with value: 0.012296197121031582 and parameters: {'lstm_hidden_size': 96, 'lstm_n_layers': 4, 'lstm_dropout': 0.4, 'decoder_hidden_size': 48, 'decoder_n_layers': 2, 'decoder_dropout': 0.30000000000000004, 'current_hidden_size': 72, 'current_n_layers': 2, 'current_dropout': 0.1}. Best is trial 59 with value: 0.011053004348650575.\n"
     ]
    },
    {
     "name": "stdout",
     "output_type": "stream",
     "text": [
      "    Fold 5 best total loss: 0.011379\n",
      "  📊 Trial 85 - Average CV Loss: 0.012296 (±0.003895)\n",
      "  🔄 Trial 86, Fold 1/5\n",
      "    Fold 1 best total loss: 0.225660\n",
      "  🔄 Trial 86, Fold 2/5\n",
      "    Fold 2 best total loss: 0.317249\n",
      "  🔄 Trial 86, Fold 3/5\n",
      "    Fold 3 best total loss: 0.203079\n",
      "  🔄 Trial 86, Fold 4/5\n",
      "    Fold 4 best total loss: 0.203895\n",
      "  🔄 Trial 86, Fold 5/5\n"
     ]
    },
    {
     "name": "stderr",
     "output_type": "stream",
     "text": [
      "[I 2025-09-30 02:02:41,832] Trial 86 finished with value: 0.2593259785324335 and parameters: {'lstm_hidden_size': 16, 'lstm_n_layers': 5, 'lstm_dropout': 0.4, 'decoder_hidden_size': 48, 'decoder_n_layers': 2, 'decoder_dropout': 0.30000000000000004, 'current_hidden_size': 72, 'current_n_layers': 2, 'current_dropout': 0.1}. Best is trial 59 with value: 0.011053004348650575.\n"
     ]
    },
    {
     "name": "stdout",
     "output_type": "stream",
     "text": [
      "    Fold 5 best total loss: 0.346746\n",
      "  📊 Trial 86 - Average CV Loss: 0.259326 (±0.060609)\n",
      "  🔄 Trial 87, Fold 1/5\n",
      "    Fold 1 best total loss: 0.008168\n",
      "  🔄 Trial 87, Fold 2/5\n",
      "    Fold 2 best total loss: 0.319762\n",
      "  🔄 Trial 87, Fold 3/5\n",
      "    Fold 3 best total loss: 0.013415\n",
      "  🔄 Trial 87, Fold 4/5\n",
      "    Fold 4 best total loss: 0.009097\n",
      "  🔄 Trial 87, Fold 5/5\n"
     ]
    },
    {
     "name": "stderr",
     "output_type": "stream",
     "text": [
      "[I 2025-09-30 02:10:36,439] Trial 87 finished with value: 0.0724971821764484 and parameters: {'lstm_hidden_size': 96, 'lstm_n_layers': 5, 'lstm_dropout': 0.4, 'decoder_hidden_size': 48, 'decoder_n_layers': 2, 'decoder_dropout': 0.4, 'current_hidden_size': 72, 'current_n_layers': 2, 'current_dropout': 0.1}. Best is trial 59 with value: 0.011053004348650575.\n"
     ]
    },
    {
     "name": "stdout",
     "output_type": "stream",
     "text": [
      "    Fold 5 best total loss: 0.012044\n",
      "  📊 Trial 87 - Average CV Loss: 0.072497 (±0.123647)\n",
      "  🔄 Trial 88, Fold 1/5\n",
      "    Fold 1 best total loss: 0.007281\n",
      "  🔄 Trial 88, Fold 2/5\n",
      "    Fold 2 best total loss: 0.017744\n",
      "  🔄 Trial 88, Fold 3/5\n",
      "    Fold 3 best total loss: 0.016086\n",
      "  🔄 Trial 88, Fold 4/5\n",
      "    Fold 4 best total loss: 0.012035\n",
      "  🔄 Trial 88, Fold 5/5\n"
     ]
    },
    {
     "name": "stderr",
     "output_type": "stream",
     "text": [
      "[I 2025-09-30 02:16:57,184] Trial 88 finished with value: 0.012915444280952215 and parameters: {'lstm_hidden_size': 96, 'lstm_n_layers': 4, 'lstm_dropout': 0.4, 'decoder_hidden_size': 48, 'decoder_n_layers': 2, 'decoder_dropout': 0.30000000000000004, 'current_hidden_size': 72, 'current_n_layers': 2, 'current_dropout': 0.1}. Best is trial 59 with value: 0.011053004348650575.\n"
     ]
    },
    {
     "name": "stdout",
     "output_type": "stream",
     "text": [
      "    Fold 5 best total loss: 0.011431\n",
      "  📊 Trial 88 - Average CV Loss: 0.012915 (±0.003690)\n",
      "  🔄 Trial 89, Fold 1/5\n",
      "    Fold 1 best total loss: 0.006076\n",
      "  🔄 Trial 89, Fold 2/5\n",
      "    Fold 2 best total loss: 0.319088\n",
      "  🔄 Trial 89, Fold 3/5\n",
      "    Fold 3 best total loss: 0.012706\n",
      "  🔄 Trial 89, Fold 4/5\n",
      "    Fold 4 best total loss: 0.008580\n",
      "  🔄 Trial 89, Fold 5/5\n"
     ]
    },
    {
     "name": "stderr",
     "output_type": "stream",
     "text": [
      "[I 2025-09-30 02:24:50,648] Trial 89 finished with value: 0.07117516039288603 and parameters: {'lstm_hidden_size': 96, 'lstm_n_layers': 5, 'lstm_dropout': 0.4, 'decoder_hidden_size': 64, 'decoder_n_layers': 2, 'decoder_dropout': 0.30000000000000004, 'current_hidden_size': 72, 'current_n_layers': 2, 'current_dropout': 0.1}. Best is trial 59 with value: 0.011053004348650575.\n"
     ]
    },
    {
     "name": "stdout",
     "output_type": "stream",
     "text": [
      "    Fold 5 best total loss: 0.009426\n",
      "  📊 Trial 89 - Average CV Loss: 0.071175 (±0.123975)\n",
      "  🔄 Trial 90, Fold 1/5\n",
      "    Fold 1 best total loss: 0.007776\n",
      "  🔄 Trial 90, Fold 2/5\n",
      "    Fold 2 best total loss: 0.013041\n",
      "  🔄 Trial 90, Fold 3/5\n",
      "    Fold 3 best total loss: 0.013092\n",
      "  🔄 Trial 90, Fold 4/5\n",
      "    Fold 4 best total loss: 0.010267\n",
      "  🔄 Trial 90, Fold 5/5\n"
     ]
    },
    {
     "name": "stderr",
     "output_type": "stream",
     "text": [
      "[I 2025-09-30 02:31:16,166] Trial 90 finished with value: 0.01037523580598645 and parameters: {'lstm_hidden_size': 72, 'lstm_n_layers': 4, 'lstm_dropout': 0.4, 'decoder_hidden_size': 96, 'decoder_n_layers': 3, 'decoder_dropout': 0.4, 'current_hidden_size': 48, 'current_n_layers': 2, 'current_dropout': 0.1}. Best is trial 90 with value: 0.01037523580598645.\n"
     ]
    },
    {
     "name": "stdout",
     "output_type": "stream",
     "text": [
      "    Fold 5 best total loss: 0.007701\n",
      "  📊 Trial 90 - Average CV Loss: 0.010375 (±0.002384)\n",
      "  🔄 Trial 91, Fold 1/5\n",
      "    Fold 1 best total loss: 0.007500\n",
      "  🔄 Trial 91, Fold 2/5\n",
      "    Fold 2 best total loss: 0.013209\n",
      "  🔄 Trial 91, Fold 3/5\n",
      "    Fold 3 best total loss: 0.015934\n",
      "  🔄 Trial 91, Fold 4/5\n",
      "    Fold 4 best total loss: 0.010323\n",
      "  🔄 Trial 91, Fold 5/5\n"
     ]
    },
    {
     "name": "stderr",
     "output_type": "stream",
     "text": [
      "[I 2025-09-30 02:37:41,041] Trial 91 finished with value: 0.011771868134383112 and parameters: {'lstm_hidden_size': 72, 'lstm_n_layers': 4, 'lstm_dropout': 0.4, 'decoder_hidden_size': 96, 'decoder_n_layers': 3, 'decoder_dropout': 0.4, 'current_hidden_size': 64, 'current_n_layers': 2, 'current_dropout': 0.1}. Best is trial 90 with value: 0.01037523580598645.\n"
     ]
    },
    {
     "name": "stdout",
     "output_type": "stream",
     "text": [
      "    Fold 5 best total loss: 0.011894\n",
      "  📊 Trial 91 - Average CV Loss: 0.011772 (±0.002820)\n",
      "  🔄 Trial 92, Fold 1/5\n",
      "    Fold 1 best total loss: 0.006556\n",
      "  🔄 Trial 92, Fold 2/5\n",
      "    Fold 2 best total loss: 0.013934\n",
      "  🔄 Trial 92, Fold 3/5\n",
      "    Fold 3 best total loss: 0.015874\n",
      "  🔄 Trial 92, Fold 4/5\n",
      "    Fold 4 best total loss: 0.010201\n",
      "  🔄 Trial 92, Fold 5/5\n"
     ]
    },
    {
     "name": "stderr",
     "output_type": "stream",
     "text": [
      "[I 2025-09-30 02:44:05,077] Trial 92 finished with value: 0.011114907200681045 and parameters: {'lstm_hidden_size': 72, 'lstm_n_layers': 4, 'lstm_dropout': 0.4, 'decoder_hidden_size': 96, 'decoder_n_layers': 4, 'decoder_dropout': 0.4, 'current_hidden_size': 64, 'current_n_layers': 2, 'current_dropout': 0.1}. Best is trial 90 with value: 0.01037523580598645.\n"
     ]
    },
    {
     "name": "stdout",
     "output_type": "stream",
     "text": [
      "    Fold 5 best total loss: 0.009010\n",
      "  📊 Trial 92 - Average CV Loss: 0.011115 (±0.003366)\n",
      "  🔄 Trial 93, Fold 1/5\n",
      "    Fold 1 best total loss: 0.006565\n",
      "  🔄 Trial 93, Fold 2/5\n",
      "    Fold 2 best total loss: 0.016461\n",
      "  🔄 Trial 93, Fold 3/5\n",
      "    Fold 3 best total loss: 0.015265\n",
      "  🔄 Trial 93, Fold 4/5\n",
      "    Fold 4 best total loss: 0.010555\n",
      "  🔄 Trial 93, Fold 5/5\n"
     ]
    },
    {
     "name": "stderr",
     "output_type": "stream",
     "text": [
      "[I 2025-09-30 02:50:30,405] Trial 93 finished with value: 0.011538766743615269 and parameters: {'lstm_hidden_size': 72, 'lstm_n_layers': 4, 'lstm_dropout': 0.4, 'decoder_hidden_size': 96, 'decoder_n_layers': 4, 'decoder_dropout': 0.4, 'current_hidden_size': 64, 'current_n_layers': 2, 'current_dropout': 0.1}. Best is trial 90 with value: 0.01037523580598645.\n"
     ]
    },
    {
     "name": "stdout",
     "output_type": "stream",
     "text": [
      "    Fold 5 best total loss: 0.008848\n",
      "  📊 Trial 93 - Average CV Loss: 0.011539 (±0.003770)\n",
      "  🔄 Trial 94, Fold 1/5\n",
      "    Fold 1 best total loss: 0.006888\n",
      "  🔄 Trial 94, Fold 2/5\n",
      "    Fold 2 best total loss: 0.013449\n",
      "  🔄 Trial 94, Fold 3/5\n",
      "    Fold 3 best total loss: 0.014706\n",
      "  🔄 Trial 94, Fold 4/5\n",
      "    Fold 4 best total loss: 0.007735\n",
      "  🔄 Trial 94, Fold 5/5\n"
     ]
    },
    {
     "name": "stderr",
     "output_type": "stream",
     "text": [
      "[I 2025-09-30 02:56:55,666] Trial 94 finished with value: 0.07781103013549 and parameters: {'lstm_hidden_size': 72, 'lstm_n_layers': 4, 'lstm_dropout': 0.4, 'decoder_hidden_size': 96, 'decoder_n_layers': 4, 'decoder_dropout': 0.4, 'current_hidden_size': 64, 'current_n_layers': 2, 'current_dropout': 0.1}. Best is trial 90 with value: 0.01037523580598645.\n"
     ]
    },
    {
     "name": "stdout",
     "output_type": "stream",
     "text": [
      "    Fold 5 best total loss: 0.346277\n",
      "  📊 Trial 94 - Average CV Loss: 0.077811 (±0.134268)\n",
      "  🔄 Trial 95, Fold 1/5\n",
      "    Fold 1 best total loss: 0.007267\n",
      "  🔄 Trial 95, Fold 2/5\n",
      "    Fold 2 best total loss: 0.015714\n",
      "  🔄 Trial 95, Fold 3/5\n",
      "    Fold 3 best total loss: 0.014895\n",
      "  🔄 Trial 95, Fold 4/5\n",
      "    Fold 4 best total loss: 0.008526\n",
      "  🔄 Trial 95, Fold 5/5\n"
     ]
    },
    {
     "name": "stderr",
     "output_type": "stream",
     "text": [
      "[I 2025-09-30 03:03:19,086] Trial 95 finished with value: 0.01105070678750053 and parameters: {'lstm_hidden_size': 72, 'lstm_n_layers': 4, 'lstm_dropout': 0.4, 'decoder_hidden_size': 96, 'decoder_n_layers': 4, 'decoder_dropout': 0.4, 'current_hidden_size': 64, 'current_n_layers': 2, 'current_dropout': 0.1}. Best is trial 90 with value: 0.01037523580598645.\n"
     ]
    },
    {
     "name": "stdout",
     "output_type": "stream",
     "text": [
      "    Fold 5 best total loss: 0.008852\n",
      "  📊 Trial 95 - Average CV Loss: 0.011051 (±0.003523)\n",
      "  🔄 Trial 96, Fold 1/5\n",
      "    Fold 1 best total loss: 0.006200\n",
      "  🔄 Trial 96, Fold 2/5\n",
      "    Fold 2 best total loss: 0.017766\n",
      "  🔄 Trial 96, Fold 3/5\n",
      "    Fold 3 best total loss: 0.014444\n",
      "  🔄 Trial 96, Fold 4/5\n",
      "    Fold 4 best total loss: 0.197928\n",
      "  🔄 Trial 96, Fold 5/5\n"
     ]
    },
    {
     "name": "stderr",
     "output_type": "stream",
     "text": [
      "[I 2025-09-30 03:09:46,074] Trial 96 finished with value: 0.0492623207566794 and parameters: {'lstm_hidden_size': 72, 'lstm_n_layers': 4, 'lstm_dropout': 0.4, 'decoder_hidden_size': 96, 'decoder_n_layers': 4, 'decoder_dropout': 0.4, 'current_hidden_size': 64, 'current_n_layers': 2, 'current_dropout': 0.1}. Best is trial 90 with value: 0.01037523580598645.\n"
     ]
    },
    {
     "name": "stdout",
     "output_type": "stream",
     "text": [
      "    Fold 5 best total loss: 0.009974\n",
      "  📊 Trial 96 - Average CV Loss: 0.049262 (±0.074436)\n",
      "  🔄 Trial 97, Fold 1/5\n",
      "    Fold 1 best total loss: 0.007456\n",
      "  🔄 Trial 97, Fold 2/5\n",
      "    Fold 2 best total loss: 0.318505\n",
      "  🔄 Trial 97, Fold 3/5\n",
      "    Fold 3 best total loss: 0.013603\n",
      "  🔄 Trial 97, Fold 4/5\n",
      "    Fold 4 best total loss: 0.198169\n",
      "  🔄 Trial 97, Fold 5/5\n"
     ]
    },
    {
     "name": "stderr",
     "output_type": "stream",
     "text": [
      "[I 2025-09-30 03:16:12,748] Trial 97 finished with value: 0.17694908314733765 and parameters: {'lstm_hidden_size': 72, 'lstm_n_layers': 4, 'lstm_dropout': 0.4, 'decoder_hidden_size': 96, 'decoder_n_layers': 4, 'decoder_dropout': 0.4, 'current_hidden_size': 64, 'current_n_layers': 2, 'current_dropout': 0.1}. Best is trial 90 with value: 0.01037523580598645.\n"
     ]
    },
    {
     "name": "stdout",
     "output_type": "stream",
     "text": [
      "    Fold 5 best total loss: 0.347013\n",
      "  📊 Trial 97 - Average CV Loss: 0.176949 (±0.144790)\n",
      "  🔄 Trial 98, Fold 1/5\n",
      "    Fold 1 best total loss: 0.007154\n",
      "  🔄 Trial 98, Fold 2/5\n",
      "    Fold 2 best total loss: 0.319546\n",
      "  🔄 Trial 98, Fold 3/5\n",
      "    Fold 3 best total loss: 0.015433\n",
      "  🔄 Trial 98, Fold 4/5\n",
      "    Fold 4 best total loss: 0.011444\n",
      "  🔄 Trial 98, Fold 5/5\n"
     ]
    },
    {
     "name": "stderr",
     "output_type": "stream",
     "text": [
      "[I 2025-09-30 03:22:39,281] Trial 98 finished with value: 0.1400912269076798 and parameters: {'lstm_hidden_size': 72, 'lstm_n_layers': 4, 'lstm_dropout': 0.4, 'decoder_hidden_size': 96, 'decoder_n_layers': 4, 'decoder_dropout': 0.4, 'current_hidden_size': 64, 'current_n_layers': 2, 'current_dropout': 0.1}. Best is trial 90 with value: 0.01037523580598645.\n"
     ]
    },
    {
     "name": "stdout",
     "output_type": "stream",
     "text": [
      "    Fold 5 best total loss: 0.346880\n",
      "  📊 Trial 98 - Average CV Loss: 0.140091 (±0.157941)\n",
      "  🔄 Trial 99, Fold 1/5\n",
      "    Fold 1 best total loss: 0.314737\n",
      "  🔄 Trial 99, Fold 2/5\n",
      "    Fold 2 best total loss: 0.318782\n",
      "  🔄 Trial 99, Fold 3/5\n",
      "    Fold 3 best total loss: 0.023356\n",
      "  🔄 Trial 99, Fold 4/5\n",
      "    Fold 4 best total loss: 0.019322\n",
      "  🔄 Trial 99, Fold 5/5\n"
     ]
    },
    {
     "name": "stderr",
     "output_type": "stream",
     "text": [
      "[I 2025-09-30 03:29:09,642] Trial 99 finished with value: 0.20434297625906767 and parameters: {'lstm_hidden_size': 72, 'lstm_n_layers': 4, 'lstm_dropout': 0.4, 'decoder_hidden_size': 96, 'decoder_n_layers': 4, 'decoder_dropout': 0.4, 'current_hidden_size': 64, 'current_n_layers': 2, 'current_dropout': 0.6}. Best is trial 90 with value: 0.01037523580598645.\n"
     ]
    },
    {
     "name": "stdout",
     "output_type": "stream",
     "text": [
      "    Fold 5 best total loss: 0.345518\n",
      "  📊 Trial 99 - Average CV Loss: 0.204343 (±0.149802)\n",
      "  🔄 Trial 100, Fold 1/5\n",
      "    Fold 1 best total loss: 0.006667\n",
      "  🔄 Trial 100, Fold 2/5\n",
      "    Fold 2 best total loss: 0.019275\n",
      "  🔄 Trial 100, Fold 3/5\n",
      "    Fold 3 best total loss: 0.013895\n",
      "  🔄 Trial 100, Fold 4/5\n",
      "    Fold 4 best total loss: 0.198015\n",
      "  🔄 Trial 100, Fold 5/5\n"
     ]
    },
    {
     "name": "stderr",
     "output_type": "stream",
     "text": [
      "[I 2025-09-30 03:35:35,443] Trial 100 finished with value: 0.050149848725413906 and parameters: {'lstm_hidden_size': 72, 'lstm_n_layers': 4, 'lstm_dropout': 0.4, 'decoder_hidden_size': 96, 'decoder_n_layers': 4, 'decoder_dropout': 0.4, 'current_hidden_size': 64, 'current_n_layers': 3, 'current_dropout': 0.1}. Best is trial 90 with value: 0.01037523580598645.\n"
     ]
    },
    {
     "name": "stdout",
     "output_type": "stream",
     "text": [
      "    Fold 5 best total loss: 0.012897\n",
      "  📊 Trial 100 - Average CV Loss: 0.050150 (±0.074041)\n",
      "  🔄 Trial 101, Fold 1/5\n",
      "    Fold 1 best total loss: 0.316438\n",
      "  🔄 Trial 101, Fold 2/5\n",
      "    Fold 2 best total loss: 0.318465\n",
      "  🔄 Trial 101, Fold 3/5\n",
      "    Fold 3 best total loss: 0.014745\n",
      "  🔄 Trial 101, Fold 4/5\n",
      "    Fold 4 best total loss: 0.012277\n",
      "  🔄 Trial 101, Fold 5/5\n"
     ]
    },
    {
     "name": "stderr",
     "output_type": "stream",
     "text": [
      "[I 2025-09-30 03:42:02,019] Trial 101 finished with value: 0.134557080763625 and parameters: {'lstm_hidden_size': 72, 'lstm_n_layers': 4, 'lstm_dropout': 0.4, 'decoder_hidden_size': 96, 'decoder_n_layers': 5, 'decoder_dropout': 0.5, 'current_hidden_size': 64, 'current_n_layers': 2, 'current_dropout': 0.1}. Best is trial 90 with value: 0.01037523580598645.\n"
     ]
    },
    {
     "name": "stdout",
     "output_type": "stream",
     "text": [
      "    Fold 5 best total loss: 0.010860\n",
      "  📊 Trial 101 - Average CV Loss: 0.134557 (±0.149339)\n",
      "  🔄 Trial 102, Fold 1/5\n",
      "    Fold 1 best total loss: 0.007484\n",
      "  🔄 Trial 102, Fold 2/5\n",
      "    Fold 2 best total loss: 0.318255\n",
      "  🔄 Trial 102, Fold 3/5\n",
      "    Fold 3 best total loss: 0.016750\n",
      "  🔄 Trial 102, Fold 4/5\n",
      "    Fold 4 best total loss: 0.202375\n",
      "  🔄 Trial 102, Fold 5/5\n"
     ]
    },
    {
     "name": "stderr",
     "output_type": "stream",
     "text": [
      "[I 2025-09-30 03:48:26,102] Trial 102 finished with value: 0.1448242523125373 and parameters: {'lstm_hidden_size': 72, 'lstm_n_layers': 4, 'lstm_dropout': 0.4, 'decoder_hidden_size': 96, 'decoder_n_layers': 4, 'decoder_dropout': 0.4, 'current_hidden_size': 64, 'current_n_layers': 2, 'current_dropout': 0.1}. Best is trial 90 with value: 0.01037523580598645.\n"
     ]
    },
    {
     "name": "stdout",
     "output_type": "stream",
     "text": [
      "    Fold 5 best total loss: 0.179257\n",
      "  📊 Trial 102 - Average CV Loss: 0.144824 (±0.118187)\n",
      "  🔄 Trial 103, Fold 1/5\n",
      "    Fold 1 best total loss: 0.006906\n",
      "  🔄 Trial 103, Fold 2/5\n",
      "    Fold 2 best total loss: 0.317966\n",
      "  🔄 Trial 103, Fold 3/5\n",
      "    Fold 3 best total loss: 0.013581\n",
      "  🔄 Trial 103, Fold 4/5\n",
      "    Fold 4 best total loss: 0.197590\n",
      "  🔄 Trial 103, Fold 5/5\n"
     ]
    },
    {
     "name": "stderr",
     "output_type": "stream",
     "text": [
      "[I 2025-09-30 03:54:50,051] Trial 103 finished with value: 0.10927098568063229 and parameters: {'lstm_hidden_size': 72, 'lstm_n_layers': 4, 'lstm_dropout': 0.4, 'decoder_hidden_size': 96, 'decoder_n_layers': 4, 'decoder_dropout': 0.4, 'current_hidden_size': 64, 'current_n_layers': 2, 'current_dropout': 0.1}. Best is trial 90 with value: 0.01037523580598645.\n"
     ]
    },
    {
     "name": "stdout",
     "output_type": "stream",
     "text": [
      "    Fold 5 best total loss: 0.010312\n",
      "  📊 Trial 103 - Average CV Loss: 0.109271 (±0.127108)\n",
      "  🔄 Trial 104, Fold 1/5\n",
      "    Fold 1 best total loss: 0.009932\n",
      "  🔄 Trial 104, Fold 2/5\n",
      "    Fold 2 best total loss: 0.018078\n",
      "  🔄 Trial 104, Fold 3/5\n",
      "    Fold 3 best total loss: 0.019715\n",
      "  🔄 Trial 104, Fold 4/5\n",
      "    Fold 4 best total loss: 0.009551\n",
      "  🔄 Trial 104, Fold 5/5\n"
     ]
    },
    {
     "name": "stderr",
     "output_type": "stream",
     "text": [
      "[I 2025-09-30 04:01:14,787] Trial 104 finished with value: 0.014249698049388826 and parameters: {'lstm_hidden_size': 72, 'lstm_n_layers': 4, 'lstm_dropout': 0.4, 'decoder_hidden_size': 96, 'decoder_n_layers': 4, 'decoder_dropout': 0.4, 'current_hidden_size': 16, 'current_n_layers': 2, 'current_dropout': 0.1}. Best is trial 90 with value: 0.01037523580598645.\n"
     ]
    },
    {
     "name": "stdout",
     "output_type": "stream",
     "text": [
      "    Fold 5 best total loss: 0.013973\n",
      "  📊 Trial 104 - Average CV Loss: 0.014250 (±0.004131)\n",
      "  🔄 Trial 105, Fold 1/5\n",
      "    Fold 1 best total loss: 0.007453\n",
      "  🔄 Trial 105, Fold 2/5\n",
      "    Fold 2 best total loss: 0.016064\n",
      "  🔄 Trial 105, Fold 3/5\n",
      "    Fold 3 best total loss: 0.014783\n",
      "  🔄 Trial 105, Fold 4/5\n",
      "    Fold 4 best total loss: 0.010080\n",
      "  🔄 Trial 105, Fold 5/5\n"
     ]
    },
    {
     "name": "stderr",
     "output_type": "stream",
     "text": [
      "[I 2025-09-30 04:07:38,976] Trial 105 finished with value: 0.01201908343937248 and parameters: {'lstm_hidden_size': 72, 'lstm_n_layers': 4, 'lstm_dropout': 0.4, 'decoder_hidden_size': 96, 'decoder_n_layers': 3, 'decoder_dropout': 0.5, 'current_hidden_size': 64, 'current_n_layers': 2, 'current_dropout': 0.1}. Best is trial 90 with value: 0.01037523580598645.\n"
     ]
    },
    {
     "name": "stdout",
     "output_type": "stream",
     "text": [
      "    Fold 5 best total loss: 0.011715\n",
      "  📊 Trial 105 - Average CV Loss: 0.012019 (±0.003121)\n",
      "  🔄 Trial 106, Fold 1/5\n",
      "    Fold 1 best total loss: 0.006054\n",
      "  🔄 Trial 106, Fold 2/5\n",
      "    Fold 2 best total loss: 0.017833\n",
      "  🔄 Trial 106, Fold 3/5\n",
      "    Fold 3 best total loss: 0.017654\n",
      "  🔄 Trial 106, Fold 4/5\n",
      "    Fold 4 best total loss: 0.010149\n",
      "  🔄 Trial 106, Fold 5/5\n"
     ]
    },
    {
     "name": "stderr",
     "output_type": "stream",
     "text": [
      "[I 2025-09-30 04:14:02,780] Trial 106 finished with value: 0.0122321946779266 and parameters: {'lstm_hidden_size': 72, 'lstm_n_layers': 4, 'lstm_dropout': 0.4, 'decoder_hidden_size': 96, 'decoder_n_layers': 3, 'decoder_dropout': 0.5, 'current_hidden_size': 64, 'current_n_layers': 2, 'current_dropout': 0.1}. Best is trial 90 with value: 0.01037523580598645.\n"
     ]
    },
    {
     "name": "stdout",
     "output_type": "stream",
     "text": [
      "    Fold 5 best total loss: 0.009471\n",
      "  📊 Trial 106 - Average CV Loss: 0.012232 (±0.004710)\n",
      "  🔄 Trial 107, Fold 1/5\n",
      "    Fold 1 best total loss: 0.007563\n",
      "  🔄 Trial 107, Fold 2/5\n",
      "    Fold 2 best total loss: 0.319399\n",
      "  🔄 Trial 107, Fold 3/5\n",
      "    Fold 3 best total loss: 0.013876\n",
      "  🔄 Trial 107, Fold 4/5\n",
      "    Fold 4 best total loss: 0.011233\n",
      "  🔄 Trial 107, Fold 5/5\n"
     ]
    },
    {
     "name": "stderr",
     "output_type": "stream",
     "text": [
      "[I 2025-09-30 04:20:28,987] Trial 107 finished with value: 0.1399868838780094 and parameters: {'lstm_hidden_size': 72, 'lstm_n_layers': 4, 'lstm_dropout': 0.4, 'decoder_hidden_size': 96, 'decoder_n_layers': 3, 'decoder_dropout': 0.6, 'current_hidden_size': 64, 'current_n_layers': 2, 'current_dropout': 0.1}. Best is trial 90 with value: 0.01037523580598645.\n"
     ]
    },
    {
     "name": "stdout",
     "output_type": "stream",
     "text": [
      "    Fold 5 best total loss: 0.347864\n",
      "  📊 Trial 107 - Average CV Loss: 0.139987 (±0.158379)\n",
      "  🔄 Trial 108, Fold 1/5\n",
      "    Fold 1 best total loss: 0.006524\n",
      "  🔄 Trial 108, Fold 2/5\n",
      "    Fold 2 best total loss: 0.319618\n",
      "  🔄 Trial 108, Fold 3/5\n",
      "    Fold 3 best total loss: 0.014300\n",
      "  🔄 Trial 108, Fold 4/5\n",
      "    Fold 4 best total loss: 0.014824\n",
      "  🔄 Trial 108, Fold 5/5\n"
     ]
    },
    {
     "name": "stderr",
     "output_type": "stream",
     "text": [
      "[I 2025-09-30 04:26:55,086] Trial 108 finished with value: 0.07297651512781159 and parameters: {'lstm_hidden_size': 72, 'lstm_n_layers': 4, 'lstm_dropout': 0.5, 'decoder_hidden_size': 96, 'decoder_n_layers': 3, 'decoder_dropout': 0.5, 'current_hidden_size': 64, 'current_n_layers': 2, 'current_dropout': 0.1}. Best is trial 90 with value: 0.01037523580598645.\n"
     ]
    },
    {
     "name": "stdout",
     "output_type": "stream",
     "text": [
      "    Fold 5 best total loss: 0.009616\n",
      "  📊 Trial 108 - Average CV Loss: 0.072977 (±0.123359)\n",
      "  🔄 Trial 109, Fold 1/5\n",
      "    Fold 1 best total loss: 0.313984\n",
      "  🔄 Trial 109, Fold 2/5\n",
      "    Fold 2 best total loss: 0.015887\n",
      "  🔄 Trial 109, Fold 3/5\n",
      "    Fold 3 best total loss: 0.223597\n",
      "  🔄 Trial 109, Fold 4/5\n",
      "    Fold 4 best total loss: 0.008605\n",
      "  🔄 Trial 109, Fold 5/5\n"
     ]
    },
    {
     "name": "stderr",
     "output_type": "stream",
     "text": [
      "[I 2025-09-30 04:33:21,309] Trial 109 finished with value: 0.1144974802969955 and parameters: {'lstm_hidden_size': 72, 'lstm_n_layers': 4, 'lstm_dropout': 0.4, 'decoder_hidden_size': 96, 'decoder_n_layers': 5, 'decoder_dropout': 0.5, 'current_hidden_size': 64, 'current_n_layers': 2, 'current_dropout': 0.1}. Best is trial 90 with value: 0.01037523580598645.\n"
     ]
    },
    {
     "name": "stdout",
     "output_type": "stream",
     "text": [
      "    Fold 5 best total loss: 0.010414\n",
      "  📊 Trial 109 - Average CV Loss: 0.114497 (±0.129204)\n",
      "  🔄 Trial 110, Fold 1/5\n",
      "    Fold 1 best total loss: 0.316003\n",
      "  🔄 Trial 110, Fold 2/5\n",
      "    Fold 2 best total loss: 0.018803\n",
      "  🔄 Trial 110, Fold 3/5\n",
      "    Fold 3 best total loss: 0.017659\n",
      "  🔄 Trial 110, Fold 4/5\n",
      "    Fold 4 best total loss: 0.013967\n",
      "  🔄 Trial 110, Fold 5/5\n"
     ]
    },
    {
     "name": "stderr",
     "output_type": "stream",
     "text": [
      "[I 2025-09-30 04:39:44,919] Trial 110 finished with value: 0.1151801246451214 and parameters: {'lstm_hidden_size': 72, 'lstm_n_layers': 4, 'lstm_dropout': 0.4, 'decoder_hidden_size': 96, 'decoder_n_layers': 3, 'decoder_dropout': 0.4, 'current_hidden_size': 64, 'current_n_layers': 2, 'current_dropout': 0.5}. Best is trial 90 with value: 0.01037523580598645.\n"
     ]
    },
    {
     "name": "stdout",
     "output_type": "stream",
     "text": [
      "    Fold 5 best total loss: 0.209468\n",
      "  📊 Trial 110 - Average CV Loss: 0.115180 (±0.125111)\n",
      "  🔄 Trial 111, Fold 1/5\n",
      "    Fold 1 best total loss: 0.005617\n",
      "  🔄 Trial 111, Fold 2/5\n",
      "    Fold 2 best total loss: 0.018227\n",
      "  🔄 Trial 111, Fold 3/5\n",
      "    Fold 3 best total loss: 0.014943\n",
      "  🔄 Trial 111, Fold 4/5\n",
      "    Fold 4 best total loss: 0.010206\n",
      "  🔄 Trial 111, Fold 5/5\n"
     ]
    },
    {
     "name": "stderr",
     "output_type": "stream",
     "text": [
      "[I 2025-09-30 04:46:11,927] Trial 111 finished with value: 0.012059571006102488 and parameters: {'lstm_hidden_size': 72, 'lstm_n_layers': 4, 'lstm_dropout': 0.4, 'decoder_hidden_size': 96, 'decoder_n_layers': 4, 'decoder_dropout': 0.4, 'current_hidden_size': 64, 'current_n_layers': 2, 'current_dropout': 0.1}. Best is trial 90 with value: 0.01037523580598645.\n"
     ]
    },
    {
     "name": "stdout",
     "output_type": "stream",
     "text": [
      "    Fold 5 best total loss: 0.011304\n",
      "  📊 Trial 111 - Average CV Loss: 0.012060 (±0.004286)\n",
      "  🔄 Trial 112, Fold 1/5\n",
      "    Fold 1 best total loss: 0.007873\n",
      "  🔄 Trial 112, Fold 2/5\n",
      "    Fold 2 best total loss: 0.013523\n",
      "  🔄 Trial 112, Fold 3/5\n",
      "    Fold 3 best total loss: 0.014931\n",
      "  🔄 Trial 112, Fold 4/5\n",
      "    Fold 4 best total loss: 0.009744\n",
      "  🔄 Trial 112, Fold 5/5\n"
     ]
    },
    {
     "name": "stderr",
     "output_type": "stream",
     "text": [
      "[I 2025-09-30 04:52:37,109] Trial 112 finished with value: 0.011060933908447623 and parameters: {'lstm_hidden_size': 72, 'lstm_n_layers': 4, 'lstm_dropout': 0.4, 'decoder_hidden_size': 96, 'decoder_n_layers': 4, 'decoder_dropout': 0.4, 'current_hidden_size': 48, 'current_n_layers': 2, 'current_dropout': 0.1}. Best is trial 90 with value: 0.01037523580598645.\n"
     ]
    },
    {
     "name": "stdout",
     "output_type": "stream",
     "text": [
      "    Fold 5 best total loss: 0.009234\n",
      "  📊 Trial 112 - Average CV Loss: 0.011061 (±0.002694)\n",
      "\n",
      "================================================================================\n",
      "📊 OPTIMIZATION RESULTS\n",
      "================================================================================\n",
      "✅ 완료된 trials: 113\n",
      "🏆 최고 성능 trial: 90\n",
      "💯 최고 성능 값: 0.010375\n",
      "\n",
      "🎯 최적 하이퍼파라미터:\n",
      "   lstm_hidden_size: 72\n",
      "   lstm_n_layers: 4\n",
      "   lstm_dropout: 0.4\n",
      "   decoder_hidden_size: 96\n",
      "   decoder_n_layers: 3\n",
      "   decoder_dropout: 0.4\n",
      "   current_hidden_size: 48\n",
      "   current_n_layers: 2\n",
      "   current_dropout: 0.1\n",
      "\n",
      "📈 상위 5개 Trials:\n",
      "   1. Trial 90: 0.010375\n",
      "   2. Trial 95: 0.011051\n",
      "   3. Trial 59: 0.011053\n",
      "   4. Trial 112: 0.011061\n",
      "   5. Trial 92: 0.011115\n",
      "💾 모든 trials 결과가 저장되었습니다: bmed_optuna_trials_20250930_045237.csv\n",
      "💾 SQLite 데이터베이스에 실시간 저장됨: sqlite:///bmed_hpopt_study.db\n",
      "   - 중단 후 재시작 시 자동으로 기존 결과를 불러옵니다\n",
      "   - 다른 프로세스에서 진행상황 모니터링 가능합니다\n",
      "================================================================================\n",
      "🎉 하이퍼파라미터 최적화 완료!\n"
     ]
    }
   ],
   "source": [
    "# 메인 최적화 함수\n",
    "def run_optuna_optimization():\n",
    "    \"\"\"Optuna를 사용한 하이퍼파라미터 최적화 실행\"\"\"\n",
    "    \n",
    "    print(\"🚀 BMED TF Model Hyperparameter Optimization with Optuna\")\n",
    "    print(\"=\"*80)\n",
    "    \n",
    "    # 전역 데이터 로드\n",
    "    global dataset, range_mm\n",
    "    \n",
    "    print(\"📋 데이터 로드 중...\")\n",
    "    df, ndf, range_mm, exp_num_list = df_treat('BMED_DATA_AG.csv')\n",
    "    seq = seq_data(ndf, exp_num_list)\n",
    "    pad, seq_len, max_len = pad_seq(seq)\n",
    "    dataset = gen_dataset(pad, seq_len)\n",
    "    \n",
    "    print(f\"   - 총 실험 개수: {len(exp_num_list)}\")\n",
    "    print(f\"   - 총 데이터 포인트: {len(dataset)}\")\n",
    "    print(f\"   - 최대 시퀀스 길이: {max_len}\")\n",
    "    \n",
    "    # SQLite 데이터베이스를 사용한 Optuna study 생성\n",
    "    #timestamp = datetime.now().strftime(\"%Y%m%d_%H%M%S\")\n",
    "    timestamp = '20250915_234452'\n",
    "    db_url = f\"sqlite:///bmed_hpopt_study.db\"\n",
    "    \n",
    "    study = optuna.create_study(\n",
    "        direction='minimize',\n",
    "        study_name='bmed_tf_optimization',\n",
    "        sampler=optuna.samplers.TPESampler(seed=42),\n",
    "        storage=db_url,\n",
    "        load_if_exists=True\n",
    "    )\n",
    "    \n",
    "    # 최적화 실행\n",
    "    n_trials = 100\n",
    "    print(f\"🔍 최적화 시작 (총 {n_trials} trials)\")\n",
    "    \n",
    "    try:\n",
    "        study.optimize(objective, n_trials=n_trials, timeout=None)\n",
    "    except KeyboardInterrupt:\n",
    "        print(\"\\n⚠️ 최적화가 사용자에 의해 중단되었습니다.\")\n",
    "    \n",
    "    # 결과 분석\n",
    "    print(\"\\n\" + \"=\"*80)\n",
    "    print(\"📊 OPTIMIZATION RESULTS\")\n",
    "    print(\"=\"*80)\n",
    "    \n",
    "    print(f\"✅ 완료된 trials: {len(study.trials)}\")\n",
    "    print(f\"🏆 최고 성능 trial: {study.best_trial.number}\")\n",
    "    print(f\"💯 최고 성능 값: {study.best_value:.6f}\")\n",
    "    \n",
    "    print(f\"\\n🎯 최적 하이퍼파라미터:\")\n",
    "    for key, value in study.best_params.items():\n",
    "        print(f\"   {key}: {value}\")\n",
    "    \n",
    "    # 상위 5개 trial 정보\n",
    "    print(f\"\\n📈 상위 5개 Trials:\")\n",
    "    trials_df = study.trials_dataframe().sort_values('value').head(5)\n",
    "    for idx, (_, trial) in enumerate(trials_df.iterrows()):\n",
    "        print(f\"   {idx+1}. Trial {int(trial['number'])}: {trial['value']:.6f}\")\n",
    "    \n",
    "    # 결과 저장\n",
    "    result_timestamp = datetime.now().strftime(\"%Y%m%d_%H%M%S\")\n",
    "    \n",
    "    # Trials 결과 CSV로 저장\n",
    "    trials_file = f\"bmed_optuna_trials_{result_timestamp}.csv\"\n",
    "    trials_df = study.trials_dataframe()\n",
    "    trials_df.to_csv(trials_file, index=False)\n",
    "    print(f\"💾 모든 trials 결과가 저장되었습니다: {trials_file}\")\n",
    "    \n",
    "    # SQLite 데이터베이스 정보\n",
    "    print(f\"💾 SQLite 데이터베이스에 실시간 저장됨: {db_url}\")\n",
    "    print(f\"   - 중단 후 재시작 시 자동으로 기존 결과를 불러옵니다\")\n",
    "    print(f\"   - 다른 프로세스에서 진행상황 모니터링 가능합니다\")\n",
    "    \n",
    "    print(\"=\"*80)\n",
    "    print(\"🎉 하이퍼파라미터 최적화 완료!\")\n",
    "    \n",
    "    return study\n",
    "\n",
    "if __name__ == \"__main__\":\n",
    "    study = run_optuna_optimization()"
   ]
  }
 ],
 "metadata": {
  "kernelspec": {
   "display_name": "torchenv",
   "language": "python",
   "name": "python3"
  },
  "language_info": {
   "codemirror_mode": {
    "name": "ipython",
    "version": 3
   },
   "file_extension": ".py",
   "mimetype": "text/x-python",
   "name": "python",
   "nbconvert_exporter": "python",
   "pygments_lexer": "ipython3",
   "version": "3.11.13"
  }
 },
 "nbformat": 4,
 "nbformat_minor": 5
}
