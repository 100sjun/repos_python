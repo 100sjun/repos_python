{
 "cells": [
  {
   "cell_type": "code",
   "execution_count": 34,
   "id": "9342def1",
   "metadata": {},
   "outputs": [],
   "source": [
    "# import libraries\n",
    "import torch\n",
    "import torch.nn as nn\n",
    "import torch.nn.functional as F\n",
    "import pandas as pd\n",
    "from torch.nn.utils.rnn import pad_sequence\n",
    "from torch.utils.data import TensorDataset, DataLoader, Subset\n",
    "from sklearn.model_selection import KFold\n",
    "import optuna\n",
    "from datetime import datetime\n",
    "from optuna.trial import TrialState\n",
    "import numpy as np"
   ]
  },
  {
   "cell_type": "code",
   "execution_count": 35,
   "id": "2bbeb8bd",
   "metadata": {},
   "outputs": [],
   "source": [
    "# LSTM with layer normalization\n",
    "class LayerNormLSTM(nn.Module):\n",
    "    def __init__(self, input_node, hidden_node):\n",
    "        super().__init__()\n",
    "        self.input_node = input_node\n",
    "        self.hidden_node = hidden_node\n",
    "\n",
    "        self.w_x = nn.Linear(input_node, 4*hidden_node, bias=False)\n",
    "        self.w_h = nn.Linear(hidden_node, 4*hidden_node, bias=False)\n",
    "        self.ln = nn.LayerNorm(4 * hidden_node)\n",
    "        self.ln_c = nn.LayerNorm(hidden_node)\n",
    "\n",
    "    def forward(self, x, hx):\n",
    "        h, c = hx\n",
    "\n",
    "        gates = self.w_x(x) + self.w_h(h)\n",
    "        gates = self.ln(gates)\n",
    "\n",
    "        i, f, g, o = gates.chunk(4, dim=1)\n",
    "\n",
    "        i = torch.sigmoid(i)\n",
    "        f = torch.sigmoid(f)\n",
    "        o = torch.sigmoid(o)\n",
    "        g = torch.tanh(g)\n",
    "\n",
    "        c_new = f * c + i * g\n",
    "        c_new = self.ln_c(c_new)\n",
    "        h_new = o * torch.tanh(c_new)\n",
    "\n",
    "        return h_new, c_new"
   ]
  },
  {
   "cell_type": "code",
   "execution_count": 36,
   "id": "d8de49e1",
   "metadata": {},
   "outputs": [],
   "source": [
    "# State feature extractor using LayerNorm LSTM\n",
    "class StateExtr(nn.Module):\n",
    "    def __init__(self, input_node, hidden_node, n_layer, dropout):\n",
    "        super().__init__()\n",
    "        self.hidden_node = hidden_node\n",
    "        self.n_layer = n_layer\n",
    "        self.input_node = input_node\n",
    "\n",
    "        self.lstm_cells = nn.ModuleList()\n",
    "        self.lstm_cells.append(LayerNormLSTM(input_node, hidden_node))\n",
    "\n",
    "        for i in range(n_layer - 1):\n",
    "            self.lstm_cells.append(LayerNormLSTM(hidden_node, hidden_node))\n",
    "\n",
    "        self.dropout = nn.Dropout(dropout)\n",
    "\n",
    "    def forward(self, x, seq_len):\n",
    "        batch_size, max_len, _ = x.size()\n",
    "        device = x.device\n",
    "\n",
    "        h_states = []\n",
    "        c_states = []\n",
    "\n",
    "        for _ in range(self.n_layer):\n",
    "            h_states.append(torch.zeros(batch_size, self.hidden_node, device=device))\n",
    "            c_states.append(torch.zeros(batch_size, self.hidden_node, device=device))\n",
    "\n",
    "        outputs = []\n",
    "        for t in range(max_len):\n",
    "            x_t = x[:, t, :]\n",
    "\n",
    "            layer_input = x_t # initialize layer input with input tensor\n",
    "            for layer_idx, lstm_cell in enumerate(self.lstm_cells):\n",
    "                h_new, c_new = lstm_cell(layer_input, (h_states[layer_idx], c_states[layer_idx]))\n",
    "                \n",
    "                h_states[layer_idx] = h_new\n",
    "                c_states[layer_idx] = c_new\n",
    "\n",
    "                if layer_idx < len(self.lstm_cells) - 1:\n",
    "                    layer_input = self.dropout(h_new)\n",
    "                else:\n",
    "                    layer_input = h_new\n",
    "\n",
    "            outputs.append(layer_input)\n",
    "\n",
    "        output_tensor = torch.stack(outputs, dim=1)\n",
    "        seq_len_cpu = seq_len.detach().cpu().long()\n",
    "        mask = torch.arange(max_len, device='cpu')[None, :] < seq_len_cpu[:, None]\n",
    "        mask = mask.float().to(device).unsqueeze(-1)\n",
    "\n",
    "        masked_output = output_tensor * mask\n",
    "        return self.dropout(masked_output)"
   ]
  },
  {
   "cell_type": "code",
   "execution_count": 37,
   "id": "adf624d5",
   "metadata": {},
   "outputs": [],
   "source": [
    "# Physical change regressor\n",
    "class PhysRegr(nn.Module):\n",
    "    def __init__(self, input_node, output_node, n_layer, hidden_node, dropout):\n",
    "        super().__init__()\n",
    "\n",
    "        layers = []\n",
    "\n",
    "        layers.extend([\n",
    "            nn.Linear(input_node, hidden_node),\n",
    "            nn.ReLU(),\n",
    "            nn.Dropout(dropout)\n",
    "        ])\n",
    "\n",
    "        for _ in range(n_layer - 1):\n",
    "            layers.extend([\n",
    "                nn.Linear(hidden_node, hidden_node),\n",
    "                nn.ReLU(),\n",
    "                nn.Dropout(dropout)\n",
    "            ])\n",
    "        \n",
    "        layers.append(nn.Linear(hidden_node, output_node))\n",
    "        layers.append(nn.Sigmoid())\n",
    "\n",
    "        self.layers = nn.Sequential(*layers)\n",
    "\n",
    "    def forward(self, hidden_states):\n",
    "        return self.layers(hidden_states)"
   ]
  },
  {
   "cell_type": "code",
   "execution_count": 38,
   "id": "564cd921",
   "metadata": {},
   "outputs": [],
   "source": [
    "# Current regressor\n",
    "class CurrRegr(nn.Module):\n",
    "    def __init__(self, input_node, hidden_node, n_layer, dropout):\n",
    "        super().__init__()\n",
    "\n",
    "        layers = []\n",
    "\n",
    "        layers.extend([\n",
    "            nn.Linear(input_node, hidden_node),\n",
    "            nn.ReLU(),\n",
    "            nn.Dropout(dropout)\n",
    "        ])\n",
    "\n",
    "        for _ in range(n_layer - 1):\n",
    "            layers.extend([\n",
    "                nn.Linear(hidden_node, hidden_node),\n",
    "                nn.ReLU(),\n",
    "                nn.Dropout(dropout)\n",
    "            ])\n",
    "        \n",
    "        layers.append(nn.Linear(hidden_node, 1))\n",
    "\n",
    "        self.layers = nn.Sequential(*layers)\n",
    "\n",
    "    def forward(self, hidden_states):\n",
    "        return self.layers(hidden_states)   "
   ]
  },
  {
   "cell_type": "code",
   "execution_count": 39,
   "id": "5f65d5b9",
   "metadata": {},
   "outputs": [],
   "source": [
    "# Physical Constraint Layer\n",
    "class PhysConstr(nn.Module):\n",
    "    def __init__(self, range_mm, curr_regr, eps=1e-2):\n",
    "        super().__init__()\n",
    "        \n",
    "        self.eps = eps\n",
    "        self.curr_regr = curr_regr\n",
    "        self.register_buffer('range_mm_tensor',self._range2tensor(range_mm))\n",
    "\n",
    "    def _range2tensor(self, range_mm):\n",
    "        feature_names = ['V', 'E', 'VF', 'VA', 'VB', 'CFLA', 'CALA', 'CFK', 'CBK', 'I']\n",
    "        ranges = torch.zeros(len(feature_names), 2)\n",
    "\n",
    "        for i, name in enumerate(feature_names):\n",
    "            ranges[i, 0] = range_mm[name]['min']\n",
    "            ranges[i, 1] = range_mm[name]['max']\n",
    "\n",
    "        return ranges\n",
    "\n",
    "    def _norm_tensor(self, data, feature_idx):\n",
    "        min_val = self.range_mm_tensor[feature_idx, 0]\n",
    "        max_val = self.range_mm_tensor[feature_idx, 1]\n",
    "        return (data - min_val) / (max_val - min_val)\n",
    "\n",
    "    def _denorm_tensor(self, norm_data, feature_idx):\n",
    "        min_val = self.range_mm_tensor[feature_idx, 0]\n",
    "        max_val = self.range_mm_tensor[feature_idx, 1]\n",
    "        return norm_data * (max_val - min_val) + min_val\n",
    "\n",
    "    def forward(self, physical_changes, current_state):\n",
    "        V_idx, E_idx, VF_idx, VA_idx, VB_idx = 0, 1, 2, 3, 4\n",
    "        CFLA_idx, CALA_idx, CFK_idx, CBK_idx, I_idx = 5, 6, 7, 8, 9\n",
    "\n",
    "        VF = self._denorm_tensor(current_state[..., 2:3], VF_idx)\n",
    "        VA = self._denorm_tensor(current_state[..., 3:4], VA_idx)\n",
    "        VB = self._denorm_tensor(current_state[..., 4:5], VB_idx)\n",
    "        CFLA = self._denorm_tensor(current_state[..., 5:6], CFLA_idx)\n",
    "        CALA = self._denorm_tensor(current_state[..., 6:7], CALA_idx)\n",
    "        CFK = self._denorm_tensor(current_state[..., 7:8], CFK_idx)\n",
    "        CBK = self._denorm_tensor(current_state[..., 8:9], CBK_idx)\n",
    "\n",
    "        NFLA = CFLA * VF\n",
    "        NALA = CALA * VA\n",
    "        NFK = CFK * VF\n",
    "        NBK = CBK * VB\n",
    "\n",
    "        rdVA = physical_changes[..., 0:1]\n",
    "        rdVB = physical_changes[..., 1:2]\n",
    "        rLA2K = physical_changes[..., 2:3]\n",
    "        rdNBK = physical_changes[..., 3:4]\n",
    "\n",
    "        dVA = VF*(rdVA -0.5)\n",
    "        dVB = VF*(rdVB - 0.5)\n",
    "        dNBK = NFK*rdNBK\n",
    "        dNALA = dNBK * rLA2K\n",
    "\n",
    "        nVF = VF - dVA - dVB\n",
    "        nVA = VA + dVA\n",
    "        nVB = VB + dVB\n",
    "        \n",
    "        nNFLA = NFLA - dNALA\n",
    "        nNALA = NALA + dNALA\n",
    "        nNFK = NFK - dNBK\n",
    "        nNBK = NBK + dNBK\n",
    "\n",
    "        nCFLA = nNFLA / nVF\n",
    "        nCALA = nNALA / nVA\n",
    "        nCFK = nNFK / nVF\n",
    "        nCBK = nNBK / nVB\n",
    "\n",
    "        V = current_state[..., 0:1]\n",
    "        E = current_state[..., 1:2]\n",
    "        nVF_norm = self._norm_tensor(nVF, VF_idx)\n",
    "        nVA_norm = self._norm_tensor(nVA, VA_idx)\n",
    "        nVB_norm = self._norm_tensor(nVB, VB_idx)\n",
    "        nCFLA_norm = self._norm_tensor(nCFLA, CFLA_idx)\n",
    "        nCALA_norm = self._norm_tensor(nCALA, CALA_idx)\n",
    "        nCFK_norm = self._norm_tensor(nCFK, CFK_idx)\n",
    "        nCBK_norm = self._norm_tensor(nCBK, CBK_idx)\n",
    "\n",
    "        temp_state = torch.cat([\n",
    "            V, E, nVF_norm, nVA_norm, nVB_norm, nCFLA_norm, nCALA_norm, nCFK_norm, nCBK_norm\n",
    "        ], dim=-1)\n",
    "        \n",
    "        nI_pred_norm = self.curr_regr(temp_state)\n",
    "        nI_real = self._denorm_tensor(nI_pred_norm, I_idx)\n",
    "        nI_real = torch.clamp(nI_real, min=0.0)\n",
    "        nI_norm = self._norm_tensor(nI_real, I_idx)\n",
    "\n",
    "        next_state = torch.cat([\n",
    "            V, E, nVF_norm, nVA_norm, nVB_norm, nCFLA_norm, nCALA_norm, nCFK_norm, nCBK_norm, nI_norm\n",
    "        ], dim=-1)\n",
    "        \n",
    "        return next_state"
   ]
  },
  {
   "cell_type": "code",
   "execution_count": 40,
   "id": "a77ec51a",
   "metadata": {},
   "outputs": [],
   "source": [
    "class BMEDAutoregressiveModel(nn.Module):\n",
    "    def __init__(self, state_extr_params, phys_regr_params, curr_regr_params, range_mm):\n",
    "        super().__init__()\n",
    "        self.state_extr = StateExtr(**state_extr_params)\n",
    "        self.phys_regr = PhysRegr(**phys_regr_params)\n",
    "        self.curr_regr = CurrRegr(**curr_regr_params)\n",
    "        self.phys_constr = PhysConstr(range_mm, self.curr_regr)\n",
    "\n",
    "    def forward(self, x, seq_len):\n",
    "        hidden_states = self.state_extr(x, seq_len)\n",
    "        physical_changes = self.phys_regr(hidden_states)\n",
    "        new_x = self.phys_constr(physical_changes, x)\n",
    "        return new_x"
   ]
  },
  {
   "cell_type": "code",
   "execution_count": 41,
   "id": "3917c899",
   "metadata": {},
   "outputs": [],
   "source": [
    "class NoamScheduler:\n",
    "    def __init__(self, optimizer, model_size, warmup_epochs, factor=1.0):\n",
    "        self.optimizer = optimizer\n",
    "        self.model_size = model_size\n",
    "        self.warmup_epochs = warmup_epochs\n",
    "        self.factor = 1\n",
    "        self.epoch_num = 0\n",
    "\n",
    "    def step_epoch(self):\n",
    "        self.epoch_num += 1\n",
    "        lr = self.factor * (\n",
    "            self.model_size ** (-0.5) *\n",
    "            min(self.epoch_num ** (-0.5), self.epoch_num * self.warmup_epochs ** (-1.5))\n",
    "        )\n",
    "        for param_group in self.optimizer.param_groups:\n",
    "            param_group['lr'] = lr\n",
    "        return lr"
   ]
  },
  {
   "cell_type": "code",
   "execution_count": 42,
   "id": "0b1c08c0",
   "metadata": {},
   "outputs": [],
   "source": [
    "# 유틸리티 함수들\n",
    "def df_treat(name):\n",
    "    df = pd.read_csv(name)\n",
    "    ndf = pd.DataFrame()\n",
    "    range_mm={\n",
    "        'V': {'min':df['V'].min()*0.8, 'max': df['V'].max()*1.2},\n",
    "        'E': {'min':df['E'].min()*0.8, 'max': df['E'].max()*1.2},\n",
    "        'VF': {'min':df['VF'].min()*0.8, 'max': df['VF'].max()*1.2},\n",
    "        'VA': {'min':df['VA'].min()*0.8, 'max': df['VA'].max()*1.2},\n",
    "        'VB': {'min':df['VB'].min()*0.8, 'max': df['VB'].max()*1.2},\n",
    "        'CFLA': {'min':0, 'max': df['CFLA'].max()*1.2},\n",
    "        'CALA': {'min':0, 'max': df['CALA'].max()*1.2},\n",
    "        'CFK': {'min':0, 'max': df['CFK'].max()*1.2},\n",
    "        'CBK': {'min':0, 'max': df['CBK'].max()*1.2},\n",
    "        'I': {'min':0, 'max': df['I'].max()*1.2},\n",
    "    }\n",
    "    ndf['exp'] = df['exp']; ndf['t'] = df['t']\n",
    "\n",
    "    for col in ['V', 'E', 'VF', 'VA', 'VB', 'CFLA', 'CALA', 'CFK', 'CBK', 'I']:\n",
    "        if col in range_mm:\n",
    "            ndf[col] = (df[col] - range_mm[col]['min'])/(range_mm[col]['max'] - range_mm[col]['min'])\n",
    "        else:\n",
    "            ndf[col] = df[col]\n",
    "\n",
    "    exp_num_list = sorted(ndf['exp'].unique())\n",
    "    return df, ndf, range_mm, exp_num_list\n",
    "\n",
    "def seq_data(ndf, exp_num_list):\n",
    "    seq = []\n",
    "    feature_cols = ['V', 'E', 'VF', 'VA', 'VB', 'CFLA', 'CALA', 'CFK', 'CBK', 'I']\n",
    "    for exp in exp_num_list:\n",
    "        exp_df = ndf[ndf['exp'] == exp]\n",
    "        seq.append(exp_df[feature_cols].values)\n",
    "    return seq\n",
    "\n",
    "def pad_seq(seq):\n",
    "    max_len = max([len(s) for s in seq])\n",
    "    seq_len = [len(s) for s in seq]\n",
    "    pad_seq = pad_sequence([torch.tensor(s) for s in seq], batch_first=True, padding_value=-1)\n",
    "    return pad_seq, seq_len, max_len\n",
    "\n",
    "def gen_dataset(pad_seq, seq_len):\n",
    "    input_tensor = pad_seq.float()\n",
    "    seq_len_tensor = torch.tensor(seq_len)\n",
    "    dataset = TensorDataset(input_tensor, seq_len_tensor)\n",
    "    return dataset\n",
    "\n",
    "def masked_mse_loss(pred, target, seq_len):\n",
    "    batch_size, max_len, features = pred.shape\n",
    "    seq_len_cpu = seq_len.detach().cpu().long()\n",
    "    mask = torch.arange(max_len, device='cpu')[None, :] < seq_len_cpu[:, None]\n",
    "    mask = mask.float().to(pred.device)\n",
    "    loss = F.mse_loss(pred, target, reduction='none')\n",
    "    masked_loss = loss * mask.unsqueeze(-1)\n",
    "    total_loss = masked_loss.sum()\n",
    "    total_elements = mask.sum()\n",
    "    masked_loss = total_loss / total_elements\n",
    "    return masked_loss\n",
    "\n",
    "def tf_data(input_seq, seq_len):\n",
    "    inputs = input_seq[:, :-1, :-1]\n",
    "    targets = input_seq[:, 1:, :]\n",
    "    target_seq_len = seq_len - 1\n",
    "    return inputs, targets, target_seq_len"
   ]
  },
  {
   "cell_type": "code",
   "execution_count": 43,
   "id": "816cee32",
   "metadata": {},
   "outputs": [],
   "source": [
    "# Optuna 목적 함수\n",
    "def objective(trial):\n",
    "    \"\"\"\n",
    "    Optuna trial을 위한 목적 함수\n",
    "    K-fold cross validation을 사용하여 하이퍼파라미터 최적화\n",
    "    \"\"\"\n",
    "    \n",
    "    # 1. 하이퍼파라미터 제안\n",
    "    # LSTM StateExtractor 파라미터\n",
    "    lstm_hidden_size = trial.suggest_categorical('lstm_hidden_size', [16, 32, 48, 64, 72, 96])\n",
    "    lstm_n_layers = trial.suggest_int('lstm_n_layers', 2, 6, step=1)\n",
    "    lstm_dropout = trial.suggest_float('lstm_dropout', 0.1, 0.5, step=0.1)\n",
    "    \n",
    "    # PhysicalChangeDecoder 파라미터\n",
    "    decoder_hidden_size = trial.suggest_categorical('decoder_hidden_size', [16, 32, 48, 64, 72, 96])\n",
    "    decoder_n_layers = trial.suggest_int('decoder_n_layers', 2, 6, step=1)\n",
    "    decoder_dropout = trial.suggest_float('decoder_dropout', 0.1, 0.6, step=0.1)\n",
    "    \n",
    "    # CurrentPredictor 파라미터\n",
    "    current_hidden_size = trial.suggest_categorical('current_hidden_size', [16, 32, 48, 64, 72, 96])\n",
    "    current_n_layers = trial.suggest_int('current_n_layers', 2, 6, step=1)\n",
    "    current_dropout = trial.suggest_float('current_dropout', 0.1, 0.6, step=0.1)\n",
    "    \n",
    "    # 2. K-fold Cross Validation\n",
    "    device = torch.device('cuda' if torch.cuda.is_available() else 'cpu')\n",
    "    n_splits = 5\n",
    "    kfold = KFold(n_splits=n_splits, shuffle=True, random_state=42)\n",
    "    \n",
    "    fold_losses = []\n",
    "    \n",
    "    # 데이터 로드 (global 변수 사용)\n",
    "    indices = list(range(len(dataset)))\n",
    "    \n",
    "    for fold, (train_idx, val_idx) in enumerate(kfold.split(indices)):\n",
    "        print(f\"  🔄 Trial {trial.number}, Fold {fold+1}/{n_splits}\")\n",
    "        \n",
    "        # 폴드별 데이터셋 준비\n",
    "        train_subset = Subset(dataset, train_idx)\n",
    "        val_subset = Subset(dataset, val_idx)\n",
    "        \n",
    "        train_loader = DataLoader(train_subset, batch_size=3, shuffle=True)\n",
    "        val_loader = DataLoader(val_subset, batch_size=3, shuffle=False)\n",
    "        \n",
    "        # 3. 모델 파라미터 설정\n",
    "        state_extr_params = {\n",
    "            'input_node': 9,\n",
    "            'hidden_node': lstm_hidden_size,\n",
    "            'n_layer': lstm_n_layers,\n",
    "            'dropout': lstm_dropout\n",
    "        }\n",
    "        \n",
    "        phys_regr_params = {\n",
    "            'input_node': lstm_hidden_size,\n",
    "            'hidden_node': decoder_hidden_size,\n",
    "            'n_layer': decoder_n_layers,\n",
    "            'dropout': decoder_dropout,\n",
    "            'output_node': 4\n",
    "        }\n",
    "        \n",
    "        curr_regr_params = {\n",
    "            'input_node': 9,\n",
    "            'hidden_node': current_hidden_size,\n",
    "            'n_layer': current_n_layers,\n",
    "            'dropout': current_dropout\n",
    "        }\n",
    "        \n",
    "        # 4. 모델 초기화\n",
    "        model = BMEDAutoregressiveModel(state_extr_params, phys_regr_params, curr_regr_params, range_mm)\n",
    "        model = model.to(device)\n",
    "        \n",
    "        # 5. 옵티마이저 및 스케줄러 설정\n",
    "        optimizer = torch.optim.AdamW(model.parameters(), lr=1.0)\n",
    "        \n",
    "        # 총 에포크 수와 warmup 에포크 계산\n",
    "        total_epochs = 100  # Optuna 최적화를 위해 에포크 수 감소\n",
    "        warmup_epochs = int(total_epochs * 0.1)\n",
    "        \n",
    "        scheduler = NoamScheduler(\n",
    "            optimizer, \n",
    "            model_size=lstm_hidden_size,\n",
    "            warmup_epochs=warmup_epochs,\n",
    "            factor=1\n",
    "        )\n",
    "        \n",
    "        # 6. 훈련\n",
    "        best_total_loss = float('inf')\n",
    "        \n",
    "        for epoch in range(total_epochs):\n",
    "            # Learning rate 업데이트\n",
    "            current_lr = scheduler.step_epoch()\n",
    "            \n",
    "            # 훈련\n",
    "            model.train()\n",
    "            train_loss = 0.0\n",
    "            train_batches = 0\n",
    "            \n",
    "            for input_seq, seq_len in train_loader:\n",
    "                try:\n",
    "                    input_seq = input_seq.to(device)\n",
    "                    seq_len = seq_len.to(device)\n",
    "                    \n",
    "                    inputs, targets, target_seq_len = tf_data(input_seq, seq_len)\n",
    "                    \n",
    "                    optimizer.zero_grad()\n",
    "                    pred = model(inputs, target_seq_len)\n",
    "                    loss = masked_mse_loss(pred, targets, target_seq_len)\n",
    "                    \n",
    "                    loss.backward()\n",
    "                    torch.nn.utils.clip_grad_norm_(model.parameters(), max_norm=1.0)\n",
    "                    optimizer.step()\n",
    "                    \n",
    "                    train_loss += loss.item()\n",
    "                    train_batches += 1\n",
    "                    \n",
    "                except Exception as e:\n",
    "                    print(f\"❌ Error in training: {str(e)}\")\n",
    "                    continue\n",
    "            \n",
    "            if train_batches == 0:\n",
    "                break\n",
    "                \n",
    "            train_loss = train_loss / train_batches\n",
    "            \n",
    "            # 검증\n",
    "            model.eval()\n",
    "            val_loss = 0.0\n",
    "            val_batches = 0\n",
    "            \n",
    "            with torch.no_grad():\n",
    "                for input_seq, seq_len in val_loader:\n",
    "                    try:\n",
    "                        input_seq = input_seq.to(device)\n",
    "                        seq_len = seq_len.to(device)\n",
    "                        \n",
    "                        inputs, targets, target_seq_len = tf_data(input_seq, seq_len)\n",
    "                        \n",
    "                        pred = model(inputs, target_seq_len)\n",
    "                        loss = masked_mse_loss(pred, targets, target_seq_len)\n",
    "                        \n",
    "                        val_loss += loss.item()\n",
    "                        val_batches += 1\n",
    "                        \n",
    "                    except Exception as e:\n",
    "                        continue\n",
    "            \n",
    "            if val_batches == 0:\n",
    "                break\n",
    "                \n",
    "            val_loss = val_loss / val_batches\n",
    "            \n",
    "            # Calculate total loss\n",
    "            total_loss = train_loss + val_loss\n",
    "            \n",
    "            # Early stopping\n",
    "            if total_loss < best_total_loss:\n",
    "                best_total_loss = total_loss\n",
    "        \n",
    "        fold_losses.append(best_total_loss)\n",
    "        print(f\"    Fold {fold+1} best total loss: {best_total_loss:.6f}\")\n",
    "        \n",
    "        # 메모리 정리\n",
    "        del model, optimizer, scheduler\n",
    "        torch.cuda.empty_cache()\n",
    "    \n",
    "    # 7. K-fold 평균 손실 반환\n",
    "    avg_loss = np.mean(fold_losses)\n",
    "    std_loss = np.std(fold_losses)\n",
    "    \n",
    "    print(f\"  📊 Trial {trial.number} - Average CV Loss: {avg_loss:.6f} (±{std_loss:.6f})\")\n",
    "    \n",
    "    return avg_loss"
   ]
  },
  {
   "cell_type": "code",
   "execution_count": 44,
   "id": "17421f30",
   "metadata": {},
   "outputs": [
    {
     "name": "stderr",
     "output_type": "stream",
     "text": [
      "[I 2025-10-09 23:32:51,669] A new study created in RDB with name: bmed_tf_optimization\n"
     ]
    },
    {
     "name": "stdout",
     "output_type": "stream",
     "text": [
      "🚀 BMED TF Model Hyperparameter Optimization with Optuna\n",
      "================================================================================\n",
      "📋 데이터 로드 중...\n",
      "   - 총 실험 개수: 15\n",
      "   - 총 데이터 포인트: 15\n",
      "   - 최대 시퀀스 길이: 37\n",
      "🔍 최적화 시작 (총 100 trials)\n",
      "  🔄 Trial 0, Fold 1/5\n",
      "    Fold 1 best total loss: 0.011586\n",
      "  🔄 Trial 0, Fold 2/5\n",
      "    Fold 2 best total loss: 0.016059\n",
      "  🔄 Trial 0, Fold 3/5\n",
      "    Fold 3 best total loss: 0.024833\n",
      "  🔄 Trial 0, Fold 4/5\n",
      "    Fold 4 best total loss: 0.029543\n",
      "  🔄 Trial 0, Fold 5/5\n"
     ]
    },
    {
     "name": "stderr",
     "output_type": "stream",
     "text": [
      "[I 2025-10-09 23:35:15,231] Trial 0 finished with value: 0.019913131697103383 and parameters: {'lstm_hidden_size': 32, 'lstm_n_layers': 2, 'lstm_dropout': 0.5, 'decoder_hidden_size': 64, 'decoder_n_layers': 2, 'decoder_dropout': 0.2, 'current_hidden_size': 72, 'current_n_layers': 3, 'current_dropout': 0.30000000000000004}. Best is trial 0 with value: 0.019913131697103383.\n"
     ]
    },
    {
     "name": "stdout",
     "output_type": "stream",
     "text": [
      "    Fold 5 best total loss: 0.017545\n",
      "  📊 Trial 0 - Average CV Loss: 0.019913 (±0.006430)\n",
      "  🔄 Trial 1, Fold 1/5\n",
      "    Fold 1 best total loss: 0.027200\n",
      "  🔄 Trial 1, Fold 2/5\n",
      "    Fold 2 best total loss: 0.019491\n",
      "  🔄 Trial 1, Fold 3/5\n",
      "    Fold 3 best total loss: 0.027404\n",
      "  🔄 Trial 1, Fold 4/5\n",
      "    Fold 4 best total loss: 0.019561\n",
      "  🔄 Trial 1, Fold 5/5\n"
     ]
    },
    {
     "name": "stderr",
     "output_type": "stream",
     "text": [
      "[I 2025-10-09 23:41:05,014] Trial 1 finished with value: 0.02260777198243886 and parameters: {'lstm_hidden_size': 32, 'lstm_n_layers': 5, 'lstm_dropout': 0.1, 'decoder_hidden_size': 48, 'decoder_n_layers': 5, 'decoder_dropout': 0.30000000000000004, 'current_hidden_size': 64, 'current_n_layers': 3, 'current_dropout': 0.4}. Best is trial 0 with value: 0.019913131697103383.\n"
     ]
    },
    {
     "name": "stdout",
     "output_type": "stream",
     "text": [
      "    Fold 5 best total loss: 0.019382\n",
      "  📊 Trial 1 - Average CV Loss: 0.022608 (±0.003834)\n",
      "  🔄 Trial 2, Fold 1/5\n",
      "    Fold 1 best total loss: 0.315511\n",
      "  🔄 Trial 2, Fold 2/5\n",
      "    Fold 2 best total loss: 0.016537\n",
      "  🔄 Trial 2, Fold 3/5\n",
      "    Fold 3 best total loss: 0.019712\n",
      "  🔄 Trial 2, Fold 4/5\n",
      "    Fold 4 best total loss: 0.014096\n",
      "  🔄 Trial 2, Fold 5/5\n"
     ]
    },
    {
     "name": "stderr",
     "output_type": "stream",
     "text": [
      "[I 2025-10-09 23:45:42,067] Trial 2 finished with value: 0.07623667320003732 and parameters: {'lstm_hidden_size': 48, 'lstm_n_layers': 4, 'lstm_dropout': 0.5, 'decoder_hidden_size': 72, 'decoder_n_layers': 6, 'decoder_dropout': 0.30000000000000004, 'current_hidden_size': 96, 'current_n_layers': 5, 'current_dropout': 0.2}. Best is trial 0 with value: 0.019913131697103383.\n"
     ]
    },
    {
     "name": "stdout",
     "output_type": "stream",
     "text": [
      "    Fold 5 best total loss: 0.015327\n",
      "  📊 Trial 2 - Average CV Loss: 0.076237 (±0.119652)\n",
      "  🔄 Trial 3, Fold 1/5\n",
      "    Fold 1 best total loss: 0.033728\n",
      "  🔄 Trial 3, Fold 2/5\n",
      "    Fold 2 best total loss: 0.099750\n",
      "  🔄 Trial 3, Fold 3/5\n",
      "    Fold 3 best total loss: 0.226241\n",
      "  🔄 Trial 3, Fold 4/5\n",
      "    Fold 4 best total loss: 0.042650\n",
      "  🔄 Trial 3, Fold 5/5\n"
     ]
    },
    {
     "name": "stderr",
     "output_type": "stream",
     "text": [
      "[I 2025-10-09 23:49:15,085] Trial 3 finished with value: 0.09484804426319897 and parameters: {'lstm_hidden_size': 32, 'lstm_n_layers': 3, 'lstm_dropout': 0.1, 'decoder_hidden_size': 16, 'decoder_n_layers': 5, 'decoder_dropout': 0.4, 'current_hidden_size': 16, 'current_n_layers': 5, 'current_dropout': 0.30000000000000004}. Best is trial 0 with value: 0.019913131697103383.\n"
     ]
    },
    {
     "name": "stdout",
     "output_type": "stream",
     "text": [
      "    Fold 5 best total loss: 0.071872\n",
      "  📊 Trial 3 - Average CV Loss: 0.094848 (±0.069680)\n",
      "  🔄 Trial 4, Fold 1/5\n",
      "    Fold 1 best total loss: 0.055547\n",
      "  🔄 Trial 4, Fold 2/5\n",
      "    Fold 2 best total loss: 0.091778\n",
      "  🔄 Trial 4, Fold 3/5\n",
      "    Fold 3 best total loss: 0.045753\n",
      "  🔄 Trial 4, Fold 4/5\n",
      "    Fold 4 best total loss: 0.049969\n",
      "  🔄 Trial 4, Fold 5/5\n"
     ]
    },
    {
     "name": "stderr",
     "output_type": "stream",
     "text": [
      "[I 2025-10-09 23:52:42,496] Trial 4 finished with value: 0.06321743852458894 and parameters: {'lstm_hidden_size': 96, 'lstm_n_layers': 3, 'lstm_dropout': 0.30000000000000004, 'decoder_hidden_size': 16, 'decoder_n_layers': 3, 'decoder_dropout': 0.1, 'current_hidden_size': 16, 'current_n_layers': 6, 'current_dropout': 0.4}. Best is trial 0 with value: 0.019913131697103383.\n"
     ]
    },
    {
     "name": "stdout",
     "output_type": "stream",
     "text": [
      "    Fold 5 best total loss: 0.073040\n",
      "  📊 Trial 4 - Average CV Loss: 0.063217 (±0.017038)\n",
      "  🔄 Trial 5, Fold 1/5\n",
      "    Fold 1 best total loss: 0.101596\n",
      "  🔄 Trial 5, Fold 2/5\n",
      "    Fold 2 best total loss: 0.020421\n",
      "  🔄 Trial 5, Fold 3/5\n",
      "    Fold 3 best total loss: 0.019629\n",
      "  🔄 Trial 5, Fold 4/5\n",
      "    Fold 4 best total loss: 0.017517\n",
      "  🔄 Trial 5, Fold 5/5\n"
     ]
    },
    {
     "name": "stderr",
     "output_type": "stream",
     "text": [
      "[I 2025-10-09 23:59:17,608] Trial 5 finished with value: 0.03642082493752241 and parameters: {'lstm_hidden_size': 32, 'lstm_n_layers': 6, 'lstm_dropout': 0.5, 'decoder_hidden_size': 32, 'decoder_n_layers': 6, 'decoder_dropout': 0.2, 'current_hidden_size': 64, 'current_n_layers': 4, 'current_dropout': 0.2}. Best is trial 0 with value: 0.019913131697103383.\n"
     ]
    },
    {
     "name": "stdout",
     "output_type": "stream",
     "text": [
      "    Fold 5 best total loss: 0.022941\n",
      "  📊 Trial 5 - Average CV Loss: 0.036421 (±0.032634)\n",
      "  🔄 Trial 6, Fold 1/5\n",
      "    Fold 1 best total loss: 0.317571\n",
      "  🔄 Trial 6, Fold 2/5\n",
      "    Fold 2 best total loss: 0.014572\n",
      "  🔄 Trial 6, Fold 3/5\n",
      "    Fold 3 best total loss: 0.016941\n",
      "  🔄 Trial 6, Fold 4/5\n",
      "    Fold 4 best total loss: 0.012692\n",
      "  🔄 Trial 6, Fold 5/5\n"
     ]
    },
    {
     "name": "stderr",
     "output_type": "stream",
     "text": [
      "[I 2025-10-10 00:05:53,451] Trial 6 finished with value: 0.0754659479483962 and parameters: {'lstm_hidden_size': 48, 'lstm_n_layers': 6, 'lstm_dropout': 0.2, 'decoder_hidden_size': 48, 'decoder_n_layers': 3, 'decoder_dropout': 0.5, 'current_hidden_size': 96, 'current_n_layers': 3, 'current_dropout': 0.2}. Best is trial 0 with value: 0.019913131697103383.\n"
     ]
    },
    {
     "name": "stdout",
     "output_type": "stream",
     "text": [
      "    Fold 5 best total loss: 0.015554\n",
      "  📊 Trial 6 - Average CV Loss: 0.075466 (±0.121061)\n",
      "  🔄 Trial 7, Fold 1/5\n",
      "    Fold 1 best total loss: 0.025590\n",
      "  🔄 Trial 7, Fold 2/5\n",
      "    Fold 2 best total loss: 0.028072\n",
      "  🔄 Trial 7, Fold 3/5\n",
      "    Fold 3 best total loss: 0.030069\n",
      "  🔄 Trial 7, Fold 4/5\n",
      "    Fold 4 best total loss: 0.026878\n",
      "  🔄 Trial 7, Fold 5/5\n"
     ]
    },
    {
     "name": "stderr",
     "output_type": "stream",
     "text": [
      "[I 2025-10-10 00:11:16,019] Trial 7 finished with value: 0.028423114400357007 and parameters: {'lstm_hidden_size': 48, 'lstm_n_layers': 5, 'lstm_dropout': 0.1, 'decoder_hidden_size': 48, 'decoder_n_layers': 6, 'decoder_dropout': 0.6, 'current_hidden_size': 48, 'current_n_layers': 2, 'current_dropout': 0.6}. Best is trial 0 with value: 0.019913131697103383.\n"
     ]
    },
    {
     "name": "stdout",
     "output_type": "stream",
     "text": [
      "    Fold 5 best total loss: 0.031507\n",
      "  📊 Trial 7 - Average CV Loss: 0.028423 (±0.002133)\n",
      "  🔄 Trial 8, Fold 1/5\n",
      "    Fold 1 best total loss: 0.315123\n",
      "  🔄 Trial 8, Fold 2/5\n",
      "    Fold 2 best total loss: 0.319119\n",
      "  🔄 Trial 8, Fold 3/5\n",
      "    Fold 3 best total loss: 0.075013\n",
      "  🔄 Trial 8, Fold 4/5\n",
      "    Fold 4 best total loss: 0.205025\n",
      "  🔄 Trial 8, Fold 5/5\n"
     ]
    },
    {
     "name": "stderr",
     "output_type": "stream",
     "text": [
      "[I 2025-10-10 00:17:44,501] Trial 8 finished with value: 0.20203491467982532 and parameters: {'lstm_hidden_size': 16, 'lstm_n_layers': 6, 'lstm_dropout': 0.4, 'decoder_hidden_size': 64, 'decoder_n_layers': 2, 'decoder_dropout': 0.4, 'current_hidden_size': 64, 'current_n_layers': 5, 'current_dropout': 0.2}. Best is trial 0 with value: 0.019913131697103383.\n"
     ]
    },
    {
     "name": "stdout",
     "output_type": "stream",
     "text": [
      "    Fold 5 best total loss: 0.095895\n",
      "  📊 Trial 8 - Average CV Loss: 0.202035 (±0.103833)\n",
      "  🔄 Trial 9, Fold 1/5\n",
      "    Fold 1 best total loss: 0.012002\n",
      "  🔄 Trial 9, Fold 2/5\n",
      "    Fold 2 best total loss: 0.019492\n",
      "  🔄 Trial 9, Fold 3/5\n",
      "    Fold 3 best total loss: 0.021686\n",
      "  🔄 Trial 9, Fold 4/5\n",
      "    Fold 4 best total loss: 0.204739\n",
      "  🔄 Trial 9, Fold 5/5\n"
     ]
    },
    {
     "name": "stderr",
     "output_type": "stream",
     "text": [
      "[I 2025-10-10 00:20:00,551] Trial 9 finished with value: 0.05464674348477274 and parameters: {'lstm_hidden_size': 64, 'lstm_n_layers': 2, 'lstm_dropout': 0.2, 'decoder_hidden_size': 48, 'decoder_n_layers': 5, 'decoder_dropout': 0.4, 'current_hidden_size': 64, 'current_n_layers': 5, 'current_dropout': 0.2}. Best is trial 0 with value: 0.019913131697103383.\n"
     ]
    },
    {
     "name": "stdout",
     "output_type": "stream",
     "text": [
      "    Fold 5 best total loss: 0.015313\n",
      "  📊 Trial 9 - Average CV Loss: 0.054647 (±0.075121)\n",
      "  🔄 Trial 10, Fold 1/5\n",
      "    Fold 1 best total loss: 0.018694\n",
      "  🔄 Trial 10, Fold 2/5\n",
      "    Fold 2 best total loss: 0.018515\n",
      "  🔄 Trial 10, Fold 3/5\n",
      "    Fold 3 best total loss: 0.024906\n",
      "  🔄 Trial 10, Fold 4/5\n",
      "    Fold 4 best total loss: 0.018880\n",
      "  🔄 Trial 10, Fold 5/5\n"
     ]
    },
    {
     "name": "stderr",
     "output_type": "stream",
     "text": [
      "[I 2025-10-10 00:22:22,657] Trial 10 finished with value: 0.019537586160004138 and parameters: {'lstm_hidden_size': 72, 'lstm_n_layers': 2, 'lstm_dropout': 0.4, 'decoder_hidden_size': 64, 'decoder_n_layers': 2, 'decoder_dropout': 0.1, 'current_hidden_size': 72, 'current_n_layers': 2, 'current_dropout': 0.6}. Best is trial 10 with value: 0.019537586160004138.\n"
     ]
    },
    {
     "name": "stdout",
     "output_type": "stream",
     "text": [
      "    Fold 5 best total loss: 0.016692\n",
      "  📊 Trial 10 - Average CV Loss: 0.019538 (±0.002797)\n",
      "  🔄 Trial 11, Fold 1/5\n",
      "    Fold 1 best total loss: 0.016449\n",
      "  🔄 Trial 11, Fold 2/5\n",
      "    Fold 2 best total loss: 0.019170\n",
      "  🔄 Trial 11, Fold 3/5\n",
      "    Fold 3 best total loss: 0.025008\n",
      "  🔄 Trial 11, Fold 4/5\n",
      "    Fold 4 best total loss: 0.020374\n",
      "  🔄 Trial 11, Fold 5/5\n"
     ]
    },
    {
     "name": "stderr",
     "output_type": "stream",
     "text": [
      "[I 2025-10-10 00:24:42,141] Trial 11 finished with value: 0.020738555886782705 and parameters: {'lstm_hidden_size': 72, 'lstm_n_layers': 2, 'lstm_dropout': 0.4, 'decoder_hidden_size': 64, 'decoder_n_layers': 2, 'decoder_dropout': 0.1, 'current_hidden_size': 72, 'current_n_layers': 2, 'current_dropout': 0.6}. Best is trial 10 with value: 0.019537586160004138.\n"
     ]
    },
    {
     "name": "stdout",
     "output_type": "stream",
     "text": [
      "    Fold 5 best total loss: 0.022692\n",
      "  📊 Trial 11 - Average CV Loss: 0.020739 (±0.002934)\n",
      "  🔄 Trial 12, Fold 1/5\n",
      "    Fold 1 best total loss: 0.016690\n",
      "  🔄 Trial 12, Fold 2/5\n",
      "    Fold 2 best total loss: 0.019627\n",
      "  🔄 Trial 12, Fold 3/5\n",
      "    Fold 3 best total loss: 0.023440\n",
      "  🔄 Trial 12, Fold 4/5\n",
      "    Fold 4 best total loss: 0.017742\n",
      "  🔄 Trial 12, Fold 5/5\n"
     ]
    },
    {
     "name": "stderr",
     "output_type": "stream",
     "text": [
      "[I 2025-10-10 00:26:58,066] Trial 12 finished with value: 0.020465927687473594 and parameters: {'lstm_hidden_size': 72, 'lstm_n_layers': 2, 'lstm_dropout': 0.4, 'decoder_hidden_size': 64, 'decoder_n_layers': 3, 'decoder_dropout': 0.2, 'current_hidden_size': 72, 'current_n_layers': 3, 'current_dropout': 0.5}. Best is trial 10 with value: 0.019537586160004138.\n"
     ]
    },
    {
     "name": "stdout",
     "output_type": "stream",
     "text": [
      "    Fold 5 best total loss: 0.024831\n",
      "  📊 Trial 12 - Average CV Loss: 0.020466 (±0.003171)\n",
      "  🔄 Trial 13, Fold 1/5\n",
      "    Fold 1 best total loss: 0.017480\n",
      "  🔄 Trial 13, Fold 2/5\n",
      "    Fold 2 best total loss: 0.018342\n",
      "  🔄 Trial 13, Fold 3/5\n",
      "    Fold 3 best total loss: 0.026779\n",
      "  🔄 Trial 13, Fold 4/5\n",
      "    Fold 4 best total loss: 0.033353\n",
      "  🔄 Trial 13, Fold 5/5\n"
     ]
    },
    {
     "name": "stderr",
     "output_type": "stream",
     "text": [
      "[I 2025-10-10 00:30:19,323] Trial 13 finished with value: 0.024801072967238724 and parameters: {'lstm_hidden_size': 72, 'lstm_n_layers': 3, 'lstm_dropout': 0.5, 'decoder_hidden_size': 96, 'decoder_n_layers': 2, 'decoder_dropout': 0.2, 'current_hidden_size': 32, 'current_n_layers': 2, 'current_dropout': 0.5}. Best is trial 10 with value: 0.019537586160004138.\n"
     ]
    },
    {
     "name": "stdout",
     "output_type": "stream",
     "text": [
      "    Fold 5 best total loss: 0.028051\n",
      "  📊 Trial 13 - Average CV Loss: 0.024801 (±0.006049)\n",
      "  🔄 Trial 14, Fold 1/5\n",
      "    Fold 1 best total loss: 0.009000\n",
      "  🔄 Trial 14, Fold 2/5\n",
      "    Fold 2 best total loss: 0.013610\n",
      "  🔄 Trial 14, Fold 3/5\n",
      "    Fold 3 best total loss: 0.019865\n",
      "  🔄 Trial 14, Fold 4/5\n",
      "    Fold 4 best total loss: 0.012016\n",
      "  🔄 Trial 14, Fold 5/5\n"
     ]
    },
    {
     "name": "stderr",
     "output_type": "stream",
     "text": [
      "[I 2025-10-10 00:32:39,239] Trial 14 finished with value: 0.08012944562360644 and parameters: {'lstm_hidden_size': 16, 'lstm_n_layers': 2, 'lstm_dropout': 0.4, 'decoder_hidden_size': 64, 'decoder_n_layers': 4, 'decoder_dropout': 0.1, 'current_hidden_size': 72, 'current_n_layers': 3, 'current_dropout': 0.1}. Best is trial 10 with value: 0.019537586160004138.\n"
     ]
    },
    {
     "name": "stdout",
     "output_type": "stream",
     "text": [
      "    Fold 5 best total loss: 0.346156\n",
      "  📊 Trial 14 - Average CV Loss: 0.080129 (±0.133061)\n",
      "  🔄 Trial 15, Fold 1/5\n",
      "    Fold 1 best total loss: 0.010357\n",
      "  🔄 Trial 15, Fold 2/5\n",
      "    Fold 2 best total loss: 0.013830\n",
      "  🔄 Trial 15, Fold 3/5\n",
      "    Fold 3 best total loss: 0.023810\n",
      "  🔄 Trial 15, Fold 4/5\n",
      "    Fold 4 best total loss: 0.018630\n",
      "  🔄 Trial 15, Fold 5/5\n"
     ]
    },
    {
     "name": "stderr",
     "output_type": "stream",
     "text": [
      "[I 2025-10-10 00:36:03,304] Trial 15 finished with value: 0.08245901779737323 and parameters: {'lstm_hidden_size': 96, 'lstm_n_layers': 3, 'lstm_dropout': 0.30000000000000004, 'decoder_hidden_size': 64, 'decoder_n_layers': 3, 'decoder_dropout': 0.2, 'current_hidden_size': 72, 'current_n_layers': 4, 'current_dropout': 0.30000000000000004}. Best is trial 10 with value: 0.019537586160004138.\n"
     ]
    },
    {
     "name": "stdout",
     "output_type": "stream",
     "text": [
      "    Fold 5 best total loss: 0.345669\n",
      "  📊 Trial 15 - Average CV Loss: 0.082459 (±0.131683)\n",
      "  🔄 Trial 16, Fold 1/5\n",
      "    Fold 1 best total loss: 0.012032\n",
      "  🔄 Trial 16, Fold 2/5\n",
      "    Fold 2 best total loss: 0.016069\n",
      "  🔄 Trial 16, Fold 3/5\n",
      "    Fold 3 best total loss: 0.022829\n",
      "  🔄 Trial 16, Fold 4/5\n",
      "    Fold 4 best total loss: 0.019519\n",
      "  🔄 Trial 16, Fold 5/5\n"
     ]
    },
    {
     "name": "stderr",
     "output_type": "stream",
     "text": [
      "[I 2025-10-10 00:40:25,674] Trial 16 finished with value: 0.017243169341236354 and parameters: {'lstm_hidden_size': 64, 'lstm_n_layers': 4, 'lstm_dropout': 0.5, 'decoder_hidden_size': 96, 'decoder_n_layers': 2, 'decoder_dropout': 0.1, 'current_hidden_size': 72, 'current_n_layers': 2, 'current_dropout': 0.5}. Best is trial 16 with value: 0.017243169341236354.\n"
     ]
    },
    {
     "name": "stdout",
     "output_type": "stream",
     "text": [
      "    Fold 5 best total loss: 0.015768\n",
      "  📊 Trial 16 - Average CV Loss: 0.017243 (±0.003663)\n",
      "  🔄 Trial 17, Fold 1/5\n",
      "    Fold 1 best total loss: 0.018633\n",
      "  🔄 Trial 17, Fold 2/5\n",
      "    Fold 2 best total loss: 0.026560\n",
      "  🔄 Trial 17, Fold 3/5\n",
      "    Fold 3 best total loss: 0.031362\n",
      "  🔄 Trial 17, Fold 4/5\n",
      "    Fold 4 best total loss: 0.023000\n",
      "  🔄 Trial 17, Fold 5/5\n"
     ]
    },
    {
     "name": "stderr",
     "output_type": "stream",
     "text": [
      "[I 2025-10-10 00:44:50,266] Trial 17 finished with value: 0.02409415498841554 and parameters: {'lstm_hidden_size': 64, 'lstm_n_layers': 4, 'lstm_dropout': 0.4, 'decoder_hidden_size': 96, 'decoder_n_layers': 4, 'decoder_dropout': 0.1, 'current_hidden_size': 32, 'current_n_layers': 2, 'current_dropout': 0.5}. Best is trial 16 with value: 0.017243169341236354.\n"
     ]
    },
    {
     "name": "stdout",
     "output_type": "stream",
     "text": [
      "    Fold 5 best total loss: 0.020916\n",
      "  📊 Trial 17 - Average CV Loss: 0.024094 (±0.004472)\n",
      "  🔄 Trial 18, Fold 1/5\n",
      "    Fold 1 best total loss: 0.029636\n",
      "  🔄 Trial 18, Fold 2/5\n",
      "    Fold 2 best total loss: 0.023470\n",
      "  🔄 Trial 18, Fold 3/5\n",
      "    Fold 3 best total loss: 0.031140\n",
      "  🔄 Trial 18, Fold 4/5\n",
      "    Fold 4 best total loss: 0.024700\n",
      "  🔄 Trial 18, Fold 5/5\n"
     ]
    },
    {
     "name": "stderr",
     "output_type": "stream",
     "text": [
      "[I 2025-10-10 00:50:13,341] Trial 18 finished with value: 0.027769148349761963 and parameters: {'lstm_hidden_size': 64, 'lstm_n_layers': 5, 'lstm_dropout': 0.30000000000000004, 'decoder_hidden_size': 96, 'decoder_n_layers': 2, 'decoder_dropout': 0.30000000000000004, 'current_hidden_size': 48, 'current_n_layers': 2, 'current_dropout': 0.6}. Best is trial 16 with value: 0.017243169341236354.\n"
     ]
    },
    {
     "name": "stdout",
     "output_type": "stream",
     "text": [
      "    Fold 5 best total loss: 0.029900\n",
      "  📊 Trial 18 - Average CV Loss: 0.027769 (±0.003075)\n",
      "  🔄 Trial 19, Fold 1/5\n",
      "    Fold 1 best total loss: 0.020165\n",
      "  🔄 Trial 19, Fold 2/5\n",
      "    Fold 2 best total loss: 0.031549\n",
      "  🔄 Trial 19, Fold 3/5\n",
      "    Fold 3 best total loss: 0.033971\n",
      "  🔄 Trial 19, Fold 4/5\n",
      "    Fold 4 best total loss: 0.028661\n",
      "  🔄 Trial 19, Fold 5/5\n"
     ]
    },
    {
     "name": "stderr",
     "output_type": "stream",
     "text": [
      "[I 2025-10-10 00:54:41,379] Trial 19 finished with value: 0.031031481688842177 and parameters: {'lstm_hidden_size': 64, 'lstm_n_layers': 4, 'lstm_dropout': 0.5, 'decoder_hidden_size': 72, 'decoder_n_layers': 4, 'decoder_dropout': 0.1, 'current_hidden_size': 72, 'current_n_layers': 4, 'current_dropout': 0.5}. Best is trial 16 with value: 0.017243169341236354.\n"
     ]
    },
    {
     "name": "stdout",
     "output_type": "stream",
     "text": [
      "    Fold 5 best total loss: 0.040812\n",
      "  📊 Trial 19 - Average CV Loss: 0.031031 (±0.006757)\n",
      "  🔄 Trial 20, Fold 1/5\n",
      "    Fold 1 best total loss: 0.021819\n",
      "  🔄 Trial 20, Fold 2/5\n",
      "    Fold 2 best total loss: 0.021854\n",
      "  🔄 Trial 20, Fold 3/5\n",
      "    Fold 3 best total loss: 0.029784\n",
      "  🔄 Trial 20, Fold 4/5\n",
      "    Fold 4 best total loss: 0.021453\n",
      "  🔄 Trial 20, Fold 5/5\n"
     ]
    },
    {
     "name": "stderr",
     "output_type": "stream",
     "text": [
      "[I 2025-10-10 01:00:06,401] Trial 20 finished with value: 0.02473641000688076 and parameters: {'lstm_hidden_size': 72, 'lstm_n_layers': 5, 'lstm_dropout': 0.4, 'decoder_hidden_size': 32, 'decoder_n_layers': 3, 'decoder_dropout': 0.6, 'current_hidden_size': 72, 'current_n_layers': 2, 'current_dropout': 0.6}. Best is trial 16 with value: 0.017243169341236354.\n"
     ]
    },
    {
     "name": "stdout",
     "output_type": "stream",
     "text": [
      "    Fold 5 best total loss: 0.028772\n",
      "  📊 Trial 20 - Average CV Loss: 0.024736 (±0.003725)\n",
      "  🔄 Trial 21, Fold 1/5\n",
      "    Fold 1 best total loss: 0.017611\n",
      "  🔄 Trial 21, Fold 2/5\n",
      "    Fold 2 best total loss: 0.016065\n",
      "  🔄 Trial 21, Fold 3/5\n",
      "    Fold 3 best total loss: 0.025706\n",
      "  🔄 Trial 21, Fold 4/5\n",
      "    Fold 4 best total loss: 0.018250\n",
      "  🔄 Trial 21, Fold 5/5\n"
     ]
    },
    {
     "name": "stderr",
     "output_type": "stream",
     "text": [
      "[I 2025-10-10 01:02:31,117] Trial 21 finished with value: 0.020187967782840134 and parameters: {'lstm_hidden_size': 32, 'lstm_n_layers': 2, 'lstm_dropout': 0.5, 'decoder_hidden_size': 96, 'decoder_n_layers': 2, 'decoder_dropout': 0.2, 'current_hidden_size': 72, 'current_n_layers': 3, 'current_dropout': 0.4}. Best is trial 16 with value: 0.017243169341236354.\n"
     ]
    },
    {
     "name": "stdout",
     "output_type": "stream",
     "text": [
      "    Fold 5 best total loss: 0.023308\n",
      "  📊 Trial 21 - Average CV Loss: 0.020188 (±0.003676)\n",
      "  🔄 Trial 22, Fold 1/5\n",
      "    Fold 1 best total loss: 0.011784\n",
      "  🔄 Trial 22, Fold 2/5\n",
      "    Fold 2 best total loss: 0.020787\n",
      "  🔄 Trial 22, Fold 3/5\n",
      "    Fold 3 best total loss: 0.022419\n",
      "  🔄 Trial 22, Fold 4/5\n",
      "    Fold 4 best total loss: 0.016675\n",
      "  🔄 Trial 22, Fold 5/5\n"
     ]
    },
    {
     "name": "stderr",
     "output_type": "stream",
     "text": [
      "[I 2025-10-10 01:05:54,742] Trial 22 finished with value: 0.022849538549780845 and parameters: {'lstm_hidden_size': 32, 'lstm_n_layers': 3, 'lstm_dropout': 0.5, 'decoder_hidden_size': 64, 'decoder_n_layers': 2, 'decoder_dropout': 0.1, 'current_hidden_size': 72, 'current_n_layers': 3, 'current_dropout': 0.30000000000000004}. Best is trial 16 with value: 0.017243169341236354.\n"
     ]
    },
    {
     "name": "stdout",
     "output_type": "stream",
     "text": [
      "    Fold 5 best total loss: 0.042582\n",
      "  📊 Trial 22 - Average CV Loss: 0.022850 (±0.010530)\n",
      "  🔄 Trial 23, Fold 1/5\n",
      "    Fold 1 best total loss: 0.013130\n",
      "  🔄 Trial 23, Fold 2/5\n",
      "    Fold 2 best total loss: 0.016396\n",
      "  🔄 Trial 23, Fold 3/5\n",
      "    Fold 3 best total loss: 0.022979\n",
      "  🔄 Trial 23, Fold 4/5\n",
      "    Fold 4 best total loss: 0.017787\n",
      "  🔄 Trial 23, Fold 5/5\n"
     ]
    },
    {
     "name": "stderr",
     "output_type": "stream",
     "text": [
      "[I 2025-10-10 01:10:27,132] Trial 23 finished with value: 0.017505783098749818 and parameters: {'lstm_hidden_size': 72, 'lstm_n_layers': 4, 'lstm_dropout': 0.5, 'decoder_hidden_size': 64, 'decoder_n_layers': 2, 'decoder_dropout': 0.2, 'current_hidden_size': 72, 'current_n_layers': 2, 'current_dropout': 0.5}. Best is trial 16 with value: 0.017243169341236354.\n"
     ]
    },
    {
     "name": "stdout",
     "output_type": "stream",
     "text": [
      "    Fold 5 best total loss: 0.017237\n",
      "  📊 Trial 23 - Average CV Loss: 0.017506 (±0.003178)\n",
      "  🔄 Trial 24, Fold 1/5\n",
      "    Fold 1 best total loss: 0.011415\n",
      "  🔄 Trial 24, Fold 2/5\n",
      "    Fold 2 best total loss: 0.015918\n",
      "  🔄 Trial 24, Fold 3/5\n",
      "    Fold 3 best total loss: 0.023108\n",
      "  🔄 Trial 24, Fold 4/5\n",
      "    Fold 4 best total loss: 0.019502\n",
      "  🔄 Trial 24, Fold 5/5\n"
     ]
    },
    {
     "name": "stderr",
     "output_type": "stream",
     "text": [
      "[I 2025-10-10 01:14:56,032] Trial 24 finished with value: 0.01806987024610862 and parameters: {'lstm_hidden_size': 72, 'lstm_n_layers': 4, 'lstm_dropout': 0.4, 'decoder_hidden_size': 96, 'decoder_n_layers': 3, 'decoder_dropout': 0.1, 'current_hidden_size': 72, 'current_n_layers': 2, 'current_dropout': 0.5}. Best is trial 16 with value: 0.017243169341236354.\n"
     ]
    },
    {
     "name": "stdout",
     "output_type": "stream",
     "text": [
      "    Fold 5 best total loss: 0.020408\n",
      "  📊 Trial 24 - Average CV Loss: 0.018070 (±0.004045)\n",
      "  🔄 Trial 25, Fold 1/5\n",
      "    Fold 1 best total loss: 0.011830\n",
      "  🔄 Trial 25, Fold 2/5\n",
      "    Fold 2 best total loss: 0.014612\n",
      "  🔄 Trial 25, Fold 3/5\n",
      "    Fold 3 best total loss: 0.022620\n",
      "  🔄 Trial 25, Fold 4/5\n",
      "    Fold 4 best total loss: 0.035343\n",
      "  🔄 Trial 25, Fold 5/5\n"
     ]
    },
    {
     "name": "stderr",
     "output_type": "stream",
     "text": [
      "[I 2025-10-10 01:19:20,729] Trial 25 finished with value: 0.02005293101537973 and parameters: {'lstm_hidden_size': 72, 'lstm_n_layers': 4, 'lstm_dropout': 0.5, 'decoder_hidden_size': 96, 'decoder_n_layers': 3, 'decoder_dropout': 0.2, 'current_hidden_size': 72, 'current_n_layers': 2, 'current_dropout': 0.5}. Best is trial 16 with value: 0.017243169341236354.\n"
     ]
    },
    {
     "name": "stdout",
     "output_type": "stream",
     "text": [
      "    Fold 5 best total loss: 0.015859\n",
      "  📊 Trial 25 - Average CV Loss: 0.020053 (±0.008428)\n",
      "  🔄 Trial 26, Fold 1/5\n",
      "    Fold 1 best total loss: 0.009200\n",
      "  🔄 Trial 26, Fold 2/5\n",
      "    Fold 2 best total loss: 0.014445\n",
      "  🔄 Trial 26, Fold 3/5\n",
      "    Fold 3 best total loss: 0.019418\n",
      "  🔄 Trial 26, Fold 4/5\n",
      "    Fold 4 best total loss: 0.015119\n",
      "  🔄 Trial 26, Fold 5/5\n"
     ]
    },
    {
     "name": "stderr",
     "output_type": "stream",
     "text": [
      "[I 2025-10-10 01:23:47,366] Trial 26 finished with value: 0.014126383780967445 and parameters: {'lstm_hidden_size': 72, 'lstm_n_layers': 4, 'lstm_dropout': 0.4, 'decoder_hidden_size': 96, 'decoder_n_layers': 3, 'decoder_dropout': 0.30000000000000004, 'current_hidden_size': 96, 'current_n_layers': 2, 'current_dropout': 0.4}. Best is trial 26 with value: 0.014126383780967445.\n"
     ]
    },
    {
     "name": "stdout",
     "output_type": "stream",
     "text": [
      "    Fold 5 best total loss: 0.012450\n",
      "  📊 Trial 26 - Average CV Loss: 0.014126 (±0.003352)\n",
      "  🔄 Trial 27, Fold 1/5\n",
      "    Fold 1 best total loss: 0.032622\n",
      "  🔄 Trial 27, Fold 2/5\n",
      "    Fold 2 best total loss: 0.036387\n",
      "  🔄 Trial 27, Fold 3/5\n",
      "    Fold 3 best total loss: 0.047130\n",
      "  🔄 Trial 27, Fold 4/5\n",
      "    Fold 4 best total loss: 0.199643\n",
      "  🔄 Trial 27, Fold 5/5\n"
     ]
    },
    {
     "name": "stderr",
     "output_type": "stream",
     "text": [
      "[I 2025-10-10 01:28:13,523] Trial 27 finished with value: 0.06963636595755815 and parameters: {'lstm_hidden_size': 64, 'lstm_n_layers': 4, 'lstm_dropout': 0.5, 'decoder_hidden_size': 96, 'decoder_n_layers': 4, 'decoder_dropout': 0.30000000000000004, 'current_hidden_size': 96, 'current_n_layers': 6, 'current_dropout': 0.4}. Best is trial 26 with value: 0.014126383780967445.\n"
     ]
    },
    {
     "name": "stdout",
     "output_type": "stream",
     "text": [
      "    Fold 5 best total loss: 0.032400\n",
      "  📊 Trial 27 - Average CV Loss: 0.069636 (±0.065223)\n",
      "  🔄 Trial 28, Fold 1/5\n",
      "    Fold 1 best total loss: 0.011420\n",
      "  🔄 Trial 28, Fold 2/5\n",
      "    Fold 2 best total loss: 0.016776\n",
      "  🔄 Trial 28, Fold 3/5\n",
      "    Fold 3 best total loss: 0.021376\n",
      "  🔄 Trial 28, Fold 4/5\n",
      "    Fold 4 best total loss: 0.018085\n",
      "  🔄 Trial 28, Fold 5/5\n"
     ]
    },
    {
     "name": "stderr",
     "output_type": "stream",
     "text": [
      "[I 2025-10-10 01:33:41,665] Trial 28 finished with value: 0.016421660175547005 and parameters: {'lstm_hidden_size': 72, 'lstm_n_layers': 5, 'lstm_dropout': 0.4, 'decoder_hidden_size': 96, 'decoder_n_layers': 3, 'decoder_dropout': 0.30000000000000004, 'current_hidden_size': 96, 'current_n_layers': 3, 'current_dropout': 0.4}. Best is trial 26 with value: 0.014126383780967445.\n"
     ]
    },
    {
     "name": "stdout",
     "output_type": "stream",
     "text": [
      "    Fold 5 best total loss: 0.014451\n",
      "  📊 Trial 28 - Average CV Loss: 0.016422 (±0.003357)\n",
      "  🔄 Trial 29, Fold 1/5\n",
      "    Fold 1 best total loss: 0.021949\n",
      "  🔄 Trial 29, Fold 2/5\n",
      "    Fold 2 best total loss: 0.032598\n",
      "  🔄 Trial 29, Fold 3/5\n",
      "    Fold 3 best total loss: 0.223520\n",
      "  🔄 Trial 29, Fold 4/5\n",
      "    Fold 4 best total loss: 0.023905\n",
      "  🔄 Trial 29, Fold 5/5\n"
     ]
    },
    {
     "name": "stderr",
     "output_type": "stream",
     "text": [
      "[I 2025-10-10 01:39:12,180] Trial 29 finished with value: 0.06695467648096383 and parameters: {'lstm_hidden_size': 16, 'lstm_n_layers': 5, 'lstm_dropout': 0.2, 'decoder_hidden_size': 96, 'decoder_n_layers': 3, 'decoder_dropout': 0.5, 'current_hidden_size': 96, 'current_n_layers': 3, 'current_dropout': 0.4}. Best is trial 26 with value: 0.014126383780967445.\n"
     ]
    },
    {
     "name": "stdout",
     "output_type": "stream",
     "text": [
      "    Fold 5 best total loss: 0.032801\n",
      "  📊 Trial 29 - Average CV Loss: 0.066955 (±0.078407)\n",
      "  🔄 Trial 30, Fold 1/5\n",
      "    Fold 1 best total loss: 0.009420\n",
      "  🔄 Trial 30, Fold 2/5\n",
      "    Fold 2 best total loss: 0.015008\n",
      "  🔄 Trial 30, Fold 3/5\n",
      "    Fold 3 best total loss: 0.020275\n",
      "  🔄 Trial 30, Fold 4/5\n",
      "    Fold 4 best total loss: 0.014840\n",
      "  🔄 Trial 30, Fold 5/5\n"
     ]
    },
    {
     "name": "stderr",
     "output_type": "stream",
     "text": [
      "[I 2025-10-10 01:44:42,479] Trial 30 finished with value: 0.015068040089681744 and parameters: {'lstm_hidden_size': 96, 'lstm_n_layers': 5, 'lstm_dropout': 0.30000000000000004, 'decoder_hidden_size': 96, 'decoder_n_layers': 3, 'decoder_dropout': 0.5, 'current_hidden_size': 96, 'current_n_layers': 3, 'current_dropout': 0.30000000000000004}. Best is trial 26 with value: 0.014126383780967445.\n"
     ]
    },
    {
     "name": "stdout",
     "output_type": "stream",
     "text": [
      "    Fold 5 best total loss: 0.015797\n",
      "  📊 Trial 30 - Average CV Loss: 0.015068 (±0.003452)\n",
      "  🔄 Trial 31, Fold 1/5\n",
      "    Fold 1 best total loss: 0.011221\n",
      "  🔄 Trial 31, Fold 2/5\n",
      "    Fold 2 best total loss: 0.011364\n",
      "  🔄 Trial 31, Fold 3/5\n",
      "    Fold 3 best total loss: 0.019157\n",
      "  🔄 Trial 31, Fold 4/5\n",
      "    Fold 4 best total loss: 0.013873\n",
      "  🔄 Trial 31, Fold 5/5\n"
     ]
    },
    {
     "name": "stderr",
     "output_type": "stream",
     "text": [
      "[I 2025-10-10 01:50:16,979] Trial 31 finished with value: 0.013910780136939138 and parameters: {'lstm_hidden_size': 96, 'lstm_n_layers': 5, 'lstm_dropout': 0.30000000000000004, 'decoder_hidden_size': 96, 'decoder_n_layers': 3, 'decoder_dropout': 0.5, 'current_hidden_size': 96, 'current_n_layers': 3, 'current_dropout': 0.30000000000000004}. Best is trial 31 with value: 0.013910780136939138.\n"
     ]
    },
    {
     "name": "stdout",
     "output_type": "stream",
     "text": [
      "    Fold 5 best total loss: 0.013939\n",
      "  📊 Trial 31 - Average CV Loss: 0.013911 (±0.002872)\n",
      "  🔄 Trial 32, Fold 1/5\n",
      "    Fold 1 best total loss: 0.010313\n",
      "  🔄 Trial 32, Fold 2/5\n",
      "    Fold 2 best total loss: 0.014313\n",
      "  🔄 Trial 32, Fold 3/5\n",
      "    Fold 3 best total loss: 0.021718\n",
      "  🔄 Trial 32, Fold 4/5\n",
      "    Fold 4 best total loss: 0.013488\n",
      "  🔄 Trial 32, Fold 5/5\n"
     ]
    },
    {
     "name": "stderr",
     "output_type": "stream",
     "text": [
      "[I 2025-10-10 01:55:44,328] Trial 32 finished with value: 0.014836173190269619 and parameters: {'lstm_hidden_size': 96, 'lstm_n_layers': 5, 'lstm_dropout': 0.30000000000000004, 'decoder_hidden_size': 96, 'decoder_n_layers': 4, 'decoder_dropout': 0.5, 'current_hidden_size': 96, 'current_n_layers': 3, 'current_dropout': 0.30000000000000004}. Best is trial 31 with value: 0.013910780136939138.\n"
     ]
    },
    {
     "name": "stdout",
     "output_type": "stream",
     "text": [
      "    Fold 5 best total loss: 0.014349\n",
      "  📊 Trial 32 - Average CV Loss: 0.014836 (±0.003745)\n",
      "  🔄 Trial 33, Fold 1/5\n",
      "    Fold 1 best total loss: 0.315966\n",
      "  🔄 Trial 33, Fold 2/5\n",
      "    Fold 2 best total loss: 0.016699\n",
      "  🔄 Trial 33, Fold 3/5\n",
      "    Fold 3 best total loss: 0.021844\n",
      "  🔄 Trial 33, Fold 4/5\n",
      "    Fold 4 best total loss: 0.027650\n",
      "  🔄 Trial 33, Fold 5/5\n"
     ]
    },
    {
     "name": "stderr",
     "output_type": "stream",
     "text": [
      "[I 2025-10-10 02:01:30,804] Trial 33 finished with value: 0.08495545428013429 and parameters: {'lstm_hidden_size': 96, 'lstm_n_layers': 5, 'lstm_dropout': 0.30000000000000004, 'decoder_hidden_size': 96, 'decoder_n_layers': 4, 'decoder_dropout': 0.5, 'current_hidden_size': 96, 'current_n_layers': 4, 'current_dropout': 0.30000000000000004}. Best is trial 31 with value: 0.013910780136939138.\n"
     ]
    },
    {
     "name": "stdout",
     "output_type": "stream",
     "text": [
      "    Fold 5 best total loss: 0.042619\n",
      "  📊 Trial 33 - Average CV Loss: 0.084955 (±0.115831)\n",
      "  🔄 Trial 34, Fold 1/5\n",
      "    Fold 1 best total loss: 0.014936\n",
      "  🔄 Trial 34, Fold 2/5\n",
      "    Fold 2 best total loss: 0.014545\n",
      "  🔄 Trial 34, Fold 3/5\n",
      "    Fold 3 best total loss: 0.225517\n",
      "  🔄 Trial 34, Fold 4/5\n",
      "    Fold 4 best total loss: 0.012014\n",
      "  🔄 Trial 34, Fold 5/5\n"
     ]
    },
    {
     "name": "stderr",
     "output_type": "stream",
     "text": [
      "[I 2025-10-10 02:09:26,345] Trial 34 finished with value: 0.0563773411209695 and parameters: {'lstm_hidden_size': 96, 'lstm_n_layers': 6, 'lstm_dropout': 0.30000000000000004, 'decoder_hidden_size': 72, 'decoder_n_layers': 5, 'decoder_dropout': 0.5, 'current_hidden_size': 96, 'current_n_layers': 3, 'current_dropout': 0.30000000000000004}. Best is trial 31 with value: 0.013910780136939138.\n"
     ]
    },
    {
     "name": "stdout",
     "output_type": "stream",
     "text": [
      "    Fold 5 best total loss: 0.014874\n",
      "  📊 Trial 34 - Average CV Loss: 0.056377 (±0.084577)\n",
      "  🔄 Trial 35, Fold 1/5\n",
      "    Fold 1 best total loss: 0.011426\n",
      "  🔄 Trial 35, Fold 2/5\n",
      "    Fold 2 best total loss: 0.019440\n",
      "  🔄 Trial 35, Fold 3/5\n",
      "    Fold 3 best total loss: 0.023739\n",
      "  🔄 Trial 35, Fold 4/5\n",
      "    Fold 4 best total loss: 0.199914\n",
      "  🔄 Trial 35, Fold 5/5\n"
     ]
    },
    {
     "name": "stderr",
     "output_type": "stream",
     "text": [
      "[I 2025-10-10 02:15:58,474] Trial 35 finished with value: 0.05381861531641334 and parameters: {'lstm_hidden_size': 96, 'lstm_n_layers': 5, 'lstm_dropout': 0.2, 'decoder_hidden_size': 16, 'decoder_n_layers': 4, 'decoder_dropout': 0.6, 'current_hidden_size': 96, 'current_n_layers': 4, 'current_dropout': 0.30000000000000004}. Best is trial 31 with value: 0.013910780136939138.\n"
     ]
    },
    {
     "name": "stdout",
     "output_type": "stream",
     "text": [
      "    Fold 5 best total loss: 0.014574\n",
      "  📊 Trial 35 - Average CV Loss: 0.053819 (±0.073168)\n",
      "  🔄 Trial 36, Fold 1/5\n",
      "    Fold 1 best total loss: 0.010180\n",
      "  🔄 Trial 36, Fold 2/5\n",
      "    Fold 2 best total loss: 0.014628\n",
      "  🔄 Trial 36, Fold 3/5\n",
      "    Fold 3 best total loss: 0.019684\n",
      "  🔄 Trial 36, Fold 4/5\n",
      "    Fold 4 best total loss: 0.019065\n",
      "  🔄 Trial 36, Fold 5/5\n"
     ]
    },
    {
     "name": "stderr",
     "output_type": "stream",
     "text": [
      "[I 2025-10-10 02:23:53,761] Trial 36 finished with value: 0.015376304415985942 and parameters: {'lstm_hidden_size': 96, 'lstm_n_layers': 6, 'lstm_dropout': 0.30000000000000004, 'decoder_hidden_size': 96, 'decoder_n_layers': 3, 'decoder_dropout': 0.4, 'current_hidden_size': 96, 'current_n_layers': 3, 'current_dropout': 0.30000000000000004}. Best is trial 31 with value: 0.013910780136939138.\n"
     ]
    },
    {
     "name": "stdout",
     "output_type": "stream",
     "text": [
      "    Fold 5 best total loss: 0.013325\n",
      "  📊 Trial 36 - Average CV Loss: 0.015376 (±0.003576)\n",
      "  🔄 Trial 37, Fold 1/5\n",
      "    Fold 1 best total loss: 0.008755\n",
      "  🔄 Trial 37, Fold 2/5\n",
      "    Fold 2 best total loss: 0.013089\n",
      "  🔄 Trial 37, Fold 3/5\n",
      "    Fold 3 best total loss: 0.018160\n",
      "  🔄 Trial 37, Fold 4/5\n",
      "    Fold 4 best total loss: 0.201445\n",
      "  🔄 Trial 37, Fold 5/5\n"
     ]
    },
    {
     "name": "stderr",
     "output_type": "stream",
     "text": [
      "[I 2025-10-10 02:30:37,531] Trial 37 finished with value: 0.11773528123740107 and parameters: {'lstm_hidden_size': 96, 'lstm_n_layers': 5, 'lstm_dropout': 0.2, 'decoder_hidden_size': 32, 'decoder_n_layers': 4, 'decoder_dropout': 0.5, 'current_hidden_size': 96, 'current_n_layers': 4, 'current_dropout': 0.1}. Best is trial 31 with value: 0.013910780136939138.\n"
     ]
    },
    {
     "name": "stdout",
     "output_type": "stream",
     "text": [
      "    Fold 5 best total loss: 0.347226\n",
      "  📊 Trial 37 - Average CV Loss: 0.117735 (±0.135953)\n",
      "  🔄 Trial 38, Fold 1/5\n",
      "    Fold 1 best total loss: 0.018483\n",
      "  🔄 Trial 38, Fold 2/5\n",
      "    Fold 2 best total loss: 0.023589\n",
      "  🔄 Trial 38, Fold 3/5\n",
      "    Fold 3 best total loss: 0.023850\n",
      "  🔄 Trial 38, Fold 4/5\n",
      "    Fold 4 best total loss: 0.202960\n",
      "  🔄 Trial 38, Fold 5/5\n"
     ]
    },
    {
     "name": "stderr",
     "output_type": "stream",
     "text": [
      "[I 2025-10-10 02:38:35,731] Trial 38 finished with value: 0.05713206280488521 and parameters: {'lstm_hidden_size': 96, 'lstm_n_layers': 6, 'lstm_dropout': 0.30000000000000004, 'decoder_hidden_size': 96, 'decoder_n_layers': 5, 'decoder_dropout': 0.4, 'current_hidden_size': 16, 'current_n_layers': 3, 'current_dropout': 0.2}. Best is trial 31 with value: 0.013910780136939138.\n"
     ]
    },
    {
     "name": "stdout",
     "output_type": "stream",
     "text": [
      "    Fold 5 best total loss: 0.016778\n",
      "  📊 Trial 38 - Average CV Loss: 0.057132 (±0.072967)\n",
      "  🔄 Trial 39, Fold 1/5\n",
      "    Fold 1 best total loss: 0.014397\n",
      "  🔄 Trial 39, Fold 2/5\n",
      "    Fold 2 best total loss: 0.021087\n",
      "  🔄 Trial 39, Fold 3/5\n",
      "    Fold 3 best total loss: 0.021632\n",
      "  🔄 Trial 39, Fold 4/5\n",
      "    Fold 4 best total loss: 0.018613\n",
      "  🔄 Trial 39, Fold 5/5\n"
     ]
    },
    {
     "name": "stderr",
     "output_type": "stream",
     "text": [
      "[I 2025-10-10 02:45:16,967] Trial 39 finished with value: 0.01850024755112827 and parameters: {'lstm_hidden_size': 96, 'lstm_n_layers': 5, 'lstm_dropout': 0.30000000000000004, 'decoder_hidden_size': 16, 'decoder_n_layers': 3, 'decoder_dropout': 0.5, 'current_hidden_size': 96, 'current_n_layers': 4, 'current_dropout': 0.4}. Best is trial 31 with value: 0.013910780136939138.\n"
     ]
    },
    {
     "name": "stdout",
     "output_type": "stream",
     "text": [
      "    Fold 5 best total loss: 0.016773\n",
      "  📊 Trial 39 - Average CV Loss: 0.018500 (±0.002696)\n",
      "  🔄 Trial 40, Fold 1/5\n",
      "    Fold 1 best total loss: 0.012637\n",
      "  🔄 Trial 40, Fold 2/5\n",
      "    Fold 2 best total loss: 0.016681\n",
      "  🔄 Trial 40, Fold 3/5\n",
      "    Fold 3 best total loss: 0.019485\n",
      "  🔄 Trial 40, Fold 4/5\n",
      "    Fold 4 best total loss: 0.017545\n",
      "  🔄 Trial 40, Fold 5/5\n"
     ]
    },
    {
     "name": "stderr",
     "output_type": "stream",
     "text": [
      "[I 2025-10-10 02:51:52,740] Trial 40 finished with value: 0.016370690334588288 and parameters: {'lstm_hidden_size': 48, 'lstm_n_layers': 5, 'lstm_dropout': 0.2, 'decoder_hidden_size': 96, 'decoder_n_layers': 3, 'decoder_dropout': 0.6, 'current_hidden_size': 96, 'current_n_layers': 3, 'current_dropout': 0.30000000000000004}. Best is trial 31 with value: 0.013910780136939138.\n"
     ]
    },
    {
     "name": "stdout",
     "output_type": "stream",
     "text": [
      "    Fold 5 best total loss: 0.015505\n",
      "  📊 Trial 40 - Average CV Loss: 0.016371 (±0.002274)\n",
      "  🔄 Trial 41, Fold 1/5\n",
      "    Fold 1 best total loss: 0.010704\n",
      "  🔄 Trial 41, Fold 2/5\n",
      "    Fold 2 best total loss: 0.016223\n",
      "  🔄 Trial 41, Fold 3/5\n",
      "    Fold 3 best total loss: 0.223530\n",
      "  🔄 Trial 41, Fold 4/5\n",
      "    Fold 4 best total loss: 0.017667\n",
      "  🔄 Trial 41, Fold 5/5\n"
     ]
    },
    {
     "name": "stderr",
     "output_type": "stream",
     "text": [
      "[I 2025-10-10 03:00:03,825] Trial 41 finished with value: 0.05684002712368965 and parameters: {'lstm_hidden_size': 96, 'lstm_n_layers': 6, 'lstm_dropout': 0.30000000000000004, 'decoder_hidden_size': 96, 'decoder_n_layers': 3, 'decoder_dropout': 0.4, 'current_hidden_size': 96, 'current_n_layers': 3, 'current_dropout': 0.30000000000000004}. Best is trial 31 with value: 0.013910780136939138.\n"
     ]
    },
    {
     "name": "stdout",
     "output_type": "stream",
     "text": [
      "    Fold 5 best total loss: 0.016076\n",
      "  📊 Trial 41 - Average CV Loss: 0.056840 (±0.083379)\n",
      "  🔄 Trial 42, Fold 1/5\n",
      "    Fold 1 best total loss: 0.011121\n",
      "  🔄 Trial 42, Fold 2/5\n",
      "    Fold 2 best total loss: 0.017351\n",
      "  🔄 Trial 42, Fold 3/5\n",
      "    Fold 3 best total loss: 0.021814\n",
      "  🔄 Trial 42, Fold 4/5\n",
      "    Fold 4 best total loss: 0.021553\n",
      "  🔄 Trial 42, Fold 5/5\n"
     ]
    },
    {
     "name": "stderr",
     "output_type": "stream",
     "text": [
      "[I 2025-10-10 03:06:53,115] Trial 42 finished with value: 0.017006628471426664 and parameters: {'lstm_hidden_size': 96, 'lstm_n_layers': 6, 'lstm_dropout': 0.30000000000000004, 'decoder_hidden_size': 96, 'decoder_n_layers': 3, 'decoder_dropout': 0.5, 'current_hidden_size': 96, 'current_n_layers': 3, 'current_dropout': 0.30000000000000004}. Best is trial 31 with value: 0.013910780136939138.\n"
     ]
    },
    {
     "name": "stdout",
     "output_type": "stream",
     "text": [
      "    Fold 5 best total loss: 0.013194\n",
      "  📊 Trial 42 - Average CV Loss: 0.017007 (±0.004314)\n",
      "  🔄 Trial 43, Fold 1/5\n",
      "    Fold 1 best total loss: 0.009085\n",
      "  🔄 Trial 43, Fold 2/5\n",
      "    Fold 2 best total loss: 0.013254\n",
      "  🔄 Trial 43, Fold 3/5\n",
      "    Fold 3 best total loss: 0.017606\n",
      "  🔄 Trial 43, Fold 4/5\n",
      "    Fold 4 best total loss: 0.201457\n",
      "  🔄 Trial 43, Fold 5/5\n"
     ]
    },
    {
     "name": "stderr",
     "output_type": "stream",
     "text": [
      "[I 2025-10-10 03:13:44,182] Trial 43 finished with value: 0.050695474608801305 and parameters: {'lstm_hidden_size': 96, 'lstm_n_layers': 6, 'lstm_dropout': 0.30000000000000004, 'decoder_hidden_size': 48, 'decoder_n_layers': 4, 'decoder_dropout': 0.4, 'current_hidden_size': 96, 'current_n_layers': 3, 'current_dropout': 0.2}. Best is trial 31 with value: 0.013910780136939138.\n"
     ]
    },
    {
     "name": "stdout",
     "output_type": "stream",
     "text": [
      "    Fold 5 best total loss: 0.012076\n",
      "  📊 Trial 43 - Average CV Loss: 0.050695 (±0.075430)\n",
      "  🔄 Trial 44, Fold 1/5\n",
      "    Fold 1 best total loss: 0.013225\n",
      "  🔄 Trial 44, Fold 2/5\n",
      "    Fold 2 best total loss: 0.021165\n",
      "  🔄 Trial 44, Fold 3/5\n",
      "    Fold 3 best total loss: 0.228376\n",
      "  🔄 Trial 44, Fold 4/5\n",
      "    Fold 4 best total loss: 0.019834\n",
      "  🔄 Trial 44, Fold 5/5\n"
     ]
    },
    {
     "name": "stderr",
     "output_type": "stream",
     "text": [
      "[I 2025-10-10 03:20:16,407] Trial 44 finished with value: 0.060921439458616077 and parameters: {'lstm_hidden_size': 96, 'lstm_n_layers': 6, 'lstm_dropout': 0.30000000000000004, 'decoder_hidden_size': 96, 'decoder_n_layers': 3, 'decoder_dropout': 0.4, 'current_hidden_size': 48, 'current_n_layers': 3, 'current_dropout': 0.4}. Best is trial 31 with value: 0.013910780136939138.\n"
     ]
    },
    {
     "name": "stdout",
     "output_type": "stream",
     "text": [
      "    Fold 5 best total loss: 0.022008\n",
      "  📊 Trial 44 - Average CV Loss: 0.060921 (±0.083784)\n",
      "  🔄 Trial 45, Fold 1/5\n",
      "    Fold 1 best total loss: 0.021338\n",
      "  🔄 Trial 45, Fold 2/5\n",
      "    Fold 2 best total loss: 0.024638\n",
      "  🔄 Trial 45, Fold 3/5\n",
      "    Fold 3 best total loss: 0.025472\n",
      "  🔄 Trial 45, Fold 4/5\n",
      "    Fold 4 best total loss: 0.026242\n",
      "  🔄 Trial 45, Fold 5/5\n"
     ]
    },
    {
     "name": "stderr",
     "output_type": "stream",
     "text": [
      "[I 2025-10-10 03:24:53,552] Trial 45 finished with value: 0.02508127922192216 and parameters: {'lstm_hidden_size': 96, 'lstm_n_layers': 4, 'lstm_dropout': 0.1, 'decoder_hidden_size': 72, 'decoder_n_layers': 5, 'decoder_dropout': 0.5, 'current_hidden_size': 16, 'current_n_layers': 4, 'current_dropout': 0.2}. Best is trial 31 with value: 0.013910780136939138.\n"
     ]
    },
    {
     "name": "stdout",
     "output_type": "stream",
     "text": [
      "    Fold 5 best total loss: 0.027715\n",
      "  📊 Trial 45 - Average CV Loss: 0.025081 (±0.002128)\n",
      "  🔄 Trial 46, Fold 1/5\n",
      "    Fold 1 best total loss: 0.009669\n",
      "  🔄 Trial 46, Fold 2/5\n",
      "    Fold 2 best total loss: 0.014242\n",
      "  🔄 Trial 46, Fold 3/5\n",
      "    Fold 3 best total loss: 0.020575\n",
      "  🔄 Trial 46, Fold 4/5\n",
      "    Fold 4 best total loss: 0.013750\n",
      "  🔄 Trial 46, Fold 5/5\n"
     ]
    },
    {
     "name": "stderr",
     "output_type": "stream",
     "text": [
      "[I 2025-10-10 03:30:28,858] Trial 46 finished with value: 0.014080356736667455 and parameters: {'lstm_hidden_size': 96, 'lstm_n_layers': 5, 'lstm_dropout': 0.2, 'decoder_hidden_size': 96, 'decoder_n_layers': 3, 'decoder_dropout': 0.30000000000000004, 'current_hidden_size': 96, 'current_n_layers': 3, 'current_dropout': 0.30000000000000004}. Best is trial 31 with value: 0.013910780136939138.\n"
     ]
    },
    {
     "name": "stdout",
     "output_type": "stream",
     "text": [
      "    Fold 5 best total loss: 0.012167\n",
      "  📊 Trial 46 - Average CV Loss: 0.014080 (±0.003618)\n",
      "  🔄 Trial 47, Fold 1/5\n",
      "    Fold 1 best total loss: 0.018116\n",
      "  🔄 Trial 47, Fold 2/5\n",
      "    Fold 2 best total loss: 0.024858\n",
      "  🔄 Trial 47, Fold 3/5\n",
      "    Fold 3 best total loss: 0.028514\n",
      "  🔄 Trial 47, Fold 4/5\n",
      "    Fold 4 best total loss: 0.018629\n",
      "  🔄 Trial 47, Fold 5/5\n"
     ]
    },
    {
     "name": "stderr",
     "output_type": "stream",
     "text": [
      "[I 2025-10-10 03:35:55,129] Trial 47 finished with value: 0.023989258101209998 and parameters: {'lstm_hidden_size': 48, 'lstm_n_layers': 5, 'lstm_dropout': 0.1, 'decoder_hidden_size': 32, 'decoder_n_layers': 4, 'decoder_dropout': 0.30000000000000004, 'current_hidden_size': 64, 'current_n_layers': 5, 'current_dropout': 0.30000000000000004}. Best is trial 31 with value: 0.013910780136939138.\n"
     ]
    },
    {
     "name": "stdout",
     "output_type": "stream",
     "text": [
      "    Fold 5 best total loss: 0.029829\n",
      "  📊 Trial 47 - Average CV Loss: 0.023989 (±0.004870)\n",
      "  🔄 Trial 48, Fold 1/5\n",
      "    Fold 1 best total loss: 0.011203\n",
      "  🔄 Trial 48, Fold 2/5\n",
      "    Fold 2 best total loss: 0.319646\n",
      "  🔄 Trial 48, Fold 3/5\n",
      "    Fold 3 best total loss: 0.022018\n",
      "  🔄 Trial 48, Fold 4/5\n",
      "    Fold 4 best total loss: 0.022524\n",
      "  🔄 Trial 48, Fold 5/5\n"
     ]
    },
    {
     "name": "stderr",
     "output_type": "stream",
     "text": [
      "[I 2025-10-10 03:41:34,750] Trial 48 finished with value: 0.07861798752564937 and parameters: {'lstm_hidden_size': 96, 'lstm_n_layers': 5, 'lstm_dropout': 0.2, 'decoder_hidden_size': 96, 'decoder_n_layers': 3, 'decoder_dropout': 0.30000000000000004, 'current_hidden_size': 32, 'current_n_layers': 4, 'current_dropout': 0.2}. Best is trial 31 with value: 0.013910780136939138.\n"
     ]
    },
    {
     "name": "stdout",
     "output_type": "stream",
     "text": [
      "    Fold 5 best total loss: 0.017699\n",
      "  📊 Trial 48 - Average CV Loss: 0.078618 (±0.120582)\n",
      "  🔄 Trial 49, Fold 1/5\n",
      "    Fold 1 best total loss: 0.022825\n",
      "  🔄 Trial 49, Fold 2/5\n",
      "    Fold 2 best total loss: 0.026256\n",
      "  🔄 Trial 49, Fold 3/5\n",
      "    Fold 3 best total loss: 0.024870\n",
      "  🔄 Trial 49, Fold 4/5\n",
      "    Fold 4 best total loss: 0.025004\n",
      "  🔄 Trial 49, Fold 5/5\n"
     ]
    },
    {
     "name": "stderr",
     "output_type": "stream",
     "text": [
      "[I 2025-10-10 03:46:57,250] Trial 49 finished with value: 0.027244634088128807 and parameters: {'lstm_hidden_size': 16, 'lstm_n_layers': 5, 'lstm_dropout': 0.2, 'decoder_hidden_size': 48, 'decoder_n_layers': 4, 'decoder_dropout': 0.6, 'current_hidden_size': 96, 'current_n_layers': 2, 'current_dropout': 0.4}. Best is trial 31 with value: 0.013910780136939138.\n"
     ]
    },
    {
     "name": "stdout",
     "output_type": "stream",
     "text": [
      "    Fold 5 best total loss: 0.037268\n",
      "  📊 Trial 49 - Average CV Loss: 0.027245 (±0.005131)\n",
      "  🔄 Trial 50, Fold 1/5\n",
      "    Fold 1 best total loss: 0.010953\n",
      "  🔄 Trial 50, Fold 2/5\n",
      "    Fold 2 best total loss: 0.013254\n",
      "  🔄 Trial 50, Fold 3/5\n",
      "    Fold 3 best total loss: 0.019987\n",
      "  🔄 Trial 50, Fold 4/5\n",
      "    Fold 4 best total loss: 0.012239\n",
      "  🔄 Trial 50, Fold 5/5\n"
     ]
    },
    {
     "name": "stderr",
     "output_type": "stream",
     "text": [
      "[I 2025-10-10 03:51:33,444] Trial 50 finished with value: 0.014043116068933159 and parameters: {'lstm_hidden_size': 96, 'lstm_n_layers': 4, 'lstm_dropout': 0.2, 'decoder_hidden_size': 16, 'decoder_n_layers': 3, 'decoder_dropout': 0.30000000000000004, 'current_hidden_size': 96, 'current_n_layers': 3, 'current_dropout': 0.30000000000000004}. Best is trial 31 with value: 0.013910780136939138.\n"
     ]
    },
    {
     "name": "stdout",
     "output_type": "stream",
     "text": [
      "    Fold 5 best total loss: 0.013783\n",
      "  📊 Trial 50 - Average CV Loss: 0.014043 (±0.003125)\n",
      "  🔄 Trial 51, Fold 1/5\n",
      "    Fold 1 best total loss: 0.010517\n",
      "  🔄 Trial 51, Fold 2/5\n",
      "    Fold 2 best total loss: 0.014496\n",
      "  🔄 Trial 51, Fold 3/5\n",
      "    Fold 3 best total loss: 0.021183\n",
      "  🔄 Trial 51, Fold 4/5\n",
      "    Fold 4 best total loss: 0.014180\n",
      "  🔄 Trial 51, Fold 5/5\n"
     ]
    },
    {
     "name": "stderr",
     "output_type": "stream",
     "text": [
      "[I 2025-10-10 03:56:00,377] Trial 51 finished with value: 0.015348013932816684 and parameters: {'lstm_hidden_size': 96, 'lstm_n_layers': 4, 'lstm_dropout': 0.2, 'decoder_hidden_size': 16, 'decoder_n_layers': 3, 'decoder_dropout': 0.30000000000000004, 'current_hidden_size': 96, 'current_n_layers': 3, 'current_dropout': 0.30000000000000004}. Best is trial 31 with value: 0.013910780136939138.\n"
     ]
    },
    {
     "name": "stdout",
     "output_type": "stream",
     "text": [
      "    Fold 5 best total loss: 0.016364\n",
      "  📊 Trial 51 - Average CV Loss: 0.015348 (±0.003479)\n",
      "  🔄 Trial 52, Fold 1/5\n",
      "    Fold 1 best total loss: 0.010516\n",
      "  🔄 Trial 52, Fold 2/5\n",
      "    Fold 2 best total loss: 0.013201\n",
      "  🔄 Trial 52, Fold 3/5\n",
      "    Fold 3 best total loss: 0.018938\n",
      "  🔄 Trial 52, Fold 4/5\n",
      "    Fold 4 best total loss: 0.014652\n",
      "  🔄 Trial 52, Fold 5/5\n"
     ]
    },
    {
     "name": "stderr",
     "output_type": "stream",
     "text": [
      "[I 2025-10-10 04:00:34,570] Trial 52 finished with value: 0.014318390423431993 and parameters: {'lstm_hidden_size': 96, 'lstm_n_layers': 4, 'lstm_dropout': 0.2, 'decoder_hidden_size': 16, 'decoder_n_layers': 3, 'decoder_dropout': 0.30000000000000004, 'current_hidden_size': 96, 'current_n_layers': 3, 'current_dropout': 0.30000000000000004}. Best is trial 31 with value: 0.013910780136939138.\n"
     ]
    },
    {
     "name": "stdout",
     "output_type": "stream",
     "text": [
      "    Fold 5 best total loss: 0.014285\n",
      "  📊 Trial 52 - Average CV Loss: 0.014318 (±0.002726)\n",
      "  🔄 Trial 53, Fold 1/5\n",
      "    Fold 1 best total loss: 0.010514\n",
      "  🔄 Trial 53, Fold 2/5\n",
      "    Fold 2 best total loss: 0.018267\n",
      "  🔄 Trial 53, Fold 3/5\n",
      "    Fold 3 best total loss: 0.022729\n",
      "  🔄 Trial 53, Fold 4/5\n",
      "    Fold 4 best total loss: 0.015839\n",
      "  🔄 Trial 53, Fold 5/5\n"
     ]
    },
    {
     "name": "stderr",
     "output_type": "stream",
     "text": [
      "[I 2025-10-10 04:04:00,031] Trial 53 finished with value: 0.01610900752712041 and parameters: {'lstm_hidden_size': 96, 'lstm_n_layers': 3, 'lstm_dropout': 0.1, 'decoder_hidden_size': 16, 'decoder_n_layers': 6, 'decoder_dropout': 0.30000000000000004, 'current_hidden_size': 96, 'current_n_layers': 2, 'current_dropout': 0.4}. Best is trial 31 with value: 0.013910780136939138.\n"
     ]
    },
    {
     "name": "stdout",
     "output_type": "stream",
     "text": [
      "    Fold 5 best total loss: 0.013197\n",
      "  📊 Trial 53 - Average CV Loss: 0.016109 (±0.004203)\n",
      "  🔄 Trial 54, Fold 1/5\n",
      "    Fold 1 best total loss: 0.011886\n",
      "  🔄 Trial 54, Fold 2/5\n",
      "    Fold 2 best total loss: 0.321010\n",
      "  🔄 Trial 54, Fold 3/5\n",
      "    Fold 3 best total loss: 0.022710\n",
      "  🔄 Trial 54, Fold 4/5\n",
      "    Fold 4 best total loss: 0.015988\n",
      "  🔄 Trial 54, Fold 5/5\n"
     ]
    },
    {
     "name": "stderr",
     "output_type": "stream",
     "text": [
      "[I 2025-10-10 04:08:38,192] Trial 54 finished with value: 0.14339394122362137 and parameters: {'lstm_hidden_size': 96, 'lstm_n_layers': 4, 'lstm_dropout': 0.2, 'decoder_hidden_size': 16, 'decoder_n_layers': 3, 'decoder_dropout': 0.30000000000000004, 'current_hidden_size': 96, 'current_n_layers': 5, 'current_dropout': 0.30000000000000004}. Best is trial 31 with value: 0.013910780136939138.\n"
     ]
    },
    {
     "name": "stdout",
     "output_type": "stream",
     "text": [
      "    Fold 5 best total loss: 0.345377\n",
      "  📊 Trial 54 - Average CV Loss: 0.143394 (±0.155200)\n",
      "  🔄 Trial 55, Fold 1/5\n",
      "    Fold 1 best total loss: 0.012201\n",
      "  🔄 Trial 55, Fold 2/5\n",
      "    Fold 2 best total loss: 0.021629\n",
      "  🔄 Trial 55, Fold 3/5\n",
      "    Fold 3 best total loss: 0.225955\n",
      "  🔄 Trial 55, Fold 4/5\n",
      "    Fold 4 best total loss: 0.199733\n",
      "  🔄 Trial 55, Fold 5/5\n"
     ]
    },
    {
     "name": "stderr",
     "output_type": "stream",
     "text": [
      "[I 2025-10-10 04:11:57,379] Trial 55 finished with value: 0.09481996302492916 and parameters: {'lstm_hidden_size': 32, 'lstm_n_layers': 3, 'lstm_dropout': 0.2, 'decoder_hidden_size': 16, 'decoder_n_layers': 2, 'decoder_dropout': 0.30000000000000004, 'current_hidden_size': 64, 'current_n_layers': 3, 'current_dropout': 0.2}. Best is trial 31 with value: 0.013910780136939138.\n"
     ]
    },
    {
     "name": "stdout",
     "output_type": "stream",
     "text": [
      "    Fold 5 best total loss: 0.014582\n",
      "  📊 Trial 55 - Average CV Loss: 0.094820 (±0.096772)\n",
      "  🔄 Trial 56, Fold 1/5\n",
      "    Fold 1 best total loss: 0.014174\n",
      "  🔄 Trial 56, Fold 2/5\n",
      "    Fold 2 best total loss: 0.018715\n",
      "  🔄 Trial 56, Fold 3/5\n",
      "    Fold 3 best total loss: 0.023076\n",
      "  🔄 Trial 56, Fold 4/5\n",
      "    Fold 4 best total loss: 0.022403\n",
      "  🔄 Trial 56, Fold 5/5\n"
     ]
    },
    {
     "name": "stderr",
     "output_type": "stream",
     "text": [
      "[I 2025-10-10 04:16:22,692] Trial 56 finished with value: 0.019466557702980936 and parameters: {'lstm_hidden_size': 96, 'lstm_n_layers': 4, 'lstm_dropout': 0.1, 'decoder_hidden_size': 16, 'decoder_n_layers': 3, 'decoder_dropout': 0.30000000000000004, 'current_hidden_size': 48, 'current_n_layers': 2, 'current_dropout': 0.4}. Best is trial 31 with value: 0.013910780136939138.\n"
     ]
    },
    {
     "name": "stdout",
     "output_type": "stream",
     "text": [
      "    Fold 5 best total loss: 0.018965\n",
      "  📊 Trial 56 - Average CV Loss: 0.019467 (±0.003177)\n",
      "  🔄 Trial 57, Fold 1/5\n",
      "    Fold 1 best total loss: 0.316117\n",
      "  🔄 Trial 57, Fold 2/5\n",
      "    Fold 2 best total loss: 0.021003\n",
      "  🔄 Trial 57, Fold 3/5\n",
      "    Fold 3 best total loss: 0.025056\n",
      "  🔄 Trial 57, Fold 4/5\n",
      "    Fold 4 best total loss: 0.020436\n",
      "  🔄 Trial 57, Fold 5/5\n"
     ]
    },
    {
     "name": "stderr",
     "output_type": "stream",
     "text": [
      "[I 2025-10-10 04:20:54,368] Trial 57 finished with value: 0.08205506387166679 and parameters: {'lstm_hidden_size': 48, 'lstm_n_layers': 4, 'lstm_dropout': 0.2, 'decoder_hidden_size': 16, 'decoder_n_layers': 2, 'decoder_dropout': 0.2, 'current_hidden_size': 32, 'current_n_layers': 3, 'current_dropout': 0.30000000000000004}. Best is trial 31 with value: 0.013910780136939138.\n"
     ]
    },
    {
     "name": "stdout",
     "output_type": "stream",
     "text": [
      "    Fold 5 best total loss: 0.027664\n",
      "  📊 Trial 57 - Average CV Loss: 0.082055 (±0.117061)\n",
      "  🔄 Trial 58, Fold 1/5\n",
      "    Fold 1 best total loss: 0.009708\n",
      "  🔄 Trial 58, Fold 2/5\n",
      "    Fold 2 best total loss: 0.014125\n",
      "  🔄 Trial 58, Fold 3/5\n",
      "    Fold 3 best total loss: 0.019867\n",
      "  🔄 Trial 58, Fold 4/5\n",
      "    Fold 4 best total loss: 0.013534\n",
      "  🔄 Trial 58, Fold 5/5\n"
     ]
    },
    {
     "name": "stderr",
     "output_type": "stream",
     "text": [
      "[I 2025-10-10 04:25:29,661] Trial 58 finished with value: 0.014896432845853269 and parameters: {'lstm_hidden_size': 96, 'lstm_n_layers': 4, 'lstm_dropout': 0.2, 'decoder_hidden_size': 16, 'decoder_n_layers': 5, 'decoder_dropout': 0.4, 'current_hidden_size': 96, 'current_n_layers': 4, 'current_dropout': 0.2}. Best is trial 31 with value: 0.013910780136939138.\n"
     ]
    },
    {
     "name": "stdout",
     "output_type": "stream",
     "text": [
      "    Fold 5 best total loss: 0.017248\n",
      "  📊 Trial 58 - Average CV Loss: 0.014896 (±0.003453)\n",
      "  🔄 Trial 59, Fold 1/5\n",
      "    Fold 1 best total loss: 0.024980\n",
      "  🔄 Trial 59, Fold 2/5\n",
      "    Fold 2 best total loss: 0.026252\n",
      "  🔄 Trial 59, Fold 3/5\n",
      "    Fold 3 best total loss: 0.031841\n",
      "  🔄 Trial 59, Fold 4/5\n",
      "    Fold 4 best total loss: 0.030966\n",
      "  🔄 Trial 59, Fold 5/5\n"
     ]
    },
    {
     "name": "stderr",
     "output_type": "stream",
     "text": [
      "[I 2025-10-10 04:28:55,624] Trial 59 finished with value: 0.028123172605410217 and parameters: {'lstm_hidden_size': 16, 'lstm_n_layers': 3, 'lstm_dropout': 0.4, 'decoder_hidden_size': 72, 'decoder_n_layers': 3, 'decoder_dropout': 0.30000000000000004, 'current_hidden_size': 16, 'current_n_layers': 2, 'current_dropout': 0.30000000000000004}. Best is trial 31 with value: 0.013910780136939138.\n"
     ]
    },
    {
     "name": "stdout",
     "output_type": "stream",
     "text": [
      "    Fold 5 best total loss: 0.026576\n",
      "  📊 Trial 59 - Average CV Loss: 0.028123 (±0.002745)\n",
      "  🔄 Trial 60, Fold 1/5\n",
      "    Fold 1 best total loss: 0.013021\n",
      "  🔄 Trial 60, Fold 2/5\n",
      "    Fold 2 best total loss: 0.020317\n",
      "  🔄 Trial 60, Fold 3/5\n",
      "    Fold 3 best total loss: 0.022765\n",
      "  🔄 Trial 60, Fold 4/5\n",
      "    Fold 4 best total loss: 0.019705\n",
      "  🔄 Trial 60, Fold 5/5\n"
     ]
    },
    {
     "name": "stderr",
     "output_type": "stream",
     "text": [
      "[I 2025-10-10 04:33:24,526] Trial 60 finished with value: 0.019061443046666682 and parameters: {'lstm_hidden_size': 72, 'lstm_n_layers': 4, 'lstm_dropout': 0.1, 'decoder_hidden_size': 16, 'decoder_n_layers': 4, 'decoder_dropout': 0.2, 'current_hidden_size': 96, 'current_n_layers': 3, 'current_dropout': 0.4}. Best is trial 31 with value: 0.013910780136939138.\n"
     ]
    },
    {
     "name": "stdout",
     "output_type": "stream",
     "text": [
      "    Fold 5 best total loss: 0.019499\n",
      "  📊 Trial 60 - Average CV Loss: 0.019061 (±0.003237)\n",
      "  🔄 Trial 61, Fold 1/5\n",
      "    Fold 1 best total loss: 0.009622\n",
      "  🔄 Trial 61, Fold 2/5\n",
      "    Fold 2 best total loss: 0.017654\n",
      "  🔄 Trial 61, Fold 3/5\n",
      "    Fold 3 best total loss: 0.224307\n",
      "  🔄 Trial 61, Fold 4/5\n",
      "    Fold 4 best total loss: 0.013073\n",
      "  🔄 Trial 61, Fold 5/5\n"
     ]
    },
    {
     "name": "stderr",
     "output_type": "stream",
     "text": [
      "[I 2025-10-10 04:37:57,968] Trial 61 finished with value: 0.055371083074714986 and parameters: {'lstm_hidden_size': 96, 'lstm_n_layers': 4, 'lstm_dropout': 0.2, 'decoder_hidden_size': 16, 'decoder_n_layers': 5, 'decoder_dropout': 0.4, 'current_hidden_size': 96, 'current_n_layers': 4, 'current_dropout': 0.2}. Best is trial 31 with value: 0.013910780136939138.\n"
     ]
    },
    {
     "name": "stdout",
     "output_type": "stream",
     "text": [
      "    Fold 5 best total loss: 0.012199\n",
      "  📊 Trial 61 - Average CV Loss: 0.055371 (±0.084508)\n",
      "  🔄 Trial 62, Fold 1/5\n",
      "    Fold 1 best total loss: 0.012489\n",
      "  🔄 Trial 62, Fold 2/5\n",
      "    Fold 2 best total loss: 0.319426\n",
      "  🔄 Trial 62, Fold 3/5\n",
      "    Fold 3 best total loss: 0.019254\n",
      "  🔄 Trial 62, Fold 4/5\n",
      "    Fold 4 best total loss: 0.011830\n",
      "  🔄 Trial 62, Fold 5/5\n"
     ]
    },
    {
     "name": "stderr",
     "output_type": "stream",
     "text": [
      "[I 2025-10-10 04:42:33,388] Trial 62 finished with value: 0.14248327368404717 and parameters: {'lstm_hidden_size': 96, 'lstm_n_layers': 4, 'lstm_dropout': 0.2, 'decoder_hidden_size': 16, 'decoder_n_layers': 6, 'decoder_dropout': 0.4, 'current_hidden_size': 96, 'current_n_layers': 4, 'current_dropout': 0.2}. Best is trial 31 with value: 0.013910780136939138.\n"
     ]
    },
    {
     "name": "stdout",
     "output_type": "stream",
     "text": [
      "    Fold 5 best total loss: 0.349416\n",
      "  📊 Trial 62 - Average CV Loss: 0.142483 (±0.157025)\n",
      "  🔄 Trial 63, Fold 1/5\n",
      "    Fold 1 best total loss: 0.007983\n",
      "  🔄 Trial 63, Fold 2/5\n",
      "    Fold 2 best total loss: 0.012642\n",
      "  🔄 Trial 63, Fold 3/5\n",
      "    Fold 3 best total loss: 0.018990\n",
      "  🔄 Trial 63, Fold 4/5\n",
      "    Fold 4 best total loss: 0.009801\n",
      "  🔄 Trial 63, Fold 5/5\n"
     ]
    },
    {
     "name": "stderr",
     "output_type": "stream",
     "text": [
      "[I 2025-10-10 04:47:08,603] Trial 63 finished with value: 0.01233225737232715 and parameters: {'lstm_hidden_size': 96, 'lstm_n_layers': 4, 'lstm_dropout': 0.2, 'decoder_hidden_size': 16, 'decoder_n_layers': 5, 'decoder_dropout': 0.30000000000000004, 'current_hidden_size': 96, 'current_n_layers': 3, 'current_dropout': 0.1}. Best is trial 63 with value: 0.01233225737232715.\n"
     ]
    },
    {
     "name": "stdout",
     "output_type": "stream",
     "text": [
      "    Fold 5 best total loss: 0.012244\n",
      "  📊 Trial 63 - Average CV Loss: 0.012332 (±0.003735)\n",
      "  🔄 Trial 64, Fold 1/5\n",
      "    Fold 1 best total loss: 0.008864\n",
      "  🔄 Trial 64, Fold 2/5\n",
      "    Fold 2 best total loss: 0.014144\n",
      "  🔄 Trial 64, Fold 3/5\n",
      "    Fold 3 best total loss: 0.016008\n",
      "  🔄 Trial 64, Fold 4/5\n",
      "    Fold 4 best total loss: 0.199501\n",
      "  🔄 Trial 64, Fold 5/5\n"
     ]
    },
    {
     "name": "stderr",
     "output_type": "stream",
     "text": [
      "[I 2025-10-10 04:51:39,553] Trial 64 finished with value: 0.050520474556833506 and parameters: {'lstm_hidden_size': 32, 'lstm_n_layers': 4, 'lstm_dropout': 0.2, 'decoder_hidden_size': 16, 'decoder_n_layers': 4, 'decoder_dropout': 0.30000000000000004, 'current_hidden_size': 96, 'current_n_layers': 3, 'current_dropout': 0.1}. Best is trial 63 with value: 0.01233225737232715.\n"
     ]
    },
    {
     "name": "stdout",
     "output_type": "stream",
     "text": [
      "    Fold 5 best total loss: 0.014086\n",
      "  📊 Trial 64 - Average CV Loss: 0.050520 (±0.074528)\n",
      "  🔄 Trial 65, Fold 1/5\n",
      "    Fold 1 best total loss: 0.007583\n",
      "  🔄 Trial 65, Fold 2/5\n",
      "    Fold 2 best total loss: 0.012520\n",
      "  🔄 Trial 65, Fold 3/5\n",
      "    Fold 3 best total loss: 0.016949\n",
      "  🔄 Trial 65, Fold 4/5\n",
      "    Fold 4 best total loss: 0.008358\n",
      "  🔄 Trial 65, Fold 5/5\n"
     ]
    },
    {
     "name": "stderr",
     "output_type": "stream",
     "text": [
      "[I 2025-10-10 04:57:15,878] Trial 65 finished with value: 0.010987767169717699 and parameters: {'lstm_hidden_size': 96, 'lstm_n_layers': 5, 'lstm_dropout': 0.2, 'decoder_hidden_size': 48, 'decoder_n_layers': 3, 'decoder_dropout': 0.30000000000000004, 'current_hidden_size': 96, 'current_n_layers': 3, 'current_dropout': 0.1}. Best is trial 65 with value: 0.010987767169717699.\n"
     ]
    },
    {
     "name": "stdout",
     "output_type": "stream",
     "text": [
      "    Fold 5 best total loss: 0.009529\n",
      "  📊 Trial 65 - Average CV Loss: 0.010988 (±0.003421)\n",
      "  🔄 Trial 66, Fold 1/5\n",
      "    Fold 1 best total loss: 0.007831\n",
      "  🔄 Trial 66, Fold 2/5\n",
      "    Fold 2 best total loss: 0.012333\n",
      "  🔄 Trial 66, Fold 3/5\n",
      "    Fold 3 best total loss: 0.225198\n",
      "  🔄 Trial 66, Fold 4/5\n",
      "    Fold 4 best total loss: 0.012515\n",
      "  🔄 Trial 66, Fold 5/5\n"
     ]
    },
    {
     "name": "stderr",
     "output_type": "stream",
     "text": [
      "[I 2025-10-10 05:01:52,745] Trial 66 finished with value: 0.05355148912640288 and parameters: {'lstm_hidden_size': 72, 'lstm_n_layers': 4, 'lstm_dropout': 0.2, 'decoder_hidden_size': 48, 'decoder_n_layers': 3, 'decoder_dropout': 0.30000000000000004, 'current_hidden_size': 96, 'current_n_layers': 3, 'current_dropout': 0.1}. Best is trial 65 with value: 0.010987767169717699.\n"
     ]
    },
    {
     "name": "stdout",
     "output_type": "stream",
     "text": [
      "    Fold 5 best total loss: 0.009880\n",
      "  📊 Trial 66 - Average CV Loss: 0.053551 (±0.085841)\n",
      "  🔄 Trial 67, Fold 1/5\n",
      "    Fold 1 best total loss: 0.006730\n",
      "  🔄 Trial 67, Fold 2/5\n",
      "    Fold 2 best total loss: 0.018364\n",
      "  🔄 Trial 67, Fold 3/5\n",
      "    Fold 3 best total loss: 0.227011\n",
      "  🔄 Trial 67, Fold 4/5\n",
      "    Fold 4 best total loss: 0.013103\n",
      "  🔄 Trial 67, Fold 5/5\n"
     ]
    },
    {
     "name": "stderr",
     "output_type": "stream",
     "text": [
      "[I 2025-10-10 05:06:23,228] Trial 67 finished with value: 0.05494946867693216 and parameters: {'lstm_hidden_size': 96, 'lstm_n_layers': 4, 'lstm_dropout': 0.2, 'decoder_hidden_size': 48, 'decoder_n_layers': 3, 'decoder_dropout': 0.30000000000000004, 'current_hidden_size': 96, 'current_n_layers': 2, 'current_dropout': 0.1}. Best is trial 65 with value: 0.010987767169717699.\n"
     ]
    },
    {
     "name": "stdout",
     "output_type": "stream",
     "text": [
      "    Fold 5 best total loss: 0.009539\n",
      "  📊 Trial 67 - Average CV Loss: 0.054949 (±0.086119)\n",
      "  🔄 Trial 68, Fold 1/5\n",
      "    Fold 1 best total loss: 0.318166\n",
      "  🔄 Trial 68, Fold 2/5\n",
      "    Fold 2 best total loss: 0.317909\n",
      "  🔄 Trial 68, Fold 3/5\n",
      "    Fold 3 best total loss: 0.222151\n",
      "  🔄 Trial 68, Fold 4/5\n",
      "    Fold 4 best total loss: 0.010949\n",
      "  🔄 Trial 68, Fold 5/5\n"
     ]
    },
    {
     "name": "stderr",
     "output_type": "stream",
     "text": [
      "[I 2025-10-10 05:11:47,901] Trial 68 finished with value: 0.2432169772335328 and parameters: {'lstm_hidden_size': 96, 'lstm_n_layers': 5, 'lstm_dropout': 0.2, 'decoder_hidden_size': 48, 'decoder_n_layers': 2, 'decoder_dropout': 0.2, 'current_hidden_size': 64, 'current_n_layers': 6, 'current_dropout': 0.1}. Best is trial 65 with value: 0.010987767169717699.\n"
     ]
    },
    {
     "name": "stdout",
     "output_type": "stream",
     "text": [
      "    Fold 5 best total loss: 0.346910\n",
      "  📊 Trial 68 - Average CV Loss: 0.243217 (±0.123564)\n",
      "  🔄 Trial 69, Fold 1/5\n",
      "    Fold 1 best total loss: 0.008262\n",
      "  🔄 Trial 69, Fold 2/5\n",
      "    Fold 2 best total loss: 0.014474\n",
      "  🔄 Trial 69, Fold 3/5\n",
      "    Fold 3 best total loss: 0.225435\n",
      "  🔄 Trial 69, Fold 4/5\n",
      "    Fold 4 best total loss: 0.014625\n",
      "  🔄 Trial 69, Fold 5/5\n"
     ]
    },
    {
     "name": "stderr",
     "output_type": "stream",
     "text": [
      "[I 2025-10-10 05:15:10,420] Trial 69 finished with value: 0.05505283065140247 and parameters: {'lstm_hidden_size': 64, 'lstm_n_layers': 3, 'lstm_dropout': 0.1, 'decoder_hidden_size': 48, 'decoder_n_layers': 3, 'decoder_dropout': 0.30000000000000004, 'current_hidden_size': 48, 'current_n_layers': 3, 'current_dropout': 0.1}. Best is trial 65 with value: 0.010987767169717699.\n"
     ]
    },
    {
     "name": "stdout",
     "output_type": "stream",
     "text": [
      "    Fold 5 best total loss: 0.012468\n",
      "  📊 Trial 69 - Average CV Loss: 0.055053 (±0.085222)\n",
      "  🔄 Trial 70, Fold 1/5\n",
      "    Fold 1 best total loss: 0.016933\n",
      "  🔄 Trial 70, Fold 2/5\n",
      "    Fold 2 best total loss: 0.013267\n",
      "  🔄 Trial 70, Fold 3/5\n",
      "    Fold 3 best total loss: 0.014353\n",
      "  🔄 Trial 70, Fold 4/5\n",
      "    Fold 4 best total loss: 0.008735\n",
      "  🔄 Trial 70, Fold 5/5\n"
     ]
    },
    {
     "name": "stderr",
     "output_type": "stream",
     "text": [
      "[I 2025-10-10 05:19:42,198] Trial 70 finished with value: 0.012706608301959932 and parameters: {'lstm_hidden_size': 96, 'lstm_n_layers': 4, 'lstm_dropout': 0.2, 'decoder_hidden_size': 32, 'decoder_n_layers': 3, 'decoder_dropout': 0.2, 'current_hidden_size': 96, 'current_n_layers': 3, 'current_dropout': 0.1}. Best is trial 65 with value: 0.010987767169717699.\n"
     ]
    },
    {
     "name": "stdout",
     "output_type": "stream",
     "text": [
      "    Fold 5 best total loss: 0.010245\n",
      "  📊 Trial 70 - Average CV Loss: 0.012707 (±0.002923)\n",
      "  🔄 Trial 71, Fold 1/5\n",
      "    Fold 1 best total loss: 0.006952\n",
      "  🔄 Trial 71, Fold 2/5\n",
      "    Fold 2 best total loss: 0.014554\n",
      "  🔄 Trial 71, Fold 3/5\n",
      "    Fold 3 best total loss: 0.015340\n",
      "  🔄 Trial 71, Fold 4/5\n",
      "    Fold 4 best total loss: 0.012147\n",
      "  🔄 Trial 71, Fold 5/5\n"
     ]
    },
    {
     "name": "stderr",
     "output_type": "stream",
     "text": [
      "[I 2025-10-10 05:24:13,331] Trial 71 finished with value: 0.011748734686989337 and parameters: {'lstm_hidden_size': 96, 'lstm_n_layers': 4, 'lstm_dropout': 0.2, 'decoder_hidden_size': 32, 'decoder_n_layers': 3, 'decoder_dropout': 0.2, 'current_hidden_size': 96, 'current_n_layers': 3, 'current_dropout': 0.1}. Best is trial 65 with value: 0.010987767169717699.\n"
     ]
    },
    {
     "name": "stdout",
     "output_type": "stream",
     "text": [
      "    Fold 5 best total loss: 0.009751\n",
      "  📊 Trial 71 - Average CV Loss: 0.011749 (±0.003096)\n",
      "  🔄 Trial 72, Fold 1/5\n",
      "    Fold 1 best total loss: 0.007163\n",
      "  🔄 Trial 72, Fold 2/5\n",
      "    Fold 2 best total loss: 0.320350\n",
      "  🔄 Trial 72, Fold 3/5\n",
      "    Fold 3 best total loss: 0.014370\n",
      "  🔄 Trial 72, Fold 4/5\n",
      "    Fold 4 best total loss: 0.011315\n",
      "  🔄 Trial 72, Fold 5/5\n"
     ]
    },
    {
     "name": "stderr",
     "output_type": "stream",
     "text": [
      "[I 2025-10-10 05:28:40,478] Trial 72 finished with value: 0.0723947043530643 and parameters: {'lstm_hidden_size': 96, 'lstm_n_layers': 4, 'lstm_dropout': 0.2, 'decoder_hidden_size': 32, 'decoder_n_layers': 3, 'decoder_dropout': 0.2, 'current_hidden_size': 96, 'current_n_layers': 3, 'current_dropout': 0.1}. Best is trial 65 with value: 0.010987767169717699.\n"
     ]
    },
    {
     "name": "stdout",
     "output_type": "stream",
     "text": [
      "    Fold 5 best total loss: 0.008775\n",
      "  📊 Trial 72 - Average CV Loss: 0.072395 (±0.124002)\n",
      "  🔄 Trial 73, Fold 1/5\n",
      "    Fold 1 best total loss: 0.317592\n",
      "  🔄 Trial 73, Fold 2/5\n",
      "    Fold 2 best total loss: 0.321549\n",
      "  🔄 Trial 73, Fold 3/5\n",
      "    Fold 3 best total loss: 0.013667\n",
      "  🔄 Trial 73, Fold 4/5\n",
      "    Fold 4 best total loss: 0.011067\n",
      "  🔄 Trial 73, Fold 5/5\n"
     ]
    },
    {
     "name": "stderr",
     "output_type": "stream",
     "text": [
      "[I 2025-10-10 05:34:13,456] Trial 73 finished with value: 0.20198029876919463 and parameters: {'lstm_hidden_size': 96, 'lstm_n_layers': 5, 'lstm_dropout': 0.2, 'decoder_hidden_size': 32, 'decoder_n_layers': 3, 'decoder_dropout': 0.2, 'current_hidden_size': 96, 'current_n_layers': 3, 'current_dropout': 0.1}. Best is trial 65 with value: 0.010987767169717699.\n"
     ]
    },
    {
     "name": "stdout",
     "output_type": "stream",
     "text": [
      "    Fold 5 best total loss: 0.346027\n",
      "  📊 Trial 73 - Average CV Loss: 0.201980 (±0.155127)\n",
      "  🔄 Trial 74, Fold 1/5\n",
      "    Fold 1 best total loss: 0.006886\n",
      "  🔄 Trial 74, Fold 2/5\n",
      "    Fold 2 best total loss: 0.318086\n",
      "  🔄 Trial 74, Fold 3/5\n",
      "    Fold 3 best total loss: 0.016199\n",
      "  🔄 Trial 74, Fold 4/5\n",
      "    Fold 4 best total loss: 0.011401\n",
      "  🔄 Trial 74, Fold 5/5\n"
     ]
    },
    {
     "name": "stderr",
     "output_type": "stream",
     "text": [
      "[I 2025-10-10 05:38:45,761] Trial 74 finished with value: 0.07267411489738151 and parameters: {'lstm_hidden_size': 72, 'lstm_n_layers': 4, 'lstm_dropout': 0.2, 'decoder_hidden_size': 32, 'decoder_n_layers': 3, 'decoder_dropout': 0.2, 'current_hidden_size': 96, 'current_n_layers': 3, 'current_dropout': 0.1}. Best is trial 65 with value: 0.010987767169717699.\n"
     ]
    },
    {
     "name": "stdout",
     "output_type": "stream",
     "text": [
      "    Fold 5 best total loss: 0.010799\n",
      "  📊 Trial 74 - Average CV Loss: 0.072674 (±0.122741)\n",
      "  🔄 Trial 75, Fold 1/5\n",
      "    Fold 1 best total loss: 0.007445\n",
      "  🔄 Trial 75, Fold 2/5\n",
      "    Fold 2 best total loss: 0.014458\n",
      "  🔄 Trial 75, Fold 3/5\n",
      "    Fold 3 best total loss: 0.013575\n",
      "  🔄 Trial 75, Fold 4/5\n",
      "    Fold 4 best total loss: 0.009009\n",
      "  🔄 Trial 75, Fold 5/5\n"
     ]
    },
    {
     "name": "stderr",
     "output_type": "stream",
     "text": [
      "[I 2025-10-10 05:43:18,483] Trial 75 finished with value: 0.010700262093450874 and parameters: {'lstm_hidden_size': 96, 'lstm_n_layers': 4, 'lstm_dropout': 0.2, 'decoder_hidden_size': 32, 'decoder_n_layers': 3, 'decoder_dropout': 0.2, 'current_hidden_size': 96, 'current_n_layers': 3, 'current_dropout': 0.1}. Best is trial 75 with value: 0.010700262093450874.\n"
     ]
    },
    {
     "name": "stdout",
     "output_type": "stream",
     "text": [
      "    Fold 5 best total loss: 0.009014\n",
      "  📊 Trial 75 - Average CV Loss: 0.010700 (±0.002781)\n",
      "  🔄 Trial 76, Fold 1/5\n",
      "    Fold 1 best total loss: 0.315833\n",
      "  🔄 Trial 76, Fold 2/5\n",
      "    Fold 2 best total loss: 0.014465\n",
      "  🔄 Trial 76, Fold 3/5\n",
      "    Fold 3 best total loss: 0.223078\n",
      "  🔄 Trial 76, Fold 4/5\n",
      "    Fold 4 best total loss: 0.010293\n",
      "  🔄 Trial 76, Fold 5/5\n"
     ]
    },
    {
     "name": "stderr",
     "output_type": "stream",
     "text": [
      "[I 2025-10-10 05:48:47,709] Trial 76 finished with value: 0.11487422230420634 and parameters: {'lstm_hidden_size': 96, 'lstm_n_layers': 5, 'lstm_dropout': 0.2, 'decoder_hidden_size': 32, 'decoder_n_layers': 2, 'decoder_dropout': 0.2, 'current_hidden_size': 96, 'current_n_layers': 3, 'current_dropout': 0.1}. Best is trial 75 with value: 0.010700262093450874.\n"
     ]
    },
    {
     "name": "stdout",
     "output_type": "stream",
     "text": [
      "    Fold 5 best total loss: 0.010702\n",
      "  📊 Trial 76 - Average CV Loss: 0.114874 (±0.129587)\n",
      "  🔄 Trial 77, Fold 1/5\n",
      "    Fold 1 best total loss: 0.009778\n",
      "  🔄 Trial 77, Fold 2/5\n",
      "    Fold 2 best total loss: 0.319176\n",
      "  🔄 Trial 77, Fold 3/5\n",
      "    Fold 3 best total loss: 0.022978\n",
      "  🔄 Trial 77, Fold 4/5\n",
      "    Fold 4 best total loss: 0.010948\n",
      "  🔄 Trial 77, Fold 5/5\n"
     ]
    },
    {
     "name": "stderr",
     "output_type": "stream",
     "text": [
      "[I 2025-10-10 05:53:12,594] Trial 77 finished with value: 0.07509504902409389 and parameters: {'lstm_hidden_size': 96, 'lstm_n_layers': 4, 'lstm_dropout': 0.2, 'decoder_hidden_size': 32, 'decoder_n_layers': 3, 'decoder_dropout': 0.2, 'current_hidden_size': 32, 'current_n_layers': 3, 'current_dropout': 0.1}. Best is trial 75 with value: 0.010700262093450874.\n"
     ]
    },
    {
     "name": "stdout",
     "output_type": "stream",
     "text": [
      "    Fold 5 best total loss: 0.012595\n",
      "  📊 Trial 77 - Average CV Loss: 0.075095 (±0.122131)\n",
      "  🔄 Trial 78, Fold 1/5\n",
      "    Fold 1 best total loss: 0.007834\n",
      "  🔄 Trial 78, Fold 2/5\n",
      "    Fold 2 best total loss: 0.012345\n",
      "  🔄 Trial 78, Fold 3/5\n",
      "    Fold 3 best total loss: 0.015092\n",
      "  🔄 Trial 78, Fold 4/5\n",
      "    Fold 4 best total loss: 0.008806\n",
      "  🔄 Trial 78, Fold 5/5\n"
     ]
    },
    {
     "name": "stderr",
     "output_type": "stream",
     "text": [
      "[I 2025-10-10 05:57:48,234] Trial 78 finished with value: 0.01047220446052961 and parameters: {'lstm_hidden_size': 96, 'lstm_n_layers': 4, 'lstm_dropout': 0.2, 'decoder_hidden_size': 32, 'decoder_n_layers': 3, 'decoder_dropout': 0.1, 'current_hidden_size': 96, 'current_n_layers': 3, 'current_dropout': 0.1}. Best is trial 78 with value: 0.01047220446052961.\n"
     ]
    },
    {
     "name": "stdout",
     "output_type": "stream",
     "text": [
      "    Fold 5 best total loss: 0.008284\n",
      "  📊 Trial 78 - Average CV Loss: 0.010472 (±0.002806)\n",
      "  🔄 Trial 79, Fold 1/5\n",
      "    Fold 1 best total loss: 0.317160\n",
      "  🔄 Trial 79, Fold 2/5\n",
      "    Fold 2 best total loss: 0.014557\n",
      "  🔄 Trial 79, Fold 3/5\n",
      "    Fold 3 best total loss: 0.014306\n",
      "  🔄 Trial 79, Fold 4/5\n",
      "    Fold 4 best total loss: 0.010820\n",
      "  🔄 Trial 79, Fold 5/5\n"
     ]
    },
    {
     "name": "stderr",
     "output_type": "stream",
     "text": [
      "[I 2025-10-10 06:01:12,280] Trial 79 finished with value: 0.07296772074187174 and parameters: {'lstm_hidden_size': 96, 'lstm_n_layers': 3, 'lstm_dropout': 0.1, 'decoder_hidden_size': 32, 'decoder_n_layers': 3, 'decoder_dropout': 0.1, 'current_hidden_size': 96, 'current_n_layers': 3, 'current_dropout': 0.1}. Best is trial 78 with value: 0.01047220446052961.\n"
     ]
    },
    {
     "name": "stdout",
     "output_type": "stream",
     "text": [
      "    Fold 5 best total loss: 0.007996\n",
      "  📊 Trial 79 - Average CV Loss: 0.072968 (±0.122120)\n",
      "  🔄 Trial 80, Fold 1/5\n",
      "    Fold 1 best total loss: 0.014292\n",
      "  🔄 Trial 80, Fold 2/5\n",
      "    Fold 2 best total loss: 0.014393\n",
      "  🔄 Trial 80, Fold 3/5\n",
      "    Fold 3 best total loss: 0.223632\n",
      "  🔄 Trial 80, Fold 4/5\n",
      "    Fold 4 best total loss: 0.014989\n",
      "  🔄 Trial 80, Fold 5/5\n"
     ]
    },
    {
     "name": "stderr",
     "output_type": "stream",
     "text": [
      "[I 2025-10-10 06:05:45,059] Trial 80 finished with value: 0.1225443810923025 and parameters: {'lstm_hidden_size': 96, 'lstm_n_layers': 4, 'lstm_dropout': 0.2, 'decoder_hidden_size': 32, 'decoder_n_layers': 2, 'decoder_dropout': 0.1, 'current_hidden_size': 16, 'current_n_layers': 3, 'current_dropout': 0.1}. Best is trial 78 with value: 0.01047220446052961.\n"
     ]
    },
    {
     "name": "stdout",
     "output_type": "stream",
     "text": [
      "    Fold 5 best total loss: 0.345416\n",
      "  📊 Trial 80 - Average CV Loss: 0.122544 (±0.137749)\n",
      "  🔄 Trial 81, Fold 1/5\n",
      "    Fold 1 best total loss: 0.007063\n",
      "  🔄 Trial 81, Fold 2/5\n",
      "    Fold 2 best total loss: 0.318017\n",
      "  🔄 Trial 81, Fold 3/5\n",
      "    Fold 3 best total loss: 0.017889\n",
      "  🔄 Trial 81, Fold 4/5\n",
      "    Fold 4 best total loss: 0.203776\n",
      "  🔄 Trial 81, Fold 5/5\n"
     ]
    },
    {
     "name": "stderr",
     "output_type": "stream",
     "text": [
      "[I 2025-10-10 06:10:12,526] Trial 81 finished with value: 0.11137107646791264 and parameters: {'lstm_hidden_size': 96, 'lstm_n_layers': 4, 'lstm_dropout': 0.2, 'decoder_hidden_size': 32, 'decoder_n_layers': 3, 'decoder_dropout': 0.1, 'current_hidden_size': 96, 'current_n_layers': 3, 'current_dropout': 0.1}. Best is trial 78 with value: 0.01047220446052961.\n"
     ]
    },
    {
     "name": "stdout",
     "output_type": "stream",
     "text": [
      "    Fold 5 best total loss: 0.010110\n",
      "  📊 Trial 81 - Average CV Loss: 0.111371 (±0.127369)\n",
      "  🔄 Trial 82, Fold 1/5\n",
      "    Fold 1 best total loss: 0.007168\n",
      "  🔄 Trial 82, Fold 2/5\n",
      "    Fold 2 best total loss: 0.012520\n",
      "  🔄 Trial 82, Fold 3/5\n",
      "    Fold 3 best total loss: 0.015164\n",
      "  🔄 Trial 82, Fold 4/5\n",
      "    Fold 4 best total loss: 0.010974\n",
      "  🔄 Trial 82, Fold 5/5\n"
     ]
    },
    {
     "name": "stderr",
     "output_type": "stream",
     "text": [
      "[I 2025-10-10 06:14:45,951] Trial 82 finished with value: 0.011198591743595897 and parameters: {'lstm_hidden_size': 96, 'lstm_n_layers': 4, 'lstm_dropout': 0.2, 'decoder_hidden_size': 32, 'decoder_n_layers': 3, 'decoder_dropout': 0.2, 'current_hidden_size': 96, 'current_n_layers': 3, 'current_dropout': 0.1}. Best is trial 78 with value: 0.01047220446052961.\n"
     ]
    },
    {
     "name": "stdout",
     "output_type": "stream",
     "text": [
      "    Fold 5 best total loss: 0.010167\n",
      "  📊 Trial 82 - Average CV Loss: 0.011199 (±0.002639)\n",
      "  🔄 Trial 83, Fold 1/5\n",
      "    Fold 1 best total loss: 0.008458\n",
      "  🔄 Trial 83, Fold 2/5\n",
      "    Fold 2 best total loss: 0.013383\n",
      "  🔄 Trial 83, Fold 3/5\n",
      "    Fold 3 best total loss: 0.013652\n",
      "  🔄 Trial 83, Fold 4/5\n",
      "    Fold 4 best total loss: 0.010532\n",
      "  🔄 Trial 83, Fold 5/5\n"
     ]
    },
    {
     "name": "stderr",
     "output_type": "stream",
     "text": [
      "[I 2025-10-10 06:19:12,576] Trial 83 finished with value: 0.07844388668891042 and parameters: {'lstm_hidden_size': 96, 'lstm_n_layers': 4, 'lstm_dropout': 0.2, 'decoder_hidden_size': 32, 'decoder_n_layers': 3, 'decoder_dropout': 0.2, 'current_hidden_size': 96, 'current_n_layers': 3, 'current_dropout': 0.1}. Best is trial 78 with value: 0.01047220446052961.\n"
     ]
    },
    {
     "name": "stdout",
     "output_type": "stream",
     "text": [
      "    Fold 5 best total loss: 0.346195\n",
      "  📊 Trial 83 - Average CV Loss: 0.078444 (±0.133889)\n",
      "  🔄 Trial 84, Fold 1/5\n",
      "    Fold 1 best total loss: 0.317096\n",
      "  🔄 Trial 84, Fold 2/5\n",
      "    Fold 2 best total loss: 0.014002\n",
      "  🔄 Trial 84, Fold 3/5\n",
      "    Fold 3 best total loss: 0.224799\n",
      "  🔄 Trial 84, Fold 4/5\n",
      "    Fold 4 best total loss: 0.021265\n",
      "  🔄 Trial 84, Fold 5/5\n"
     ]
    },
    {
     "name": "stderr",
     "output_type": "stream",
     "text": [
      "[I 2025-10-10 06:23:43,081] Trial 84 finished with value: 0.11729741001036018 and parameters: {'lstm_hidden_size': 96, 'lstm_n_layers': 4, 'lstm_dropout': 0.2, 'decoder_hidden_size': 32, 'decoder_n_layers': 3, 'decoder_dropout': 0.1, 'current_hidden_size': 96, 'current_n_layers': 3, 'current_dropout': 0.1}. Best is trial 78 with value: 0.01047220446052961.\n"
     ]
    },
    {
     "name": "stdout",
     "output_type": "stream",
     "text": [
      "    Fold 5 best total loss: 0.009325\n",
      "  📊 Trial 84 - Average CV Loss: 0.117297 (±0.128862)\n",
      "  🔄 Trial 85, Fold 1/5\n",
      "    Fold 1 best total loss: 0.007131\n",
      "  🔄 Trial 85, Fold 2/5\n",
      "    Fold 2 best total loss: 0.320695\n",
      "  🔄 Trial 85, Fold 3/5\n",
      "    Fold 3 best total loss: 0.019077\n",
      "  🔄 Trial 85, Fold 4/5\n",
      "    Fold 4 best total loss: 0.012451\n",
      "  🔄 Trial 85, Fold 5/5\n"
     ]
    },
    {
     "name": "stderr",
     "output_type": "stream",
     "text": [
      "[I 2025-10-10 06:28:10,023] Trial 85 finished with value: 0.07389358913060277 and parameters: {'lstm_hidden_size': 96, 'lstm_n_layers': 4, 'lstm_dropout': 0.30000000000000004, 'decoder_hidden_size': 32, 'decoder_n_layers': 3, 'decoder_dropout': 0.2, 'current_hidden_size': 96, 'current_n_layers': 3, 'current_dropout': 0.1}. Best is trial 78 with value: 0.01047220446052961.\n"
     ]
    },
    {
     "name": "stdout",
     "output_type": "stream",
     "text": [
      "    Fold 5 best total loss: 0.010115\n",
      "  📊 Trial 85 - Average CV Loss: 0.073894 (±0.123463)\n",
      "  🔄 Trial 86, Fold 1/5\n",
      "    Fold 1 best total loss: 0.007072\n",
      "  🔄 Trial 86, Fold 2/5\n",
      "    Fold 2 best total loss: 0.012203\n",
      "  🔄 Trial 86, Fold 3/5\n",
      "    Fold 3 best total loss: 0.225867\n",
      "  🔄 Trial 86, Fold 4/5\n",
      "    Fold 4 best total loss: 0.013135\n",
      "  🔄 Trial 86, Fold 5/5\n"
     ]
    },
    {
     "name": "stderr",
     "output_type": "stream",
     "text": [
      "[I 2025-10-10 06:32:40,147] Trial 86 finished with value: 0.053199829341610896 and parameters: {'lstm_hidden_size': 96, 'lstm_n_layers': 4, 'lstm_dropout': 0.2, 'decoder_hidden_size': 32, 'decoder_n_layers': 3, 'decoder_dropout': 0.2, 'current_hidden_size': 96, 'current_n_layers': 3, 'current_dropout': 0.1}. Best is trial 78 with value: 0.01047220446052961.\n"
     ]
    },
    {
     "name": "stdout",
     "output_type": "stream",
     "text": [
      "    Fold 5 best total loss: 0.007722\n",
      "  📊 Trial 86 - Average CV Loss: 0.053200 (±0.086367)\n",
      "  🔄 Trial 87, Fold 1/5\n",
      "    Fold 1 best total loss: 0.008806\n",
      "  🔄 Trial 87, Fold 2/5\n",
      "    Fold 2 best total loss: 0.022388\n",
      "  🔄 Trial 87, Fold 3/5\n",
      "    Fold 3 best total loss: 0.018612\n",
      "  🔄 Trial 87, Fold 4/5\n",
      "    Fold 4 best total loss: 0.202069\n",
      "  🔄 Trial 87, Fold 5/5\n"
     ]
    },
    {
     "name": "stderr",
     "output_type": "stream",
     "text": [
      "[I 2025-10-10 06:37:03,373] Trial 87 finished with value: 0.05918559983838349 and parameters: {'lstm_hidden_size': 16, 'lstm_n_layers': 4, 'lstm_dropout': 0.2, 'decoder_hidden_size': 32, 'decoder_n_layers': 3, 'decoder_dropout': 0.1, 'current_hidden_size': 96, 'current_n_layers': 3, 'current_dropout': 0.1}. Best is trial 78 with value: 0.01047220446052961.\n"
     ]
    },
    {
     "name": "stdout",
     "output_type": "stream",
     "text": [
      "    Fold 5 best total loss: 0.044054\n",
      "  📊 Trial 87 - Average CV Loss: 0.059186 (±0.072364)\n",
      "  🔄 Trial 88, Fold 1/5\n",
      "    Fold 1 best total loss: 0.317876\n",
      "  🔄 Trial 88, Fold 2/5\n",
      "    Fold 2 best total loss: 0.015827\n",
      "  🔄 Trial 88, Fold 3/5\n",
      "    Fold 3 best total loss: 0.019392\n",
      "  🔄 Trial 88, Fold 4/5\n",
      "    Fold 4 best total loss: 0.015742\n",
      "  🔄 Trial 88, Fold 5/5\n"
     ]
    },
    {
     "name": "stderr",
     "output_type": "stream",
     "text": [
      "[I 2025-10-10 06:40:26,818] Trial 88 finished with value: 0.07642195001244545 and parameters: {'lstm_hidden_size': 48, 'lstm_n_layers': 3, 'lstm_dropout': 0.30000000000000004, 'decoder_hidden_size': 32, 'decoder_n_layers': 3, 'decoder_dropout': 0.2, 'current_hidden_size': 96, 'current_n_layers': 3, 'current_dropout': 0.2}. Best is trial 78 with value: 0.01047220446052961.\n"
     ]
    },
    {
     "name": "stdout",
     "output_type": "stream",
     "text": [
      "    Fold 5 best total loss: 0.013273\n",
      "  📊 Trial 88 - Average CV Loss: 0.076422 (±0.120743)\n",
      "  🔄 Trial 89, Fold 1/5\n",
      "    Fold 1 best total loss: 0.007130\n",
      "  🔄 Trial 89, Fold 2/5\n",
      "    Fold 2 best total loss: 0.017477\n",
      "  🔄 Trial 89, Fold 3/5\n",
      "    Fold 3 best total loss: 0.015955\n",
      "  🔄 Trial 89, Fold 4/5\n",
      "    Fold 4 best total loss: 0.011688\n",
      "  🔄 Trial 89, Fold 5/5\n"
     ]
    },
    {
     "name": "stderr",
     "output_type": "stream",
     "text": [
      "[I 2025-10-10 06:44:53,959] Trial 89 finished with value: 0.01227777972817421 and parameters: {'lstm_hidden_size': 96, 'lstm_n_layers': 4, 'lstm_dropout': 0.2, 'decoder_hidden_size': 64, 'decoder_n_layers': 4, 'decoder_dropout': 0.2, 'current_hidden_size': 96, 'current_n_layers': 3, 'current_dropout': 0.1}. Best is trial 78 with value: 0.01047220446052961.\n"
     ]
    },
    {
     "name": "stdout",
     "output_type": "stream",
     "text": [
      "    Fold 5 best total loss: 0.009139\n",
      "  📊 Trial 89 - Average CV Loss: 0.012278 (±0.003931)\n",
      "  🔄 Trial 90, Fold 1/5\n",
      "    Fold 1 best total loss: 0.008291\n",
      "  🔄 Trial 90, Fold 2/5\n",
      "    Fold 2 best total loss: 0.013661\n",
      "  🔄 Trial 90, Fold 3/5\n",
      "    Fold 3 best total loss: 0.019955\n",
      "  🔄 Trial 90, Fold 4/5\n",
      "    Fold 4 best total loss: 0.011991\n",
      "  🔄 Trial 90, Fold 5/5\n"
     ]
    },
    {
     "name": "stderr",
     "output_type": "stream",
     "text": [
      "[I 2025-10-10 06:49:18,355] Trial 90 finished with value: 0.013307246717158706 and parameters: {'lstm_hidden_size': 64, 'lstm_n_layers': 4, 'lstm_dropout': 0.2, 'decoder_hidden_size': 64, 'decoder_n_layers': 4, 'decoder_dropout': 0.2, 'current_hidden_size': 48, 'current_n_layers': 3, 'current_dropout': 0.1}. Best is trial 78 with value: 0.01047220446052961.\n"
     ]
    },
    {
     "name": "stdout",
     "output_type": "stream",
     "text": [
      "    Fold 5 best total loss: 0.012639\n",
      "  📊 Trial 90 - Average CV Loss: 0.013307 (±0.003786)\n",
      "  🔄 Trial 91, Fold 1/5\n",
      "    Fold 1 best total loss: 0.008303\n",
      "  🔄 Trial 91, Fold 2/5\n",
      "    Fold 2 best total loss: 0.012369\n",
      "  🔄 Trial 91, Fold 3/5\n",
      "    Fold 3 best total loss: 0.015867\n",
      "  🔄 Trial 91, Fold 4/5\n",
      "    Fold 4 best total loss: 0.014088\n",
      "  🔄 Trial 91, Fold 5/5\n"
     ]
    },
    {
     "name": "stderr",
     "output_type": "stream",
     "text": [
      "[I 2025-10-10 06:53:49,795] Trial 91 finished with value: 0.07901732748141513 and parameters: {'lstm_hidden_size': 64, 'lstm_n_layers': 4, 'lstm_dropout': 0.2, 'decoder_hidden_size': 64, 'decoder_n_layers': 5, 'decoder_dropout': 0.2, 'current_hidden_size': 48, 'current_n_layers': 3, 'current_dropout': 0.1}. Best is trial 78 with value: 0.01047220446052961.\n"
     ]
    },
    {
     "name": "stdout",
     "output_type": "stream",
     "text": [
      "    Fold 5 best total loss: 0.344460\n",
      "  📊 Trial 91 - Average CV Loss: 0.079017 (±0.132745)\n",
      "  🔄 Trial 92, Fold 1/5\n",
      "    Fold 1 best total loss: 0.007366\n",
      "  🔄 Trial 92, Fold 2/5\n",
      "    Fold 2 best total loss: 0.013302\n",
      "  🔄 Trial 92, Fold 3/5\n",
      "    Fold 3 best total loss: 0.016312\n",
      "  🔄 Trial 92, Fold 4/5\n",
      "    Fold 4 best total loss: 0.203023\n",
      "  🔄 Trial 92, Fold 5/5\n"
     ]
    },
    {
     "name": "stderr",
     "output_type": "stream",
     "text": [
      "[I 2025-10-10 06:58:15,278] Trial 92 finished with value: 0.11690378971397877 and parameters: {'lstm_hidden_size': 64, 'lstm_n_layers': 4, 'lstm_dropout': 0.2, 'decoder_hidden_size': 64, 'decoder_n_layers': 4, 'decoder_dropout': 0.2, 'current_hidden_size': 64, 'current_n_layers': 3, 'current_dropout': 0.1}. Best is trial 78 with value: 0.01047220446052961.\n"
     ]
    },
    {
     "name": "stdout",
     "output_type": "stream",
     "text": [
      "    Fold 5 best total loss: 0.344516\n",
      "  📊 Trial 92 - Average CV Loss: 0.116904 (±0.135702)\n",
      "  🔄 Trial 93, Fold 1/5\n",
      "    Fold 1 best total loss: 0.007782\n",
      "  🔄 Trial 93, Fold 2/5\n",
      "    Fold 2 best total loss: 0.014637\n",
      "  🔄 Trial 93, Fold 3/5\n",
      "    Fold 3 best total loss: 0.025106\n",
      "  🔄 Trial 93, Fold 4/5\n",
      "    Fold 4 best total loss: 0.014110\n",
      "  🔄 Trial 93, Fold 5/5\n"
     ]
    },
    {
     "name": "stderr",
     "output_type": "stream",
     "text": [
      "[I 2025-10-10 07:02:40,929] Trial 93 finished with value: 0.014970642235130071 and parameters: {'lstm_hidden_size': 64, 'lstm_n_layers': 4, 'lstm_dropout': 0.2, 'decoder_hidden_size': 64, 'decoder_n_layers': 4, 'decoder_dropout': 0.2, 'current_hidden_size': 48, 'current_n_layers': 3, 'current_dropout': 0.1}. Best is trial 78 with value: 0.01047220446052961.\n"
     ]
    },
    {
     "name": "stdout",
     "output_type": "stream",
     "text": [
      "    Fold 5 best total loss: 0.013218\n",
      "  📊 Trial 93 - Average CV Loss: 0.014971 (±0.005627)\n",
      "  🔄 Trial 94, Fold 1/5\n",
      "    Fold 1 best total loss: 0.316903\n",
      "  🔄 Trial 94, Fold 2/5\n",
      "    Fold 2 best total loss: 0.018333\n",
      "  🔄 Trial 94, Fold 3/5\n",
      "    Fold 3 best total loss: 0.015346\n",
      "  🔄 Trial 94, Fold 4/5\n",
      "    Fold 4 best total loss: 0.012104\n",
      "  🔄 Trial 94, Fold 5/5\n"
     ]
    },
    {
     "name": "stderr",
     "output_type": "stream",
     "text": [
      "[I 2025-10-10 07:07:02,012] Trial 94 finished with value: 0.07487166506471113 and parameters: {'lstm_hidden_size': 64, 'lstm_n_layers': 4, 'lstm_dropout': 0.2, 'decoder_hidden_size': 64, 'decoder_n_layers': 5, 'decoder_dropout': 0.2, 'current_hidden_size': 48, 'current_n_layers': 3, 'current_dropout': 0.1}. Best is trial 78 with value: 0.01047220446052961.\n"
     ]
    },
    {
     "name": "stdout",
     "output_type": "stream",
     "text": [
      "    Fold 5 best total loss: 0.011672\n",
      "  📊 Trial 94 - Average CV Loss: 0.074872 (±0.121039)\n",
      "  🔄 Trial 95, Fold 1/5\n",
      "    Fold 1 best total loss: 0.009777\n",
      "  🔄 Trial 95, Fold 2/5\n",
      "    Fold 2 best total loss: 0.011303\n",
      "  🔄 Trial 95, Fold 3/5\n",
      "    Fold 3 best total loss: 0.018728\n",
      "  🔄 Trial 95, Fold 4/5\n",
      "    Fold 4 best total loss: 0.015736\n",
      "  🔄 Trial 95, Fold 5/5\n"
     ]
    },
    {
     "name": "stderr",
     "output_type": "stream",
     "text": [
      "[I 2025-10-10 07:11:33,668] Trial 95 finished with value: 0.08031374369747937 and parameters: {'lstm_hidden_size': 32, 'lstm_n_layers': 4, 'lstm_dropout': 0.2, 'decoder_hidden_size': 64, 'decoder_n_layers': 4, 'decoder_dropout': 0.1, 'current_hidden_size': 48, 'current_n_layers': 3, 'current_dropout': 0.1}. Best is trial 78 with value: 0.01047220446052961.\n"
     ]
    },
    {
     "name": "stdout",
     "output_type": "stream",
     "text": [
      "    Fold 5 best total loss: 0.346024\n",
      "  📊 Trial 95 - Average CV Loss: 0.080314 (±0.132893)\n",
      "  🔄 Trial 96, Fold 1/5\n",
      "    Fold 1 best total loss: 0.007738\n",
      "  🔄 Trial 96, Fold 2/5\n",
      "    Fold 2 best total loss: 0.318304\n",
      "  🔄 Trial 96, Fold 3/5\n",
      "    Fold 3 best total loss: 0.014809\n",
      "  🔄 Trial 96, Fold 4/5\n",
      "    Fold 4 best total loss: 0.011728\n",
      "  🔄 Trial 96, Fold 5/5\n"
     ]
    },
    {
     "name": "stderr",
     "output_type": "stream",
     "text": [
      "[I 2025-10-10 07:16:02,843] Trial 96 finished with value: 0.07269281900953502 and parameters: {'lstm_hidden_size': 96, 'lstm_n_layers': 4, 'lstm_dropout': 0.30000000000000004, 'decoder_hidden_size': 64, 'decoder_n_layers': 4, 'decoder_dropout': 0.2, 'current_hidden_size': 96, 'current_n_layers': 3, 'current_dropout': 0.1}. Best is trial 78 with value: 0.01047220446052961.\n"
     ]
    },
    {
     "name": "stdout",
     "output_type": "stream",
     "text": [
      "    Fold 5 best total loss: 0.010885\n",
      "  📊 Trial 96 - Average CV Loss: 0.072693 (±0.122826)\n",
      "  🔄 Trial 97, Fold 1/5\n",
      "    Fold 1 best total loss: 0.009809\n",
      "  🔄 Trial 97, Fold 2/5\n",
      "    Fold 2 best total loss: 0.318293\n",
      "  🔄 Trial 97, Fold 3/5\n",
      "    Fold 3 best total loss: 0.226188\n",
      "  🔄 Trial 97, Fold 4/5\n",
      "    Fold 4 best total loss: 0.021662\n",
      "  🔄 Trial 97, Fold 5/5\n"
     ]
    },
    {
     "name": "stderr",
     "output_type": "stream",
     "text": [
      "[I 2025-10-10 07:20:37,323] Trial 97 finished with value: 0.11784809022210538 and parameters: {'lstm_hidden_size': 96, 'lstm_n_layers': 4, 'lstm_dropout': 0.2, 'decoder_hidden_size': 32, 'decoder_n_layers': 6, 'decoder_dropout': 0.2, 'current_hidden_size': 32, 'current_n_layers': 4, 'current_dropout': 0.1}. Best is trial 78 with value: 0.01047220446052961.\n"
     ]
    },
    {
     "name": "stdout",
     "output_type": "stream",
     "text": [
      "    Fold 5 best total loss: 0.013288\n",
      "  📊 Trial 97 - Average CV Loss: 0.117848 (±0.129440)\n",
      "  🔄 Trial 98, Fold 1/5\n",
      "    Fold 1 best total loss: 0.177718\n",
      "  🔄 Trial 98, Fold 2/5\n",
      "    Fold 2 best total loss: 0.012387\n",
      "  🔄 Trial 98, Fold 3/5\n",
      "    Fold 3 best total loss: 0.013366\n",
      "  🔄 Trial 98, Fold 4/5\n",
      "    Fold 4 best total loss: 0.013142\n",
      "  🔄 Trial 98, Fold 5/5\n"
     ]
    },
    {
     "name": "stderr",
     "output_type": "stream",
     "text": [
      "[I 2025-10-10 07:25:02,191] Trial 98 finished with value: 0.045036126428749414 and parameters: {'lstm_hidden_size': 96, 'lstm_n_layers': 4, 'lstm_dropout': 0.1, 'decoder_hidden_size': 64, 'decoder_n_layers': 3, 'decoder_dropout': 0.1, 'current_hidden_size': 96, 'current_n_layers': 3, 'current_dropout': 0.1}. Best is trial 78 with value: 0.01047220446052961.\n"
     ]
    },
    {
     "name": "stdout",
     "output_type": "stream",
     "text": [
      "    Fold 5 best total loss: 0.008566\n",
      "  📊 Trial 98 - Average CV Loss: 0.045036 (±0.066364)\n",
      "  🔄 Trial 99, Fold 1/5\n",
      "    Fold 1 best total loss: 0.008258\n",
      "  🔄 Trial 99, Fold 2/5\n",
      "    Fold 2 best total loss: 0.321320\n",
      "  🔄 Trial 99, Fold 3/5\n",
      "    Fold 3 best total loss: 0.015255\n",
      "  🔄 Trial 99, Fold 4/5\n",
      "    Fold 4 best total loss: 0.008749\n",
      "  🔄 Trial 99, Fold 5/5\n"
     ]
    },
    {
     "name": "stderr",
     "output_type": "stream",
     "text": [
      "[I 2025-10-10 07:29:36,774] Trial 99 finished with value: 0.07288989116204903 and parameters: {'lstm_hidden_size': 96, 'lstm_n_layers': 4, 'lstm_dropout': 0.30000000000000004, 'decoder_hidden_size': 32, 'decoder_n_layers': 5, 'decoder_dropout': 0.2, 'current_hidden_size': 96, 'current_n_layers': 3, 'current_dropout': 0.1}. Best is trial 78 with value: 0.01047220446052961.\n"
     ]
    },
    {
     "name": "stdout",
     "output_type": "stream",
     "text": [
      "    Fold 5 best total loss: 0.010867\n",
      "  📊 Trial 99 - Average CV Loss: 0.072890 (±0.124240)\n",
      "\n",
      "================================================================================\n",
      "📊 OPTIMIZATION RESULTS\n",
      "================================================================================\n",
      "✅ 완료된 trials: 100\n",
      "🏆 최고 성능 trial: 78\n",
      "💯 최고 성능 값: 0.010472\n",
      "\n",
      "🎯 최적 하이퍼파라미터:\n",
      "   lstm_hidden_size: 96\n",
      "   lstm_n_layers: 4\n",
      "   lstm_dropout: 0.2\n",
      "   decoder_hidden_size: 32\n",
      "   decoder_n_layers: 3\n",
      "   decoder_dropout: 0.1\n",
      "   current_hidden_size: 96\n",
      "   current_n_layers: 3\n",
      "   current_dropout: 0.1\n",
      "\n",
      "📈 상위 5개 Trials:\n",
      "   1. Trial 78: 0.010472\n",
      "   2. Trial 75: 0.010700\n",
      "   3. Trial 65: 0.010988\n",
      "   4. Trial 82: 0.011199\n",
      "   5. Trial 71: 0.011749\n",
      "💾 모든 trials 결과가 저장되었습니다: bmed_optuna_trials_20251010_072936.csv\n",
      "💾 SQLite 데이터베이스에 실시간 저장됨: sqlite:///bmed_hpopt_study.db\n",
      "   - 중단 후 재시작 시 자동으로 기존 결과를 불러옵니다\n",
      "   - 다른 프로세스에서 진행상황 모니터링 가능합니다\n",
      "================================================================================\n",
      "🎉 하이퍼파라미터 최적화 완료!\n"
     ]
    }
   ],
   "source": [
    "# 메인 최적화 함수\n",
    "def run_optuna_optimization():\n",
    "    \"\"\"Optuna를 사용한 하이퍼파라미터 최적화 실행\"\"\"\n",
    "    \n",
    "    print(\"🚀 BMED TF Model Hyperparameter Optimization with Optuna\")\n",
    "    print(\"=\"*80)\n",
    "    \n",
    "    # 전역 데이터 로드\n",
    "    global dataset, range_mm\n",
    "    \n",
    "    print(\"📋 데이터 로드 중...\")\n",
    "    df, ndf, range_mm, exp_num_list = df_treat('BMED_DATA_AG.csv')\n",
    "    seq = seq_data(ndf, exp_num_list)\n",
    "    pad, seq_len, max_len = pad_seq(seq)\n",
    "    dataset = gen_dataset(pad, seq_len)\n",
    "    \n",
    "    print(f\"   - 총 실험 개수: {len(exp_num_list)}\")\n",
    "    print(f\"   - 총 데이터 포인트: {len(dataset)}\")\n",
    "    print(f\"   - 최대 시퀀스 길이: {max_len}\")\n",
    "    \n",
    "    # SQLite 데이터베이스를 사용한 Optuna study 생성\n",
    "    #timestamp = datetime.now().strftime(\"%Y%m%d_%H%M%S\")\n",
    "    timestamp = '20250915_234452'\n",
    "    db_url = f\"sqlite:///bmed_hpopt_study.db\"\n",
    "    \n",
    "    study = optuna.create_study(\n",
    "        direction='minimize',\n",
    "        study_name='bmed_tf_optimization',\n",
    "        sampler=optuna.samplers.TPESampler(seed=42),\n",
    "        storage=db_url,\n",
    "        load_if_exists=True\n",
    "    )\n",
    "    \n",
    "    # 최적화 실행\n",
    "    n_trials = 100\n",
    "    print(f\"🔍 최적화 시작 (총 {n_trials} trials)\")\n",
    "    \n",
    "    try:\n",
    "        study.optimize(objective, n_trials=n_trials, timeout=None)\n",
    "    except KeyboardInterrupt:\n",
    "        print(\"\\n⚠️ 최적화가 사용자에 의해 중단되었습니다.\")\n",
    "    \n",
    "    # 결과 분석\n",
    "    print(\"\\n\" + \"=\"*80)\n",
    "    print(\"📊 OPTIMIZATION RESULTS\")\n",
    "    print(\"=\"*80)\n",
    "    \n",
    "    print(f\"✅ 완료된 trials: {len(study.trials)}\")\n",
    "    print(f\"🏆 최고 성능 trial: {study.best_trial.number}\")\n",
    "    print(f\"💯 최고 성능 값: {study.best_value:.6f}\")\n",
    "    \n",
    "    print(f\"\\n🎯 최적 하이퍼파라미터:\")\n",
    "    for key, value in study.best_params.items():\n",
    "        print(f\"   {key}: {value}\")\n",
    "    \n",
    "    # 상위 5개 trial 정보\n",
    "    print(f\"\\n📈 상위 5개 Trials:\")\n",
    "    trials_df = study.trials_dataframe().sort_values('value').head(5)\n",
    "    for idx, (_, trial) in enumerate(trials_df.iterrows()):\n",
    "        print(f\"   {idx+1}. Trial {int(trial['number'])}: {trial['value']:.6f}\")\n",
    "    \n",
    "    # 결과 저장\n",
    "    result_timestamp = datetime.now().strftime(\"%Y%m%d_%H%M%S\")\n",
    "    \n",
    "    # Trials 결과 CSV로 저장\n",
    "    trials_file = f\"bmed_optuna_trials_{result_timestamp}.csv\"\n",
    "    trials_df = study.trials_dataframe()\n",
    "    trials_df.to_csv(trials_file, index=False)\n",
    "    print(f\"💾 모든 trials 결과가 저장되었습니다: {trials_file}\")\n",
    "    \n",
    "    # SQLite 데이터베이스 정보\n",
    "    print(f\"💾 SQLite 데이터베이스에 실시간 저장됨: {db_url}\")\n",
    "    print(f\"   - 중단 후 재시작 시 자동으로 기존 결과를 불러옵니다\")\n",
    "    print(f\"   - 다른 프로세스에서 진행상황 모니터링 가능합니다\")\n",
    "    \n",
    "    print(\"=\"*80)\n",
    "    print(\"🎉 하이퍼파라미터 최적화 완료!\")\n",
    "    \n",
    "    return study\n",
    "\n",
    "if __name__ == \"__main__\":\n",
    "    study = run_optuna_optimization()"
   ]
  }
 ],
 "metadata": {
  "kernelspec": {
   "display_name": "torchenv",
   "language": "python",
   "name": "python3"
  },
  "language_info": {
   "codemirror_mode": {
    "name": "ipython",
    "version": 3
   },
   "file_extension": ".py",
   "mimetype": "text/x-python",
   "name": "python",
   "nbconvert_exporter": "python",
   "pygments_lexer": "ipython3",
   "version": "3.11.13"
  }
 },
 "nbformat": 4,
 "nbformat_minor": 5
}
