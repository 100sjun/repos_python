{
 "cells": [
  {
   "cell_type": "code",
   "execution_count": 4,
   "metadata": {},
   "outputs": [],
   "source": [
    "# Import Modules\n",
    "import numpy as np\n",
    "import pandas as pd\n",
    "import torch\n",
    "import torch.nn as nn\n",
    "import torch.optim as optim\n",
    "from scipy.optimize import minimize\n",
    "import matplotlib.pyplot as plt"
   ]
  },
  {
   "cell_type": "code",
   "execution_count": 5,
   "metadata": {},
   "outputs": [],
   "source": [
    "# Load the Data\n",
    "raw_Data= pd.read_excel('BMED_data.xlsx')\n",
    "\n",
    "# Data Grouping\n",
    "group_checker = list(raw_Data[['T','V','E','Ci']].iloc[0])\n",
    "group_index = []\n",
    "for i in range(len(raw_Data)):\n",
    "    if not group_checker == list(raw_Data[['T','V','E','Ci']].iloc[i]):\n",
    "        group_index.append(i)\n",
    "        group_checker = list(raw_Data[['T','V','E','Ci']].iloc[i])\n",
    "\n",
    "# MB data\n",
    "MB_Data = raw_Data[['T','V','E','Ci','t','CF','CA']]\n",
    "\n",
    "# Set the training data\n",
    "X = MB_Data[['T','V','E','Ci','t']].values\n",
    "Y = MB_Data[['CF']].values\n",
    "\n",
    "# transform the pytorch tensor\n",
    "Xt = torch.FloatTensor(X)\n",
    "Yt = torch.FloatTensor(Y)"
   ]
  },
  {
   "cell_type": "code",
   "execution_count": 2,
   "metadata": {},
   "outputs": [],
   "source": [
    "class CustomModel_CF(nn.Module):\n",
    "    def __init__(self):\n",
    "        super().__init__()\n",
    "        self.hidden = nn.Sequential(\n",
    "            nn.Linear(5,40),\n",
    "            nn.ReLU(),\n",
    "            nn.Linear(40,20),\n",
    "            nn.ReLU(),\n",
    "            nn.Linear(20,10),\n",
    "            nn.ReLU(),\n",
    "            nn.Linear(10,5),\n",
    "        )\n",
    "\n",
    "    def forward(self, x):\n",
    "        t = x[:,4].unsqueeze(1)\n",
    "        C0 = x[:,3].unsqueeze(1)\n",
    "        a0, a1, a2, a3, a4 = self.hidden(x).chunk(5, dim=1)\n",
    "\n",
    "        k = 1e-7*(a0 + a1*t + a2*(t**2) + a3*(t**3) + a4*(t**4))\n",
    "\n",
    "\n",
    "        return C0*torch.exp(-k*t)"
   ]
  },
  {
   "cell_type": "code",
   "execution_count": 7,
   "metadata": {},
   "outputs": [
    {
     "data": {
      "text/plain": [
       "<All keys matched successfully>"
      ]
     },
     "execution_count": 7,
     "metadata": {},
     "output_type": "execute_result"
    }
   ],
   "source": [
    "model_CF = CustomModel_CF()\n",
    "model_CF.load_state_dict(torch.load('model_CF.pth'))"
   ]
  },
  {
   "cell_type": "code",
   "execution_count": 10,
   "metadata": {},
   "outputs": [],
   "source": [
    "ypred = model_CF(Xt)\n",
    "Y = MB_Data[['CF']].values\n",
    "ypred = ypred.detach().numpy()\n"
   ]
  },
  {
   "cell_type": "code",
   "execution_count": 11,
   "metadata": {},
   "outputs": [
    {
     "data": {
      "text/plain": [
       "<matplotlib.collections.PathCollection at 0x1407f97d490>"
      ]
     },
     "execution_count": 11,
     "metadata": {},
     "output_type": "execute_result"
    },
    {
     "data": {
      "image/png": "[encoded data removed]",
      "text/plain": [
       "<Figure size 640x480 with 1 Axes>"
      ]
     },
     "metadata": {},
     "output_type": "display_data"
    }
   ],
   "source": [
    "plt.scatter(Y,ypred)"
   ]
  }
 ],
 "metadata": {
  "kernelspec": {
   "display_name": "Python 3",
   "language": "python",
   "name": "python3"
  },
  "language_info": {
   "codemirror_mode": {
    "name": "ipython",
    "version": 3
   },
   "file_extension": ".py",
   "mimetype": "text/x-python",
   "name": "python",
   "nbconvert_exporter": "python",
   "pygments_lexer": "ipython3",
   "version": "3.12.3"
  }
 },
 "nbformat": 4,
 "nbformat_minor": 2
}
