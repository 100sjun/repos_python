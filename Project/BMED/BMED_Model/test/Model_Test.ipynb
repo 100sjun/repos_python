{
 "cells": [
  {
   "cell_type": "code",
   "execution_count": 29,
   "metadata": {},
   "outputs": [],
   "source": [
    "import torch\n",
    "import torch.serialization\n",
    "import pickle\n",
    "import pandas as pd"
   ]
  },
  {
   "cell_type": "code",
   "execution_count": 17,
   "metadata": {},
   "outputs": [
    {
     "name": "stdout",
     "output_type": "stream",
     "text": [
      "CUDA 사용 가능: NVIDIA GeForce RTX 4080 SUPER\n"
     ]
    }
   ],
   "source": [
    "# CUDA 가용성 확인\n",
    "cuda_available = torch.cuda.is_available()\n",
    "if cuda_available:\n",
    "    print(f\"CUDA 사용 가능: {torch.cuda.get_device_name(0)}\")\n",
    "    device = torch.device(\"cuda\")\n",
    "else:\n",
    "    print(\"CUDA를 사용할 수 없어 CPU를 사용합니다.\")\n",
    "    device = torch.device(\"cpu\")"
   ]
  },
  {
   "cell_type": "code",
   "execution_count": 30,
   "metadata": {},
   "outputs": [],
   "source": [
    "# Path 설정\n",
    "model_path = '../result/bmed_model.pt'\n",
    "weights_path = '../result/bmed_model_weights.pt'\n",
    "scalers_path = '../result/bmed_model_scalers.pkl'\n",
    "data_path = '../data/BMED_data_v6+spline.xlsx'\n"
   ]
  },
  {
   "cell_type": "code",
   "execution_count": 19,
   "metadata": {},
   "outputs": [],
   "source": [
    "# 모델 클래스 임포트\n",
    "from BMED_LSTM_v4 import MembraneSystemModel, PhysicsLayer\n",
    "# 불러온 클래스를 safe globals에 등록\n",
    "import torch.serialization\n",
    "torch.serialization.add_safe_globals([MembraneSystemModel, PhysicsLayer])\n",
    "\n",
    "\n"
   ]
  },
  {
   "cell_type": "code",
   "execution_count": 24,
   "metadata": {},
   "outputs": [
    {
     "name": "stdout",
     "output_type": "stream",
     "text": [
      "모델 파라미터 디바이스: cuda:0\n"
     ]
    }
   ],
   "source": [
    "# 모델 로드\n",
    "model = torch.load(model_path, map_location=device, weights_only=False)\n",
    "# 모델 GPU 확인\n",
    "next_param = next(model.parameters(), None)\n",
    "if next_param is not None:\n",
    "    print(f\"모델 파라미터 디바이스: {next_param.device}\")"
   ]
  },
  {
   "cell_type": "code",
   "execution_count": 28,
   "metadata": {},
   "outputs": [],
   "source": [
    "# 모델 평가모드 설정\n",
    "model.eval()\n",
    "# 스케일러 로드\n",
    "with open(scalers_path, 'rb') as f:\n",
    "    scalers = pickle.load(f)"
   ]
  },
  {
   "cell_type": "code",
   "execution_count": 35,
   "metadata": {},
   "outputs": [
    {
     "data": {
      "text/plain": [
       "exp       1.000000\n",
       "T        24.816667\n",
       "V        20.000000\n",
       "E         0.250000\n",
       "Ci        0.500000\n",
       "Ki        1.000000\n",
       "t         0.000000\n",
       "CF_LA     0.500000\n",
       "CA_LA     0.000000\n",
       "CF_K      1.000000\n",
       "CB_K      0.000000\n",
       "VF        1.000000\n",
       "VA        1.000000\n",
       "VB        1.000000\n",
       "Name: 0, dtype: float64"
      ]
     },
     "execution_count": 35,
     "metadata": {},
     "output_type": "execute_result"
    }
   ],
   "source": [
    "# 데이터 로드\n",
    "df_raw = pd.read_excel(data_path,sheet_name='raw_data')\n",
    "# exp 1 추출\n",
    "exp1_data = df_raw[df_raw['exp'] == 1].sort_values('t')\n",
    "# 초기값 추출\n",
    "cond_init = exp1_data.iloc[0]\n",
    "cond_init"
   ]
  }
 ],
 "metadata": {
  "kernelspec": {
   "display_name": "bmed-NN",
   "language": "python",
   "name": "python3"
  },
  "language_info": {
   "codemirror_mode": {
    "name": "ipython",
    "version": 3
   },
   "file_extension": ".py",
   "mimetype": "text/x-python",
   "name": "python",
   "nbconvert_exporter": "python",
   "pygments_lexer": "ipython3",
   "version": "3.13.2"
  }
 },
 "nbformat": 4,
 "nbformat_minor": 2
}
