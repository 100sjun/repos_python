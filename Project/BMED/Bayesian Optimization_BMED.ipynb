{
 "cells": [
  {
   "cell_type": "code",
   "execution_count": 14,
   "metadata": {},
   "outputs": [],
   "source": [
    "# Import Modules\n",
    "import math\n",
    "import numpy as np\n",
    "from sklearn.gaussian_process import GaussianProcessRegressor\n",
    "import matplotlib.pyplot as plt\n",
    "from warnings import catch_warnings\n",
    "from warnings import simplefilter\n",
    "import scipy.stats as stats\n",
    "import itertools\n",
    "import pandas as pd\n",
    "from sklearn.model_selection import train_test_split, KFold"
   ]
  },
  {
   "cell_type": "code",
   "execution_count": 15,
   "metadata": {},
   "outputs": [],
   "source": [
    "# Data Treatment\n",
    "data_path = \"C:/Users/USER/Documents/workspace/BMED/DB_bench_BMED_for_LA.xlsx\"\n",
    "raw_Data= pd.read_excel(data_path,sheet_name=\"data_for_ML\")\n",
    "\n",
    "MVs = raw_Data[['T_operation','V_operation','E_operation','C_F_LA','C_A_LA']]\n",
    "CVs = raw_Data[['CE','J_LA']]\n",
    "X = MVs.values\n",
    "Y = CVs.values"
   ]
  },
  {
   "cell_type": "code",
   "execution_count": 16,
   "metadata": {},
   "outputs": [],
   "source": [
    "# evaluation function\n",
    "def eval(y):\n",
    "\treturn ((y[0] - 87.5)/87.5)**2 + ((y[1] - 76)/76)**2"
   ]
  },
  {
   "cell_type": "code",
   "execution_count": 17,
   "metadata": {},
   "outputs": [],
   "source": [
    "# surrogate or approximation for the objective function\n",
    "def surrogate(model, X):\n",
    "    # catch any warning generated when making a prediction\n",
    "    with catch_warnings():\n",
    "        # ignore generated warnings\n",
    "        simplefilter('ignore')\n",
    "        return model.predict(X, return_std=True)"
   ]
  },
  {
   "cell_type": "code",
   "execution_count": 18,
   "metadata": {},
   "outputs": [],
   "source": [
    "# Expected improvement acquisition function\n",
    "def acquisition(X, Xsamples, model):\n",
    "    # calculate the best surrgate score found so far\n",
    "    yhat, _ = surrogate(model, X)\n",
    "    score1 = np.zeros(len(yhat))\n",
    "    for i in range(len(yhat)):\n",
    "        score1[i] = eval(yhat[i])\n",
    "    best = min(score1)\n",
    "\n",
    "    # calculate mean and stdev via surrogate function\n",
    "    mu, std = surrogate(model, Xsamples)\n",
    "    score2 = np.zeros(len(mu))\n",
    "    for i in range(len(mu)):\n",
    "        score2[i] = eval(mu[i])\n",
    "    # Calculate the expected improvement (EI)\n",
    "    # Clip std to avoid division by zero\n",
    "    std = np.clip(std, 1e-9, None)  # Replace None with a suitable upper bound if needed\n",
    "    std2 = [i[0] for i in std]\n",
    "    z = (score2 - best)**2 / std2\n",
    "    ei = (score2 - best)**2 * stats.norm.cdf(z) + std2 * stats.norm.pdf(z)\n",
    "    return ei"
   ]
  },
  {
   "cell_type": "code",
   "execution_count": 19,
   "metadata": {},
   "outputs": [],
   "source": [
    "# optimize the acquisition function\n",
    "def opt_acquisition(X, y, model):\n",
    "    # random search, generate random samples\n",
    "    Xs1 = 14 + 3*np.random.random(46)\n",
    "    Xs2 = 1+0.2*np.random.random(46)\n",
    "    Xs3 = -0.8 + 0.4*np.random.random(46)\n",
    "    Xsamples = np.asarray(list(itertools.product(Xs1,Xs2,Xs3)))\n",
    "    \n",
    "    # calculate the acquisition function for each sample\n",
    "    scores = acquisition(X, Xsamples, model)\n",
    "    # locate the index of the largest scores\n",
    "    ix = np.argmin(scores)\n",
    "    return Xsamples[ix]"
   ]
  },
  {
   "cell_type": "code",
   "execution_count": 20,
   "metadata": {},
   "outputs": [],
   "source": [
    "# plot real observation vs surrogate function\n",
    "def plot(X, y, model):\n",
    "    # Split inputs\n",
    "    Xe1 = [X[i][0] for i in range(len(X))]\n",
    "    Xe2 = [X[i][1] for i in range(len(X))]\n",
    "    Xe3 = [X[i][2] for i in range(len(X))]\n",
    "    ye1 = [y[i][0] for i in range(len(y))]\n",
    "    ye2 = [y[i][1] for i in range(len(y))]\n",
    "\n",
    "    # scatter plot of imputs\n",
    "    fig, axes = plt.subplots(2,3)\n",
    "    axes[0,0].scatter(Xe1, ye1)\n",
    "    axes[0,1].scatter(Xe2, ye1)\n",
    "    axes[0,2].scatter(Xe3, ye1)\n",
    "    axes[1,0].scatter(Xe1, ye2)\n",
    "    axes[1,1].scatter(Xe2, ye2)\n",
    "    axes[1,2].scatter(Xe3, ye2)\n",
    "\n",
    "    # line plot of surragte function acorss domain\n",
    "    Xp1 = np.append(Xe1,10 + 10*np.random.random(20))\n",
    "    Xp2 = np.append(Xe2,2*np.random.random(20))\n",
    "    Xp3 = np.append(Xe3,-10 + 20*np.random.random(20))\n",
    "    Xpred = np.asarray(list(itertools.product(Xp1,Xp2,Xp3)))\n",
    "\n",
    "    ypred, _ = surrogate(model, Xpred)\n",
    "    yp1 = [i[0] for i in ypred]\n",
    "    yp2 = [i[1] for i in ypred]\n",
    "\n",
    "    Xpl1 = [i[0] for i in Xpred]\n",
    "    Xpl2 = [i[1] for i in Xpred]\n",
    "    Xpl3 = [i[2] for i in Xpred]\n",
    "\n",
    "    axes[0,0].scatter(Xpl1, yp1, s=1)\n",
    "    axes[0,1].scatter(Xpl2, yp1, s=1)\n",
    "    axes[0,2].scatter(Xpl3, yp1, s=1)\n",
    "    axes[1,0].scatter(Xpl1, yp2, s=1)\n",
    "    axes[1,1].scatter(Xpl2, yp2, s=1)\n",
    "    axes[1,2].scatter(Xpl3, yp2, s=1)\n",
    "    # show the plot\n",
    "    plt.show()"
   ]
  },
  {
   "cell_type": "code",
   "execution_count": 21,
   "metadata": {},
   "outputs": [],
   "source": [
    "# split the data\n",
    "X_train, X_test, Y_train, Y_test = train_test_split(X, Y, test_size = 0.2, random_state=42)\n",
    "\n",
    "# 5-Fold Cross Validation\n",
    "kfold = KFold(n_splits=5, shuffle=True, random_state=42)\n",
    "\n",
    "\n",
    "for train_index, val_index in kfold.split(X_train):\n",
    "    X_train_fold, X_val_fold = X_train[train_index], X_train[val_index]\n",
    "    Y_train_fold, Y_val_fold = Y_train[train_index], Y_train[val_index]\n",
    "\n",
    "    model = GaussianProcessRegressor()\n",
    "    model.fit(X_train_fold,Y_train_fold)\n",
    "\n",
    "\n",
    "\n",
    "# # define the model\n",
    "# model = GaussianProcessRegressor()\n",
    "# model.fit(X,y)\n",
    "\n",
    "# x = opt_acquisition(X, y, model)\n",
    "# actual = [67.06,49.637]\n",
    "# est, _ = surrogate(model, [X[2]])\n",
    "# print(f'>x = {x}, f()={est}, actual={actual}')\n",
    "# print(np.exp(x[0]),np.exp(x[0])*5)\n"
   ]
  },
  {
   "cell_type": "code",
   "execution_count": 22,
   "metadata": {},
   "outputs": [
    {
     "name": "stderr",
     "output_type": "stream",
     "text": [
      "<>:10: SyntaxWarning: 'list' object is not callable; perhaps you missed a comma?\n",
      "<>:11: SyntaxWarning: 'list' object is not callable; perhaps you missed a comma?\n",
      "<>:10: SyntaxWarning: 'list' object is not callable; perhaps you missed a comma?\n",
      "<>:11: SyntaxWarning: 'list' object is not callable; perhaps you missed a comma?\n"
     ]
    },
    {
     "ename": "NameError",
     "evalue": "name 'y' is not defined",
     "output_type": "error",
     "traceback": [
      "\u001b[1;31m---------------------------------------------------------------------------\u001b[0m",
      "\u001b[1;31mNameError\u001b[0m                                 Traceback (most recent call last)",
      "Cell \u001b[1;32mIn[22], line 2\u001b[0m\n\u001b[0;32m      1\u001b[0m \u001b[38;5;66;03m# best result\u001b[39;00m\n\u001b[1;32m----> 2\u001b[0m score3\u001b[38;5;241m=\u001b[39mnp\u001b[38;5;241m.\u001b[39mzeros(\u001b[38;5;28mlen\u001b[39m(\u001b[43my\u001b[49m))\n\u001b[0;32m      3\u001b[0m \u001b[38;5;28;01mfor\u001b[39;00m i \u001b[38;5;129;01min\u001b[39;00m \u001b[38;5;28mrange\u001b[39m(\u001b[38;5;28mlen\u001b[39m(y)):\n\u001b[0;32m      4\u001b[0m         score3[i] \u001b[38;5;241m=\u001b[39m \u001b[38;5;28meval\u001b[39m(y[i])\n",
      "\u001b[1;31mNameError\u001b[0m: name 'y' is not defined"
     ]
    }
   ],
   "source": [
    "# best result\n",
    "score3=np.zeros(len(y))\n",
    "for i in range(len(y)):\n",
    "        score3[i] = eval(y[i])\n",
    "ix = np.argmin(score3)\n",
    "print(X[ix], y[ix])\n",
    "\n",
    "plt.scatter(score3)\n",
    "\n",
    ",[16.0505649,1.19114408,-0.68813221]\n",
    ",[67.19,49.637]"
   ]
  }
 ],
 "metadata": {
  "kernelspec": {
   "display_name": "Python 3",
   "language": "python",
   "name": "python3"
  },
  "language_info": {
   "codemirror_mode": {
    "name": "ipython",
    "version": 3
   },
   "file_extension": ".py",
   "mimetype": "text/x-python",
   "name": "python",
   "nbconvert_exporter": "python",
   "pygments_lexer": "ipython3",
   "version": "3.12.3"
  }
 },
 "nbformat": 4,
 "nbformat_minor": 2
}
