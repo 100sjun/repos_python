{
 "cells": [
  {
   "cell_type": "code",
   "execution_count": 5,
   "metadata": {},
   "outputs": [],
   "source": [
    "import optuna\n",
    "import matplotlib.pyplot as plt\n",
    "import plotly.graph_objects as go\n",
    "import numpy as np\n"
   ]
  },
  {
   "cell_type": "code",
   "execution_count": 6,
   "metadata": {},
   "outputs": [
    {
     "name": "stderr",
     "output_type": "stream",
     "text": [
      "[I 2025-03-12 16:42:43,274] Using an existing study with name 'optimization_study' instead of creating a new one.\n"
     ]
    }
   ],
   "source": [
    "study_name = \"optimization_study\"\n",
    "storage_name = \"sqlite:///study.db\"  # SQLite DB에 결과 저장\n",
    "study = optuna.create_study(\n",
    "    study_name=study_name,\n",
    "    storage=storage_name,\n",
    "    load_if_exists=True  # 기존 study가 있으면 불러오기\n",
    ")"
   ]
  },
  {
   "cell_type": "code",
   "execution_count": 7,
   "metadata": {},
   "outputs": [
    {
     "data": {
      "application/vnd.plotly.v1+json": {
       "config": {
        "plotlyServerURL": "https://plot.ly"
       },
       "data": [
        {
         "mode": "markers",
         "name": "Objective Value",
         "type": "scatter",
         "x": [
          0,
          1,
          2,
          3,
          4,
          5,
          6,
          7,
          8,
          9,
          10,
          11,
          12,
          13,
          14,
          15,
          16,
          17,
          18,
          19,
          20,
          21,
          22,
          23,
          24,
          25,
          26,
          27,
          28,
          29,
          30,
          31,
          32,
          33,
          34,
          35,
          36,
          37,
          38,
          39,
          40,
          41,
          42,
          43,
          44,
          45,
          46,
          47,
          48,
          49,
          50,
          51,
          52,
          53,
          54,
          55,
          56,
          57,
          58,
          59,
          60,
          61,
          62,
          63,
          64,
          65,
          66,
          67,
          68,
          69,
          70,
          71,
          72,
          73,
          74,
          75,
          76,
          77,
          78,
          79,
          80,
          81,
          82,
          83,
          84,
          85,
          86,
          87,
          88,
          89,
          90,
          91,
          92,
          93,
          94,
          95,
          96,
          97,
          98,
          99
         ],
         "y": [
          -0.002965121273882687,
          0.5344814777374267,
          -2.654841342009604,
          -0.002989025099668652,
          0.768088448047638,
          -0.0025071573560126125,
          -0.006292815506458283,
          0.8728316903114319,
          -0.003168740274850279,
          -0.0030974913970567286,
          0.6596721291542054,
          0.6561193943023682,
          0.5779853820800781,
          0.8952014803886413,
          0.9308592319488526,
          0.6833253383636475,
          0.1949504780350253,
          -0.0029816627386026083,
          0.9061066389083863,
          -0.002953987184446305,
          0.8807854652404785,
          0.6093916058540344,
          0.6199948072433472,
          0.6726077914237976,
          0.6486811637878418,
          0.20410634726285934,
          0.9318232893943786,
          -0.23901967068668456,
          0.5028126024641096,
          0.8350015044212341,
          0.5846830844879151,
          0.9217611312866211,
          0.6173703789710998,
          0.930033278465271,
          0.7824608087539673,
          0.6785212635993958,
          0.8807787299156189,
          0.9313088417053222,
          0.2997381627559662,
          0.6467797160148621,
          0.9253352046012878,
          0.9429897904396057,
          0.9398759245872498,
          0.8063497185707093,
          0.6131300806999207,
          0.9510938405990601,
          0.9449265360832214,
          0.7708857536315918,
          0.4385568559169769,
          0.8945684552192688,
          -0.0036670066649094222,
          -0.0029783200938254596,
          0.9212105393409729,
          0.9344869375228881,
          0.9345736622810363,
          0.9351139068603516,
          0.949070680141449,
          0.8808156967163085,
          0.9155785322189331,
          0.9465735197067261,
          0.9490415334701539,
          0.8834969282150269,
          0.6121013164520264,
          0.9422675371170044,
          0.9367935061454773,
          0.8461429357528687,
          0.9207988739013672,
          0.74844411611557,
          0.932323944568634,
          0.9375185370445251,
          0.9437841653823853,
          0.7920295715332031,
          0.945623254776001,
          0.9387853026390076,
          0.9480822563171387,
          0.9368132710456848,
          0.8665874600410461,
          0.9374355196952819,
          0.9452745676040649,
          0.9202879667282104,
          0.9221655011177063,
          0.9120074272155761,
          0.9369735717773438,
          0.9450478553771973,
          0.9286145448684693,
          0.9417712926864624,
          0.8749983787536622,
          0.949284017086029,
          0.9436989665031433,
          0.9491367340087891,
          0.9275494575500488,
          0.9416497111320495,
          0.9296018719673157,
          0.9344072103500366,
          0.9458000659942627,
          0.937102222442627,
          0.9397958159446717,
          0.9446762800216675,
          0.9474002122879028,
          0.9375841498374939
         ]
        },
        {
         "mode": "lines",
         "name": "Best Value",
         "type": "scatter",
         "x": [
          0,
          1,
          2,
          3,
          4,
          5,
          6,
          7,
          8,
          9,
          10,
          11,
          12,
          13,
          14,
          15,
          16,
          17,
          18,
          19,
          20,
          21,
          22,
          23,
          24,
          25,
          26,
          27,
          28,
          29,
          30,
          31,
          32,
          33,
          34,
          35,
          36,
          37,
          38,
          39,
          40,
          41,
          42,
          43,
          44,
          45,
          46,
          47,
          48,
          49,
          50,
          51,
          52,
          53,
          54,
          55,
          56,
          57,
          58,
          59,
          60,
          61,
          62,
          63,
          64,
          65,
          66,
          67,
          68,
          69,
          70,
          71,
          72,
          73,
          74,
          75,
          76,
          77,
          78,
          79,
          80,
          81,
          82,
          83,
          84,
          85,
          86,
          87,
          88,
          89,
          90,
          91,
          92,
          93,
          94,
          95,
          96,
          97,
          98,
          99
         ],
         "y": [
          -0.002965121273882687,
          0.5344814777374267,
          0.5344814777374267,
          0.5344814777374267,
          0.768088448047638,
          0.768088448047638,
          0.768088448047638,
          0.8728316903114319,
          0.8728316903114319,
          0.8728316903114319,
          0.8728316903114319,
          0.8728316903114319,
          0.8728316903114319,
          0.8952014803886413,
          0.9308592319488526,
          0.9308592319488526,
          0.9308592319488526,
          0.9308592319488526,
          0.9308592319488526,
          0.9308592319488526,
          0.9308592319488526,
          0.9308592319488526,
          0.9308592319488526,
          0.9308592319488526,
          0.9308592319488526,
          0.9308592319488526,
          0.9318232893943786,
          0.9318232893943786,
          0.9318232893943786,
          0.9318232893943786,
          0.9318232893943786,
          0.9318232893943786,
          0.9318232893943786,
          0.9318232893943786,
          0.9318232893943786,
          0.9318232893943786,
          0.9318232893943786,
          0.9318232893943786,
          0.9318232893943786,
          0.9318232893943786,
          0.9318232893943786,
          0.9429897904396057,
          0.9429897904396057,
          0.9429897904396057,
          0.9429897904396057,
          0.9510938405990601,
          0.9510938405990601,
          0.9510938405990601,
          0.9510938405990601,
          0.9510938405990601,
          0.9510938405990601,
          0.9510938405990601,
          0.9510938405990601,
          0.9510938405990601,
          0.9510938405990601,
          0.9510938405990601,
          0.9510938405990601,
          0.9510938405990601,
          0.9510938405990601,
          0.9510938405990601,
          0.9510938405990601,
          0.9510938405990601,
          0.9510938405990601,
          0.9510938405990601,
          0.9510938405990601,
          0.9510938405990601,
          0.9510938405990601,
          0.9510938405990601,
          0.9510938405990601,
          0.9510938405990601,
          0.9510938405990601,
          0.9510938405990601,
          0.9510938405990601,
          0.9510938405990601,
          0.9510938405990601,
          0.9510938405990601,
          0.9510938405990601,
          0.9510938405990601,
          0.9510938405990601,
          0.9510938405990601,
          0.9510938405990601,
          0.9510938405990601,
          0.9510938405990601,
          0.9510938405990601,
          0.9510938405990601,
          0.9510938405990601,
          0.9510938405990601,
          0.9510938405990601,
          0.9510938405990601,
          0.9510938405990601,
          0.9510938405990601,
          0.9510938405990601,
          0.9510938405990601,
          0.9510938405990601,
          0.9510938405990601,
          0.9510938405990601,
          0.9510938405990601,
          0.9510938405990601,
          0.9510938405990601,
          0.9510938405990601
         ]
        },
        {
         "marker": {
          "color": "#cccccc"
         },
         "mode": "markers",
         "name": "Infeasible Trial",
         "showlegend": false,
         "type": "scatter",
         "x": [],
         "y": []
        }
       ],
       "layout": {
        "template": {
         "data": {
          "bar": [
           {
            "error_x": {
             "color": "#2a3f5f"
            },
            "error_y": {
             "color": "#2a3f5f"
            },
            "marker": {
             "line": {
              "color": "#E5ECF6",
              "width": 0.5
             },
             "pattern": {
              "fillmode": "overlay",
              "size": 10,
              "solidity": 0.2
             }
            },
            "type": "bar"
           }
          ],
          "barpolar": [
           {
            "marker": {
             "line": {
              "color": "#E5ECF6",
              "width": 0.5
             },
             "pattern": {
              "fillmode": "overlay",
              "size": 10,
              "solidity": 0.2
             }
            },
            "type": "barpolar"
           }
          ],
          "carpet": [
           {
            "aaxis": {
             "endlinecolor": "#2a3f5f",
             "gridcolor": "white",
             "linecolor": "white",
             "minorgridcolor": "white",
             "startlinecolor": "#2a3f5f"
            },
            "baxis": {
             "endlinecolor": "#2a3f5f",
             "gridcolor": "white",
             "linecolor": "white",
             "minorgridcolor": "white",
             "startlinecolor": "#2a3f5f"
            },
            "type": "carpet"
           }
          ],
          "choropleth": [
           {
            "colorbar": {
             "outlinewidth": 0,
             "ticks": ""
            },
            "type": "choropleth"
           }
          ],
          "contour": [
           {
            "colorbar": {
             "outlinewidth": 0,
             "ticks": ""
            },
            "colorscale": [
             [
              0,
              "#0d0887"
             ],
             [
              0.1111111111111111,
              "#46039f"
             ],
             [
              0.2222222222222222,
              "#7201a8"
             ],
             [
              0.3333333333333333,
              "#9c179e"
             ],
             [
              0.4444444444444444,
              "#bd3786"
             ],
             [
              0.5555555555555556,
              "#d8576b"
             ],
             [
              0.6666666666666666,
              "#ed7953"
             ],
             [
              0.7777777777777778,
              "#fb9f3a"
             ],
             [
              0.8888888888888888,
              "#fdca26"
             ],
             [
              1,
              "#f0f921"
             ]
            ],
            "type": "contour"
           }
          ],
          "contourcarpet": [
           {
            "colorbar": {
             "outlinewidth": 0,
             "ticks": ""
            },
            "type": "contourcarpet"
           }
          ],
          "heatmap": [
           {
            "colorbar": {
             "outlinewidth": 0,
             "ticks": ""
            },
            "colorscale": [
             [
              0,
              "#0d0887"
             ],
             [
              0.1111111111111111,
              "#46039f"
             ],
             [
              0.2222222222222222,
              "#7201a8"
             ],
             [
              0.3333333333333333,
              "#9c179e"
             ],
             [
              0.4444444444444444,
              "#bd3786"
             ],
             [
              0.5555555555555556,
              "#d8576b"
             ],
             [
              0.6666666666666666,
              "#ed7953"
             ],
             [
              0.7777777777777778,
              "#fb9f3a"
             ],
             [
              0.8888888888888888,
              "#fdca26"
             ],
             [
              1,
              "#f0f921"
             ]
            ],
            "type": "heatmap"
           }
          ],
          "histogram": [
           {
            "marker": {
             "pattern": {
              "fillmode": "overlay",
              "size": 10,
              "solidity": 0.2
             }
            },
            "type": "histogram"
           }
          ],
          "histogram2d": [
           {
            "colorbar": {
             "outlinewidth": 0,
             "ticks": ""
            },
            "colorscale": [
             [
              0,
              "#0d0887"
             ],
             [
              0.1111111111111111,
              "#46039f"
             ],
             [
              0.2222222222222222,
              "#7201a8"
             ],
             [
              0.3333333333333333,
              "#9c179e"
             ],
             [
              0.4444444444444444,
              "#bd3786"
             ],
             [
              0.5555555555555556,
              "#d8576b"
             ],
             [
              0.6666666666666666,
              "#ed7953"
             ],
             [
              0.7777777777777778,
              "#fb9f3a"
             ],
             [
              0.8888888888888888,
              "#fdca26"
             ],
             [
              1,
              "#f0f921"
             ]
            ],
            "type": "histogram2d"
           }
          ],
          "histogram2dcontour": [
           {
            "colorbar": {
             "outlinewidth": 0,
             "ticks": ""
            },
            "colorscale": [
             [
              0,
              "#0d0887"
             ],
             [
              0.1111111111111111,
              "#46039f"
             ],
             [
              0.2222222222222222,
              "#7201a8"
             ],
             [
              0.3333333333333333,
              "#9c179e"
             ],
             [
              0.4444444444444444,
              "#bd3786"
             ],
             [
              0.5555555555555556,
              "#d8576b"
             ],
             [
              0.6666666666666666,
              "#ed7953"
             ],
             [
              0.7777777777777778,
              "#fb9f3a"
             ],
             [
              0.8888888888888888,
              "#fdca26"
             ],
             [
              1,
              "#f0f921"
             ]
            ],
            "type": "histogram2dcontour"
           }
          ],
          "mesh3d": [
           {
            "colorbar": {
             "outlinewidth": 0,
             "ticks": ""
            },
            "type": "mesh3d"
           }
          ],
          "parcoords": [
           {
            "line": {
             "colorbar": {
              "outlinewidth": 0,
              "ticks": ""
             }
            },
            "type": "parcoords"
           }
          ],
          "pie": [
           {
            "automargin": true,
            "type": "pie"
           }
          ],
          "scatter": [
           {
            "fillpattern": {
             "fillmode": "overlay",
             "size": 10,
             "solidity": 0.2
            },
            "type": "scatter"
           }
          ],
          "scatter3d": [
           {
            "line": {
             "colorbar": {
              "outlinewidth": 0,
              "ticks": ""
             }
            },
            "marker": {
             "colorbar": {
              "outlinewidth": 0,
              "ticks": ""
             }
            },
            "type": "scatter3d"
           }
          ],
          "scattercarpet": [
           {
            "marker": {
             "colorbar": {
              "outlinewidth": 0,
              "ticks": ""
             }
            },
            "type": "scattercarpet"
           }
          ],
          "scattergeo": [
           {
            "marker": {
             "colorbar": {
              "outlinewidth": 0,
              "ticks": ""
             }
            },
            "type": "scattergeo"
           }
          ],
          "scattergl": [
           {
            "marker": {
             "colorbar": {
              "outlinewidth": 0,
              "ticks": ""
             }
            },
            "type": "scattergl"
           }
          ],
          "scattermap": [
           {
            "marker": {
             "colorbar": {
              "outlinewidth": 0,
              "ticks": ""
             }
            },
            "type": "scattermap"
           }
          ],
          "scattermapbox": [
           {
            "marker": {
             "colorbar": {
              "outlinewidth": 0,
              "ticks": ""
             }
            },
            "type": "scattermapbox"
           }
          ],
          "scatterpolar": [
           {
            "marker": {
             "colorbar": {
              "outlinewidth": 0,
              "ticks": ""
             }
            },
            "type": "scatterpolar"
           }
          ],
          "scatterpolargl": [
           {
            "marker": {
             "colorbar": {
              "outlinewidth": 0,
              "ticks": ""
             }
            },
            "type": "scatterpolargl"
           }
          ],
          "scatterternary": [
           {
            "marker": {
             "colorbar": {
              "outlinewidth": 0,
              "ticks": ""
             }
            },
            "type": "scatterternary"
           }
          ],
          "surface": [
           {
            "colorbar": {
             "outlinewidth": 0,
             "ticks": ""
            },
            "colorscale": [
             [
              0,
              "#0d0887"
             ],
             [
              0.1111111111111111,
              "#46039f"
             ],
             [
              0.2222222222222222,
              "#7201a8"
             ],
             [
              0.3333333333333333,
              "#9c179e"
             ],
             [
              0.4444444444444444,
              "#bd3786"
             ],
             [
              0.5555555555555556,
              "#d8576b"
             ],
             [
              0.6666666666666666,
              "#ed7953"
             ],
             [
              0.7777777777777778,
              "#fb9f3a"
             ],
             [
              0.8888888888888888,
              "#fdca26"
             ],
             [
              1,
              "#f0f921"
             ]
            ],
            "type": "surface"
           }
          ],
          "table": [
           {
            "cells": {
             "fill": {
              "color": "#EBF0F8"
             },
             "line": {
              "color": "white"
             }
            },
            "header": {
             "fill": {
              "color": "#C8D4E3"
             },
             "line": {
              "color": "white"
             }
            },
            "type": "table"
           }
          ]
         },
         "layout": {
          "annotationdefaults": {
           "arrowcolor": "#2a3f5f",
           "arrowhead": 0,
           "arrowwidth": 1
          },
          "autotypenumbers": "strict",
          "coloraxis": {
           "colorbar": {
            "outlinewidth": 0,
            "ticks": ""
           }
          },
          "colorscale": {
           "diverging": [
            [
             0,
             "#8e0152"
            ],
            [
             0.1,
             "#c51b7d"
            ],
            [
             0.2,
             "#de77ae"
            ],
            [
             0.3,
             "#f1b6da"
            ],
            [
             0.4,
             "#fde0ef"
            ],
            [
             0.5,
             "#f7f7f7"
            ],
            [
             0.6,
             "#e6f5d0"
            ],
            [
             0.7,
             "#b8e186"
            ],
            [
             0.8,
             "#7fbc41"
            ],
            [
             0.9,
             "#4d9221"
            ],
            [
             1,
             "#276419"
            ]
           ],
           "sequential": [
            [
             0,
             "#0d0887"
            ],
            [
             0.1111111111111111,
             "#46039f"
            ],
            [
             0.2222222222222222,
             "#7201a8"
            ],
            [
             0.3333333333333333,
             "#9c179e"
            ],
            [
             0.4444444444444444,
             "#bd3786"
            ],
            [
             0.5555555555555556,
             "#d8576b"
            ],
            [
             0.6666666666666666,
             "#ed7953"
            ],
            [
             0.7777777777777778,
             "#fb9f3a"
            ],
            [
             0.8888888888888888,
             "#fdca26"
            ],
            [
             1,
             "#f0f921"
            ]
           ],
           "sequentialminus": [
            [
             0,
             "#0d0887"
            ],
            [
             0.1111111111111111,
             "#46039f"
            ],
            [
             0.2222222222222222,
             "#7201a8"
            ],
            [
             0.3333333333333333,
             "#9c179e"
            ],
            [
             0.4444444444444444,
             "#bd3786"
            ],
            [
             0.5555555555555556,
             "#d8576b"
            ],
            [
             0.6666666666666666,
             "#ed7953"
            ],
            [
             0.7777777777777778,
             "#fb9f3a"
            ],
            [
             0.8888888888888888,
             "#fdca26"
            ],
            [
             1,
             "#f0f921"
            ]
           ]
          },
          "colorway": [
           "#636efa",
           "#EF553B",
           "#00cc96",
           "#ab63fa",
           "#FFA15A",
           "#19d3f3",
           "#FF6692",
           "#B6E880",
           "#FF97FF",
           "#FECB52"
          ],
          "font": {
           "color": "#2a3f5f"
          },
          "geo": {
           "bgcolor": "white",
           "lakecolor": "white",
           "landcolor": "#E5ECF6",
           "showlakes": true,
           "showland": true,
           "subunitcolor": "white"
          },
          "hoverlabel": {
           "align": "left"
          },
          "hovermode": "closest",
          "mapbox": {
           "style": "light"
          },
          "paper_bgcolor": "white",
          "plot_bgcolor": "#E5ECF6",
          "polar": {
           "angularaxis": {
            "gridcolor": "white",
            "linecolor": "white",
            "ticks": ""
           },
           "bgcolor": "#E5ECF6",
           "radialaxis": {
            "gridcolor": "white",
            "linecolor": "white",
            "ticks": ""
           }
          },
          "scene": {
           "xaxis": {
            "backgroundcolor": "#E5ECF6",
            "gridcolor": "white",
            "gridwidth": 2,
            "linecolor": "white",
            "showbackground": true,
            "ticks": "",
            "zerolinecolor": "white"
           },
           "yaxis": {
            "backgroundcolor": "#E5ECF6",
            "gridcolor": "white",
            "gridwidth": 2,
            "linecolor": "white",
            "showbackground": true,
            "ticks": "",
            "zerolinecolor": "white"
           },
           "zaxis": {
            "backgroundcolor": "#E5ECF6",
            "gridcolor": "white",
            "gridwidth": 2,
            "linecolor": "white",
            "showbackground": true,
            "ticks": "",
            "zerolinecolor": "white"
           }
          },
          "shapedefaults": {
           "line": {
            "color": "#2a3f5f"
           }
          },
          "ternary": {
           "aaxis": {
            "gridcolor": "white",
            "linecolor": "white",
            "ticks": ""
           },
           "baxis": {
            "gridcolor": "white",
            "linecolor": "white",
            "ticks": ""
           },
           "bgcolor": "#E5ECF6",
           "caxis": {
            "gridcolor": "white",
            "linecolor": "white",
            "ticks": ""
           }
          },
          "title": {
           "x": 0.05
          },
          "xaxis": {
           "automargin": true,
           "gridcolor": "white",
           "linecolor": "white",
           "ticks": "",
           "title": {
            "standoff": 15
           },
           "zerolinecolor": "white",
           "zerolinewidth": 2
          },
          "yaxis": {
           "automargin": true,
           "gridcolor": "white",
           "linecolor": "white",
           "ticks": "",
           "title": {
            "standoff": 15
           },
           "zerolinecolor": "white",
           "zerolinewidth": 2
          }
         }
        },
        "title": {
         "text": "Optimization History Plot"
        },
        "xaxis": {
         "title": {
          "text": "Trial"
         }
        },
        "yaxis": {
         "title": {
          "text": "Objective Value"
         }
        }
       }
      }
     },
     "metadata": {},
     "output_type": "display_data"
    }
   ],
   "source": [
    "# 최적화 히스토리 플롯\n",
    "optuna.visualization.plot_optimization_history(study)"
   ]
  },
  {
   "cell_type": "code",
   "execution_count": 8,
   "metadata": {},
   "outputs": [
    {
     "data": {
      "application/vnd.plotly.v1+json": {
       "config": {
        "plotlyServerURL": "https://plot.ly"
       },
       "data": [
        {
         "cliponaxis": false,
         "hovertemplate": [
          "weight_decay (FloatDistribution): 0.007376690770264613<extra></extra>",
          "hidden_nodes (IntDistribution): 0.016182405085059214<extra></extra>",
          "num_epochs (IntDistribution): 0.027811838722611944<extra></extra>",
          "learning_rate (FloatDistribution): 0.07866380226952743<extra></extra>",
          "batch_size (IntDistribution): 0.12368059563128755<extra></extra>",
          "hidden_layers (IntDistribution): 0.7462846675212492<extra></extra>"
         ],
         "name": "Objective Value",
         "orientation": "h",
         "text": [
          "<0.01",
          "0.02",
          "0.03",
          "0.08",
          "0.12",
          "0.75"
         ],
         "textposition": "outside",
         "type": "bar",
         "x": [
          0.007376690770264613,
          0.016182405085059214,
          0.027811838722611944,
          0.07866380226952743,
          0.12368059563128755,
          0.7462846675212492
         ],
         "y": [
          "weight_decay",
          "hidden_nodes",
          "num_epochs",
          "learning_rate",
          "batch_size",
          "hidden_layers"
         ]
        }
       ],
       "layout": {
        "template": {
         "data": {
          "bar": [
           {
            "error_x": {
             "color": "#2a3f5f"
            },
            "error_y": {
             "color": "#2a3f5f"
            },
            "marker": {
             "line": {
              "color": "#E5ECF6",
              "width": 0.5
             },
             "pattern": {
              "fillmode": "overlay",
              "size": 10,
              "solidity": 0.2
             }
            },
            "type": "bar"
           }
          ],
          "barpolar": [
           {
            "marker": {
             "line": {
              "color": "#E5ECF6",
              "width": 0.5
             },
             "pattern": {
              "fillmode": "overlay",
              "size": 10,
              "solidity": 0.2
             }
            },
            "type": "barpolar"
           }
          ],
          "carpet": [
           {
            "aaxis": {
             "endlinecolor": "#2a3f5f",
             "gridcolor": "white",
             "linecolor": "white",
             "minorgridcolor": "white",
             "startlinecolor": "#2a3f5f"
            },
            "baxis": {
             "endlinecolor": "#2a3f5f",
             "gridcolor": "white",
             "linecolor": "white",
             "minorgridcolor": "white",
             "startlinecolor": "#2a3f5f"
            },
            "type": "carpet"
           }
          ],
          "choropleth": [
           {
            "colorbar": {
             "outlinewidth": 0,
             "ticks": ""
            },
            "type": "choropleth"
           }
          ],
          "contour": [
           {
            "colorbar": {
             "outlinewidth": 0,
             "ticks": ""
            },
            "colorscale": [
             [
              0,
              "#0d0887"
             ],
             [
              0.1111111111111111,
              "#46039f"
             ],
             [
              0.2222222222222222,
              "#7201a8"
             ],
             [
              0.3333333333333333,
              "#9c179e"
             ],
             [
              0.4444444444444444,
              "#bd3786"
             ],
             [
              0.5555555555555556,
              "#d8576b"
             ],
             [
              0.6666666666666666,
              "#ed7953"
             ],
             [
              0.7777777777777778,
              "#fb9f3a"
             ],
             [
              0.8888888888888888,
              "#fdca26"
             ],
             [
              1,
              "#f0f921"
             ]
            ],
            "type": "contour"
           }
          ],
          "contourcarpet": [
           {
            "colorbar": {
             "outlinewidth": 0,
             "ticks": ""
            },
            "type": "contourcarpet"
           }
          ],
          "heatmap": [
           {
            "colorbar": {
             "outlinewidth": 0,
             "ticks": ""
            },
            "colorscale": [
             [
              0,
              "#0d0887"
             ],
             [
              0.1111111111111111,
              "#46039f"
             ],
             [
              0.2222222222222222,
              "#7201a8"
             ],
             [
              0.3333333333333333,
              "#9c179e"
             ],
             [
              0.4444444444444444,
              "#bd3786"
             ],
             [
              0.5555555555555556,
              "#d8576b"
             ],
             [
              0.6666666666666666,
              "#ed7953"
             ],
             [
              0.7777777777777778,
              "#fb9f3a"
             ],
             [
              0.8888888888888888,
              "#fdca26"
             ],
             [
              1,
              "#f0f921"
             ]
            ],
            "type": "heatmap"
           }
          ],
          "histogram": [
           {
            "marker": {
             "pattern": {
              "fillmode": "overlay",
              "size": 10,
              "solidity": 0.2
             }
            },
            "type": "histogram"
           }
          ],
          "histogram2d": [
           {
            "colorbar": {
             "outlinewidth": 0,
             "ticks": ""
            },
            "colorscale": [
             [
              0,
              "#0d0887"
             ],
             [
              0.1111111111111111,
              "#46039f"
             ],
             [
              0.2222222222222222,
              "#7201a8"
             ],
             [
              0.3333333333333333,
              "#9c179e"
             ],
             [
              0.4444444444444444,
              "#bd3786"
             ],
             [
              0.5555555555555556,
              "#d8576b"
             ],
             [
              0.6666666666666666,
              "#ed7953"
             ],
             [
              0.7777777777777778,
              "#fb9f3a"
             ],
             [
              0.8888888888888888,
              "#fdca26"
             ],
             [
              1,
              "#f0f921"
             ]
            ],
            "type": "histogram2d"
           }
          ],
          "histogram2dcontour": [
           {
            "colorbar": {
             "outlinewidth": 0,
             "ticks": ""
            },
            "colorscale": [
             [
              0,
              "#0d0887"
             ],
             [
              0.1111111111111111,
              "#46039f"
             ],
             [
              0.2222222222222222,
              "#7201a8"
             ],
             [
              0.3333333333333333,
              "#9c179e"
             ],
             [
              0.4444444444444444,
              "#bd3786"
             ],
             [
              0.5555555555555556,
              "#d8576b"
             ],
             [
              0.6666666666666666,
              "#ed7953"
             ],
             [
              0.7777777777777778,
              "#fb9f3a"
             ],
             [
              0.8888888888888888,
              "#fdca26"
             ],
             [
              1,
              "#f0f921"
             ]
            ],
            "type": "histogram2dcontour"
           }
          ],
          "mesh3d": [
           {
            "colorbar": {
             "outlinewidth": 0,
             "ticks": ""
            },
            "type": "mesh3d"
           }
          ],
          "parcoords": [
           {
            "line": {
             "colorbar": {
              "outlinewidth": 0,
              "ticks": ""
             }
            },
            "type": "parcoords"
           }
          ],
          "pie": [
           {
            "automargin": true,
            "type": "pie"
           }
          ],
          "scatter": [
           {
            "fillpattern": {
             "fillmode": "overlay",
             "size": 10,
             "solidity": 0.2
            },
            "type": "scatter"
           }
          ],
          "scatter3d": [
           {
            "line": {
             "colorbar": {
              "outlinewidth": 0,
              "ticks": ""
             }
            },
            "marker": {
             "colorbar": {
              "outlinewidth": 0,
              "ticks": ""
             }
            },
            "type": "scatter3d"
           }
          ],
          "scattercarpet": [
           {
            "marker": {
             "colorbar": {
              "outlinewidth": 0,
              "ticks": ""
             }
            },
            "type": "scattercarpet"
           }
          ],
          "scattergeo": [
           {
            "marker": {
             "colorbar": {
              "outlinewidth": 0,
              "ticks": ""
             }
            },
            "type": "scattergeo"
           }
          ],
          "scattergl": [
           {
            "marker": {
             "colorbar": {
              "outlinewidth": 0,
              "ticks": ""
             }
            },
            "type": "scattergl"
           }
          ],
          "scattermap": [
           {
            "marker": {
             "colorbar": {
              "outlinewidth": 0,
              "ticks": ""
             }
            },
            "type": "scattermap"
           }
          ],
          "scattermapbox": [
           {
            "marker": {
             "colorbar": {
              "outlinewidth": 0,
              "ticks": ""
             }
            },
            "type": "scattermapbox"
           }
          ],
          "scatterpolar": [
           {
            "marker": {
             "colorbar": {
              "outlinewidth": 0,
              "ticks": ""
             }
            },
            "type": "scatterpolar"
           }
          ],
          "scatterpolargl": [
           {
            "marker": {
             "colorbar": {
              "outlinewidth": 0,
              "ticks": ""
             }
            },
            "type": "scatterpolargl"
           }
          ],
          "scatterternary": [
           {
            "marker": {
             "colorbar": {
              "outlinewidth": 0,
              "ticks": ""
             }
            },
            "type": "scatterternary"
           }
          ],
          "surface": [
           {
            "colorbar": {
             "outlinewidth": 0,
             "ticks": ""
            },
            "colorscale": [
             [
              0,
              "#0d0887"
             ],
             [
              0.1111111111111111,
              "#46039f"
             ],
             [
              0.2222222222222222,
              "#7201a8"
             ],
             [
              0.3333333333333333,
              "#9c179e"
             ],
             [
              0.4444444444444444,
              "#bd3786"
             ],
             [
              0.5555555555555556,
              "#d8576b"
             ],
             [
              0.6666666666666666,
              "#ed7953"
             ],
             [
              0.7777777777777778,
              "#fb9f3a"
             ],
             [
              0.8888888888888888,
              "#fdca26"
             ],
             [
              1,
              "#f0f921"
             ]
            ],
            "type": "surface"
           }
          ],
          "table": [
           {
            "cells": {
             "fill": {
              "color": "#EBF0F8"
             },
             "line": {
              "color": "white"
             }
            },
            "header": {
             "fill": {
              "color": "#C8D4E3"
             },
             "line": {
              "color": "white"
             }
            },
            "type": "table"
           }
          ]
         },
         "layout": {
          "annotationdefaults": {
           "arrowcolor": "#2a3f5f",
           "arrowhead": 0,
           "arrowwidth": 1
          },
          "autotypenumbers": "strict",
          "coloraxis": {
           "colorbar": {
            "outlinewidth": 0,
            "ticks": ""
           }
          },
          "colorscale": {
           "diverging": [
            [
             0,
             "#8e0152"
            ],
            [
             0.1,
             "#c51b7d"
            ],
            [
             0.2,
             "#de77ae"
            ],
            [
             0.3,
             "#f1b6da"
            ],
            [
             0.4,
             "#fde0ef"
            ],
            [
             0.5,
             "#f7f7f7"
            ],
            [
             0.6,
             "#e6f5d0"
            ],
            [
             0.7,
             "#b8e186"
            ],
            [
             0.8,
             "#7fbc41"
            ],
            [
             0.9,
             "#4d9221"
            ],
            [
             1,
             "#276419"
            ]
           ],
           "sequential": [
            [
             0,
             "#0d0887"
            ],
            [
             0.1111111111111111,
             "#46039f"
            ],
            [
             0.2222222222222222,
             "#7201a8"
            ],
            [
             0.3333333333333333,
             "#9c179e"
            ],
            [
             0.4444444444444444,
             "#bd3786"
            ],
            [
             0.5555555555555556,
             "#d8576b"
            ],
            [
             0.6666666666666666,
             "#ed7953"
            ],
            [
             0.7777777777777778,
             "#fb9f3a"
            ],
            [
             0.8888888888888888,
             "#fdca26"
            ],
            [
             1,
             "#f0f921"
            ]
           ],
           "sequentialminus": [
            [
             0,
             "#0d0887"
            ],
            [
             0.1111111111111111,
             "#46039f"
            ],
            [
             0.2222222222222222,
             "#7201a8"
            ],
            [
             0.3333333333333333,
             "#9c179e"
            ],
            [
             0.4444444444444444,
             "#bd3786"
            ],
            [
             0.5555555555555556,
             "#d8576b"
            ],
            [
             0.6666666666666666,
             "#ed7953"
            ],
            [
             0.7777777777777778,
             "#fb9f3a"
            ],
            [
             0.8888888888888888,
             "#fdca26"
            ],
            [
             1,
             "#f0f921"
            ]
           ]
          },
          "colorway": [
           "#636efa",
           "#EF553B",
           "#00cc96",
           "#ab63fa",
           "#FFA15A",
           "#19d3f3",
           "#FF6692",
           "#B6E880",
           "#FF97FF",
           "#FECB52"
          ],
          "font": {
           "color": "#2a3f5f"
          },
          "geo": {
           "bgcolor": "white",
           "lakecolor": "white",
           "landcolor": "#E5ECF6",
           "showlakes": true,
           "showland": true,
           "subunitcolor": "white"
          },
          "hoverlabel": {
           "align": "left"
          },
          "hovermode": "closest",
          "mapbox": {
           "style": "light"
          },
          "paper_bgcolor": "white",
          "plot_bgcolor": "#E5ECF6",
          "polar": {
           "angularaxis": {
            "gridcolor": "white",
            "linecolor": "white",
            "ticks": ""
           },
           "bgcolor": "#E5ECF6",
           "radialaxis": {
            "gridcolor": "white",
            "linecolor": "white",
            "ticks": ""
           }
          },
          "scene": {
           "xaxis": {
            "backgroundcolor": "#E5ECF6",
            "gridcolor": "white",
            "gridwidth": 2,
            "linecolor": "white",
            "showbackground": true,
            "ticks": "",
            "zerolinecolor": "white"
           },
           "yaxis": {
            "backgroundcolor": "#E5ECF6",
            "gridcolor": "white",
            "gridwidth": 2,
            "linecolor": "white",
            "showbackground": true,
            "ticks": "",
            "zerolinecolor": "white"
           },
           "zaxis": {
            "backgroundcolor": "#E5ECF6",
            "gridcolor": "white",
            "gridwidth": 2,
            "linecolor": "white",
            "showbackground": true,
            "ticks": "",
            "zerolinecolor": "white"
           }
          },
          "shapedefaults": {
           "line": {
            "color": "#2a3f5f"
           }
          },
          "ternary": {
           "aaxis": {
            "gridcolor": "white",
            "linecolor": "white",
            "ticks": ""
           },
           "baxis": {
            "gridcolor": "white",
            "linecolor": "white",
            "ticks": ""
           },
           "bgcolor": "#E5ECF6",
           "caxis": {
            "gridcolor": "white",
            "linecolor": "white",
            "ticks": ""
           }
          },
          "title": {
           "x": 0.05
          },
          "xaxis": {
           "automargin": true,
           "gridcolor": "white",
           "linecolor": "white",
           "ticks": "",
           "title": {
            "standoff": 15
           },
           "zerolinecolor": "white",
           "zerolinewidth": 2
          },
          "yaxis": {
           "automargin": true,
           "gridcolor": "white",
           "linecolor": "white",
           "ticks": "",
           "title": {
            "standoff": 15
           },
           "zerolinecolor": "white",
           "zerolinewidth": 2
          }
         }
        },
        "title": {
         "text": "Hyperparameter Importances"
        },
        "xaxis": {
         "title": {
          "text": "Hyperparameter Importance"
         }
        },
        "yaxis": {
         "title": {
          "text": "Hyperparameter"
         }
        }
       }
      }
     },
     "metadata": {},
     "output_type": "display_data"
    }
   ],
   "source": [
    "# 파라미터의 중요도 플롯\n",
    "optuna.visualization.plot_param_importances(study)"
   ]
  },
  {
   "cell_type": "code",
   "execution_count": 9,
   "metadata": {},
   "outputs": [
    {
     "data": {
      "application/vnd.plotly.v1+json": {
       "config": {
        "plotlyServerURL": "https://plot.ly"
       },
       "data": [
        {
         "dimensions": [
          {
           "label": "Objective Value",
           "range": [
            -2.654841342009604,
            0.9510938405990601
           ],
           "values": [
            -0.002965121273882687,
            0.5344814777374267,
            -2.654841342009604,
            -0.002989025099668652,
            0.768088448047638,
            -0.0025071573560126125,
            -0.006292815506458283,
            0.8728316903114319,
            -0.003168740274850279,
            -0.0030974913970567286,
            0.6596721291542054,
            0.6561193943023682,
            0.5779853820800781,
            0.8952014803886413,
            0.9308592319488526,
            0.6833253383636475,
            0.1949504780350253,
            -0.0029816627386026083,
            0.9061066389083863,
            -0.002953987184446305,
            0.8807854652404785,
            0.6093916058540344,
            0.6199948072433472,
            0.6726077914237976,
            0.6486811637878418,
            0.20410634726285934,
            0.9318232893943786,
            -0.23901967068668456,
            0.5028126024641096,
            0.8350015044212341,
            0.5846830844879151,
            0.9217611312866211,
            0.6173703789710998,
            0.930033278465271,
            0.7824608087539673,
            0.6785212635993958,
            0.8807787299156189,
            0.9313088417053222,
            0.2997381627559662,
            0.6467797160148621,
            0.9253352046012878,
            0.9429897904396057,
            0.9398759245872498,
            0.8063497185707093,
            0.6131300806999207,
            0.9510938405990601,
            0.9449265360832214,
            0.7708857536315918,
            0.4385568559169769,
            0.8945684552192688,
            -0.0036670066649094222,
            -0.0029783200938254596,
            0.9212105393409729,
            0.9344869375228881,
            0.9345736622810363,
            0.9351139068603516,
            0.949070680141449,
            0.8808156967163085,
            0.9155785322189331,
            0.9465735197067261,
            0.9490415334701539,
            0.8834969282150269,
            0.6121013164520264,
            0.9422675371170044,
            0.9367935061454773,
            0.8461429357528687,
            0.9207988739013672,
            0.74844411611557,
            0.932323944568634,
            0.9375185370445251,
            0.9437841653823853,
            0.7920295715332031,
            0.945623254776001,
            0.9387853026390076,
            0.9480822563171387,
            0.9368132710456848,
            0.8665874600410461,
            0.9374355196952819,
            0.9452745676040649,
            0.9202879667282104,
            0.9221655011177063,
            0.9120074272155761,
            0.9369735717773438,
            0.9450478553771973,
            0.9286145448684693,
            0.9417712926864624,
            0.8749983787536622,
            0.949284017086029,
            0.9436989665031433,
            0.9491367340087891,
            0.9275494575500488,
            0.9416497111320495,
            0.9296018719673157,
            0.9344072103500366,
            0.9458000659942627,
            0.937102222442627,
            0.9397958159446717,
            0.9446762800216675,
            0.9474002122879028,
            0.9375841498374939
           ]
          },
          {
           "label": "batch_size",
           "range": [
            16,
            256
           ],
           "values": [
            76,
            175,
            246,
            170,
            199,
            219,
            38,
            173,
            238,
            59,
            96,
            179,
            178,
            109,
            16,
            16,
            16,
            16,
            16,
            16,
            114,
            256,
            16,
            256,
            16,
            256,
            16,
            256,
            31,
            16,
            16,
            16,
            256,
            256,
            16,
            16,
            16,
            256,
            16,
            256,
            16,
            256,
            256,
            16,
            16,
            16,
            16,
            16,
            16,
            16,
            16,
            16,
            256,
            16,
            16,
            256,
            16,
            16,
            16,
            256,
            116,
            16,
            16,
            16,
            256,
            256,
            16,
            256,
            256,
            16,
            16,
            16,
            16,
            256,
            16,
            16,
            256,
            180,
            256,
            256,
            16,
            16,
            256,
            256,
            16,
            16,
            16,
            256,
            16,
            256,
            256,
            256,
            16,
            16,
            16,
            256,
            256,
            16,
            174,
            256
           ]
          },
          {
           "label": "hidden_layers",
           "range": [
            1,
            20
           ],
           "values": [
            16,
            5,
            17,
            12,
            4,
            17,
            9,
            6,
            10,
            15,
            5,
            4,
            3,
            6,
            9,
            8,
            7,
            10,
            10,
            20,
            8,
            2,
            1,
            1,
            1,
            1,
            7,
            8,
            9,
            1,
            1,
            7,
            2,
            4,
            1,
            8,
            6,
            5,
            1,
            1,
            5,
            3,
            4,
            5,
            1,
            4,
            3,
            1,
            1,
            7,
            16,
            20,
            7,
            5,
            5,
            6,
            6,
            10,
            5,
            4,
            5,
            4,
            1,
            4,
            4,
            1,
            8,
            1,
            5,
            5,
            6,
            7,
            10,
            5,
            4,
            5,
            4,
            4,
            5,
            9,
            5,
            5,
            5,
            6,
            3,
            3,
            6,
            4,
            6,
            4,
            5,
            5,
            10,
            4,
            8,
            5,
            5,
            4,
            4,
            5
           ]
          },
          {
           "label": "hidden_nodes",
           "range": [
            8,
            128
           ],
           "values": [
            66,
            123,
            61,
            20,
            49,
            60,
            22,
            93,
            60,
            87,
            71,
            128,
            8,
            128,
            128,
            8,
            8,
            128,
            128,
            128,
            128,
            8,
            8,
            128,
            128,
            8,
            128,
            128,
            128,
            103,
            107,
            123,
            8,
            128,
            128,
            8,
            128,
            128,
            128,
            8,
            128,
            128,
            128,
            8,
            128,
            128,
            128,
            128,
            8,
            128,
            128,
            128,
            128,
            128,
            128,
            128,
            128,
            128,
            128,
            128,
            128,
            128,
            128,
            128,
            128,
            128,
            128,
            128,
            128,
            128,
            128,
            128,
            128,
            75,
            128,
            128,
            128,
            118,
            99,
            128,
            128,
            128,
            128,
            128,
            128,
            128,
            77,
            128,
            128,
            103,
            128,
            82,
            128,
            128,
            128,
            123,
            108,
            128,
            128,
            128
           ]
          },
          {
           "label": "learning_rate",
           "range": [
            -3.9999999999999996,
            -1
           ],
           "ticktext": [
            "0.0001",
            "0.001",
            "0.01",
            "0.1"
           ],
           "tickvals": [
            -3.9999999999999996,
            -3,
            -2,
            -1
           ],
           "values": [
            -3.0532938284411166,
            -1.4736133014106512,
            -1.3842351133886932,
            -2.7897860279721103,
            -3.724498652076479,
            -1.6823649423213907,
            -1.3089931949521012,
            -2.1654880412455704,
            -1.8404985581187987,
            -2.299976831401466,
            -3.9999999999999996,
            -3.2299640555360583,
            -1,
            -3.8149894994919396,
            -3.9999999999999996,
            -3.9999999999999996,
            -1.4920299045816563,
            -3.9999999999999996,
            -3.9999999999999996,
            -3.9999999999999996,
            -3.9999999999999996,
            -3.9999999999999996,
            -3.9999999999999996,
            -1,
            -3.9999999999999996,
            -3.9999999999999996,
            -3.9999999999999996,
            -1,
            -3.9999999999999996,
            -2.3830930518272497,
            -1.8733078013586666,
            -2.9017522460991256,
            -2.246825861693869,
            -2.4804137918176505,
            -3.3673815029089984,
            -3.686763125718417,
            -2.3690031423757616,
            -2.5906718316735065,
            -1,
            -1.7561628129709135,
            -2.596268863678565,
            -2.894076602285981,
            -3.010206047846131,
            -2.8123153929051403,
            -3.9999999999999996,
            -3.2371940967437163,
            -2.8032241920659784,
            -2.441414118474032,
            -1,
            -2.578661589468398,
            -2.344956467029126,
            -3.9999999999999996,
            -2.7088254666244977,
            -2.9428049605990627,
            -3.9999999999999996,
            -2.864768522249947,
            -3.5584719843624635,
            -3.0427600994211503,
            -2.4545738608409624,
            -2.546653075194285,
            -2.9382639517817046,
            -2.4761158917619137,
            -3.1605691132363285,
            -2.601778271856656,
            -2.62811585632356,
            -2.3141981080696348,
            -3.082233159823973,
            -1.8914897823874959,
            -2.5004460499511048,
            -2.996215046039049,
            -3.5497379709607384,
            -3.9999999999999996,
            -3.3263699724941342,
            -2.527263030298591,
            -3.5533255832086015,
            -3.1887660595164493,
            -2.947466297863445,
            -2.3735345750096335,
            -2.657057913739685,
            -3.0004375526676976,
            -2.815569301342905,
            -3.9999999999999996,
            -3.299809148284756,
            -2.5300133822488524,
            -3.9999999999999996,
            -3.5826927741603285,
            -2.495856530078115,
            -2.6960464978169743,
            -3.5022205938656357,
            -2.8074098421643456,
            -3.0357101587822797,
            -2.547801528143814,
            -2.9868912835651944,
            -3.3925016459693382,
            -3.3218245608743504,
            -2.6251556334728128,
            -2.4598807017132627,
            -3.7464767996719606,
            -2.7599026309889694,
            -2.7751037266189305
           ]
          },
          {
           "label": "num_epochs",
           "range": [
            100,
            1000
           ],
           "values": [
            390,
            737,
            680,
            260,
            570,
            215,
            222,
            618,
            930,
            630,
            686,
            418,
            576,
            524,
            677,
            1000,
            681,
            1000,
            476,
            100,
            626,
            1000,
            1000,
            100,
            100,
            100,
            555,
            100,
            548,
            761,
            451,
            736,
            923,
            613,
            611,
            660,
            743,
            750,
            1000,
            551,
            628,
            1000,
            789,
            1000,
            504,
            968,
            928,
            100,
            100,
            357,
            100,
            903,
            553,
            445,
            781,
            1000,
            748,
            568,
            482,
            888,
            927,
            1000,
            1000,
            1000,
            325,
            1000,
            1000,
            100,
            495,
            1000,
            917,
            100,
            793,
            701,
            845,
            206,
            100,
            768,
            880,
            827,
            266,
            347,
            920,
            720,
            1000,
            1000,
            799,
            853,
            345,
            907,
            339,
            418,
            821,
            297,
            814,
            436,
            628,
            1000,
            948,
            836
           ]
          },
          {
           "label": "weight_decay",
           "range": [
            -6,
            -2
           ],
           "ticktext": [
            "1e-06",
            "1e-05",
            "0.0001",
            "0.001",
            "0.01"
           ],
           "tickvals": [
            -6,
            -5,
            -4,
            -3,
            -2
           ],
           "values": [
            -2.6488710313280794,
            -3.5798243923415103,
            -4.356065687063912,
            -2.6108937980299656,
            -4.033537663897368,
            -4.972346677641818,
            -3.01976651209566,
            -3.054381325503035,
            -3.8470716104022755,
            -4.750791243255619,
            -2,
            -2,
            -2,
            -6,
            -6,
            -6,
            -6,
            -2,
            -6,
            -6,
            -6,
            -6,
            -6,
            -6,
            -6,
            -6,
            -6,
            -6,
            -2.8515742543994547,
            -5.61308478865571,
            -2,
            -6,
            -2,
            -6,
            -6,
            -6,
            -6,
            -3.563390353453853,
            -6,
            -6,
            -4.111255107532771,
            -6,
            -6,
            -6,
            -2,
            -6,
            -6,
            -6,
            -2,
            -6,
            -6,
            -6,
            -6,
            -6,
            -6,
            -6,
            -6,
            -6,
            -6,
            -6,
            -6,
            -3.5530456289730408,
            -2,
            -6,
            -6,
            -6,
            -6,
            -6,
            -4.445956579014715,
            -6,
            -6,
            -6,
            -6,
            -4.764335726176921,
            -6,
            -6,
            -6,
            -4.362921349503903,
            -5.040934695799462,
            -6,
            -6,
            -6,
            -6,
            -4.749566948176693,
            -6,
            -6,
            -3.854869165471197,
            -5.190651155946345,
            -6,
            -6,
            -6,
            -6,
            -6,
            -6,
            -6,
            -6,
            -4.6320414544550115,
            -6,
            -6,
            -6
           ]
          }
         ],
         "labelangle": 30,
         "labelside": "bottom",
         "line": {
          "color": [
           -0.002965121273882687,
           0.5344814777374267,
           -2.654841342009604,
           -0.002989025099668652,
           0.768088448047638,
           -0.0025071573560126125,
           -0.006292815506458283,
           0.8728316903114319,
           -0.003168740274850279,
           -0.0030974913970567286,
           0.6596721291542054,
           0.6561193943023682,
           0.5779853820800781,
           0.8952014803886413,
           0.9308592319488526,
           0.6833253383636475,
           0.1949504780350253,
           -0.0029816627386026083,
           0.9061066389083863,
           -0.002953987184446305,
           0.8807854652404785,
           0.6093916058540344,
           0.6199948072433472,
           0.6726077914237976,
           0.6486811637878418,
           0.20410634726285934,
           0.9318232893943786,
           -0.23901967068668456,
           0.5028126024641096,
           0.8350015044212341,
           0.5846830844879151,
           0.9217611312866211,
           0.6173703789710998,
           0.930033278465271,
           0.7824608087539673,
           0.6785212635993958,
           0.8807787299156189,
           0.9313088417053222,
           0.2997381627559662,
           0.6467797160148621,
           0.9253352046012878,
           0.9429897904396057,
           0.9398759245872498,
           0.8063497185707093,
           0.6131300806999207,
           0.9510938405990601,
           0.9449265360832214,
           0.7708857536315918,
           0.4385568559169769,
           0.8945684552192688,
           -0.0036670066649094222,
           -0.0029783200938254596,
           0.9212105393409729,
           0.9344869375228881,
           0.9345736622810363,
           0.9351139068603516,
           0.949070680141449,
           0.8808156967163085,
           0.9155785322189331,
           0.9465735197067261,
           0.9490415334701539,
           0.8834969282150269,
           0.6121013164520264,
           0.9422675371170044,
           0.9367935061454773,
           0.8461429357528687,
           0.9207988739013672,
           0.74844411611557,
           0.932323944568634,
           0.9375185370445251,
           0.9437841653823853,
           0.7920295715332031,
           0.945623254776001,
           0.9387853026390076,
           0.9480822563171387,
           0.9368132710456848,
           0.8665874600410461,
           0.9374355196952819,
           0.9452745676040649,
           0.9202879667282104,
           0.9221655011177063,
           0.9120074272155761,
           0.9369735717773438,
           0.9450478553771973,
           0.9286145448684693,
           0.9417712926864624,
           0.8749983787536622,
           0.949284017086029,
           0.9436989665031433,
           0.9491367340087891,
           0.9275494575500488,
           0.9416497111320495,
           0.9296018719673157,
           0.9344072103500366,
           0.9458000659942627,
           0.937102222442627,
           0.9397958159446717,
           0.9446762800216675,
           0.9474002122879028,
           0.9375841498374939
          ],
          "colorbar": {
           "title": {
            "text": "Objective Value"
           }
          },
          "colorscale": [
           [
            0,
            "rgb(247,251,255)"
           ],
           [
            0.125,
            "rgb(222,235,247)"
           ],
           [
            0.25,
            "rgb(198,219,239)"
           ],
           [
            0.375,
            "rgb(158,202,225)"
           ],
           [
            0.5,
            "rgb(107,174,214)"
           ],
           [
            0.625,
            "rgb(66,146,198)"
           ],
           [
            0.75,
            "rgb(33,113,181)"
           ],
           [
            0.875,
            "rgb(8,81,156)"
           ],
           [
            1,
            "rgb(8,48,107)"
           ]
          ],
          "reversescale": false,
          "showscale": true
         },
         "type": "parcoords"
        }
       ],
       "layout": {
        "template": {
         "data": {
          "bar": [
           {
            "error_x": {
             "color": "#2a3f5f"
            },
            "error_y": {
             "color": "#2a3f5f"
            },
            "marker": {
             "line": {
              "color": "#E5ECF6",
              "width": 0.5
             },
             "pattern": {
              "fillmode": "overlay",
              "size": 10,
              "solidity": 0.2
             }
            },
            "type": "bar"
           }
          ],
          "barpolar": [
           {
            "marker": {
             "line": {
              "color": "#E5ECF6",
              "width": 0.5
             },
             "pattern": {
              "fillmode": "overlay",
              "size": 10,
              "solidity": 0.2
             }
            },
            "type": "barpolar"
           }
          ],
          "carpet": [
           {
            "aaxis": {
             "endlinecolor": "#2a3f5f",
             "gridcolor": "white",
             "linecolor": "white",
             "minorgridcolor": "white",
             "startlinecolor": "#2a3f5f"
            },
            "baxis": {
             "endlinecolor": "#2a3f5f",
             "gridcolor": "white",
             "linecolor": "white",
             "minorgridcolor": "white",
             "startlinecolor": "#2a3f5f"
            },
            "type": "carpet"
           }
          ],
          "choropleth": [
           {
            "colorbar": {
             "outlinewidth": 0,
             "ticks": ""
            },
            "type": "choropleth"
           }
          ],
          "contour": [
           {
            "colorbar": {
             "outlinewidth": 0,
             "ticks": ""
            },
            "colorscale": [
             [
              0,
              "#0d0887"
             ],
             [
              0.1111111111111111,
              "#46039f"
             ],
             [
              0.2222222222222222,
              "#7201a8"
             ],
             [
              0.3333333333333333,
              "#9c179e"
             ],
             [
              0.4444444444444444,
              "#bd3786"
             ],
             [
              0.5555555555555556,
              "#d8576b"
             ],
             [
              0.6666666666666666,
              "#ed7953"
             ],
             [
              0.7777777777777778,
              "#fb9f3a"
             ],
             [
              0.8888888888888888,
              "#fdca26"
             ],
             [
              1,
              "#f0f921"
             ]
            ],
            "type": "contour"
           }
          ],
          "contourcarpet": [
           {
            "colorbar": {
             "outlinewidth": 0,
             "ticks": ""
            },
            "type": "contourcarpet"
           }
          ],
          "heatmap": [
           {
            "colorbar": {
             "outlinewidth": 0,
             "ticks": ""
            },
            "colorscale": [
             [
              0,
              "#0d0887"
             ],
             [
              0.1111111111111111,
              "#46039f"
             ],
             [
              0.2222222222222222,
              "#7201a8"
             ],
             [
              0.3333333333333333,
              "#9c179e"
             ],
             [
              0.4444444444444444,
              "#bd3786"
             ],
             [
              0.5555555555555556,
              "#d8576b"
             ],
             [
              0.6666666666666666,
              "#ed7953"
             ],
             [
              0.7777777777777778,
              "#fb9f3a"
             ],
             [
              0.8888888888888888,
              "#fdca26"
             ],
             [
              1,
              "#f0f921"
             ]
            ],
            "type": "heatmap"
           }
          ],
          "histogram": [
           {
            "marker": {
             "pattern": {
              "fillmode": "overlay",
              "size": 10,
              "solidity": 0.2
             }
            },
            "type": "histogram"
           }
          ],
          "histogram2d": [
           {
            "colorbar": {
             "outlinewidth": 0,
             "ticks": ""
            },
            "colorscale": [
             [
              0,
              "#0d0887"
             ],
             [
              0.1111111111111111,
              "#46039f"
             ],
             [
              0.2222222222222222,
              "#7201a8"
             ],
             [
              0.3333333333333333,
              "#9c179e"
             ],
             [
              0.4444444444444444,
              "#bd3786"
             ],
             [
              0.5555555555555556,
              "#d8576b"
             ],
             [
              0.6666666666666666,
              "#ed7953"
             ],
             [
              0.7777777777777778,
              "#fb9f3a"
             ],
             [
              0.8888888888888888,
              "#fdca26"
             ],
             [
              1,
              "#f0f921"
             ]
            ],
            "type": "histogram2d"
           }
          ],
          "histogram2dcontour": [
           {
            "colorbar": {
             "outlinewidth": 0,
             "ticks": ""
            },
            "colorscale": [
             [
              0,
              "#0d0887"
             ],
             [
              0.1111111111111111,
              "#46039f"
             ],
             [
              0.2222222222222222,
              "#7201a8"
             ],
             [
              0.3333333333333333,
              "#9c179e"
             ],
             [
              0.4444444444444444,
              "#bd3786"
             ],
             [
              0.5555555555555556,
              "#d8576b"
             ],
             [
              0.6666666666666666,
              "#ed7953"
             ],
             [
              0.7777777777777778,
              "#fb9f3a"
             ],
             [
              0.8888888888888888,
              "#fdca26"
             ],
             [
              1,
              "#f0f921"
             ]
            ],
            "type": "histogram2dcontour"
           }
          ],
          "mesh3d": [
           {
            "colorbar": {
             "outlinewidth": 0,
             "ticks": ""
            },
            "type": "mesh3d"
           }
          ],
          "parcoords": [
           {
            "line": {
             "colorbar": {
              "outlinewidth": 0,
              "ticks": ""
             }
            },
            "type": "parcoords"
           }
          ],
          "pie": [
           {
            "automargin": true,
            "type": "pie"
           }
          ],
          "scatter": [
           {
            "fillpattern": {
             "fillmode": "overlay",
             "size": 10,
             "solidity": 0.2
            },
            "type": "scatter"
           }
          ],
          "scatter3d": [
           {
            "line": {
             "colorbar": {
              "outlinewidth": 0,
              "ticks": ""
             }
            },
            "marker": {
             "colorbar": {
              "outlinewidth": 0,
              "ticks": ""
             }
            },
            "type": "scatter3d"
           }
          ],
          "scattercarpet": [
           {
            "marker": {
             "colorbar": {
              "outlinewidth": 0,
              "ticks": ""
             }
            },
            "type": "scattercarpet"
           }
          ],
          "scattergeo": [
           {
            "marker": {
             "colorbar": {
              "outlinewidth": 0,
              "ticks": ""
             }
            },
            "type": "scattergeo"
           }
          ],
          "scattergl": [
           {
            "marker": {
             "colorbar": {
              "outlinewidth": 0,
              "ticks": ""
             }
            },
            "type": "scattergl"
           }
          ],
          "scattermap": [
           {
            "marker": {
             "colorbar": {
              "outlinewidth": 0,
              "ticks": ""
             }
            },
            "type": "scattermap"
           }
          ],
          "scattermapbox": [
           {
            "marker": {
             "colorbar": {
              "outlinewidth": 0,
              "ticks": ""
             }
            },
            "type": "scattermapbox"
           }
          ],
          "scatterpolar": [
           {
            "marker": {
             "colorbar": {
              "outlinewidth": 0,
              "ticks": ""
             }
            },
            "type": "scatterpolar"
           }
          ],
          "scatterpolargl": [
           {
            "marker": {
             "colorbar": {
              "outlinewidth": 0,
              "ticks": ""
             }
            },
            "type": "scatterpolargl"
           }
          ],
          "scatterternary": [
           {
            "marker": {
             "colorbar": {
              "outlinewidth": 0,
              "ticks": ""
             }
            },
            "type": "scatterternary"
           }
          ],
          "surface": [
           {
            "colorbar": {
             "outlinewidth": 0,
             "ticks": ""
            },
            "colorscale": [
             [
              0,
              "#0d0887"
             ],
             [
              0.1111111111111111,
              "#46039f"
             ],
             [
              0.2222222222222222,
              "#7201a8"
             ],
             [
              0.3333333333333333,
              "#9c179e"
             ],
             [
              0.4444444444444444,
              "#bd3786"
             ],
             [
              0.5555555555555556,
              "#d8576b"
             ],
             [
              0.6666666666666666,
              "#ed7953"
             ],
             [
              0.7777777777777778,
              "#fb9f3a"
             ],
             [
              0.8888888888888888,
              "#fdca26"
             ],
             [
              1,
              "#f0f921"
             ]
            ],
            "type": "surface"
           }
          ],
          "table": [
           {
            "cells": {
             "fill": {
              "color": "#EBF0F8"
             },
             "line": {
              "color": "white"
             }
            },
            "header": {
             "fill": {
              "color": "#C8D4E3"
             },
             "line": {
              "color": "white"
             }
            },
            "type": "table"
           }
          ]
         },
         "layout": {
          "annotationdefaults": {
           "arrowcolor": "#2a3f5f",
           "arrowhead": 0,
           "arrowwidth": 1
          },
          "autotypenumbers": "strict",
          "coloraxis": {
           "colorbar": {
            "outlinewidth": 0,
            "ticks": ""
           }
          },
          "colorscale": {
           "diverging": [
            [
             0,
             "#8e0152"
            ],
            [
             0.1,
             "#c51b7d"
            ],
            [
             0.2,
             "#de77ae"
            ],
            [
             0.3,
             "#f1b6da"
            ],
            [
             0.4,
             "#fde0ef"
            ],
            [
             0.5,
             "#f7f7f7"
            ],
            [
             0.6,
             "#e6f5d0"
            ],
            [
             0.7,
             "#b8e186"
            ],
            [
             0.8,
             "#7fbc41"
            ],
            [
             0.9,
             "#4d9221"
            ],
            [
             1,
             "#276419"
            ]
           ],
           "sequential": [
            [
             0,
             "#0d0887"
            ],
            [
             0.1111111111111111,
             "#46039f"
            ],
            [
             0.2222222222222222,
             "#7201a8"
            ],
            [
             0.3333333333333333,
             "#9c179e"
            ],
            [
             0.4444444444444444,
             "#bd3786"
            ],
            [
             0.5555555555555556,
             "#d8576b"
            ],
            [
             0.6666666666666666,
             "#ed7953"
            ],
            [
             0.7777777777777778,
             "#fb9f3a"
            ],
            [
             0.8888888888888888,
             "#fdca26"
            ],
            [
             1,
             "#f0f921"
            ]
           ],
           "sequentialminus": [
            [
             0,
             "#0d0887"
            ],
            [
             0.1111111111111111,
             "#46039f"
            ],
            [
             0.2222222222222222,
             "#7201a8"
            ],
            [
             0.3333333333333333,
             "#9c179e"
            ],
            [
             0.4444444444444444,
             "#bd3786"
            ],
            [
             0.5555555555555556,
             "#d8576b"
            ],
            [
             0.6666666666666666,
             "#ed7953"
            ],
            [
             0.7777777777777778,
             "#fb9f3a"
            ],
            [
             0.8888888888888888,
             "#fdca26"
            ],
            [
             1,
             "#f0f921"
            ]
           ]
          },
          "colorway": [
           "#636efa",
           "#EF553B",
           "#00cc96",
           "#ab63fa",
           "#FFA15A",
           "#19d3f3",
           "#FF6692",
           "#B6E880",
           "#FF97FF",
           "#FECB52"
          ],
          "font": {
           "color": "#2a3f5f"
          },
          "geo": {
           "bgcolor": "white",
           "lakecolor": "white",
           "landcolor": "#E5ECF6",
           "showlakes": true,
           "showland": true,
           "subunitcolor": "white"
          },
          "hoverlabel": {
           "align": "left"
          },
          "hovermode": "closest",
          "mapbox": {
           "style": "light"
          },
          "paper_bgcolor": "white",
          "plot_bgcolor": "#E5ECF6",
          "polar": {
           "angularaxis": {
            "gridcolor": "white",
            "linecolor": "white",
            "ticks": ""
           },
           "bgcolor": "#E5ECF6",
           "radialaxis": {
            "gridcolor": "white",
            "linecolor": "white",
            "ticks": ""
           }
          },
          "scene": {
           "xaxis": {
            "backgroundcolor": "#E5ECF6",
            "gridcolor": "white",
            "gridwidth": 2,
            "linecolor": "white",
            "showbackground": true,
            "ticks": "",
            "zerolinecolor": "white"
           },
           "yaxis": {
            "backgroundcolor": "#E5ECF6",
            "gridcolor": "white",
            "gridwidth": 2,
            "linecolor": "white",
            "showbackground": true,
            "ticks": "",
            "zerolinecolor": "white"
           },
           "zaxis": {
            "backgroundcolor": "#E5ECF6",
            "gridcolor": "white",
            "gridwidth": 2,
            "linecolor": "white",
            "showbackground": true,
            "ticks": "",
            "zerolinecolor": "white"
           }
          },
          "shapedefaults": {
           "line": {
            "color": "#2a3f5f"
           }
          },
          "ternary": {
           "aaxis": {
            "gridcolor": "white",
            "linecolor": "white",
            "ticks": ""
           },
           "baxis": {
            "gridcolor": "white",
            "linecolor": "white",
            "ticks": ""
           },
           "bgcolor": "#E5ECF6",
           "caxis": {
            "gridcolor": "white",
            "linecolor": "white",
            "ticks": ""
           }
          },
          "title": {
           "x": 0.05
          },
          "xaxis": {
           "automargin": true,
           "gridcolor": "white",
           "linecolor": "white",
           "ticks": "",
           "title": {
            "standoff": 15
           },
           "zerolinecolor": "white",
           "zerolinewidth": 2
          },
          "yaxis": {
           "automargin": true,
           "gridcolor": "white",
           "linecolor": "white",
           "ticks": "",
           "title": {
            "standoff": 15
           },
           "zerolinecolor": "white",
           "zerolinewidth": 2
          }
         }
        },
        "title": {
         "text": "Parallel Coordinate Plot"
        }
       }
      }
     },
     "metadata": {},
     "output_type": "display_data"
    }
   ],
   "source": [
    "# 파라미터 간의 관계를 보여주는 플롯\n",
    "optuna.visualization.plot_parallel_coordinate(study)"
   ]
  },
  {
   "cell_type": "code",
   "execution_count": 12,
   "metadata": {},
   "outputs": [
    {
     "data": {
      "application/vnd.plotly.v1+json": {
       "config": {
        "plotlyServerURL": "https://plot.ly"
       },
       "data": [
        {
         "marker": {
          "color": [
           0,
           1,
           2,
           3,
           4,
           5,
           6,
           7,
           8,
           9,
           10,
           11,
           12,
           13,
           14,
           15,
           16,
           17,
           18,
           19,
           20,
           21,
           22,
           23,
           24,
           25,
           26,
           27,
           28,
           29,
           30,
           31,
           32,
           33,
           34,
           35,
           36,
           37,
           38,
           39,
           40,
           41,
           42,
           43,
           44,
           45,
           46,
           47,
           48,
           49,
           50,
           51,
           52,
           53,
           54,
           55,
           56,
           57,
           58,
           59,
           60,
           61,
           62,
           63,
           64,
           65,
           66,
           67,
           68,
           69,
           70,
           71,
           72,
           73,
           74,
           75,
           76,
           77,
           78,
           79,
           80,
           81,
           82,
           83,
           84,
           85,
           86,
           87,
           88,
           89,
           90,
           91,
           92,
           93,
           94,
           95,
           96,
           97,
           98,
           99
          ],
          "colorbar": {
           "title": {
            "text": "Trial"
           },
           "x": 1,
           "xpad": 40
          },
          "colorscale": [
           [
            0,
            "rgb(247,251,255)"
           ],
           [
            0.125,
            "rgb(222,235,247)"
           ],
           [
            0.25,
            "rgb(198,219,239)"
           ],
           [
            0.375,
            "rgb(158,202,225)"
           ],
           [
            0.5,
            "rgb(107,174,214)"
           ],
           [
            0.625,
            "rgb(66,146,198)"
           ],
           [
            0.75,
            "rgb(33,113,181)"
           ],
           [
            0.875,
            "rgb(8,81,156)"
           ],
           [
            1,
            "rgb(8,48,107)"
           ]
          ],
          "line": {
           "color": "Grey",
           "width": 0.5
          },
          "showscale": true
         },
         "mode": "markers",
         "name": "Feasible Trial",
         "showlegend": false,
         "type": "scatter",
         "x": [
          76,
          175,
          246,
          170,
          199,
          219,
          38,
          173,
          238,
          59,
          96,
          179,
          178,
          109,
          16,
          16,
          16,
          16,
          16,
          16,
          114,
          256,
          16,
          256,
          16,
          256,
          16,
          256,
          31,
          16,
          16,
          16,
          256,
          256,
          16,
          16,
          16,
          256,
          16,
          256,
          16,
          256,
          256,
          16,
          16,
          16,
          16,
          16,
          16,
          16,
          16,
          16,
          256,
          16,
          16,
          256,
          16,
          16,
          16,
          256,
          116,
          16,
          16,
          16,
          256,
          256,
          16,
          256,
          256,
          16,
          16,
          16,
          16,
          256,
          16,
          16,
          256,
          180,
          256,
          256,
          16,
          16,
          256,
          256,
          16,
          16,
          16,
          256,
          16,
          256,
          256,
          256,
          16,
          16,
          16,
          256,
          256,
          16,
          174,
          256
         ],
         "xaxis": "x",
         "y": [
          -0.002965121273882687,
          0.5344814777374267,
          -2.654841342009604,
          -0.002989025099668652,
          0.768088448047638,
          -0.0025071573560126125,
          -0.006292815506458283,
          0.8728316903114319,
          -0.003168740274850279,
          -0.0030974913970567286,
          0.6596721291542054,
          0.6561193943023682,
          0.5779853820800781,
          0.8952014803886413,
          0.9308592319488526,
          0.6833253383636475,
          0.1949504780350253,
          -0.0029816627386026083,
          0.9061066389083863,
          -0.002953987184446305,
          0.8807854652404785,
          0.6093916058540344,
          0.6199948072433472,
          0.6726077914237976,
          0.6486811637878418,
          0.20410634726285934,
          0.9318232893943786,
          -0.23901967068668456,
          0.5028126024641096,
          0.8350015044212341,
          0.5846830844879151,
          0.9217611312866211,
          0.6173703789710998,
          0.930033278465271,
          0.7824608087539673,
          0.6785212635993958,
          0.8807787299156189,
          0.9313088417053222,
          0.2997381627559662,
          0.6467797160148621,
          0.9253352046012878,
          0.9429897904396057,
          0.9398759245872498,
          0.8063497185707093,
          0.6131300806999207,
          0.9510938405990601,
          0.9449265360832214,
          0.7708857536315918,
          0.4385568559169769,
          0.8945684552192688,
          -0.0036670066649094222,
          -0.0029783200938254596,
          0.9212105393409729,
          0.9344869375228881,
          0.9345736622810363,
          0.9351139068603516,
          0.949070680141449,
          0.8808156967163085,
          0.9155785322189331,
          0.9465735197067261,
          0.9490415334701539,
          0.8834969282150269,
          0.6121013164520264,
          0.9422675371170044,
          0.9367935061454773,
          0.8461429357528687,
          0.9207988739013672,
          0.74844411611557,
          0.932323944568634,
          0.9375185370445251,
          0.9437841653823853,
          0.7920295715332031,
          0.945623254776001,
          0.9387853026390076,
          0.9480822563171387,
          0.9368132710456848,
          0.8665874600410461,
          0.9374355196952819,
          0.9452745676040649,
          0.9202879667282104,
          0.9221655011177063,
          0.9120074272155761,
          0.9369735717773438,
          0.9450478553771973,
          0.9286145448684693,
          0.9417712926864624,
          0.8749983787536622,
          0.949284017086029,
          0.9436989665031433,
          0.9491367340087891,
          0.9275494575500488,
          0.9416497111320495,
          0.9296018719673157,
          0.9344072103500366,
          0.9458000659942627,
          0.937102222442627,
          0.9397958159446717,
          0.9446762800216675,
          0.9474002122879028,
          0.9375841498374939
         ],
         "yaxis": "y"
        },
        {
         "marker": {
          "color": [
           0,
           1,
           2,
           3,
           4,
           5,
           6,
           7,
           8,
           9,
           10,
           11,
           12,
           13,
           14,
           15,
           16,
           17,
           18,
           19,
           20,
           21,
           22,
           23,
           24,
           25,
           26,
           27,
           28,
           29,
           30,
           31,
           32,
           33,
           34,
           35,
           36,
           37,
           38,
           39,
           40,
           41,
           42,
           43,
           44,
           45,
           46,
           47,
           48,
           49,
           50,
           51,
           52,
           53,
           54,
           55,
           56,
           57,
           58,
           59,
           60,
           61,
           62,
           63,
           64,
           65,
           66,
           67,
           68,
           69,
           70,
           71,
           72,
           73,
           74,
           75,
           76,
           77,
           78,
           79,
           80,
           81,
           82,
           83,
           84,
           85,
           86,
           87,
           88,
           89,
           90,
           91,
           92,
           93,
           94,
           95,
           96,
           97,
           98,
           99
          ],
          "colorbar": {
           "title": {
            "text": "Trial"
           },
           "x": 1,
           "xpad": 40
          },
          "colorscale": [
           [
            0,
            "rgb(247,251,255)"
           ],
           [
            0.125,
            "rgb(222,235,247)"
           ],
           [
            0.25,
            "rgb(198,219,239)"
           ],
           [
            0.375,
            "rgb(158,202,225)"
           ],
           [
            0.5,
            "rgb(107,174,214)"
           ],
           [
            0.625,
            "rgb(66,146,198)"
           ],
           [
            0.75,
            "rgb(33,113,181)"
           ],
           [
            0.875,
            "rgb(8,81,156)"
           ],
           [
            1,
            "rgb(8,48,107)"
           ]
          ],
          "line": {
           "color": "Grey",
           "width": 0.5
          },
          "showscale": false
         },
         "mode": "markers",
         "name": "Feasible Trial",
         "showlegend": false,
         "type": "scatter",
         "x": [
          16,
          5,
          17,
          12,
          4,
          17,
          9,
          6,
          10,
          15,
          5,
          4,
          3,
          6,
          9,
          8,
          7,
          10,
          10,
          20,
          8,
          2,
          1,
          1,
          1,
          1,
          7,
          8,
          9,
          1,
          1,
          7,
          2,
          4,
          1,
          8,
          6,
          5,
          1,
          1,
          5,
          3,
          4,
          5,
          1,
          4,
          3,
          1,
          1,
          7,
          16,
          20,
          7,
          5,
          5,
          6,
          6,
          10,
          5,
          4,
          5,
          4,
          1,
          4,
          4,
          1,
          8,
          1,
          5,
          5,
          6,
          7,
          10,
          5,
          4,
          5,
          4,
          4,
          5,
          9,
          5,
          5,
          5,
          6,
          3,
          3,
          6,
          4,
          6,
          4,
          5,
          5,
          10,
          4,
          8,
          5,
          5,
          4,
          4,
          5
         ],
         "xaxis": "x2",
         "y": [
          -0.002965121273882687,
          0.5344814777374267,
          -2.654841342009604,
          -0.002989025099668652,
          0.768088448047638,
          -0.0025071573560126125,
          -0.006292815506458283,
          0.8728316903114319,
          -0.003168740274850279,
          -0.0030974913970567286,
          0.6596721291542054,
          0.6561193943023682,
          0.5779853820800781,
          0.8952014803886413,
          0.9308592319488526,
          0.6833253383636475,
          0.1949504780350253,
          -0.0029816627386026083,
          0.9061066389083863,
          -0.002953987184446305,
          0.8807854652404785,
          0.6093916058540344,
          0.6199948072433472,
          0.6726077914237976,
          0.6486811637878418,
          0.20410634726285934,
          0.9318232893943786,
          -0.23901967068668456,
          0.5028126024641096,
          0.8350015044212341,
          0.5846830844879151,
          0.9217611312866211,
          0.6173703789710998,
          0.930033278465271,
          0.7824608087539673,
          0.6785212635993958,
          0.8807787299156189,
          0.9313088417053222,
          0.2997381627559662,
          0.6467797160148621,
          0.9253352046012878,
          0.9429897904396057,
          0.9398759245872498,
          0.8063497185707093,
          0.6131300806999207,
          0.9510938405990601,
          0.9449265360832214,
          0.7708857536315918,
          0.4385568559169769,
          0.8945684552192688,
          -0.0036670066649094222,
          -0.0029783200938254596,
          0.9212105393409729,
          0.9344869375228881,
          0.9345736622810363,
          0.9351139068603516,
          0.949070680141449,
          0.8808156967163085,
          0.9155785322189331,
          0.9465735197067261,
          0.9490415334701539,
          0.8834969282150269,
          0.6121013164520264,
          0.9422675371170044,
          0.9367935061454773,
          0.8461429357528687,
          0.9207988739013672,
          0.74844411611557,
          0.932323944568634,
          0.9375185370445251,
          0.9437841653823853,
          0.7920295715332031,
          0.945623254776001,
          0.9387853026390076,
          0.9480822563171387,
          0.9368132710456848,
          0.8665874600410461,
          0.9374355196952819,
          0.9452745676040649,
          0.9202879667282104,
          0.9221655011177063,
          0.9120074272155761,
          0.9369735717773438,
          0.9450478553771973,
          0.9286145448684693,
          0.9417712926864624,
          0.8749983787536622,
          0.949284017086029,
          0.9436989665031433,
          0.9491367340087891,
          0.9275494575500488,
          0.9416497111320495,
          0.9296018719673157,
          0.9344072103500366,
          0.9458000659942627,
          0.937102222442627,
          0.9397958159446717,
          0.9446762800216675,
          0.9474002122879028,
          0.9375841498374939
         ],
         "yaxis": "y2"
        },
        {
         "marker": {
          "color": [
           0,
           1,
           2,
           3,
           4,
           5,
           6,
           7,
           8,
           9,
           10,
           11,
           12,
           13,
           14,
           15,
           16,
           17,
           18,
           19,
           20,
           21,
           22,
           23,
           24,
           25,
           26,
           27,
           28,
           29,
           30,
           31,
           32,
           33,
           34,
           35,
           36,
           37,
           38,
           39,
           40,
           41,
           42,
           43,
           44,
           45,
           46,
           47,
           48,
           49,
           50,
           51,
           52,
           53,
           54,
           55,
           56,
           57,
           58,
           59,
           60,
           61,
           62,
           63,
           64,
           65,
           66,
           67,
           68,
           69,
           70,
           71,
           72,
           73,
           74,
           75,
           76,
           77,
           78,
           79,
           80,
           81,
           82,
           83,
           84,
           85,
           86,
           87,
           88,
           89,
           90,
           91,
           92,
           93,
           94,
           95,
           96,
           97,
           98,
           99
          ],
          "colorbar": {
           "title": {
            "text": "Trial"
           },
           "x": 1,
           "xpad": 40
          },
          "colorscale": [
           [
            0,
            "rgb(247,251,255)"
           ],
           [
            0.125,
            "rgb(222,235,247)"
           ],
           [
            0.25,
            "rgb(198,219,239)"
           ],
           [
            0.375,
            "rgb(158,202,225)"
           ],
           [
            0.5,
            "rgb(107,174,214)"
           ],
           [
            0.625,
            "rgb(66,146,198)"
           ],
           [
            0.75,
            "rgb(33,113,181)"
           ],
           [
            0.875,
            "rgb(8,81,156)"
           ],
           [
            1,
            "rgb(8,48,107)"
           ]
          ],
          "line": {
           "color": "Grey",
           "width": 0.5
          },
          "showscale": false
         },
         "mode": "markers",
         "name": "Feasible Trial",
         "showlegend": false,
         "type": "scatter",
         "x": [
          66,
          123,
          61,
          20,
          49,
          60,
          22,
          93,
          60,
          87,
          71,
          128,
          8,
          128,
          128,
          8,
          8,
          128,
          128,
          128,
          128,
          8,
          8,
          128,
          128,
          8,
          128,
          128,
          128,
          103,
          107,
          123,
          8,
          128,
          128,
          8,
          128,
          128,
          128,
          8,
          128,
          128,
          128,
          8,
          128,
          128,
          128,
          128,
          8,
          128,
          128,
          128,
          128,
          128,
          128,
          128,
          128,
          128,
          128,
          128,
          128,
          128,
          128,
          128,
          128,
          128,
          128,
          128,
          128,
          128,
          128,
          128,
          128,
          75,
          128,
          128,
          128,
          118,
          99,
          128,
          128,
          128,
          128,
          128,
          128,
          128,
          77,
          128,
          128,
          103,
          128,
          82,
          128,
          128,
          128,
          123,
          108,
          128,
          128,
          128
         ],
         "xaxis": "x3",
         "y": [
          -0.002965121273882687,
          0.5344814777374267,
          -2.654841342009604,
          -0.002989025099668652,
          0.768088448047638,
          -0.0025071573560126125,
          -0.006292815506458283,
          0.8728316903114319,
          -0.003168740274850279,
          -0.0030974913970567286,
          0.6596721291542054,
          0.6561193943023682,
          0.5779853820800781,
          0.8952014803886413,
          0.9308592319488526,
          0.6833253383636475,
          0.1949504780350253,
          -0.0029816627386026083,
          0.9061066389083863,
          -0.002953987184446305,
          0.8807854652404785,
          0.6093916058540344,
          0.6199948072433472,
          0.6726077914237976,
          0.6486811637878418,
          0.20410634726285934,
          0.9318232893943786,
          -0.23901967068668456,
          0.5028126024641096,
          0.8350015044212341,
          0.5846830844879151,
          0.9217611312866211,
          0.6173703789710998,
          0.930033278465271,
          0.7824608087539673,
          0.6785212635993958,
          0.8807787299156189,
          0.9313088417053222,
          0.2997381627559662,
          0.6467797160148621,
          0.9253352046012878,
          0.9429897904396057,
          0.9398759245872498,
          0.8063497185707093,
          0.6131300806999207,
          0.9510938405990601,
          0.9449265360832214,
          0.7708857536315918,
          0.4385568559169769,
          0.8945684552192688,
          -0.0036670066649094222,
          -0.0029783200938254596,
          0.9212105393409729,
          0.9344869375228881,
          0.9345736622810363,
          0.9351139068603516,
          0.949070680141449,
          0.8808156967163085,
          0.9155785322189331,
          0.9465735197067261,
          0.9490415334701539,
          0.8834969282150269,
          0.6121013164520264,
          0.9422675371170044,
          0.9367935061454773,
          0.8461429357528687,
          0.9207988739013672,
          0.74844411611557,
          0.932323944568634,
          0.9375185370445251,
          0.9437841653823853,
          0.7920295715332031,
          0.945623254776001,
          0.9387853026390076,
          0.9480822563171387,
          0.9368132710456848,
          0.8665874600410461,
          0.9374355196952819,
          0.9452745676040649,
          0.9202879667282104,
          0.9221655011177063,
          0.9120074272155761,
          0.9369735717773438,
          0.9450478553771973,
          0.9286145448684693,
          0.9417712926864624,
          0.8749983787536622,
          0.949284017086029,
          0.9436989665031433,
          0.9491367340087891,
          0.9275494575500488,
          0.9416497111320495,
          0.9296018719673157,
          0.9344072103500366,
          0.9458000659942627,
          0.937102222442627,
          0.9397958159446717,
          0.9446762800216675,
          0.9474002122879028,
          0.9375841498374939
         ],
         "yaxis": "y3"
        },
        {
         "marker": {
          "color": [
           0,
           1,
           2,
           3,
           4,
           5,
           6,
           7,
           8,
           9,
           10,
           11,
           12,
           13,
           14,
           15,
           16,
           17,
           18,
           19,
           20,
           21,
           22,
           23,
           24,
           25,
           26,
           27,
           28,
           29,
           30,
           31,
           32,
           33,
           34,
           35,
           36,
           37,
           38,
           39,
           40,
           41,
           42,
           43,
           44,
           45,
           46,
           47,
           48,
           49,
           50,
           51,
           52,
           53,
           54,
           55,
           56,
           57,
           58,
           59,
           60,
           61,
           62,
           63,
           64,
           65,
           66,
           67,
           68,
           69,
           70,
           71,
           72,
           73,
           74,
           75,
           76,
           77,
           78,
           79,
           80,
           81,
           82,
           83,
           84,
           85,
           86,
           87,
           88,
           89,
           90,
           91,
           92,
           93,
           94,
           95,
           96,
           97,
           98,
           99
          ],
          "colorbar": {
           "title": {
            "text": "Trial"
           },
           "x": 1,
           "xpad": 40
          },
          "colorscale": [
           [
            0,
            "rgb(247,251,255)"
           ],
           [
            0.125,
            "rgb(222,235,247)"
           ],
           [
            0.25,
            "rgb(198,219,239)"
           ],
           [
            0.375,
            "rgb(158,202,225)"
           ],
           [
            0.5,
            "rgb(107,174,214)"
           ],
           [
            0.625,
            "rgb(66,146,198)"
           ],
           [
            0.75,
            "rgb(33,113,181)"
           ],
           [
            0.875,
            "rgb(8,81,156)"
           ],
           [
            1,
            "rgb(8,48,107)"
           ]
          ],
          "line": {
           "color": "Grey",
           "width": 0.5
          },
          "showscale": false
         },
         "mode": "markers",
         "name": "Feasible Trial",
         "showlegend": false,
         "type": "scatter",
         "x": [
          0.0008845169741293398,
          0.0336036690295711,
          0.04128239515659455,
          0.001622609341905694,
          0.00018858248225320532,
          0.020779498296771136,
          0.049091556834746884,
          0.0068314352879445175,
          0.014437813977152145,
          0.005012139715114204,
          0.00010000000000000009,
          0.0005888923931276162,
          0.1,
          0.00015311244812419466,
          0.00010000000000000009,
          0.00010000000000000009,
          0.03220847003067321,
          0.00010000000000000009,
          0.00010000000000000009,
          0.00010000000000000009,
          0.00010000000000000009,
          0.00010000000000000009,
          0.00010000000000000009,
          0.1,
          0.00010000000000000009,
          0.00010000000000000009,
          0.00010000000000000009,
          0.1,
          0.00010000000000000009,
          0.004139109808548913,
          0.013387275429387176,
          0.0012538562639006262,
          0.005664663785499502,
          0.003308157730273842,
          0.00042915926921563717,
          0.00020570122322460582,
          0.004275597924940677,
          0.002566422584011524,
          0.1,
          0.017532231115504917,
          0.0025335596649758,
          0.0012762136861997587,
          0.0009767736878598323,
          0.0015405812472289446,
          0.00010000000000000009,
          0.0005791697935397798,
          0.0015731705506563283,
          0.0036189774876354826,
          0.1,
          0.002638386466025978,
          0.004519012399483052,
          0.00010000000000000009,
          0.0019551250195466753,
          0.001140761982834525,
          0.00010000000000000009,
          0.0013653106494665352,
          0.0002763936210492899,
          0.0009062330580966089,
          0.003510962082003734,
          0.0028401869316551213,
          0.0011527524348677854,
          0.0033410587176250115,
          0.0006909249674727399,
          0.0025016222337384737,
          0.002354421113442954,
          0.0048506718110839986,
          0.0008274977854230038,
          0.01283837974873367,
          0.0031590314534000958,
          0.001008753266303625,
          0.0002820083899228874,
          0.00010000000000000009,
          0.00047166106523708067,
          0.00296986678817282,
          0.00027968837571540773,
          0.0006474913045883472,
          0.0011285835145095555,
          0.0042312182284269815,
          0.002202632719501652,
          0.0009989930051099488,
          0.001529081727954918,
          0.00010000000000000009,
          0.0005014075299183969,
          0.0029511182901947926,
          0.00010000000000000009,
          0.000261400988672896,
          0.00319259235923677,
          0.002013508661653861,
          0.0003146149864941546,
          0.0015580814528752972,
          0.0009210640701624893,
          0.0028326862329436644,
          0.0010306440880931346,
          0.0004050404100367237,
          0.000476623486420507,
          0.002370524054055519,
          0.0034683211022633782,
          0.00017927643205853212,
          0.0017381904881274713,
          0.0016784031015136414
         ],
         "xaxis": "x4",
         "y": [
          -0.002965121273882687,
          0.5344814777374267,
          -2.654841342009604,
          -0.002989025099668652,
          0.768088448047638,
          -0.0025071573560126125,
          -0.006292815506458283,
          0.8728316903114319,
          -0.003168740274850279,
          -0.0030974913970567286,
          0.6596721291542054,
          0.6561193943023682,
          0.5779853820800781,
          0.8952014803886413,
          0.9308592319488526,
          0.6833253383636475,
          0.1949504780350253,
          -0.0029816627386026083,
          0.9061066389083863,
          -0.002953987184446305,
          0.8807854652404785,
          0.6093916058540344,
          0.6199948072433472,
          0.6726077914237976,
          0.6486811637878418,
          0.20410634726285934,
          0.9318232893943786,
          -0.23901967068668456,
          0.5028126024641096,
          0.8350015044212341,
          0.5846830844879151,
          0.9217611312866211,
          0.6173703789710998,
          0.930033278465271,
          0.7824608087539673,
          0.6785212635993958,
          0.8807787299156189,
          0.9313088417053222,
          0.2997381627559662,
          0.6467797160148621,
          0.9253352046012878,
          0.9429897904396057,
          0.9398759245872498,
          0.8063497185707093,
          0.6131300806999207,
          0.9510938405990601,
          0.9449265360832214,
          0.7708857536315918,
          0.4385568559169769,
          0.8945684552192688,
          -0.0036670066649094222,
          -0.0029783200938254596,
          0.9212105393409729,
          0.9344869375228881,
          0.9345736622810363,
          0.9351139068603516,
          0.949070680141449,
          0.8808156967163085,
          0.9155785322189331,
          0.9465735197067261,
          0.9490415334701539,
          0.8834969282150269,
          0.6121013164520264,
          0.9422675371170044,
          0.9367935061454773,
          0.8461429357528687,
          0.9207988739013672,
          0.74844411611557,
          0.932323944568634,
          0.9375185370445251,
          0.9437841653823853,
          0.7920295715332031,
          0.945623254776001,
          0.9387853026390076,
          0.9480822563171387,
          0.9368132710456848,
          0.8665874600410461,
          0.9374355196952819,
          0.9452745676040649,
          0.9202879667282104,
          0.9221655011177063,
          0.9120074272155761,
          0.9369735717773438,
          0.9450478553771973,
          0.9286145448684693,
          0.9417712926864624,
          0.8749983787536622,
          0.949284017086029,
          0.9436989665031433,
          0.9491367340087891,
          0.9275494575500488,
          0.9416497111320495,
          0.9296018719673157,
          0.9344072103500366,
          0.9458000659942627,
          0.937102222442627,
          0.9397958159446717,
          0.9446762800216675,
          0.9474002122879028,
          0.9375841498374939
         ],
         "yaxis": "y4"
        },
        {
         "marker": {
          "color": [
           0,
           1,
           2,
           3,
           4,
           5,
           6,
           7,
           8,
           9,
           10,
           11,
           12,
           13,
           14,
           15,
           16,
           17,
           18,
           19,
           20,
           21,
           22,
           23,
           24,
           25,
           26,
           27,
           28,
           29,
           30,
           31,
           32,
           33,
           34,
           35,
           36,
           37,
           38,
           39,
           40,
           41,
           42,
           43,
           44,
           45,
           46,
           47,
           48,
           49,
           50,
           51,
           52,
           53,
           54,
           55,
           56,
           57,
           58,
           59,
           60,
           61,
           62,
           63,
           64,
           65,
           66,
           67,
           68,
           69,
           70,
           71,
           72,
           73,
           74,
           75,
           76,
           77,
           78,
           79,
           80,
           81,
           82,
           83,
           84,
           85,
           86,
           87,
           88,
           89,
           90,
           91,
           92,
           93,
           94,
           95,
           96,
           97,
           98,
           99
          ],
          "colorbar": {
           "title": {
            "text": "Trial"
           },
           "x": 1,
           "xpad": 40
          },
          "colorscale": [
           [
            0,
            "rgb(247,251,255)"
           ],
           [
            0.125,
            "rgb(222,235,247)"
           ],
           [
            0.25,
            "rgb(198,219,239)"
           ],
           [
            0.375,
            "rgb(158,202,225)"
           ],
           [
            0.5,
            "rgb(107,174,214)"
           ],
           [
            0.625,
            "rgb(66,146,198)"
           ],
           [
            0.75,
            "rgb(33,113,181)"
           ],
           [
            0.875,
            "rgb(8,81,156)"
           ],
           [
            1,
            "rgb(8,48,107)"
           ]
          ],
          "line": {
           "color": "Grey",
           "width": 0.5
          },
          "showscale": false
         },
         "mode": "markers",
         "name": "Feasible Trial",
         "showlegend": false,
         "type": "scatter",
         "x": [
          390,
          737,
          680,
          260,
          570,
          215,
          222,
          618,
          930,
          630,
          686,
          418,
          576,
          524,
          677,
          1000,
          681,
          1000,
          476,
          100,
          626,
          1000,
          1000,
          100,
          100,
          100,
          555,
          100,
          548,
          761,
          451,
          736,
          923,
          613,
          611,
          660,
          743,
          750,
          1000,
          551,
          628,
          1000,
          789,
          1000,
          504,
          968,
          928,
          100,
          100,
          357,
          100,
          903,
          553,
          445,
          781,
          1000,
          748,
          568,
          482,
          888,
          927,
          1000,
          1000,
          1000,
          325,
          1000,
          1000,
          100,
          495,
          1000,
          917,
          100,
          793,
          701,
          845,
          206,
          100,
          768,
          880,
          827,
          266,
          347,
          920,
          720,
          1000,
          1000,
          799,
          853,
          345,
          907,
          339,
          418,
          821,
          297,
          814,
          436,
          628,
          1000,
          948,
          836
         ],
         "xaxis": "x5",
         "y": [
          -0.002965121273882687,
          0.5344814777374267,
          -2.654841342009604,
          -0.002989025099668652,
          0.768088448047638,
          -0.0025071573560126125,
          -0.006292815506458283,
          0.8728316903114319,
          -0.003168740274850279,
          -0.0030974913970567286,
          0.6596721291542054,
          0.6561193943023682,
          0.5779853820800781,
          0.8952014803886413,
          0.9308592319488526,
          0.6833253383636475,
          0.1949504780350253,
          -0.0029816627386026083,
          0.9061066389083863,
          -0.002953987184446305,
          0.8807854652404785,
          0.6093916058540344,
          0.6199948072433472,
          0.6726077914237976,
          0.6486811637878418,
          0.20410634726285934,
          0.9318232893943786,
          -0.23901967068668456,
          0.5028126024641096,
          0.8350015044212341,
          0.5846830844879151,
          0.9217611312866211,
          0.6173703789710998,
          0.930033278465271,
          0.7824608087539673,
          0.6785212635993958,
          0.8807787299156189,
          0.9313088417053222,
          0.2997381627559662,
          0.6467797160148621,
          0.9253352046012878,
          0.9429897904396057,
          0.9398759245872498,
          0.8063497185707093,
          0.6131300806999207,
          0.9510938405990601,
          0.9449265360832214,
          0.7708857536315918,
          0.4385568559169769,
          0.8945684552192688,
          -0.0036670066649094222,
          -0.0029783200938254596,
          0.9212105393409729,
          0.9344869375228881,
          0.9345736622810363,
          0.9351139068603516,
          0.949070680141449,
          0.8808156967163085,
          0.9155785322189331,
          0.9465735197067261,
          0.9490415334701539,
          0.8834969282150269,
          0.6121013164520264,
          0.9422675371170044,
          0.9367935061454773,
          0.8461429357528687,
          0.9207988739013672,
          0.74844411611557,
          0.932323944568634,
          0.9375185370445251,
          0.9437841653823853,
          0.7920295715332031,
          0.945623254776001,
          0.9387853026390076,
          0.9480822563171387,
          0.9368132710456848,
          0.8665874600410461,
          0.9374355196952819,
          0.9452745676040649,
          0.9202879667282104,
          0.9221655011177063,
          0.9120074272155761,
          0.9369735717773438,
          0.9450478553771973,
          0.9286145448684693,
          0.9417712926864624,
          0.8749983787536622,
          0.949284017086029,
          0.9436989665031433,
          0.9491367340087891,
          0.9275494575500488,
          0.9416497111320495,
          0.9296018719673157,
          0.9344072103500366,
          0.9458000659942627,
          0.937102222442627,
          0.9397958159446717,
          0.9446762800216675,
          0.9474002122879028,
          0.9375841498374939
         ],
         "yaxis": "y5"
        },
        {
         "marker": {
          "color": [
           0,
           1,
           2,
           3,
           4,
           5,
           6,
           7,
           8,
           9,
           10,
           11,
           12,
           13,
           14,
           15,
           16,
           17,
           18,
           19,
           20,
           21,
           22,
           23,
           24,
           25,
           26,
           27,
           28,
           29,
           30,
           31,
           32,
           33,
           34,
           35,
           36,
           37,
           38,
           39,
           40,
           41,
           42,
           43,
           44,
           45,
           46,
           47,
           48,
           49,
           50,
           51,
           52,
           53,
           54,
           55,
           56,
           57,
           58,
           59,
           60,
           61,
           62,
           63,
           64,
           65,
           66,
           67,
           68,
           69,
           70,
           71,
           72,
           73,
           74,
           75,
           76,
           77,
           78,
           79,
           80,
           81,
           82,
           83,
           84,
           85,
           86,
           87,
           88,
           89,
           90,
           91,
           92,
           93,
           94,
           95,
           96,
           97,
           98,
           99
          ],
          "colorbar": {
           "title": {
            "text": "Trial"
           },
           "x": 1,
           "xpad": 40
          },
          "colorscale": [
           [
            0,
            "rgb(247,251,255)"
           ],
           [
            0.125,
            "rgb(222,235,247)"
           ],
           [
            0.25,
            "rgb(198,219,239)"
           ],
           [
            0.375,
            "rgb(158,202,225)"
           ],
           [
            0.5,
            "rgb(107,174,214)"
           ],
           [
            0.625,
            "rgb(66,146,198)"
           ],
           [
            0.75,
            "rgb(33,113,181)"
           ],
           [
            0.875,
            "rgb(8,81,156)"
           ],
           [
            1,
            "rgb(8,48,107)"
           ]
          ],
          "line": {
           "color": "Grey",
           "width": 0.5
          },
          "showscale": false
         },
         "mode": "markers",
         "name": "Feasible Trial",
         "showlegend": false,
         "type": "scatter",
         "x": [
          0.002244548368918181,
          0.00026313317599585805,
          0.000044048823459852466,
          0.0024496622067319168,
          0.00009256831023940686,
          0.000010657450455215043,
          0.0009555061526848271,
          0.0008823048661745495,
          0.00014220942800221014,
          0.00001775042503586446,
          0.009999999999999995,
          0.01,
          0.01,
          0.0000010000000000000004,
          0.0000010000000000000004,
          0.0000010000000000000004,
          0.0000010000000000000004,
          0.01,
          0.0000010000000000000004,
          0.0000010000000000000004,
          0.0000010000000000000004,
          0.0000010000000000000004,
          0.0000010000000000000004,
          0.0000010000000000000004,
          0.0000010000000000000004,
          0.0000010000000000000004,
          0.0000010000000000000004,
          0.0000010000000000000004,
          0.0014074265701135226,
          0.000002437334923475133,
          0.01,
          0.0000010000000000000004,
          0.01,
          0.0000010000000000000004,
          0.0000010000000000000004,
          0.0000010000000000000004,
          0.0000010000000000000004,
          0.00027328113110346305,
          0.0000010000000000000004,
          0.0000010000000000000004,
          0.00007740070072611525,
          0.0000010000000000000004,
          0.0000010000000000000004,
          0.0000010000000000000004,
          0.01,
          0.0000010000000000000004,
          0.0000010000000000000004,
          0.0000010000000000000004,
          0.01,
          0.0000010000000000000004,
          0.0000010000000000000004,
          0.0000010000000000000004,
          0.0000010000000000000004,
          0.0000010000000000000004,
          0.0000010000000000000004,
          0.0000010000000000000004,
          0.0000010000000000000004,
          0.0000010000000000000004,
          0.0000010000000000000004,
          0.0000010000000000000004,
          0.0000010000000000000004,
          0.0002798687261248663,
          0.01,
          0.0000010000000000000004,
          0.0000010000000000000004,
          0.0000010000000000000004,
          0.0000010000000000000004,
          0.0000010000000000000004,
          0.0000358132241558123,
          0.0000010000000000000004,
          0.0000010000000000000004,
          0.0000010000000000000004,
          0.0000010000000000000004,
          0.000017205380193423983,
          0.0000010000000000000004,
          0.0000010000000000000004,
          0.0000010000000000000004,
          0.00004335893940828129,
          0.000009100501051941722,
          0.0000010000000000000004,
          0.0000010000000000000004,
          0.0000010000000000000004,
          0.0000010000000000000004,
          0.000017800534855624484,
          0.0000010000000000000004,
          0.0000010000000000000004,
          0.00013967890910577957,
          0.000006446868979088513,
          0.0000010000000000000004,
          0.0000010000000000000004,
          0.0000010000000000000004,
          0.0000010000000000000004,
          0.0000010000000000000004,
          0.0000010000000000000004,
          0.0000010000000000000004,
          0.0000010000000000000004,
          0.00002333235338714898,
          0.0000010000000000000004,
          0.0000010000000000000004,
          0.0000010000000000000004
         ],
         "xaxis": "x6",
         "y": [
          -0.002965121273882687,
          0.5344814777374267,
          -2.654841342009604,
          -0.002989025099668652,
          0.768088448047638,
          -0.0025071573560126125,
          -0.006292815506458283,
          0.8728316903114319,
          -0.003168740274850279,
          -0.0030974913970567286,
          0.6596721291542054,
          0.6561193943023682,
          0.5779853820800781,
          0.8952014803886413,
          0.9308592319488526,
          0.6833253383636475,
          0.1949504780350253,
          -0.0029816627386026083,
          0.9061066389083863,
          -0.002953987184446305,
          0.8807854652404785,
          0.6093916058540344,
          0.6199948072433472,
          0.6726077914237976,
          0.6486811637878418,
          0.20410634726285934,
          0.9318232893943786,
          -0.23901967068668456,
          0.5028126024641096,
          0.8350015044212341,
          0.5846830844879151,
          0.9217611312866211,
          0.6173703789710998,
          0.930033278465271,
          0.7824608087539673,
          0.6785212635993958,
          0.8807787299156189,
          0.9313088417053222,
          0.2997381627559662,
          0.6467797160148621,
          0.9253352046012878,
          0.9429897904396057,
          0.9398759245872498,
          0.8063497185707093,
          0.6131300806999207,
          0.9510938405990601,
          0.9449265360832214,
          0.7708857536315918,
          0.4385568559169769,
          0.8945684552192688,
          -0.0036670066649094222,
          -0.0029783200938254596,
          0.9212105393409729,
          0.9344869375228881,
          0.9345736622810363,
          0.9351139068603516,
          0.949070680141449,
          0.8808156967163085,
          0.9155785322189331,
          0.9465735197067261,
          0.9490415334701539,
          0.8834969282150269,
          0.6121013164520264,
          0.9422675371170044,
          0.9367935061454773,
          0.8461429357528687,
          0.9207988739013672,
          0.74844411611557,
          0.932323944568634,
          0.9375185370445251,
          0.9437841653823853,
          0.7920295715332031,
          0.945623254776001,
          0.9387853026390076,
          0.9480822563171387,
          0.9368132710456848,
          0.8665874600410461,
          0.9374355196952819,
          0.9452745676040649,
          0.9202879667282104,
          0.9221655011177063,
          0.9120074272155761,
          0.9369735717773438,
          0.9450478553771973,
          0.9286145448684693,
          0.9417712926864624,
          0.8749983787536622,
          0.949284017086029,
          0.9436989665031433,
          0.9491367340087891,
          0.9275494575500488,
          0.9416497111320495,
          0.9296018719673157,
          0.9344072103500366,
          0.9458000659942627,
          0.937102222442627,
          0.9397958159446717,
          0.9446762800216675,
          0.9474002122879028,
          0.9375841498374939
         ],
         "yaxis": "y6"
        }
       ],
       "layout": {
        "template": {
         "data": {
          "bar": [
           {
            "error_x": {
             "color": "#2a3f5f"
            },
            "error_y": {
             "color": "#2a3f5f"
            },
            "marker": {
             "line": {
              "color": "#E5ECF6",
              "width": 0.5
             },
             "pattern": {
              "fillmode": "overlay",
              "size": 10,
              "solidity": 0.2
             }
            },
            "type": "bar"
           }
          ],
          "barpolar": [
           {
            "marker": {
             "line": {
              "color": "#E5ECF6",
              "width": 0.5
             },
             "pattern": {
              "fillmode": "overlay",
              "size": 10,
              "solidity": 0.2
             }
            },
            "type": "barpolar"
           }
          ],
          "carpet": [
           {
            "aaxis": {
             "endlinecolor": "#2a3f5f",
             "gridcolor": "white",
             "linecolor": "white",
             "minorgridcolor": "white",
             "startlinecolor": "#2a3f5f"
            },
            "baxis": {
             "endlinecolor": "#2a3f5f",
             "gridcolor": "white",
             "linecolor": "white",
             "minorgridcolor": "white",
             "startlinecolor": "#2a3f5f"
            },
            "type": "carpet"
           }
          ],
          "choropleth": [
           {
            "colorbar": {
             "outlinewidth": 0,
             "ticks": ""
            },
            "type": "choropleth"
           }
          ],
          "contour": [
           {
            "colorbar": {
             "outlinewidth": 0,
             "ticks": ""
            },
            "colorscale": [
             [
              0,
              "#0d0887"
             ],
             [
              0.1111111111111111,
              "#46039f"
             ],
             [
              0.2222222222222222,
              "#7201a8"
             ],
             [
              0.3333333333333333,
              "#9c179e"
             ],
             [
              0.4444444444444444,
              "#bd3786"
             ],
             [
              0.5555555555555556,
              "#d8576b"
             ],
             [
              0.6666666666666666,
              "#ed7953"
             ],
             [
              0.7777777777777778,
              "#fb9f3a"
             ],
             [
              0.8888888888888888,
              "#fdca26"
             ],
             [
              1,
              "#f0f921"
             ]
            ],
            "type": "contour"
           }
          ],
          "contourcarpet": [
           {
            "colorbar": {
             "outlinewidth": 0,
             "ticks": ""
            },
            "type": "contourcarpet"
           }
          ],
          "heatmap": [
           {
            "colorbar": {
             "outlinewidth": 0,
             "ticks": ""
            },
            "colorscale": [
             [
              0,
              "#0d0887"
             ],
             [
              0.1111111111111111,
              "#46039f"
             ],
             [
              0.2222222222222222,
              "#7201a8"
             ],
             [
              0.3333333333333333,
              "#9c179e"
             ],
             [
              0.4444444444444444,
              "#bd3786"
             ],
             [
              0.5555555555555556,
              "#d8576b"
             ],
             [
              0.6666666666666666,
              "#ed7953"
             ],
             [
              0.7777777777777778,
              "#fb9f3a"
             ],
             [
              0.8888888888888888,
              "#fdca26"
             ],
             [
              1,
              "#f0f921"
             ]
            ],
            "type": "heatmap"
           }
          ],
          "histogram": [
           {
            "marker": {
             "pattern": {
              "fillmode": "overlay",
              "size": 10,
              "solidity": 0.2
             }
            },
            "type": "histogram"
           }
          ],
          "histogram2d": [
           {
            "colorbar": {
             "outlinewidth": 0,
             "ticks": ""
            },
            "colorscale": [
             [
              0,
              "#0d0887"
             ],
             [
              0.1111111111111111,
              "#46039f"
             ],
             [
              0.2222222222222222,
              "#7201a8"
             ],
             [
              0.3333333333333333,
              "#9c179e"
             ],
             [
              0.4444444444444444,
              "#bd3786"
             ],
             [
              0.5555555555555556,
              "#d8576b"
             ],
             [
              0.6666666666666666,
              "#ed7953"
             ],
             [
              0.7777777777777778,
              "#fb9f3a"
             ],
             [
              0.8888888888888888,
              "#fdca26"
             ],
             [
              1,
              "#f0f921"
             ]
            ],
            "type": "histogram2d"
           }
          ],
          "histogram2dcontour": [
           {
            "colorbar": {
             "outlinewidth": 0,
             "ticks": ""
            },
            "colorscale": [
             [
              0,
              "#0d0887"
             ],
             [
              0.1111111111111111,
              "#46039f"
             ],
             [
              0.2222222222222222,
              "#7201a8"
             ],
             [
              0.3333333333333333,
              "#9c179e"
             ],
             [
              0.4444444444444444,
              "#bd3786"
             ],
             [
              0.5555555555555556,
              "#d8576b"
             ],
             [
              0.6666666666666666,
              "#ed7953"
             ],
             [
              0.7777777777777778,
              "#fb9f3a"
             ],
             [
              0.8888888888888888,
              "#fdca26"
             ],
             [
              1,
              "#f0f921"
             ]
            ],
            "type": "histogram2dcontour"
           }
          ],
          "mesh3d": [
           {
            "colorbar": {
             "outlinewidth": 0,
             "ticks": ""
            },
            "type": "mesh3d"
           }
          ],
          "parcoords": [
           {
            "line": {
             "colorbar": {
              "outlinewidth": 0,
              "ticks": ""
             }
            },
            "type": "parcoords"
           }
          ],
          "pie": [
           {
            "automargin": true,
            "type": "pie"
           }
          ],
          "scatter": [
           {
            "fillpattern": {
             "fillmode": "overlay",
             "size": 10,
             "solidity": 0.2
            },
            "type": "scatter"
           }
          ],
          "scatter3d": [
           {
            "line": {
             "colorbar": {
              "outlinewidth": 0,
              "ticks": ""
             }
            },
            "marker": {
             "colorbar": {
              "outlinewidth": 0,
              "ticks": ""
             }
            },
            "type": "scatter3d"
           }
          ],
          "scattercarpet": [
           {
            "marker": {
             "colorbar": {
              "outlinewidth": 0,
              "ticks": ""
             }
            },
            "type": "scattercarpet"
           }
          ],
          "scattergeo": [
           {
            "marker": {
             "colorbar": {
              "outlinewidth": 0,
              "ticks": ""
             }
            },
            "type": "scattergeo"
           }
          ],
          "scattergl": [
           {
            "marker": {
             "colorbar": {
              "outlinewidth": 0,
              "ticks": ""
             }
            },
            "type": "scattergl"
           }
          ],
          "scattermap": [
           {
            "marker": {
             "colorbar": {
              "outlinewidth": 0,
              "ticks": ""
             }
            },
            "type": "scattermap"
           }
          ],
          "scattermapbox": [
           {
            "marker": {
             "colorbar": {
              "outlinewidth": 0,
              "ticks": ""
             }
            },
            "type": "scattermapbox"
           }
          ],
          "scatterpolar": [
           {
            "marker": {
             "colorbar": {
              "outlinewidth": 0,
              "ticks": ""
             }
            },
            "type": "scatterpolar"
           }
          ],
          "scatterpolargl": [
           {
            "marker": {
             "colorbar": {
              "outlinewidth": 0,
              "ticks": ""
             }
            },
            "type": "scatterpolargl"
           }
          ],
          "scatterternary": [
           {
            "marker": {
             "colorbar": {
              "outlinewidth": 0,
              "ticks": ""
             }
            },
            "type": "scatterternary"
           }
          ],
          "surface": [
           {
            "colorbar": {
             "outlinewidth": 0,
             "ticks": ""
            },
            "colorscale": [
             [
              0,
              "#0d0887"
             ],
             [
              0.1111111111111111,
              "#46039f"
             ],
             [
              0.2222222222222222,
              "#7201a8"
             ],
             [
              0.3333333333333333,
              "#9c179e"
             ],
             [
              0.4444444444444444,
              "#bd3786"
             ],
             [
              0.5555555555555556,
              "#d8576b"
             ],
             [
              0.6666666666666666,
              "#ed7953"
             ],
             [
              0.7777777777777778,
              "#fb9f3a"
             ],
             [
              0.8888888888888888,
              "#fdca26"
             ],
             [
              1,
              "#f0f921"
             ]
            ],
            "type": "surface"
           }
          ],
          "table": [
           {
            "cells": {
             "fill": {
              "color": "#EBF0F8"
             },
             "line": {
              "color": "white"
             }
            },
            "header": {
             "fill": {
              "color": "#C8D4E3"
             },
             "line": {
              "color": "white"
             }
            },
            "type": "table"
           }
          ]
         },
         "layout": {
          "annotationdefaults": {
           "arrowcolor": "#2a3f5f",
           "arrowhead": 0,
           "arrowwidth": 1
          },
          "autotypenumbers": "strict",
          "coloraxis": {
           "colorbar": {
            "outlinewidth": 0,
            "ticks": ""
           }
          },
          "colorscale": {
           "diverging": [
            [
             0,
             "#8e0152"
            ],
            [
             0.1,
             "#c51b7d"
            ],
            [
             0.2,
             "#de77ae"
            ],
            [
             0.3,
             "#f1b6da"
            ],
            [
             0.4,
             "#fde0ef"
            ],
            [
             0.5,
             "#f7f7f7"
            ],
            [
             0.6,
             "#e6f5d0"
            ],
            [
             0.7,
             "#b8e186"
            ],
            [
             0.8,
             "#7fbc41"
            ],
            [
             0.9,
             "#4d9221"
            ],
            [
             1,
             "#276419"
            ]
           ],
           "sequential": [
            [
             0,
             "#0d0887"
            ],
            [
             0.1111111111111111,
             "#46039f"
            ],
            [
             0.2222222222222222,
             "#7201a8"
            ],
            [
             0.3333333333333333,
             "#9c179e"
            ],
            [
             0.4444444444444444,
             "#bd3786"
            ],
            [
             0.5555555555555556,
             "#d8576b"
            ],
            [
             0.6666666666666666,
             "#ed7953"
            ],
            [
             0.7777777777777778,
             "#fb9f3a"
            ],
            [
             0.8888888888888888,
             "#fdca26"
            ],
            [
             1,
             "#f0f921"
            ]
           ],
           "sequentialminus": [
            [
             0,
             "#0d0887"
            ],
            [
             0.1111111111111111,
             "#46039f"
            ],
            [
             0.2222222222222222,
             "#7201a8"
            ],
            [
             0.3333333333333333,
             "#9c179e"
            ],
            [
             0.4444444444444444,
             "#bd3786"
            ],
            [
             0.5555555555555556,
             "#d8576b"
            ],
            [
             0.6666666666666666,
             "#ed7953"
            ],
            [
             0.7777777777777778,
             "#fb9f3a"
            ],
            [
             0.8888888888888888,
             "#fdca26"
            ],
            [
             1,
             "#f0f921"
            ]
           ]
          },
          "colorway": [
           "#636efa",
           "#EF553B",
           "#00cc96",
           "#ab63fa",
           "#FFA15A",
           "#19d3f3",
           "#FF6692",
           "#B6E880",
           "#FF97FF",
           "#FECB52"
          ],
          "font": {
           "color": "#2a3f5f"
          },
          "geo": {
           "bgcolor": "white",
           "lakecolor": "white",
           "landcolor": "#E5ECF6",
           "showlakes": true,
           "showland": true,
           "subunitcolor": "white"
          },
          "hoverlabel": {
           "align": "left"
          },
          "hovermode": "closest",
          "mapbox": {
           "style": "light"
          },
          "paper_bgcolor": "white",
          "plot_bgcolor": "#E5ECF6",
          "polar": {
           "angularaxis": {
            "gridcolor": "white",
            "linecolor": "white",
            "ticks": ""
           },
           "bgcolor": "#E5ECF6",
           "radialaxis": {
            "gridcolor": "white",
            "linecolor": "white",
            "ticks": ""
           }
          },
          "scene": {
           "xaxis": {
            "backgroundcolor": "#E5ECF6",
            "gridcolor": "white",
            "gridwidth": 2,
            "linecolor": "white",
            "showbackground": true,
            "ticks": "",
            "zerolinecolor": "white"
           },
           "yaxis": {
            "backgroundcolor": "#E5ECF6",
            "gridcolor": "white",
            "gridwidth": 2,
            "linecolor": "white",
            "showbackground": true,
            "ticks": "",
            "zerolinecolor": "white"
           },
           "zaxis": {
            "backgroundcolor": "#E5ECF6",
            "gridcolor": "white",
            "gridwidth": 2,
            "linecolor": "white",
            "showbackground": true,
            "ticks": "",
            "zerolinecolor": "white"
           }
          },
          "shapedefaults": {
           "line": {
            "color": "#2a3f5f"
           }
          },
          "ternary": {
           "aaxis": {
            "gridcolor": "white",
            "linecolor": "white",
            "ticks": ""
           },
           "baxis": {
            "gridcolor": "white",
            "linecolor": "white",
            "ticks": ""
           },
           "bgcolor": "#E5ECF6",
           "caxis": {
            "gridcolor": "white",
            "linecolor": "white",
            "ticks": ""
           }
          },
          "title": {
           "x": 0.05
          },
          "xaxis": {
           "automargin": true,
           "gridcolor": "white",
           "linecolor": "white",
           "ticks": "",
           "title": {
            "standoff": 15
           },
           "zerolinecolor": "white",
           "zerolinewidth": 2
          },
          "yaxis": {
           "automargin": true,
           "gridcolor": "white",
           "linecolor": "white",
           "ticks": "",
           "title": {
            "standoff": 15
           },
           "zerolinecolor": "white",
           "zerolinewidth": 2
          }
         }
        },
        "title": {
         "text": "Slice Plot"
        },
        "width": 1800,
        "xaxis": {
         "anchor": "y",
         "domain": [
          0,
          0.1388888888888889
         ],
         "title": {
          "text": "batch_size"
         }
        },
        "xaxis2": {
         "anchor": "y2",
         "domain": [
          0.17222222222222222,
          0.3111111111111111
         ],
         "title": {
          "text": "hidden_layers"
         }
        },
        "xaxis3": {
         "anchor": "y3",
         "domain": [
          0.34444444444444444,
          0.48333333333333334
         ],
         "title": {
          "text": "hidden_nodes"
         }
        },
        "xaxis4": {
         "anchor": "y4",
         "domain": [
          0.5166666666666667,
          0.6555555555555557
         ],
         "title": {
          "text": "learning_rate"
         },
         "type": "log"
        },
        "xaxis5": {
         "anchor": "y5",
         "domain": [
          0.6888888888888889,
          0.8277777777777777
         ],
         "title": {
          "text": "num_epochs"
         }
        },
        "xaxis6": {
         "anchor": "y6",
         "domain": [
          0.861111111111111,
          1
         ],
         "title": {
          "text": "weight_decay"
         },
         "type": "log"
        },
        "yaxis": {
         "anchor": "x",
         "domain": [
          0,
          1
         ],
         "title": {
          "text": "Objective Value"
         }
        },
        "yaxis2": {
         "anchor": "x2",
         "domain": [
          0,
          1
         ],
         "matches": "y",
         "showticklabels": false
        },
        "yaxis3": {
         "anchor": "x3",
         "domain": [
          0,
          1
         ],
         "matches": "y",
         "showticklabels": false
        },
        "yaxis4": {
         "anchor": "x4",
         "domain": [
          0,
          1
         ],
         "matches": "y",
         "showticklabels": false
        },
        "yaxis5": {
         "anchor": "x5",
         "domain": [
          0,
          1
         ],
         "matches": "y",
         "showticklabels": false
        },
        "yaxis6": {
         "anchor": "x6",
         "domain": [
          0,
          1
         ],
         "matches": "y",
         "showticklabels": false
        }
       }
      }
     },
     "metadata": {},
     "output_type": "display_data"
    }
   ],
   "source": [
    "# 파라미터의 분포를 보여주는 플롯\n",
    "optuna.visualization.plot_slice(study)"
   ]
  }
 ],
 "metadata": {
  "kernelspec": {
   "display_name": "NNenv",
   "language": "python",
   "name": "python3"
  },
  "language_info": {
   "codemirror_mode": {
    "name": "ipython",
    "version": 3
   },
   "file_extension": ".py",
   "mimetype": "text/x-python",
   "name": "python",
   "nbconvert_exporter": "python",
   "pygments_lexer": "ipython3",
   "version": "3.12.9"
  }
 },
 "nbformat": 4,
 "nbformat_minor": 2
}
