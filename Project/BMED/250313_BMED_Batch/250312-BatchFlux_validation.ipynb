{
 "cells": [
  {
   "cell_type": "code",
   "execution_count": 1,
   "metadata": {},
   "outputs": [
    {
     "name": "stderr",
     "output_type": "stream",
     "text": [
      "c:\\Users\\bsjun\\miniforge3\\envs\\NN_env\\Lib\\site-packages\\tqdm\\auto.py:21: TqdmWarning: IProgress not found. Please update jupyter and ipywidgets. See https://ipywidgets.readthedocs.io/en/stable/user_install.html\n",
      "  from .autonotebook import tqdm as notebook_tqdm\n"
     ]
    }
   ],
   "source": [
    "import optuna\n",
    "import matplotlib.pyplot as plt\n",
    "import plotly.graph_objects as go\n",
    "import numpy as np\n"
   ]
  },
  {
   "cell_type": "code",
   "execution_count": 2,
   "metadata": {},
   "outputs": [
    {
     "name": "stderr",
     "output_type": "stream",
     "text": [
      "[I 2025-03-28 15:05:49,858] Using an existing study with name 'optimization_study' instead of creating a new one.\n"
     ]
    }
   ],
   "source": [
    "study_name = \"optimization_study\"\n",
    "storage_name = \"sqlite:///study.db\"  # SQLite DB에 결과 저장\n",
    "study = optuna.create_study(\n",
    "    study_name=study_name,\n",
    "    storage=storage_name,\n",
    "    load_if_exists=True  # 기존 study가 있으면 불러오기\n",
    ")"
   ]
  },
  {
   "cell_type": "code",
   "execution_count": 3,
   "metadata": {},
   "outputs": [
    {
     "data": {
      "application/vnd.plotly.v1+json": {
       "config": {
        "plotlyServerURL": "https://plot.ly"
       },
       "data": [
        {
         "mode": "markers",
         "name": "Objective Value",
         "type": "scatter",
         "x": [
          0,
          1,
          2,
          3,
          4,
          5,
          6,
          7,
          8,
          9,
          10,
          11,
          12,
          13,
          14,
          15,
          16,
          17,
          18,
          19,
          20,
          21,
          22,
          23,
          24,
          25,
          26,
          27,
          28,
          29,
          32,
          33,
          34,
          35,
          36,
          37,
          38,
          39,
          40,
          41,
          42,
          43,
          44,
          45,
          46,
          47,
          48,
          49,
          50,
          51,
          52,
          53,
          54,
          55,
          56,
          57,
          58,
          59,
          60,
          61,
          62,
          63,
          64,
          65,
          66,
          67,
          68,
          69,
          70,
          71,
          72,
          73,
          74,
          75,
          76,
          77,
          78,
          79,
          80,
          81,
          82,
          83,
          84,
          85,
          86,
          87,
          88,
          89,
          90,
          91,
          92,
          93,
          94,
          95,
          96,
          97,
          98,
          99,
          100,
          101,
          102,
          103,
          104,
          105,
          106,
          108,
          109,
          110,
          111,
          112,
          113,
          114,
          115,
          116,
          117,
          118
         ],
         "y": [
          0.728670084476471,
          -0.003487372398376465,
          -0.0034284353838302194,
          0.5545020997524261,
          0.6906830310821533,
          0.8776967883110046,
          0.8217004895210266,
          0.8871801376342774,
          0.7671377062797546,
          -0.003187680325936526,
          0.7243685603141785,
          0.7389035701751709,
          0.5822515845298767,
          0.7114449262619018,
          0.9006430864334106,
          0.831620705127716,
          0.8652488708496093,
          0.9263389110565186,
          0.9141208410263062,
          0.9347395777702332,
          0.6891497373580933,
          0.9314884185791016,
          0.9119929313659668,
          -0.029905320145189762,
          0.926141333580017,
          0.8901583671569824,
          0.4048424243927002,
          0.9015184760093689,
          0.6962047815322876,
          0.8974735498428345,
          0.9089012145996094,
          0.9240515351295471,
          0.11783681871602311,
          0.6385643601417541,
          0.9376871705055236,
          0.9038957834243775,
          0.689619117975235,
          0.925602400302887,
          0.886579978466034,
          0.5965818762779236,
          0.9024510264396668,
          0.9370152235031128,
          0.6550382256507874,
          0.7361147999763489,
          0.9219766139984131,
          0.8592621088027954,
          0.9023713111877442,
          0.9283145189285278,
          0.9099695920944214,
          0.7853631138801574,
          0.9373260498046875,
          0.9008489489555359,
          0.47824937105178833,
          0.9286617159843444,
          0.910056209564209,
          0.8364753246307373,
          0.8989986658096314,
          0.6627467989921569,
          0.9154774904251098,
          0.9041741728782654,
          0.8804207563400268,
          0.9147214651107788,
          0.9053831815719604,
          0.9185946583747864,
          0.9292992949485779,
          0.909398877620697,
          0.9171365141868592,
          0.9141539692878723,
          0.930120587348938,
          0.8718758225440979,
          0.9182042241096496,
          0.9488087177276612,
          0.9419460654258728,
          0.9075747966766358,
          0.9250250220298767,
          0.9345814347267151,
          0.9198010325431824,
          0.6633194923400879,
          0.8928572297096252,
          0.916089677810669,
          0.8804820775985718,
          0.9119015336036682,
          0.9037660360336304,
          0.8574306845664978,
          0.903129494190216,
          0.9056983470916748,
          0.8341989517211914,
          0.9033874988555908,
          0.9109774708747864,
          0.8448405504226685,
          0.9006251454353332,
          0.9030828475952148,
          0.785203504562378,
          0.9303465723991394,
          0.8562721610069275,
          0.9200731754302979,
          0.9020193576812744,
          0.9002752423286438,
          0.8972668409347534,
          0.9283817172050476,
          0.9238414764404297,
          0.5582654714584351,
          0.9096188426017762,
          0.9180852055549622,
          0.8861315608024597,
          0.9048838138580322,
          0.9160219073295593,
          0.7776371836662292,
          0.9077721953392028,
          0.9065704226493836,
          -0.0030058957287110387,
          0.9048141002655029,
          0.7626327395439148,
          0.9327368974685669,
          0.9111244797706604,
          0.9303426504135132
         ]
        },
        {
         "mode": "lines",
         "name": "Best Value",
         "type": "scatter",
         "x": [
          0,
          1,
          2,
          3,
          4,
          5,
          6,
          7,
          8,
          9,
          10,
          11,
          12,
          13,
          14,
          15,
          16,
          17,
          18,
          19,
          20,
          21,
          22,
          23,
          24,
          25,
          26,
          27,
          28,
          29,
          30,
          31,
          32,
          33,
          34,
          35,
          36,
          37,
          38,
          39,
          40,
          41,
          42,
          43,
          44,
          45,
          46,
          47,
          48,
          49,
          50,
          51,
          52,
          53,
          54,
          55,
          56,
          57,
          58,
          59,
          60,
          61,
          62,
          63,
          64,
          65,
          66,
          67,
          68,
          69,
          70,
          71,
          72,
          73,
          74,
          75,
          76,
          77,
          78,
          79,
          80,
          81,
          82,
          83,
          84,
          85,
          86,
          87,
          88,
          89,
          90,
          91,
          92,
          93,
          94,
          95,
          96,
          97,
          98,
          99,
          100,
          101,
          102,
          103,
          104,
          105,
          106,
          107,
          108,
          109,
          110,
          111,
          112,
          113,
          114,
          115,
          116,
          117,
          118,
          119
         ],
         "y": [
          0.728670084476471,
          0.728670084476471,
          0.728670084476471,
          0.728670084476471,
          0.728670084476471,
          0.8776967883110046,
          0.8776967883110046,
          0.8871801376342774,
          0.8871801376342774,
          0.8871801376342774,
          0.8871801376342774,
          0.8871801376342774,
          0.8871801376342774,
          0.8871801376342774,
          0.9006430864334106,
          0.9006430864334106,
          0.9006430864334106,
          0.9263389110565186,
          0.9263389110565186,
          0.9347395777702332,
          0.9347395777702332,
          0.9347395777702332,
          0.9347395777702332,
          0.9347395777702332,
          0.9347395777702332,
          0.9347395777702332,
          0.9347395777702332,
          0.9347395777702332,
          0.9347395777702332,
          0.9347395777702332,
          0.9347395777702332,
          0.9347395777702332,
          0.9347395777702332,
          0.9347395777702332,
          0.9347395777702332,
          0.9347395777702332,
          0.9376871705055236,
          0.9376871705055236,
          0.9376871705055236,
          0.9376871705055236,
          0.9376871705055236,
          0.9376871705055236,
          0.9376871705055236,
          0.9376871705055236,
          0.9376871705055236,
          0.9376871705055236,
          0.9376871705055236,
          0.9376871705055236,
          0.9376871705055236,
          0.9376871705055236,
          0.9376871705055236,
          0.9376871705055236,
          0.9376871705055236,
          0.9376871705055236,
          0.9376871705055236,
          0.9376871705055236,
          0.9376871705055236,
          0.9376871705055236,
          0.9376871705055236,
          0.9376871705055236,
          0.9376871705055236,
          0.9376871705055236,
          0.9376871705055236,
          0.9376871705055236,
          0.9376871705055236,
          0.9376871705055236,
          0.9376871705055236,
          0.9376871705055236,
          0.9376871705055236,
          0.9376871705055236,
          0.9376871705055236,
          0.9376871705055236,
          0.9376871705055236,
          0.9488087177276612,
          0.9488087177276612,
          0.9488087177276612,
          0.9488087177276612,
          0.9488087177276612,
          0.9488087177276612,
          0.9488087177276612,
          0.9488087177276612,
          0.9488087177276612,
          0.9488087177276612,
          0.9488087177276612,
          0.9488087177276612,
          0.9488087177276612,
          0.9488087177276612,
          0.9488087177276612,
          0.9488087177276612,
          0.9488087177276612,
          0.9488087177276612,
          0.9488087177276612,
          0.9488087177276612,
          0.9488087177276612,
          0.9488087177276612,
          0.9488087177276612,
          0.9488087177276612,
          0.9488087177276612,
          0.9488087177276612,
          0.9488087177276612,
          0.9488087177276612,
          0.9488087177276612,
          0.9488087177276612,
          0.9488087177276612,
          0.9488087177276612,
          0.9488087177276612,
          0.9488087177276612,
          0.9488087177276612,
          0.9488087177276612,
          0.9488087177276612,
          0.9488087177276612,
          0.9488087177276612,
          0.9488087177276612,
          0.9488087177276612,
          0.9488087177276612,
          0.9488087177276612,
          0.9488087177276612,
          0.9488087177276612,
          0.9488087177276612,
          0.9488087177276612
         ]
        },
        {
         "marker": {
          "color": "#cccccc"
         },
         "mode": "markers",
         "name": "Infeasible Trial",
         "showlegend": false,
         "type": "scatter",
         "x": [],
         "y": []
        }
       ],
       "layout": {
        "template": {
         "data": {
          "bar": [
           {
            "error_x": {
             "color": "#2a3f5f"
            },
            "error_y": {
             "color": "#2a3f5f"
            },
            "marker": {
             "line": {
              "color": "#E5ECF6",
              "width": 0.5
             },
             "pattern": {
              "fillmode": "overlay",
              "size": 10,
              "solidity": 0.2
             }
            },
            "type": "bar"
           }
          ],
          "barpolar": [
           {
            "marker": {
             "line": {
              "color": "#E5ECF6",
              "width": 0.5
             },
             "pattern": {
              "fillmode": "overlay",
              "size": 10,
              "solidity": 0.2
             }
            },
            "type": "barpolar"
           }
          ],
          "carpet": [
           {
            "aaxis": {
             "endlinecolor": "#2a3f5f",
             "gridcolor": "white",
             "linecolor": "white",
             "minorgridcolor": "white",
             "startlinecolor": "#2a3f5f"
            },
            "baxis": {
             "endlinecolor": "#2a3f5f",
             "gridcolor": "white",
             "linecolor": "white",
             "minorgridcolor": "white",
             "startlinecolor": "#2a3f5f"
            },
            "type": "carpet"
           }
          ],
          "choropleth": [
           {
            "colorbar": {
             "outlinewidth": 0,
             "ticks": ""
            },
            "type": "choropleth"
           }
          ],
          "contour": [
           {
            "colorbar": {
             "outlinewidth": 0,
             "ticks": ""
            },
            "colorscale": [
             [
              0,
              "#0d0887"
             ],
             [
              0.1111111111111111,
              "#46039f"
             ],
             [
              0.2222222222222222,
              "#7201a8"
             ],
             [
              0.3333333333333333,
              "#9c179e"
             ],
             [
              0.4444444444444444,
              "#bd3786"
             ],
             [
              0.5555555555555556,
              "#d8576b"
             ],
             [
              0.6666666666666666,
              "#ed7953"
             ],
             [
              0.7777777777777778,
              "#fb9f3a"
             ],
             [
              0.8888888888888888,
              "#fdca26"
             ],
             [
              1,
              "#f0f921"
             ]
            ],
            "type": "contour"
           }
          ],
          "contourcarpet": [
           {
            "colorbar": {
             "outlinewidth": 0,
             "ticks": ""
            },
            "type": "contourcarpet"
           }
          ],
          "heatmap": [
           {
            "colorbar": {
             "outlinewidth": 0,
             "ticks": ""
            },
            "colorscale": [
             [
              0,
              "#0d0887"
             ],
             [
              0.1111111111111111,
              "#46039f"
             ],
             [
              0.2222222222222222,
              "#7201a8"
             ],
             [
              0.3333333333333333,
              "#9c179e"
             ],
             [
              0.4444444444444444,
              "#bd3786"
             ],
             [
              0.5555555555555556,
              "#d8576b"
             ],
             [
              0.6666666666666666,
              "#ed7953"
             ],
             [
              0.7777777777777778,
              "#fb9f3a"
             ],
             [
              0.8888888888888888,
              "#fdca26"
             ],
             [
              1,
              "#f0f921"
             ]
            ],
            "type": "heatmap"
           }
          ],
          "histogram": [
           {
            "marker": {
             "pattern": {
              "fillmode": "overlay",
              "size": 10,
              "solidity": 0.2
             }
            },
            "type": "histogram"
           }
          ],
          "histogram2d": [
           {
            "colorbar": {
             "outlinewidth": 0,
             "ticks": ""
            },
            "colorscale": [
             [
              0,
              "#0d0887"
             ],
             [
              0.1111111111111111,
              "#46039f"
             ],
             [
              0.2222222222222222,
              "#7201a8"
             ],
             [
              0.3333333333333333,
              "#9c179e"
             ],
             [
              0.4444444444444444,
              "#bd3786"
             ],
             [
              0.5555555555555556,
              "#d8576b"
             ],
             [
              0.6666666666666666,
              "#ed7953"
             ],
             [
              0.7777777777777778,
              "#fb9f3a"
             ],
             [
              0.8888888888888888,
              "#fdca26"
             ],
             [
              1,
              "#f0f921"
             ]
            ],
            "type": "histogram2d"
           }
          ],
          "histogram2dcontour": [
           {
            "colorbar": {
             "outlinewidth": 0,
             "ticks": ""
            },
            "colorscale": [
             [
              0,
              "#0d0887"
             ],
             [
              0.1111111111111111,
              "#46039f"
             ],
             [
              0.2222222222222222,
              "#7201a8"
             ],
             [
              0.3333333333333333,
              "#9c179e"
             ],
             [
              0.4444444444444444,
              "#bd3786"
             ],
             [
              0.5555555555555556,
              "#d8576b"
             ],
             [
              0.6666666666666666,
              "#ed7953"
             ],
             [
              0.7777777777777778,
              "#fb9f3a"
             ],
             [
              0.8888888888888888,
              "#fdca26"
             ],
             [
              1,
              "#f0f921"
             ]
            ],
            "type": "histogram2dcontour"
           }
          ],
          "mesh3d": [
           {
            "colorbar": {
             "outlinewidth": 0,
             "ticks": ""
            },
            "type": "mesh3d"
           }
          ],
          "parcoords": [
           {
            "line": {
             "colorbar": {
              "outlinewidth": 0,
              "ticks": ""
             }
            },
            "type": "parcoords"
           }
          ],
          "pie": [
           {
            "automargin": true,
            "type": "pie"
           }
          ],
          "scatter": [
           {
            "fillpattern": {
             "fillmode": "overlay",
             "size": 10,
             "solidity": 0.2
            },
            "type": "scatter"
           }
          ],
          "scatter3d": [
           {
            "line": {
             "colorbar": {
              "outlinewidth": 0,
              "ticks": ""
             }
            },
            "marker": {
             "colorbar": {
              "outlinewidth": 0,
              "ticks": ""
             }
            },
            "type": "scatter3d"
           }
          ],
          "scattercarpet": [
           {
            "marker": {
             "colorbar": {
              "outlinewidth": 0,
              "ticks": ""
             }
            },
            "type": "scattercarpet"
           }
          ],
          "scattergeo": [
           {
            "marker": {
             "colorbar": {
              "outlinewidth": 0,
              "ticks": ""
             }
            },
            "type": "scattergeo"
           }
          ],
          "scattergl": [
           {
            "marker": {
             "colorbar": {
              "outlinewidth": 0,
              "ticks": ""
             }
            },
            "type": "scattergl"
           }
          ],
          "scattermap": [
           {
            "marker": {
             "colorbar": {
              "outlinewidth": 0,
              "ticks": ""
             }
            },
            "type": "scattermap"
           }
          ],
          "scattermapbox": [
           {
            "marker": {
             "colorbar": {
              "outlinewidth": 0,
              "ticks": ""
             }
            },
            "type": "scattermapbox"
           }
          ],
          "scatterpolar": [
           {
            "marker": {
             "colorbar": {
              "outlinewidth": 0,
              "ticks": ""
             }
            },
            "type": "scatterpolar"
           }
          ],
          "scatterpolargl": [
           {
            "marker": {
             "colorbar": {
              "outlinewidth": 0,
              "ticks": ""
             }
            },
            "type": "scatterpolargl"
           }
          ],
          "scatterternary": [
           {
            "marker": {
             "colorbar": {
              "outlinewidth": 0,
              "ticks": ""
             }
            },
            "type": "scatterternary"
           }
          ],
          "surface": [
           {
            "colorbar": {
             "outlinewidth": 0,
             "ticks": ""
            },
            "colorscale": [
             [
              0,
              "#0d0887"
             ],
             [
              0.1111111111111111,
              "#46039f"
             ],
             [
              0.2222222222222222,
              "#7201a8"
             ],
             [
              0.3333333333333333,
              "#9c179e"
             ],
             [
              0.4444444444444444,
              "#bd3786"
             ],
             [
              0.5555555555555556,
              "#d8576b"
             ],
             [
              0.6666666666666666,
              "#ed7953"
             ],
             [
              0.7777777777777778,
              "#fb9f3a"
             ],
             [
              0.8888888888888888,
              "#fdca26"
             ],
             [
              1,
              "#f0f921"
             ]
            ],
            "type": "surface"
           }
          ],
          "table": [
           {
            "cells": {
             "fill": {
              "color": "#EBF0F8"
             },
             "line": {
              "color": "white"
             }
            },
            "header": {
             "fill": {
              "color": "#C8D4E3"
             },
             "line": {
              "color": "white"
             }
            },
            "type": "table"
           }
          ]
         },
         "layout": {
          "annotationdefaults": {
           "arrowcolor": "#2a3f5f",
           "arrowhead": 0,
           "arrowwidth": 1
          },
          "autotypenumbers": "strict",
          "coloraxis": {
           "colorbar": {
            "outlinewidth": 0,
            "ticks": ""
           }
          },
          "colorscale": {
           "diverging": [
            [
             0,
             "#8e0152"
            ],
            [
             0.1,
             "#c51b7d"
            ],
            [
             0.2,
             "#de77ae"
            ],
            [
             0.3,
             "#f1b6da"
            ],
            [
             0.4,
             "#fde0ef"
            ],
            [
             0.5,
             "#f7f7f7"
            ],
            [
             0.6,
             "#e6f5d0"
            ],
            [
             0.7,
             "#b8e186"
            ],
            [
             0.8,
             "#7fbc41"
            ],
            [
             0.9,
             "#4d9221"
            ],
            [
             1,
             "#276419"
            ]
           ],
           "sequential": [
            [
             0,
             "#0d0887"
            ],
            [
             0.1111111111111111,
             "#46039f"
            ],
            [
             0.2222222222222222,
             "#7201a8"
            ],
            [
             0.3333333333333333,
             "#9c179e"
            ],
            [
             0.4444444444444444,
             "#bd3786"
            ],
            [
             0.5555555555555556,
             "#d8576b"
            ],
            [
             0.6666666666666666,
             "#ed7953"
            ],
            [
             0.7777777777777778,
             "#fb9f3a"
            ],
            [
             0.8888888888888888,
             "#fdca26"
            ],
            [
             1,
             "#f0f921"
            ]
           ],
           "sequentialminus": [
            [
             0,
             "#0d0887"
            ],
            [
             0.1111111111111111,
             "#46039f"
            ],
            [
             0.2222222222222222,
             "#7201a8"
            ],
            [
             0.3333333333333333,
             "#9c179e"
            ],
            [
             0.4444444444444444,
             "#bd3786"
            ],
            [
             0.5555555555555556,
             "#d8576b"
            ],
            [
             0.6666666666666666,
             "#ed7953"
            ],
            [
             0.7777777777777778,
             "#fb9f3a"
            ],
            [
             0.8888888888888888,
             "#fdca26"
            ],
            [
             1,
             "#f0f921"
            ]
           ]
          },
          "colorway": [
           "#636efa",
           "#EF553B",
           "#00cc96",
           "#ab63fa",
           "#FFA15A",
           "#19d3f3",
           "#FF6692",
           "#B6E880",
           "#FF97FF",
           "#FECB52"
          ],
          "font": {
           "color": "#2a3f5f"
          },
          "geo": {
           "bgcolor": "white",
           "lakecolor": "white",
           "landcolor": "#E5ECF6",
           "showlakes": true,
           "showland": true,
           "subunitcolor": "white"
          },
          "hoverlabel": {
           "align": "left"
          },
          "hovermode": "closest",
          "mapbox": {
           "style": "light"
          },
          "paper_bgcolor": "white",
          "plot_bgcolor": "#E5ECF6",
          "polar": {
           "angularaxis": {
            "gridcolor": "white",
            "linecolor": "white",
            "ticks": ""
           },
           "bgcolor": "#E5ECF6",
           "radialaxis": {
            "gridcolor": "white",
            "linecolor": "white",
            "ticks": ""
           }
          },
          "scene": {
           "xaxis": {
            "backgroundcolor": "#E5ECF6",
            "gridcolor": "white",
            "gridwidth": 2,
            "linecolor": "white",
            "showbackground": true,
            "ticks": "",
            "zerolinecolor": "white"
           },
           "yaxis": {
            "backgroundcolor": "#E5ECF6",
            "gridcolor": "white",
            "gridwidth": 2,
            "linecolor": "white",
            "showbackground": true,
            "ticks": "",
            "zerolinecolor": "white"
           },
           "zaxis": {
            "backgroundcolor": "#E5ECF6",
            "gridcolor": "white",
            "gridwidth": 2,
            "linecolor": "white",
            "showbackground": true,
            "ticks": "",
            "zerolinecolor": "white"
           }
          },
          "shapedefaults": {
           "line": {
            "color": "#2a3f5f"
           }
          },
          "ternary": {
           "aaxis": {
            "gridcolor": "white",
            "linecolor": "white",
            "ticks": ""
           },
           "baxis": {
            "gridcolor": "white",
            "linecolor": "white",
            "ticks": ""
           },
           "bgcolor": "#E5ECF6",
           "caxis": {
            "gridcolor": "white",
            "linecolor": "white",
            "ticks": ""
           }
          },
          "title": {
           "x": 0.05
          },
          "xaxis": {
           "automargin": true,
           "gridcolor": "white",
           "linecolor": "white",
           "ticks": "",
           "title": {
            "standoff": 15
           },
           "zerolinecolor": "white",
           "zerolinewidth": 2
          },
          "yaxis": {
           "automargin": true,
           "gridcolor": "white",
           "linecolor": "white",
           "ticks": "",
           "title": {
            "standoff": 15
           },
           "zerolinecolor": "white",
           "zerolinewidth": 2
          }
         }
        },
        "title": {
         "text": "Optimization History Plot"
        },
        "xaxis": {
         "title": {
          "text": "Trial"
         }
        },
        "yaxis": {
         "title": {
          "text": "Objective Value"
         }
        }
       }
      }
     },
     "metadata": {},
     "output_type": "display_data"
    }
   ],
   "source": [
    "# 최적화 히스토리 플롯\n",
    "optuna.visualization.plot_optimization_history(study)"
   ]
  },
  {
   "cell_type": "code",
   "execution_count": 4,
   "metadata": {},
   "outputs": [
    {
     "data": {
      "application/vnd.plotly.v1+json": {
       "config": {
        "plotlyServerURL": "https://plot.ly"
       },
       "data": [
        {
         "cliponaxis": false,
         "hovertemplate": [
          "num_epochs (IntDistribution): 0.0310648715755115<extra></extra>",
          "batch_size (IntDistribution): 0.03205133751730619<extra></extra>",
          "hidden_nodes (IntDistribution): 0.039401948494487464<extra></extra>",
          "weight_decay (FloatDistribution): 0.1199756178360887<extra></extra>",
          "learning_rate (FloatDistribution): 0.18260483206716072<extra></extra>",
          "hidden_layers (IntDistribution): 0.5949013925094457<extra></extra>"
         ],
         "name": "Objective Value",
         "orientation": "h",
         "text": [
          "0.03",
          "0.03",
          "0.04",
          "0.12",
          "0.18",
          "0.59"
         ],
         "textposition": "outside",
         "type": "bar",
         "x": [
          0.0310648715755115,
          0.03205133751730619,
          0.039401948494487464,
          0.1199756178360887,
          0.18260483206716072,
          0.5949013925094457
         ],
         "y": [
          "num_epochs",
          "batch_size",
          "hidden_nodes",
          "weight_decay",
          "learning_rate",
          "hidden_layers"
         ]
        }
       ],
       "layout": {
        "template": {
         "data": {
          "bar": [
           {
            "error_x": {
             "color": "#2a3f5f"
            },
            "error_y": {
             "color": "#2a3f5f"
            },
            "marker": {
             "line": {
              "color": "#E5ECF6",
              "width": 0.5
             },
             "pattern": {
              "fillmode": "overlay",
              "size": 10,
              "solidity": 0.2
             }
            },
            "type": "bar"
           }
          ],
          "barpolar": [
           {
            "marker": {
             "line": {
              "color": "#E5ECF6",
              "width": 0.5
             },
             "pattern": {
              "fillmode": "overlay",
              "size": 10,
              "solidity": 0.2
             }
            },
            "type": "barpolar"
           }
          ],
          "carpet": [
           {
            "aaxis": {
             "endlinecolor": "#2a3f5f",
             "gridcolor": "white",
             "linecolor": "white",
             "minorgridcolor": "white",
             "startlinecolor": "#2a3f5f"
            },
            "baxis": {
             "endlinecolor": "#2a3f5f",
             "gridcolor": "white",
             "linecolor": "white",
             "minorgridcolor": "white",
             "startlinecolor": "#2a3f5f"
            },
            "type": "carpet"
           }
          ],
          "choropleth": [
           {
            "colorbar": {
             "outlinewidth": 0,
             "ticks": ""
            },
            "type": "choropleth"
           }
          ],
          "contour": [
           {
            "colorbar": {
             "outlinewidth": 0,
             "ticks": ""
            },
            "colorscale": [
             [
              0,
              "#0d0887"
             ],
             [
              0.1111111111111111,
              "#46039f"
             ],
             [
              0.2222222222222222,
              "#7201a8"
             ],
             [
              0.3333333333333333,
              "#9c179e"
             ],
             [
              0.4444444444444444,
              "#bd3786"
             ],
             [
              0.5555555555555556,
              "#d8576b"
             ],
             [
              0.6666666666666666,
              "#ed7953"
             ],
             [
              0.7777777777777778,
              "#fb9f3a"
             ],
             [
              0.8888888888888888,
              "#fdca26"
             ],
             [
              1,
              "#f0f921"
             ]
            ],
            "type": "contour"
           }
          ],
          "contourcarpet": [
           {
            "colorbar": {
             "outlinewidth": 0,
             "ticks": ""
            },
            "type": "contourcarpet"
           }
          ],
          "heatmap": [
           {
            "colorbar": {
             "outlinewidth": 0,
             "ticks": ""
            },
            "colorscale": [
             [
              0,
              "#0d0887"
             ],
             [
              0.1111111111111111,
              "#46039f"
             ],
             [
              0.2222222222222222,
              "#7201a8"
             ],
             [
              0.3333333333333333,
              "#9c179e"
             ],
             [
              0.4444444444444444,
              "#bd3786"
             ],
             [
              0.5555555555555556,
              "#d8576b"
             ],
             [
              0.6666666666666666,
              "#ed7953"
             ],
             [
              0.7777777777777778,
              "#fb9f3a"
             ],
             [
              0.8888888888888888,
              "#fdca26"
             ],
             [
              1,
              "#f0f921"
             ]
            ],
            "type": "heatmap"
           }
          ],
          "histogram": [
           {
            "marker": {
             "pattern": {
              "fillmode": "overlay",
              "size": 10,
              "solidity": 0.2
             }
            },
            "type": "histogram"
           }
          ],
          "histogram2d": [
           {
            "colorbar": {
             "outlinewidth": 0,
             "ticks": ""
            },
            "colorscale": [
             [
              0,
              "#0d0887"
             ],
             [
              0.1111111111111111,
              "#46039f"
             ],
             [
              0.2222222222222222,
              "#7201a8"
             ],
             [
              0.3333333333333333,
              "#9c179e"
             ],
             [
              0.4444444444444444,
              "#bd3786"
             ],
             [
              0.5555555555555556,
              "#d8576b"
             ],
             [
              0.6666666666666666,
              "#ed7953"
             ],
             [
              0.7777777777777778,
              "#fb9f3a"
             ],
             [
              0.8888888888888888,
              "#fdca26"
             ],
             [
              1,
              "#f0f921"
             ]
            ],
            "type": "histogram2d"
           }
          ],
          "histogram2dcontour": [
           {
            "colorbar": {
             "outlinewidth": 0,
             "ticks": ""
            },
            "colorscale": [
             [
              0,
              "#0d0887"
             ],
             [
              0.1111111111111111,
              "#46039f"
             ],
             [
              0.2222222222222222,
              "#7201a8"
             ],
             [
              0.3333333333333333,
              "#9c179e"
             ],
             [
              0.4444444444444444,
              "#bd3786"
             ],
             [
              0.5555555555555556,
              "#d8576b"
             ],
             [
              0.6666666666666666,
              "#ed7953"
             ],
             [
              0.7777777777777778,
              "#fb9f3a"
             ],
             [
              0.8888888888888888,
              "#fdca26"
             ],
             [
              1,
              "#f0f921"
             ]
            ],
            "type": "histogram2dcontour"
           }
          ],
          "mesh3d": [
           {
            "colorbar": {
             "outlinewidth": 0,
             "ticks": ""
            },
            "type": "mesh3d"
           }
          ],
          "parcoords": [
           {
            "line": {
             "colorbar": {
              "outlinewidth": 0,
              "ticks": ""
             }
            },
            "type": "parcoords"
           }
          ],
          "pie": [
           {
            "automargin": true,
            "type": "pie"
           }
          ],
          "scatter": [
           {
            "fillpattern": {
             "fillmode": "overlay",
             "size": 10,
             "solidity": 0.2
            },
            "type": "scatter"
           }
          ],
          "scatter3d": [
           {
            "line": {
             "colorbar": {
              "outlinewidth": 0,
              "ticks": ""
             }
            },
            "marker": {
             "colorbar": {
              "outlinewidth": 0,
              "ticks": ""
             }
            },
            "type": "scatter3d"
           }
          ],
          "scattercarpet": [
           {
            "marker": {
             "colorbar": {
              "outlinewidth": 0,
              "ticks": ""
             }
            },
            "type": "scattercarpet"
           }
          ],
          "scattergeo": [
           {
            "marker": {
             "colorbar": {
              "outlinewidth": 0,
              "ticks": ""
             }
            },
            "type": "scattergeo"
           }
          ],
          "scattergl": [
           {
            "marker": {
             "colorbar": {
              "outlinewidth": 0,
              "ticks": ""
             }
            },
            "type": "scattergl"
           }
          ],
          "scattermap": [
           {
            "marker": {
             "colorbar": {
              "outlinewidth": 0,
              "ticks": ""
             }
            },
            "type": "scattermap"
           }
          ],
          "scattermapbox": [
           {
            "marker": {
             "colorbar": {
              "outlinewidth": 0,
              "ticks": ""
             }
            },
            "type": "scattermapbox"
           }
          ],
          "scatterpolar": [
           {
            "marker": {
             "colorbar": {
              "outlinewidth": 0,
              "ticks": ""
             }
            },
            "type": "scatterpolar"
           }
          ],
          "scatterpolargl": [
           {
            "marker": {
             "colorbar": {
              "outlinewidth": 0,
              "ticks": ""
             }
            },
            "type": "scatterpolargl"
           }
          ],
          "scatterternary": [
           {
            "marker": {
             "colorbar": {
              "outlinewidth": 0,
              "ticks": ""
             }
            },
            "type": "scatterternary"
           }
          ],
          "surface": [
           {
            "colorbar": {
             "outlinewidth": 0,
             "ticks": ""
            },
            "colorscale": [
             [
              0,
              "#0d0887"
             ],
             [
              0.1111111111111111,
              "#46039f"
             ],
             [
              0.2222222222222222,
              "#7201a8"
             ],
             [
              0.3333333333333333,
              "#9c179e"
             ],
             [
              0.4444444444444444,
              "#bd3786"
             ],
             [
              0.5555555555555556,
              "#d8576b"
             ],
             [
              0.6666666666666666,
              "#ed7953"
             ],
             [
              0.7777777777777778,
              "#fb9f3a"
             ],
             [
              0.8888888888888888,
              "#fdca26"
             ],
             [
              1,
              "#f0f921"
             ]
            ],
            "type": "surface"
           }
          ],
          "table": [
           {
            "cells": {
             "fill": {
              "color": "#EBF0F8"
             },
             "line": {
              "color": "white"
             }
            },
            "header": {
             "fill": {
              "color": "#C8D4E3"
             },
             "line": {
              "color": "white"
             }
            },
            "type": "table"
           }
          ]
         },
         "layout": {
          "annotationdefaults": {
           "arrowcolor": "#2a3f5f",
           "arrowhead": 0,
           "arrowwidth": 1
          },
          "autotypenumbers": "strict",
          "coloraxis": {
           "colorbar": {
            "outlinewidth": 0,
            "ticks": ""
           }
          },
          "colorscale": {
           "diverging": [
            [
             0,
             "#8e0152"
            ],
            [
             0.1,
             "#c51b7d"
            ],
            [
             0.2,
             "#de77ae"
            ],
            [
             0.3,
             "#f1b6da"
            ],
            [
             0.4,
             "#fde0ef"
            ],
            [
             0.5,
             "#f7f7f7"
            ],
            [
             0.6,
             "#e6f5d0"
            ],
            [
             0.7,
             "#b8e186"
            ],
            [
             0.8,
             "#7fbc41"
            ],
            [
             0.9,
             "#4d9221"
            ],
            [
             1,
             "#276419"
            ]
           ],
           "sequential": [
            [
             0,
             "#0d0887"
            ],
            [
             0.1111111111111111,
             "#46039f"
            ],
            [
             0.2222222222222222,
             "#7201a8"
            ],
            [
             0.3333333333333333,
             "#9c179e"
            ],
            [
             0.4444444444444444,
             "#bd3786"
            ],
            [
             0.5555555555555556,
             "#d8576b"
            ],
            [
             0.6666666666666666,
             "#ed7953"
            ],
            [
             0.7777777777777778,
             "#fb9f3a"
            ],
            [
             0.8888888888888888,
             "#fdca26"
            ],
            [
             1,
             "#f0f921"
            ]
           ],
           "sequentialminus": [
            [
             0,
             "#0d0887"
            ],
            [
             0.1111111111111111,
             "#46039f"
            ],
            [
             0.2222222222222222,
             "#7201a8"
            ],
            [
             0.3333333333333333,
             "#9c179e"
            ],
            [
             0.4444444444444444,
             "#bd3786"
            ],
            [
             0.5555555555555556,
             "#d8576b"
            ],
            [
             0.6666666666666666,
             "#ed7953"
            ],
            [
             0.7777777777777778,
             "#fb9f3a"
            ],
            [
             0.8888888888888888,
             "#fdca26"
            ],
            [
             1,
             "#f0f921"
            ]
           ]
          },
          "colorway": [
           "#636efa",
           "#EF553B",
           "#00cc96",
           "#ab63fa",
           "#FFA15A",
           "#19d3f3",
           "#FF6692",
           "#B6E880",
           "#FF97FF",
           "#FECB52"
          ],
          "font": {
           "color": "#2a3f5f"
          },
          "geo": {
           "bgcolor": "white",
           "lakecolor": "white",
           "landcolor": "#E5ECF6",
           "showlakes": true,
           "showland": true,
           "subunitcolor": "white"
          },
          "hoverlabel": {
           "align": "left"
          },
          "hovermode": "closest",
          "mapbox": {
           "style": "light"
          },
          "paper_bgcolor": "white",
          "plot_bgcolor": "#E5ECF6",
          "polar": {
           "angularaxis": {
            "gridcolor": "white",
            "linecolor": "white",
            "ticks": ""
           },
           "bgcolor": "#E5ECF6",
           "radialaxis": {
            "gridcolor": "white",
            "linecolor": "white",
            "ticks": ""
           }
          },
          "scene": {
           "xaxis": {
            "backgroundcolor": "#E5ECF6",
            "gridcolor": "white",
            "gridwidth": 2,
            "linecolor": "white",
            "showbackground": true,
            "ticks": "",
            "zerolinecolor": "white"
           },
           "yaxis": {
            "backgroundcolor": "#E5ECF6",
            "gridcolor": "white",
            "gridwidth": 2,
            "linecolor": "white",
            "showbackground": true,
            "ticks": "",
            "zerolinecolor": "white"
           },
           "zaxis": {
            "backgroundcolor": "#E5ECF6",
            "gridcolor": "white",
            "gridwidth": 2,
            "linecolor": "white",
            "showbackground": true,
            "ticks": "",
            "zerolinecolor": "white"
           }
          },
          "shapedefaults": {
           "line": {
            "color": "#2a3f5f"
           }
          },
          "ternary": {
           "aaxis": {
            "gridcolor": "white",
            "linecolor": "white",
            "ticks": ""
           },
           "baxis": {
            "gridcolor": "white",
            "linecolor": "white",
            "ticks": ""
           },
           "bgcolor": "#E5ECF6",
           "caxis": {
            "gridcolor": "white",
            "linecolor": "white",
            "ticks": ""
           }
          },
          "title": {
           "x": 0.05
          },
          "xaxis": {
           "automargin": true,
           "gridcolor": "white",
           "linecolor": "white",
           "ticks": "",
           "title": {
            "standoff": 15
           },
           "zerolinecolor": "white",
           "zerolinewidth": 2
          },
          "yaxis": {
           "automargin": true,
           "gridcolor": "white",
           "linecolor": "white",
           "ticks": "",
           "title": {
            "standoff": 15
           },
           "zerolinecolor": "white",
           "zerolinewidth": 2
          }
         }
        },
        "title": {
         "text": "Hyperparameter Importances"
        },
        "xaxis": {
         "title": {
          "text": "Hyperparameter Importance"
         }
        },
        "yaxis": {
         "title": {
          "text": "Hyperparameter"
         }
        }
       }
      }
     },
     "metadata": {},
     "output_type": "display_data"
    }
   ],
   "source": [
    "# 파라미터의 중요도 플롯\n",
    "optuna.visualization.plot_param_importances(study)"
   ]
  },
  {
   "cell_type": "code",
   "execution_count": 5,
   "metadata": {},
   "outputs": [
    {
     "data": {
      "application/vnd.plotly.v1+json": {
       "config": {
        "plotlyServerURL": "https://plot.ly"
       },
       "data": [
        {
         "dimensions": [
          {
           "label": "Objective Value",
           "range": [
            -0.029905320145189762,
            0.9488087177276612
           ],
           "values": [
            0.728670084476471,
            -0.003487372398376465,
            -0.0034284353838302194,
            0.5545020997524261,
            0.6906830310821533,
            0.8776967883110046,
            0.8217004895210266,
            0.8871801376342774,
            0.7671377062797546,
            -0.003187680325936526,
            0.7243685603141785,
            0.7389035701751709,
            0.5822515845298767,
            0.7114449262619018,
            0.9006430864334106,
            0.831620705127716,
            0.8652488708496093,
            0.9263389110565186,
            0.9141208410263062,
            0.9347395777702332,
            0.6891497373580933,
            0.9314884185791016,
            0.9119929313659668,
            -0.029905320145189762,
            0.926141333580017,
            0.8901583671569824,
            0.4048424243927002,
            0.9015184760093689,
            0.6962047815322876,
            0.8974735498428345,
            0.9089012145996094,
            0.9240515351295471,
            0.11783681871602311,
            0.6385643601417541,
            0.9376871705055236,
            0.9038957834243775,
            0.689619117975235,
            0.925602400302887,
            0.886579978466034,
            0.5965818762779236,
            0.9024510264396668,
            0.9370152235031128,
            0.6550382256507874,
            0.7361147999763489,
            0.9219766139984131,
            0.8592621088027954,
            0.9023713111877442,
            0.9283145189285278,
            0.9099695920944214,
            0.7853631138801574,
            0.9373260498046875,
            0.9008489489555359,
            0.47824937105178833,
            0.9286617159843444,
            0.910056209564209,
            0.8364753246307373,
            0.8989986658096314,
            0.6627467989921569,
            0.9154774904251098,
            0.9041741728782654,
            0.8804207563400268,
            0.9147214651107788,
            0.9053831815719604,
            0.9185946583747864,
            0.9292992949485779,
            0.909398877620697,
            0.9171365141868592,
            0.9141539692878723,
            0.930120587348938,
            0.8718758225440979,
            0.9182042241096496,
            0.9488087177276612,
            0.9419460654258728,
            0.9075747966766358,
            0.9250250220298767,
            0.9345814347267151,
            0.9198010325431824,
            0.6633194923400879,
            0.8928572297096252,
            0.916089677810669,
            0.8804820775985718,
            0.9119015336036682,
            0.9037660360336304,
            0.8574306845664978,
            0.903129494190216,
            0.9056983470916748,
            0.8341989517211914,
            0.9033874988555908,
            0.9109774708747864,
            0.8448405504226685,
            0.9006251454353332,
            0.9030828475952148,
            0.785203504562378,
            0.9303465723991394,
            0.8562721610069275,
            0.9200731754302979,
            0.9020193576812744,
            0.9002752423286438,
            0.8972668409347534,
            0.9283817172050476,
            0.9238414764404297,
            0.5582654714584351,
            0.9096188426017762,
            0.9180852055549622,
            0.8861315608024597,
            0.9048838138580322,
            0.9160219073295593,
            0.7776371836662292,
            0.9077721953392028,
            0.9065704226493836,
            -0.0030058957287110387,
            0.9048141002655029,
            0.7626327395439148,
            0.9327368974685669,
            0.9111244797706604,
            0.9303426504135132
           ]
          },
          {
           "label": "batch_size",
           "range": [
            16,
            256
           ],
           "values": [
            16,
            139,
            154,
            146,
            201,
            251,
            101,
            86,
            27,
            46,
            245,
            36,
            256,
            16,
            181,
            256,
            256,
            88,
            106,
            156,
            256,
            134,
            141,
            256,
            199,
            16,
            16,
            133,
            256,
            256,
            256,
            16,
            16,
            16,
            16,
            256,
            16,
            57,
            256,
            256,
            83,
            256,
            256,
            256,
            16,
            256,
            256,
            16,
            256,
            256,
            16,
            16,
            16,
            16,
            256,
            16,
            256,
            256,
            256,
            16,
            256,
            147,
            16,
            121,
            144,
            256,
            16,
            16,
            123,
            16,
            210,
            184,
            256,
            256,
            152,
            145,
            256,
            256,
            169,
            96,
            256,
            16,
            16,
            256,
            256,
            16,
            256,
            16,
            16,
            16,
            16,
            16,
            16,
            16,
            16,
            141,
            256,
            256,
            16,
            16,
            68,
            16,
            256,
            16,
            16,
            16,
            16,
            16,
            256,
            140,
            256,
            256,
            16,
            183,
            76,
            256
           ]
          },
          {
           "label": "hidden_layers",
           "range": [
            1,
            20
           ],
           "values": [
            2,
            19,
            18,
            5,
            1,
            8,
            6,
            5,
            1,
            7,
            5,
            7,
            6,
            3,
            5,
            6,
            8,
            5,
            7,
            7,
            6,
            6,
            7,
            7,
            4,
            8,
            1,
            6,
            2,
            6,
            6,
            7,
            20,
            1,
            6,
            3,
            9,
            6,
            7,
            1,
            6,
            5,
            1,
            1,
            7,
            4,
            5,
            5,
            3,
            6,
            5,
            4,
            1,
            6,
            5,
            1,
            4,
            8,
            7,
            6,
            5,
            4,
            7,
            6,
            5,
            4,
            7,
            5,
            6,
            6,
            5,
            6,
            6,
            8,
            5,
            6,
            6,
            4,
            6,
            6,
            5,
            5,
            3,
            1,
            6,
            7,
            1,
            7,
            7,
            4,
            6,
            7,
            2,
            5,
            2,
            6,
            11,
            8,
            10,
            4,
            5,
            1,
            8,
            4,
            6,
            3,
            7,
            12,
            10,
            7,
            20,
            9,
            1,
            5,
            9,
            4
           ]
          },
          {
           "label": "hidden_nodes",
           "range": [
            8,
            128
           ],
           "values": [
            36,
            20,
            67,
            10,
            90,
            76,
            39,
            108,
            119,
            33,
            97,
            128,
            89,
            38,
            106,
            8,
            128,
            128,
            70,
            128,
            8,
            128,
            128,
            128,
            116,
            106,
            128,
            97,
            8,
            128,
            128,
            128,
            128,
            128,
            128,
            128,
            8,
            111,
            75,
            128,
            128,
            97,
            8,
            128,
            110,
            128,
            128,
            102,
            128,
            128,
            128,
            128,
            8,
            106,
            112,
            128,
            103,
            35,
            93,
            128,
            128,
            106,
            107,
            106,
            91,
            79,
            128,
            128,
            105,
            105,
            116,
            128,
            128,
            128,
            128,
            128,
            128,
            128,
            128,
            128,
            100,
            128,
            128,
            128,
            128,
            128,
            128,
            128,
            74,
            128,
            100,
            128,
            128,
            128,
            64,
            128,
            128,
            93,
            128,
            128,
            128,
            8,
            128,
            96,
            128,
            128,
            128,
            128,
            128,
            128,
            128,
            99,
            85,
            128,
            128,
            128
           ]
          },
          {
           "label": "learning_rate",
           "range": [
            -5,
            -1
           ],
           "ticktext": [
            "1e-05",
            "0.0001",
            "0.001",
            "0.01",
            "0.1"
           ],
           "tickvals": [
            -5,
            -4,
            -3,
            -2,
            -1
           ],
           "values": [
            -3.9284942536160914,
            -2.084555961305952,
            -1.6759162866782904,
            -3.8693199824585047,
            -1.1341063784459227,
            -2.5954472346737743,
            -2.0115171655006105,
            -4.064882928802038,
            -3.575991692907555,
            -4.5435983323002205,
            -4.603099291495786,
            -2.0367711625203144,
            -4.902546056072658,
            -4.6795188210541285,
            -2.9793940647999784,
            -1.9872531335749621,
            -2.3724160013481095,
            -3.358308543069588,
            -3.4075067696222345,
            -3.3181966524533144,
            -3.1316133027829673,
            -2.89547462824556,
            -3.2519831388225904,
            -1,
            -2.8564614650312117,
            -2.6300655386940868,
            -1,
            -3.1004800976810194,
            -2.440564979449527,
            -3.423533579058867,
            -2.5277868206706184,
            -3.7917817012562556,
            -5,
            -5,
            -3.357591212759635,
            -3.0766577709982603,
            -2.3792907958934144,
            -3.279376056454901,
            -2.3507862139067206,
            -1,
            -3.2689501001280767,
            -2.819595641578432,
            -1.3950436114095641,
            -2.291016233110313,
            -3.6269906181382,
            -2.9442338934257575,
            -3.653512960754308,
            -3.7350936404646866,
            -2.4906061537167754,
            -3.41787228461941,
            -3.721012135341309,
            -2.491897692125186,
            -1,
            -3.6835141903302437,
            -2.7086107702589604,
            -3.385251531847937,
            -2.2133576099824825,
            -3.633721940941159,
            -2.901538360381036,
            -3.6489093904543153,
            -2.7489374037691534,
            -2.516948261173207,
            -3.4576135080950294,
            -3.658187196356703,
            -2.412849409954902,
            -2.170669349858811,
            -2.8798003348172436,
            -2.946971414169591,
            -2.7663295319222274,
            -2.730753971513836,
            -2.8900268057165808,
            -3.0047314090291293,
            -2.782641387237527,
            -3.0373165552177115,
            -2.678801319009776,
            -3.101591079265886,
            -2.867177174221584,
            -2.550724757588367,
            -2.7073209747360694,
            -3.2236872009896347,
            -2.8812345812184073,
            -3.7455134816861984,
            -2.761194089361365,
            -2.2074296751282696,
            -3.2054021842062994,
            -2.899663009551671,
            -2.379163875730235,
            -3.089592203912331,
            -3.908841644036372,
            -2.1231926236965912,
            -3.7172145981364335,
            -3.3694207880929694,
            -3.5646697227546618,
            -3.9530957034476932,
            -2.044416782028243,
            -2.8182670568417243,
            -3.203994333296152,
            -3.5617783477246134,
            -3.256900184224367,
            -2.866733764042076,
            -2.885229798877955,
            -1.3128345704552966,
            -2.9977784269453003,
            -3.963516833792057,
            -2.920998456393734,
            -2.6096138219561755,
            -4.050983829919187,
            -3.644879478486349,
            -3.5623512948075633,
            -3.810171205232561,
            -3.6828918311465406,
            -3.261533442355936,
            -1.9254728305090154,
            -2.7229231885266936,
            -3.313878683152482,
            -2.8124469995863985
           ]
          },
          {
           "label": "num_epochs",
           "range": [
            100,
            1000
           ],
           "values": [
            354,
            390,
            564,
            143,
            522,
            571,
            916,
            867,
            749,
            797,
            1000,
            553,
            155,
            799,
            1000,
            1000,
            1000,
            1000,
            1000,
            1000,
            1000,
            1000,
            1000,
            100,
            727,
            921,
            1000,
            780,
            618,
            629,
            733,
            1000,
            1000,
            525,
            979,
            604,
            1000,
            974,
            789,
            1000,
            897,
            620,
            1000,
            100,
            1000,
            100,
            1000,
            1000,
            1000,
            100,
            1000,
            1000,
            100,
            1000,
            697,
            1000,
            1000,
            100,
            1000,
            1000,
            1000,
            619,
            1000,
            1000,
            1000,
            1000,
            1000,
            505,
            681,
            877,
            479,
            810,
            1000,
            1000,
            787,
            1000,
            782,
            1000,
            1000,
            784,
            711,
            527,
            519,
            1000,
            1000,
            722,
            609,
            444,
            1000,
            1000,
            716,
            1000,
            100,
            1000,
            1000,
            631,
            1000,
            1000,
            1000,
            1000,
            737,
            100,
            633,
            1000,
            1000,
            688,
            740,
            100,
            1000,
            1000,
            100,
            1000,
            731,
            628,
            760,
            1000
           ]
          },
          {
           "label": "weight_decay",
           "range": [
            -7,
            -2
           ],
           "ticktext": [
            "1e-07",
            "1e-06",
            "1e-05",
            "0.0001",
            "0.001",
            "0.01"
           ],
           "tickvals": [
            -7,
            -6,
            -5,
            -4,
            -3,
            -2
           ],
           "values": [
            -6.502965028726028,
            -5.385058996100057,
            -2.8343433478079265,
            -3.5251530867203607,
            -5.862609775544755,
            -6.963942210418266,
            -5.858559205714596,
            -5.849017224807103,
            -4.871353836932031,
            -2.0852803763948966,
            -7,
            -6.768964636429215,
            -5.970753069429451,
            -6.644513286996478,
            -6.276840392952298,
            -7,
            -7,
            -5.990552816928688,
            -6.464842604026605,
            -5.8836254973253475,
            -5.654510613369726,
            -7,
            -6.458849198673705,
            -7,
            -7,
            -7,
            -7,
            -6.656285291814285,
            -7,
            -7,
            -6.3138097869272745,
            -6.693708561892341,
            -7,
            -7,
            -6.200096703236243,
            -5.884395543745038,
            -7,
            -6.482683833673972,
            -7,
            -2,
            -6.262707939939393,
            -6.638598490493909,
            -4.685166927085927,
            -4.712398008924033,
            -5.850670146298628,
            -7,
            -5.933687282801554,
            -7,
            -7,
            -5.13214392001505,
            -6.310633346368036,
            -6.152589817788365,
            -2,
            -6.443068002622153,
            -7,
            -7,
            -5.819715552910508,
            -7,
            -7,
            -6.245503482701604,
            -6.474897855354554,
            -6.3281216980805075,
            -7,
            -6.387765116278991,
            -7,
            -6.878016436917128,
            -5.294220191650396,
            -5.985672124058999,
            -5.724655809937599,
            -6.032417891598658,
            -6.184776119829555,
            -4.938655979088495,
            -4.273972531316822,
            -4.686483046739863,
            -4.328108224009469,
            -4.618287155598462,
            -4.820778971191169,
            -2,
            -4.741074915641567,
            -4.866627364827747,
            -4.767655341440229,
            -7,
            -7,
            -4.807625499673224,
            -4.88206429400971,
            -4.262728212360735,
            -7,
            -7,
            -7,
            -4.154242310597376,
            -6.409123352398615,
            -5.02560294326959,
            -7,
            -7,
            -7,
            -7,
            -7,
            -7,
            -7,
            -4.475699016805948,
            -4.929908896351366,
            -7,
            -5.9706448611847485,
            -7,
            -4.1247725759631315,
            -5.022486986105286,
            -7,
            -7,
            -5.849918778496287,
            -7,
            -2,
            -5.910080817170614,
            -5.1700323789366,
            -5.232213765393296,
            -5.772022184945657,
            -4.62557165206863
           ]
          }
         ],
         "labelangle": 30,
         "labelside": "bottom",
         "line": {
          "color": [
           0.728670084476471,
           -0.003487372398376465,
           -0.0034284353838302194,
           0.5545020997524261,
           0.6906830310821533,
           0.8776967883110046,
           0.8217004895210266,
           0.8871801376342774,
           0.7671377062797546,
           -0.003187680325936526,
           0.7243685603141785,
           0.7389035701751709,
           0.5822515845298767,
           0.7114449262619018,
           0.9006430864334106,
           0.831620705127716,
           0.8652488708496093,
           0.9263389110565186,
           0.9141208410263062,
           0.9347395777702332,
           0.6891497373580933,
           0.9314884185791016,
           0.9119929313659668,
           -0.029905320145189762,
           0.926141333580017,
           0.8901583671569824,
           0.4048424243927002,
           0.9015184760093689,
           0.6962047815322876,
           0.8974735498428345,
           0.9089012145996094,
           0.9240515351295471,
           0.11783681871602311,
           0.6385643601417541,
           0.9376871705055236,
           0.9038957834243775,
           0.689619117975235,
           0.925602400302887,
           0.886579978466034,
           0.5965818762779236,
           0.9024510264396668,
           0.9370152235031128,
           0.6550382256507874,
           0.7361147999763489,
           0.9219766139984131,
           0.8592621088027954,
           0.9023713111877442,
           0.9283145189285278,
           0.9099695920944214,
           0.7853631138801574,
           0.9373260498046875,
           0.9008489489555359,
           0.47824937105178833,
           0.9286617159843444,
           0.910056209564209,
           0.8364753246307373,
           0.8989986658096314,
           0.6627467989921569,
           0.9154774904251098,
           0.9041741728782654,
           0.8804207563400268,
           0.9147214651107788,
           0.9053831815719604,
           0.9185946583747864,
           0.9292992949485779,
           0.909398877620697,
           0.9171365141868592,
           0.9141539692878723,
           0.930120587348938,
           0.8718758225440979,
           0.9182042241096496,
           0.9488087177276612,
           0.9419460654258728,
           0.9075747966766358,
           0.9250250220298767,
           0.9345814347267151,
           0.9198010325431824,
           0.6633194923400879,
           0.8928572297096252,
           0.916089677810669,
           0.8804820775985718,
           0.9119015336036682,
           0.9037660360336304,
           0.8574306845664978,
           0.903129494190216,
           0.9056983470916748,
           0.8341989517211914,
           0.9033874988555908,
           0.9109774708747864,
           0.8448405504226685,
           0.9006251454353332,
           0.9030828475952148,
           0.785203504562378,
           0.9303465723991394,
           0.8562721610069275,
           0.9200731754302979,
           0.9020193576812744,
           0.9002752423286438,
           0.8972668409347534,
           0.9283817172050476,
           0.9238414764404297,
           0.5582654714584351,
           0.9096188426017762,
           0.9180852055549622,
           0.8861315608024597,
           0.9048838138580322,
           0.9160219073295593,
           0.7776371836662292,
           0.9077721953392028,
           0.9065704226493836,
           -0.0030058957287110387,
           0.9048141002655029,
           0.7626327395439148,
           0.9327368974685669,
           0.9111244797706604,
           0.9303426504135132
          ],
          "colorbar": {
           "title": {
            "text": "Objective Value"
           }
          },
          "colorscale": [
           [
            0,
            "rgb(247,251,255)"
           ],
           [
            0.125,
            "rgb(222,235,247)"
           ],
           [
            0.25,
            "rgb(198,219,239)"
           ],
           [
            0.375,
            "rgb(158,202,225)"
           ],
           [
            0.5,
            "rgb(107,174,214)"
           ],
           [
            0.625,
            "rgb(66,146,198)"
           ],
           [
            0.75,
            "rgb(33,113,181)"
           ],
           [
            0.875,
            "rgb(8,81,156)"
           ],
           [
            1,
            "rgb(8,48,107)"
           ]
          ],
          "reversescale": false,
          "showscale": true
         },
         "type": "parcoords"
        }
       ],
       "layout": {
        "template": {
         "data": {
          "bar": [
           {
            "error_x": {
             "color": "#2a3f5f"
            },
            "error_y": {
             "color": "#2a3f5f"
            },
            "marker": {
             "line": {
              "color": "#E5ECF6",
              "width": 0.5
             },
             "pattern": {
              "fillmode": "overlay",
              "size": 10,
              "solidity": 0.2
             }
            },
            "type": "bar"
           }
          ],
          "barpolar": [
           {
            "marker": {
             "line": {
              "color": "#E5ECF6",
              "width": 0.5
             },
             "pattern": {
              "fillmode": "overlay",
              "size": 10,
              "solidity": 0.2
             }
            },
            "type": "barpolar"
           }
          ],
          "carpet": [
           {
            "aaxis": {
             "endlinecolor": "#2a3f5f",
             "gridcolor": "white",
             "linecolor": "white",
             "minorgridcolor": "white",
             "startlinecolor": "#2a3f5f"
            },
            "baxis": {
             "endlinecolor": "#2a3f5f",
             "gridcolor": "white",
             "linecolor": "white",
             "minorgridcolor": "white",
             "startlinecolor": "#2a3f5f"
            },
            "type": "carpet"
           }
          ],
          "choropleth": [
           {
            "colorbar": {
             "outlinewidth": 0,
             "ticks": ""
            },
            "type": "choropleth"
           }
          ],
          "contour": [
           {
            "colorbar": {
             "outlinewidth": 0,
             "ticks": ""
            },
            "colorscale": [
             [
              0,
              "#0d0887"
             ],
             [
              0.1111111111111111,
              "#46039f"
             ],
             [
              0.2222222222222222,
              "#7201a8"
             ],
             [
              0.3333333333333333,
              "#9c179e"
             ],
             [
              0.4444444444444444,
              "#bd3786"
             ],
             [
              0.5555555555555556,
              "#d8576b"
             ],
             [
              0.6666666666666666,
              "#ed7953"
             ],
             [
              0.7777777777777778,
              "#fb9f3a"
             ],
             [
              0.8888888888888888,
              "#fdca26"
             ],
             [
              1,
              "#f0f921"
             ]
            ],
            "type": "contour"
           }
          ],
          "contourcarpet": [
           {
            "colorbar": {
             "outlinewidth": 0,
             "ticks": ""
            },
            "type": "contourcarpet"
           }
          ],
          "heatmap": [
           {
            "colorbar": {
             "outlinewidth": 0,
             "ticks": ""
            },
            "colorscale": [
             [
              0,
              "#0d0887"
             ],
             [
              0.1111111111111111,
              "#46039f"
             ],
             [
              0.2222222222222222,
              "#7201a8"
             ],
             [
              0.3333333333333333,
              "#9c179e"
             ],
             [
              0.4444444444444444,
              "#bd3786"
             ],
             [
              0.5555555555555556,
              "#d8576b"
             ],
             [
              0.6666666666666666,
              "#ed7953"
             ],
             [
              0.7777777777777778,
              "#fb9f3a"
             ],
             [
              0.8888888888888888,
              "#fdca26"
             ],
             [
              1,
              "#f0f921"
             ]
            ],
            "type": "heatmap"
           }
          ],
          "histogram": [
           {
            "marker": {
             "pattern": {
              "fillmode": "overlay",
              "size": 10,
              "solidity": 0.2
             }
            },
            "type": "histogram"
           }
          ],
          "histogram2d": [
           {
            "colorbar": {
             "outlinewidth": 0,
             "ticks": ""
            },
            "colorscale": [
             [
              0,
              "#0d0887"
             ],
             [
              0.1111111111111111,
              "#46039f"
             ],
             [
              0.2222222222222222,
              "#7201a8"
             ],
             [
              0.3333333333333333,
              "#9c179e"
             ],
             [
              0.4444444444444444,
              "#bd3786"
             ],
             [
              0.5555555555555556,
              "#d8576b"
             ],
             [
              0.6666666666666666,
              "#ed7953"
             ],
             [
              0.7777777777777778,
              "#fb9f3a"
             ],
             [
              0.8888888888888888,
              "#fdca26"
             ],
             [
              1,
              "#f0f921"
             ]
            ],
            "type": "histogram2d"
           }
          ],
          "histogram2dcontour": [
           {
            "colorbar": {
             "outlinewidth": 0,
             "ticks": ""
            },
            "colorscale": [
             [
              0,
              "#0d0887"
             ],
             [
              0.1111111111111111,
              "#46039f"
             ],
             [
              0.2222222222222222,
              "#7201a8"
             ],
             [
              0.3333333333333333,
              "#9c179e"
             ],
             [
              0.4444444444444444,
              "#bd3786"
             ],
             [
              0.5555555555555556,
              "#d8576b"
             ],
             [
              0.6666666666666666,
              "#ed7953"
             ],
             [
              0.7777777777777778,
              "#fb9f3a"
             ],
             [
              0.8888888888888888,
              "#fdca26"
             ],
             [
              1,
              "#f0f921"
             ]
            ],
            "type": "histogram2dcontour"
           }
          ],
          "mesh3d": [
           {
            "colorbar": {
             "outlinewidth": 0,
             "ticks": ""
            },
            "type": "mesh3d"
           }
          ],
          "parcoords": [
           {
            "line": {
             "colorbar": {
              "outlinewidth": 0,
              "ticks": ""
             }
            },
            "type": "parcoords"
           }
          ],
          "pie": [
           {
            "automargin": true,
            "type": "pie"
           }
          ],
          "scatter": [
           {
            "fillpattern": {
             "fillmode": "overlay",
             "size": 10,
             "solidity": 0.2
            },
            "type": "scatter"
           }
          ],
          "scatter3d": [
           {
            "line": {
             "colorbar": {
              "outlinewidth": 0,
              "ticks": ""
             }
            },
            "marker": {
             "colorbar": {
              "outlinewidth": 0,
              "ticks": ""
             }
            },
            "type": "scatter3d"
           }
          ],
          "scattercarpet": [
           {
            "marker": {
             "colorbar": {
              "outlinewidth": 0,
              "ticks": ""
             }
            },
            "type": "scattercarpet"
           }
          ],
          "scattergeo": [
           {
            "marker": {
             "colorbar": {
              "outlinewidth": 0,
              "ticks": ""
             }
            },
            "type": "scattergeo"
           }
          ],
          "scattergl": [
           {
            "marker": {
             "colorbar": {
              "outlinewidth": 0,
              "ticks": ""
             }
            },
            "type": "scattergl"
           }
          ],
          "scattermap": [
           {
            "marker": {
             "colorbar": {
              "outlinewidth": 0,
              "ticks": ""
             }
            },
            "type": "scattermap"
           }
          ],
          "scattermapbox": [
           {
            "marker": {
             "colorbar": {
              "outlinewidth": 0,
              "ticks": ""
             }
            },
            "type": "scattermapbox"
           }
          ],
          "scatterpolar": [
           {
            "marker": {
             "colorbar": {
              "outlinewidth": 0,
              "ticks": ""
             }
            },
            "type": "scatterpolar"
           }
          ],
          "scatterpolargl": [
           {
            "marker": {
             "colorbar": {
              "outlinewidth": 0,
              "ticks": ""
             }
            },
            "type": "scatterpolargl"
           }
          ],
          "scatterternary": [
           {
            "marker": {
             "colorbar": {
              "outlinewidth": 0,
              "ticks": ""
             }
            },
            "type": "scatterternary"
           }
          ],
          "surface": [
           {
            "colorbar": {
             "outlinewidth": 0,
             "ticks": ""
            },
            "colorscale": [
             [
              0,
              "#0d0887"
             ],
             [
              0.1111111111111111,
              "#46039f"
             ],
             [
              0.2222222222222222,
              "#7201a8"
             ],
             [
              0.3333333333333333,
              "#9c179e"
             ],
             [
              0.4444444444444444,
              "#bd3786"
             ],
             [
              0.5555555555555556,
              "#d8576b"
             ],
             [
              0.6666666666666666,
              "#ed7953"
             ],
             [
              0.7777777777777778,
              "#fb9f3a"
             ],
             [
              0.8888888888888888,
              "#fdca26"
             ],
             [
              1,
              "#f0f921"
             ]
            ],
            "type": "surface"
           }
          ],
          "table": [
           {
            "cells": {
             "fill": {
              "color": "#EBF0F8"
             },
             "line": {
              "color": "white"
             }
            },
            "header": {
             "fill": {
              "color": "#C8D4E3"
             },
             "line": {
              "color": "white"
             }
            },
            "type": "table"
           }
          ]
         },
         "layout": {
          "annotationdefaults": {
           "arrowcolor": "#2a3f5f",
           "arrowhead": 0,
           "arrowwidth": 1
          },
          "autotypenumbers": "strict",
          "coloraxis": {
           "colorbar": {
            "outlinewidth": 0,
            "ticks": ""
           }
          },
          "colorscale": {
           "diverging": [
            [
             0,
             "#8e0152"
            ],
            [
             0.1,
             "#c51b7d"
            ],
            [
             0.2,
             "#de77ae"
            ],
            [
             0.3,
             "#f1b6da"
            ],
            [
             0.4,
             "#fde0ef"
            ],
            [
             0.5,
             "#f7f7f7"
            ],
            [
             0.6,
             "#e6f5d0"
            ],
            [
             0.7,
             "#b8e186"
            ],
            [
             0.8,
             "#7fbc41"
            ],
            [
             0.9,
             "#4d9221"
            ],
            [
             1,
             "#276419"
            ]
           ],
           "sequential": [
            [
             0,
             "#0d0887"
            ],
            [
             0.1111111111111111,
             "#46039f"
            ],
            [
             0.2222222222222222,
             "#7201a8"
            ],
            [
             0.3333333333333333,
             "#9c179e"
            ],
            [
             0.4444444444444444,
             "#bd3786"
            ],
            [
             0.5555555555555556,
             "#d8576b"
            ],
            [
             0.6666666666666666,
             "#ed7953"
            ],
            [
             0.7777777777777778,
             "#fb9f3a"
            ],
            [
             0.8888888888888888,
             "#fdca26"
            ],
            [
             1,
             "#f0f921"
            ]
           ],
           "sequentialminus": [
            [
             0,
             "#0d0887"
            ],
            [
             0.1111111111111111,
             "#46039f"
            ],
            [
             0.2222222222222222,
             "#7201a8"
            ],
            [
             0.3333333333333333,
             "#9c179e"
            ],
            [
             0.4444444444444444,
             "#bd3786"
            ],
            [
             0.5555555555555556,
             "#d8576b"
            ],
            [
             0.6666666666666666,
             "#ed7953"
            ],
            [
             0.7777777777777778,
             "#fb9f3a"
            ],
            [
             0.8888888888888888,
             "#fdca26"
            ],
            [
             1,
             "#f0f921"
            ]
           ]
          },
          "colorway": [
           "#636efa",
           "#EF553B",
           "#00cc96",
           "#ab63fa",
           "#FFA15A",
           "#19d3f3",
           "#FF6692",
           "#B6E880",
           "#FF97FF",
           "#FECB52"
          ],
          "font": {
           "color": "#2a3f5f"
          },
          "geo": {
           "bgcolor": "white",
           "lakecolor": "white",
           "landcolor": "#E5ECF6",
           "showlakes": true,
           "showland": true,
           "subunitcolor": "white"
          },
          "hoverlabel": {
           "align": "left"
          },
          "hovermode": "closest",
          "mapbox": {
           "style": "light"
          },
          "paper_bgcolor": "white",
          "plot_bgcolor": "#E5ECF6",
          "polar": {
           "angularaxis": {
            "gridcolor": "white",
            "linecolor": "white",
            "ticks": ""
           },
           "bgcolor": "#E5ECF6",
           "radialaxis": {
            "gridcolor": "white",
            "linecolor": "white",
            "ticks": ""
           }
          },
          "scene": {
           "xaxis": {
            "backgroundcolor": "#E5ECF6",
            "gridcolor": "white",
            "gridwidth": 2,
            "linecolor": "white",
            "showbackground": true,
            "ticks": "",
            "zerolinecolor": "white"
           },
           "yaxis": {
            "backgroundcolor": "#E5ECF6",
            "gridcolor": "white",
            "gridwidth": 2,
            "linecolor": "white",
            "showbackground": true,
            "ticks": "",
            "zerolinecolor": "white"
           },
           "zaxis": {
            "backgroundcolor": "#E5ECF6",
            "gridcolor": "white",
            "gridwidth": 2,
            "linecolor": "white",
            "showbackground": true,
            "ticks": "",
            "zerolinecolor": "white"
           }
          },
          "shapedefaults": {
           "line": {
            "color": "#2a3f5f"
           }
          },
          "ternary": {
           "aaxis": {
            "gridcolor": "white",
            "linecolor": "white",
            "ticks": ""
           },
           "baxis": {
            "gridcolor": "white",
            "linecolor": "white",
            "ticks": ""
           },
           "bgcolor": "#E5ECF6",
           "caxis": {
            "gridcolor": "white",
            "linecolor": "white",
            "ticks": ""
           }
          },
          "title": {
           "x": 0.05
          },
          "xaxis": {
           "automargin": true,
           "gridcolor": "white",
           "linecolor": "white",
           "ticks": "",
           "title": {
            "standoff": 15
           },
           "zerolinecolor": "white",
           "zerolinewidth": 2
          },
          "yaxis": {
           "automargin": true,
           "gridcolor": "white",
           "linecolor": "white",
           "ticks": "",
           "title": {
            "standoff": 15
           },
           "zerolinecolor": "white",
           "zerolinewidth": 2
          }
         }
        },
        "title": {
         "text": "Parallel Coordinate Plot"
        }
       }
      }
     },
     "metadata": {},
     "output_type": "display_data"
    }
   ],
   "source": [
    "# 파라미터 간의 관계를 보여주는 플롯\n",
    "optuna.visualization.plot_parallel_coordinate(study)"
   ]
  },
  {
   "cell_type": "code",
   "execution_count": 6,
   "metadata": {},
   "outputs": [
    {
     "data": {
      "application/vnd.plotly.v1+json": {
       "config": {
        "plotlyServerURL": "https://plot.ly"
       },
       "data": [
        {
         "marker": {
          "color": [
           0,
           1,
           2,
           3,
           4,
           5,
           6,
           7,
           8,
           9,
           10,
           11,
           12,
           13,
           14,
           15,
           16,
           17,
           18,
           19,
           20,
           21,
           22,
           23,
           24,
           25,
           26,
           27,
           28,
           29,
           32,
           33,
           34,
           35,
           36,
           37,
           38,
           39,
           40,
           41,
           42,
           43,
           44,
           45,
           46,
           47,
           48,
           49,
           50,
           51,
           52,
           53,
           54,
           55,
           56,
           57,
           58,
           59,
           60,
           61,
           62,
           63,
           64,
           65,
           66,
           67,
           68,
           69,
           70,
           71,
           72,
           73,
           74,
           75,
           76,
           77,
           78,
           79,
           80,
           81,
           82,
           83,
           84,
           85,
           86,
           87,
           88,
           89,
           90,
           91,
           92,
           93,
           94,
           95,
           96,
           97,
           98,
           99,
           100,
           101,
           102,
           103,
           104,
           105,
           106,
           108,
           109,
           110,
           111,
           112,
           113,
           114,
           115,
           116,
           117,
           118
          ],
          "colorbar": {
           "title": {
            "text": "Trial"
           },
           "x": 1,
           "xpad": 40
          },
          "colorscale": [
           [
            0,
            "rgb(247,251,255)"
           ],
           [
            0.125,
            "rgb(222,235,247)"
           ],
           [
            0.25,
            "rgb(198,219,239)"
           ],
           [
            0.375,
            "rgb(158,202,225)"
           ],
           [
            0.5,
            "rgb(107,174,214)"
           ],
           [
            0.625,
            "rgb(66,146,198)"
           ],
           [
            0.75,
            "rgb(33,113,181)"
           ],
           [
            0.875,
            "rgb(8,81,156)"
           ],
           [
            1,
            "rgb(8,48,107)"
           ]
          ],
          "line": {
           "color": "Grey",
           "width": 0.5
          },
          "showscale": true
         },
         "mode": "markers",
         "name": "Feasible Trial",
         "showlegend": false,
         "type": "scatter",
         "x": [
          16,
          139,
          154,
          146,
          201,
          251,
          101,
          86,
          27,
          46,
          245,
          36,
          256,
          16,
          181,
          256,
          256,
          88,
          106,
          156,
          256,
          134,
          141,
          256,
          199,
          16,
          16,
          133,
          256,
          256,
          256,
          16,
          16,
          16,
          16,
          256,
          16,
          57,
          256,
          256,
          83,
          256,
          256,
          256,
          16,
          256,
          256,
          16,
          256,
          256,
          16,
          16,
          16,
          16,
          256,
          16,
          256,
          256,
          256,
          16,
          256,
          147,
          16,
          121,
          144,
          256,
          16,
          16,
          123,
          16,
          210,
          184,
          256,
          256,
          152,
          145,
          256,
          256,
          169,
          96,
          256,
          16,
          16,
          256,
          256,
          16,
          256,
          16,
          16,
          16,
          16,
          16,
          16,
          16,
          16,
          141,
          256,
          256,
          16,
          16,
          68,
          16,
          256,
          16,
          16,
          16,
          16,
          16,
          256,
          140,
          256,
          256,
          16,
          183,
          76,
          256
         ],
         "xaxis": "x",
         "y": [
          0.728670084476471,
          -0.003487372398376465,
          -0.0034284353838302194,
          0.5545020997524261,
          0.6906830310821533,
          0.8776967883110046,
          0.8217004895210266,
          0.8871801376342774,
          0.7671377062797546,
          -0.003187680325936526,
          0.7243685603141785,
          0.7389035701751709,
          0.5822515845298767,
          0.7114449262619018,
          0.9006430864334106,
          0.831620705127716,
          0.8652488708496093,
          0.9263389110565186,
          0.9141208410263062,
          0.9347395777702332,
          0.6891497373580933,
          0.9314884185791016,
          0.9119929313659668,
          -0.029905320145189762,
          0.926141333580017,
          0.8901583671569824,
          0.4048424243927002,
          0.9015184760093689,
          0.6962047815322876,
          0.8974735498428345,
          0.9089012145996094,
          0.9240515351295471,
          0.11783681871602311,
          0.6385643601417541,
          0.9376871705055236,
          0.9038957834243775,
          0.689619117975235,
          0.925602400302887,
          0.886579978466034,
          0.5965818762779236,
          0.9024510264396668,
          0.9370152235031128,
          0.6550382256507874,
          0.7361147999763489,
          0.9219766139984131,
          0.8592621088027954,
          0.9023713111877442,
          0.9283145189285278,
          0.9099695920944214,
          0.7853631138801574,
          0.9373260498046875,
          0.9008489489555359,
          0.47824937105178833,
          0.9286617159843444,
          0.910056209564209,
          0.8364753246307373,
          0.8989986658096314,
          0.6627467989921569,
          0.9154774904251098,
          0.9041741728782654,
          0.8804207563400268,
          0.9147214651107788,
          0.9053831815719604,
          0.9185946583747864,
          0.9292992949485779,
          0.909398877620697,
          0.9171365141868592,
          0.9141539692878723,
          0.930120587348938,
          0.8718758225440979,
          0.9182042241096496,
          0.9488087177276612,
          0.9419460654258728,
          0.9075747966766358,
          0.9250250220298767,
          0.9345814347267151,
          0.9198010325431824,
          0.6633194923400879,
          0.8928572297096252,
          0.916089677810669,
          0.8804820775985718,
          0.9119015336036682,
          0.9037660360336304,
          0.8574306845664978,
          0.903129494190216,
          0.9056983470916748,
          0.8341989517211914,
          0.9033874988555908,
          0.9109774708747864,
          0.8448405504226685,
          0.9006251454353332,
          0.9030828475952148,
          0.785203504562378,
          0.9303465723991394,
          0.8562721610069275,
          0.9200731754302979,
          0.9020193576812744,
          0.9002752423286438,
          0.8972668409347534,
          0.9283817172050476,
          0.9238414764404297,
          0.5582654714584351,
          0.9096188426017762,
          0.9180852055549622,
          0.8861315608024597,
          0.9048838138580322,
          0.9160219073295593,
          0.7776371836662292,
          0.9077721953392028,
          0.9065704226493836,
          -0.0030058957287110387,
          0.9048141002655029,
          0.7626327395439148,
          0.9327368974685669,
          0.9111244797706604,
          0.9303426504135132
         ],
         "yaxis": "y"
        },
        {
         "marker": {
          "color": [
           0,
           1,
           2,
           3,
           4,
           5,
           6,
           7,
           8,
           9,
           10,
           11,
           12,
           13,
           14,
           15,
           16,
           17,
           18,
           19,
           20,
           21,
           22,
           23,
           24,
           25,
           26,
           27,
           28,
           29,
           32,
           33,
           34,
           35,
           36,
           37,
           38,
           39,
           40,
           41,
           42,
           43,
           44,
           45,
           46,
           47,
           48,
           49,
           50,
           51,
           52,
           53,
           54,
           55,
           56,
           57,
           58,
           59,
           60,
           61,
           62,
           63,
           64,
           65,
           66,
           67,
           68,
           69,
           70,
           71,
           72,
           73,
           74,
           75,
           76,
           77,
           78,
           79,
           80,
           81,
           82,
           83,
           84,
           85,
           86,
           87,
           88,
           89,
           90,
           91,
           92,
           93,
           94,
           95,
           96,
           97,
           98,
           99,
           100,
           101,
           102,
           103,
           104,
           105,
           106,
           108,
           109,
           110,
           111,
           112,
           113,
           114,
           115,
           116,
           117,
           118
          ],
          "colorbar": {
           "title": {
            "text": "Trial"
           },
           "x": 1,
           "xpad": 40
          },
          "colorscale": [
           [
            0,
            "rgb(247,251,255)"
           ],
           [
            0.125,
            "rgb(222,235,247)"
           ],
           [
            0.25,
            "rgb(198,219,239)"
           ],
           [
            0.375,
            "rgb(158,202,225)"
           ],
           [
            0.5,
            "rgb(107,174,214)"
           ],
           [
            0.625,
            "rgb(66,146,198)"
           ],
           [
            0.75,
            "rgb(33,113,181)"
           ],
           [
            0.875,
            "rgb(8,81,156)"
           ],
           [
            1,
            "rgb(8,48,107)"
           ]
          ],
          "line": {
           "color": "Grey",
           "width": 0.5
          },
          "showscale": false
         },
         "mode": "markers",
         "name": "Feasible Trial",
         "showlegend": false,
         "type": "scatter",
         "x": [
          2,
          19,
          18,
          5,
          1,
          8,
          6,
          5,
          1,
          7,
          5,
          7,
          6,
          3,
          5,
          6,
          8,
          5,
          7,
          7,
          6,
          6,
          7,
          7,
          4,
          8,
          1,
          6,
          2,
          6,
          6,
          7,
          20,
          1,
          6,
          3,
          9,
          6,
          7,
          1,
          6,
          5,
          1,
          1,
          7,
          4,
          5,
          5,
          3,
          6,
          5,
          4,
          1,
          6,
          5,
          1,
          4,
          8,
          7,
          6,
          5,
          4,
          7,
          6,
          5,
          4,
          7,
          5,
          6,
          6,
          5,
          6,
          6,
          8,
          5,
          6,
          6,
          4,
          6,
          6,
          5,
          5,
          3,
          1,
          6,
          7,
          1,
          7,
          7,
          4,
          6,
          7,
          2,
          5,
          2,
          6,
          11,
          8,
          10,
          4,
          5,
          1,
          8,
          4,
          6,
          3,
          7,
          12,
          10,
          7,
          20,
          9,
          1,
          5,
          9,
          4
         ],
         "xaxis": "x2",
         "y": [
          0.728670084476471,
          -0.003487372398376465,
          -0.0034284353838302194,
          0.5545020997524261,
          0.6906830310821533,
          0.8776967883110046,
          0.8217004895210266,
          0.8871801376342774,
          0.7671377062797546,
          -0.003187680325936526,
          0.7243685603141785,
          0.7389035701751709,
          0.5822515845298767,
          0.7114449262619018,
          0.9006430864334106,
          0.831620705127716,
          0.8652488708496093,
          0.9263389110565186,
          0.9141208410263062,
          0.9347395777702332,
          0.6891497373580933,
          0.9314884185791016,
          0.9119929313659668,
          -0.029905320145189762,
          0.926141333580017,
          0.8901583671569824,
          0.4048424243927002,
          0.9015184760093689,
          0.6962047815322876,
          0.8974735498428345,
          0.9089012145996094,
          0.9240515351295471,
          0.11783681871602311,
          0.6385643601417541,
          0.9376871705055236,
          0.9038957834243775,
          0.689619117975235,
          0.925602400302887,
          0.886579978466034,
          0.5965818762779236,
          0.9024510264396668,
          0.9370152235031128,
          0.6550382256507874,
          0.7361147999763489,
          0.9219766139984131,
          0.8592621088027954,
          0.9023713111877442,
          0.9283145189285278,
          0.9099695920944214,
          0.7853631138801574,
          0.9373260498046875,
          0.9008489489555359,
          0.47824937105178833,
          0.9286617159843444,
          0.910056209564209,
          0.8364753246307373,
          0.8989986658096314,
          0.6627467989921569,
          0.9154774904251098,
          0.9041741728782654,
          0.8804207563400268,
          0.9147214651107788,
          0.9053831815719604,
          0.9185946583747864,
          0.9292992949485779,
          0.909398877620697,
          0.9171365141868592,
          0.9141539692878723,
          0.930120587348938,
          0.8718758225440979,
          0.9182042241096496,
          0.9488087177276612,
          0.9419460654258728,
          0.9075747966766358,
          0.9250250220298767,
          0.9345814347267151,
          0.9198010325431824,
          0.6633194923400879,
          0.8928572297096252,
          0.916089677810669,
          0.8804820775985718,
          0.9119015336036682,
          0.9037660360336304,
          0.8574306845664978,
          0.903129494190216,
          0.9056983470916748,
          0.8341989517211914,
          0.9033874988555908,
          0.9109774708747864,
          0.8448405504226685,
          0.9006251454353332,
          0.9030828475952148,
          0.785203504562378,
          0.9303465723991394,
          0.8562721610069275,
          0.9200731754302979,
          0.9020193576812744,
          0.9002752423286438,
          0.8972668409347534,
          0.9283817172050476,
          0.9238414764404297,
          0.5582654714584351,
          0.9096188426017762,
          0.9180852055549622,
          0.8861315608024597,
          0.9048838138580322,
          0.9160219073295593,
          0.7776371836662292,
          0.9077721953392028,
          0.9065704226493836,
          -0.0030058957287110387,
          0.9048141002655029,
          0.7626327395439148,
          0.9327368974685669,
          0.9111244797706604,
          0.9303426504135132
         ],
         "yaxis": "y2"
        },
        {
         "marker": {
          "color": [
           0,
           1,
           2,
           3,
           4,
           5,
           6,
           7,
           8,
           9,
           10,
           11,
           12,
           13,
           14,
           15,
           16,
           17,
           18,
           19,
           20,
           21,
           22,
           23,
           24,
           25,
           26,
           27,
           28,
           29,
           32,
           33,
           34,
           35,
           36,
           37,
           38,
           39,
           40,
           41,
           42,
           43,
           44,
           45,
           46,
           47,
           48,
           49,
           50,
           51,
           52,
           53,
           54,
           55,
           56,
           57,
           58,
           59,
           60,
           61,
           62,
           63,
           64,
           65,
           66,
           67,
           68,
           69,
           70,
           71,
           72,
           73,
           74,
           75,
           76,
           77,
           78,
           79,
           80,
           81,
           82,
           83,
           84,
           85,
           86,
           87,
           88,
           89,
           90,
           91,
           92,
           93,
           94,
           95,
           96,
           97,
           98,
           99,
           100,
           101,
           102,
           103,
           104,
           105,
           106,
           108,
           109,
           110,
           111,
           112,
           113,
           114,
           115,
           116,
           117,
           118
          ],
          "colorbar": {
           "title": {
            "text": "Trial"
           },
           "x": 1,
           "xpad": 40
          },
          "colorscale": [
           [
            0,
            "rgb(247,251,255)"
           ],
           [
            0.125,
            "rgb(222,235,247)"
           ],
           [
            0.25,
            "rgb(198,219,239)"
           ],
           [
            0.375,
            "rgb(158,202,225)"
           ],
           [
            0.5,
            "rgb(107,174,214)"
           ],
           [
            0.625,
            "rgb(66,146,198)"
           ],
           [
            0.75,
            "rgb(33,113,181)"
           ],
           [
            0.875,
            "rgb(8,81,156)"
           ],
           [
            1,
            "rgb(8,48,107)"
           ]
          ],
          "line": {
           "color": "Grey",
           "width": 0.5
          },
          "showscale": false
         },
         "mode": "markers",
         "name": "Feasible Trial",
         "showlegend": false,
         "type": "scatter",
         "x": [
          36,
          20,
          67,
          10,
          90,
          76,
          39,
          108,
          119,
          33,
          97,
          128,
          89,
          38,
          106,
          8,
          128,
          128,
          70,
          128,
          8,
          128,
          128,
          128,
          116,
          106,
          128,
          97,
          8,
          128,
          128,
          128,
          128,
          128,
          128,
          128,
          8,
          111,
          75,
          128,
          128,
          97,
          8,
          128,
          110,
          128,
          128,
          102,
          128,
          128,
          128,
          128,
          8,
          106,
          112,
          128,
          103,
          35,
          93,
          128,
          128,
          106,
          107,
          106,
          91,
          79,
          128,
          128,
          105,
          105,
          116,
          128,
          128,
          128,
          128,
          128,
          128,
          128,
          128,
          128,
          100,
          128,
          128,
          128,
          128,
          128,
          128,
          128,
          74,
          128,
          100,
          128,
          128,
          128,
          64,
          128,
          128,
          93,
          128,
          128,
          128,
          8,
          128,
          96,
          128,
          128,
          128,
          128,
          128,
          128,
          128,
          99,
          85,
          128,
          128,
          128
         ],
         "xaxis": "x3",
         "y": [
          0.728670084476471,
          -0.003487372398376465,
          -0.0034284353838302194,
          0.5545020997524261,
          0.6906830310821533,
          0.8776967883110046,
          0.8217004895210266,
          0.8871801376342774,
          0.7671377062797546,
          -0.003187680325936526,
          0.7243685603141785,
          0.7389035701751709,
          0.5822515845298767,
          0.7114449262619018,
          0.9006430864334106,
          0.831620705127716,
          0.8652488708496093,
          0.9263389110565186,
          0.9141208410263062,
          0.9347395777702332,
          0.6891497373580933,
          0.9314884185791016,
          0.9119929313659668,
          -0.029905320145189762,
          0.926141333580017,
          0.8901583671569824,
          0.4048424243927002,
          0.9015184760093689,
          0.6962047815322876,
          0.8974735498428345,
          0.9089012145996094,
          0.9240515351295471,
          0.11783681871602311,
          0.6385643601417541,
          0.9376871705055236,
          0.9038957834243775,
          0.689619117975235,
          0.925602400302887,
          0.886579978466034,
          0.5965818762779236,
          0.9024510264396668,
          0.9370152235031128,
          0.6550382256507874,
          0.7361147999763489,
          0.9219766139984131,
          0.8592621088027954,
          0.9023713111877442,
          0.9283145189285278,
          0.9099695920944214,
          0.7853631138801574,
          0.9373260498046875,
          0.9008489489555359,
          0.47824937105178833,
          0.9286617159843444,
          0.910056209564209,
          0.8364753246307373,
          0.8989986658096314,
          0.6627467989921569,
          0.9154774904251098,
          0.9041741728782654,
          0.8804207563400268,
          0.9147214651107788,
          0.9053831815719604,
          0.9185946583747864,
          0.9292992949485779,
          0.909398877620697,
          0.9171365141868592,
          0.9141539692878723,
          0.930120587348938,
          0.8718758225440979,
          0.9182042241096496,
          0.9488087177276612,
          0.9419460654258728,
          0.9075747966766358,
          0.9250250220298767,
          0.9345814347267151,
          0.9198010325431824,
          0.6633194923400879,
          0.8928572297096252,
          0.916089677810669,
          0.8804820775985718,
          0.9119015336036682,
          0.9037660360336304,
          0.8574306845664978,
          0.903129494190216,
          0.9056983470916748,
          0.8341989517211914,
          0.9033874988555908,
          0.9109774708747864,
          0.8448405504226685,
          0.9006251454353332,
          0.9030828475952148,
          0.785203504562378,
          0.9303465723991394,
          0.8562721610069275,
          0.9200731754302979,
          0.9020193576812744,
          0.9002752423286438,
          0.8972668409347534,
          0.9283817172050476,
          0.9238414764404297,
          0.5582654714584351,
          0.9096188426017762,
          0.9180852055549622,
          0.8861315608024597,
          0.9048838138580322,
          0.9160219073295593,
          0.7776371836662292,
          0.9077721953392028,
          0.9065704226493836,
          -0.0030058957287110387,
          0.9048141002655029,
          0.7626327395439148,
          0.9327368974685669,
          0.9111244797706604,
          0.9303426504135132
         ],
         "yaxis": "y3"
        },
        {
         "marker": {
          "color": [
           0,
           1,
           2,
           3,
           4,
           5,
           6,
           7,
           8,
           9,
           10,
           11,
           12,
           13,
           14,
           15,
           16,
           17,
           18,
           19,
           20,
           21,
           22,
           23,
           24,
           25,
           26,
           27,
           28,
           29,
           32,
           33,
           34,
           35,
           36,
           37,
           38,
           39,
           40,
           41,
           42,
           43,
           44,
           45,
           46,
           47,
           48,
           49,
           50,
           51,
           52,
           53,
           54,
           55,
           56,
           57,
           58,
           59,
           60,
           61,
           62,
           63,
           64,
           65,
           66,
           67,
           68,
           69,
           70,
           71,
           72,
           73,
           74,
           75,
           76,
           77,
           78,
           79,
           80,
           81,
           82,
           83,
           84,
           85,
           86,
           87,
           88,
           89,
           90,
           91,
           92,
           93,
           94,
           95,
           96,
           97,
           98,
           99,
           100,
           101,
           102,
           103,
           104,
           105,
           106,
           108,
           109,
           110,
           111,
           112,
           113,
           114,
           115,
           116,
           117,
           118
          ],
          "colorbar": {
           "title": {
            "text": "Trial"
           },
           "x": 1,
           "xpad": 40
          },
          "colorscale": [
           [
            0,
            "rgb(247,251,255)"
           ],
           [
            0.125,
            "rgb(222,235,247)"
           ],
           [
            0.25,
            "rgb(198,219,239)"
           ],
           [
            0.375,
            "rgb(158,202,225)"
           ],
           [
            0.5,
            "rgb(107,174,214)"
           ],
           [
            0.625,
            "rgb(66,146,198)"
           ],
           [
            0.75,
            "rgb(33,113,181)"
           ],
           [
            0.875,
            "rgb(8,81,156)"
           ],
           [
            1,
            "rgb(8,48,107)"
           ]
          ],
          "line": {
           "color": "Grey",
           "width": 0.5
          },
          "showscale": false
         },
         "mode": "markers",
         "name": "Feasible Trial",
         "showlegend": false,
         "type": "scatter",
         "x": [
          0.00011789781228343294,
          0.00823083771078092,
          0.021090346420438114,
          0.00013510767408238375,
          0.07343339743793724,
          0.002538357369155617,
          0.009738292939399647,
          0.00008612258784520216,
          0.00026546563391915333,
          0.000028602346772934222,
          0.000024940244601315244,
          0.009188166097533234,
          0.000012515665398324156,
          0.000020916122607735963,
          0.0010485905396389879,
          0.010297857229340304,
          0.004242130247328019,
          0.0004382192557445041,
          0.0003912850278725916,
          0.00048062166934883697,
          0.000738561555050603,
          0.0012721120654949928,
          0.0005597793341116551,
          0.1,
          0.001391677272953106,
          0.0023438750781448704,
          0.1,
          0.0007934506172332353,
          0.003626060288138255,
          0.0003771085863609838,
          0.0029662870744154995,
          0.00016151702204435686,
          0.00001,
          0.00001,
          0.0004389436667539044,
          0.0008381895248524175,
          0.004175506884774156,
          0.0005255619841377987,
          0.004458756814462852,
          0.1,
          0.0005383316325683893,
          0.0015149711356637287,
          0.040267659592144615,
          0.005116627101938092,
          0.0002360529226045308,
          0.0011370147707762688,
          0.00022206854100149427,
          0.0001840375145945236,
          0.0032314232566441796,
          0.00038205660782146365,
          0.0001901025159489069,
          0.0032218276761756567,
          0.1,
          0.00020724583420545374,
          0.001956091787547653,
          0.00041185891224571476,
          0.006118463731646103,
          0.00023242244155541675,
          0.0012544739277390547,
          0.0002244350127596738,
          0.0017826356858255973,
          0.003041247317168065,
          0.000348647449014959,
          0.00021969127212094784,
          0.003865009716394626,
          0.006750417752159277,
          0.0013188629412546756,
          0.001129870281763954,
          0.0017126572923243837,
          0.0018588572023113883,
          0.0012881700402369326,
          0.0009891646579354059,
          0.001649523901253706,
          0.0009176634720372963,
          0.0020950706893487665,
          0.0007914234616635135,
          0.0013577594237870125,
          0.00281368349102228,
          0.0019619097490194393,
          0.000597465453957519,
          0.0013145146142477945,
          0.00017967453034290295,
          0.0017330293212596327,
          0.006202550728068688,
          0.0006231574848790123,
          0.0012599026530343987,
          0.004176727331920413,
          0.0008135941104284958,
          0.0001233554539861064,
          0.007530215001825486,
          0.00019177209021810343,
          0.0004271488209307369,
          0.0002724772686708437,
          0.00011140490087604556,
          0.009027826789205584,
          0.0015196128003906028,
          0.0006251808501245914,
          0.00027429737551044615,
          0.0005534773026763116,
          0.001359146390050884,
          0.0013024774142963824,
          0.04865925210783212,
          0.001005128466795253,
          0.00010876349787349656,
          0.0011995035665190701,
          0.002456892632761902,
          0.00008892342260879938,
          0.00022652728586026024,
          0.0002739357447109095,
          0.00015482061730945161,
          0.00020754303763569236,
          0.0005476039317162096,
          0.011872089705907007,
          0.0018926783375100614,
          0.0004854240807350985,
          0.0015401144670225274
         ],
         "xaxis": "x4",
         "y": [
          0.728670084476471,
          -0.003487372398376465,
          -0.0034284353838302194,
          0.5545020997524261,
          0.6906830310821533,
          0.8776967883110046,
          0.8217004895210266,
          0.8871801376342774,
          0.7671377062797546,
          -0.003187680325936526,
          0.7243685603141785,
          0.7389035701751709,
          0.5822515845298767,
          0.7114449262619018,
          0.9006430864334106,
          0.831620705127716,
          0.8652488708496093,
          0.9263389110565186,
          0.9141208410263062,
          0.9347395777702332,
          0.6891497373580933,
          0.9314884185791016,
          0.9119929313659668,
          -0.029905320145189762,
          0.926141333580017,
          0.8901583671569824,
          0.4048424243927002,
          0.9015184760093689,
          0.6962047815322876,
          0.8974735498428345,
          0.9089012145996094,
          0.9240515351295471,
          0.11783681871602311,
          0.6385643601417541,
          0.9376871705055236,
          0.9038957834243775,
          0.689619117975235,
          0.925602400302887,
          0.886579978466034,
          0.5965818762779236,
          0.9024510264396668,
          0.9370152235031128,
          0.6550382256507874,
          0.7361147999763489,
          0.9219766139984131,
          0.8592621088027954,
          0.9023713111877442,
          0.9283145189285278,
          0.9099695920944214,
          0.7853631138801574,
          0.9373260498046875,
          0.9008489489555359,
          0.47824937105178833,
          0.9286617159843444,
          0.910056209564209,
          0.8364753246307373,
          0.8989986658096314,
          0.6627467989921569,
          0.9154774904251098,
          0.9041741728782654,
          0.8804207563400268,
          0.9147214651107788,
          0.9053831815719604,
          0.9185946583747864,
          0.9292992949485779,
          0.909398877620697,
          0.9171365141868592,
          0.9141539692878723,
          0.930120587348938,
          0.8718758225440979,
          0.9182042241096496,
          0.9488087177276612,
          0.9419460654258728,
          0.9075747966766358,
          0.9250250220298767,
          0.9345814347267151,
          0.9198010325431824,
          0.6633194923400879,
          0.8928572297096252,
          0.916089677810669,
          0.8804820775985718,
          0.9119015336036682,
          0.9037660360336304,
          0.8574306845664978,
          0.903129494190216,
          0.9056983470916748,
          0.8341989517211914,
          0.9033874988555908,
          0.9109774708747864,
          0.8448405504226685,
          0.9006251454353332,
          0.9030828475952148,
          0.785203504562378,
          0.9303465723991394,
          0.8562721610069275,
          0.9200731754302979,
          0.9020193576812744,
          0.9002752423286438,
          0.8972668409347534,
          0.9283817172050476,
          0.9238414764404297,
          0.5582654714584351,
          0.9096188426017762,
          0.9180852055549622,
          0.8861315608024597,
          0.9048838138580322,
          0.9160219073295593,
          0.7776371836662292,
          0.9077721953392028,
          0.9065704226493836,
          -0.0030058957287110387,
          0.9048141002655029,
          0.7626327395439148,
          0.9327368974685669,
          0.9111244797706604,
          0.9303426504135132
         ],
         "yaxis": "y4"
        },
        {
         "marker": {
          "color": [
           0,
           1,
           2,
           3,
           4,
           5,
           6,
           7,
           8,
           9,
           10,
           11,
           12,
           13,
           14,
           15,
           16,
           17,
           18,
           19,
           20,
           21,
           22,
           23,
           24,
           25,
           26,
           27,
           28,
           29,
           32,
           33,
           34,
           35,
           36,
           37,
           38,
           39,
           40,
           41,
           42,
           43,
           44,
           45,
           46,
           47,
           48,
           49,
           50,
           51,
           52,
           53,
           54,
           55,
           56,
           57,
           58,
           59,
           60,
           61,
           62,
           63,
           64,
           65,
           66,
           67,
           68,
           69,
           70,
           71,
           72,
           73,
           74,
           75,
           76,
           77,
           78,
           79,
           80,
           81,
           82,
           83,
           84,
           85,
           86,
           87,
           88,
           89,
           90,
           91,
           92,
           93,
           94,
           95,
           96,
           97,
           98,
           99,
           100,
           101,
           102,
           103,
           104,
           105,
           106,
           108,
           109,
           110,
           111,
           112,
           113,
           114,
           115,
           116,
           117,
           118
          ],
          "colorbar": {
           "title": {
            "text": "Trial"
           },
           "x": 1,
           "xpad": 40
          },
          "colorscale": [
           [
            0,
            "rgb(247,251,255)"
           ],
           [
            0.125,
            "rgb(222,235,247)"
           ],
           [
            0.25,
            "rgb(198,219,239)"
           ],
           [
            0.375,
            "rgb(158,202,225)"
           ],
           [
            0.5,
            "rgb(107,174,214)"
           ],
           [
            0.625,
            "rgb(66,146,198)"
           ],
           [
            0.75,
            "rgb(33,113,181)"
           ],
           [
            0.875,
            "rgb(8,81,156)"
           ],
           [
            1,
            "rgb(8,48,107)"
           ]
          ],
          "line": {
           "color": "Grey",
           "width": 0.5
          },
          "showscale": false
         },
         "mode": "markers",
         "name": "Feasible Trial",
         "showlegend": false,
         "type": "scatter",
         "x": [
          354,
          390,
          564,
          143,
          522,
          571,
          916,
          867,
          749,
          797,
          1000,
          553,
          155,
          799,
          1000,
          1000,
          1000,
          1000,
          1000,
          1000,
          1000,
          1000,
          1000,
          100,
          727,
          921,
          1000,
          780,
          618,
          629,
          733,
          1000,
          1000,
          525,
          979,
          604,
          1000,
          974,
          789,
          1000,
          897,
          620,
          1000,
          100,
          1000,
          100,
          1000,
          1000,
          1000,
          100,
          1000,
          1000,
          100,
          1000,
          697,
          1000,
          1000,
          100,
          1000,
          1000,
          1000,
          619,
          1000,
          1000,
          1000,
          1000,
          1000,
          505,
          681,
          877,
          479,
          810,
          1000,
          1000,
          787,
          1000,
          782,
          1000,
          1000,
          784,
          711,
          527,
          519,
          1000,
          1000,
          722,
          609,
          444,
          1000,
          1000,
          716,
          1000,
          100,
          1000,
          1000,
          631,
          1000,
          1000,
          1000,
          1000,
          737,
          100,
          633,
          1000,
          1000,
          688,
          740,
          100,
          1000,
          1000,
          100,
          1000,
          731,
          628,
          760,
          1000
         ],
         "xaxis": "x5",
         "y": [
          0.728670084476471,
          -0.003487372398376465,
          -0.0034284353838302194,
          0.5545020997524261,
          0.6906830310821533,
          0.8776967883110046,
          0.8217004895210266,
          0.8871801376342774,
          0.7671377062797546,
          -0.003187680325936526,
          0.7243685603141785,
          0.7389035701751709,
          0.5822515845298767,
          0.7114449262619018,
          0.9006430864334106,
          0.831620705127716,
          0.8652488708496093,
          0.9263389110565186,
          0.9141208410263062,
          0.9347395777702332,
          0.6891497373580933,
          0.9314884185791016,
          0.9119929313659668,
          -0.029905320145189762,
          0.926141333580017,
          0.8901583671569824,
          0.4048424243927002,
          0.9015184760093689,
          0.6962047815322876,
          0.8974735498428345,
          0.9089012145996094,
          0.9240515351295471,
          0.11783681871602311,
          0.6385643601417541,
          0.9376871705055236,
          0.9038957834243775,
          0.689619117975235,
          0.925602400302887,
          0.886579978466034,
          0.5965818762779236,
          0.9024510264396668,
          0.9370152235031128,
          0.6550382256507874,
          0.7361147999763489,
          0.9219766139984131,
          0.8592621088027954,
          0.9023713111877442,
          0.9283145189285278,
          0.9099695920944214,
          0.7853631138801574,
          0.9373260498046875,
          0.9008489489555359,
          0.47824937105178833,
          0.9286617159843444,
          0.910056209564209,
          0.8364753246307373,
          0.8989986658096314,
          0.6627467989921569,
          0.9154774904251098,
          0.9041741728782654,
          0.8804207563400268,
          0.9147214651107788,
          0.9053831815719604,
          0.9185946583747864,
          0.9292992949485779,
          0.909398877620697,
          0.9171365141868592,
          0.9141539692878723,
          0.930120587348938,
          0.8718758225440979,
          0.9182042241096496,
          0.9488087177276612,
          0.9419460654258728,
          0.9075747966766358,
          0.9250250220298767,
          0.9345814347267151,
          0.9198010325431824,
          0.6633194923400879,
          0.8928572297096252,
          0.916089677810669,
          0.8804820775985718,
          0.9119015336036682,
          0.9037660360336304,
          0.8574306845664978,
          0.903129494190216,
          0.9056983470916748,
          0.8341989517211914,
          0.9033874988555908,
          0.9109774708747864,
          0.8448405504226685,
          0.9006251454353332,
          0.9030828475952148,
          0.785203504562378,
          0.9303465723991394,
          0.8562721610069275,
          0.9200731754302979,
          0.9020193576812744,
          0.9002752423286438,
          0.8972668409347534,
          0.9283817172050476,
          0.9238414764404297,
          0.5582654714584351,
          0.9096188426017762,
          0.9180852055549622,
          0.8861315608024597,
          0.9048838138580322,
          0.9160219073295593,
          0.7776371836662292,
          0.9077721953392028,
          0.9065704226493836,
          -0.0030058957287110387,
          0.9048141002655029,
          0.7626327395439148,
          0.9327368974685669,
          0.9111244797706604,
          0.9303426504135132
         ],
         "yaxis": "y5"
        },
        {
         "marker": {
          "color": [
           0,
           1,
           2,
           3,
           4,
           5,
           6,
           7,
           8,
           9,
           10,
           11,
           12,
           13,
           14,
           15,
           16,
           17,
           18,
           19,
           20,
           21,
           22,
           23,
           24,
           25,
           26,
           27,
           28,
           29,
           32,
           33,
           34,
           35,
           36,
           37,
           38,
           39,
           40,
           41,
           42,
           43,
           44,
           45,
           46,
           47,
           48,
           49,
           50,
           51,
           52,
           53,
           54,
           55,
           56,
           57,
           58,
           59,
           60,
           61,
           62,
           63,
           64,
           65,
           66,
           67,
           68,
           69,
           70,
           71,
           72,
           73,
           74,
           75,
           76,
           77,
           78,
           79,
           80,
           81,
           82,
           83,
           84,
           85,
           86,
           87,
           88,
           89,
           90,
           91,
           92,
           93,
           94,
           95,
           96,
           97,
           98,
           99,
           100,
           101,
           102,
           103,
           104,
           105,
           106,
           108,
           109,
           110,
           111,
           112,
           113,
           114,
           115,
           116,
           117,
           118
          ],
          "colorbar": {
           "title": {
            "text": "Trial"
           },
           "x": 1,
           "xpad": 40
          },
          "colorscale": [
           [
            0,
            "rgb(247,251,255)"
           ],
           [
            0.125,
            "rgb(222,235,247)"
           ],
           [
            0.25,
            "rgb(198,219,239)"
           ],
           [
            0.375,
            "rgb(158,202,225)"
           ],
           [
            0.5,
            "rgb(107,174,214)"
           ],
           [
            0.625,
            "rgb(66,146,198)"
           ],
           [
            0.75,
            "rgb(33,113,181)"
           ],
           [
            0.875,
            "rgb(8,81,156)"
           ],
           [
            1,
            "rgb(8,48,107)"
           ]
          ],
          "line": {
           "color": "Grey",
           "width": 0.5
          },
          "showscale": false
         },
         "mode": "markers",
         "name": "Feasible Trial",
         "showlegend": false,
         "type": "scatter",
         "x": [
          3.140761591429688e-7,
          0.00000412041542113432,
          0.0014643896549713905,
          0.00029843304713233007,
          0.0000013721140912769598,
          1.086570198927991e-7,
          0.0000013849713651765713,
          0.0000014157376284465977,
          0.000013447642748390307,
          0.00821711989210753,
          1e-7,
          1.7022971167729484e-7,
          0.0000010696628938391503,
          2.267183712867978e-7,
          5.286394957511631e-7,
          1e-7,
          1e-7,
          0.0000010219912630914642,
          3.4289203414596124e-7,
          0.000001307297716773225,
          0.0000022155899506499074,
          1e-7,
          3.4765685838126945e-7,
          1e-7,
          1e-7,
          1e-7,
          1e-7,
          2.2065547518518614e-7,
          1e-7,
          1e-7,
          4.855010942387943e-7,
          2.0243772036446223e-7,
          1e-7,
          1e-7,
          6.308168664702398e-7,
          0.0000013049818043574736,
          1e-7,
          3.290911219844233e-7,
          1e-7,
          0.01,
          5.461250029462982e-7,
          2.298272441630346e-7,
          0.000020645864509502562,
          0.000019391079686712145,
          0.0000014103595827043437,
          1e-7,
          0.0000011649645694862856,
          1e-7,
          1e-7,
          0.0000073765973797527156,
          4.890650788723246e-7,
          7.037366709225248e-7,
          0.01,
          3.6052218738008173e-7,
          1e-7,
          1e-7,
          0.0000015145529007153379,
          1e-7,
          1e-7,
          5.681938350720893e-7,
          3.350442312018909e-7,
          4.697624532377984e-7,
          1e-7,
          4.094820640315071e-7,
          1e-7,
          1.3242914132588757e-7,
          0.000005079018659380706,
          0.0000010335413960347992,
          0.0000018851425237915313,
          9.280729364783254e-7,
          6.534673302977165e-7,
          0.000011517123421468006,
          0.00005321419156360146,
          0.000020583392389713684,
          0.00004697770279356584,
          0.00002408312525406249,
          0.000015108488863963181,
          0.01,
          0.000018152025139855965,
          0.000013594794125276292,
          0.00001707436883042687,
          1e-7,
          1e-7,
          0.000015573079487994418,
          0.00001312005652138448,
          0.00005460995109858141,
          1e-7,
          1e-7,
          1e-7,
          0.00007010640370715552,
          3.898312474176268e-7,
          0.00000942751119360114,
          1e-7,
          1e-7,
          1e-7,
          1e-7,
          1e-7,
          1e-7,
          1e-7,
          0.00003344267306375287,
          0.000011751440436381068,
          1e-7,
          0.0000010699294428509166,
          1e-7,
          0.00007502870041687124,
          0.000009495394522952718,
          1e-7,
          1e-7,
          0.0000014128017412844594,
          1e-7,
          0.01,
          0.0000012300398533502061,
          0.0000067603257173112485,
          0.000005858497306762358,
          0.0000016903545815192744,
          0.000023682543731378808
         ],
         "xaxis": "x6",
         "y": [
          0.728670084476471,
          -0.003487372398376465,
          -0.0034284353838302194,
          0.5545020997524261,
          0.6906830310821533,
          0.8776967883110046,
          0.8217004895210266,
          0.8871801376342774,
          0.7671377062797546,
          -0.003187680325936526,
          0.7243685603141785,
          0.7389035701751709,
          0.5822515845298767,
          0.7114449262619018,
          0.9006430864334106,
          0.831620705127716,
          0.8652488708496093,
          0.9263389110565186,
          0.9141208410263062,
          0.9347395777702332,
          0.6891497373580933,
          0.9314884185791016,
          0.9119929313659668,
          -0.029905320145189762,
          0.926141333580017,
          0.8901583671569824,
          0.4048424243927002,
          0.9015184760093689,
          0.6962047815322876,
          0.8974735498428345,
          0.9089012145996094,
          0.9240515351295471,
          0.11783681871602311,
          0.6385643601417541,
          0.9376871705055236,
          0.9038957834243775,
          0.689619117975235,
          0.925602400302887,
          0.886579978466034,
          0.5965818762779236,
          0.9024510264396668,
          0.9370152235031128,
          0.6550382256507874,
          0.7361147999763489,
          0.9219766139984131,
          0.8592621088027954,
          0.9023713111877442,
          0.9283145189285278,
          0.9099695920944214,
          0.7853631138801574,
          0.9373260498046875,
          0.9008489489555359,
          0.47824937105178833,
          0.9286617159843444,
          0.910056209564209,
          0.8364753246307373,
          0.8989986658096314,
          0.6627467989921569,
          0.9154774904251098,
          0.9041741728782654,
          0.8804207563400268,
          0.9147214651107788,
          0.9053831815719604,
          0.9185946583747864,
          0.9292992949485779,
          0.909398877620697,
          0.9171365141868592,
          0.9141539692878723,
          0.930120587348938,
          0.8718758225440979,
          0.9182042241096496,
          0.9488087177276612,
          0.9419460654258728,
          0.9075747966766358,
          0.9250250220298767,
          0.9345814347267151,
          0.9198010325431824,
          0.6633194923400879,
          0.8928572297096252,
          0.916089677810669,
          0.8804820775985718,
          0.9119015336036682,
          0.9037660360336304,
          0.8574306845664978,
          0.903129494190216,
          0.9056983470916748,
          0.8341989517211914,
          0.9033874988555908,
          0.9109774708747864,
          0.8448405504226685,
          0.9006251454353332,
          0.9030828475952148,
          0.785203504562378,
          0.9303465723991394,
          0.8562721610069275,
          0.9200731754302979,
          0.9020193576812744,
          0.9002752423286438,
          0.8972668409347534,
          0.9283817172050476,
          0.9238414764404297,
          0.5582654714584351,
          0.9096188426017762,
          0.9180852055549622,
          0.8861315608024597,
          0.9048838138580322,
          0.9160219073295593,
          0.7776371836662292,
          0.9077721953392028,
          0.9065704226493836,
          -0.0030058957287110387,
          0.9048141002655029,
          0.7626327395439148,
          0.9327368974685669,
          0.9111244797706604,
          0.9303426504135132
         ],
         "yaxis": "y6"
        }
       ],
       "layout": {
        "template": {
         "data": {
          "bar": [
           {
            "error_x": {
             "color": "#2a3f5f"
            },
            "error_y": {
             "color": "#2a3f5f"
            },
            "marker": {
             "line": {
              "color": "#E5ECF6",
              "width": 0.5
             },
             "pattern": {
              "fillmode": "overlay",
              "size": 10,
              "solidity": 0.2
             }
            },
            "type": "bar"
           }
          ],
          "barpolar": [
           {
            "marker": {
             "line": {
              "color": "#E5ECF6",
              "width": 0.5
             },
             "pattern": {
              "fillmode": "overlay",
              "size": 10,
              "solidity": 0.2
             }
            },
            "type": "barpolar"
           }
          ],
          "carpet": [
           {
            "aaxis": {
             "endlinecolor": "#2a3f5f",
             "gridcolor": "white",
             "linecolor": "white",
             "minorgridcolor": "white",
             "startlinecolor": "#2a3f5f"
            },
            "baxis": {
             "endlinecolor": "#2a3f5f",
             "gridcolor": "white",
             "linecolor": "white",
             "minorgridcolor": "white",
             "startlinecolor": "#2a3f5f"
            },
            "type": "carpet"
           }
          ],
          "choropleth": [
           {
            "colorbar": {
             "outlinewidth": 0,
             "ticks": ""
            },
            "type": "choropleth"
           }
          ],
          "contour": [
           {
            "colorbar": {
             "outlinewidth": 0,
             "ticks": ""
            },
            "colorscale": [
             [
              0,
              "#0d0887"
             ],
             [
              0.1111111111111111,
              "#46039f"
             ],
             [
              0.2222222222222222,
              "#7201a8"
             ],
             [
              0.3333333333333333,
              "#9c179e"
             ],
             [
              0.4444444444444444,
              "#bd3786"
             ],
             [
              0.5555555555555556,
              "#d8576b"
             ],
             [
              0.6666666666666666,
              "#ed7953"
             ],
             [
              0.7777777777777778,
              "#fb9f3a"
             ],
             [
              0.8888888888888888,
              "#fdca26"
             ],
             [
              1,
              "#f0f921"
             ]
            ],
            "type": "contour"
           }
          ],
          "contourcarpet": [
           {
            "colorbar": {
             "outlinewidth": 0,
             "ticks": ""
            },
            "type": "contourcarpet"
           }
          ],
          "heatmap": [
           {
            "colorbar": {
             "outlinewidth": 0,
             "ticks": ""
            },
            "colorscale": [
             [
              0,
              "#0d0887"
             ],
             [
              0.1111111111111111,
              "#46039f"
             ],
             [
              0.2222222222222222,
              "#7201a8"
             ],
             [
              0.3333333333333333,
              "#9c179e"
             ],
             [
              0.4444444444444444,
              "#bd3786"
             ],
             [
              0.5555555555555556,
              "#d8576b"
             ],
             [
              0.6666666666666666,
              "#ed7953"
             ],
             [
              0.7777777777777778,
              "#fb9f3a"
             ],
             [
              0.8888888888888888,
              "#fdca26"
             ],
             [
              1,
              "#f0f921"
             ]
            ],
            "type": "heatmap"
           }
          ],
          "histogram": [
           {
            "marker": {
             "pattern": {
              "fillmode": "overlay",
              "size": 10,
              "solidity": 0.2
             }
            },
            "type": "histogram"
           }
          ],
          "histogram2d": [
           {
            "colorbar": {
             "outlinewidth": 0,
             "ticks": ""
            },
            "colorscale": [
             [
              0,
              "#0d0887"
             ],
             [
              0.1111111111111111,
              "#46039f"
             ],
             [
              0.2222222222222222,
              "#7201a8"
             ],
             [
              0.3333333333333333,
              "#9c179e"
             ],
             [
              0.4444444444444444,
              "#bd3786"
             ],
             [
              0.5555555555555556,
              "#d8576b"
             ],
             [
              0.6666666666666666,
              "#ed7953"
             ],
             [
              0.7777777777777778,
              "#fb9f3a"
             ],
             [
              0.8888888888888888,
              "#fdca26"
             ],
             [
              1,
              "#f0f921"
             ]
            ],
            "type": "histogram2d"
           }
          ],
          "histogram2dcontour": [
           {
            "colorbar": {
             "outlinewidth": 0,
             "ticks": ""
            },
            "colorscale": [
             [
              0,
              "#0d0887"
             ],
             [
              0.1111111111111111,
              "#46039f"
             ],
             [
              0.2222222222222222,
              "#7201a8"
             ],
             [
              0.3333333333333333,
              "#9c179e"
             ],
             [
              0.4444444444444444,
              "#bd3786"
             ],
             [
              0.5555555555555556,
              "#d8576b"
             ],
             [
              0.6666666666666666,
              "#ed7953"
             ],
             [
              0.7777777777777778,
              "#fb9f3a"
             ],
             [
              0.8888888888888888,
              "#fdca26"
             ],
             [
              1,
              "#f0f921"
             ]
            ],
            "type": "histogram2dcontour"
           }
          ],
          "mesh3d": [
           {
            "colorbar": {
             "outlinewidth": 0,
             "ticks": ""
            },
            "type": "mesh3d"
           }
          ],
          "parcoords": [
           {
            "line": {
             "colorbar": {
              "outlinewidth": 0,
              "ticks": ""
             }
            },
            "type": "parcoords"
           }
          ],
          "pie": [
           {
            "automargin": true,
            "type": "pie"
           }
          ],
          "scatter": [
           {
            "fillpattern": {
             "fillmode": "overlay",
             "size": 10,
             "solidity": 0.2
            },
            "type": "scatter"
           }
          ],
          "scatter3d": [
           {
            "line": {
             "colorbar": {
              "outlinewidth": 0,
              "ticks": ""
             }
            },
            "marker": {
             "colorbar": {
              "outlinewidth": 0,
              "ticks": ""
             }
            },
            "type": "scatter3d"
           }
          ],
          "scattercarpet": [
           {
            "marker": {
             "colorbar": {
              "outlinewidth": 0,
              "ticks": ""
             }
            },
            "type": "scattercarpet"
           }
          ],
          "scattergeo": [
           {
            "marker": {
             "colorbar": {
              "outlinewidth": 0,
              "ticks": ""
             }
            },
            "type": "scattergeo"
           }
          ],
          "scattergl": [
           {
            "marker": {
             "colorbar": {
              "outlinewidth": 0,
              "ticks": ""
             }
            },
            "type": "scattergl"
           }
          ],
          "scattermap": [
           {
            "marker": {
             "colorbar": {
              "outlinewidth": 0,
              "ticks": ""
             }
            },
            "type": "scattermap"
           }
          ],
          "scattermapbox": [
           {
            "marker": {
             "colorbar": {
              "outlinewidth": 0,
              "ticks": ""
             }
            },
            "type": "scattermapbox"
           }
          ],
          "scatterpolar": [
           {
            "marker": {
             "colorbar": {
              "outlinewidth": 0,
              "ticks": ""
             }
            },
            "type": "scatterpolar"
           }
          ],
          "scatterpolargl": [
           {
            "marker": {
             "colorbar": {
              "outlinewidth": 0,
              "ticks": ""
             }
            },
            "type": "scatterpolargl"
           }
          ],
          "scatterternary": [
           {
            "marker": {
             "colorbar": {
              "outlinewidth": 0,
              "ticks": ""
             }
            },
            "type": "scatterternary"
           }
          ],
          "surface": [
           {
            "colorbar": {
             "outlinewidth": 0,
             "ticks": ""
            },
            "colorscale": [
             [
              0,
              "#0d0887"
             ],
             [
              0.1111111111111111,
              "#46039f"
             ],
             [
              0.2222222222222222,
              "#7201a8"
             ],
             [
              0.3333333333333333,
              "#9c179e"
             ],
             [
              0.4444444444444444,
              "#bd3786"
             ],
             [
              0.5555555555555556,
              "#d8576b"
             ],
             [
              0.6666666666666666,
              "#ed7953"
             ],
             [
              0.7777777777777778,
              "#fb9f3a"
             ],
             [
              0.8888888888888888,
              "#fdca26"
             ],
             [
              1,
              "#f0f921"
             ]
            ],
            "type": "surface"
           }
          ],
          "table": [
           {
            "cells": {
             "fill": {
              "color": "#EBF0F8"
             },
             "line": {
              "color": "white"
             }
            },
            "header": {
             "fill": {
              "color": "#C8D4E3"
             },
             "line": {
              "color": "white"
             }
            },
            "type": "table"
           }
          ]
         },
         "layout": {
          "annotationdefaults": {
           "arrowcolor": "#2a3f5f",
           "arrowhead": 0,
           "arrowwidth": 1
          },
          "autotypenumbers": "strict",
          "coloraxis": {
           "colorbar": {
            "outlinewidth": 0,
            "ticks": ""
           }
          },
          "colorscale": {
           "diverging": [
            [
             0,
             "#8e0152"
            ],
            [
             0.1,
             "#c51b7d"
            ],
            [
             0.2,
             "#de77ae"
            ],
            [
             0.3,
             "#f1b6da"
            ],
            [
             0.4,
             "#fde0ef"
            ],
            [
             0.5,
             "#f7f7f7"
            ],
            [
             0.6,
             "#e6f5d0"
            ],
            [
             0.7,
             "#b8e186"
            ],
            [
             0.8,
             "#7fbc41"
            ],
            [
             0.9,
             "#4d9221"
            ],
            [
             1,
             "#276419"
            ]
           ],
           "sequential": [
            [
             0,
             "#0d0887"
            ],
            [
             0.1111111111111111,
             "#46039f"
            ],
            [
             0.2222222222222222,
             "#7201a8"
            ],
            [
             0.3333333333333333,
             "#9c179e"
            ],
            [
             0.4444444444444444,
             "#bd3786"
            ],
            [
             0.5555555555555556,
             "#d8576b"
            ],
            [
             0.6666666666666666,
             "#ed7953"
            ],
            [
             0.7777777777777778,
             "#fb9f3a"
            ],
            [
             0.8888888888888888,
             "#fdca26"
            ],
            [
             1,
             "#f0f921"
            ]
           ],
           "sequentialminus": [
            [
             0,
             "#0d0887"
            ],
            [
             0.1111111111111111,
             "#46039f"
            ],
            [
             0.2222222222222222,
             "#7201a8"
            ],
            [
             0.3333333333333333,
             "#9c179e"
            ],
            [
             0.4444444444444444,
             "#bd3786"
            ],
            [
             0.5555555555555556,
             "#d8576b"
            ],
            [
             0.6666666666666666,
             "#ed7953"
            ],
            [
             0.7777777777777778,
             "#fb9f3a"
            ],
            [
             0.8888888888888888,
             "#fdca26"
            ],
            [
             1,
             "#f0f921"
            ]
           ]
          },
          "colorway": [
           "#636efa",
           "#EF553B",
           "#00cc96",
           "#ab63fa",
           "#FFA15A",
           "#19d3f3",
           "#FF6692",
           "#B6E880",
           "#FF97FF",
           "#FECB52"
          ],
          "font": {
           "color": "#2a3f5f"
          },
          "geo": {
           "bgcolor": "white",
           "lakecolor": "white",
           "landcolor": "#E5ECF6",
           "showlakes": true,
           "showland": true,
           "subunitcolor": "white"
          },
          "hoverlabel": {
           "align": "left"
          },
          "hovermode": "closest",
          "mapbox": {
           "style": "light"
          },
          "paper_bgcolor": "white",
          "plot_bgcolor": "#E5ECF6",
          "polar": {
           "angularaxis": {
            "gridcolor": "white",
            "linecolor": "white",
            "ticks": ""
           },
           "bgcolor": "#E5ECF6",
           "radialaxis": {
            "gridcolor": "white",
            "linecolor": "white",
            "ticks": ""
           }
          },
          "scene": {
           "xaxis": {
            "backgroundcolor": "#E5ECF6",
            "gridcolor": "white",
            "gridwidth": 2,
            "linecolor": "white",
            "showbackground": true,
            "ticks": "",
            "zerolinecolor": "white"
           },
           "yaxis": {
            "backgroundcolor": "#E5ECF6",
            "gridcolor": "white",
            "gridwidth": 2,
            "linecolor": "white",
            "showbackground": true,
            "ticks": "",
            "zerolinecolor": "white"
           },
           "zaxis": {
            "backgroundcolor": "#E5ECF6",
            "gridcolor": "white",
            "gridwidth": 2,
            "linecolor": "white",
            "showbackground": true,
            "ticks": "",
            "zerolinecolor": "white"
           }
          },
          "shapedefaults": {
           "line": {
            "color": "#2a3f5f"
           }
          },
          "ternary": {
           "aaxis": {
            "gridcolor": "white",
            "linecolor": "white",
            "ticks": ""
           },
           "baxis": {
            "gridcolor": "white",
            "linecolor": "white",
            "ticks": ""
           },
           "bgcolor": "#E5ECF6",
           "caxis": {
            "gridcolor": "white",
            "linecolor": "white",
            "ticks": ""
           }
          },
          "title": {
           "x": 0.05
          },
          "xaxis": {
           "automargin": true,
           "gridcolor": "white",
           "linecolor": "white",
           "ticks": "",
           "title": {
            "standoff": 15
           },
           "zerolinecolor": "white",
           "zerolinewidth": 2
          },
          "yaxis": {
           "automargin": true,
           "gridcolor": "white",
           "linecolor": "white",
           "ticks": "",
           "title": {
            "standoff": 15
           },
           "zerolinecolor": "white",
           "zerolinewidth": 2
          }
         }
        },
        "title": {
         "text": "Slice Plot"
        },
        "width": 1800,
        "xaxis": {
         "anchor": "y",
         "domain": [
          0,
          0.1388888888888889
         ],
         "title": {
          "text": "batch_size"
         }
        },
        "xaxis2": {
         "anchor": "y2",
         "domain": [
          0.17222222222222222,
          0.3111111111111111
         ],
         "title": {
          "text": "hidden_layers"
         }
        },
        "xaxis3": {
         "anchor": "y3",
         "domain": [
          0.34444444444444444,
          0.48333333333333334
         ],
         "title": {
          "text": "hidden_nodes"
         }
        },
        "xaxis4": {
         "anchor": "y4",
         "domain": [
          0.5166666666666667,
          0.6555555555555557
         ],
         "title": {
          "text": "learning_rate"
         },
         "type": "log"
        },
        "xaxis5": {
         "anchor": "y5",
         "domain": [
          0.6888888888888889,
          0.8277777777777777
         ],
         "title": {
          "text": "num_epochs"
         }
        },
        "xaxis6": {
         "anchor": "y6",
         "domain": [
          0.861111111111111,
          1
         ],
         "title": {
          "text": "weight_decay"
         },
         "type": "log"
        },
        "yaxis": {
         "anchor": "x",
         "domain": [
          0,
          1
         ],
         "title": {
          "text": "Objective Value"
         }
        },
        "yaxis2": {
         "anchor": "x2",
         "domain": [
          0,
          1
         ],
         "matches": "y",
         "showticklabels": false
        },
        "yaxis3": {
         "anchor": "x3",
         "domain": [
          0,
          1
         ],
         "matches": "y",
         "showticklabels": false
        },
        "yaxis4": {
         "anchor": "x4",
         "domain": [
          0,
          1
         ],
         "matches": "y",
         "showticklabels": false
        },
        "yaxis5": {
         "anchor": "x5",
         "domain": [
          0,
          1
         ],
         "matches": "y",
         "showticklabels": false
        },
        "yaxis6": {
         "anchor": "x6",
         "domain": [
          0,
          1
         ],
         "matches": "y",
         "showticklabels": false
        }
       }
      }
     },
     "metadata": {},
     "output_type": "display_data"
    }
   ],
   "source": [
    "# 파라미터의 분포를 보여주는 플롯\n",
    "optuna.visualization.plot_slice(study)"
   ]
  }
 ],
 "metadata": {
  "kernelspec": {
   "display_name": "NN_env",
   "language": "python",
   "name": "python3"
  },
  "language_info": {
   "codemirror_mode": {
    "name": "ipython",
    "version": 3
   },
   "file_extension": ".py",
   "mimetype": "text/x-python",
   "name": "python",
   "nbconvert_exporter": "python",
   "pygments_lexer": "ipython3",
   "version": "3.12.9"
  }
 },
 "nbformat": 4,
 "nbformat_minor": 2
}
