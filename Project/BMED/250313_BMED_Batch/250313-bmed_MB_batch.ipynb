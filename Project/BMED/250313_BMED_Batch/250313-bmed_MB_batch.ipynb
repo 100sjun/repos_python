{
 "cells": [
  {
   "cell_type": "code",
   "execution_count": 54,
   "metadata": {},
   "outputs": [],
   "source": [
    "from bmed_flux_NN import PredictionModel\n",
    "import pandas as pd\n"
   ]
  },
  {
   "cell_type": "code",
   "execution_count": 55,
   "metadata": {},
   "outputs": [],
   "source": [
    "# conditions\n",
    "df = pd.read_excel('BMED_train_data_v2.xlsx', sheet_name=\"Sheet3\")\n"
   ]
  },
  {
   "cell_type": "code",
   "execution_count": 56,
   "metadata": {},
   "outputs": [],
   "source": [
    "# test1\n",
    "df1 = df[df['exp'] == 1]\n",
    "t1 = df1['t']\n",
    "T1 = df1['T']\n",
    "V1 = df1['V']\n",
    "E1 = df1['E']\n",
    "NF_LA = [0.5]\n",
    "NF_K = [1]\n",
    "NA_LA = [0]\n",
    "NB_K = [0]\n",
    "VF = [1]\n",
    "VA = [1]\n",
    "VB = [1]"
   ]
  },
  {
   "cell_type": "code",
   "execution_count": 57,
   "metadata": {},
   "outputs": [],
   "source": [
    "pred = PredictionModel('bmed_flux_batch_NN_model_v0.pth')\n",
    "for i in range(len(t1)-1):\n",
    "    cond = [[T1[i],V1[i],E1[i],NF_LA[i]/VF[i],NF_K[i]/VF[i],NA_LA[i]/VA[i],NB_K[i]/VB[i]]]\n",
    "    flux = pred.predict(cond)\n",
    "    f_NF_LA = NF_LA[i] + flux[0][0]*0.05\n",
    "    f_NF_K = NF_K[i] + flux[0][1]*0.05\n",
    "    NF_LA.append(f_NF_LA)\n",
    "    NF_K.append(f_NF_K)\n",
    "    f_NA_LA = NF_LA[0] - NF_LA[i+1]*0.05\n",
    "    f_NB_K = NF_K[0] - NF_K[i+1]*0.05\n",
    "    f_VF = VF[i] + flux[0][2]*0.05\n",
    "    f_VA = VA[i] + flux[0][3]*0.05\n",
    "    f_VB = VB[i] + flux[0][4]*0.05\n",
    "    NA_LA.append(f_NA_LA)\n",
    "    NB_K.append(f_NB_K)\n",
    "    VF.append(f_VF)\n",
    "    VA.append(f_VA)\n",
    "    VB.append(f_VB)\n"
   ]
  },
  {
   "cell_type": "code",
   "execution_count": 64,
   "metadata": {},
   "outputs": [
    {
     "data": {
      "text/plain": [
       "array([[-0.00493771,  0.01932909,  0.01863717, -0.00897103, -0.01871558]],\n",
       "      dtype=float32)"
      ]
     },
     "execution_count": 64,
     "metadata": {},
     "output_type": "execute_result"
    }
   ],
   "source": [
    "pred = PredictionModel('bmed_flux_batch_NN_model_v0.pth')\n",
    "cond = [[22.88,20,0.25,0.5,1,0,0]]\n",
    "pred.predict(cond)"
   ]
  },
  {
   "cell_type": "code",
   "execution_count": 59,
   "metadata": {},
   "outputs": [],
   "source": [
    "pred = PredictionModel('bmed_flux_batch_NN_model_v0.pth')\n",
    "\n"
   ]
  }
 ],
 "metadata": {
  "kernelspec": {
   "display_name": "NNenv",
   "language": "python",
   "name": "python3"
  },
  "language_info": {
   "codemirror_mode": {
    "name": "ipython",
    "version": 3
   },
   "file_extension": ".py",
   "mimetype": "text/x-python",
   "name": "python",
   "nbconvert_exporter": "python",
   "pygments_lexer": "ipython3",
   "version": "3.12.9"
  }
 },
 "nbformat": 4,
 "nbformat_minor": 2
}
