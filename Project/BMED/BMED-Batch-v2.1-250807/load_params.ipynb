{
 "cells": [
  {
   "cell_type": "code",
   "execution_count": 1,
   "id": "b4173c46",
   "metadata": {},
   "outputs": [
    {
     "name": "stderr",
     "output_type": "stream",
     "text": [
      "/home/sjbaek/miniforge3/envs/torchenv/lib/python3.11/site-packages/tqdm/auto.py:21: TqdmWarning: IProgress not found. Please update jupyter and ipywidgets. See https://ipywidgets.readthedocs.io/en/stable/user_install.html\n",
      "  from .autonotebook import tqdm as notebook_tqdm\n"
     ]
    }
   ],
   "source": [
    "import optuna"
   ]
  },
  {
   "cell_type": "code",
   "execution_count": 5,
   "id": "7d82e3e2",
   "metadata": {},
   "outputs": [
    {
     "data": {
      "text/plain": [
       "{'hidden_size': 256,\n",
       " 'num_layers': 1,\n",
       " 'extractor_dropout': 0.21824408405832693,\n",
       " 'decoder_layers': 1,\n",
       " 'decoder_nodes': 48,\n",
       " 'decoder_dropout': 0.17364019436412279,\n",
       " 'learning_rate': 0.005021381083170737,\n",
       " 'weight_decay': 5.028817220893871e-06}"
      ]
     },
     "execution_count": 5,
     "metadata": {},
     "output_type": "execute_result"
    }
   ],
   "source": [
    "study = optuna.load_study(study_name=\"bmed_autoregressive_optimization\", storage=\"sqlite:///bmed_optuna_study.db\")\n",
    "best_params = study.best_params\n",
    "best_params\n"
   ]
  },
  {
   "cell_type": "code",
   "execution_count": 7,
   "id": "570a787b",
   "metadata": {},
   "outputs": [
    {
     "name": "stdout",
     "output_type": "stream",
     "text": [
      "best trial의 loss 값은 0.00017342455830657855입니다.\n"
     ]
    }
   ],
   "source": [
    "if \"loss\" in study.best_trial.values:\n",
    "    print(f\"best trial의 loss 값은 {study.best_trial.values['loss']}입니다.\")\n",
    "else:\n",
    "    print(f\"best trial의 loss 값은 {study.best_trial.value}입니다.\")\n"
   ]
  },
  {
   "cell_type": "code",
   "execution_count": null,
   "id": "3667e719",
   "metadata": {},
   "outputs": [],
   "source": []
  }
 ],
 "metadata": {
  "kernelspec": {
   "display_name": "torchenv",
   "language": "python",
   "name": "python3"
  },
  "language_info": {
   "codemirror_mode": {
    "name": "ipython",
    "version": 3
   },
   "file_extension": ".py",
   "mimetype": "text/x-python",
   "name": "python",
   "nbconvert_exporter": "python",
   "pygments_lexer": "ipython3",
   "version": "3.11.13"
  }
 },
 "nbformat": 4,
 "nbformat_minor": 5
}
