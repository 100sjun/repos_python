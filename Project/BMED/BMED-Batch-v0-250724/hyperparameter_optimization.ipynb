{
 "cells": [
  {
   "cell_type": "code",
   "execution_count": 3,
   "id": "7299bf6e",
   "metadata": {},
   "outputs": [],
   "source": [
    "# Import modules\n",
    "import torch\n",
    "import pandas as pd"
   ]
  },
  {
   "cell_type": "code",
   "execution_count": 4,
   "id": "5e9374a6",
   "metadata": {},
   "outputs": [],
   "source": [
    "def set_device():\n",
    "    device = torch.device('cuda' if torch.cuda.is_available() else 'cpu')\n",
    "\n",
    "    if torch.cuda.is_available():\n",
    "        print(f'Using device: {device}')\n",
    "        print(f'GPU: {torch.cuda.get_device_name(0)}')\n",
    "    else:\n",
    "        print(f'Using device: {device}')\n",
    "\n",
    "    return device"
   ]
  },
  {
   "cell_type": "code",
   "execution_count": 5,
   "id": "15497776",
   "metadata": {},
   "outputs": [],
   "source": [
    "def norm_data(name):\n",
    "    df = pd.read_csv(name)\n",
    "    range_mm={\n",
    "        'V': {'min':df['V'].min()*0.8, 'max': df['V'].max()*1.2},\n",
    "        'E': {'min':df['E'].min()*0.8, 'max': df['E'].max()*1.2},\n",
    "        'VF': {'min':df['VF'].min()*0.8, 'max': df['VF'].max()*1.2},\n",
    "        'VA': {'min':df['VA'].min()*0.8, 'max': df['VA'].max()*1.2},\n",
    "        'VB': {'min':df['VB'].min()*0.8, 'max': df['VB'].max()*1.2},\n",
    "        'CFLA': {'min':0, 'max': df['CFLA'].max()*1.2},\n",
    "        'CALA': {'min':0, 'max': df['CALA'].max()*1.2},\n",
    "        'CBLA': {'min':0, 'max': df['CBLA'].max()*1.2},\n",
    "        'CFK': {'min':0, 'max': df['CFK'].max()*1.2},\n",
    "        'CAK': {'min':0, 'max': df['CAK'].max()*1.2},\n",
    "        'CBK': {'min':0, 'max': df['CBK'].max()*1.2},\n",
    "        'I': {'min':0, 'max': df['I'].max()*1.2},\n",
    "\n",
    "    }\n",
    "    \n",
    "    return range_mm"
   ]
  },
  {
   "cell_type": "code",
   "execution_count": 6,
   "id": "4df2f4fc",
   "metadata": {},
   "outputs": [
    {
     "name": "stdout",
     "output_type": "stream",
     "text": [
      "Using device: cuda\n",
      "GPU: NVIDIA GeForce RTX 4050 Laptop GPU\n",
      "{'V': {'min': np.float64(8.0), 'max': np.float64(42.0)}, 'E': {'min': np.float64(0.2), 'max': np.float64(1.2)}, 'VF': {'min': np.float64(0.1899317879530128), 'max': np.float64(1.8489795918367347)}, 'VA': {'min': np.float64(0.5632653061224491), 'max': np.float64(1.8274111675126905)}, 'VB': {'min': np.float64(0.7287128712871287), 'max': np.float64(7.309644670050763)}, 'CFLA': {'min': 0, 'max': np.float64(4.1209425)}, 'CALA': {'min': 0, 'max': np.float64(2.55057791291714)}, 'CBLA': {'min': 0, 'max': np.float64(0.09083684777202455)}, 'CFK': {'min': 0, 'max': np.float64(7.073639999999999)}, 'CAK': {'min': 0, 'max': np.float64(0.07949414894162436)}, 'CBK': {'min': 0, 'max': np.float64(3.158869885325891)}, 'I': {'min': 0, 'max': np.float64(5.28)}}\n"
     ]
    }
   ],
   "source": [
    "if __name__ == '__main__':\n",
    "    device = set_device()\n",
    "    rangemm = norm_data('BMED_DATA_AG.csv')\n",
    "    print(rangemm)"
   ]
  },
  {
   "cell_type": "code",
   "id": "94tizp8oi6r",
   "source": "# 데이터 로드 및 확인\ndf = pd.read_csv('BMED_DATA_AG.csv')\nprint(f\"데이터 형태: {df.shape}\")\nprint(f\"컬럼들: {df.columns.tolist()}\")\nprint(df.head())",
   "metadata": {},
   "execution_count": null,
   "outputs": []
  }
 ],
 "metadata": {
  "kernelspec": {
   "display_name": "torchenv",
   "language": "python",
   "name": "python3"
  },
  "language_info": {
   "codemirror_mode": {
    "name": "ipython",
    "version": 3
   },
   "file_extension": ".py",
   "mimetype": "text/x-python",
   "name": "python",
   "nbconvert_exporter": "python",
   "pygments_lexer": "ipython3",
   "version": "3.11.13"
  }
 },
 "nbformat": 4,
 "nbformat_minor": 5
}