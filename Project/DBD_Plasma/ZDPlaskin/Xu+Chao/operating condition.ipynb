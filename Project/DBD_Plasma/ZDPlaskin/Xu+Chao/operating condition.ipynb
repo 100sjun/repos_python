{
 "cells": [
  {
   "cell_type": "code",
   "execution_count": 2,
   "metadata": {},
   "outputs": [],
   "source": [
    "import numpy as np"
   ]
  },
  {
   "cell_type": "code",
   "execution_count": null,
   "metadata": {},
   "outputs": [],
   "source": [
    "# manipulated variables\n",
    "V = np.array([15000 # V\n",
    "d = 1.5e-3 # m\n",
    "P = 1 # atm\n",
    "T = 25 # C"
   ]
  },
  {
   "cell_type": "code",
   "execution_count": 23,
   "metadata": {},
   "outputs": [],
   "source": [
    "# parameters\n",
    "kb = 1.380649e-23 # J/K"
   ]
  },
  {
   "cell_type": "code",
   "execution_count": 24,
   "metadata": {},
   "outputs": [],
   "source": [
    "# calculation\n",
    "E = V/d *9/11 # V/m\n",
    "N = P*101325/kb/(T+273.15) # 1/m3\n",
    "rE = E/N*1e21 # Td\n",
    "CH4 = N/1e6\n"
   ]
  },
  {
   "cell_type": "code",
   "execution_count": 25,
   "metadata": {},
   "outputs": [
    {
     "name": "stdout",
     "output_type": "stream",
     "text": [
      "Reduced Electric Field: 553.9876177242446\n",
      "density_ini_CH4: 2.4614924955148247e+19\n"
     ]
    }
   ],
   "source": [
    "print(f'Reduced Electric Field: {rE}')\n",
    "print(f'density_ini_CH4: {CH4}')"
   ]
  },
  {
   "cell_type": "code",
   "execution_count": null,
   "metadata": {},
   "outputs": [],
   "source": []
  },
  {
   "cell_type": "code",
   "execution_count": null,
   "metadata": {},
   "outputs": [],
   "source": []
  }
 ],
 "metadata": {
  "kernelspec": {
   "display_name": "Python 3",
   "language": "python",
   "name": "python3"
  },
  "language_info": {
   "codemirror_mode": {
    "name": "ipython",
    "version": 3
   },
   "file_extension": ".py",
   "mimetype": "text/x-python",
   "name": "python",
   "nbconvert_exporter": "python",
   "pygments_lexer": "ipython3",
   "version": "3.11.7"
  }
 },
 "nbformat": 4,
 "nbformat_minor": 2
}
