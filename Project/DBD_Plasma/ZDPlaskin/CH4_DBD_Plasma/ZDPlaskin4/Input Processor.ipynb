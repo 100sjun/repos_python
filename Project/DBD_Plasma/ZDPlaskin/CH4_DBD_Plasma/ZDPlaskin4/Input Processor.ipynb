{
 "cells": [
  {
   "cell_type": "code",
   "execution_count": 38,
   "metadata": {},
   "outputs": [],
   "source": [
    "import numpy as np"
   ]
  },
  {
   "cell_type": "code",
   "execution_count": 27,
   "metadata": {},
   "outputs": [
    {
     "name": "stdout",
     "output_type": "stream",
     "text": [
      "['e + CH4 => e + CH4(v24)! Bolsig+ CH4 -> CH4(v24)', 'e + CH4 => e + CH4(v13)! Bolsig+ CH4 -> CH4(v13)', 'e + C2H6 => e + C2H6(v24)! Bolsig+ C2H6 -> C2H6(v24)', 'e + C2H6 => e + C2H6(v13)! Bolsig+ C2H6 -> C2H6(v13)', 'e + C2H4 => e + C2H4(v1)! Bolsig+ C2H4 -> C2H4(v1)', 'e + C2H4 => e + C2H4(v2)! Bolsig+ C2H4 -> C2H4(v2)', 'e + C2H2 => e + C2H2(v5)! Bolsig+ C2H2 -> C2H2(v5)', 'e + C2H2 => e + C2H2(v2)! Bolsig+ C2H2 -> C2H2(v2)', 'e + C2H2 => e + C2H2(v13)! Bolsig+ C2H2 -> C2H2(v13)', 'e + C3H8 => e + C3H8(v1)! Bolsig+ C3H8 -> C3H8(v1)', 'e + C3H8 => e + C3H8(v2)! Bolsig+ C3H8 -> C3H8(v2)', 'e + C3H6 => e + C3H6(v)! Bolsig+ C3H6 -> C3H6(v)', 'e + CH4 => e + CH3 + H! f0 * Bolsig+ CH4 -> CH3 H', 'e + CH4 => e + CH2 + H2! Bolsig+ CH4 -> CH2 H2', 'e + CH4 => e + CH + H2 + H! Bolsig+ CH4 -> CH H2 H', 'e + CH3 => e + CH2 + H! Bolsig+ CH3 -> CH2 H', 'e + CH3 => e + CH + H2! Bolsig+ CH3 -> CH H2', 'e + CH2 => e + CH + H! Bolsig+ CH2 -> CH H', 'e + CH4 => e + e + CH4^+! Bolsig+ CH4 -> CH4^+', 'e + CH4 => e + e + H + CH3^+! Bolsig+ CH4 -> H CH3^+', 'e + CH4 => e + e + H2 + CH2^+! Bolsig+ CH4 -> H2 CH2^+', 'e + CH4 => e + e + H2 + H + CH^+! Bolsig+ CH4 -> H2 H CH^+', 'e + CH3 => e + e + CH3^+! Bolsig+ CH3 -> CH3^+', 'e + CH3 => e + e + H + CH2^+! Bolsig+ CH3 -> H CH2^+', 'e + CH3 => e + e + H2 + CH^+! Bolsig+ CH3 -> H2 CH^+', 'e + CH2 => e + e + CH2^+! Bolsig+ CH2 -> CH2^+', 'e + CH2 => e + e + H + CH^+! Bolsig+ CH2 -> H CH^+', 'e + CH => e + e + CH^+! Bolsig+ CH -> CH^+', 'e + C2H6 => e + C2H5 + H! Bolsig+ C2H6 -> C2H5 H', 'e + C2H6 => e + C2H4 + H2! f3 * Bolsig+ C2H6 -> C2H4 H2', 'e + C2H6 => e + C2H3 + H2 + H! Bolsig+ C2H6 -> C2H3 H2 H', 'e + C2H6 => e + C2H2 + H2 + H2! Bolsig+ C2H6 -> C2H2 H2 H2', 'e + C2H6 => e + CH4 + CH2! Bolsig+ C2H6 -> CH4 CH2', 'e + C2H6 => e + CH3 + CH3! Bolsig+ C2H6 -> CH3 CH3', 'e + C2H5 => e + C2H4 + H! Bolsig+ C2H5 -> C2H4 H', 'e + C2H5 => e + C2H3 + H2! Bolsig+ C2H5 -> C2H3 H2', 'e + C2H5 => e + C2H3 + H + H! Bolsig+ C2H5 -> C2H3 H H', 'e + C2H5 => e + C2H2 + H2 + H! Bolsig+ C2H5 -> C2H2 H2 H', 'e + C2H5 => e + CH4 + CH! Bolsig+ C2H5 -> CH4 CH', 'e + C2H5 => e + CH3 + CH2! Bolsig+ C2H5 -> CH3 CH2', 'e + C2H4 => e + C2H3 + H! Bolsig+ C2H4 -> C2H3 H', 'e + C2H4 => e + C2H2 + H2! f6 * Bolsig+ C2H4 -> C2H2 H2', 'e + C2H4 => e + C2H2 + H + H! f6 * Bolsig+ C2H4 -> C2H2 H H', 'e + C2H4 => e + CH3 + CH! Bolsig+ C2H4 -> CH3 CH', 'e + C2H4 => e + CH2 + CH2! Bolsig+ C2H4 -> CH2 CH2', 'e + C2H3 => e + C2H2 + H! Bolsig+ C2H3 -> C2H2 H', 'e + C2H3 => e + CH2 + CH! Bolsig+ C2H3 -> CH2 CH', 'e + C2H2 => e + CH + CH! Bolsig+ C2H2 -> CH CH', 'e + C3H8 => e + C3H7 + H! f10*Bolsig+ C3H8 -> C3H7 H', 'e + C3H8 => e + C3H6 + H2! f8 * Bolsig+ C3H8 -> C3H6 H2', 'e + C3H8 => e + C3H4 + H2 + H2! f10*Bolsig+ C3H8 -> C3H4 H2 H2', 'e + C3H8 => e + C2H6 + CH2! f10*Bolsig+ C3H8 -> C2H6 CH2', 'e + C3H8 => e + C2H5 + CH3! f10*Bolsig+ C3H8 -> C2H5 CH3', 'e + C3H8 => e + C2H4 + CH4! f10*Bolsig+ C3H8 -> C2H4 CH4', 'e + C3H7 => e + C3H6 + H! Bolsig+ C3H7 -> C3H6 H', 'e + C3H7 => e + C3H5 + H2! Bolsig+ C3H7 -> C3H5 H2', 'e + C3H7 => e + C3H4 + H2 + H! Bolsig+ C3H7 -> C3H4 H2 H', 'e + C3H7 => e + C2H4 + CH3! Bolsig+ C3H7 -> C2H4 CH3', 'e + C3H7 => e + C2H3 + CH4! Bolsig+ C3H7 -> C2H3 CH4', 'e + C3H6 => e + C3H5 + H! f10*Bolsig+ C3H6 -> C3H5 H', 'e + C3H6 => e + C3H4 + H2! f10*Bolsig+ C3H6 -> C3H4 H2', 'e + C3H6 => e + C2H4 + CH2! f10*Bolsig+ C3H6 -> C2H4 CH2', 'e + C3H6 => e + C2H3 + CH3! f10*Bolsig+ C3H6 -> C2H3 CH3', 'e + C3H6 => e + C2H2 + CH4! f10*Bolsig+ C3H6 -> C2H2 CH4', 'e + C3H5 => e + C3H4 + H! Bolsig+ C3H5 -> C3H4 H', 'e + C3H5 => e + C2H2 + CH3! Bolsig+ C3H5 -> C2H2 CH3', 'e + C3H4 => e + C2H3 + CH! Bolsig+ C3H4 -> C2H3 CH', 'e + C3H4 => e + C2H2 + CH2! Bolsig+ C3H4 -> C2H2 CH2', 'e + C2H6 => e + e + C2H6^+! Bolsig+ C2H6 -> C2H6^+', 'e + C2H6 => e + e + H + C2H5^+! Bolsig+ C2H6 -> H C2H5^+', 'e + C2H6 => e + e + H2 + C2H4^+! Bolsig+ C2H6 -> H2 C2H4^+', 'e + C2H6 => e + e + H2 + H + C2H3^+! Bolsig+ C2H6 -> H2 H C2H3^+', 'e + C2H6 => e + e + H2 + H2 + C2H2^+! Bolsig+ C2H6 -> H2 H2 C2H2^+', 'e + C2H6 => e + e + CH3 + CH3^+! Bolsig+ C2H6 -> CH3 CH3^+', 'e + C2H6 => e + e + CH4 + CH2^+! Bolsig+ C2H6 -> CH4 CH2^+', 'e + C2H5 => e + e + C2H5^+! Bolsig+ C2H5 -> C2H5^+', 'e + C2H5 => e + e + H + C2H4^+! Bolsig+ C2H5 -> H C2H4^+', 'e + C2H5 => e + e + H2 + C2H3^+! Bolsig+ C2H5 -> H2 C2H3^+', 'e + C2H5 => e + e + H2 + H + C2H2^+! Bolsig+ C2H5 -> H2 H C2H2^+', 'e + C2H5 => e + e + CH2 + CH3^+! Bolsig+ C2H5 -> CH2 CH3^+', 'e + C2H5 => e + e + CH3 + CH2^+! Bolsig+ C2H5 -> CH3 CH2^+', 'e + C2H5 => e + e + CH4 + CH^+! Bolsig+ C2H5 -> CH4 CH^+', 'e + C2H4 => e + e + C2H4^+! Bolsig+ C2H4 -> C2H4^+', 'e + C2H4 => e + e + H + C2H3^+! Bolsig+ C2H4 -> H C2H3^+', 'e + C2H4 => e + e + CH + CH3^+! Bolsig+ C2H4 -> CH CH3^+', 'e + C2H4 => e + e + CH2 + CH2^+! Bolsig+ C2H4 -> CH2 CH2^+', 'e + C2H4 => e + e + CH3 + CH^+! Bolsig+ C2H4 -> CH3 CH^+', 'e + C2H3 => e + e + C2H3^+! Bolsig+ C2H3 -> C2H3^+', 'e + C2H3 => e + e + H + C2H2^+! Bolsig+ C2H3 -> H C2H2^+', 'e + C2H3 => e + e + CH + CH2^+! Bolsig+ C2H3 -> CH CH2^+', 'e + C2H3 => e + e + CH2 + CH^+! Bolsig+ C2H3 -> CH2 CH^+', 'e + C2H3 => e + e + C2H2 + H^+! Bolsig+ C2H3 -> C2H2 H^+', 'e + C2H2 => e + e + C2H2^+! Bolsig+ C2H2 -> C2H2^+', 'e + C2H2 => e + e + CH + CH^+! Bolsig+ C2H2 -> CH CH^+', 'e + C3H8 => e + e + C3H8^+! f10*Bolsig+ C3H8 -> C3H8^+', 'e + C3H8 => e + e + H + C3H7^+! f10*Bolsig+ C3H8 -> H C3H7^+', 'e + C3H8 => e + e + H2 + C3H6^+! f10*Bolsig+ C3H8 -> H2 C3H6^+', 'e + C3H8 => e + e + H2 + H + C3H5^+! f10*Bolsig+ C3H8 -> H2 H C3H5^+', 'e + C3H8 => e + e + H2 + H2 + C3H4^+! f10*Bolsig+ C3H8 -> H2 H2 C3H4^+', 'e + C3H8 => e + e + CH3 + C2H5^+! f10*Bolsig+ C3H8 -> CH3 C2H5^+', 'e + C3H8 => e + e + CH4 + C2H4^+! f10*Bolsig+ C3H8 -> CH4 C2H4^+', 'e + C3H8 => e + e + C2H5 + CH3^+! f10*Bolsig+ C3H8 -> C2H5 CH3^+', 'e + C3H8 => e + e + C2H6 + CH2^+! f10*Bolsig+ C3H8 -> C2H6 CH2^+', 'e + C3H7 => e + e + C3H7^+! Bolsig+ C3H7 -> C3H7^+', 'e + C3H7 => e + e + H + C3H6^+! Bolsig+ C3H7 -> H C3H6^+', 'e + C3H7 => e + e + H2 + C3H5^+! Bolsig+ C3H7 -> H2 C3H5^+', 'e + C3H7 => e + e + H2 + H + C3H4^+! Bolsig+ C3H7 -> H2 H C3H4^+', 'e + C3H7 => e + e + CH2 + C2H5^+! Bolsig+ C3H7 -> CH2 C2H5^+', 'e + C3H7 => e + e + CH3 + C2H4^+! Bolsig+ C3H7 -> CH3 C2H4^+', 'e + C3H7 => e + e + CH4 + C2H3^+! Bolsig+ C3H7 -> CH4 C2H3^+', 'e + C3H7 => e + e + C2H3 + CH4^+! Bolsig+ C3H7 -> C2H3 CH4^+', 'e + C3H7 => e + e + C2H4 + CH3^+! Bolsig+ C3H7 -> C2H4 CH3^+', 'e + C3H7 => e + e + C2H5 + CH2^+! Bolsig+ C3H7 -> C2H5 CH2^+', 'e + C3H7 => e + e + C2H6 + CH^+! Bolsig+ C3H7 -> C2H6 CH^+', 'e + C3H6 => e + e + C3H6^+! f10*Bolsig+ C3H6 -> C3H6^+', 'e + C3H6 => e + e + H + C3H5^+! f10*Bolsig+ C3H6 -> H C3H5^+', 'e + C3H6 => e + e + H2 + C3H4^+! f10*Bolsig+ C3H6 -> H2 C3H4^+', 'e + C3H6 => e + e + CH + C2H5^+! f10*Bolsig+ C3H6 -> CH C2H5^+', 'e + C3H6 => e + e + CH2 + C2H4^+! f10*Bolsig+ C3H6 -> CH2 C2H4^+', 'e + C3H6 => e + e + CH3 + C2H3^+! f10*Bolsig+ C3H6 -> CH3 C2H3^+', 'e + C3H6 => e + e + CH4 + C2H2^+! f10*Bolsig+ C3H6 -> CH4 C2H2^+', 'e + C3H6 => e + e + C2H2 + CH4^+! f10*Bolsig+ C3H6 -> C2H2 CH4^+', 'e + C3H6 => e + e + C2H3 + CH3^+! f10*Bolsig+ C3H6 -> C2H3 CH3^+', 'e + C3H6 => e + e + C2H4 + CH2^+! f10*Bolsig+ C3H6 -> C2H4 CH2^+', 'e + C3H6 => e + e + C2H5 + CH^+! f10*Bolsig+ C3H6 -> C2H5 CH^+', 'e + C3H5 => e + e + C3H5^+! Bolsig+ C3H5 -> C3H5^+', 'e + C3H5 => e + e + H + C3H4^+! Bolsig+ C3H5 -> H C3H4^+', 'e + C3H5 => e + e + CH + C2H4^+! Bolsig+ C3H5 -> CH C2H4^+', 'e + C3H5 => e + e + CH2 + C2H3^+! Bolsig+ C3H5 -> CH2 C2H3^+', 'e + C3H5 => e + e + CH3 + C2H2^+! Bolsig+ C3H5 -> CH3 C2H2^+', 'e + C3H5 => e + e + C2H2 + CH3^+! Bolsig+ C3H5 -> C2H2 CH3^+', 'e + C3H5 => e + e + C2H3 + CH2^+! Bolsig+ C3H5 -> C2H3 CH2^+', 'e + C3H5 => e + e + C2H4 + CH^+! Bolsig+ C3H5 -> C2H4 CH^+', 'e + C3H4 => e + e + C3H4^+! Bolsig+ C3H4 -> C3H4^+', 'e + C3H4 => e + e + CH + C2H3^+! Bolsig+ C3H4 -> CH C2H3^+', 'e + C3H4 => e + e + CH2 + C2H2^+! Bolsig+ C3H4 -> CH2 C2H2^+', 'e + C3H4 => e + e + C2H2 + CH2^+! Bolsig+ C3H4 -> C2H2 CH2^+', 'e + C3H4 => e + e + C2H3 + CH^+! Bolsig+ C3H4 -> C2H3 CH^+', 'e + CH4(v24) => e + CH3 + H! f0 * Bolsig+ CH4(v24) -> CH3 H', 'e + CH4(v13) => e + CH3 + H! f0 * Bolsig+ CH4(v13) -> CH3 H', 'e + CH4(v24) => e + CH2 + H2! Bolsig+ CH4(v24) -> CH2 H2', 'e + CH4(v13) => e + CH2 + H2! Bolsig+ CH4(v13) -> CH2 H2', 'e + CH4(v24) => e + CH + H2 + H! Bolsig+ CH4(v24) -> CH H2 H', 'e + CH4(v13) => e + CH + H2 + H! Bolsig+ CH4(v13) -> CH H2 H', 'e + CH4(v24) => e + e + CH4^+! Bolsig+ CH4(v24) -> CH4^+', 'e + CH4(v13) => e + e + CH4^+! Bolsig+ CH4(v13) -> CH4^+', 'e + CH4(v24) => e + e + H + CH3^+! Bolsig+ CH4(v24) -> H CH3^+', 'e + CH4(v13) => e + e + H + CH3^+! Bolsig+ CH4(v13) -> H CH3^+', 'e + CH4(v24) => e + e + H2 + CH2^+! Bolsig+ CH4(v24) -> H2 CH2^+', 'e + CH4(v13) => e + e + H2 + CH2^+! Bolsig+ CH4(v13) -> H2 CH2^+', 'e + CH4(v24) => e + e + H2 + H + CH^+! Bolsig+ CH4(v24) -> H2 H CH^+', 'e + CH4(v13) => e + e + H2 + H + CH^+! Bolsig+ CH4(v13) -> H2 H CH^+', 'e + C2H6(v24) => e + C2H5 + H! Bolsig+ C2H6(v24) -> C2H5 H', 'e + C2H6(v13) => e + C2H5 + H! Bolsig+ C2H6(v13) -> C2H5 H', 'e + C2H6(v24) => e + C2H4 + H2! f3 * Bolsig+ C2H6(v24) -> C2H4 H2', 'e + C2H6(v13) => e + C2H4 + H2! f3 * Bolsig+ C2H6(v13) -> C2H4 H2', 'e + C2H6(v24) => e + C2H3 + H2 + H! Bolsig+ C2H6(v24) -> C2H3 H2 H', 'e + C2H6(v13) => e + C2H3 + H2 + H! Bolsig+ C2H6(v13) -> C2H3 H2 H', 'e + C2H6(v24) => e + C2H2 + H2 + H2! Bolsig+ C2H6(v24) -> C2H2 H2 H2', 'e + C2H6(v13) => e + C2H2 + H2 + H2! Bolsig+ C2H6(v13) -> C2H2 H2 H2', 'e + C2H6(v24) => e + CH4 + CH2! Bolsig+ C2H6(v24) -> CH4 CH2', 'e + C2H6(v13) => e + CH4 + CH2! Bolsig+ C2H6(v13) -> CH4 CH2', 'e + C2H6(v24) => e + CH3 + CH3! Bolsig+ C2H6(v24) -> CH3 CH3', 'e + C2H6(v13) => e + CH3 + CH3! Bolsig+ C2H6(v13) -> CH3 CH3', 'e + C2H4(v1) => e + C2H3 + H! Bolsig+ C2H4(v1) -> C2H3 H', 'e + C2H4(v2) => e + C2H3 + H! Bolsig+ C2H4(v2) -> C2H3 H', 'e + C2H4(v1) => e + C2H2 + H2! f6 * Bolsig+ C2H4(v1) -> C2H2 H2', 'e + C2H4(v2) => e + C2H2 + H2! f6 * Bolsig+ C2H4(v2) -> C2H2 H2', 'e + C2H4(v1) => e + C2H2 + H + H! f6 * Bolsig+ C2H4(v1) -> C2H2 H H', 'e + C2H4(v2) => e + C2H2 + H + H! f6 * Bolsig+ C2H4(v2) -> C2H2 H H', 'e + C2H4(v1) => e + CH3 + CH! Bolsig+ C2H4(v1) -> CH3 CH', 'e + C2H4(v2) => e + CH3 + CH! Bolsig+ C2H4(v2) -> CH3 CH', 'e + C2H4(v1) => e + CH2 + CH2! Bolsig+ C2H4(v1) -> CH2 CH2', 'e + C2H4(v2) => e + CH2 + CH2! Bolsig+ C2H4(v2) -> CH2 CH2', 'e + C2H2(v5) => e + CH + CH! Bolsig+ C2H2(v5) -> CH CH', 'e + C2H2(v2) => e + CH + CH! Bolsig+ C2H2(v2) -> CH CH', 'e + C2H2(v13) => e + CH + CH! Bolsig+ C2H2(v13) -> CH CH', 'e + C3H8(v1) => e + C3H7 + H! f10*Bolsig+ C3H8(v1) -> C3H7 H', 'e + C3H8(v2) => e + C3H7 + H! f10*Bolsig+ C3H8(v2) -> C3H7 H', 'e + C3H8(v1) => e + C3H6 + H2! f8 * Bolsig+ C3H8(v1) -> C3H6 H2', 'e + C3H8(v2) => e + C3H6 + H2! f8 * Bolsig+ C3H8(v2) -> C3H6 H2', 'e + C3H8(v1) => e + C3H4 + H2 + H2! f10*Bolsig+ C3H8(v1) -> C3H4 H2 H2', 'e + C3H8(v2) => e + C3H4 + H2 + H2! f10*Bolsig+ C3H8(v2) -> C3H4 H2 H2', 'e + C3H8(v1) => e + C2H6 + CH2! f10*Bolsig+ C3H8(v1) -> C2H6 CH2', 'e + C3H8(v2) => e + C2H6 + CH2! f10*Bolsig+ C3H8(v2) -> C2H6 CH2', 'e + C3H8(v1) => e + C2H5 + CH3! f10*Bolsig+ C3H8(v1) -> C2H5 CH3', 'e + C3H8(v2) => e + C2H5 + CH3! f10*Bolsig+ C3H8(v2) -> C2H5 CH3', 'e + C3H8(v1) => e + C2H4 + CH4! f10*Bolsig+ C3H8(v1) -> C2H4 CH4', 'e + C3H8(v2) => e + C2H4 + CH4! f10*Bolsig+ C3H8(v2) -> C2H4 CH4', 'e + C2H6(v24) => e + e + C2H6^+! Bolsig+ C2H6(v24) -> C2H6^+', 'e + C2H6(v13) => e + e + C2H6^+! Bolsig+ C2H6(v13) -> C2H6^+', 'e + C2H6(v24) => e + e + H + C2H5^+! Bolsig+ C2H6(v24) -> H C2H5^+', 'e + C2H6(v13) => e + e + H + C2H5^+! Bolsig+ C2H6(v13) -> H C2H5^+', 'e + C2H6(v24) => e + e + H2 + C2H4^+! Bolsig+ C2H6(v24) -> H2 C2H4^+', 'e + C2H6(v13) => e + e + H2 + C2H4^+! Bolsig+ C2H6(v13) -> H2 C2H4^+', 'e + C2H6(v24) => e + e + H2 + H + C2H3^+! Bolsig+ C2H6(v24) -> H2 H C2H3^+', 'e + C2H6(v13) => e + e + H2 + H + C2H3^+! Bolsig+ C2H6(v13) -> H2 H C2H3^+', 'e + C2H6(v24) => e + e + H2 + H2 + C2H2^+! Bolsig+ C2H6(v24) -> H2 H2 C2H2^+', 'e + C2H6(v13) => e + e + H2 + H2 + C2H2^+! Bolsig+ C2H6(v13) -> H2 H2 C2H2^+', 'e + C2H6(v24) => e + e + CH3 + CH3^+! Bolsig+ C2H6(v24) -> CH3 CH3^+', 'e + C2H6(v13) => e + e + CH3 + CH3^+! Bolsig+ C2H6(v13) -> CH3 CH3^+', 'e + C2H6(v24) => e + e + CH4 + CH2^+! Bolsig+ C2H6(v24) -> CH4 CH2^+', 'e + C2H6(v13) => e + e + CH4 + CH2^+! Bolsig+ C2H6(v13) -> CH4 CH2^+', 'e + C2H4(v1) => e + e + C2H4^+! Bolsig+ C2H4(v1) -> C2H4^+', 'e + C2H4(v2) => e + e + C2H4^+! Bolsig+ C2H4(v2) -> C2H4^+', 'e + C2H4(v1) => e + e + H + C2H3^+! Bolsig+ C2H4(v1) -> H C2H3^+', 'e + C2H4(v2) => e + e + H + C2H3^+! Bolsig+ C2H4(v2) -> H C2H3^+', 'e + C2H4(v1) => e + e + CH + CH3^+! Bolsig+ C2H4(v1) -> CH CH3^+', 'e + C2H4(v2) => e + e + CH + CH3^+! Bolsig+ C2H4(v2) -> CH CH3^+', 'e + C2H4(v1) => e + e + CH2 + CH2^+! Bolsig+ C2H4(v1) -> CH2 CH2^+', 'e + C2H4(v2) => e + e + CH2 + CH2^+! Bolsig+ C2H4(v2) -> CH2 CH2^+', 'e + C2H4(v1) => e + e + CH3 + CH^+! Bolsig+ C2H4(v1) -> CH3 CH^+', 'e + C2H4(v2) => e + e + CH3 + CH^+! Bolsig+ C2H4(v2) -> CH3 CH^+', 'e + C2H2(v5) => e + e + C2H2^+! Bolsig+ C2H2(v5) -> C2H2^+', 'e + C2H2(v2) => e + e + C2H2^+! Bolsig+ C2H2(v2) -> C2H2^+', 'e + C2H2(v13) => e + e + C2H2^+! Bolsig+ C2H2(v13) -> C2H2^+', 'e + C2H2(v5) => e + e + CH + CH^+! Bolsig+ C2H2(v5) -> CH CH^+', 'e + C2H2(v2) => e + e + CH + CH^+! Bolsig+ C2H2(v2) -> CH CH^+', 'e + C2H2(v13) => e + e + CH + CH^+! Bolsig+ C2H2(v13) -> CH CH^+', 'e + C3H8(v1) => e + e + C3H8^+! f10*Bolsig+ C3H8(v1) -> C3H8^+', 'e + C3H8(v2) => e + e + C3H8^+! f10*Bolsig+ C3H8(v2) -> C3H8^+', 'e + C3H8(v1) => e + e + H + C3H7^+! f10*Bolsig+ C3H8(v1) -> H C3H7^+', 'e + C3H8(v2) => e + e + H + C3H7^+! f10*Bolsig+ C3H8(v2) -> H C3H7^+', 'e + C3H8(v1) => e + e + H2 + C3H6^+! f10*Bolsig+ C3H8(v1) -> H2 C3H6^+', 'e + C3H8(v2) => e + e + H2 + C3H6^+! f10*Bolsig+ C3H8(v2) -> H2 C3H6^+', 'e + C3H8(v1) => e + e + H2 + H + C3H5^+! f10*Bolsig+ C3H8(v1) -> H2 H C3H5^+', 'e + C3H8(v2) => e + e + H2 + H + C3H5^+! f10*Bolsig+ C3H8(v2) -> H2 H C3H5^+', 'e + C3H8(v1) => e + e + H2 + H2 + C3H4^+! f10*Bolsig+ C3H8(v1) -> H2 H2 C3H4^+', 'e + C3H8(v2) => e + e + H2 + H2 + C3H4^+! f10*Bolsig+ C3H8(v2) -> H2 H2 C3H4^+', 'e + C3H8(v1) => e + e + CH3 + C2H5^+! f10*Bolsig+ C3H8(v1) -> CH3 C2H5^+', 'e + C3H8(v2) => e + e + CH3 + C2H5^+! f10*Bolsig+ C3H8(v2) -> CH3 C2H5^+', 'e + C3H8(v1) => e + e + CH4 + C2H4^+! f10*Bolsig+ C3H8(v1) -> CH4 C2H4^+', 'e + C3H8(v2) => e + e + CH4 + C2H4^+! f10*Bolsig+ C3H8(v2) -> CH4 C2H4^+', 'e + C3H8(v1) => e + e + C2H5 + CH3^+! f10*Bolsig+ C3H8(v1) -> C2H5 CH3^+', 'e + C3H8(v2) => e + e + C2H5 + CH3^+! f10*Bolsig+ C3H8(v2) -> C2H5 CH3^+', 'e + C3H8(v1) => e + e + C2H6 + CH2^+! f10*Bolsig+ C3H8(v1) -> C2H6 CH2^+', 'e + C3H8(v2) => e + e + C2H6 + CH2^+! f10*Bolsig+ C3H8(v2) -> C2H6 CH2^+', 'e + H2 => e + H + H! Bolsig+ H2 -> H H', 'e + H2 => e + e + H2^+! Bolsig+ H2 -> H2^+', 'e + e + CH4^+ => e + CH4! 1.00d0', 'e + e + CH3^+ => e + CH3! 1.00d0', 'e + e + CH2^+ => e + CH2! 1.00d0', 'e + e + CH^+ => e + CH! 1.00d0', 'e + e + C2H6^+ => e + C2H6! 1.00d0', 'e + e + C2H5^+ => e + C2H5! 1.00d0', 'e + e + C2H4^+ => e + C2H4! 1.00d0', 'e + e + C2H3^+ => e + C2H3! 1.00d0', 'e + e + C2H2^+ => e + C2H2! 1.00d0', 'e + e + C3H8^+ => e + C3H8! 1.00d0', 'e + e + C3H7^+ => e + C3H7! 1.00d0', 'e + e + C3H6^+ => e + C3H6! 1.00d0', 'e + e + C3H5^+ => e + C3H5! 1.00d0', 'e + e + C3H4^+ => e + C3H4! 1.00d0', 'e + e + H^+ => e + H! 1.00d0', 'e + e + H2^+ => e + H2! 1.00d0', 'e + CH5^+ => CH3 + H + H! 2.57d-07 * (300./Tgas)**0.3', 'e + CH5^+ => CH2 + H2 + H! 6.61d-08 * (300./Tgas)**0.3', 'e + CH4^+ => CH3 + H! 1.18d-08 * (300./Tgas)**0.5', 'e + CH4^+ => CH2 + H + H! 2.42d-08 * (300./Tgas)**0.5', 'e + CH4^+ => CH + H2 + H! 1.41d-08 * (300./Tgas)**0.5', 'e + CH3^+ => CH2 + H! 2.25d-08 * (300./Tgas)**0.5', 'e + CH3^+ => CH + H2! 7.88d-09 * (300./Tgas)**0.5', 'e + CH2^+ => CH + H! 1.00d-08 * (300./Tgas)**0.5', 'e + C2H6^+ => C2H5 + H! 2.19d-08 * (300./Tgas)**0.71', 'e + C2H6^+ => C2H4 + H + H! 3.36d-08 * (300./Tgas)**0.71', 'e + C2H5^+ => C2H4 + H! 7.70d-09 * (300./Tgas)**0.71', 'e + C2H5^+ => C2H3 + H + H! 1.92d-08 * (300./Tgas)**0.71', 'e + C2H5^+ => C2H2 + H2 + H! 1.60d-08 * (300./Tgas)**0.71', 'e + C2H5^+ => C2H2 + H + H + H! 8.98d-09 * (300./Tgas)**0.71', 'e + C2H5^+ => CH3 + CH2! 9.62d-09 * (300./Tgas)**0.71', 'e + C2H4^+ => C2H3 + H! 8.29d-09 * (300./Tgas)**0.71', 'e + C2H4^+ => C2H2 + H + H! 3.43d-08 * (300./Tgas)**0.71', 'e + C2H3^+ => C2H2 + H! 1.34d-08 * (300./Tgas)**0.71', 'e + C2H2^+ => CH + CH! 4.87d-09 * (300./Tgas)**0.71', 'e + H2^+ => H + H! 3.17d21/(6.022d23 * Te**4.5)', 'e + H3^+ => H + H2! 3.17d21/(6.022d23 * Te**4.5)', 'H2 + H2^+ => H + H3^+! 2.11d-09', 'CH2 + CH5^+ => CH4 + CH3^+! 9.60d-10', 'CH + CH5^+ => CH4 + CH2^+! 6.90d-10', 'C2H6 + CH5^+ => CH4 + H2 + C2H5^+! 2.25d-10', 'C2H4 + CH5^+ => CH4 + C2H5^+! 1.50d-9', 'C2H2 + CH5^+ => CH4 + C2H3^+! 1.60d-9', 'H + CH5^+ => H2 + CH4^+! 1.50d-10', 'CH4 + CH4^+ => CH3 + CH5^+! 1.50d-9', 'C2H6 + CH4^+ => CH4 + H2 + C2H4^+! 1.91d-9', 'C2H4 + CH4^+ => CH3 + C2H5^+! 4.23d-10', 'C2H4 + CH4^+ => CH4 + C2H4^+! 1.38d-9', 'C2H2 + CH4^+ => CH3 + C2H3^+! 1.23d-9', 'C2H2 + CH4^+ => CH4 + C2H2^+! 1.13d-9', 'H2 + CH4^+ => H + CH5^+! 3.30d-11', 'H + CH4^+ => H2 + CH3^+! 1.00d-11', 'CH4 + CH3^+ => CH3 + CH4^+! 1.36d-10', 'CH4 + CH3^+ => H2 + C2H5^+! 1.20d-9', 'CH2 + CH3^+ => H2 + C2H3^+! 9.90d-10', 'CH + CH3^+ => H2 + C2H2^+! 7.10d-10', 'C2H6 + CH3^+ => CH4 + C2H5^+! 1.48d-9', 'C2H4 + CH3^+ => CH4 + C2H3^+! 3.50d-10', 'C2H3 + CH3^+ => CH3 + C2H3^+! 3.00d-10', 'CH4 + CH2^+ => CH3 + CH3^+! 1.38d-10', 'CH4 + CH2^+ => H + C2H5^+! 3.60d-10', 'CH4 + CH2^+ => H2 + C2H4^+! 8.40d-10', 'CH4 + CH2^+ => H + H2 + C2H3^+! 2.31d-10', 'CH4 + CH2^+ => H2 + H2 + C2H2^+! 3.97d-10', 'H2 + CH2^+ => H + CH3^+! 1.60d-9', 'CH4 + CH^+ => H + C2H4^+! 6.50d-11', 'CH4 + CH^+ => H2 + C2H3^+! 1.09d-9', 'CH4 + CH^+ => H2 + H + C2H2^+! 1.43d-10', 'H2 + CH^+ => H + CH2^+! 1.20d-9', 'C2H4 + C2H6^+ => C2H6 + C2H4^+! 1.15d-9', 'C2H2 + C2H6^+ => C2H3 + C2H5^+! 2.47d-10', 'H + C2H6^+ => H2 + C2H5^+! 1.00d-10', 'H + C2H5^+ => H2 + C2H4^+! 1.00d-11', 'C2H3 + C2H4^+ => C2H2 + C2H5^+! 5.00d-10', 'C2H3 + C2H4^+ => C2H4 + C2H3^+! 5.00d-10', 'H + C2H4^+ => H2 + C2H3^+! 3.00d-10', 'C2H6 + C2H3^+ => C2H4 + C2H5^+! 2.91d-10', 'C2H4 + C2H3^+ => C2H2 + C2H5^+! 8.90d-10', 'C2H + C2H3^+ => C2H2 + C2H2^+! 3.30d-10', 'H + C2H3^+ => H2 + C2H2^+! 6.80d-11', 'CH4 + C2H2^+ => CH3 + C2H3^+! 4.10d-9', 'C2H6 + C2H2^+ => C2H3 + C2H5^+! 1.31d-10', 'C2H6 + C2H2^+ => C2H4 + C2H4^+! 2.48d-10', 'C2H4 + C2H2^+ => C2H2 + C2H4^+! 4.14d-10', 'C2H3 + C2H2^+ => C2H2 + C2H3^+! 3.30d-10', 'H2 + C2H2^+ => H + C2H3^+! 1.00d-11', 'CH4 + C2H^+ => CH3 + C2H2^+! 3.74d-10', 'CH4 + H3^+ => H2 + CH5^+! 2.40d-9', 'CH3 + H3^+ => H2 + CH4^+! 2.10d-9', 'CH2 + H3^+ => H2 + CH3^+! 1.70d-9', 'CH + H3^+ => H2 + CH2^+! 1.20d-9', 'C2H6 + H3^+ => H2 + H2 + C2H5^+! 2.40d-9', 'C2H5 + H3^+ => H2 + C2H6^+! 1.40d-9', 'C2H4 + H3^+ => H2 + C2H5^+! 1.15d-9', 'C2H4 + H3^+ => H2 + H2 + C2H3^+! 1.15d-9', 'C2H3 + H3^+ => H2 + C2H4^+! 2.00d-9', 'C2H + H3^+ => H2 + C2H2^+! 1.70d-9', 'C2H2 + H3^+ => H2 + C2H3^+! 3.50d-9', 'CH4 + H2^+ => H + CH5^+! 1.14d-10', 'CH4 + H2^+ => H2 + CH4^+! 1.40d-9', 'CH4 + H2^+ => H2 + H + CH3^+! 2.30d-9', 'CH2 + H2^+ => H + CH3^+! 1.00d-9', 'CH2 + H2^+ => H2 + CH2^+! 1.00d-9', 'CH + H2^+ => H + CH2^+! 7.10d-10', 'CH + H2^+ => H2 + CH^+! 7.10d-10', 'C2H6 + H2^+ => H2 + C2H6^+! 2.94d-10', 'C2H6 + H2^+ => H2 + H + C2H5^+! 1.37d-9', 'C2H6 + H2^+ => H2 + H2 + C2H4^+! 2.35d-9', 'C2H6 + H2^+ => H2 + H2 + H + C2H3^+! 6.86d-10', 'C2H6 + H2^+ => H2 + H2 + H2 + C2H2^+! 1.96d-10', 'C2H4 + H2^+ => H2 + C2H4^+! 2.21d-9', 'C2H4 + H2^+ => H2 + H + C2H3^+! 1.81d-9', 'C2H4 + H2^+ => H2 + H2 + C2H2^+! 8.82d-10', 'C2H2 + H2^+ => H + C2H3^+! 4.80d-10', 'C2H2 + H2^+ => H2 + C2H2^+! 4.82d-9', 'H + H2^+ => H3^+! 2.10d-9', 'H + H2^+ => H2 + H^+! 6.39d-10', 'CH4 + H^+ => H + CH4^+! 1.50d-9', 'CH4 + H^+ => H2 + CH3^+! 2.30d-9', 'CH3 + H^+ => H + CH3^+! 3.40d-9', 'CH2 + H^+ => H + CH2^+! 1.40d-9', 'CH2 + H^+ => H2 + CH^+! 1.40d-9', 'CH + H^+ => H + CH^+! 1.90d-9', 'C2H6 + H^+ => H2 + C2H5^+! 1.30d-9', 'C2H6 + H^+ => H2 + H + C2H4^+! 1.40d-9', 'C2H6 + H^+ => H2 + H2 + C2H3^+! 2.80d-9', 'C2H5 + H^+ => H2 + C2H4^+! 1.65d-9', 'C2H5 + H^+ => H2 + H + C2H3^+! 3.06d-9', 'C2H4 + H^+ => H + C2H4^+! 1.00d-9', 'C2H4 + H^+ => H2 + C2H3^+! 3.00d-9', 'C2H4 + H^+ => H2 + H + C2H2^+! 1.00d-9', 'C2H3 + H^+ => H + C2H3^+! 2.00d-9', 'C2H3 + H^+ => H2 + C2H2^+! 2.00d-9', 'C2H2 + H^+ => H + C2H2^+! 5.40d-10', 'CH4 + CH2 => CH3 + CH3! 4.08d-18 * Tgas**2 * exp(-4163./Tgas)', 'CH4 + CH => C2H4 + H! 9.97d-11', 'CH4 + C2H5 => C2H6 + CH3! 2.51d-15 * (Tgas/298.)**4.14 * exp(-52.55/(R*Tgas))', 'CH4 + C2H3 => C2H4 + CH3! 4.26d-15 * (Tgas/298.)**4.02 * exp(-22.86/(R*Tgas))', 'CH4 + C2H => C2H2 + CH3! 3.01d-12 * exp(-2.08/(R*Tgas))', 'CH4 + C3H7 => C3H8 + CH3! 3.54d-16 * (Tgas/298.)**4.02 * exp(-45.48/(R*Tgas))', 'CH4 + C3H5 => C3H6 + CH3! 1.71d-14 * (Tgas/298.)**3.40 * exp(-97.28/(R*Tgas))', 'CH4 + H => CH3 + H2! 9.86d-13 * (Tgas/298.)**3.00 * exp(-36.67/(R*Tgas))', 'CH4 + CH3 => H + C2H6! 1.33d-10 * exp(-167.00/(R*Tgas))', 'CH4 + C4H9 => C4H9H + CH3! 5.68d-17 * (Tgas/298.)**3.72 * exp(-33.42/(R*Tgas))', 'CH4 + CH2 => C2H6! 1.90d-12', 'CH4 => CH3 + H! 1.40d-6 * exp(-45700./Tgas)', 'CH3 + CH3 => C2H5 + H! 5.00d-11 * exp(-56.54/(R*Tgas))', 'CH3 + CH3 => C2H6! f2 * 1.87d-6 * Tgas**(-7.03) * exp(-1390.54/Tgas)', 'CH3 + CH2 => C2H4 + H! 7.10d-11', 'CH3 + C2H6 => C2H5 + CH4! 7.19d-15 * (Tgas/298.) ** 4.00 * exp(-34.67/(R*Tgas))', 'CH3 + C2H5 => C3H8! f7 * 1.49d27 *  Tgas ** (-16.82) * exp(-6575.24/Tgas)', 'CH3 + C2H4 => C2H3 + CH4! 2.18d-11 * exp(-46.56/(R*Tgas))', 'CH3 + C2H3 => C2H2 + CH4! 1.5d-11 * exp(3.20/(R*Tgas))', 'CH3 + C2H3 => C3H6! 3.8d-29', 'CH3 + C2H2 => C2H + CH4! 3.0d-13 * exp(-72.34/(R*Tgas))', 'CH3 + C3H8 => C3H7 + CH4! 1.50d-24 * Tgas**3.65 * exp(-3600.40/Tgas)', 'CH3 + C3H7 => C3H6 + CH4! 3.07d-12 * (Tgas/298)**(-0.32)', 'CH3 + C3H6 => C3H5 + CH4! 1.68d-15 * (Tgas/298)**3.50 * exp(-23.78/(R*Tgas))', 'CH3 + H2 => CH4 + H! 2.52d-14 * (Tgas/298)**3.12 * exp(-36.42/(R*Tgas))', 'CH3 + H => CH2 + H2! 1.00d-10 * exp(-63.19/(R*Tgas))', 'CH3 + H => CH4! f1 * 1.44d-14 * Tgas**(-4.76) * exp(-1227.98/Tgas)', 'CH3 + C3H7 => C2H5 + C2H5! 3.20d-11 * Tgas**(-0.32)', 'CH3 => CH2 + H! 1.69d-8 * exp(-379./(R*Tgas))', 'CH3 => CH + H2! 6.97d-9 * exp(-345./(R*Tgas))', 'CH3 + C2H5 => C2H6 + CH2! 3.00d-44 * Tgas**9.10', 'CH2 + CH2 => C2H2 + H + H! 3.32d-10 * exp(-45.98/(R*Tgas))', 'CH2 + C2H5 => C2H4 + CH3! 3.01d-11', 'CH2 + C2H3 => C2H2 + CH3! 3.01d-11', 'CH2 + C2H => C2H2 + CH! 3.01d-11', 'CH2 + C3H8 => C3H7 + CH3! 1.61d-15 * (Tgas/298.)**3.65 * exp(-29.93/(R*Tgas))', 'CH2 + C3H7 => C2H4 + C2H5! 3.01d-11', 'CH2 + C3H7 => C3H6 + CH3! 3.01d-11', 'CH2 + C3H6 => C3H5 + CH3! 1.20d-12 * exp(-25.94/(R*Tgas))', 'CH2 + H2 => CH3 + H! 8.30d-19 * Tgas**2.00 * exp(-3938.65/Tgas)', 'CH2 + H => CH + H2! 1.00d-11 * exp(7.48/(R*Tgas))', 'CH2 => CH + H! 6.64d-9 * exp(-348./(R*Tgas))', 'CH2 + CH2 => C2H2 + H2! 2.66d-9 * exp(-6011.07/Tgas)', 'CH2 + H => CH3! 9.96d-10', 'CH + C2H6 => C3H6 + H! 3.00d-11', 'CH + C2H6 => C3H7! 1.14d-29', 'CH + H2 => CH2 + H! 1.79d-10 * exp(-1565.17/Tgas)', 'CH + CH3 => C2H3 + H! 4.98d-11', 'CH + CH2 => C2H2 + H! 6.64d-11', 'CH + H2 => CH3! 3.29d-12 * Tgas**0.43 * exp(186.21/Tgas)', 'CH + C2H3 => CH2 + C2H2! 8.30d-11', 'C2H6 + C2H3 => C2H5 + C2H4! 1.46d-13 * (Tgas/298.)**3.30 * exp(-43.90/(R*Tgas))', 'C2H6 + C3H7 => C3H8 + C2H5! 1.19d-15 * (Tgas/298.)**3.82 * exp(-37.83/(R*Tgas))', 'C2H6 + C3H5 => C3H6 + C2H5! 5.71d-14 * (Tgas/298.)**3.30 * exp(-83.06/(R*Tgas))', 'C2H6 + H => C2H5 + H2! 1.23d-11 * (Tgas/298.)**1.50 * exp(-31.01/(R*Tgas))', 'C2H6 + H => CH4 + CH3! 8.97d-20 * exp(-48.64/(R*Tgas))', 'C2H6 => CH3 + CH3! 1.80d21 * Tgas**(-1.24) * exp(-45700./Tgas)', 'C2H6 + C4H9 => C4H9H + C2H5! 8.30d-13 * exp(-62.77/(R*Tgas))', 'C2H6 + CH => C2H4 + CH3! 1.79d-10 * exp(132.36/Tgas)', 'C2H6 + CH2 => C2H5 + CH3! 9.00d-33 * Tgas**6.43', 'C2H5 + C2H5 => C2H6 + C2H4! 2.41d-12', 'C2H5 + C2H4 => C2H6 + C2H3! 5.83d-14 * (Tgas/298.)**3.13 * exp(-75.33/(R*Tgas))', 'C2H5 + C2H2 => C2H6 + C2H! 4.50d-13 * exp(-98.11/(R*Tgas))', 'C2H5 + C2H => C2H4 + C2H2! 3.01d-12', 'C2H5 + C3H8 => C2H6 + C3H7! 1.61d-15 * (Tgas/298.)**3.65 * exp(-38.25/(R*Tgas))', 'C2H5 + C3H7 => C3H8 + C2H4! 1.91d-12', 'C2H5 + C3H7 => C3H6 + C2H6! 2.41d-12', 'C2H5 + C3H6 => C3H5 + C2H6! 1.69d-15 * (Tgas/298.)**3.50 * exp(-35.34/(R*Tgas))', 'C2H5 + H2 => C2H6 + H! 4.12d-15 * (Tgas/298.)**3.60 * exp(-27.77/(R*Tgas))', 'C2H5 + H => CH3 + CH3! 5.99d-11', 'C2H5 + H => C2H4 + H2! 3.32d-12', 'C2H5 + H => C2H6! f11*8.65d-7 * Tgas**(-0.99) * exp(-795.17/Tgas)', 'C2H5 => C2H4 + H! 4.08d12 * (Tgas/298.)**1.04 * exp(-154./(R*Tgas))', 'C2H5 + C2H5 => C4H9H! f4 * 9.55d-12', 'C2H5 + C4H9 => C2H4 + C4H9H! 1.40d-12', 'C2H5 + C2H3 => C2H4 + C2H4! 4.42d-11', 'C2H4 + H => C2H3 + H2! 9.00d-10 * exp(-62.36/(R*Tgas))', 'C2H4 + H => C2H5! f5 * 9.68d-12 * (Tgas/298.)**1.28 * exp(-5.40/(R*Tgas))', 'C2H4 + H2 => C2H5 + H! f5 * 9.55d-12', 'C2H4 => C2H3 + H! 4.30d-7 * exp(-404./(R*Tgas))', 'C2H4 + C3H6 => C3H5 + C2H5! 9.60d-11 * exp(-216./(R*Tgas))', 'C2H4 + C2H2 => C2H3 + C2H3! 4.00d-11 * exp(-286./(R*Tgas))', 'C2H4 + C3H6 => C2H3 + C3H7! 1.00d-10 * exp(-316./(R*Tgas))', 'C2H4 + C2H4 => C2H5 + C2H3! 8.00d-10 * exp(-299./(R*Tgas))', 'C2H4 + CH3 => C3H7! 4.23d-18 * Tgas**1.60 * exp(-2868.65/Tgas)', 'C2H4 => C2H2 + H2! 8.00d12*Tgas**0.44*exp(-44675.39/Tgas)', 'C2H4 + C2H5 => C4H9! 3.00d-14*(Tgas/298.)**2.48*exp(-25.65/(R*Tgas))', 'C2H4 + H2 => C2H6! 4.75d-16*exp(-180./(R*Tgas))', 'C2H4 + CH2 => C3H6! 5.30d-12*exp(-2660./Tgas)', 'C2H4 + C4H9 => C3H6 + C3H7! 5.00d-14*exp(-25.53/(R*Tgas))', 'C2H3 + C2H3 => C2H4 + C2H2! 3.50d-11', 'C2H3 + C3H8 => C2H4 + C3H7! 1.46d-13*(Tgas/298.)**3.30*exp(-43.90/(R*Tgas))', 'C2H3 + C3H7 => C3H8 + C2H2! 2.01d-12', 'C2H3 + C3H7 => C3H6 + C2H4! 2.01d-12', 'C2H3 + C3H6 => C3H5 + C2H4! 1.68d-15*(Tgas/298.)**3.50*exp(-19.62/(R*Tgas))', 'C2H3 + C3H5 => C3H6 + C2H2! 8.00d-12', 'C2H3 + H2 => C2H4 + H! 1.61d-13*(Tgas/298.)**2.63*exp(-35.75/(R*Tgas))', 'C2H3 + H => C2H2 + H2! 1.60d-10', 'C2H3 + H => C2H4! 1.01d-11*Tgas**0.27*exp(-140.92/Tgas)', 'C2H3 => C2H2 + H! 2.00d14*exp(-20000./Tgas)', 'C2H3 + C4H9 => C2H2 + C4H9H! 1.40d-12', 'C2H2 + H => C2H3! 9.30d-12*exp(-1207.85/Tgas)', 'C2H2 + H2 => C2H4! 5.00d-13*exp(-163./(R*Tgas))', 'C2H2 + H2 => C2H3 + H! 4.00d-12*exp(-272./(R*Tgas))', 'C2H2 + CH3 => C3H5! 1.58d-5*(Tgas/298.)**-8.58*exp(-84.81/(R*Tgas))', 'C2H2 + C4H9 => C3H6 + C3H5! 1.20d-12*exp(-37.66/(R*Tgas))', 'C3H8 + C3H5 => C3H6 + C3H7! 5.71d-14*(Tgas/298.)**3.30*exp(-83.06/(R*Tgas))', 'C3H8 + H => C3H7 + H2! 2.19d-180*Tgas**2.54*exp(-3400.10/Tgas)', 'C3H8 => C2H5 + CH3! 1.10d17*exp(-42470./Tgas)', 'C3H8 + C4H9 => C4H9H + C3H7! 1.61d-15*(Tgas/298.)**3.50*exp(-27.77/(R*Tgas))', 'C3H8 + CH2 => C4H9H! 4.42d-12', 'C3H7 + C3H7 => C3H6 + C3H8! 2.81d-12', 'C3H7 + C3H6 => C3H5 + C3H8! 1.69d-15*(Tgas/298.)**3.50*exp(-27.77/(R*Tgas))', 'C3H7 + C3H5 => C3H6 + C3H6! 2.41d-12*exp(-0.55/(R*Tgas))', 'C3H7 + H2 => C3H8 + H! 3.19d-14*(Tgas/298.)**2.84*exp(-38.25/(R*Tgas))', 'C3H7 + H => C3H6 + H2! 3.01d-12', 'C3H7 + H => C3H8! 6.00d-11', 'C3H7 + H => CH3 + C2H5! 6.74d-18*Tgas**2.19*exp(-447.91/Tgas)', 'C3H7 => C3H6 + H! 1.25d17*exp(-237./(R*Tgas))', 'C3H7 => C2H4 + CH3! 16.0*(Tgas/298.)**-(10.00)*exp(-150./(R*Tgas))', 'C3H7 + C4H9 => C4H9H + C3H6! 2.41d-12', 'C3H6 + C2H2 => C2H3 + C3H5! 6.71d-11*exp(-196./(R*Tgas))', 'C3H6 + C3H6 => C3H7 + C3H5! 4.20d-10*exp(-231./(R*Tgas))', 'C3H6 => C3H5 + H! 2.50d15*exp(-363./(R*Tgas))', 'C3H6 + H => C3H5 + H2! 4.40d-13*(Tgas/298.)**2.50*exp(-10.39/(R*Tgas))', 'C3H6 + H => C3H7! 1.29d-11*(Tgas/298.)**0.51*exp(-5.15/(R*Tgas))', 'C3H6 => CH3 + C2H3! 1.28d13*(Tgas/298.)**(-15.70)*exp(-502./(R*Tgas))', 'C3H6 + CH3 => C4H9! 1.27d-14*(Tgas/298.)**2.67*exp(-28.66/(R*Tgas))', 'C3H6 + C4H9 => C4H9H + C3H5! 1.69d-15*(Tgas/298.)**3.50*exp(-27.77/(R*Tgas))', 'C3H5 + H2 => C3H6 + H! 1.39d-13*(Tgas/298.)**2.38*exp(-79.49/(R*Tgas))', 'C3H5 + H => C3H6! 78.80*(Tgas/298.)**(-11.76)*exp(-98.53/(R*Tgas))', 'C3H5 => C2H2 + CH3! 1.26d13*exp(-140./(R*Tgas))', 'C4H9 => C2H4 + C2H5! 1.07d2*(Tgas/298.)**(-11.90)*exp(-135./(R*Tgas))', 'C4H9 + CH2 => C2H4 + C3H7! 3.01d-11', 'C4H9 => C3H6 + CH3! 7.71d13*(Tgas/298.)**0.77*exp(-128./(R*Tgas))', 'C4H9 + H2 => C4H9H + H! 2.52d-14*(Tgas/298.)**2.72*exp(-40.99/(R*Tgas))', 'C4H9H + CH3 => CH4 + C4H9! f9*8.32d-13*exp(-56.87/(R*Tgas))', 'C4H9H => C3H7 + CH3! f9*8.87d-7*exp(-180./(R*Tgas))', 'C4H9H => C2H5 + C2H5! f9*7.84d-6*exp(-207./(R*Tgas))', 'C4H9H + H => C4H9 + H2! f9*2.19d-10*exp(-39.24/(R*Tgas))', 'C4H9H + CH2 => C4H9 + CH3! f9*1.81d-12*exp(-20.54/(R*Tgas))', 'C4H9H + C2H3 => C2H4 + C4H9! f9*2.42d-15*(Tgas/298.)**3.65*exp(-21.62/(R*Tgas))', 'C4H9H + C3H7 => C3H8 + C4H9! f9*2.47d-15*(Tgas/298.)**3.65*exp(-38.25/(R*Tgas))', 'C4H9H + C2H => C2H2 + C4H9! f9*1.00d-11', 'C4H9H + C2H5 => C2H6 + C4H9! f9*2.47d-15*(Tgas/298.)**3.65*exp(-38.25/(R*Tgas))', 'C4H9H + C3H5 => C3H6 + C4H9! f9*8.63d-14*(Tgas/298.)**3.30*exp(-83.06/(R*Tgas))', 'C4H9H + CH2 => C5H12! f9*9.61d-13', 'C5H12 => CH3 + C4H9! 3.16d16*exp(-331./(R*Tgas))', 'H2 => H + H! 1.88d-8*(Tgas/298.)**(-1.10)*exp(-437./(R*Tgas))', 'H + H => H2! 5.52d-30*Tgas**(-1.00)']\n"
     ]
    }
   ],
   "source": [
    "# parameter initialization in kinet.inp\n",
    "with open('kinet_ori.inp', 'r') as file:\n",
    "    lines = file.readlines()\n",
    "\n",
    "    index_rxn = 0\n",
    "    index_end = 0\n",
    "    for i, line in enumerate(lines):\n",
    "        if 'electron collision reaction' in line:\n",
    "            index_rxn = i\n",
    "        elif 'END' in line:\n",
    "            index_end = i\n",
    "\n",
    "    rxn_set = []\n",
    "    for i, line in enumerate(lines[index_rxn:index_end]):\n",
    "        if line.startswith('#'):\n",
    "            pass\n",
    "        else:\n",
    "            rxn_set.append(line.replace('\\t','').replace('\\n',''))\n",
    "    print(rxn_set)\n",
    "        \n"
   ]
  },
  {
   "cell_type": "code",
   "execution_count": 40,
   "metadata": {},
   "outputs": [
    {
     "data": {
      "text/plain": [
       "3.671195652173913e+19"
      ]
     },
     "execution_count": 40,
     "metadata": {},
     "output_type": "execute_result"
    }
   ],
   "source": [
    "n = p/kb/T\n",
    "n\n"
   ]
  },
  {
   "cell_type": "code",
   "execution_count": 41,
   "metadata": {},
   "outputs": [],
   "source": [
    "sig = e*ne_i*m/n"
   ]
  },
  {
   "cell_type": "code",
   "execution_count": 42,
   "metadata": {},
   "outputs": [
    {
     "data": {
      "text/plain": [
       "1.551576646868986e-09"
      ]
     },
     "execution_count": 42,
     "metadata": {},
     "output_type": "execute_result"
    }
   ],
   "source": [
    "sig"
   ]
  },
  {
   "cell_type": "code",
   "execution_count": 43,
   "metadata": {},
   "outputs": [
    {
     "data": {
      "text/plain": [
       "72.62431144320473"
      ]
     },
     "execution_count": 43,
     "metadata": {},
     "output_type": "execute_result"
    }
   ],
   "source": [
    "(15/sig/13.6)**0.5/n/1e-17"
   ]
  },
  {
   "cell_type": "code",
   "execution_count": 44,
   "metadata": {},
   "outputs": [
    {
     "data": {
      "text/plain": [
       "26661.805641241743"
      ]
     },
     "execution_count": 44,
     "metadata": {},
     "output_type": "execute_result"
    }
   ],
   "source": [
    "(P/V/sig)**0.5"
   ]
  },
  {
   "cell_type": "code",
   "execution_count": 45,
   "metadata": {},
   "outputs": [
    {
     "data": {
      "text/plain": [
       "array([16.32,  8.16,  4.08,  2.72])"
      ]
     },
     "execution_count": 45,
     "metadata": {},
     "output_type": "execute_result"
    }
   ],
   "source": [
    "V = 13.6\n",
    "Fv = np.array([50,100,200,300])\n",
    "Fvm = Fv/60\n",
    "tr = V/Fvm\n",
    "tr\n"
   ]
  },
  {
   "cell_type": "code",
   "execution_count": 46,
   "metadata": {},
   "outputs": [],
   "source": [
    "conv = [10.59278, 12.60309, 15.20619, 18.81443, 21.59794]\n",
    "C2H6 = [33.69427, 34.93631,36.27389,37.19745,42.89809]\n",
    "H2 = [19.07643,22.80255,28.21656,33.3121,36.81529]\n",
    "C2 = [19.07643,16.30573,15.5414,14.77707,14.61783]\n",
    "C4 = [12.7707,14.61783,16.97452,17.89809,19.26752]\n",
    "C3 = [0.955414,1.178344,1.464968,1.687898,1.910828]"
   ]
  }
 ],
 "metadata": {
  "kernelspec": {
   "display_name": "Python 3",
   "language": "python",
   "name": "python3"
  },
  "language_info": {
   "codemirror_mode": {
    "name": "ipython",
    "version": 3
   },
   "file_extension": ".py",
   "mimetype": "text/x-python",
   "name": "python",
   "nbconvert_exporter": "python",
   "pygments_lexer": "ipython3",
   "version": "3.12.3"
  }
 },
 "nbformat": 4,
 "nbformat_minor": 2
}
