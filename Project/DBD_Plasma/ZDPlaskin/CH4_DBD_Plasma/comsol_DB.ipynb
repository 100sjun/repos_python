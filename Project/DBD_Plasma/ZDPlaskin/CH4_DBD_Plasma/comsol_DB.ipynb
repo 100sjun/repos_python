{
 "cells": [
  {
   "cell_type": "code",
   "execution_count": 1,
   "metadata": {},
   "outputs": [],
   "source": [
    "import pandas as pd\n",
    "import numpy as np"
   ]
  },
  {
   "cell_type": "code",
   "execution_count": 2,
   "metadata": {},
   "outputs": [],
   "source": [
    "def to_scientific_notation(value, decimal_places=4):\n",
    "    \"\"\"\n",
    "    숫자를 지정된 소수점 자릿수의 지수 표기법으로 변환합니다.\n",
    "    \"\"\"\n",
    "    format_string = f'{{:.{decimal_places}e}}'\n",
    "    return format_string.format(value)\n",
    "\n",
    "def convert_column_to_scientific(df, column_name, decimal_places=4):\n",
    "    \"\"\"\n",
    "    DataFrame의 특정 열을 지수 표기법으로 변환합니다.\n",
    "    \"\"\"\n",
    "    df[column_name] = df[column_name].apply(lambda x: to_scientific_notation(x, decimal_places))\n",
    "    return df"
   ]
  },
  {
   "cell_type": "code",
   "execution_count": 3,
   "metadata": {},
   "outputs": [],
   "source": [
    "f_path = './ZDPlaskin/kinetic_DB/'\n",
    "i_list = list(range(1,247))\n",
    "with open('cross_section for comsol.txt','w') as file:\n",
    "    for i in i_list:\n",
    "        f_name = 'reaction_%d.csv'%i\n",
    "        f = pd.read_csv(f_path+f_name)\n",
    "        f = convert_column_to_scientific(f, 'Energy(eV)')\n",
    "        f = convert_column_to_scientific(f, 'Cross_section(m2)')\n",
    "\n",
    "        type = f['Type'].loc[0]\n",
    "        F_comp = f['Formula'].loc[0].split(' ')\n",
    "        F_comp[3] = '=>'\n",
    "        F_comp = ['e' if i == 'E' else i for i in F_comp]\n",
    "        fomula = ''.join(F_comp)\n",
    "        if type == 'EXCITATION':\n",
    "            eloss = str(f['ELoss'].loc[0])+'  1  0'\n",
    "        else:\n",
    "            eloss = str(f['ELoss'].loc[0])\n",
    "        sfactor = '1.  1.'\n",
    "        line = '---------------------------'\n",
    "        \n",
    "        file.write(type+'\\n')\n",
    "        file.write(fomula+'\\n')\n",
    "        file.write(eloss+'\\n')\n",
    "        file.write(sfactor+'\\n')\n",
    "        file.write(line+'\\n')\n",
    "        for j in range(len(f)):\n",
    "            file.write('  '+str(f['Energy(eV)'].loc[j])+'  '+str(f['Cross_section(m2)'].loc[j])+'\\n')\n",
    "        file.write(line+'\\n')\n",
    "        file.write('\\n')"
   ]
  },
  {
   "cell_type": "code",
   "execution_count": null,
   "metadata": {},
   "outputs": [],
   "source": []
  }
 ],
 "metadata": {
  "kernelspec": {
   "display_name": "Python 3",
   "language": "python",
   "name": "python3"
  },
  "language_info": {
   "codemirror_mode": {
    "name": "ipython",
    "version": 3
   },
   "file_extension": ".py",
   "mimetype": "text/x-python",
   "name": "python",
   "nbconvert_exporter": "python",
   "pygments_lexer": "ipython3",
   "version": "3.12.3"
  }
 },
 "nbformat": 4,
 "nbformat_minor": 2
}
