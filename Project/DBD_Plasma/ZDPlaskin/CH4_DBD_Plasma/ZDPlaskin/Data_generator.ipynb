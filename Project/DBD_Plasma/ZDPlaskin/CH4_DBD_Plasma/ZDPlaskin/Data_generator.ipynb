{
 "cells": [
  {
   "cell_type": "code",
   "execution_count": 20,
   "metadata": {},
   "outputs": [],
   "source": [
    "import pandas as pd"
   ]
  },
  {
   "cell_type": "code",
   "execution_count": 21,
   "metadata": {},
   "outputs": [],
   "source": [
    "def to_scientific_notation(value, decimal_places=4):\n",
    "    \"\"\"\n",
    "    숫자를 지정된 소수점 자릿수의 지수 표기법으로 변환합니다.\n",
    "    \"\"\"\n",
    "    format_string = f'{{:.{decimal_places}e}}'\n",
    "    return format_string.format(value)\n",
    "\n",
    "def convert_column_to_scientific(df, column_name, decimal_places=4):\n",
    "    \"\"\"\n",
    "    DataFrame의 특정 열을 지수 표기법으로 변환합니다.\n",
    "    \"\"\"\n",
    "    df[column_name] = df[column_name].apply(lambda x: to_scientific_notation(x, decimal_places))\n",
    "    return df"
   ]
  },
  {
   "cell_type": "code",
   "execution_count": 22,
   "metadata": {},
   "outputs": [],
   "source": [
    "# general information\n",
    "file_path = './kinetic_DB/'\n",
    "i_list = [1, 22]"
   ]
  },
  {
   "cell_type": "code",
   "execution_count": 23,
   "metadata": {},
   "outputs": [],
   "source": [
    "# bolsigdb.dat 생성\n",
    "with open('bolsigdb.dat','w') as file:\n",
    "    for i in i_list:\n",
    "        file_name = 'reaction_%d.csv'%i\n",
    "        f = pd.read_csv(file_path+file_name)\n",
    "        f = convert_column_to_scientific(f, 'Energy(eV)')\n",
    "        f = convert_column_to_scientific(f, 'Cross_section(m2)')\n",
    "\n",
    "        type = f['Type'].loc[0]\n",
    "        reaction = f['Reaction'].loc[0]\n",
    "\n",
    "        if type == 'ELASTIC' or 'EFFECTIVE':\n",
    "            eloss = str(f['ELoss'].loc[0])+' / mass ratio'\n",
    "        else:\n",
    "            eloss = str(f['ELoss'].loc[0])+' / threshold energy'\n",
    "        line = '-----------------------------'\n",
    "\n",
    "        file.write(type+'\\n')\n",
    "        file.write(reaction+'\\n')\n",
    "        file.write(eloss+'\\n')\n",
    "        file.write(line+'\\n')\n",
    "        for j in range(len(f)):\n",
    "            file.write('  '+str(f['Energy(eV)'].loc[j])+'  '+str(f['Cross_section(m2)'].loc[j])+'\\n')\n",
    "        file.write(line+'\\n')\n",
    "        file.write('\\n')\n",
    "    \n",
    "    file.close()"
   ]
  },
  {
   "cell_type": "code",
   "execution_count": 30,
   "metadata": {},
   "outputs": [],
   "source": [
    "# kinep.inp 생성\n",
    "with open('kinep.inp','w') as file:\n",
    "    species = []\n",
    "    for i in i_list:\n",
    "        file_name = 'reaction_%d.csv'%i\n",
    "        f = pd.read_csv(file_path+file_name)\n",
    "        species += f['Formula'].loc[0].split(' ')\n",
    "    species = list(set(species))\n",
    "    species.remove('+')\n",
    "    species.remove('->')\n",
    "    species.remove('E')\n",
    "    species = ['e']+species\n",
    "    species = ' '.join(species)\n",
    "\n",
    "    file.write('ELEMENTS'+'\\n')\n",
    "    file.write('e C H'+'\\n')\n",
    "    file.write('END'+'\\n')\n",
    "    file.write('\\n')\n",
    "    file.write('SPECIES'+'\\n')\n",
    "    file.write(species+'\\n')\n",
    "    file.write('END'+'\\n')\n",
    "\n",
    "\n"
   ]
  }
 ],
 "metadata": {
  "kernelspec": {
   "display_name": "Python 3",
   "language": "python",
   "name": "python3"
  },
  "language_info": {
   "codemirror_mode": {
    "name": "ipython",
    "version": 3
   },
   "file_extension": ".py",
   "mimetype": "text/x-python",
   "name": "python",
   "nbconvert_exporter": "python",
   "pygments_lexer": "ipython3",
   "version": "3.12.3"
  }
 },
 "nbformat": 4,
 "nbformat_minor": 2
}
