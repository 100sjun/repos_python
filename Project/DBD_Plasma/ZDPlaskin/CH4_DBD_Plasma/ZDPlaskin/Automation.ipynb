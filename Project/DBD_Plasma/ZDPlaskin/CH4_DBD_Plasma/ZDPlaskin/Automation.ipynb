{
 "cells": [
  {
   "cell_type": "code",
   "execution_count": 105,
   "metadata": {},
   "outputs": [],
   "source": [
    "import subprocess\n",
    "import threading\n",
    "import sys\n",
    "import time\n",
    "import signal"
   ]
  },
  {
   "cell_type": "code",
   "execution_count": 106,
   "metadata": {},
   "outputs": [],
   "source": [
    "def run_preprocessor(exe_path):\n",
    "    try:\n",
    "        process = subprocess.Popen(\n",
    "            exe_path,\n",
    "            stdout=subprocess.DEVNULL,\n",
    "            stderr=subprocess.DEVNULL,\n",
    "            stdin=subprocess.PIPE,\n",
    "            universal_newlines=True\n",
    "        )\n",
    "\n",
    "        while process.poll() is None:\n",
    "            process.stdin.write('.\\n')\n",
    "            process.stdin.flush()\n",
    "\n",
    "        process.wait()\n",
    "\n",
    "    except:\n",
    "        pass"
   ]
  },
  {
   "cell_type": "code",
   "execution_count": 107,
   "metadata": {},
   "outputs": [],
   "source": [
    "def compile_fortran():\n",
    "    compile_command = [\n",
    "        \"gfortran\",\n",
    "        \"-o\", \"run_plasRxn_v2.exe\",\n",
    "        \"dvode_f90_m.F90\",\n",
    "        \"zdplaskin_m.F90\",\n",
    "        \"run_plasRxn_v2.F90\",\n",
    "        \"bolsig_x86_64_g.dll\"\n",
    "    ]\n",
    "\n",
    "    try:\n",
    "        # 컴파일 명령어 실행\n",
    "        result = subprocess.run(compile_command, check=True, capture_output=True, text=True)\n",
    "    except subprocess.CalledProcessError as e:\n",
    "        # 컴파일 중 오류가 발생하면 오류 메시지 출력\n",
    "        print(\"컴파일 실패!\")\n",
    "        print(\"오류 메시지:\")\n",
    "        print(e.stderr)\n",
    "    except FileNotFoundError:\n",
    "        # gfortran이 설치되어 있지 않거나 PATH에 없는 경우\n",
    "        print(\"gfortran을 찾을 수 없습니다. gfortran이 설치되어 있고 시스템 PATH에 추가되어 있는지 확인하세요.\")"
   ]
  },
  {
   "cell_type": "code",
   "execution_count": 108,
   "metadata": {},
   "outputs": [],
   "source": [
    "def run_executable(exe_path):\n",
    "    try:\n",
    "        # 실행 파일 실행\n",
    "        process = subprocess.Popen(\n",
    "            exe_path,\n",
    "            stdout=subprocess.PIPE,\n",
    "            stderr=subprocess.PIPE,\n",
    "            universal_newlines=True,\n",
    "            bufsize=1\n",
    "        )\n",
    "\n",
    "        # 실시간으로 출력 읽기\n",
    "        while True:\n",
    "            output = process.stdout.readline()\n",
    "            if \"ZDPlasKin INFO: the density of species not configured for BOLSIG+ solver exceeds 1.00D+00\" in output:\n",
    "                print(\"지정된 문자열이 감지되었습니다. 프로그램을 종료합니다.\")\n",
    "                process.send_signal(signal.SIGTERM)\n",
    "                break\n",
    "            if output:\n",
    "                print(output.strip())\n",
    "\n",
    "        # 프로세스 종료 대기\n",
    "        return_code = process.wait()\n",
    "\n",
    "    except:\n",
    "        pass"
   ]
  },
  {
   "cell_type": "code",
   "execution_count": 109,
   "metadata": {},
   "outputs": [],
   "source": [
    "exe_path = r'C:\\Users\\USER\\repos_python\\Project\\DBD_Plasma\\ZDplaskin\\CH4_DBD_Plasma\\ZDPlaskin\\preprocessor.exe'\n",
    "run_preprocessor(exe_path)\n",
    "\n",
    "\n"
   ]
  },
  {
   "cell_type": "code",
   "execution_count": 110,
   "metadata": {},
   "outputs": [],
   "source": [
    "compile_fortran()"
   ]
  },
  {
   "cell_type": "code",
   "execution_count": 111,
   "metadata": {},
   "outputs": [
    {
     "name": "stdout",
     "output_type": "stream",
     "text": [
      "\n",
      "CH4 DBD Plasma Reactor\n",
      "\n",
      "ZDPlasKin (version 2.0a) INIT:\n",
      "species        ... 52\n",
      "reactions      ... 491\n",
      "BOLSIG+ loader ... bolsigdb.dat : 26 species & 249 collisions\n",
      "species  link  ... 26\n",
      "process  link  ... 239\n",
      "ZDPlasKin INFO: reset data and configuration\n",
      "ZDPlasKin INFO: set accuracy 1.00D-10 (absolute) & 1.00D-05 (relative)\n",
      "ZDPlasKin INIT DONE\n",
      "\n",
      "ZDPlasKin INFO: set autosave in QTplaskin format ON ...\n",
      "Time_s           E         H^+         CH3\n",
      "CH        C2H4   C2H6(V13)       C4H9H\n",
      "C2H4(V1)       CH2^+       CH3^+    CH4(V13)\n",
      "C3H4^+        C3H7        C2H3      C3H8^+\n",
      "C2H2        C3H8    C3H8(V1)     C3H6(V)\n",
      "C2H2(V13)        C3H4      C2H2^+      C3H7^+\n",
      "C3H6^+      C2H6^+         CH2      C2H5^+\n",
      "C4H9          H2        H3^+        C2H5\n",
      "C2H6(V24)    C2H4(V2)    C2H2(V2)       C2H^+\n",
      "C3H5^+      C2H3^+      C2H4^+       CH5^+\n",
      "H2^+    C3H8(V2)        C3H5         C2H\n",
      "C3H6         CH4           H    C2H2(V5)\n",
      "CH4(V24)       C5H12        C2H6        CH^+\n",
      "CH4^+\n",
      "0.0000E+00  1.0000E+00  0.0000E+00  0.0000E+00\n",
      "0.0000E+00  0.0000E+00  0.0000E+00  0.0000E+00\n",
      "0.0000E+00  0.0000E+00  0.0000E+00  0.0000E+00\n",
      "0.0000E+00  0.0000E+00  0.0000E+00  0.0000E+00\n",
      "0.0000E+00  0.0000E+00  0.0000E+00  0.0000E+00\n",
      "0.0000E+00  0.0000E+00  0.0000E+00  0.0000E+00\n",
      "0.0000E+00  0.0000E+00  0.0000E+00  0.0000E+00\n",
      "0.0000E+00  0.0000E+00  0.0000E+00  0.0000E+00\n",
      "0.0000E+00  0.0000E+00  0.0000E+00  0.0000E+00\n",
      "0.0000E+00  0.0000E+00  0.0000E+00  0.0000E+00\n",
      "0.0000E+00  0.0000E+00  0.0000E+00  0.0000E+00\n",
      "0.0000E+00  2.4600E+19  0.0000E+00  0.0000E+00\n",
      "0.0000E+00  0.0000E+00  0.0000E+00  0.0000E+00\n",
      "1.0000E+00\n",
      "ZDPlasKin INFO: set electron-electron collisions ON ...\n",
      "ZDPlasKin INFO: the density of species not configured for BOLSIG+ solver exceeds 1.03D-03\n"
     ]
    }
   ],
   "source": [
    "exe_path=\"run_plasRxn_v2.exe\"\n",
    "run_executable(exe_path)"
   ]
  },
  {
   "cell_type": "code",
   "execution_count": null,
   "metadata": {},
   "outputs": [],
   "source": []
  }
 ],
 "metadata": {
  "kernelspec": {
   "display_name": "Python 3",
   "language": "python",
   "name": "python3"
  },
  "language_info": {
   "codemirror_mode": {
    "name": "ipython",
    "version": 3
   },
   "file_extension": ".py",
   "mimetype": "text/x-python",
   "name": "python",
   "nbconvert_exporter": "python",
   "pygments_lexer": "ipython3",
   "version": "3.12.3"
  }
 },
 "nbformat": 4,
 "nbformat_minor": 2
}
