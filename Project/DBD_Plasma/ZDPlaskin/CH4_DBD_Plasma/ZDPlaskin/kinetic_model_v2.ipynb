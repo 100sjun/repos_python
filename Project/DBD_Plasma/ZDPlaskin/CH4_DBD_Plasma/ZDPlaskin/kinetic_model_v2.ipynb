{
 "cells": [
  {
   "cell_type": "code",
   "execution_count": 50,
   "metadata": {},
   "outputs": [],
   "source": [
    "import re"
   ]
  },
  {
   "cell_type": "code",
   "execution_count": 51,
   "metadata": {},
   "outputs": [],
   "source": [
    "def parse_molecule(molecule):\n",
    "    if molecule in ['H', 'H2']:\n",
    "        return float('inf'), 0  # H와 H2를 맨 뒤로 보냄\n",
    "    match = re.match(r'C(\\d*)H(\\d*)', molecule)\n",
    "    if match:\n",
    "        c_count = int(match.group(1) or 1)\n",
    "        h_count = int(match.group(2) or 1)\n",
    "        return c_count, -h_count  # C 개수 오름차순, H 개수 내림차순\n",
    "    return float('inf'), 0  # 다른 형식의 분자는 맨 뒤로"
   ]
  },
  {
   "cell_type": "code",
   "execution_count": 52,
   "metadata": {},
   "outputs": [],
   "source": [
    "def sort_molecules(molecules):\n",
    "    return sorted(molecules, key=parse_molecule)"
   ]
  },
  {
   "cell_type": "code",
   "execution_count": 53,
   "metadata": {},
   "outputs": [],
   "source": [
    "with open('kinet.inp', 'r') as f:\n",
    "    lines = f.readlines()\n",
    "    index_NN = [index for index, string in enumerate(lines) if \"Neutral-Neutral reaction\" in string][0] + 2\n",
    "    new_lines = lines[index_NN:-1]\n",
    "    species = []\n",
    "    for i in range(len(new_lines)):\n",
    "        reaction = new_lines[i].split('!')[0].strip()\n",
    "        pattern = r'\\b(?:[A-Z][a-z]?\\d*)+\\b'\n",
    "        specie = re.findall(pattern, reaction)\n",
    "        species += specie\n",
    "    f.close\n"
   ]
  },
  {
   "cell_type": "code",
   "execution_count": 54,
   "metadata": {},
   "outputs": [
    {
     "data": {
      "text/plain": [
       "['CH4',\n",
       " 'CH3',\n",
       " 'CH2',\n",
       " 'CH',\n",
       " 'C2H6',\n",
       " 'C2H5',\n",
       " 'C2H4',\n",
       " 'C2H3',\n",
       " 'C2H2',\n",
       " 'C2H',\n",
       " 'C3H8',\n",
       " 'C3H7',\n",
       " 'C3H6',\n",
       " 'C3H5',\n",
       " 'C4H9',\n",
       " 'C4H9H',\n",
       " 'C5H12',\n",
       " 'H',\n",
       " 'H2']"
      ]
     },
     "execution_count": 54,
     "metadata": {},
     "output_type": "execute_result"
    }
   ],
   "source": [
    "set_species = sort_molecules(set(species))\n",
    "set_species"
   ]
  }
 ],
 "metadata": {
  "kernelspec": {
   "display_name": "Python 3",
   "language": "python",
   "name": "python3"
  },
  "language_info": {
   "codemirror_mode": {
    "name": "ipython",
    "version": 3
   },
   "file_extension": ".py",
   "mimetype": "text/x-python",
   "name": "python",
   "nbconvert_exporter": "python",
   "pygments_lexer": "ipython3",
   "version": "3.12.3"
  }
 },
 "nbformat": 4,
 "nbformat_minor": 2
}
