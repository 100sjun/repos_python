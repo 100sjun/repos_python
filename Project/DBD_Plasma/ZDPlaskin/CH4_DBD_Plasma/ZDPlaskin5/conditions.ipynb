{
 "cells": [
  {
   "cell_type": "code",
   "execution_count": 38,
   "metadata": {},
   "outputs": [],
   "source": [
    "import numpy as np"
   ]
  },
  {
   "cell_type": "code",
   "execution_count": 39,
   "metadata": {},
   "outputs": [],
   "source": [
    "P = 15 # W\n",
    "e = 1.6022e-19 # C\n",
    "ne_i = 1e6\n",
    "p = 202650 # Pa\n",
    "kb = 1.38e-17 # J/K\n",
    "T = 400 #K\n",
    "V = 13.6\n",
    "m = 3.5552e23"
   ]
  },
  {
   "cell_type": "code",
   "execution_count": 40,
   "metadata": {},
   "outputs": [
    {
     "data": {
      "text/plain": [
       "3.671195652173913e+19"
      ]
     },
     "execution_count": 40,
     "metadata": {},
     "output_type": "execute_result"
    }
   ],
   "source": [
    "n = p/kb/T\n",
    "n\n"
   ]
  },
  {
   "cell_type": "code",
   "execution_count": 41,
   "metadata": {},
   "outputs": [],
   "source": [
    "sig = e*ne_i*m/n"
   ]
  },
  {
   "cell_type": "code",
   "execution_count": 42,
   "metadata": {},
   "outputs": [
    {
     "data": {
      "text/plain": [
       "1.551576646868986e-09"
      ]
     },
     "execution_count": 42,
     "metadata": {},
     "output_type": "execute_result"
    }
   ],
   "source": [
    "sig"
   ]
  },
  {
   "cell_type": "code",
   "execution_count": 43,
   "metadata": {},
   "outputs": [
    {
     "data": {
      "text/plain": [
       "72.62431144320473"
      ]
     },
     "execution_count": 43,
     "metadata": {},
     "output_type": "execute_result"
    }
   ],
   "source": [
    "(15/sig/13.6)**0.5/n/1e-17"
   ]
  },
  {
   "cell_type": "code",
   "execution_count": 44,
   "metadata": {},
   "outputs": [
    {
     "data": {
      "text/plain": [
       "26661.805641241743"
      ]
     },
     "execution_count": 44,
     "metadata": {},
     "output_type": "execute_result"
    }
   ],
   "source": [
    "(P/V/sig)**0.5"
   ]
  },
  {
   "cell_type": "code",
   "execution_count": 45,
   "metadata": {},
   "outputs": [
    {
     "data": {
      "text/plain": [
       "array([16.32,  8.16,  4.08,  2.72])"
      ]
     },
     "execution_count": 45,
     "metadata": {},
     "output_type": "execute_result"
    }
   ],
   "source": [
    "V = 13.6\n",
    "Fv = np.array([50,100,200,300])\n",
    "Fvm = Fv/60\n",
    "tr = V/Fvm\n",
    "tr\n"
   ]
  },
  {
   "cell_type": "code",
   "execution_count": 46,
   "metadata": {},
   "outputs": [],
   "source": [
    "conv = [10.59278, 12.60309, 15.20619, 18.81443, 21.59794]\n",
    "C2H6 = [33.69427, 34.93631,36.27389,37.19745,42.89809]\n",
    "H2 = [19.07643,22.80255,28.21656,33.3121,36.81529]\n",
    "C2 = [19.07643,16.30573,15.5414,14.77707,14.61783]\n",
    "C4 = [12.7707,14.61783,16.97452,17.89809,19.26752]\n",
    "C3 = [0.955414,1.178344,1.464968,1.687898,1.910828]"
   ]
  }
 ],
 "metadata": {
  "kernelspec": {
   "display_name": "Python 3",
   "language": "python",
   "name": "python3"
  },
  "language_info": {
   "codemirror_mode": {
    "name": "ipython",
    "version": 3
   },
   "file_extension": ".py",
   "mimetype": "text/x-python",
   "name": "python",
   "nbconvert_exporter": "python",
   "pygments_lexer": "ipython3",
   "version": "3.12.3"
  }
 },
 "nbformat": 4,
 "nbformat_minor": 2
}
