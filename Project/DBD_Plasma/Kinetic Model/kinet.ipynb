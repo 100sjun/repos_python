{
 "cells": [
  {
   "cell_type": "code",
   "execution_count": 117,
   "metadata": {},
   "outputs": [],
   "source": [
    "### Overview\n",
    "# kinet.inp 파일 생성"
   ]
  },
  {
   "cell_type": "code",
   "execution_count": 118,
   "metadata": {},
   "outputs": [],
   "source": [
    "# Module\n",
    "import pandas as pd\n",
    "import re"
   ]
  },
  {
   "cell_type": "code",
   "execution_count": 119,
   "metadata": {},
   "outputs": [],
   "source": [
    "# Species 정렬함수\n",
    "def custom_sort_key(s):\n",
    "    # 기호가 가장 앞에 오도록 우선순위 부여\n",
    "    if not re.match(r'[A-Za-z]', s):\n",
    "        return(0, s)\n",
    "    # C가 적은 순으로 우선순위 부여\n",
    "    elif s in ['C','CH','CH+']:\n",
    "        return(1, s)\n",
    "    elif re.match(r'^CH\\d+',s):\n",
    "        return(2, s)\n",
    "    elif re.match(r'^C2H\\d+',s):\n",
    "        return(3, s)\n",
    "    elif re.match(r'^C3H\\d+',s):\n",
    "        return(4, s)\n",
    "    elif re.match(r'^C4H\\d+',s):\n",
    "        return(5, s)\n",
    "    return (6, s)"
   ]
  },
  {
   "cell_type": "code",
   "execution_count": 120,
   "metadata": {},
   "outputs": [],
   "source": [
    "# Path\n",
    "path = './kinetic_DB/'"
   ]
  },
  {
   "cell_type": "code",
   "execution_count": 121,
   "metadata": {},
   "outputs": [],
   "source": [
    "# species\n",
    "species = []\n",
    "for i in range(186):\n",
    "    file_name = f'reaction_{i}.csv'\n",
    "    f1 = pd.read_csv(path+file_name)\n",
    "    species += f1['Formula'].iloc[0].split(' ')\n",
    "\n",
    "f2 = pd.read_csv(path+'reaction_gas.csv')\n",
    "for j in range(len(f2)):\n",
    "    species += f2['Reaction'].iloc[j].split(' ')\n",
    "\n",
    "species = sorted(list(set(species)),key=custom_sort_key)\n",
    "species.remove('+')\n",
    "species.remove('->')\n",
    "species.remove('=>')\n",
    "species.remove('E')\n",
    "species.remove('e')\n",
    "species = ['e'] + species"
   ]
  },
  {
   "cell_type": "code",
   "execution_count": 122,
   "metadata": {},
   "outputs": [
    {
     "data": {
      "text/plain": [
       "['e',\n",
       " 'C',\n",
       " 'CH',\n",
       " 'CH2',\n",
       " 'CH2^+',\n",
       " 'CH3',\n",
       " 'CH3^+',\n",
       " 'CH4',\n",
       " 'CH4(v13)',\n",
       " 'CH4(v24)',\n",
       " 'CH4^+',\n",
       " 'C2H2',\n",
       " 'C2H2(v13)',\n",
       " 'C2H2(v2)',\n",
       " 'C2H2(v5)',\n",
       " 'C2H2^+',\n",
       " 'C2H3',\n",
       " 'C2H3^+',\n",
       " 'C2H4',\n",
       " 'C2H4(v1)',\n",
       " 'C2H4(v2)',\n",
       " 'C2H4^+',\n",
       " 'C2H5',\n",
       " 'C2H5^+',\n",
       " 'C2H6',\n",
       " 'C2H6(v13)',\n",
       " 'C2H6(v24)',\n",
       " 'C2H6^+',\n",
       " 'C3H5',\n",
       " 'C3H6',\n",
       " 'C3H6(v)',\n",
       " 'C3H6^+',\n",
       " 'C3H7',\n",
       " 'C3H7^+',\n",
       " 'C3H8',\n",
       " 'C3H8(v1)',\n",
       " 'C3H8(v2)',\n",
       " 'C3H8^+',\n",
       " 'C4H9',\n",
       " 'C4H9H',\n",
       " 'C2H',\n",
       " 'C2H^+',\n",
       " 'C5H12',\n",
       " 'CH^+',\n",
       " 'H',\n",
       " 'H2',\n",
       " 'H2^+',\n",
       " 'H3^+',\n",
       " 'H^+']"
      ]
     },
     "execution_count": 122,
     "metadata": {},
     "output_type": "execute_result"
    }
   ],
   "source": [
    "species"
   ]
  },
  {
   "cell_type": "code",
   "execution_count": 123,
   "metadata": {},
   "outputs": [],
   "source": [
    "if len(species) > 25:\n",
    "    species1 = species[:25]\n",
    "    species2 = species[25:]\n",
    "else:\n",
    "    species1 = species\n",
    "    species2 = []\n",
    "\n",
    "species1 = ' '.join(species1)\n",
    "species2 = ' '.join(species2)\n"
   ]
  },
  {
   "cell_type": "code",
   "execution_count": 124,
   "metadata": {},
   "outputs": [
    {
     "data": {
      "text/plain": [
       "'C2H6(v13) C2H6(v24) C2H6^+ C3H5 C3H6 C3H6(v) C3H6^+ C3H7 C3H7^+ C3H8 C3H8(v1) C3H8(v2) C3H8^+ C4H9 C4H9H C2H C2H^+ C5H12 CH^+ H H2 H2^+ H3^+ H^+'"
      ]
     },
     "execution_count": 124,
     "metadata": {},
     "output_type": "execute_result"
    }
   ],
   "source": [
    "species2"
   ]
  }
 ],
 "metadata": {
  "kernelspec": {
   "display_name": "Python 3",
   "language": "python",
   "name": "python3"
  },
  "language_info": {
   "codemirror_mode": {
    "name": "ipython",
    "version": 3
   },
   "file_extension": ".py",
   "mimetype": "text/x-python",
   "name": "python",
   "nbconvert_exporter": "python",
   "pygments_lexer": "ipython3",
   "version": "3.12.3"
  }
 },
 "nbformat": 4,
 "nbformat_minor": 2
}
