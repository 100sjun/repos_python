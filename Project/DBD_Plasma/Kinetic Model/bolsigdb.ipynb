{
 "cells": [
  {
   "cell_type": "code",
   "execution_count": 42,
   "metadata": {},
   "outputs": [],
   "source": [
    "### Overview\n",
    "# bolsigdb 파일 생성 모듈"
   ]
  },
  {
   "cell_type": "code",
   "execution_count": 43,
   "metadata": {},
   "outputs": [],
   "source": [
    "# Module\n",
    "import pandas as pd"
   ]
  },
  {
   "cell_type": "code",
   "execution_count": 44,
   "metadata": {},
   "outputs": [],
   "source": [
    "# Convert function\n",
    "def to_pow(value, decimal_places):\n",
    "    '''입력된 숫자를 소수점 자리수의 지수로 변환'''\n",
    "    format_string = f'{{:.{decimal_places}e}}'\n",
    "    return format_string.format(value)\n",
    "\n",
    "def col_to_pow(df,column_name,decimal_places):\n",
    "    '''Dataframe 특정 열의 data를 지수 표기법으로 변환'''\n",
    "    df[column_name] = df[column_name].apply(lambda x: to_pow(x,decimal_places))\n",
    "    return df"
   ]
  },
  {
   "cell_type": "code",
   "execution_count": 45,
   "metadata": {},
   "outputs": [],
   "source": [
    "# path\n",
    "file_path = './kinetic_DB/'\n",
    "i_list = list(range(186))"
   ]
  },
  {
   "cell_type": "code",
   "execution_count": 48,
   "metadata": {},
   "outputs": [],
   "source": [
    "# bolsigdb.dat\n",
    "with open('bolsigdb.dat','w') as file:\n",
    "    for i in i_list:\n",
    "        file_name = f'reaction_{i}.csv'\n",
    "        f = pd.read_csv(file_path+file_name)\n",
    "        f = col_to_pow(f,'Energy(eV)',4)\n",
    "        f = col_to_pow(f,'Cross_section(m2)',4)\n",
    "\n",
    "        type = f['Type'].iloc[0]\n",
    "        reaction = f['Reaction'].iloc[0]\n",
    "        if type == 'ELASTIC' or type == 'EFFECTIVE':\n",
    "            eloss = str(f['ELoss'].iloc[0]) + ' / mass ratio'\n",
    "        else:\n",
    "            eloss = str(f['ELoss'].iloc[0]) + ' / threshold energy'\n",
    "        line = '-----------------------------'\n",
    "\n",
    "        file.write(type+'\\n')\n",
    "        file.write(reaction+'\\n')\n",
    "        file.write(eloss+'\\n')\n",
    "        file.write(line+'\\n')\n",
    "        for j in range(len(f)):\n",
    "            file.write('  ' + str(f['Energy(eV)'].iloc[j]) + '  ' + str(f['Cross_section(m2)'].iloc[j]) + '\\n')\n",
    "        file.write(line + '\\n')\n",
    "        file.write('\\n')\n",
    "    file.close()\n"
   ]
  },
  {
   "cell_type": "code",
   "execution_count": 47,
   "metadata": {},
   "outputs": [],
   "source": [
    "with open('bolsigdb.dat', 'w') as file:\n",
    "    for i in i_list:\n",
    "        file_name = f'reaction_{i}.csv'\n",
    "        f = pd.read_csv(file_path+file_name)\n",
    "        "
   ]
  }
 ],
 "metadata": {
  "kernelspec": {
   "display_name": "Python 3",
   "language": "python",
   "name": "python3"
  },
  "language_info": {
   "codemirror_mode": {
    "name": "ipython",
    "version": 3
   },
   "file_extension": ".py",
   "mimetype": "text/x-python",
   "name": "python",
   "nbconvert_exporter": "python",
   "pygments_lexer": "ipython3",
   "version": "3.12.3"
  }
 },
 "nbformat": 4,
 "nbformat_minor": 2
}
