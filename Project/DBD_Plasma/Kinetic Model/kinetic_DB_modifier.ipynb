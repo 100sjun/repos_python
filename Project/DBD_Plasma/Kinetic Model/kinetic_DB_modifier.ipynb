{
 "cells": [
  {
   "cell_type": "code",
   "execution_count": 27,
   "metadata": {},
   "outputs": [],
   "source": [
    "### 개요 ###\n",
    "# 해당 모듈은 kinetic_DB에 저장된 model들의 불필요한 열을 제거하는 역할을 함"
   ]
  },
  {
   "cell_type": "code",
   "execution_count": 28,
   "metadata": {},
   "outputs": [],
   "source": [
    "# 모듈 정의\n",
    "import pandas as pd"
   ]
  },
  {
   "cell_type": "code",
   "execution_count": 29,
   "metadata": {},
   "outputs": [],
   "source": [
    "for i in range(249):\n",
    "    # file path\n",
    "    index = i+1\n",
    "    path = f'./kinetic_DB/reaction_{index}.csv'\n",
    "    \n",
    "    # dataframe\n",
    "    df = pd.read_csv(path)\n",
    "\n",
    "    # 불필요한 열을 제거\n",
    "    df = df.loc[:, ~df.columns.str.contains('^Unnamed')]\n",
    "    #df.columns.str.contains('^Unnamed')\n",
    "    ## str.contains() 메서드는 문자열이 특정 패턴을 포함하는지 확인하는 메서드\n",
    "    ## ^는 문자열의 시작을 나타냄\n",
    "    ## 결과는 열이름에 따라 True False를 반환함\n",
    "    # ~연산자\n",
    "    ## ~는 논리 NOT 연산자로 True와 False를 뒤집어 줌\n",
    "    ## 따라서 Unnamed가 포함되지 않는 열을 True로 반환함\n",
    "\n",
    "    # 수정된 DB 저장\n",
    "    df.to_csv(path, index=False)"
   ]
  }
 ],
 "metadata": {
  "kernelspec": {
   "display_name": "Python 3",
   "language": "python",
   "name": "python3"
  },
  "language_info": {
   "codemirror_mode": {
    "name": "ipython",
    "version": 3
   },
   "file_extension": ".py",
   "mimetype": "text/x-python",
   "name": "python",
   "nbconvert_exporter": "python",
   "pygments_lexer": "ipython3",
   "version": "3.12.3"
  }
 },
 "nbformat": 4,
 "nbformat_minor": 2
}
