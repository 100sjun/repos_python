{
 "cells": [
  {
   "cell_type": "code",
   "execution_count": 1,
   "metadata": {},
   "outputs": [
    {
     "data": {
      "text/plain": [
       "'\\nProgram Name: Plasma Kinetic Parameter Estimator (PlKinParaEst)\\nAuthor: SJBaek\\nDate: 2024-11-22 ~\\nDescription:\\n    - This program automatically run ZDPlasKin with optimization module for kinetic parameter estimation\\n'"
      ]
     },
     "execution_count": 1,
     "metadata": {},
     "output_type": "execute_result"
    }
   ],
   "source": [
    "\"\"\"\n",
    "Program Name: Plasma Kinetic Parameter Estimator (PlKinParaEst)\n",
    "Author: SJBaek\n",
    "Date: 2024-11-22 ~\n",
    "Description:\n",
    "    - This program automatically run ZDPlasKin with optimization module for kinetic parameter estimation\n",
    "\"\"\""
   ]
  },
  {
   "cell_type": "code",
   "execution_count": 2,
   "metadata": {},
   "outputs": [],
   "source": [
    "# Modules\n",
    "import subprocess\n",
    "from IPython.display import clear_output\n",
    "import pandas as pd\n",
    "import re\n",
    "import numpy as np\n",
    "from sklearn.gaussian_process import GaussianProcessRegressor\n",
    "from sklearn.gaussian_process.kernels import Matern\n",
    "from sklearn.ensemble import RandomForestRegressor\n",
    "import shap"
   ]
  },
  {
   "cell_type": "code",
   "execution_count": 3,
   "metadata": {},
   "outputs": [],
   "source": [
    "# compile zdplaskin\n",
    "def run_prep(inp_path):\n",
    "    try:\n",
    "        process = subprocess.Popen(\n",
    "            'preprocessor.exe',\n",
    "            stdout = subprocess.DEVNULL,        # ignore outputs\n",
    "            stderr = subprocess.DEVNULL,        # ignore errors\n",
    "            stdin = subprocess.PIPE,            # recognize input\n",
    "            universal_newlines=True\n",
    "        )\n",
    "        \n",
    "        process.stdin.write(inp_path)\n",
    "        process.stdin.flush()                   # send a data\n",
    "\n",
    "        while process.poll() is None:           # check the program state, if None, program is still in the run\n",
    "            process.stdin.write('.\\n')\n",
    "            process.stdin.flush()\n",
    "    except:\n",
    "        pass\n",
    "    print('check the run of preprocessor')"
   ]
  },
  {
   "cell_type": "code",
   "execution_count": 4,
   "metadata": {},
   "outputs": [],
   "source": [
    "# Compile exe\n",
    "def compile_zdp(name):\n",
    "    compile_command = [\n",
    "        'gfortran', '-o', name, 'dvode_f90_m.F90', 'zdplaskin_m.F90',\n",
    "        'run_plasRxn_v3.F90', 'bolsig_x86_64_g.dll'\n",
    "    ]\n",
    "    \n",
    "    try:\n",
    "        subprocess.run(compile_command)\n",
    "    except:\n",
    "        pass\n",
    "    print('check the compiler')"
   ]
  },
  {
   "cell_type": "code",
   "execution_count": 5,
   "metadata": {},
   "outputs": [],
   "source": [
    "# Run exe\n",
    "def run_exe(exe_path):\n",
    "    try:\n",
    "        process = subprocess.Popen(\n",
    "            exe_path,\n",
    "            stdout = subprocess.PIPE, # Read standard outputs\n",
    "            stderr = subprocess.PIPE, # Read standard errors\n",
    "            universal_newlines=True,  # outputs to str variables\n",
    "            bufsize = 1               # control the size of buffer\n",
    "        )\n",
    "\n",
    "        log_flag = False             # The flag for starting log after \"Caculation Start!!\"\n",
    "        while True:\n",
    "            output = process.stdout.readline()\n",
    "            if not output:\n",
    "                break\n",
    "            if \"Calculation Start\" in output:\n",
    "                log_flag = True\n",
    "\n",
    "            if log_flag:\n",
    "                print(f'\\r{output.strip()}           ',end='',flush=True)\n",
    "\n",
    "            if \"PRESS ENTER TO EXIT\" in output:\n",
    "                process.kill()        # forced shutdown\n",
    "                break\n",
    "    except:\n",
    "        pass"
   ]
  },
  {
   "cell_type": "code",
   "execution_count": 6,
   "metadata": {},
   "outputs": [],
   "source": [
    "# Error calculation\n",
    "def cal_error(exp_result):\n",
    "    # Read a result\n",
    "    conditions = []\n",
    "    with open('qt_conditions_list.txt','r') as file:\n",
    "        for line in file:\n",
    "            line = line.strip()\n",
    "            line = line[2:]\n",
    "            conditions.append(line)\n",
    "        file.close()\n",
    "\n",
    "    species = []\n",
    "    with open('qt_species_list.txt','r') as file:\n",
    "        for line in file:\n",
    "            line = line.rstrip()\n",
    "            line = line[3:]\n",
    "            species.append(line)\n",
    "        file.close()\n",
    "\n",
    "    reactions = []\n",
    "    reaction_list = pd.read_csv('parameter_set.csv')\n",
    "    reactions = reaction_list['Reaction'].to_list()\n",
    "    df_cd = pd.read_csv('qt_conditions.txt', sep=r'\\s+', header=0, names=['Time [s]']+conditions)\n",
    "    df_sp = pd.read_csv('qt_densities.txt', sep=r'\\s+', header=0, names=['Time [s]']+species)\n",
    "    df_rx = pd.read_csv('qt_rates.txt', sep=r'\\s+', header=0, names=['Time [s]']+reactions)\n",
    "    top_rate = df_rx.iloc[:,1:].sum().sort_values(ascending=False)\n",
    "\n",
    "    CH4 = (df_sp['CH4'] + df_sp['CH4(V13)'] + df_sp['CH4(V24)'])\n",
    "    C2H2 = (df_sp['C2H2'] + df_sp['C2H2(V13)']+ df_sp['C2H2(V2)']+ df_sp['C2H2(V5)'])\n",
    "    C2H4 = (df_sp['C2H4'] + df_sp['C2H4(V1)']+ df_sp['C2H4(V2)'])\n",
    "    C2H6 = (df_sp['C2H6'] + df_sp['C2H6(V13)']+ df_sp['C2H6(V24)'])\n",
    "    C3H6 = (df_sp['C3H6'] + df_sp['C3H6(V)'])\n",
    "    C3H8 = (df_sp['C3H8'] + df_sp['C3H8(V1)'] + df_sp['C3H8(V2)'])\n",
    "    C4H10 = (df_sp['C4H9H'])\n",
    "    H2 = df_sp['H2']\n",
    "    C = df_sp['C']\n",
    "    H = df_sp['H']\n",
    "    CH = df_sp['CH']\n",
    "    CH2 = df_sp['CH2']\n",
    "    CH3 = df_sp['CH3']\n",
    "    C2H3 = df_sp['C2H3']\n",
    "    C2H5 = df_sp['C2H5']\n",
    "    C3H5 = df_sp['C3H5']\n",
    "    C3H7 = df_sp['C3H7']\n",
    "    C4H9 = df_sp['C4H9']\n",
    "\n",
    "    exp = exp_result\n",
    "    \n",
    "    sim_XCH4 = (CH4.iloc[0] - CH4.iloc[-1])/CH4.iloc[0]*100\n",
    "    sim_SH2 = 0.5*H2.iloc[-1]/(CH4.iloc[0] - CH4.iloc[-1])*100\n",
    "    sim_SC2H6 = 2*C2H6.iloc[-1]/(CH4.iloc[0] - CH4.iloc[-1])*100\n",
    "    sim_SC2H4 = 2*C2H4.iloc[-1]/(CH4.iloc[0] - CH4.iloc[-1])*100\n",
    "    sim_SC2H2 = 2*C2H2.iloc[-1]/(CH4.iloc[0] - CH4.iloc[-1])*100\n",
    "    sim_SC3H8 = 3*C3H8.iloc[-1]/(CH4.iloc[0] - CH4.iloc[-1])*100\n",
    "    sim_SC3H6 = 3*C3H6.iloc[-1]/(CH4.iloc[0] - CH4.iloc[-1])*100\n",
    "    sim_SC4H10 = 4*C4H10.iloc[-1]/(CH4.iloc[0] - CH4.iloc[-1])*100\n",
    "    sim_SH = 0.25*H.iloc[-1]/(CH4.iloc[0] - CH4.iloc[-1])*100\n",
    "    sim_SCH = CH.iloc[-1]/(CH4.iloc[0] - CH4.iloc[-1])*100\n",
    "    sim_SCH2 = CH2.iloc[-1]/(CH4.iloc[0] - CH4.iloc[-1])*100\n",
    "    sim_SCH3 = CH3.iloc[-1]/(CH4.iloc[0] - CH4.iloc[-1])*100\n",
    "    sim_SC2H3 = 2*C2H3.iloc[-1]/(CH4.iloc[0] - CH4.iloc[-1])*100\n",
    "    sim_SC2H5 = 2*C2H5.iloc[-1]/(CH4.iloc[0] - CH4.iloc[-1])*100\n",
    "    sim_SC3H5 = 3*C3H5.iloc[-1]/(CH4.iloc[0] - CH4.iloc[-1])*100\n",
    "    sim_SC3H7 = 3*C3H7.iloc[-1]/(CH4.iloc[0] - CH4.iloc[-1])*100\n",
    "    sim_SC4H9 = 4*C4H9.iloc[-1]/(CH4.iloc[0] - CH4.iloc[-1])*100\n",
    "\n",
    "    sim = []\n",
    "    sim.append(sim_XCH4)\n",
    "    sim.append(sim_SH2)\n",
    "    sim.append(sim_SC2H6)\n",
    "    sim.append(sim_SC2H4)\n",
    "    sim.append(sim_SC2H2)\n",
    "    sim.append(sim_SC3H8)\n",
    "    sim.append(sim_SC3H6)\n",
    "    sim.append(sim_SC4H10)\n",
    "    sim.append(sim_SH)\n",
    "    sim.append(sim_SCH)\n",
    "    sim.append(sim_SCH2)\n",
    "    sim.append(sim_SCH3)\n",
    "    sim.append(sim_SC2H3)\n",
    "    sim.append(sim_SC2H5)\n",
    "    sim.append(sim_SC3H5)\n",
    "    sim.append(sim_SC3H7)\n",
    "    sim.append(sim_SC4H9)\n",
    "\n",
    "    \n",
    "\n",
    "    err =  float(np.sum((np.asarray(exp) - np.asarray(sim))**2))\n",
    "    \n",
    "    return err, top_rate, sim, df_cd['Time [s]'].iloc[-1]\n",
    "\n",
    "    "
   ]
  },
  {
   "cell_type": "code",
   "execution_count": 7,
   "metadata": {},
   "outputs": [],
   "source": [
    "# initial variable set sampling: latin_hypercube sampling\n",
    "def latin_hypercube_sampling(bounds, n_samples):\n",
    "    return np.random.uniform(\n",
    "        low=np.array([b[0] for b in bounds]),\n",
    "        high=np.array([b[1] for b in bounds]),\n",
    "        size=(n_samples, len(bounds))\n",
    "    )"
   ]
  },
  {
   "cell_type": "code",
   "execution_count": 8,
   "metadata": {},
   "outputs": [],
   "source": [
    "# update kinet.inp\n",
    "def update_kinet(samples,index):\n",
    "    with open('kinet.inp','r') as file:\n",
    "        lines = file.readlines()\n",
    "        file.close()\n",
    "    new_lines=[]\n",
    "    for i in range(316):\n",
    "        new_value = 10**samples[i]\n",
    "        new_value2 = f'{new_value:.4e}'.replace('e-0','e-').replace('e+00','e0').replace('e+0','e+').replace('e','d')\n",
    "        new_line = f'$ double precision, parameter :: f{i} = {new_value2}\\n'\n",
    "        new_lines.append(new_line)\n",
    "    new_inp = lines[:18] + new_lines + lines[334:]\n",
    "    with open(f'./kinet{index}.inp', 'w') as file:\n",
    "        file.writelines(new_inp)"
   ]
  },
  {
   "cell_type": "code",
   "execution_count": 9,
   "metadata": {},
   "outputs": [],
   "source": [
    "# Optimization\n",
    "df_set = pd.read_csv('parameter_set.csv')\n",
    "num_vars = df_set['index'].iloc[-1] + 1\n",
    "problem = {\n",
    "    'num_vars': num_vars,\n",
    "    'names': [f'x{i}' for i in range(num_vars)],\n",
    "    'bounds': [[-8,3]] * num_vars\n",
    "}"
   ]
  },
  {
   "cell_type": "code",
   "execution_count": 10,
   "metadata": {},
   "outputs": [],
   "source": [
    "initial_samples = latin_hypercube_sampling(problem['bounds'],1000)"
   ]
  },
  {
   "cell_type": "code",
   "execution_count": 11,
   "metadata": {},
   "outputs": [],
   "source": [
    "for i in range(len(initial_samples)):\n",
    "    update_kinet(initial_samples[i],i)"
   ]
  },
  {
   "cell_type": "code",
   "execution_count": 12,
   "metadata": {},
   "outputs": [],
   "source": [
    "db_error = []\n",
    "db_paraset = []\n",
    "db_toprate = []\n",
    "db_leng = []\n",
    "result_list = ['XCH4','SH2','SC2H6','SC2H4','SC2H2','SC3H8','SC3H6','SC4+','SH','SCH','SCH2','SCH3','SC2H3','SC2H5','SC3H5','SC3H7','SC4H9']\n",
    "exp_result = [17.6,87.5,13.8,1.6,1.42,3.81,0.54,1.19,0,0,0,0,0,0,0,0,0]"
   ]
  },
  {
   "cell_type": "code",
   "execution_count": null,
   "metadata": {},
   "outputs": [
    {
     "name": "stdout",
     "output_type": "stream",
     "text": [
      "run 2\n",
      "check the run of preprocessor\n",
      "check the compiler\n",
      "1.0120E-01           ensity of species not configured for BOLSIG+ solver exceeds 1.00D-03           "
     ]
    }
   ],
   "source": [
    "for i in range(len(initial_samples)):\n",
    "    inp_path = f'kinet{i}.inp\\n'\n",
    "    exe_path = 'run_plasRxn_v3.exe'\n",
    "\n",
    "    print(f'run {i}')\n",
    "    run_prep(inp_path)\n",
    "    compile_zdp(exe_path)\n",
    "    run_exe(exe_path)\n",
    "    error, top_rate, sim_result, time = cal_error(exp_result)\n",
    "    if time > 6.3:\n",
    "        db_error.append(error)\n",
    "        db_paraset.append(initial_samples[i])\n",
    "        db_toprate.append(top_rate)\n",
    "    clear_output()"
   ]
  },
  {
   "cell_type": "code",
   "execution_count": null,
   "metadata": {},
   "outputs": [],
   "source": [
    "with open('db_error.txt', 'w') as file:\n",
    "    for i in range(len(db_error)):\n",
    "        file.writelines(str(db_error[i]))\n",
    "        file.writelines('\\n')\n",
    "    file.close()\n",
    "with open('db_paraset.txt', 'w') as file:\n",
    "    for i in range(len(db_paraset)):\n",
    "        file.writelines(str(db_paraset[i].tolist()))\n",
    "        file.writelines('\\n')\n",
    "    file.close()"
   ]
  },
  {
   "cell_type": "code",
   "execution_count": null,
   "metadata": {},
   "outputs": [
    {
     "data": {
      "text/plain": [
       "[]"
      ]
     },
     "execution_count": 49,
     "metadata": {},
     "output_type": "execute_result"
    }
   ],
   "source": [
    "db_leng"
   ]
  }
 ],
 "metadata": {
  "kernelspec": {
   "display_name": "Python 3",
   "language": "python",
   "name": "python3"
  },
  "language_info": {
   "codemirror_mode": {
    "name": "ipython",
    "version": 3
   },
   "file_extension": ".py",
   "mimetype": "text/x-python",
   "name": "python",
   "nbconvert_exporter": "python",
   "pygments_lexer": "ipython3",
   "version": "3.12.3"
  }
 },
 "nbformat": 4,
 "nbformat_minor": 2
}
