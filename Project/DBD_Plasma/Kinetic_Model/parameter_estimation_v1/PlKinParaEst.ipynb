{
 "cells": [
  {
   "cell_type": "code",
   "execution_count": 6,
   "metadata": {},
   "outputs": [
    {
     "data": {
      "text/plain": [
       "'\\nProgram Name: Plasma Kinetic Parameter Estimator (PlKinParaEst)\\nAuthor: SJBaek\\nDate: 2024-11-22 ~\\nDescription:\\n    - This program automatically run ZDPlasKin with optimization module for kinetic parameter estimation\\n'"
      ]
     },
     "execution_count": 6,
     "metadata": {},
     "output_type": "execute_result"
    }
   ],
   "source": [
    "\"\"\"\n",
    "Program Name: Plasma Kinetic Parameter Estimator (PlKinParaEst)\n",
    "Author: SJBaek\n",
    "Date: 2024-11-22 ~\n",
    "Description:\n",
    "    - This program automatically run ZDPlasKin with optimization module for kinetic parameter estimation\n",
    "\"\"\""
   ]
  },
  {
   "cell_type": "code",
   "execution_count": null,
   "metadata": {},
   "outputs": [],
   "source": [
    "# Modules\n",
    "import subprocess\n",
    "from IPython.display import clear_output\n",
    "import pandas as pd\n",
    "import re\n",
    "import numpy as np\n",
    "from sklearn.gaussian_process import GaussianProcessRegressor\n",
    "from sklearn.gaussian_process.kernels import RBF, ConstantKernel\n",
    "import ast\n",
    "from scipy.stats import norm\n",
    "from scipy.optimize import minimize\n"
   ]
  },
  {
   "cell_type": "code",
   "execution_count": 8,
   "metadata": {},
   "outputs": [],
   "source": [
    "# compile zdplaskin\n",
    "def run_prep(inp_path):\n",
    "    try:\n",
    "        process = subprocess.Popen(\n",
    "            'preprocessor.exe',\n",
    "            stdout = subprocess.DEVNULL,        # ignore outputs\n",
    "            stderr = subprocess.DEVNULL,        # ignore errors\n",
    "            stdin = subprocess.PIPE,            # recognize input\n",
    "            universal_newlines=True\n",
    "        )\n",
    "        \n",
    "        process.stdin.write(inp_path)\n",
    "        process.stdin.flush()                   # send a data\n",
    "\n",
    "        while process.poll() is None:           # check the program state, if None, program is still in the run\n",
    "            process.stdin.write('.\\n')\n",
    "            process.stdin.flush()\n",
    "    except:\n",
    "        pass\n",
    "    print('check the run of preprocessor')\n",
    "    return process"
   ]
  },
  {
   "cell_type": "code",
   "execution_count": 9,
   "metadata": {},
   "outputs": [],
   "source": [
    "# Compile exe\n",
    "def compile_zdp(name):\n",
    "    compile_command = [\n",
    "        'gfortran', '-o', name, 'dvode_f90_m.F90', 'zdplaskin_m.F90',\n",
    "        'run_plasRxn_v3.F90', 'bolsig_x86_64_g.dll'\n",
    "    ]\n",
    "    \n",
    "    try:\n",
    "        subprocess.run(compile_command)\n",
    "    except:\n",
    "        pass\n",
    "    print('check the compiler')"
   ]
  },
  {
   "cell_type": "code",
   "execution_count": 10,
   "metadata": {},
   "outputs": [],
   "source": [
    "# Run exe\n",
    "def run_exe(exe_path):\n",
    "    try:\n",
    "        process = subprocess.Popen(\n",
    "            exe_path,\n",
    "            stdout = subprocess.PIPE, # Read standard outputs\n",
    "            stderr = subprocess.PIPE, # Read standard errors\n",
    "            universal_newlines=True,  # outputs to str variables\n",
    "            bufsize = 1               # control the size of buffer\n",
    "        )\n",
    "\n",
    "        log_flag = False             # The flag for starting log after \"Caculation Start!!\"\n",
    "        while True:\n",
    "            output = process.stdout.readline()\n",
    "            if not output:\n",
    "                break\n",
    "            if \"Calculation Start\" in output:\n",
    "                log_flag = True\n",
    "\n",
    "            if log_flag:\n",
    "                print(f'\\r{output.strip()}           ',end='',flush=True)\n",
    "\n",
    "            if \"PRESS ENTER TO EXIT\" in output:\n",
    "                process.kill()        # forced shutdown\n",
    "                break\n",
    "    except:\n",
    "        pass\n",
    "    return process"
   ]
  },
  {
   "cell_type": "code",
   "execution_count": 11,
   "metadata": {},
   "outputs": [],
   "source": [
    "# Error calculation\n",
    "def cal_error(exp_result):\n",
    "    # Read a result\n",
    "    conditions = []\n",
    "    with open('qt_conditions_list.txt','r') as file:\n",
    "        for line in file:\n",
    "            line = line.strip()\n",
    "            line = line[2:]\n",
    "            conditions.append(line)\n",
    "        file.close()\n",
    "\n",
    "    species = []\n",
    "    with open('qt_species_list.txt','r') as file:\n",
    "        for line in file:\n",
    "            line = line.rstrip()\n",
    "            line = line[3:]\n",
    "            species.append(line)\n",
    "        file.close()\n",
    "\n",
    "    reactions = []\n",
    "    reaction_list = pd.read_csv('parameter_set.csv')\n",
    "    reactions = reaction_list['Reaction'].to_list()\n",
    "    df_cd = pd.read_csv('qt_conditions.txt', sep=r'\\s+', header=0, names=['Time [s]']+conditions)\n",
    "    df_sp = pd.read_csv('qt_densities.txt', sep=r'\\s+', header=0, names=['Time [s]']+species)\n",
    "    df_rx = pd.read_csv('qt_rates.txt', sep=r'\\s+', header=0, names=['Time [s]']+reactions)\n",
    "    top_rate = df_rx.iloc[:,1:].sum().sort_values(ascending=False)\n",
    "\n",
    "    CH4 = (df_sp['CH4'] + df_sp['CH4(V13)'] + df_sp['CH4(V24)'])\n",
    "    C2H2 = (df_sp['C2H2'] + df_sp['C2H2(V13)']+ df_sp['C2H2(V2)']+ df_sp['C2H2(V5)'])\n",
    "    C2H4 = (df_sp['C2H4'] + df_sp['C2H4(V1)']+ df_sp['C2H4(V2)'])\n",
    "    C2H6 = (df_sp['C2H6'] + df_sp['C2H6(V13)']+ df_sp['C2H6(V24)'])\n",
    "    C3H6 = (df_sp['C3H6'] + df_sp['C3H6(V)'])\n",
    "    C3H8 = (df_sp['C3H8'] + df_sp['C3H8(V1)'] + df_sp['C3H8(V2)'])\n",
    "    C4H10 = (df_sp['C4H9H'])\n",
    "    H2 = df_sp['H2']\n",
    "    C = df_sp['C']\n",
    "    H = df_sp['H']\n",
    "    CH = df_sp['CH']\n",
    "    CH2 = df_sp['CH2']\n",
    "    CH3 = df_sp['CH3']\n",
    "    C2H3 = df_sp['C2H3']\n",
    "    C2H5 = df_sp['C2H5']\n",
    "    C3H5 = df_sp['C3H5']\n",
    "    C3H7 = df_sp['C3H7']\n",
    "    C4H9 = df_sp['C4H9']\n",
    "\n",
    "    exp = exp_result\n",
    "    \n",
    "    sim_XCH4 = (CH4.iloc[0] - CH4.iloc[-1])/CH4.iloc[0]*100\n",
    "    sim_SH2 = 0.5*H2.iloc[-1]/(CH4.iloc[0] - CH4.iloc[-1])*100\n",
    "    sim_SC2H6 = 2*C2H6.iloc[-1]/(CH4.iloc[0] - CH4.iloc[-1])*100\n",
    "    sim_SC2H4 = 2*C2H4.iloc[-1]/(CH4.iloc[0] - CH4.iloc[-1])*100\n",
    "    sim_SC2H2 = 2*C2H2.iloc[-1]/(CH4.iloc[0] - CH4.iloc[-1])*100\n",
    "    sim_SC3H8 = 3*C3H8.iloc[-1]/(CH4.iloc[0] - CH4.iloc[-1])*100\n",
    "    sim_SC3H6 = 3*C3H6.iloc[-1]/(CH4.iloc[0] - CH4.iloc[-1])*100\n",
    "    sim_SC4H10 = 4*C4H10.iloc[-1]/(CH4.iloc[0] - CH4.iloc[-1])*100\n",
    "    sim_SH = 0.25*H.iloc[-1]/(CH4.iloc[0] - CH4.iloc[-1])*100\n",
    "    sim_SCH = CH.iloc[-1]/(CH4.iloc[0] - CH4.iloc[-1])*100\n",
    "    sim_SCH2 = CH2.iloc[-1]/(CH4.iloc[0] - CH4.iloc[-1])*100\n",
    "    sim_SCH3 = CH3.iloc[-1]/(CH4.iloc[0] - CH4.iloc[-1])*100\n",
    "    sim_SC2H3 = 2*C2H3.iloc[-1]/(CH4.iloc[0] - CH4.iloc[-1])*100\n",
    "    sim_SC2H5 = 2*C2H5.iloc[-1]/(CH4.iloc[0] - CH4.iloc[-1])*100\n",
    "    sim_SC3H5 = 3*C3H5.iloc[-1]/(CH4.iloc[0] - CH4.iloc[-1])*100\n",
    "    sim_SC3H7 = 3*C3H7.iloc[-1]/(CH4.iloc[0] - CH4.iloc[-1])*100\n",
    "    sim_SC4H9 = 4*C4H9.iloc[-1]/(CH4.iloc[0] - CH4.iloc[-1])*100\n",
    "\n",
    "    sim = []\n",
    "    sim.append(sim_XCH4)\n",
    "    sim.append(sim_SH2)\n",
    "    sim.append(sim_SC2H6)\n",
    "    sim.append(sim_SC2H4)\n",
    "    sim.append(sim_SC2H2)\n",
    "    sim.append(sim_SC3H8)\n",
    "    sim.append(sim_SC3H6)\n",
    "    sim.append(sim_SC4H10)\n",
    "    sim.append(sim_SH)\n",
    "    sim.append(sim_SCH)\n",
    "    sim.append(sim_SCH2)\n",
    "    sim.append(sim_SCH3)\n",
    "    sim.append(sim_SC2H3)\n",
    "    sim.append(sim_SC2H5)\n",
    "    sim.append(sim_SC3H5)\n",
    "    sim.append(sim_SC3H7)\n",
    "    sim.append(sim_SC4H9)\n",
    "\n",
    "    \n",
    "\n",
    "    err =  float(np.sum((np.asarray(exp) - np.asarray(sim))**2))\n",
    "    \n",
    "    return err, top_rate, sim, df_cd['Time [s]'].iloc[-1], sim_XCH4, sim_SC2H6, sim_SC2H4, sim_SC2H2\n",
    "\n",
    "    "
   ]
  },
  {
   "cell_type": "code",
   "execution_count": 12,
   "metadata": {},
   "outputs": [],
   "source": [
    "# initial variable set sampling: latin_hypercube sampling\n",
    "def latin_hypercube_sampling(bounds, n_samples):\n",
    "    return np.random.uniform(\n",
    "        low=np.array([b[0] for b in bounds]),\n",
    "        high=np.array([b[1] for b in bounds]),\n",
    "        size=(n_samples, len(bounds))\n",
    "    )"
   ]
  },
  {
   "cell_type": "code",
   "execution_count": 13,
   "metadata": {},
   "outputs": [],
   "source": [
    "# update kinet.inp\n",
    "def update_kinet(samples,index):\n",
    "    with open('kinet.inp','r') as file:\n",
    "        lines = file.readlines()\n",
    "        file.close()\n",
    "    new_lines=[]\n",
    "    for i in range(316):\n",
    "        new_value = 10**samples[i]\n",
    "        new_value2 = f'{new_value:.4e}'.replace('e-0','e-').replace('e+00','e0').replace('e+0','e+').replace('e','d')\n",
    "        new_line = f'$ double precision, parameter :: f{i} = {new_value2}\\n'\n",
    "        new_lines.append(new_line)\n",
    "    new_inp = lines[:18] + new_lines + lines[334:]\n",
    "    with open(f'./kinet{index}.inp', 'w') as file:\n",
    "        file.writelines(new_inp)"
   ]
  },
  {
   "cell_type": "code",
   "execution_count": 14,
   "metadata": {},
   "outputs": [],
   "source": [
    "def GP_Model(X,y):\n",
    "    avg_pre_Y = sum(y)/len(y)\n",
    "    X_range = X.max(axis=0) - X.min(axis=0)\n",
    "    # Gaussian Process Surrogate Model\n",
    "    constant_kernel = ConstantKernel(constant_value=avg_pre_Y, constant_value_bounds=(0.5*avg_pre_Y,10*avg_pre_Y))\n",
    "    RBF_kernel = RBF(0.5 * X_range, length_scale_bounds = [(0.1*r, 10*r) for r in X_range])\n",
    "    kernel = constant_kernel * RBF_kernel\n",
    "\n",
    "    gp_model = GaussianProcessRegressor(kernel=kernel, n_restarts_optimizer=10, alpha=1e-6)\n",
    "    gp_model.fit(X,y)\n",
    "    return gp_model"
   ]
  },
  {
   "cell_type": "code",
   "execution_count": 15,
   "metadata": {},
   "outputs": [],
   "source": [
    "# Expected Improvement\n",
    "def EI(X, gp, y_best, xi):\n",
    "    mu, sigma = gp.predict(X, return_std=True)\n",
    "    sigma = sigma.reshape(-1,1)\n",
    "    improvement = mu - y_best - xi\n",
    "    Z = improvement / sigma\n",
    "    ei = improvement * norm.cdf(Z) + sigma * norm.pdf(Z)\n",
    "    return ei"
   ]
  },
  {
   "cell_type": "code",
   "execution_count": 16,
   "metadata": {},
   "outputs": [],
   "source": [
    "# Bayesian Optimization for minimization\n",
    "def BO(gp, bounds, n_iter, X, y, exp_result):\n",
    "    \"\"\"Perform Bayesian Optimization using EI for minimization.\"\"\"\n",
    "    for i in range(n_iter):\n",
    "        y_best = np.min(y)  # 현재까지의 최소값\n",
    "        \n",
    "        def random_search(bounds, gp, y_best, num_samples=1000, xi=0.01):\n",
    "            candidate_points = np.random.uniform(\n",
    "                low = np.array(bounds)[:,0],\n",
    "                high = np.array(bounds)[:, 1],\n",
    "                size = (num_samples, len(bounds))\n",
    "            )\n",
    "\n",
    "            ei_values = EI(candidate_points, gp, y_best, xi = xi)\n",
    "\n",
    "            best_index = np.argmax(ei_values)\n",
    "            return candidate_points[best_index]\n",
    "        \n",
    "        x_next = random_search(bounds, gp, y_best)\n",
    "\n",
    "        # 새로운 관측값 추가 (사용자 정의 시뮬레이션 함수 호출 필요)\n",
    "        update_kinet(x_next,i+10)\n",
    "        inp_path = f'kinet{i+10}.inp\\n'\n",
    "        exe_path = 'run_plasRxn_v3.exe'\n",
    "        run_prep(inp_path)\n",
    "        compile_zdp(exe_path)\n",
    "        run_exe(exe_path)\n",
    "        y_next, _, _, t_time, XCH4, SC2H6, SC2H4, SC2H2 = cal_error(exp_result)  # 사용자의 실제 목적 함수\n",
    "\n",
    "        # 데이터셋 업데이트\n",
    "        if t_time > 6.3:\n",
    "            X = np.vstack([X, x_next])\n",
    "            y = np.append(y, y_next)\n",
    "            \n",
    "            bnds_low = [i[0] for i in bounds]\n",
    "            bnds_high = [i[1] for i in bounds]\n",
    "\n",
    "            for j in range(len(bounds)):\n",
    "                det = x_next[j]*1.5\n",
    "                if det > bnds_high[i]:\n",
    "                    bnds_high[j] = det\n",
    "                elif det < bnds_low[i]:\n",
    "                    bnds_low[j] = det\n",
    "                else:\n",
    "                    pass\n",
    "            bounds = [[bnds_low[j],bnds_high[j]] for j in range(len(bnds_low))]\n",
    "\n",
    "            np.savetxt('X_final.csv', X, delimiter=',', fmt='%f')\n",
    "            np.savetxt('y_final.csv', y, delimiter=',', fmt='%f')\n",
    "        else:\n",
    "            X = np.vstack([X, x_next])\n",
    "            y = np.append(y, np.max(y))\n",
    "\n",
    "        \n",
    "        # Surrogate 모델 업데이트\n",
    "        gp = GP_Model(X, y)\n",
    "        clear_output()\n",
    "        print(f'''현재 iteration: {i}, dataset 크기: {len(X)}, 현재 최소값: {y_best}, 이번 y: {y[-1]}\\n \n",
    "              전환율: {XCH4}, C2H6: {SC2H6}, C2H4: {SC2H4}, C2H2: {SC2H2}''',)\n",
    "    return X, y"
   ]
  },
  {
   "cell_type": "code",
   "execution_count": 17,
   "metadata": {},
   "outputs": [],
   "source": [
    "# Optimization\n",
    "df_set = pd.read_csv('parameter_set.csv')\n",
    "num_vars = df_set['index'].iloc[-1] + 1\n",
    "problem = {\n",
    "    'num_vars': num_vars,\n",
    "    'names': [f'x{i}' for i in range(num_vars)],\n",
    "    'bounds': [[-1,1]] * num_vars\n",
    "}"
   ]
  },
  {
   "cell_type": "code",
   "execution_count": 18,
   "metadata": {},
   "outputs": [],
   "source": [
    "initial_samples = latin_hypercube_sampling(problem['bounds'],10)"
   ]
  },
  {
   "cell_type": "code",
   "execution_count": 19,
   "metadata": {},
   "outputs": [],
   "source": [
    "db_error = []\n",
    "db_paraset = []\n",
    "db_toprate = []\n",
    "db_leng = []\n",
    "result_list = ['XCH4','SH2','SC2H6','SC2H4','SC2H2','SC3H8','SC3H6','SC4+','SH','SCH','SCH2','SCH3','SC2H3','SC2H5','SC3H5','SC3H7','SC4H9']\n",
    "exp_result = [17.6,87.5,13.8,1.6,1.42,3.81,0.54,1.19,1e-3,1e-3,1e-3,1e-3,1e-3,1e-3,1e-3,1e-3,1e-3]"
   ]
  },
  {
   "cell_type": "code",
   "execution_count": 20,
   "metadata": {},
   "outputs": [],
   "source": [
    "for i in range(len(initial_samples)):\n",
    "    inp_path = f'kinet{i}.inp\\n'\n",
    "    exe_path = 'run_plasRxn_v3.exe'\n",
    "\n",
    "    print(f'run {i}')\n",
    "    update_kinet(initial_samples[i],i)\n",
    "    prep_process = run_prep(inp_path)\n",
    "    prep_process.wait()\n",
    "    compile_zdp(exe_path)\n",
    "    exe_process = run_exe(exe_path)\n",
    "    exe_process.wait()\n",
    "    error, top_rate, sim_result, total_time,_,_,_,_ = cal_error(exp_result)\n",
    "    if float(total_time) > 6.3:\n",
    "        db_error.append(error)\n",
    "        db_paraset.append(initial_samples[i])\n",
    "        db_toprate.append(top_rate)\n",
    "    clear_output()"
   ]
  },
  {
   "cell_type": "code",
   "execution_count": 21,
   "metadata": {},
   "outputs": [],
   "source": [
    "with open('db_error.txt', 'w') as file:\n",
    "    for i in range(len(db_error)):\n",
    "        file.writelines(str(db_error[i]))\n",
    "        file.writelines('\\n')\n",
    "    file.close()\n",
    "with open('db_paraset.txt', 'w') as file:\n",
    "    for i in range(len(db_paraset)):\n",
    "        file.writelines(str(db_paraset[i].tolist()))\n",
    "        file.writelines('\\n')\n",
    "    file.close()"
   ]
  },
  {
   "cell_type": "code",
   "execution_count": 22,
   "metadata": {},
   "outputs": [],
   "source": [
    "# Load Data\n",
    "with open('db_error.txt', 'r') as file:\n",
    "    lines_error = file.readlines()\n",
    "    file.close()\n",
    "with open('db_paraset.txt', 'r') as file:\n",
    "    lines_paraset = file.readlines()\n",
    "    file.close()\n",
    "pre_X = np.array([ast.literal_eval(i) for i in lines_paraset])\n",
    "pre_Y = np.array([float(i[:-1]) for i in lines_error])"
   ]
  },
  {
   "cell_type": "code",
   "execution_count": 23,
   "metadata": {},
   "outputs": [],
   "source": [
    "# Main Reaction\n",
    "rank_toprate = []\n",
    "db_toprate[0].index[0]\n",
    "for i in range(len(db_toprate)):\n",
    "    rank_set = []\n",
    "    for j in range(len(db_toprate[0])):\n",
    "        rank_set.append(int(df_set.loc[df_set['Reaction'] == db_toprate[i].index[j], 'index'].values[0]))\n",
    "    rank_toprate.append(rank_set)\n"
   ]
  },
  {
   "cell_type": "code",
   "execution_count": 24,
   "metadata": {},
   "outputs": [],
   "source": [
    "with open('rank_toprate.txt', 'w') as file:\n",
    "    for i in range(len(rank_toprate)):\n",
    "        file.writelines(str(rank_toprate[i]))\n",
    "        file.writelines('\\n')\n",
    "    file.close()"
   ]
  },
  {
   "cell_type": "code",
   "execution_count": 25,
   "metadata": {},
   "outputs": [
    {
     "name": "stderr",
     "output_type": "stream",
     "text": [
      "c:\\Users\\USER\\miniconda3\\envs\\plaskinsol\\Lib\\site-packages\\sklearn\\gaussian_process\\kernels.py:452: ConvergenceWarning: The optimal value found for dimension 0 of parameter k1__constant_value is close to the specified upper bound 72845.37298750393. Increasing the bound and calling fit again may find a better value.\n",
      "  warnings.warn(\n"
     ]
    }
   ],
   "source": [
    "gp_model = GP_Model(pre_X,pre_Y)"
   ]
  },
  {
   "cell_type": "code",
   "execution_count": null,
   "metadata": {},
   "outputs": [
    {
     "name": "stdout",
     "output_type": "stream",
     "text": [
      "현재 iteration: 16, dataset 크기: 27, 현재 최소값: 614.1813630042245, 이번 y: 12448.22993462114\n",
      " \n",
      "              전환율: 38.05642682926829, C2H6: 17.991897141183486, C2H4: 2.26236587060329e-07, C2H2: 4.4796553370221644e-05\n",
      "check the run of preprocessor\n",
      "check the compiler\n",
      "4.1100E-02           ensity of species not configured for BOLSIG+ solver exceeds 1.00D-03           "
     ]
    }
   ],
   "source": [
    "bounds = [[-1,1]] * num_vars\n",
    "X_final, y_final = BO(gp_model, bounds, 500,pre_X,pre_Y,exp_result)\n"
   ]
  },
  {
   "cell_type": "code",
   "execution_count": null,
   "metadata": {},
   "outputs": [],
   "source": [
    "np.savetxt('X_final.csv', X_final, delimiter=',', fmt='%f')\n",
    "np.savetxt('y_final.csv', y_final, delimiter=',', fmt='%f')"
   ]
  },
  {
   "cell_type": "code",
   "execution_count": null,
   "metadata": {},
   "outputs": [
    {
     "data": {
      "text/plain": [
       "array([8.06319318, 8.54267413, 8.00660279, 9.87233875, 8.7643123 ,\n",
       "       8.89084656])"
      ]
     },
     "execution_count": 58,
     "metadata": {},
     "output_type": "execute_result"
    }
   ],
   "source": [
    "pre_Y"
   ]
  },
  {
   "cell_type": "code",
   "execution_count": null,
   "metadata": {},
   "outputs": [],
   "source": []
  },
  {
   "cell_type": "code",
   "execution_count": null,
   "metadata": {},
   "outputs": [],
   "source": []
  }
 ],
 "metadata": {
  "kernelspec": {
   "display_name": "plaskinsol",
   "language": "python",
   "name": "python3"
  },
  "language_info": {
   "codemirror_mode": {
    "name": "ipython",
    "version": 3
   },
   "file_extension": ".py",
   "mimetype": "text/x-python",
   "name": "python",
   "nbconvert_exporter": "python",
   "pygments_lexer": "ipython3",
   "version": "3.12.7"
  }
 },
 "nbformat": 4,
 "nbformat_minor": 2
}
