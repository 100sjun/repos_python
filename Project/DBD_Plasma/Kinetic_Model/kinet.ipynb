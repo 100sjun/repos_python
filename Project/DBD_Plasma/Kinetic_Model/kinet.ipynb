{
 "cells": [
  {
   "cell_type": "code",
   "execution_count": 1,
   "metadata": {},
   "outputs": [],
   "source": [
    "### Overview\n",
    "# kinet.inp 파일 생성"
   ]
  },
  {
   "cell_type": "code",
   "execution_count": 2,
   "metadata": {},
   "outputs": [],
   "source": [
    "# Module\n",
    "import pandas as pd\n",
    "import re"
   ]
  },
  {
   "cell_type": "code",
   "execution_count": 3,
   "metadata": {},
   "outputs": [],
   "source": [
    "# Species 정렬함수\n",
    "def custom_sort_key(s):\n",
    "    # 기호가 가장 앞에 오도록 우선순위 부여\n",
    "    if not re.match(r'[A-Za-z]', s):\n",
    "        return(0, s)\n",
    "    # C가 적은 순으로 우선순위 부여\n",
    "    elif s in ['C','CH','CH^+']:\n",
    "        return(1, s)\n",
    "    elif re.match(r'^CH\\d+',s):\n",
    "        return(2, s)\n",
    "    elif re.match(r'^C2H\\d+',s):\n",
    "        return(3, s)\n",
    "    elif re.match(r'^C3H\\d+',s):\n",
    "        return(4, s)\n",
    "    elif re.match(r'^C4H\\d+',s):\n",
    "        return(5, s)\n",
    "    return (6, s)"
   ]
  },
  {
   "cell_type": "code",
   "execution_count": 4,
   "metadata": {},
   "outputs": [],
   "source": [
    "# Path\n",
    "path = './kinetic_DB/'\n",
    "f = pd.read_csv(path+'reaction_10.csv')"
   ]
  },
  {
   "cell_type": "code",
   "execution_count": 5,
   "metadata": {},
   "outputs": [],
   "source": [
    "# data treatment\n",
    "species = []\n",
    "bolsig = []\n",
    "formula_e = []\n",
    "bol_comp = []\n",
    "formula_g = []\n",
    "rate_g = []\n",
    "formula_i = []\n",
    "rate_i = []\n",
    "\n",
    "for i in range(183):\n",
    "    file_name = f'reaction_{i}.csv'\n",
    "    f1 = pd.read_csv(path+file_name)\n",
    "    species += f1['Formula'].iloc[0].split(' ')\n",
    "    bolsig += f1['Species'].iloc[0].split(' ')\n",
    "    # formula \n",
    "    if f1['Type'].iloc[0] == 'EXCITATION':\n",
    "        form = f1['Formula'].iloc[0].replace('E','e').replace('->','=>')\n",
    "        b_comp = form.replace('e','').replace('+','').replace('=>','->')\n",
    "        b_comp = b_comp.split(' ')\n",
    "        b_comp = [item for item in b_comp if item != '']\n",
    "        b_comp = ' '.join(b_comp)\n",
    "        formula_e.append(form)\n",
    "        bol_comp.append(b_comp)\n",
    "        \n",
    "    elif f1['Type'].iloc[0] == 'IONIZATION':\n",
    "        form = f1['Formula'].iloc[0].replace('E','e').replace('->','=>')\n",
    "        b_comp = form.replace('e','').replace('+','').replace('=>','->') + '+'\n",
    "        b_comp = b_comp.split(' ')\n",
    "        b_comp = [item for item in b_comp if item != '']\n",
    "        b_comp = ' '.join(b_comp)\n",
    "        formula_e.append(form)\n",
    "        bol_comp.append(b_comp)\n",
    "    else:\n",
    "        pass\n",
    "\n",
    "f2 = pd.read_csv(path+'reaction_gas.csv')\n",
    "for i in range(len(f2)):\n",
    "    species += f2['Reaction'].iloc[i].split(' ')\n",
    "    formula_g.append(f2['Reaction'].iloc[i])\n",
    "    rate_g.append(f2['Rate'].iloc[i])\n",
    "\n",
    "f3 = pd.read_csv(path+'reaction_ion.csv')\n",
    "for i in range(len(f3)):\n",
    "    formula_i.append(f3['Reaction'].iloc[i])\n",
    "    rate_i.append(f3['Rate'].iloc[i])\n",
    "\n",
    "species = sorted(list(set(species)),key=custom_sort_key)\n",
    "species.remove('+')\n",
    "species.remove('->')\n",
    "species.remove('=>')\n",
    "species.remove('E')\n",
    "species.remove('e')\n",
    "species = ['e'] + species\n",
    "\n",
    "if len(species) > 25:\n",
    "    species1 = species[:25]\n",
    "    species2 = species[25:]\n",
    "else:\n",
    "    species1 = species\n",
    "    species2 = []\n",
    "\n",
    "species1 = ' '.join(species1)\n",
    "species2 = ' '.join(species2)"
   ]
  },
  {
   "cell_type": "code",
   "execution_count": 6,
   "metadata": {},
   "outputs": [],
   "source": [
    "bolsig = list(set(bolsig))\n",
    "bolsig = sorted(list(set(bolsig)),key=custom_sort_key)\n",
    "bolsig.remove('/')\n",
    "bolsig.remove('e')\n",
    "bolsig = ' '.join(bolsig)"
   ]
  },
  {
   "cell_type": "code",
   "execution_count": 16,
   "metadata": {},
   "outputs": [
    {
     "data": {
      "text/plain": [
       "174"
      ]
     },
     "execution_count": 16,
     "metadata": {},
     "output_type": "execute_result"
    }
   ],
   "source": [
    "len(formula_e)"
   ]
  },
  {
   "cell_type": "code",
   "execution_count": 7,
   "metadata": {},
   "outputs": [
    {
     "name": "stdout",
     "output_type": "stream",
     "text": [
      "277\n"
     ]
    },
    {
     "data": {
      "text/plain": [
       "578"
      ]
     },
     "execution_count": 7,
     "metadata": {},
     "output_type": "execute_result"
    }
   ],
   "source": [
    "# overlapping between ground and vibrational excitation\n",
    "total_rxn = len(formula_e) + len(formula_g) + len(formula_i)\n",
    "count = 0 \n",
    "for i in range(len(formula_e)):\n",
    "    if '(v' in formula_e[i].split('=>')[0]:\n",
    "        count += 1\n",
    "for i in range(len(formula_g)):\n",
    "    if '(v' in formula_g[i].split('=>')[0]:\n",
    "        count += 1\n",
    "print(count)\n",
    "\n",
    "total_rxn"
   ]
  },
  {
   "cell_type": "code",
   "execution_count": 8,
   "metadata": {},
   "outputs": [],
   "source": [
    "t_rxn = formula_e + formula_i + formula_g\n",
    "df_rxn = pd.DataFrame({'Reaction': t_rxn})\n",
    "count_index = 0\n",
    "index = []\n",
    "for i in range(len(df_rxn)):\n",
    "    if i > 0:\n",
    "        curr_react, curr_prod = df_rxn['Reaction'].iloc[i].split('=>')\n",
    "        prev_react, prev_prod = df_rxn['Reaction'].iloc[i-1].split('=>')\n",
    "        \n",
    "        curr_react_norm = re.sub(r'\\(v\\d*\\)','',curr_react).strip()\n",
    "        prev_react_norm = re.sub(r'\\(v\\d*\\)','',prev_react).strip()\n",
    "\n",
    "        if curr_react_norm == prev_react_norm and curr_prod == prev_prod:\n",
    "            pass\n",
    "        else:\n",
    "            count_index += 1\n",
    "    index.append(count_index)\n",
    "df_rxn['index'] = index"
   ]
  },
  {
   "cell_type": "code",
   "execution_count": 9,
   "metadata": {},
   "outputs": [],
   "source": [
    "df_rxn.to_csv('parameter_set.csv',index=False)"
   ]
  },
  {
   "cell_type": "code",
   "execution_count": 14,
   "metadata": {},
   "outputs": [
    {
     "data": {
      "text/plain": [
       "0      False\n",
       "1      False\n",
       "2      False\n",
       "3      False\n",
       "4      False\n",
       "       ...  \n",
       "573    False\n",
       "574    False\n",
       "575    False\n",
       "576    False\n",
       "577    False\n",
       "Length: 578, dtype: bool"
      ]
     },
     "execution_count": 14,
     "metadata": {},
     "output_type": "execute_result"
    }
   ],
   "source": [
    "df_rxn.duplicated()"
   ]
  },
  {
   "cell_type": "code",
   "execution_count": 10,
   "metadata": {},
   "outputs": [],
   "source": [
    "# compensation parameter\n",
    "para = []\n",
    "for i in range(df_rxn['index'].iloc[-1]+1):\n",
    "    para_sentence = f'$ double precision, parameter :: f{i} = 1.000d0'\n",
    "    para.append(para_sentence)"
   ]
  },
  {
   "cell_type": "code",
   "execution_count": 11,
   "metadata": {},
   "outputs": [],
   "source": [
    "kinet = ''\n",
    "\n",
    "kinet += 'ELEMENTS\\n'\n",
    "kinet += 'e C H\\n'\n",
    "kinet += 'END\\n'\n",
    "kinet += '\\n'\n",
    "kinet += 'SPECIES\\n'\n",
    "kinet += species1+'\\n'\n",
    "kinet += species2+'\\n'\n",
    "kinet += 'END\\n'\n",
    "kinet += '\\n'\n",
    "kinet += 'BOLSIG\\n'\n",
    "kinet += bolsig + '\\n'\n",
    "kinet += 'END\\n'\n",
    "kinet += '\\n'\n",
    "kinet += 'REACTIONS\\n'\n",
    "kinet += '# Gas Constant\\n'\n",
    "kinet += '$ double precision, parameter :: R = 8.314d-3\\n'\n",
    "kinet += '\\n'\n",
    "kinet += '# Compensation Parameters\\n'\n",
    "for i in range(len(para)):\n",
    "    kinet += para[i] + '\\n'\n",
    "kinet += '\\n'\n",
    "kinet += '# Electron Collision Reaction\\n'\n",
    "for i in range(len(formula_e)):\n",
    "    kinet += formula_e[i] + '\\t'*2 + f'! f{df_rxn['index'].iloc[i]} * Bolsig+ ' + bol_comp[i] + '\\n'\n",
    "kinet += '\\n'\n",
    "kinet += '# Ion Recombination Reaction\\n'\n",
    "for i in range(len(formula_i)):\n",
    "    kinet += formula_i[i] + '\\t'*2 + f'! f{df_rxn['index'].iloc[i+len(formula_e)]} * ' + rate_i[i] + '\\n'\n",
    "kinet += '\\n'\n",
    "kinet += '# Gas Phase Reaction\\n'\n",
    "\n",
    "for i in range(len(formula_g)):\n",
    "    kinet += formula_g[i] + '\\t'*2 + f'! f{df_rxn['index'].iloc[i+len(formula_e)+len(formula_i)]} * ' + rate_g[i] + '\\n'\n",
    "kinet += 'END'\n",
    "\n",
    "\n",
    "with open('kinet.inp', 'w') as file:\n",
    "    file.write(kinet)"
   ]
  },
  {
   "cell_type": "code",
   "execution_count": null,
   "metadata": {},
   "outputs": [],
   "source": []
  }
 ],
 "metadata": {
  "kernelspec": {
   "display_name": "Python 3",
   "language": "python",
   "name": "python3"
  },
  "language_info": {
   "codemirror_mode": {
    "name": "ipython",
    "version": 3
   },
   "file_extension": ".py",
   "mimetype": "text/x-python",
   "name": "python",
   "nbconvert_exporter": "python",
   "pygments_lexer": "ipython3",
   "version": "3.12.3"
  }
 },
 "nbformat": 4,
 "nbformat_minor": 2
}
