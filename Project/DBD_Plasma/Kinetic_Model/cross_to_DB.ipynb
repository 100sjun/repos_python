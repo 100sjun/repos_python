{
 "cells": [
  {
   "cell_type": "code",
   "execution_count": 1,
   "metadata": {},
   "outputs": [],
   "source": [
    "### Overview\n",
    "# cross section are txt 파일을 kinetic_DB 폴더에 CSV 파일로 저장하는 모듈"
   ]
  },
  {
   "cell_type": "code",
   "execution_count": 2,
   "metadata": {},
   "outputs": [],
   "source": [
    "# Modules\n",
    "import pandas as pd\n",
    "import re\n",
    "import io"
   ]
  },
  {
   "cell_type": "code",
   "execution_count": 3,
   "metadata": {},
   "outputs": [],
   "source": [
    "def cross_DB(num):\n",
    "    # cross area data path\n",
    "    index_ca = num    # cross area data index\n",
    "    path = f'./crossA_DB/{index_ca}.txt'\n",
    "\n",
    "    # Reading a text file\n",
    "    with open(path, 'r') as file:\n",
    "        lines = file.readlines()\n",
    "        data = [line.replace('\\n','').rstrip() for line in lines]\n",
    "        file.close()\n",
    "\n",
    "    # Meta Data\n",
    "    type = data[0]\n",
    "    reaction = data[1]\n",
    "    eloss = float(data[2])\n",
    "    species = re.search(r'SPECIES: (.+)', data[3]).group(1)\n",
    "    formula = re.search(r'PROCESS: (.+?),',data[4]).group(1)\n",
    "\n",
    "    reaction = re.sub(r'(\\w+)\\+', r'\\1^+', reaction)\n",
    "    species = re.sub(r'(\\w+)\\+', r'\\1^+', species)\n",
    "    formula = re.sub(r'(\\w+)\\+', r'\\1^+', formula)\n",
    "\n",
    "    # cross area data\n",
    "    data_start = data.index('-----------------------------') + 1\n",
    "    data_end = data[data_start:].index('-----------------------------') + data_start\n",
    "    data_lines = data[data_start:data_end]\n",
    "\n",
    "    # Dataframe\n",
    "    data_io = io.StringIO('\\n'.join(data_lines))\n",
    "    df = pd.read_csv(data_io, sep=r'\\s+', names=['Energy(eV)', 'Cross_section(m2)'])\n",
    "\n",
    "    # Dataframe Metadata Insertion\n",
    "    df['Num'] = index_ca\n",
    "    df['Type'] = type\n",
    "    df['Reaction'] = reaction\n",
    "    df['ELoss'] = eloss\n",
    "    df['Species'] = species\n",
    "    df['Formula'] = formula\n",
    "\n",
    "    df = df[['Num', 'Type', 'Reaction', 'ELoss', 'Species', 'Formula', 'Energy(eV)', 'Cross_section(m2)']]\n",
    "\n",
    "    return df"
   ]
  },
  {
   "cell_type": "code",
   "execution_count": null,
   "metadata": {},
   "outputs": [],
   "source": [
    "for num in range(183):\n",
    "    df = cross_DB(num)\n",
    "    df.to_csv(f'./kinetic_DB/reaction_{num}.csv', index=False)"
   ]
  },
  {
   "cell_type": "code",
   "execution_count": null,
   "metadata": {},
   "outputs": [],
   "source": []
  }
 ],
 "metadata": {
  "kernelspec": {
   "display_name": "Python 3",
   "language": "python",
   "name": "python3"
  },
  "language_info": {
   "codemirror_mode": {
    "name": "ipython",
    "version": 3
   },
   "file_extension": ".py",
   "mimetype": "text/x-python",
   "name": "python",
   "nbconvert_exporter": "python",
   "pygments_lexer": "ipython3",
   "version": "3.12.3"
  }
 },
 "nbformat": 4,
 "nbformat_minor": 2
}
