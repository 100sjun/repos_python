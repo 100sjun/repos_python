{
 "cells": [
  {
   "cell_type": "code",
   "execution_count": 21,
   "metadata": {},
   "outputs": [
    {
     "data": {
      "text/plain": [
       "24999.999999999996"
      ]
     },
     "execution_count": 21,
     "metadata": {},
     "output_type": "execute_result"
    }
   ],
   "source": [
    "# Plasma System\n",
    "Vapp = 15 * 1000 # V, appliled voltage\n",
    "d = 6 * 0.1 # cm, gap distance\n",
    "Eapp = Vapp/d # V/cm, applied electric field\n",
    "Eapp"
   ]
  },
  {
   "cell_type": "code",
   "execution_count": 22,
   "metadata": {},
   "outputs": [
    {
     "data": {
      "text/plain": [
       "2.686780111798444e+19"
      ]
     },
     "execution_count": 22,
     "metadata": {},
     "output_type": "execute_result"
    }
   ],
   "source": [
    "# thermodynamics\n",
    "P = 101325 # Pa, pressure\n",
    "T = 273.15 # K, absolute temperature\n",
    "kb = 1.380649e-23 # J/K, Boltzmann constant\n",
    "n0 = P/kb/T/1e6 # 1/cm3, initial concentration\n",
    "n0"
   ]
  },
  {
   "cell_type": "code",
   "execution_count": 23,
   "metadata": {},
   "outputs": [
    {
     "data": {
      "text/plain": [
       "93.04818019985194"
      ]
     },
     "execution_count": 23,
     "metadata": {},
     "output_type": "execute_result"
    }
   ],
   "source": [
    "# reduced electric field\n",
    "Td = 1e-17 # V/cm2, townsend\n",
    "Er = Eapp/n0/Td # reduced electric field\n",
    "Er"
   ]
  }
 ],
 "metadata": {
  "kernelspec": {
   "display_name": "plaskinsol",
   "language": "python",
   "name": "python3"
  },
  "language_info": {
   "codemirror_mode": {
    "name": "ipython",
    "version": 3
   },
   "file_extension": ".py",
   "mimetype": "text/x-python",
   "name": "python",
   "nbconvert_exporter": "python",
   "pygments_lexer": "ipython3",
   "version": "3.12.7"
  }
 },
 "nbformat": 4,
 "nbformat_minor": 2
}
