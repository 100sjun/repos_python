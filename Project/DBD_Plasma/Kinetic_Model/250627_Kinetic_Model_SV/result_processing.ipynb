{
 "cells": [
  {
   "cell_type": "code",
   "execution_count": 7,
   "metadata": {},
   "outputs": [],
   "source": [
    "# import modules\n",
    "import pandas as pd\n",
    "import numpy as np\n",
    "import subprocess\n",
    "import re"
   ]
  },
  {
   "cell_type": "code",
   "execution_count": null,
   "metadata": {},
   "outputs": [],
   "source": [
    "# optuna_study.db에서 best parameter set 불러오기\n",
    "import sqlite3\n",
    "import optuna\n",
    "\n",
    "# optuna db 연결\n",
    "storage_name = \"sqlite:///optuna_study3.db\" \n",
    "study = optuna.load_study(study_name=\"parameter_optimization\", storage=storage_name)\n",
    "\n",
    "# best trial의 parameters 가져오기\n",
    "best_params = study.best_trial.params\n",
    "\n",
    "# best parameters 출력\n",
    "print(f\"Best parameters from Optuna study:\")\n",
    "for param_name, value in best_params.items():\n",
    "    print(f\"{param_name}: {value}\")\n"
   ]
  },
  {
   "cell_type": "code",
   "execution_count": 6,
   "metadata": {},
   "outputs": [
    {
     "name": "stdout",
     "output_type": "stream",
     "text": [
      "\n",
      "Best parameters in Fortran double precision format:\n",
      "$ double precision, parameter :: f0 = 9.7871d-11\n",
      "$ double precision, parameter :: f1 = 1.0558d-13\n",
      "$ double precision, parameter :: f2 = 1.1973d+07\n",
      "$ double precision, parameter :: f3 = 6.1766d-01\n",
      "$ double precision, parameter :: f4 = 5.4531d+00\n",
      "$ double precision, parameter :: f5 = 4.7046d+05\n",
      "$ double precision, parameter :: f6 = 4.3693d-02\n",
      "$ double precision, parameter :: f7 = 4.2026d+00\n",
      "$ double precision, parameter :: f8 = 2.5694d+00\n",
      "$ double precision, parameter :: f9 = 1.6283d+21\n",
      "$ double precision, parameter :: f10 = 2.4200d-04\n",
      "$ double precision, parameter :: f11 = 1.6027d-05\n",
      "$ double precision, parameter :: f12 = 6.0803d+01\n",
      "$ double precision, parameter :: f13 = 2.0268d+01\n",
      "$ double precision, parameter :: f14 = 1.6623d-03\n",
      "$ double precision, parameter :: f15 = 9.3185d-01\n",
      "$ double precision, parameter :: f16 = 4.4394d+06\n",
      "$ double precision, parameter :: f17 = 2.1099d+01\n",
      "$ double precision, parameter :: f18 = 5.7785d+03\n",
      "$ double precision, parameter :: f19 = 4.0427d+00\n",
      "$ double precision, parameter :: f20 = 1.1605d+03\n",
      "$ double precision, parameter :: f21 = 2.4197d+02\n",
      "$ double precision, parameter :: f22 = 6.7610d+00\n",
      "$ double precision, parameter :: f23 = 3.9013d+00\n",
      "$ double precision, parameter :: f24 = 6.1481d+01\n",
      "$ double precision, parameter :: f25 = 4.7711d+00\n",
      "$ double precision, parameter :: f26 = 6.7798d+01\n",
      "$ double precision, parameter :: f27 = 2.3623d-03\n",
      "$ double precision, parameter :: f28 = 1.1059d+00\n",
      "$ double precision, parameter :: f29 = 1.4194d+01\n",
      "$ double precision, parameter :: f30 = 1.0161d-04\n",
      "$ double precision, parameter :: f31 = 6.1175d+00\n",
      "$ double precision, parameter :: f32 = 1.5738d+01\n",
      "$ double precision, parameter :: f33 = 5.1730d+03\n",
      "$ double precision, parameter :: f34 = 1.7757d+00\n",
      "$ double precision, parameter :: f35 = 8.8594d-01\n",
      "$ double precision, parameter :: f36 = 7.3791d+00\n",
      "\n",
      "kinet_opt.inp 파일이 생성되었습니다.\n"
     ]
    }
   ],
   "source": [
    "# best parameter set을 double fortran 형식으로 출력\n",
    "print(\"\\nBest parameters in Fortran double precision format:\")\n",
    "for param_name, value in best_params.items():\n",
    "    fortran_value = f\"{value:.4e}\".replace('e', 'd')\n",
    "    print(f\"$ double precision, parameter :: {param_name} = {fortran_value}\")\n",
    "\n",
    "# kinet_opt.inp 파일 생성\n",
    "with open('kinet_ori.inp', 'r') as f:\n",
    "    content = f.readlines()\n",
    "\n",
    "# 파라미터 선언 위치 찾기\n",
    "param_start = -1\n",
    "for i, line in enumerate(content):\n",
    "    if \"$ double precision, parameter :: f\" in line:\n",
    "        param_start = i\n",
    "        break\n",
    "\n",
    "if param_start != -1:\n",
    "    # 기존 파라미터 선언 부분을 새로운 값으로 교체\n",
    "    new_params = []\n",
    "    for param_name, value in best_params.items():\n",
    "        fortran_value = f\"{value:.4e}\".replace('e', 'd')\n",
    "        new_params.append(f\"$ double precision, parameter :: {param_name} = {fortran_value}\\n\")\n",
    "    \n",
    "    # 새로운 내용으로 파일 작성\n",
    "    with open('kinet_opt.inp', 'w') as f:\n",
    "        f.writelines(content[:param_start])  # 파라미터 선언 이전 부분\n",
    "        f.writelines(new_params)  # 새로운 파라미터 값들\n",
    "        f.writelines(content[param_start + len(best_params):])  # 파라미터 선언 이후 부분\n",
    "    \n",
    "    print(\"\\nkinet_opt.inp 파일이 생성되었습니다.\")\n",
    "else:\n",
    "    print(\"파라미터 선언 부분을 찾을 수 없습니다.\")\n",
    "\n"
   ]
  }
 ],
 "metadata": {
  "kernelspec": {
   "display_name": "plaskin_env",
   "language": "python",
   "name": "python3"
  },
  "language_info": {
   "codemirror_mode": {
    "name": "ipython",
    "version": 3
   },
   "file_extension": ".py",
   "mimetype": "text/x-python",
   "name": "python",
   "nbconvert_exporter": "python",
   "pygments_lexer": "ipython3",
   "version": "3.12.9"
  }
 },
 "nbformat": 4,
 "nbformat_minor": 2
}
