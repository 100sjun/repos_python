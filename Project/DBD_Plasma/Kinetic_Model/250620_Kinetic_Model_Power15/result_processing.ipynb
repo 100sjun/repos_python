{
 "cells": [
  {
   "cell_type": "code",
   "execution_count": 1,
   "metadata": {},
   "outputs": [],
   "source": [
    "# import modules\n",
    "import pandas as pd\n",
    "import numpy as np\n",
    "import subprocess\n",
    "import re"
   ]
  },
  {
   "cell_type": "code",
   "execution_count": 2,
   "metadata": {},
   "outputs": [
    {
     "name": "stderr",
     "output_type": "stream",
     "text": [
      "c:\\Users\\bsjun\\miniforge3\\envs\\NN_env\\Lib\\site-packages\\tqdm\\auto.py:21: TqdmWarning: IProgress not found. Please update jupyter and ipywidgets. See https://ipywidgets.readthedocs.io/en/stable/user_install.html\n",
      "  from .autonotebook import tqdm as notebook_tqdm\n"
     ]
    },
    {
     "name": "stdout",
     "output_type": "stream",
     "text": [
      "Best parameters from Optuna study:\n",
      "f0: 0.03654343071970571\n",
      "f1: 9.102460877080487e-08\n",
      "f2: 3369735.0098996903\n",
      "f3: 0.0072121501493943065\n",
      "f4: 0.3318046863373412\n",
      "f5: 15073.463145654117\n",
      "f6: 0.005704341666103449\n",
      "f7: 0.7832553580300062\n",
      "f8: 4.8763401857765665\n",
      "f9: 8.138074869867722\n",
      "f10: 0.018194224259964167\n",
      "f11: 0.007749082609606999\n",
      "f12: 1151.395764996249\n",
      "f13: 2.1774808029744446e-07\n",
      "f14: 14.233165804142141\n",
      "f15: 0.008389753799785573\n",
      "f16: 81863838249.41238\n",
      "f17: 61018.10970405987\n",
      "f18: 4.443221284998593e+17\n",
      "f19: 7.235478885525225e-07\n",
      "f20: 31813.532168432044\n",
      "f21: 60.4095787149147\n",
      "f22: 0.19275082436432978\n",
      "f23: 0.12867503179313905\n",
      "f24: 0.0005663693507448076\n",
      "f25: 5.711085522325034\n",
      "f26: 600.2105026459712\n",
      "f27: 0.14403021119833312\n",
      "f28: 9.378717903841178\n",
      "f29: 3.6392807170480603\n",
      "f30: 4283.485103522779\n",
      "f31: 57.341558189316174\n",
      "f32: 13.413942134527659\n",
      "f33: 3.5390723677272504e-09\n",
      "f34: 42.071599513597384\n",
      "f35: 0.016285985199098962\n",
      "f36: 63.773340331976314\n"
     ]
    }
   ],
   "source": [
    "# optuna_study.db에서 best parameter set 불러오기\n",
    "import sqlite3\n",
    "import optuna\n",
    "\n",
    "# optuna db 연결\n",
    "storage_name = \"sqlite:///optuna_study.db\" \n",
    "study = optuna.load_study(study_name=\"parameter_optimization\", storage=storage_name)\n",
    "\n",
    "# best trial의 parameters 가져오기\n",
    "best_params = study.best_trial.params\n",
    "\n",
    "# best parameters 출력\n",
    "print(f\"Best parameters from Optuna study:\")\n",
    "for param_name, value in best_params.items():\n",
    "    print(f\"{param_name}: {value}\")\n"
   ]
  },
  {
   "cell_type": "code",
   "execution_count": 3,
   "metadata": {},
   "outputs": [
    {
     "name": "stdout",
     "output_type": "stream",
     "text": [
      "\n",
      "Best parameters in Fortran double precision format:\n",
      "$ double precision, parameter :: f0 = 3.6543d-02\n",
      "$ double precision, parameter :: f1 = 9.1025d-08\n",
      "$ double precision, parameter :: f2 = 3.3697d+06\n",
      "$ double precision, parameter :: f3 = 7.2122d-03\n",
      "$ double precision, parameter :: f4 = 3.3180d-01\n",
      "$ double precision, parameter :: f5 = 1.5073d+04\n",
      "$ double precision, parameter :: f6 = 5.7043d-03\n",
      "$ double precision, parameter :: f7 = 7.8326d-01\n",
      "$ double precision, parameter :: f8 = 4.8763d+00\n",
      "$ double precision, parameter :: f9 = 8.1381d+00\n",
      "$ double precision, parameter :: f10 = 1.8194d-02\n",
      "$ double precision, parameter :: f11 = 7.7491d-03\n",
      "$ double precision, parameter :: f12 = 1.1514d+03\n",
      "$ double precision, parameter :: f13 = 2.1775d-07\n",
      "$ double precision, parameter :: f14 = 1.4233d+01\n",
      "$ double precision, parameter :: f15 = 8.3898d-03\n",
      "$ double precision, parameter :: f16 = 8.1864d+10\n",
      "$ double precision, parameter :: f17 = 6.1018d+04\n",
      "$ double precision, parameter :: f18 = 4.4432d+17\n",
      "$ double precision, parameter :: f19 = 7.2355d-07\n",
      "$ double precision, parameter :: f20 = 3.1814d+04\n",
      "$ double precision, parameter :: f21 = 6.0410d+01\n",
      "$ double precision, parameter :: f22 = 1.9275d-01\n",
      "$ double precision, parameter :: f23 = 1.2868d-01\n",
      "$ double precision, parameter :: f24 = 5.6637d-04\n",
      "$ double precision, parameter :: f25 = 5.7111d+00\n",
      "$ double precision, parameter :: f26 = 6.0021d+02\n",
      "$ double precision, parameter :: f27 = 1.4403d-01\n",
      "$ double precision, parameter :: f28 = 9.3787d+00\n",
      "$ double precision, parameter :: f29 = 3.6393d+00\n",
      "$ double precision, parameter :: f30 = 4.2835d+03\n",
      "$ double precision, parameter :: f31 = 5.7342d+01\n",
      "$ double precision, parameter :: f32 = 1.3414d+01\n",
      "$ double precision, parameter :: f33 = 3.5391d-09\n",
      "$ double precision, parameter :: f34 = 4.2072d+01\n",
      "$ double precision, parameter :: f35 = 1.6286d-02\n",
      "$ double precision, parameter :: f36 = 6.3773d+01\n",
      "\n",
      "kinet_opt.inp 파일이 생성되었습니다.\n"
     ]
    }
   ],
   "source": [
    "# best parameter set을 double fortran 형식으로 출력\n",
    "print(\"\\nBest parameters in Fortran double precision format:\")\n",
    "for param_name, value in best_params.items():\n",
    "    fortran_value = f\"{value:.4e}\".replace('e', 'd')\n",
    "    print(f\"$ double precision, parameter :: {param_name} = {fortran_value}\")\n",
    "\n",
    "# kinet_opt.inp 파일 생성\n",
    "with open('kinet_ori.inp', 'r') as f:\n",
    "    content = f.readlines()\n",
    "\n",
    "# 파라미터 선언 위치 찾기\n",
    "param_start = -1\n",
    "for i, line in enumerate(content):\n",
    "    if \"$ double precision, parameter :: f\" in line:\n",
    "        param_start = i\n",
    "        break\n",
    "\n",
    "if param_start != -1:\n",
    "    # 기존 파라미터 선언 부분을 새로운 값으로 교체\n",
    "    new_params = []\n",
    "    for param_name, value in best_params.items():\n",
    "        fortran_value = f\"{value:.4e}\".replace('e', 'd')\n",
    "        new_params.append(f\"$ double precision, parameter :: {param_name} = {fortran_value}\\n\")\n",
    "    \n",
    "    # 새로운 내용으로 파일 작성\n",
    "    with open('kinet_opt.inp', 'w') as f:\n",
    "        f.writelines(content[:param_start])  # 파라미터 선언 이전 부분\n",
    "        f.writelines(new_params)  # 새로운 파라미터 값들\n",
    "        f.writelines(content[param_start + len(best_params):])  # 파라미터 선언 이후 부분\n",
    "    \n",
    "    print(\"\\nkinet_opt.inp 파일이 생성되었습니다.\")\n",
    "else:\n",
    "    print(\"파라미터 선언 부분을 찾을 수 없습니다.\")\n",
    "\n"
   ]
  }
 ],
 "metadata": {
  "kernelspec": {
   "display_name": "NN_env",
   "language": "python",
   "name": "python3"
  },
  "language_info": {
   "codemirror_mode": {
    "name": "ipython",
    "version": 3
   },
   "file_extension": ".py",
   "mimetype": "text/x-python",
   "name": "python",
   "nbconvert_exporter": "python",
   "pygments_lexer": "ipython3",
   "version": "3.12.9"
  }
 },
 "nbformat": 4,
 "nbformat_minor": 2
}
