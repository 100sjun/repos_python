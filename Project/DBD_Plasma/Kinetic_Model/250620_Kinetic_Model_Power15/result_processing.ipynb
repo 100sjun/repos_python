{
 "cells": [
  {
   "cell_type": "code",
   "execution_count": 1,
   "metadata": {},
   "outputs": [],
   "source": [
    "# import modules\n",
    "import pandas as pd\n",
    "import numpy as np\n",
    "import subprocess\n",
    "import re"
   ]
  },
  {
   "cell_type": "code",
   "execution_count": 2,
   "metadata": {},
   "outputs": [
    {
     "name": "stderr",
     "output_type": "stream",
     "text": [
      "c:\\Users\\USER\\.conda\\envs\\plaskin_env\\Lib\\site-packages\\tqdm\\auto.py:21: TqdmWarning: IProgress not found. Please update jupyter and ipywidgets. See https://ipywidgets.readthedocs.io/en/stable/user_install.html\n",
      "  from .autonotebook import tqdm as notebook_tqdm\n"
     ]
    },
    {
     "name": "stdout",
     "output_type": "stream",
     "text": [
      "Best parameters from Optuna study:\n",
      "f0: 1.553134651120106e-06\n",
      "f1: 3.0781796723987904e-11\n",
      "f2: 12241546.658466397\n",
      "f3: 8287257.840897119\n",
      "f4: 1.8950866722361983\n",
      "f5: 4299.455542571266\n",
      "f6: 5.343406714084968\n",
      "f7: 2165390.739539031\n",
      "f8: 23.360042573497395\n",
      "f9: 167.2641434467932\n",
      "f10: 0.02987113569166795\n",
      "f11: 370.5377387663165\n",
      "f12: 0.00011272696624624277\n",
      "f13: 0.5706025105197354\n",
      "f14: 0.0669716004727434\n",
      "f15: 0.04473014091481155\n",
      "f16: 136081713319.31061\n",
      "f17: 0.946240760021444\n",
      "f18: 8.819643127312875e+16\n",
      "f19: 1.2154382403622828\n",
      "f20: 104526.90870848147\n",
      "f21: 0.3360682774881525\n",
      "f22: 87.67579426299991\n",
      "f23: 0.3583218594052359\n",
      "f24: 0.2317151810614721\n",
      "f25: 1.4562954533369679\n",
      "f26: 0.31345484442028654\n",
      "f27: 7.741757063204133\n",
      "f28: 4.237003772285805\n",
      "f29: 0.6675380997160749\n",
      "f30: 0.6562111663986573\n",
      "f31: 255.80660223360223\n",
      "f32: 1.310684574498559\n",
      "f33: 5.343816758106978e-11\n",
      "f34: 692.9015732879014\n",
      "f35: 0.017176229569430584\n",
      "f36: 64.58208934428764\n"
     ]
    }
   ],
   "source": [
    "# optuna_study.db에서 best parameter set 불러오기\n",
    "import sqlite3\n",
    "import optuna\n",
    "\n",
    "# optuna db 연결\n",
    "storage_name = \"sqlite:///optuna_study.db\" \n",
    "study = optuna.load_study(study_name=\"parameter_optimization\", storage=storage_name)\n",
    "\n",
    "# best trial의 parameters 가져오기\n",
    "best_params = study.best_trial.params\n",
    "\n",
    "# best parameters 출력\n",
    "print(f\"Best parameters from Optuna study:\")\n",
    "for param_name, value in best_params.items():\n",
    "    print(f\"{param_name}: {value}\")\n"
   ]
  },
  {
   "cell_type": "code",
   "execution_count": 3,
   "metadata": {},
   "outputs": [
    {
     "name": "stdout",
     "output_type": "stream",
     "text": [
      "\n",
      "Best parameters in Fortran double precision format:\n",
      "$ double precision, parameter :: f0 = 1.5531d-06\n",
      "$ double precision, parameter :: f1 = 3.0782d-11\n",
      "$ double precision, parameter :: f2 = 1.2242d+07\n",
      "$ double precision, parameter :: f3 = 8.2873d+06\n",
      "$ double precision, parameter :: f4 = 1.8951d+00\n",
      "$ double precision, parameter :: f5 = 4.2995d+03\n",
      "$ double precision, parameter :: f6 = 5.3434d+00\n",
      "$ double precision, parameter :: f7 = 2.1654d+06\n",
      "$ double precision, parameter :: f8 = 2.3360d+01\n",
      "$ double precision, parameter :: f9 = 1.6726d+02\n",
      "$ double precision, parameter :: f10 = 2.9871d-02\n",
      "$ double precision, parameter :: f11 = 3.7054d+02\n",
      "$ double precision, parameter :: f12 = 1.1273d-04\n",
      "$ double precision, parameter :: f13 = 5.7060d-01\n",
      "$ double precision, parameter :: f14 = 6.6972d-02\n",
      "$ double precision, parameter :: f15 = 4.4730d-02\n",
      "$ double precision, parameter :: f16 = 1.3608d+11\n",
      "$ double precision, parameter :: f17 = 9.4624d-01\n",
      "$ double precision, parameter :: f18 = 8.8196d+16\n",
      "$ double precision, parameter :: f19 = 1.2154d+00\n",
      "$ double precision, parameter :: f20 = 1.0453d+05\n",
      "$ double precision, parameter :: f21 = 3.3607d-01\n",
      "$ double precision, parameter :: f22 = 8.7676d+01\n",
      "$ double precision, parameter :: f23 = 3.5832d-01\n",
      "$ double precision, parameter :: f24 = 2.3172d-01\n",
      "$ double precision, parameter :: f25 = 1.4563d+00\n",
      "$ double precision, parameter :: f26 = 3.1345d-01\n",
      "$ double precision, parameter :: f27 = 7.7418d+00\n",
      "$ double precision, parameter :: f28 = 4.2370d+00\n",
      "$ double precision, parameter :: f29 = 6.6754d-01\n",
      "$ double precision, parameter :: f30 = 6.5621d-01\n",
      "$ double precision, parameter :: f31 = 2.5581d+02\n",
      "$ double precision, parameter :: f32 = 1.3107d+00\n",
      "$ double precision, parameter :: f33 = 5.3438d-11\n",
      "$ double precision, parameter :: f34 = 6.9290d+02\n",
      "$ double precision, parameter :: f35 = 1.7176d-02\n",
      "$ double precision, parameter :: f36 = 6.4582d+01\n",
      "\n",
      "kinet_opt.inp 파일이 생성되었습니다.\n"
     ]
    }
   ],
   "source": [
    "# best parameter set을 double fortran 형식으로 출력\n",
    "print(\"\\nBest parameters in Fortran double precision format:\")\n",
    "for param_name, value in best_params.items():\n",
    "    fortran_value = f\"{value:.4e}\".replace('e', 'd')\n",
    "    print(f\"$ double precision, parameter :: {param_name} = {fortran_value}\")\n",
    "\n",
    "# kinet_opt.inp 파일 생성\n",
    "with open('kinet_ori.inp', 'r') as f:\n",
    "    content = f.readlines()\n",
    "\n",
    "# 파라미터 선언 위치 찾기\n",
    "param_start = -1\n",
    "for i, line in enumerate(content):\n",
    "    if \"$ double precision, parameter :: f\" in line:\n",
    "        param_start = i\n",
    "        break\n",
    "\n",
    "if param_start != -1:\n",
    "    # 기존 파라미터 선언 부분을 새로운 값으로 교체\n",
    "    new_params = []\n",
    "    for param_name, value in best_params.items():\n",
    "        fortran_value = f\"{value:.4e}\".replace('e', 'd')\n",
    "        new_params.append(f\"$ double precision, parameter :: {param_name} = {fortran_value}\\n\")\n",
    "    \n",
    "    # 새로운 내용으로 파일 작성\n",
    "    with open('kinet_opt.inp', 'w') as f:\n",
    "        f.writelines(content[:param_start])  # 파라미터 선언 이전 부분\n",
    "        f.writelines(new_params)  # 새로운 파라미터 값들\n",
    "        f.writelines(content[param_start + len(best_params):])  # 파라미터 선언 이후 부분\n",
    "    \n",
    "    print(\"\\nkinet_opt.inp 파일이 생성되었습니다.\")\n",
    "else:\n",
    "    print(\"파라미터 선언 부분을 찾을 수 없습니다.\")\n",
    "\n"
   ]
  }
 ],
 "metadata": {
  "kernelspec": {
   "display_name": "plaskin_env",
   "language": "python",
   "name": "python3"
  },
  "language_info": {
   "codemirror_mode": {
    "name": "ipython",
    "version": 3
   },
   "file_extension": ".py",
   "mimetype": "text/x-python",
   "name": "python",
   "nbconvert_exporter": "python",
   "pygments_lexer": "ipython3",
   "version": "3.12.9"
  }
 },
 "nbformat": 4,
 "nbformat_minor": 2
}
