{
 "cells": [
  {
   "cell_type": "code",
   "execution_count": 1,
   "metadata": {},
   "outputs": [],
   "source": [
    "import re"
   ]
  },
  {
   "cell_type": "code",
   "execution_count": 2,
   "metadata": {},
   "outputs": [],
   "source": [
    "# set a file name\n",
    "input_file = 'kinet_ori.inp'\n",
    "output_file = 'kinet_ori_treat.inp'"
   ]
  },
  {
   "cell_type": "code",
   "execution_count": 3,
   "metadata": {},
   "outputs": [],
   "source": [
    "# read a file\n",
    "with open(input_file, 'r', encoding='utf-8') as file:\n",
    "    content = file.read()"
   ]
  },
  {
   "cell_type": "code",
   "execution_count": 4,
   "metadata": {},
   "outputs": [],
   "source": [
    "parameters = {}\n",
    "\n",
    "# regular pattern to find the parameter definition\n",
    "pattern = r'\\$\\s*double precision,\\s*parameter\\s*::\\s*(f\\d+)\\s*=\\s*([\\d\\.\\-\\+de]+)'\n",
    "matches = re.findall(pattern, content, re.IGNORECASE)\n",
    "\n",
    "for param_name, param_value in matches:\n",
    "    parameters[param_name] = param_value"
   ]
  },
  {
   "cell_type": "code",
   "execution_count": 5,
   "metadata": {},
   "outputs": [],
   "source": [
    "modified_content = content\n",
    "\n",
    "# sorting parameters by the number\n",
    "sorted_params = sorted(parameters.items(), key=lambda x: int(x[0][1:]))\n",
    "\n",
    "# substitute parameters with length of parameter name\n",
    "sorted_params.reverse()"
   ]
  },
  {
   "cell_type": "code",
   "execution_count": 6,
   "metadata": {},
   "outputs": [],
   "source": [
    "for param_name, param_value in sorted_params:\n",
    "    pattern = r'\\b' + param_name + r'\\b'\n",
    "    modified_content = re.sub(pattern, param_value, modified_content)"
   ]
  },
  {
   "cell_type": "code",
   "execution_count": 7,
   "metadata": {},
   "outputs": [],
   "source": [
    "with open(output_file, 'w', encoding='utf-8') as file:\n",
    "    file.write(modified_content)"
   ]
  }
 ],
 "metadata": {
  "kernelspec": {
   "display_name": "plaskin_env",
   "language": "python",
   "name": "python3"
  },
  "language_info": {
   "codemirror_mode": {
    "name": "ipython",
    "version": 3
   },
   "file_extension": ".py",
   "mimetype": "text/x-python",
   "name": "python",
   "nbconvert_exporter": "python",
   "pygments_lexer": "ipython3",
   "version": "3.12.9"
  }
 },
 "nbformat": 4,
 "nbformat_minor": 2
}
