{
 "cells": [
  {
   "cell_type": "code",
   "execution_count": 27,
   "metadata": {},
   "outputs": [],
   "source": [
    "# load the list of main reaction\n",
    "with open('Main_Reaction.csv', 'r') as f1:\n",
    "    lines1 = f1.readlines()\n",
    "    f1.close()"
   ]
  },
  {
   "cell_type": "code",
   "execution_count": 28,
   "metadata": {},
   "outputs": [],
   "source": [
    "# find the index list\n",
    "line = [int(lines1[i+1].split(',')[1].replace('\\n','')) for i in range(len(lines1)-1)]\n",
    "indexes = sorted(list(range(12)) + line + list(range(90,102,1)))"
   ]
  },
  {
   "cell_type": "code",
   "execution_count": 29,
   "metadata": {},
   "outputs": [],
   "source": [
    "# load a kinet file\n",
    "with open('kinet_blank.inp', 'r') as f2:\n",
    "    line2 = f2.readlines()\n",
    "    f2.close()"
   ]
  },
  {
   "cell_type": "code",
   "execution_count": 32,
   "metadata": {},
   "outputs": [],
   "source": [
    "# replace kinetic parameters\n",
    "nline = []\n",
    "for i in range(len(line2)):\n",
    "    if '$ double precision, parameter :: f' in line2[i]:\n",
    "        if i-18 in indexes:\n",
    "            nline.append(f'$ double precision, parameter :: f{i-18} = 1.0000d0\\n')\n",
    "        else:\n",
    "            nline.append(f'$ double precision, parameter :: f{i-18} = 1.0000d-21\\n')\n",
    "    else:\n",
    "        nline.append(line2[i])"
   ]
  },
  {
   "cell_type": "code",
   "execution_count": 34,
   "metadata": {},
   "outputs": [],
   "source": [
    "# generate new kinet.inp\n",
    "with open('kinet_new.inp', 'w') as f3:\n",
    "    f3.writelines(nline)"
   ]
  }
 ],
 "metadata": {
  "kernelspec": {
   "display_name": "Python 3",
   "language": "python",
   "name": "python3"
  },
  "language_info": {
   "codemirror_mode": {
    "name": "ipython",
    "version": 3
   },
   "file_extension": ".py",
   "mimetype": "text/x-python",
   "name": "python",
   "nbconvert_exporter": "python",
   "pygments_lexer": "ipython3",
   "version": "3.11.7"
  }
 },
 "nbformat": 4,
 "nbformat_minor": 2
}
