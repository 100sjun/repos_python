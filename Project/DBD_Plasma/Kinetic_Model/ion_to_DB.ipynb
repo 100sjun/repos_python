{
 "cells": [
  {
   "cell_type": "code",
   "execution_count": 4,
   "metadata": {},
   "outputs": [],
   "source": [
    "### Overview\n",
    "# gas kinetic DB 생성 모듈"
   ]
  },
  {
   "cell_type": "code",
   "execution_count": 5,
   "metadata": {},
   "outputs": [],
   "source": [
    "# Module\n",
    "import pandas as pd"
   ]
  },
  {
   "cell_type": "code",
   "execution_count": 6,
   "metadata": {},
   "outputs": [],
   "source": [
    "# gas kinetic DB\n",
    "path_gas = './crossA_DB/ion.txt'\n",
    "\n",
    "with open(path_gas,'r') as f_gas:\n",
    "    lines = f_gas.readlines()\n",
    "    data = [line.replace('\\n','').rstrip() for line in lines]\n",
    "    f_gas.close()\n",
    "\n",
    "reaction = []\n",
    "rate = []\n",
    "for i, line in enumerate(data):\n",
    "    reaction.append(line.split('\\t')[0])\n",
    "    rate.append(line.split('\\t')[1])\n",
    "reaction = reaction[1:]\n",
    "rate = rate[1:]\n",
    "df = pd.DataFrame({\n",
    "    'Num': list(range(len(reaction))),\n",
    "    'Reaction': reaction,\n",
    "    'Rate': rate,\n",
    "})\n",
    "\n",
    "df.to_csv('./kinetic_DB/reaction_ion.csv',index=False)"
   ]
  }
 ],
 "metadata": {
  "kernelspec": {
   "display_name": "Python 3",
   "language": "python",
   "name": "python3"
  },
  "language_info": {
   "codemirror_mode": {
    "name": "ipython",
    "version": 3
   },
   "file_extension": ".py",
   "mimetype": "text/x-python",
   "name": "python",
   "nbconvert_exporter": "python",
   "pygments_lexer": "ipython3",
   "version": "3.12.3"
  }
 },
 "nbformat": 4,
 "nbformat_minor": 2
}
