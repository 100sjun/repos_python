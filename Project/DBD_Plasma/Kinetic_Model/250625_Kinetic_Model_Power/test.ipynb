{
 "cells": [
  {
   "cell_type": "code",
   "execution_count": 13,
   "metadata": {},
   "outputs": [],
   "source": [
    "import pandas as pd\n",
    "import re"
   ]
  },
  {
   "cell_type": "code",
   "execution_count": 6,
   "metadata": {},
   "outputs": [],
   "source": [
    "# load kinetic data\n",
    "df_kinetic = pd.read_csv('kinetic_data.csv')\n",
    "df_mol = pd.read_csv('kinetic_data.csv').filter(like='mol%')\n",
    "df_power = pd.read_csv('kinetic_data.csv').filter(like='Power')"
   ]
  },
  {
   "cell_type": "code",
   "execution_count": 9,
   "metadata": {},
   "outputs": [],
   "source": [
    "# define the experimental data\n",
    "exp_list = ['H2', 'CH4', 'C2H6', 'C2H4', 'C2H2', 'C3H8', 'C3H6', 'C4H10', 'C5H12', \n",
    "            'C', 'CH', 'CH2', 'CH3', 'C2H3', 'C2H5', 'C3H7', 'H',\n",
    "            'CH3^+', 'CH4^+', 'CH5^+', 'C2H2^+', 'C2H4^+', 'C2H5^+', 'C2H6^+', 'C3H6^+', 'C3H8^+']\n",
    "exp_values = [df_mol.iloc[0].tolist(),\n",
    "              df_mol.iloc[1].tolist(),\n",
    "              df_mol.iloc[2].tolist()]"
   ]
  },
  {
   "cell_type": "code",
   "execution_count": 14,
   "metadata": {},
   "outputs": [],
   "source": [
    "# define the file path\n",
    "kinet_path = 'kinet.inp'\n",
    "exe_10kV_path = 'run_10kV.exe'\n",
    "exe_12kV_path = 'run_12.5kV.exe'\n",
    "exe_15kV_path = 'run_15kV.exe'"
   ]
  },
  {
   "cell_type": "code",
   "execution_count": 15,
   "metadata": {},
   "outputs": [],
   "source": [
    "# dictionary to save the current parameters\n",
    "current_parameters = {}\n",
    "power_parameters = {}"
   ]
  },
  {
   "cell_type": "code",
   "execution_count": 18,
   "metadata": {},
   "outputs": [],
   "source": [
    "init = True\n",
    "if init:\n",
    "    # 시작인 경우 kinet_ori.inp에서 parameter를 불러옴\n",
    "    with open('kinet_ori.inp', 'r') as f:\n",
    "        content = f.readlines()\n",
    "else:\n",
    "    # kinet.inp 파일에서 현재 파라미터 값들을 읽어옴\n",
    "    with open(kinet_path, 'r') as f:\n",
    "        content = f.readlines()\n",
    "\n",
    "for line in content:\n",
    "    if '$ double precision, parameter :: f' in line:\n",
    "        # f parameter와 값 추출\n",
    "        pattern = r'f(\\d+)\\s*=\\s*([\\d\\.\\+\\-d]+)'\n",
    "        match = re.search(pattern, line)\n",
    "        if match:\n",
    "            param_name = 'f' + match.group(1)\n",
    "            value = float(match.group(2).replace('d','e'))\n",
    "            current_parameters[param_name] = value\n"
   ]
  },
  {
   "cell_type": "code",
   "execution_count": 19,
   "metadata": {},
   "outputs": [
    {
     "data": {
      "text/plain": [
       "{'f0': 9.7871e-11,\n",
       " 'f1': 1.0558e-13,\n",
       " 'f2': 11973000.0,\n",
       " 'f3': 0.61766,\n",
       " 'f4': 745.31,\n",
       " 'f5': 27046.0,\n",
       " 'f6': 0.033693,\n",
       " 'f7': 4.2026,\n",
       " 'f8': 1.8694,\n",
       " 'f9': 1.6283e+21,\n",
       " 'f10': 0.000442,\n",
       " 'f11': 2.2027e-05,\n",
       " 'f12': 60.803,\n",
       " 'f13': 20.268,\n",
       " 'f14': 0.0016623,\n",
       " 'f15': 0.73185,\n",
       " 'f16': 4439400.0,\n",
       " 'f17': 21.099,\n",
       " 'f18': 5778.5,\n",
       " 'f19': 9.0427,\n",
       " 'f20': 1360.5,\n",
       " 'f21': 241.97,\n",
       " 'f22': 27.61,\n",
       " 'f23': 3.9013,\n",
       " 'f24': 61.481,\n",
       " 'f25': 4.7711,\n",
       " 'f26': 67.798,\n",
       " 'f27': 0.0023623,\n",
       " 'f28': 1.1059,\n",
       " 'f29': 14.194,\n",
       " 'f30': 0.00010161,\n",
       " 'f31': 6.1175,\n",
       " 'f32': 15.738,\n",
       " 'f33': 6173.0,\n",
       " 'f34': 1.7757,\n",
       " 'f35': 1.1594,\n",
       " 'f36': 7.3791}"
      ]
     },
     "execution_count": 19,
     "metadata": {},
     "output_type": "execute_result"
    }
   ],
   "source": [
    "current_parameters"
   ]
  }
 ],
 "metadata": {
  "kernelspec": {
   "display_name": "plaskin_env",
   "language": "python",
   "name": "python3"
  },
  "language_info": {
   "codemirror_mode": {
    "name": "ipython",
    "version": 3
   },
   "file_extension": ".py",
   "mimetype": "text/x-python",
   "name": "python",
   "nbconvert_exporter": "python",
   "pygments_lexer": "ipython3",
   "version": "3.12.9"
  }
 },
 "nbformat": 4,
 "nbformat_minor": 2
}
