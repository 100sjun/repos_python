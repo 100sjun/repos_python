{
 "cells": [
  {
   "cell_type": "code",
   "execution_count": 22,
   "metadata": {},
   "outputs": [
    {
     "data": {
      "text/plain": [
       "'\\nProgram Name: Plasma Kinetic Parameter Estimator (PlKinParaEst)\\nAuthor: SJBaek\\nDate: 2024-11-22 ~\\nDescription:\\n    - This program automatically run ZDPlasKin with optimization module for kinetic parameter estimation\\n'"
      ]
     },
     "execution_count": 22,
     "metadata": {},
     "output_type": "execute_result"
    }
   ],
   "source": [
    "\"\"\"\n",
    "Program Name: Plasma Kinetic Parameter Estimator (PlKinParaEst)\n",
    "Author: SJBaek\n",
    "Date: 2024-11-22 ~\n",
    "Description:\n",
    "    - This program automatically run ZDPlasKin with optimization module for kinetic parameter estimation\n",
    "\"\"\""
   ]
  },
  {
   "cell_type": "code",
   "execution_count": 23,
   "metadata": {},
   "outputs": [],
   "source": [
    "# Modules\n",
    "import subprocess\n",
    "from IPython.display import clear_output\n",
    "import pandas as pd\n",
    "import re\n",
    "import numpy as np\n",
    "from sklearn.gaussian_process import GaussianProcessRegressor\n",
    "from sklearn.gaussian_process.kernels import RBF, ConstantKernel\n",
    "import ast\n",
    "from scipy.stats import norm\n"
   ]
  },
  {
   "cell_type": "code",
   "execution_count": 24,
   "metadata": {},
   "outputs": [],
   "source": [
    "# compile zdplaskin\n",
    "def run_prep(inp_path):\n",
    "    try:\n",
    "        process = subprocess.Popen(\n",
    "            'preprocessor.exe',\n",
    "            stdout = subprocess.DEVNULL,        # ignore outputs\n",
    "            stderr = subprocess.DEVNULL,        # ignore errors\n",
    "            stdin = subprocess.PIPE,            # recognize input\n",
    "            universal_newlines=True\n",
    "        )\n",
    "        \n",
    "        process.stdin.write(inp_path)\n",
    "        process.stdin.flush()                   # send a data\n",
    "\n",
    "        while process.poll() is None:           # check the program state, if None, program is still in the run\n",
    "            process.stdin.write('.\\n')\n",
    "            process.stdin.flush()\n",
    "    except:\n",
    "        pass\n",
    "    print('check the run of preprocessor')\n",
    "    return process"
   ]
  },
  {
   "cell_type": "code",
   "execution_count": 25,
   "metadata": {},
   "outputs": [],
   "source": [
    "# Compile exe\n",
    "def compile_zdp(name):\n",
    "    compile_command = [\n",
    "        'gfortran', '-o', name, 'dvode_f90_m.F90', 'zdplaskin_m.F90',\n",
    "        'run_plasRxn_v2.F90', 'bolsig_x86_64_g.dll'\n",
    "    ]\n",
    "    \n",
    "    try:\n",
    "        subprocess.run(compile_command)\n",
    "    except:\n",
    "        pass\n",
    "    print('check the compiler')"
   ]
  },
  {
   "cell_type": "code",
   "execution_count": 26,
   "metadata": {},
   "outputs": [],
   "source": [
    "# Run exe\n",
    "def run_exe(exe_path):\n",
    "    try:\n",
    "        process = subprocess.Popen(\n",
    "            exe_path,\n",
    "            stdout = subprocess.PIPE, # Read standard outputs\n",
    "            stderr = subprocess.PIPE, # Read standard errors\n",
    "            universal_newlines=True,  # outputs to str variables\n",
    "            bufsize = 1               # control the size of buffer\n",
    "        )\n",
    "\n",
    "        log_flag = False             # The flag for starting log after \"Caculation Start!!\"\n",
    "        while True:\n",
    "            output = process.stdout.readline()\n",
    "            if not output:\n",
    "                break\n",
    "            if \"Calculation Start\" in output:\n",
    "                log_flag = True\n",
    "\n",
    "            if log_flag:\n",
    "                print(f'\\r{output.strip()}           ',end='',flush=True)\n",
    "\n",
    "            if \"PRESS ENTER TO EXIT\" in output:\n",
    "                process.kill()        # forced shutdown\n",
    "                break\n",
    "            if \"WARNING: BOLSIG+ convergence failed\" in output:\n",
    "                process.kill()        # forced shutdown\n",
    "                break\n",
    "    except:\n",
    "        pass\n",
    "    return process"
   ]
  },
  {
   "cell_type": "code",
   "execution_count": 27,
   "metadata": {},
   "outputs": [],
   "source": [
    "# Error calculation\n",
    "def cal_error(exp_result):\n",
    "    # Read a result\n",
    "    conditions = []\n",
    "    with open('qt_conditions_list.txt','r') as file:\n",
    "        for line in file:\n",
    "            line = line.strip()\n",
    "            line = line[2:]\n",
    "            conditions.append(line)\n",
    "        file.close()\n",
    "\n",
    "    species = []\n",
    "    with open('qt_species_list.txt','r') as file:\n",
    "        for line in file:\n",
    "            line = line.rstrip()\n",
    "            line = line[3:]\n",
    "            species.append(line)\n",
    "        file.close()\n",
    "\n",
    "    reactions = []\n",
    "    reaction_list = pd.read_csv('parameter_set.csv')\n",
    "    reactions = reaction_list['Reaction'].to_list()\n",
    "    df_cd = pd.read_csv('qt_conditions.txt', sep=r'\\s+', header=0, names=['Time [s]']+conditions)\n",
    "    df_sp = pd.read_csv('qt_densities.txt', sep=r'\\s+', header=0, names=['Time [s]']+species)\n",
    "    df_rx = pd.read_csv('qt_rates.txt', sep=r'\\s+', header=0, names=['Time [s]']+reactions)\n",
    "    top_rate = df_rx.iloc[:,1:].sum().sort_values(ascending=False)\n",
    "\n",
    "    CH4 = (df_sp['CH4'] + df_sp['CH4(V13)'] + df_sp['CH4(V24)'])\n",
    "    C2H2 = (df_sp['C2H2'] + df_sp['C2H2(V13)']+ df_sp['C2H2(V2)']+ df_sp['C2H2(V5)'])\n",
    "    C2H4 = (df_sp['C2H4'] + df_sp['C2H4(V1)']+ df_sp['C2H4(V2)'])\n",
    "    C2H6 = (df_sp['C2H6'] + df_sp['C2H6(V13)']+ df_sp['C2H6(V24)'])\n",
    "    C3H6 = (df_sp['C3H6'] + df_sp['C3H6(V)'])\n",
    "    C3H8 = (df_sp['C3H8'] + df_sp['C3H8(V1)'] + df_sp['C3H8(V2)'])\n",
    "    C4H10 = (df_sp['C4H9H'])\n",
    "    C5H12 = (df_sp['C5H12'])\n",
    "    H2 = df_sp['H2']\n",
    "    C = df_sp['C']\n",
    "    H = df_sp['H']\n",
    "    CH = df_sp['CH']\n",
    "    CH2 = df_sp['CH2']\n",
    "    CH3 = df_sp['CH3']\n",
    "    C2H3 = df_sp['C2H3']\n",
    "    C2H5 = df_sp['C2H5']\n",
    "    C3H5 = df_sp['C3H5']\n",
    "    C3H7 = df_sp['C3H7']\n",
    "    C4H9 = df_sp['C4H9']\n",
    "\n",
    "    exp = exp_result\n",
    "    \n",
    "    sim_XCH4 = (CH4.iloc[0] - CH4.iloc[-1])/CH4.iloc[0]*100\n",
    "    sim_SH2 = 0.5*H2.iloc[-1]/(CH4.iloc[0] - CH4.iloc[-1])*100\n",
    "    sim_SC2H6 = 2*C2H6.iloc[-1]/(CH4.iloc[0] - CH4.iloc[-1])*100\n",
    "    sim_SC2H4 = 2*C2H4.iloc[-1]/(CH4.iloc[0] - CH4.iloc[-1])*100\n",
    "    sim_SC2H2 = 2*C2H2.iloc[-1]/(CH4.iloc[0] - CH4.iloc[-1])*100\n",
    "    sim_SC3H8 = 3*C3H8.iloc[-1]/(CH4.iloc[0] - CH4.iloc[-1])*100\n",
    "    sim_SC3H6 = 3*C3H6.iloc[-1]/(CH4.iloc[0] - CH4.iloc[-1])*100\n",
    "    sim_SC4H10 = 4*C4H10.iloc[-1]/(CH4.iloc[0] - CH4.iloc[-1])*100\n",
    "    sim_SC5H12 = 5*C5H12.iloc[-1]/(CH4.iloc[0] - CH4.iloc[-1])*100\n",
    "    sim_SH = 0.25*H.iloc[-1]/(CH4.iloc[0] - CH4.iloc[-1])*100\n",
    "    sim_SCH = CH.iloc[-1]/(CH4.iloc[0] - CH4.iloc[-1])*100\n",
    "    sim_SCH2 = CH2.iloc[-1]/(CH4.iloc[0] - CH4.iloc[-1])*100\n",
    "    sim_SCH3 = CH3.iloc[-1]/(CH4.iloc[0] - CH4.iloc[-1])*100\n",
    "    sim_SC2H3 = 2*C2H3.iloc[-1]/(CH4.iloc[0] - CH4.iloc[-1])*100\n",
    "    sim_SC2H5 = 2*C2H5.iloc[-1]/(CH4.iloc[0] - CH4.iloc[-1])*100\n",
    "    sim_SC3H5 = 3*C3H5.iloc[-1]/(CH4.iloc[0] - CH4.iloc[-1])*100\n",
    "    sim_SC3H7 = 3*C3H7.iloc[-1]/(CH4.iloc[0] - CH4.iloc[-1])*100\n",
    "    sim_SC4H9 = 4*C4H9.iloc[-1]/(CH4.iloc[0] - CH4.iloc[-1])*100\n",
    "\n",
    "    sim = []\n",
    "    sim.append(sim_XCH4)\n",
    "    sim.append(sim_SH2)\n",
    "    sim.append(sim_SC2H6)\n",
    "    sim.append(sim_SC2H4)\n",
    "    sim.append(sim_SC2H2)\n",
    "    sim.append(sim_SC3H8)\n",
    "    sim.append(sim_SC3H6)\n",
    "    sim.append(sim_SC4H10+sim_SC5H12)\n",
    "    sim.append(sim_SH)\n",
    "    sim.append(sim_SCH)\n",
    "    sim.append(sim_SCH2)\n",
    "    sim.append(sim_SCH3)\n",
    "    sim.append(sim_SC2H3)\n",
    "    sim.append(sim_SC2H5)\n",
    "    sim.append(sim_SC3H5)\n",
    "    sim.append(sim_SC3H7)\n",
    "    sim.append(sim_SC4H9)\n",
    "\n",
    "    \n",
    "\n",
    "    err =  float(np.sum((np.asarray(exp) - np.asarray(sim))**2))\n",
    "    \n",
    "    return err, top_rate, sim, df_cd['Time [s]'].iloc[-1], sim_XCH4, sim_SC2H6, sim_SC2H4, sim_SC2H2\n",
    "\n",
    "    "
   ]
  },
  {
   "cell_type": "code",
   "execution_count": 28,
   "metadata": {},
   "outputs": [],
   "source": [
    "# initial variable sset sampling: latin_hypercube sampling\n",
    "def latin_hypercube_sampling(bounds, n_samples):\n",
    "    return np.random.uniform(\n",
    "        low = np.array([b[0] for b in bounds]),\n",
    "        high = np.array([b[1] for b in bounds]),\n",
    "        size = (n_samples, len(bounds))\n",
    "    )"
   ]
  },
  {
   "cell_type": "code",
   "execution_count": 29,
   "metadata": {},
   "outputs": [],
   "source": [
    "# update kinet.inp\n",
    "def update_kinet(samples,index):\n",
    "    with open(f'kinet.inp','r') as file:\n",
    "        lines = file.readlines()\n",
    "        file.close()\n",
    "    new_lines=[]\n",
    "    for i in range(316):\n",
    "        new_value = 10**samples[i]\n",
    "        new_value2 = f'{new_value:.4e}'.replace('e-0','e-').replace('e+00','e0').replace('e+0','e+').replace('e','d')\n",
    "        new_line = f'$ double precision, parameter :: f{i} = {new_value2}\\n'\n",
    "        new_lines.append(new_line)\n",
    "    new_inp = lines[:18] + new_lines + lines[334:]\n",
    "    with open(f'./kinet{index}.inp', 'w') as file:\n",
    "        file.writelines(new_inp)"
   ]
  },
  {
   "cell_type": "code",
   "execution_count": 30,
   "metadata": {},
   "outputs": [],
   "source": [
    "def GP_Model(X,y):\n",
    "    avg_pre_Y = sum(y)/len(y)\n",
    "    X_range = X.max(axis=0) - X.min(axis=0)\n",
    "    # Gaussian Process Surrogate Model\n",
    "    constant_kernel = ConstantKernel(constant_value=1.0, constant_value_bounds=(1e-5,1e5))\n",
    "    RBF_kernel = RBF(1.0, length_scale_bounds = (1e-5,1e5))\n",
    "    kernel = constant_kernel * RBF_kernel\n",
    "\n",
    "    gp_model = GaussianProcessRegressor(kernel=kernel, n_restarts_optimizer=10, alpha=1e-6)\n",
    "    gp_model.fit(X,y)\n",
    "    return gp_model"
   ]
  },
  {
   "cell_type": "code",
   "execution_count": 31,
   "metadata": {},
   "outputs": [],
   "source": [
    "# Expected Improvement\n",
    "def EI(X, gp, y_best, xi):\n",
    "    mu, sigma = gp.predict(X, return_std=True)\n",
    "    sigma = sigma.reshape(-1,1)\n",
    "    improvement = mu - y_best - xi\n",
    "    Z = improvement / sigma\n",
    "    ei = improvement * norm.cdf(Z) + sigma * norm.pdf(Z)\n",
    "    return ei"
   ]
  },
  {
   "cell_type": "code",
   "execution_count": 32,
   "metadata": {},
   "outputs": [],
   "source": [
    "# Bayesian Optimization for minimization\n",
    "def BO(gp, bounds, n_iter, X, y, exp_result):\n",
    "    \"\"\"Perform Bayesian Optimization using EI for minimization.\"\"\"\n",
    "    for i in range(n_iter):\n",
    "        y_best = np.min(y)  # 현재까지의 최소값\n",
    "        \n",
    "        def random_search(bounds, gp, y_best, num_samples=1000, xi=0.01):\n",
    "            candidate_points = np.random.uniform(\n",
    "                low = np.array(bounds)[:,0],\n",
    "                high = np.array(bounds)[:, 1],\n",
    "                size = (num_samples, len(bounds))\n",
    "            )\n",
    "\n",
    "            ei_values = EI(candidate_points, gp, y_best, xi = xi)\n",
    "\n",
    "            best_index = np.argmax(ei_values)\n",
    "            return candidate_points[best_index]\n",
    "        \n",
    "        x_next = random_search(bounds, gp, y_best)\n",
    "\n",
    "        # 새로운 관측값 추가 (사용자 정의 시뮬레이션 함수 호출 필요)\n",
    "        para_index = [12,13,14,24,134,220,34,276,273,223,46,116,226,313,315,22]\n",
    "        paraset = -16 * np.ones(316)\n",
    "        paraset[list(range(12))] = 0\n",
    "        paraset[list(range(90,102))] = 0\n",
    "        for j in range(len(para_index)):\n",
    "            paraset[para_index[j]] = x_next[j]\n",
    "     \n",
    "\n",
    "        update_kinet(paraset,i+20)\n",
    "        inp_path = f'kinet{i+20}.inp\\n'\n",
    "        exe_path = 'run_plasRxn_v2.exe'\n",
    "        run_prep(inp_path)\n",
    "        compile_zdp(exe_path)\n",
    "        run_exe(exe_path)\n",
    "        y_next, _, _, t_time, XCH4, SC2H6, SC2H4, SC2H2 = cal_error(exp_result)  # 사용자의 실제 목적 함수\n",
    "\n",
    "        # 데이터셋 업데이트\n",
    "        if t_time > 2.1:\n",
    "            X = np.vstack([X, x_next])\n",
    "            y = np.append(y, y_next)\n",
    "            \n",
    "            bnds_low = [i[0] for i in bounds]\n",
    "            bnds_high = [i[1] for i in bounds]\n",
    "\n",
    "            for j in range(len(bounds)):\n",
    "                det = x_next[j]*1.5\n",
    "                if det > bnds_high[j]:\n",
    "                    bnds_high[j] = det\n",
    "                elif det < bnds_low[j]:\n",
    "                    bnds_low[j] = det\n",
    "                else:\n",
    "                    pass\n",
    "            bounds = [[bnds_low[j],bnds_high[j]] for j in range(len(bnds_low))]\n",
    "\n",
    "            np.savetxt('X_final.csv', X, delimiter=',', fmt='%f')\n",
    "            np.savetxt('y_final.csv', y, delimiter=',', fmt='%f')\n",
    "        else:\n",
    "            X = np.vstack([X, x_next])\n",
    "            y = np.append(y, 20000)\n",
    "\n",
    "        \n",
    "        # Surrogate 모델 업데이트\n",
    "        gp = GP_Model(X, y)\n",
    "        clear_output()\n",
    "        print(f'''현재 iteration: {i}, dataset 크기: {len(X)}, 현재 최소값: {y_best}, 이번 y: {y[-1]}\\n \n",
    "              전환율: {XCH4}, C2H6: {SC2H6}, C2H4: {SC2H4}, C2H2: {SC2H2}''',)\n",
    "    return X, y"
   ]
  },
  {
   "cell_type": "code",
   "execution_count": 33,
   "metadata": {},
   "outputs": [],
   "source": [
    "# Optimization\n",
    "df_set = pd.read_csv('parameter_set.csv')\n",
    "para_index = [12,13,14,24,134,220,34,276,273,223,46,116,226,313,315,22]\n",
    "problem = {\n",
    "    'num_vars': len(para_index),\n",
    "    'bounds': [[-1,1]] * len(para_index)\n",
    "}\n",
    "\n",
    "initial_samples = latin_hypercube_sampling(problem['bounds'],20)"
   ]
  },
  {
   "cell_type": "code",
   "execution_count": 34,
   "metadata": {},
   "outputs": [],
   "source": [
    "db_error = []\n",
    "db_paraset = []\n",
    "db_toprate = []\n",
    "db_leng = []\n",
    "result_list = ['XCH4','SH2','SC2H6','SC2H4','SC2H2','SC3H8','SC3H6','SC4+','SH','SCH','SCH2','SCH3','SC2H3','SC2H5','SC3H5','SC3H7','SC4H9']\n",
    "exp_result = [16.1,77.03,13,1.535,1.302,3.499,0.468,0.423+0.635,1e-3,1e-3,1e-3,1e-3,1e-3,1e-3,1e-3,1e-3,1e-3]"
   ]
  },
  {
   "cell_type": "code",
   "execution_count": 35,
   "metadata": {},
   "outputs": [],
   "source": [
    "for i in range(len(initial_samples)):\n",
    "    inp_path = f'kinet{i}.inp\\n'\n",
    "    exe_path = 'run_plasRxn_v2.exe'\n",
    "\n",
    "    print(f'run {i}')\n",
    "\n",
    "    paraset = -16 * np.ones(316)\n",
    "    paraset[list(range(12))] = 0\n",
    "    paraset[list(range(90,102))] = 0\n",
    "    for j in range(len(para_index)):\n",
    "        paraset[para_index[j]] = initial_samples[i][j]\n",
    "\n",
    "    update_kinet(paraset,i)\n",
    "    prep_process = run_prep(inp_path)\n",
    "    prep_process.wait()\n",
    "    compile_zdp(exe_path)\n",
    "    exe_process = run_exe(exe_path)\n",
    "    exe_process.wait()\n",
    "    error, top_rate, sim_result, total_time,_,_,_,_ = cal_error(exp_result)\n",
    "    if float(total_time) > 2.1:\n",
    "        db_error.append(error)\n",
    "        db_paraset.append(initial_samples[i])\n",
    "        db_toprate.append(top_rate)\n",
    "    clear_output()"
   ]
  },
  {
   "cell_type": "code",
   "execution_count": 36,
   "metadata": {},
   "outputs": [],
   "source": [
    "with open('db_error.txt', 'w') as file:\n",
    "    for i in range(len(db_error)):\n",
    "        file.writelines(str(db_error[i]))\n",
    "        file.writelines('\\n')\n",
    "    file.close()\n",
    "with open('db_paraset.txt', 'w') as file:\n",
    "    for i in range(len(db_paraset)):\n",
    "        file.writelines(str(db_paraset[i].tolist()))\n",
    "        file.writelines('\\n')\n",
    "    file.close()"
   ]
  },
  {
   "cell_type": "code",
   "execution_count": 37,
   "metadata": {},
   "outputs": [],
   "source": [
    "# Load Data\n",
    "with open('db_error.txt', 'r') as file:\n",
    "    lines_error = file.readlines()\n",
    "    file.close()\n",
    "with open('db_paraset.txt', 'r') as file:\n",
    "    lines_paraset = file.readlines()\n",
    "    file.close()\n",
    "pre_X = np.array([ast.literal_eval(i) for i in lines_paraset])\n",
    "pre_Y = np.array([float(i[:-1]) for i in lines_error])"
   ]
  },
  {
   "cell_type": "code",
   "execution_count": 38,
   "metadata": {},
   "outputs": [],
   "source": [
    "# Main Reaction\n",
    "rank_toprate = []\n",
    "db_toprate[0].index[0]\n",
    "for i in range(len(db_toprate)):\n",
    "    rank_set = []\n",
    "    for j in range(len(db_toprate[0])):\n",
    "        rank_set.append(int(df_set.loc[df_set['Reaction'] == db_toprate[i].index[j], 'index'].values[0]))\n",
    "    rank_toprate.append(rank_set)\n"
   ]
  },
  {
   "cell_type": "code",
   "execution_count": 39,
   "metadata": {},
   "outputs": [],
   "source": [
    "with open('rank_toprate.txt', 'w') as file:\n",
    "    for i in range(len(rank_toprate)):\n",
    "        file.writelines(str(rank_toprate[i]))\n",
    "        file.writelines('\\n')\n",
    "    file.close()"
   ]
  },
  {
   "cell_type": "code",
   "execution_count": 40,
   "metadata": {},
   "outputs": [
    {
     "data": {
      "text/plain": [
       "array([[ 0.05952356, -0.15311981, -0.56265202,  0.21089627,  0.35857878,\n",
       "         0.60801783,  0.32707047, -0.72922154,  0.95200966,  0.31575423,\n",
       "         0.2354978 ,  0.81955402, -0.8928639 ,  0.41795424,  0.43543812,\n",
       "        -0.48743918],\n",
       "       [ 0.79207736,  0.5571504 ,  0.55065129, -0.32045366,  0.64421748,\n",
       "        -0.46950403,  0.61638327,  0.13643592, -0.52438181, -0.83957163,\n",
       "        -0.24076423,  0.42635753,  0.93842324, -0.40900623,  0.82911391,\n",
       "         0.79702677],\n",
       "       [ 0.04705247, -0.62300341, -0.89800561,  0.46883491,  0.40102903,\n",
       "         0.776093  , -0.32102094,  0.23369664, -0.79616005,  0.07563829,\n",
       "        -0.74531154,  0.73850337,  0.37844658,  0.56254517, -0.07953695,\n",
       "         0.57092188],\n",
       "       [-0.5953217 ,  0.33244878, -0.30172234,  0.18627058,  0.04846379,\n",
       "         0.14676546, -0.96322823, -0.04773465,  0.01987877, -0.95767309,\n",
       "        -0.16722619,  0.51295978,  0.03233015,  0.11568853,  0.74763098,\n",
       "         0.24091051],\n",
       "       [ 0.18770962,  0.68865946, -0.59038407,  0.38573038,  0.4657513 ,\n",
       "         0.96224064,  0.10205989, -0.4953799 , -0.68494927,  0.29960675,\n",
       "        -0.18701887,  0.72193982,  0.59859403,  0.60336599, -0.61542135,\n",
       "         0.71781047],\n",
       "       [-0.57665649, -0.63641845,  0.48376961, -0.53243895, -0.38691746,\n",
       "         0.29277954, -0.76815792,  0.94589008, -0.38742011,  0.40455709,\n",
       "         0.39199968, -0.0054578 ,  0.73476787,  0.09816167,  0.06319007,\n",
       "        -0.13565607],\n",
       "       [-0.79905164,  0.11377608,  0.03327903, -0.04727641, -0.20391603,\n",
       "        -0.88280619, -0.39250646, -0.38932613,  0.46343954, -0.02437128,\n",
       "         0.28687789,  0.27643726, -0.1361414 ,  0.6950705 ,  0.39623738,\n",
       "         0.31413089],\n",
       "       [-0.0614511 , -0.11010732, -0.12630707,  0.00452525, -0.60087117,\n",
       "         0.7533802 ,  0.9628634 ,  0.31551977, -0.15670833,  0.42639993,\n",
       "        -0.85640954,  0.48468221,  0.81754102, -0.33324498, -0.9138056 ,\n",
       "         0.66426156],\n",
       "       [-0.14640013, -0.52106217, -0.99731572, -0.42025644,  0.03927565,\n",
       "         0.47911086,  0.33735993,  0.74618442,  0.3726225 ,  0.67478892,\n",
       "        -0.04027973,  0.40064108,  0.91294821,  0.36254388, -0.84534542,\n",
       "         0.44287208],\n",
       "       [-0.03178438, -0.84522137, -0.1370968 , -0.44122553, -0.36178731,\n",
       "        -0.99366213,  0.48363293, -0.76693143, -0.06879615,  0.84402654,\n",
       "        -0.32779164, -0.06670182,  0.43843396,  0.21800803,  0.15049878,\n",
       "         0.94211241]])"
      ]
     },
     "execution_count": 40,
     "metadata": {},
     "output_type": "execute_result"
    }
   ],
   "source": [
    "pre_X"
   ]
  },
  {
   "cell_type": "code",
   "execution_count": 41,
   "metadata": {},
   "outputs": [
    {
     "name": "stderr",
     "output_type": "stream",
     "text": [
      "c:\\Users\\USER\\miniconda3\\envs\\plaskinsol\\Lib\\site-packages\\sklearn\\gaussian_process\\kernels.py:452: ConvergenceWarning: The optimal value found for dimension 0 of parameter k1__constant_value is close to the specified upper bound 100000.0. Increasing the bound and calling fit again may find a better value.\n",
      "  warnings.warn(\n"
     ]
    }
   ],
   "source": [
    "gp_model = GP_Model(pre_X,pre_Y)"
   ]
  },
  {
   "cell_type": "code",
   "execution_count": null,
   "metadata": {},
   "outputs": [
    {
     "name": "stdout",
     "output_type": "stream",
     "text": [
      "현재 iteration: 10, dataset 크기: 21, 현재 최소값: 4811.577688456466, 이번 y: 20000.0\n",
      " \n",
      "              전환율: -4.261414829627826e-06, C2H6: -9.403316429406197e-07, C2H4: -3.380858538666581e-11, C2H2: -4.0264007961446317e-20\n",
      "check the run of preprocessor\n"
     ]
    }
   ],
   "source": [
    "bounds = [[-1,1]] * len(para_index)\n",
    "X_final, y_final = BO(gp_model, bounds, 10000,pre_X,pre_Y,exp_result)\n"
   ]
  },
  {
   "cell_type": "code",
   "execution_count": null,
   "metadata": {},
   "outputs": [],
   "source": [
    "np.savetxt('X_final.csv', X_final, delimiter=',', fmt='%f')\n",
    "np.savetxt('y_final.csv', y_final, delimiter=',', fmt='%f')"
   ]
  },
  {
   "cell_type": "code",
   "execution_count": null,
   "metadata": {},
   "outputs": [
    {
     "data": {
      "text/plain": [
       "array([8.06319318, 8.54267413, 8.00660279, 9.87233875, 8.7643123 ,\n",
       "       8.89084656])"
      ]
     },
     "execution_count": 58,
     "metadata": {},
     "output_type": "execute_result"
    }
   ],
   "source": [
    "pre_Y"
   ]
  },
  {
   "cell_type": "code",
   "execution_count": null,
   "metadata": {},
   "outputs": [],
   "source": []
  },
  {
   "cell_type": "code",
   "execution_count": null,
   "metadata": {},
   "outputs": [],
   "source": []
  }
 ],
 "metadata": {
  "kernelspec": {
   "display_name": "plaskinsol",
   "language": "python",
   "name": "python3"
  },
  "language_info": {
   "codemirror_mode": {
    "name": "ipython",
    "version": 3
   },
   "file_extension": ".py",
   "mimetype": "text/x-python",
   "name": "python",
   "nbconvert_exporter": "python",
   "pygments_lexer": "ipython3",
   "version": "3.12.7"
  }
 },
 "nbformat": 4,
 "nbformat_minor": 2
}
