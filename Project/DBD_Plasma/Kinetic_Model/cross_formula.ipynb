{
 "cells": [
  {
   "cell_type": "code",
   "execution_count": null,
   "metadata": {},
   "outputs": [],
   "source": [
    "### Overview\n",
    "# crossA_DB에서 formula에 +가 빠져있는 경우 집어넣어주는 코드"
   ]
  },
  {
   "cell_type": "code",
   "execution_count": null,
   "metadata": {},
   "outputs": [],
   "source": [
    "import re"
   ]
  },
  {
   "cell_type": "code",
   "execution_count": 16,
   "metadata": {},
   "outputs": [],
   "source": [
    "def cross_DB(num):\n",
    "    index_ca = num    # cross area data index\n",
    "    path = f'./crossA_DB/{index_ca}.txt'\n",
    "\n",
    "    # Reading a text file\n",
    "    with open(path, 'r') as file:\n",
    "        lines = file.readlines()\n",
    "\n",
    "    # PROCESS 줄 찾기 및 수정\n",
    "    updated_lines = []\n",
    "    for line in lines:\n",
    "        if line.startswith(\"PROCESS:\"):\n",
    "            # PROCESS 줄에서 formula 추출\n",
    "            # \"PROCESS:\" 이후 쉼표(,) 전까지 추출\n",
    "            formula = line.split(\":\")[1].split(\",\")[0].strip()\n",
    "\n",
    "            # 화학식 수정: 원소 사이에 '+' 추가\n",
    "            updated_formula = re.sub(r'(?<=[A-Za-z0-9]) (?=[A-Za-z])', ' + ', formula)\n",
    "\n",
    "            # 수정된 formula로 원래 줄을 업데이트\n",
    "            line = line.replace(formula, updated_formula)\n",
    "        # 수정된 줄 또는 원본 줄 추가\n",
    "        updated_lines.append(line)\n",
    "\n",
    "    # 수정된 내용을 파일에 다시 쓰기\n",
    "    with open(path, \"w\") as file:\n",
    "        file.writelines(updated_lines)"
   ]
  },
  {
   "cell_type": "code",
   "execution_count": null,
   "metadata": {},
   "outputs": [],
   "source": [
    "for num in range(183):\n",
    "    cross_DB(num)"
   ]
  }
 ],
 "metadata": {
  "kernelspec": {
   "display_name": "Python 3",
   "language": "python",
   "name": "python3"
  },
  "language_info": {
   "codemirror_mode": {
    "name": "ipython",
    "version": 3
   },
   "file_extension": ".py",
   "mimetype": "text/x-python",
   "name": "python",
   "nbconvert_exporter": "python",
   "pygments_lexer": "ipython3",
   "version": "3.12.3"
  }
 },
 "nbformat": 4,
 "nbformat_minor": 2
}
