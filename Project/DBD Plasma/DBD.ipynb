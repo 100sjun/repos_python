{
 "cells": [
  {
   "cell_type": "code",
   "execution_count": 3500,
   "metadata": {},
   "outputs": [],
   "source": [
    "import numpy as np\n",
    "import matplotlib.pyplot as plt\n",
    "from scipy import special\n",
    "from scipy.integrate import odeint\n",
    "from scipy import constants"
   ]
  },
  {
   "cell_type": "code",
   "execution_count": 3501,
   "metadata": {},
   "outputs": [],
   "source": [
    "# Conditions\n",
    "V0 = 750 # Vmax (V)\n",
    "f0 = 50000 # RF frequency (Hz)\n",
    "w0 = 2 * np.pi * f0 # Angular frequency\n",
    "dgap = 1e-4 # gap length (m)\n",
    "ddiel = 1e-4 # dielectric thickness (m)\n",
    "dplate = 0.1 # Plate diameter (m)\n",
    "As = 0.25 * np.pi * dplate**2 # Plate area (m2)\n",
    "P = 1 # pressure (atm)\n",
    "T = 400 # Temperature (K)"
   ]
  },
  {
   "cell_type": "code",
   "execution_count": 3502,
   "metadata": {},
   "outputs": [],
   "source": [
    "# Parameters\n",
    "epsr = 10 # relative permittivity\n",
    "eps0 = 8.8541878128e-12 # vacuum permittivity (F/m)\n",
    "type_EEDF = 1 # 1:Maxwellian EEDF, 2:Druyvesteyn EEDF, 1~2: Generalized EEDF\n",
    "me = constants.electron_mass # electron mass (kg)\n",
    "qe = constants.elementary_charge # electron charge (C)\n",
    "NA = constants.Avogadro # Avogadro number (1/mol)\n",
    "R = 8.2057366e-5 # gas constant (m3-atm/K/mol)\n",
    "kb = constants.Boltzmann # Boltzmann constant (J/K)\n",
    "F = 96485.33289 #Faraday constant (C/mol)"
   ]
  },
  {
   "cell_type": "code",
   "execution_count": 3503,
   "metadata": {},
   "outputs": [],
   "source": [
    "# Properties\n",
    "Mw_AR = 40/1000 # kg/mo"
   ]
  },
  {
   "cell_type": "code",
   "execution_count": 3504,
   "metadata": {},
   "outputs": [],
   "source": [
    "# Electron Collision Reaction Source Treatment\n",
    "with open('Ar_xsecs.txt', 'r') as file:\n",
    "    data = file.read()\n",
    "    file.close()"
   ]
  },
  {
   "cell_type": "code",
   "execution_count": 3505,
   "metadata": {},
   "outputs": [],
   "source": [
    "# Cross-section area Data Generation\n",
    "rawD = data.split('\\n')\n",
    "rawD = [x for x in rawD if x != '']\n",
    "\n",
    "reaction_index = []\n",
    "for i in range(len(rawD)):\n",
    "    if rawD[i].startswith('Type'):\n",
    "        reaction_index.append(i)\n",
    "\n",
    "R_type = list(range(len(reaction_index)))\n",
    "R_eqn = list(range(len(reaction_index)))\n",
    "R_Eloss = list(range(len(reaction_index)))\n",
    "R_ext = list(range(len(reaction_index)))\n",
    "R_Elevel = []\n",
    "R_crossA = []\n",
    "for i, name in enumerate(reaction_index):\n",
    "    R_type[i] = rawD[name].split(' ')[1]\n",
    "    R_eqn[i] = rawD[name+1]\n",
    "    R_Eloss[i] = float(rawD[name+2].split(' ')[0])\n",
    "    if R_type[i] == 'EXCITATION':\n",
    "        R_ext[i] = float(rawD[name+2].split(' ')[2])\n",
    "    else:\n",
    "        R_ext[i] = 0\n",
    "    if i != len(reaction_index) - 1:\n",
    "        data_range = list(range(reaction_index[i]+5,reaction_index[i+1]-1))\n",
    "        Elevel = list(range(len(data_range)))\n",
    "        crossA = list(range(len(data_range)))\n",
    "        iteration = 0\n",
    "        for j in data_range:\n",
    "            Elevel[iteration] = float(rawD[j].split(' ')[2])\n",
    "            crossA[iteration] = float(rawD[j].split(' ')[4])\n",
    "            iteration += 1\n",
    "        R_Elevel.append(np.array(Elevel))\n",
    "        R_crossA.append(np.array(crossA))\n",
    "    else:\n",
    "        data_range = list(range(reaction_index[i]+5,len(rawD)-1))\n",
    "        Elevel = list(range(len(data_range)))\n",
    "        crossA = list(range(len(data_range)))\n",
    "        iteration = 0\n",
    "        for j in data_range:\n",
    "            Elevel[iteration] = float(rawD[j].split(' ')[2])\n",
    "            crossA[iteration] = float(rawD[j].split(' ')[4])\n",
    "            iteration += 1\n",
    "        R_Elevel.append(Elevel)\n",
    "        R_crossA.append(crossA)\n"
   ]
  },
  {
   "cell_type": "code",
   "execution_count": 3506,
   "metadata": {},
   "outputs": [],
   "source": [
    "# Cross-section area interpolation function\n",
    "from scipy import interpolate\n",
    "def create_cross_section_interpolator(Elevel,crossA):\n",
    "    def non_negative_interp(x):\n",
    "        return np.maximum(0, interpolate.interp1d(Elevel, crossA, kind='cubic', fill_value='extrapolate')(x))\n",
    "    return non_negative_interp\n",
    "\n",
    "R_cross_interpolator = list(range(len(reaction_index)))\n",
    "for i in range(len(reaction_index)):\n",
    "    R_cross_interpolator[i] = create_cross_section_interpolator(R_Elevel[i],R_crossA[i])\n",
    "\n",
    "def calculate_cross_section(interpolator, energy):\n",
    "    return interpolator(energy)"
   ]
  },
  {
   "cell_type": "code",
   "execution_count": 3507,
   "metadata": {},
   "outputs": [],
   "source": [
    "# upper incomplete gamma function\n",
    "from scipy import special\n",
    "\n",
    "def upper_incomplete_gamma(a):\n",
    "    return special.gamma(a)\n",
    "\n",
    "# EEDF calculation\n",
    "def calculate_EEDF(type_EEDF,E,E_mean):\n",
    "    g = type_EEDF\n",
    "    beta1 = (upper_incomplete_gamma(5/(2*g)))**(3/2)*(upper_incomplete_gamma(3/(2*g)))**(-5/2)\n",
    "    beta2 = upper_incomplete_gamma(5/(2*g))*upper_incomplete_gamma(3/(2*g))**(-1)\n",
    "    return g*beta1*E_mean**(-3/2)*np.exp(-(E*beta2/E_mean)**g)"
   ]
  },
  {
   "cell_type": "code",
   "execution_count": 3508,
   "metadata": {},
   "outputs": [],
   "source": [
    "e_grid = np.arange(0,100,0.01)"
   ]
  },
  {
   "cell_type": "code",
   "execution_count": 3509,
   "metadata": {},
   "outputs": [],
   "source": [
    "# Rate Expression\n",
    "def Rate_coeff(E_mean):\n",
    "    R_coeff = list(range(len(R_Elevel)))\n",
    "    for i in range(len(R_coeff)):\n",
    "        EEDF = calculate_EEDF(type_EEDF,e_grid, E_mean)\n",
    "        crossA = calculate_cross_section(R_cross_interpolator[i],e_grid)\n",
    "        R_coeff[i] = np.sqrt(2 * qe / me) * np.trapz(EEDF * crossA * e_grid,e_grid)*NA\n",
    "    return R_coeff\n"
   ]
  },
  {
   "cell_type": "code",
   "execution_count": 3510,
   "metadata": {},
   "outputs": [],
   "source": [
    "# Detailed Balance for de-excitation process\n",
    "index_excitation = [i for i, name in enumerate(R_type) if name == 'EXCITATION']\n",
    "for i in index_excitation:\n",
    "    eloss = R_Eloss[i]\n",
    "    e = R_Elevel[i] - eloss + 1e-15\n",
    "    sig = calculate_cross_section(R_cross_interpolator[i],R_Elevel[i])\n",
    "    R_type.append('DE-EXCITATION')\n",
    "    R_Elevel.append(e)\n",
    "    R_crossA.append(1/R_ext[i]*(e+eloss)/e*sig)\n",
    "    R_Eloss.append(-eloss)\n",
    "    R_eqn.append(f'(rev){R_eqn[i]}')\n",
    "\n",
    "iter = list(range(len(reaction_index),len(R_eqn)))\n",
    "\n",
    "for j in iter:\n",
    "    R_cross_interpolator.append(create_cross_section_interpolator(R_Elevel[j],R_crossA[j]))"
   ]
  },
  {
   "cell_type": "code",
   "execution_count": 3511,
   "metadata": {},
   "outputs": [],
   "source": [
    "# Gas Phase Reaction\n",
    "k_gas = []\n",
    "# Ars + Ars => e + Ar + Ar+\n",
    "R_type.append('Pooling')\n",
    "R_eqn.append('Ars+Ars=>e+Ar+Ar1p')\n",
    "R_Eloss.append(0)\n",
    "k_gas.append(337340000) # forward rate constant (m3/s/mol)\n",
    "# Ars + Ars => e + Ar + Ar+\n",
    "R_type.append('Quenching')\n",
    "R_eqn.append('Ars+Ar=>Ar+Ar')\n",
    "R_Eloss.append(0)\n",
    "k_gas.append(1807) # forward rate constant (m3/mol/s)"
   ]
  },
  {
   "cell_type": "code",
   "execution_count": 3512,
   "metadata": {},
   "outputs": [],
   "source": [
    "def calculate_reaction_rates(R_eqn, k, concentrations):\n",
    "    reaction_rates = []\n",
    "    for i, eqn in enumerate(R_eqn):\n",
    "        # 반응물과 생성물 분리\n",
    "        reactants, products = eqn.split('=>')\n",
    "        if 'rev' in reactants:\n",
    "            reactants = products\n",
    "        # 반응 속도 계산\n",
    "        rate = k[i]\n",
    "        for reactant in reactants.split('+'):\n",
    "            reactant = reactant.strip()\n",
    "            if reactant == 'e':\n",
    "                rate *= concentrations['e']\n",
    "            elif reactant == 'Ar':\n",
    "                rate *= concentrations['Ar']\n",
    "            elif reactant == 'Ars':\n",
    "                rate *= concentrations['Ars']\n",
    "            elif reactant == 'Ar1p':\n",
    "                rate *= concentrations['Ar1p']\n",
    "        \n",
    "        reaction_rates.append(rate)\n",
    "    \n",
    "    return reaction_rates"
   ]
  },
  {
   "cell_type": "code",
   "execution_count": 3513,
   "metadata": {},
   "outputs": [],
   "source": [
    "# plasma model\n",
    "def model(y, t):\n",
    "    n_e, n_Ar, n_Ars, n_Ar1p, E_mean, Q_diel = y\n",
    "    # calculate the voltage and electric field\n",
    "    V_applied = -V0 * np.sin(w0 * t)\n",
    "    V_diel = V_applied * (ddiel / epsr) / (dgap + 2*ddiel/epsr)\n",
    "    V_gap = V_applied - 2 * V_diel\n",
    "    E = V_gap / dgap\n",
    "\n",
    "    # calculate elastic collision energy loss\n",
    "    R_Elevel[0] = 2*me*NA/Mw_AR*(E_mean - 1.5*T*kb/qe)\n",
    "\n",
    "    # Component molar concentration\n",
    "    conc = {\n",
    "        'e': n_e/NA,\n",
    "        'Ar': n_Ar/NA,\n",
    "        'Ars': n_Ars/NA,\n",
    "        'Ar1p': n_Ar1p/NA\n",
    "    }\n",
    "    # reaction rate\n",
    "    r = calculate_reaction_rates(R_eqn, Rate_coeff(E_mean)+k_gas,conc)\n",
    "\n",
    "    # Inelastic collision frequency\n",
    "    nue = (r[0] + r[1] + r[2] + r[3] + r[4]) / (n_e/NA)\n",
    "    \n",
    "    # mass balance\n",
    "    dn_e_dt = NA*(r[2] + r[3] + r[5])\n",
    "    dn_Ar_dt =  NA*-(r[1] - r[2] + r[4] + r[5] + r[6])\n",
    "    dn_Ars_dt =  NA*(r[1] - r[3] - r[4] - 2*r[5] - r[6])\n",
    "    dn_Ar1p_dt =  NA*(r[2] + r[3] + r[5])\n",
    "\n",
    "    # energy balance\n",
    "    dE_mean_dt = - sum([r[i]*NA * R_Eloss[i] for i in range(len(r))])\n",
    "    \n",
    "    # 유전체 충전\n",
    "    \n",
    "    dQ_diel_dt = 0\n",
    "\n",
    "\n",
    "    return [dn_e_dt, dn_Ar_dt, dn_Ars_dt, dn_Ar1p_dt, dE_mean_dt, dQ_diel_dt]"
   ]
  },
  {
   "cell_type": "code",
   "execution_count": 3514,
   "metadata": {},
   "outputs": [],
   "source": [
    "# initialization\n",
    "n_e0 = 1e6\n",
    "n_Ar0 = P/R/T*0.99999999999*NA\n",
    "n_Ars0 = P/R/T*(1-0.99999999999)*NA\n",
    "n_Ar1p0 = 1e6\n",
    "E_mean0 = 5\n",
    "Q_diel0 = 0"
   ]
  },
  {
   "cell_type": "code",
   "execution_count": 3515,
   "metadata": {},
   "outputs": [
    {
     "ename": "NameError",
     "evalue": "name 'dE_mena_dt' is not defined",
     "output_type": "error",
     "traceback": [
      "\u001b[1;31m---------------------------------------------------------------------------\u001b[0m",
      "\u001b[1;31mNameError\u001b[0m                                 Traceback (most recent call last)",
      "Cell \u001b[1;32mIn[3515], line 51\u001b[0m\n\u001b[0;32m     48\u001b[0m den_dt \u001b[38;5;241m=\u001b[39m gam_e \u001b[38;5;241m-\u001b[39m Sen\n\u001b[0;32m     49\u001b[0m dE_mean_dt \u001b[38;5;241m=\u001b[39m den_dt\u001b[38;5;241m/\u001b[39mn_e0\n\u001b[1;32m---> 51\u001b[0m \u001b[38;5;28mprint\u001b[39m(\u001b[38;5;124m\"\u001b[39m\u001b[38;5;132;01m%e\u001b[39;00m\u001b[38;5;124m\"\u001b[39m \u001b[38;5;241m%\u001b[39m\u001b[43mdE_mena_dt\u001b[49m)\n",
      "\u001b[1;31mNameError\u001b[0m: name 'dE_mena_dt' is not defined"
     ]
    }
   ],
   "source": [
    "# calculate elastic collision energy loss\n",
    "R_Eloss[0] = 2*me*NA/Mw_AR*(E_mean0 - 1.5*T*kb/qe)\n",
    "\n",
    "# electron energy\n",
    "en = n_e0 * E_mean0\n",
    "\n",
    "# Component molar concentration\n",
    "conc = {\n",
    "    'e': n_e0/NA,\n",
    "    'Ar': n_Ar0/NA,\n",
    "    'Ars': n_Ars0/NA,\n",
    "    'Ar1p': n_Ar1p0/NA\n",
    "}\n",
    "# reaction rate\n",
    "r = calculate_reaction_rates(R_eqn, Rate_coeff(E_mean0)+k_gas,conc)\n",
    "\n",
    "# Inelastic collision frequency\n",
    "nue = 0\n",
    "for i in range(5):\n",
    "    nue += r[i] / (n_e0/NA)\n",
    "\n",
    "# Collisional Power Loss\n",
    "Sen = 0\n",
    "for i in range(5):\n",
    "    Sen += -r[i] * R_Eloss[i] * F\n",
    "\n",
    "# Space Charge Density\n",
    "scharge = -conc['e'] * F + conc['Ar1p'] * F\n",
    "\n",
    "# mass balance\n",
    "dn_e_dt = (r[2] + r[3] + r[5])*NA\n",
    "dn_Ar_dt = (-r[1] - r[2] + r[4] + r[5] + r[6])*NA\n",
    "dn_Ars_dt = (r[1] - r[3] - r[4] - 2*r[5] - r[6])*NA\n",
    "dn_Ar1p_dt = (r[2] + r[3] + r[5])*NA\n",
    "\n",
    "# electron mobility\n",
    "mu_e = qe / (me*nue)\n",
    "\n",
    "# electron energy mobility\n",
    "mu_ee = 5/3*mu_e\n",
    "\n",
    "# electron temperature\n",
    "Te = 2*en/(3*n_e0)\n",
    "\n",
    "# energy gain from electric field\n",
    "gam_e = -mu_e*V_applied[0]/dgap*n_e0\n",
    "\n",
    "den_dt = gam_e - Sen\n",
    "dE_mean_dt = den_dt/n_e0\n",
    "\n",
    "print(\"%e\" %dE_mean_dt)"
   ]
  },
  {
   "cell_type": "code",
   "execution_count": null,
   "metadata": {},
   "outputs": [
    {
     "data": {
      "text/plain": [
       "['e+Ar=>e+Ar',\n",
       " 'e+Ar=>e+Ars',\n",
       " 'e+Ar=>2e+Ar1p',\n",
       " 'e+Ars=>2e+Ar1p',\n",
       " '(rev)e+Ar=>e+Ars',\n",
       " 'Ars+Ars=>e+Ar+Ar1p',\n",
       " 'Ars+Ar=>Ar+Ar']"
      ]
     },
     "execution_count": 3496,
     "metadata": {},
     "output_type": "execute_result"
    }
   ],
   "source": [
    "R_eqn"
   ]
  },
  {
   "cell_type": "code",
   "execution_count": null,
   "metadata": {},
   "outputs": [],
   "source": [
    "# # 시간 그리드\n",
    "# t = np.arange(0,1e-4,1e-9)  # 시간 범위 확장\n",
    "\n",
    "# # 시뮬레이션 실행\n",
    "# sol = odeint(model, [n_e0, n_Ar0, n_Ars0, n_Ar1p0, E_mean0, Q_diel0], t)\n",
    "\n",
    "# # 결과 플로팅\n",
    "# plt.figure(figsize=(15, 12))\n",
    "\n",
    "# plt.subplot(321)\n",
    "# plt.plot(t, sol[:, 0])\n",
    "# plt.title('Electron Density')\n",
    "# plt.xlabel('Time (s)')\n",
    "# plt.ylabel('n_e (m^-3)')\n",
    "\n",
    "# plt.subplot(322)\n",
    "# plt.plot(t, 1 - sol[:, 1]/n_Ar0)\n",
    "# plt.title('Ar Conversion')\n",
    "# plt.xlabel('Time (s)')\n",
    "# plt.ylabel('Conversion')\n",
    "\n",
    "# plt.subplot(323)\n",
    "# plt.plot(t, sol[:, 4])\n",
    "# plt.title('Mean Electron Energy')\n",
    "# plt.xlabel('Time (s)')\n",
    "# plt.ylabel('Energy (eV)')\n",
    "\n",
    "# plt.subplot(324)\n",
    "# plt.plot(t, sol[:, 5])\n",
    "# plt.title('Dielectric Charge')\n",
    "# plt.xlabel('Time (s)')\n",
    "# plt.ylabel('Charge (C)')\n",
    "\n",
    "# plt.subplot(325)\n",
    "# V_applied = -V0 * np.sin(w0 * t)\n",
    "# V_diel = V_applied * (ddiel / epsr) / (dgap + 2*ddiel/epsr)\n",
    "# V_gap = V_applied - 2*V_diel\n",
    "# E = V_gap / dgap\n",
    "# plt.plot(t, E)\n",
    "# plt.title('Electric Field')\n",
    "# plt.xlabel('Time (s)')\n",
    "# plt.ylabel('E (V/m)')\n",
    "\n",
    "# plt.subplot(326)\n",
    "# plt.plot(t, V_applied, label='Applied')\n",
    "# plt.plot(t, V_diel, label='Dielectric')\n",
    "# plt.plot(t, V_gap, label='Gap')\n",
    "# plt.title('Voltages')\n",
    "# plt.xlabel('Time (s)')\n",
    "# plt.ylabel('Voltage (V)')\n",
    "# plt.legend()\n",
    "\n",
    "# plt.tight_layout()\n",
    "# plt.show()"
   ]
  },
  {
   "cell_type": "code",
   "execution_count": null,
   "metadata": {},
   "outputs": [
    {
     "name": "stdout",
     "output_type": "stream",
     "text": [
      "[1.83473497e+25 1.83473497e+25 1.83473497e+25 ... 1.83473497e+25\n",
      " 1.83473497e+25 1.83473497e+25]\n"
     ]
    }
   ],
   "source": [
    "print(sol[:,1])"
   ]
  },
  {
   "cell_type": "code",
   "execution_count": null,
   "metadata": {},
   "outputs": [],
   "source": []
  }
 ],
 "metadata": {
  "kernelspec": {
   "display_name": "Python 3",
   "language": "python",
   "name": "python3"
  },
  "language_info": {
   "codemirror_mode": {
    "name": "ipython",
    "version": 3
   },
   "file_extension": ".py",
   "mimetype": "text/x-python",
   "name": "python",
   "nbconvert_exporter": "python",
   "pygments_lexer": "ipython3",
   "version": "3.12.3"
  }
 },
 "nbformat": 4,
 "nbformat_minor": 2
}
