{
 "cells": [
  {
   "cell_type": "code",
   "execution_count": 304,
   "metadata": {},
   "outputs": [],
   "source": [
    "import numpy as np\n",
    "import matplotlib.pyplot as plt\n",
    "from scipy import special\n",
    "from scipy.integrate import odeint"
   ]
  },
  {
   "cell_type": "code",
   "execution_count": 305,
   "metadata": {},
   "outputs": [],
   "source": [
    "# Conditions\n",
    "V0 = 750 # Vmax (V)\n",
    "f0 = 50000 # RF frequency (Hz)\n",
    "w0 = 2 * np.pi * f0 # Angular frequency\n",
    "dgap = 1e-4 # gap length (m)\n",
    "ddiel = 1e-4 # dielectric thickness (m)\n",
    "dplate = 0.1 # Plate diameter (m)\n",
    "As = 0.25 * np.pi * dplate**2 # Plate area (m2)"
   ]
  },
  {
   "cell_type": "code",
   "execution_count": 306,
   "metadata": {},
   "outputs": [],
   "source": [
    "# Parameters\n",
    "epsr = 10 # relative permittivity\n",
    "eps0 = 8.8541878128e-12 # vacuum permittivity (F/m)\n",
    "type_EEDF = 1 # 1:Maxwellian EEDF, 2:Druyvesteyn EEDF, 1~2: Generalized EEDF\n",
    "me = 9.10938356e-31 # electron mass (kg)\n",
    "qe = 1.60217662e-19 # electron charge (C)"
   ]
  },
  {
   "cell_type": "code",
   "execution_count": 307,
   "metadata": {},
   "outputs": [],
   "source": [
    "# Electron Collision Reaction Source Treatment\n",
    "with open('Ar_xsecs.txt', 'r') as file:\n",
    "    data = file.read()\n",
    "    file.close()"
   ]
  },
  {
   "cell_type": "code",
   "execution_count": 308,
   "metadata": {},
   "outputs": [],
   "source": [
    "# Cross-section area Data Generation\n",
    "rawD = data.split('\\n')\n",
    "rawD = [x for x in rawD if x != '']\n",
    "\n",
    "reaction_index = []\n",
    "for i in range(len(rawD)):\n",
    "    if rawD[i].startswith('Type'):\n",
    "        reaction_index.append(i)\n",
    "\n",
    "R_type = list(range(len(reaction_index)))\n",
    "R_eqn = list(range(len(reaction_index)))\n",
    "R_Eloss = list(range(len(reaction_index)))\n",
    "R_ext = list(range(len(reaction_index)))\n",
    "R_Elevel = []\n",
    "R_crossA = []\n",
    "for i, name in enumerate(reaction_index):\n",
    "    R_type[i] = rawD[name].split(' ')[1]\n",
    "    R_eqn[i] = rawD[name+1]\n",
    "    R_Eloss[i] = float(rawD[name+2].split(' ')[0])\n",
    "    if R_type[i] == 'EXCITATION':\n",
    "        R_ext[i] = float(rawD[name+2].split(' ')[2])\n",
    "    else:\n",
    "        R_ext[i] = 0\n",
    "    if i != len(reaction_index) - 1:\n",
    "        data_range = list(range(reaction_index[i]+5,reaction_index[i+1]-1))\n",
    "        Elevel = list(range(len(data_range)))\n",
    "        crossA = list(range(len(data_range)))\n",
    "        iteration = 0\n",
    "        for j in data_range:\n",
    "            Elevel[iteration] = float(rawD[j].split(' ')[2])\n",
    "            crossA[iteration] = float(rawD[j].split(' ')[4])\n",
    "            iteration += 1\n",
    "        R_Elevel.append(np.array(Elevel))\n",
    "        R_crossA.append(np.array(crossA))\n",
    "    else:\n",
    "        data_range = list(range(reaction_index[i]+5,len(rawD)-1))\n",
    "        Elevel = list(range(len(data_range)))\n",
    "        crossA = list(range(len(data_range)))\n",
    "        iteration = 0\n",
    "        for j in data_range:\n",
    "            Elevel[iteration] = float(rawD[j].split(' ')[2])\n",
    "            crossA[iteration] = float(rawD[j].split(' ')[4])\n",
    "            iteration += 1\n",
    "        R_Elevel.append(Elevel)\n",
    "        R_crossA.append(crossA)\n"
   ]
  },
  {
   "cell_type": "code",
   "execution_count": 309,
   "metadata": {},
   "outputs": [],
   "source": [
    "# Cross-section area interpolation function\n",
    "from scipy import interpolate\n",
    "def create_cross_section_interpolator(Elevel,crossA):\n",
    "    def non_negative_interp(x):\n",
    "        return np.maximum(0, interpolate.interp1d(Elevel, crossA, kind='cubic', fill_value='extrapolate')(x))\n",
    "    return non_negative_interp\n",
    "\n",
    "R_cross_interpolator = list(range(len(reaction_index)))\n",
    "for i in range(len(reaction_index)):\n",
    "    R_cross_interpolator[i] = create_cross_section_interpolator(R_Elevel[i],R_crossA[i])\n",
    "\n",
    "def calculate_cross_section(interpolator, energy):\n",
    "    return interpolator(energy)"
   ]
  },
  {
   "cell_type": "code",
   "execution_count": 310,
   "metadata": {},
   "outputs": [],
   "source": [
    "# upper incomplete gamma function\n",
    "from scipy import special\n",
    "\n",
    "def upper_incomplete_gamma(a):\n",
    "    return special.gamma(a)\n",
    "\n",
    "# EEDF calculation\n",
    "def calculate_EEDF(type_EEDF,E,E_mean):\n",
    "    g = type_EEDF\n",
    "    beta1 = (upper_incomplete_gamma(5/(2*g)))**(3/2)*(upper_incomplete_gamma(3/(2*g)))**(-5/2)\n",
    "    beta2 = upper_incomplete_gamma(5/(2*g))*upper_incomplete_gamma(3/(2*g))**(-1)\n",
    "    return g*beta1*E_mean**(-3/2)*np.exp(-(E*beta2/E_mean)**g)"
   ]
  },
  {
   "cell_type": "code",
   "execution_count": 311,
   "metadata": {},
   "outputs": [],
   "source": [
    "e_grid = np.arange(0,100,0.01)"
   ]
  },
  {
   "cell_type": "code",
   "execution_count": 312,
   "metadata": {},
   "outputs": [],
   "source": [
    "# Rate Expression\n",
    "def Rate_coeff(E_mean):\n",
    "    R_coeff = list(range(len(reaction_index)))\n",
    "    for i in range(len(R_coeff)):\n",
    "        EEDF = calculate_EEDF(type_EEDF,e_grid, E_mean)\n",
    "        crossA = calculate_cross_section(R_cross_interpolator[i],e_grid)\n",
    "        R_coeff[i] = np.sqrt(2 * qe / me) * np.trapz(EEDF * crossA * e_grid,e_grid)\n",
    "    return R_coeff\n"
   ]
  },
  {
   "cell_type": "code",
   "execution_count": 315,
   "metadata": {},
   "outputs": [],
   "source": [
    "# Detailed Balance for de-excitation process\n",
    "index_excitation = [i for i, name in enumerate(R_type) if name == 'EXCITATION']\n",
    "for i in index_excitation:\n",
    "    eloss = R_Eloss[i]\n",
    "    e = R_Elevel[i] - eloss + 1e-15\n",
    "    sig = calculate_cross_section(R_cross_interpolator[i],R_Elevel[i])\n",
    "    R_type.append('DE-EXCITATION')\n",
    "    R_Elevel.append(e)\n",
    "    R_crossA.append(1/R_ext[i]*(e+eloss)/e*sig)\n",
    "    R_Eloss.append(-eloss)\n",
    "    R_eqn.append(f'(rev){R_eqn[i]}')\n"
   ]
  },
  {
   "cell_type": "code",
   "execution_count": 317,
   "metadata": {},
   "outputs": [
    {
     "data": {
      "text/plain": [
       "0.0"
      ]
     },
     "execution_count": 317,
     "metadata": {},
     "output_type": "execute_result"
    }
   ],
   "source": [
    "calculate_cross_section(R_cross_interpolator[1],e2)"
   ]
  }
 ],
 "metadata": {
  "kernelspec": {
   "display_name": "Python 3",
   "language": "python",
   "name": "python3"
  },
  "language_info": {
   "codemirror_mode": {
    "name": "ipython",
    "version": 3
   },
   "file_extension": ".py",
   "mimetype": "text/x-python",
   "name": "python",
   "nbconvert_exporter": "python",
   "pygments_lexer": "ipython3",
   "version": "3.12.3"
  }
 },
 "nbformat": 4,
 "nbformat_minor": 2
}
