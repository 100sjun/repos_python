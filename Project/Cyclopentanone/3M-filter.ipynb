{
 "cells": [
  {
   "cell_type": "code",
   "execution_count": 1,
   "id": "ce639c15",
   "metadata": {},
   "outputs": [],
   "source": [
    "import numpy as np"
   ]
  },
  {
   "cell_type": "code",
   "execution_count": null,
   "id": "878f6fa5",
   "metadata": {},
   "outputs": [],
   "source": [
    "# Filter Configuration\n",
    "D = 4.7 # cm\n",
    "L = 25.4 # cm\n",
    "A = np.pi*D**2/4\n",
    "V = A*L # mL\n",
    "VF = 2000 # mL/min"
   ]
  },
  {
   "cell_type": "code",
   "execution_count": null,
   "id": "2681cf5a",
   "metadata": {},
   "outputs": [],
   "source": [
    "def ode(t,y,k):\n",
    "    Cs = y\n",
    "    r = k*Cs\n",
    "    dNsdt = -r\n",
    "    dt = V/VF\n",
    "    dCsdt = dNsdt/V-\n",
    "\n",
    "    return [dCsdt]\n",
    "\n",
    "\n",
    "\n",
    "\n",
    "\n",
    "\n"
   ]
  },
  {
   "cell_type": "code",
   "execution_count": null,
   "id": "4093994f",
   "metadata": {},
   "outputs": [],
   "source": [
    "-0.3785ㅌ+4.8579 ( log의 PPT, x축 )"
   ]
  }
 ],
 "metadata": {
  "kernelspec": {
   "display_name": "torchenv",
   "language": "python",
   "name": "python3"
  },
  "language_info": {
   "codemirror_mode": {
    "name": "ipython",
    "version": 3
   },
   "file_extension": ".py",
   "mimetype": "text/x-python",
   "name": "python",
   "nbconvert_exporter": "python",
   "pygments_lexer": "ipython3",
   "version": "3.11.13"
  }
 },
 "nbformat": 4,
 "nbformat_minor": 5
}
