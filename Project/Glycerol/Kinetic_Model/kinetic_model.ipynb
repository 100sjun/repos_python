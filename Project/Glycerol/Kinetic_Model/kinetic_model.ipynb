{
 "cells": [
  {
   "cell_type": "code",
   "execution_count": null,
   "metadata": {},
   "outputs": [],
   "source": [
    "import pandas as pd\n",
    "import numpy as np\n",
    "from scipy.integrate import solve_ivp\n",
    "from scipy.optimize import minimize\n",
    "import matplotlib.pyplot as plt\n",
    "import matplotlib.font_manager as fm\n",
    "import matplotlib as mpl\n",
    "\n",
    "# 한글 폰트 설정\n",
    "plt.rcParams['font.family'] = 'NanumGothic'\n",
    "plt.rcParams['axes.unicode_minus'] = False  # 마이너스 기호 깨짐 방지\n"
   ]
  },
  {
   "cell_type": "code",
   "execution_count": null,
   "metadata": {},
   "outputs": [],
   "source": [
    "df = pd.read_csv('data.csv')\n",
    "df1 = df[df['label']=='time']"
   ]
  },
  {
   "cell_type": "code",
   "execution_count": null,
   "metadata": {},
   "outputs": [],
   "source": [
    "df1"
   ]
  },
  {
   "cell_type": "code",
   "execution_count": null,
   "metadata": {},
   "outputs": [],
   "source": [
    "# parameters initialization\n",
    "Wi = 66.625\n",
    "VL = 41.253968 # mL# h2 solubility parameter\n",
    "p00 = 0.2638\n",
    "p01 = 5.443e-4\n",
    "p02 = -2.45e-7\n",
    "p10 = -1.545e-3\n",
    "p20 = 2.205e-6\n",
    "p11 = 9.105e-7\n",
    "mw_h2o = 18 # g/mol, water molweight\n",
    "mw_h2 = 2 # g/mol, hydrogen molweight"
   ]
  },
  {
   "cell_type": "code",
   "execution_count": null,
   "metadata": {},
   "outputs": [],
   "source": [
    "# Concentration initialization\n",
    "N0 = np.array([\n",
    "    df1.iloc[0]['N_Gly [mmol]'],    # 글리세롤\n",
    "    df1.iloc[0]['N_KOH [mmol]'],    # KOH\n",
    "    df1.iloc[0]['N_H2 [mmol]'],     # 수소\n",
    "    df1.iloc[0]['N_LA [mmol]'],     # 젖산\n",
    "    df1.iloc[0]['N_PDO [mmol]'],    # 1,3-PDO\n",
    "    df1.iloc[0]['N_FA [mmol]'],     # 포름산\n",
    "    df1.iloc[0]['N_GA [mmol]'],     # 글리콜산\n",
    "    df1.iloc[0]['N_ME [mmol]'],     # 메탄올\n",
    "    df1.iloc[0]['N_EG [mmol]']      # 에틸렌글리콜\n",
    "], dtype=np.float32)\n",
    "\n",
    "N_exp = np.array([\n",
    "    df1.iloc[0:]['N_Gly [mmol]'].values,    # 글리세롤 0\n",
    "    df1.iloc[0:]['N_KOH [mmol]'].values,    # KOH 1\n",
    "    df1.iloc[0:]['N_H2 [mmol]'].values,     # 수소 2\n",
    "    df1.iloc[0:]['N_LA [mmol]'].values,     # 젖산 3\n",
    "    df1.iloc[0:]['N_PDO [mmol]'].values,    # 1,3-PDO 4\n",
    "    df1.iloc[0:]['N_FA [mmol]'].values,     # 포름산 5\n",
    "    df1.iloc[0:]['N_GA [mmol]'].values,     # 글리콜산 6\n",
    "    df1.iloc[0:]['N_ME [mmol]'].values,     # 메탄올 7\n",
    "    df1.iloc[0:]['N_EG [mmol]'].values      # 에틸렌글리콜 8\n",
    "], dtype=np.float32)"
   ]
  },
  {
   "cell_type": "code",
   "execution_count": null,
   "metadata": {},
   "outputs": [],
   "source": [
    "N0"
   ]
  },
  {
   "cell_type": "code",
   "execution_count": null,
   "metadata": {},
   "outputs": [],
   "source": [
    "def ode_system(t, N, k_params):\n",
    "\n",
    "    wcat = 0.3*0.02 # Pt 함량 0.3 g의 2%\n",
    "    wpet = 0.3\n",
    "\n",
    "    VL = 41.253968 # mL\n",
    "    VG = 145 - VL\n",
    "    C = N/VL # mmol/mL = M\n",
    "    \n",
    "\n",
    "    \n",
    "    T = 200.0\n",
    "    P_H2O = 10**(8.14019-1810.94/(244.485+T))/750.062 # Antoine equation\n",
    "    vg = 8.314*(T+273.15)/(P_H2O*1e5)\n",
    "    NG_H2O = 1/(vg*1e3)*VG\n",
    "\n",
    "    P_H2 = (N[2]/1e3)/(VG/1e6)*8.314*(T+273.15)/1e5\n",
    "    S_H2 = p00 + (T)*p10 + P_H2*p01 + (T)**2*p20 + P_H2**2*p02 + (T)*P_H2*p11\n",
    "    WL = Wi - (N[2])*mw_h2/1000 - NG_H2O*mw_h2o/1000\n",
    "    NL_H2 = S_H2*WL\n",
    "    NLf_H2 = min(N[2], NL_H2)\n",
    "\n",
    "    C[2] = NLf_H2/VL\n",
    "        # C의 0인 성분을 1e-8로 수정\n",
    "    C[C < 0] = 1e-8\n",
    "    # kg1 0 # KGly 1 # KH2 2 # KPDO 3 # kd1 4 # kd2 5 # kd3 6 # kp1 7 # kp2 8\n",
    "\n",
    "    # 글리세롤 0 # KOH 1 # 수소 2 # 젖산 3 # 1,3-PDO 4 # 포름산 5 # 글리콜산 6 # 메탄올 7 # 에틸렌글리콜 8\n",
    "    \n",
    "    # parameter\n",
    "    k = 10**k_params\n",
    "    \n",
    "    # Intensive reaction rate\n",
    "    theta = 1 + k[1]*C[0] + (k[2]*C[2])**0.5 + k[3]*C[4]\n",
    "    rg1= k[0]*k[1]*C[0]/(theta**3) # Glycerol -> DHA + H2\n",
    "    rd1 = k[4] # DHA -> PRA + H2O\n",
    "    rd2 = k[5]*(C[1]**2) # DHA + 2KOH -> FA + GA + 2H2\n",
    "    rd3 = k[6]*(C[2]**2) # DHA + 2H2 -> ME + EG\n",
    "    rp1 = k[7]*C[1] # PRA + KOH -> LA\n",
    "    rp2 = k[8]*k[2]**2*C[2]**2/(theta**5)# PRA + 2H2 -> PDO\n",
    "\n",
    "    # Extensive reaction rate\n",
    "    rg1_ext = rg1*wcat\n",
    "    rd1_ext = rd1*VL/1000\n",
    "    rd2_ext = rd2*VL/1000\n",
    "    rd3_ext = rd3*VL/1000\n",
    "    rp1_ext = rp1*VL/1000\n",
    "    rp2_ext = rp2*wcat\n",
    "\n",
    "    # Fractional conversion\n",
    "    fd1 = rd1_ext/(rd1_ext+rd2_ext+rd3_ext)\n",
    "    fd2 = rd2_ext/(rd1_ext+rd2_ext+rd3_ext)\n",
    "    fd3 = rd3_ext/(rd1_ext+rd2_ext+rd3_ext)\n",
    "\n",
    "    fp1 = rp1_ext/(rp1_ext+rp2_ext)\n",
    "    fp2 = rp2_ext/(rp1_ext+rp2_ext)\n",
    "\n",
    "    dN0dt = -rg1_ext\n",
    "    dN1dt = -2*rg1_ext*fd2 - rg1_ext*fd1*fp1\n",
    "    dN2dt = rg1_ext + 2*rg1_ext*fd2 - 2*rg1_ext*fd3 - 2*rg1_ext*fd1*fp2\n",
    "    dN3dt = rg1_ext*fd1*fp1\n",
    "    dN4dt = rg1_ext*fd1*fp2\n",
    "    dN5dt = rg1_ext*fd2\n",
    "    dN6dt = rg1_ext*fd2\n",
    "    dN7dt = rg1_ext*fd3\n",
    "    dN8dt = rg1_ext*fd3\n",
    "\n",
    "    return np.array([dN0dt, dN1dt, dN2dt, dN3dt, dN4dt, dN5dt, dN6dt, dN7dt, dN8dt])\n"
   ]
  },
  {
   "cell_type": "code",
   "execution_count": null,
   "metadata": {},
   "outputs": [],
   "source": [
    "t_eval = np.array(df1.iloc[0:]['Time [h]'].values, dtype=np.float32)"
   ]
  },
  {
   "cell_type": "code",
   "execution_count": null,
   "metadata": {},
   "outputs": [],
   "source": [
    "def solve_ode(k_params, t_eval, y0):\n",
    "    sol = solve_ivp(\n",
    "        ode_system,\n",
    "        t_span=(t_eval[0], t_eval[-1]),\n",
    "        y0=y0,\n",
    "        t_eval=t_eval,\n",
    "        args=(k_params,),\n",
    "        method='RK45'\n",
    "    )\n",
    "    return sol.y"
   ]
  },
  {
   "cell_type": "code",
   "execution_count": null,
   "metadata": {},
   "outputs": [],
   "source": [
    "def objective_function(k_params):\n",
    "    try:\n",
    "        N_pred = solve_ode(k_params, t_eval, N0)\n",
    "        \n",
    "        # 각 성분별 최대값으로 normalize\n",
    "        N_exp_max = np.max(np.abs(N_exp), axis=1)\n",
    "        N_exp_max = np.where(N_exp_max == 0, 1, N_exp_max)  # 0으로 나누기 방지\n",
    "        \n",
    "        # normalize된 error 계산\n",
    "        normalized_error = np.mean(((N_pred - N_exp) / N_exp_max.reshape(-1,1))**2)\n",
    "        return normalized_error\n",
    "    except:\n",
    "        return 1e10"
   ]
  },
  {
   "cell_type": "code",
   "execution_count": null,
   "metadata": {},
   "outputs": [],
   "source": [
    "best_loss = float('inf')\n",
    "best_x = np.ones(9)\n",
    "x0 = np.ones(9)\n",
    "for i in range(100):  # 100번 반복\n",
    "    result = minimize(\n",
    "        objective_function,\n",
    "        x0=x0,\n",
    "        method='L-BFGS-B',\n",
    "        bounds=[(-20, 20) for _ in range(len(x0))],  # 모든 변수에 대해 -10 ~ 10 범위 제한\n",
    "    )\n",
    "    \n",
    "    # 현재 시도의 loss 출력\n",
    "    print(f'시도 {i+1} - Loss: {result.fun:.6f}, Best Loss: {best_loss:.6f}')\n",
    "    \n",
    "    if result.fun < best_loss:\n",
    "        best_loss = result.fun\n",
    "        best_x = result.x.copy()\n",
    "        x0 = result.x.copy()  # 더 나은 결과를 얻은 경우 x0를 result.x로 갱신\n",
    "    else:\n",
    "        x0 = best_x.copy()  # 더 나은 결과를 얻지 못한 경우 best_x를 x0로 사용\n",
    "        \n",
    "    # x0에 랜덤 변화 추가\n",
    "    x0 = x0 * (1 + np.random.randn(len(x0)) * 0.1)\n"
   ]
  },
  {
   "cell_type": "code",
   "execution_count": null,
   "metadata": {},
   "outputs": [],
   "source": [
    "result.x"
   ]
  },
  {
   "cell_type": "code",
   "execution_count": null,
   "metadata": {},
   "outputs": [],
   "source": [
    "best_x"
   ]
  },
  {
   "cell_type": "code",
   "execution_count": null,
   "metadata": {},
   "outputs": [],
   "source": [
    "# 예측값 계산을 위한 더 조밀한 시간 격자 생성\n",
    "t_pred = np.linspace(t_eval[0], t_eval[-1], 100)\n",
    "N_pred = solve_ode(best_x, t_pred, N0)\n",
    "\n",
    "# 성분별 비교 그래프 그리기\n",
    "fig, axes = plt.subplots(3, 3, figsize=(15, 15))\n",
    "components = ['Gly', 'KOH', 'H2', 'LA', 'PDO', 'FA', 'GA', 'ME', 'EG']\n",
    "\n",
    "for i, (ax, comp) in enumerate(zip(axes.flat, components)):\n",
    "    ax.plot(t_eval, N_exp[i], 'o', label='실험값')\n",
    "    ax.plot(t_pred, N_pred[i], '-', label='예측값')\n",
    "    ax.set_xlabel('시간 [h]')\n",
    "    ax.set_ylabel(f'N_{comp} [mmol]')\n",
    "    ax.legend()\n",
    "    ax.grid(True)\n",
    "\n",
    "plt.tight_layout()\n",
    "plt.show()"
   ]
  },
  {
   "cell_type": "code",
   "execution_count": null,
   "metadata": {},
   "outputs": [],
   "source": [
    "result.fun"
   ]
  },
  {
   "cell_type": "code",
   "execution_count": null,
   "metadata": {},
   "outputs": [],
   "source": [
    "# 전체 데이터에 대한 parity plot과 R2 계산\n",
    "\n",
    "from sklearn.metrics import r2_score\n",
    "\n",
    "# 예측값과 실험값을 1차원 배열로 합치기\n",
    "N_exp_all = np.concatenate([N_exp[i] for i in range(len(components))])\n",
    "N_pred_all = np.concatenate([N_pred[i, np.searchsorted(t_pred, t_eval)] for i in range(len(components))])\n",
    "\n",
    "# Parity plot\n",
    "plt.figure(figsize=(7,7))\n",
    "plt.scatter(N_exp_all, N_pred_all, alpha=0.7)\n",
    "plt.plot([N_exp_all.min(), N_exp_all.max()], [N_exp_all.min(), N_exp_all.max()], 'r--', label='y=x')\n",
    "plt.xlabel('실험값 (N_exp) [mmol]')\n",
    "plt.ylabel('예측값 (N_pred) [mmol]')\n",
    "plt.title('전체 데이터 Parity Plot')\n",
    "plt.legend()\n",
    "plt.grid(True)\n",
    "plt.show()\n",
    "\n",
    "# R2 계산\n",
    "r2 = r2_score(N_exp_all, N_pred_all)\n",
    "print(f\"전체 데이터 R2: {r2:.4f}\")\n"
   ]
  }
 ],
 "metadata": {
  "kernelspec": {
   "display_name": "torchenv",
   "language": "python",
   "name": "python3"
  },
  "language_info": {
   "codemirror_mode": {
    "name": "ipython",
    "version": 3
   },
   "file_extension": ".py",
   "mimetype": "text/x-python",
   "name": "python",
   "nbconvert_exporter": "python",
   "pygments_lexer": "ipython3",
   "version": "3.11.13"
  }
 },
 "nbformat": 4,
 "nbformat_minor": 2
}
