{
 "cells": [
  {
   "cell_type": "code",
   "execution_count": 269,
   "metadata": {},
   "outputs": [],
   "source": [
    "import numpy as np\n",
    "import matplotlib.pyplot as plt\n",
    "from scipy.optimize import minimize\n",
    "import pandas as pd"
   ]
  },
  {
   "cell_type": "code",
   "execution_count": 270,
   "metadata": {},
   "outputs": [],
   "source": [
    "\n",
    "data = pd.read_excel('parameters.xlsx')\n",
    "\n",
    "V0 = data['V'].values\n",
    "tp = data['t'].values\n",
    "Tme = data['exp Tmax'].values\n",
    "tpe = data['exp t_p'].values\n"
   ]
  },
  {
   "cell_type": "code",
   "execution_count": 271,
   "metadata": {},
   "outputs": [],
   "source": [
    "# Time\n",
    "dt = 1e-4\n",
    "t = np.arange(dt,1.5+dt,dt)\n",
    "\n",
    "# heat transfer\n",
    "T0 = 730\n",
    "T = np.zeros(len(t))+T0\n"
   ]
  },
  {
   "cell_type": "code",
   "execution_count": 272,
   "metadata": {},
   "outputs": [],
   "source": [
    "def power(V0,tp):\n",
    "    # Power funciton\n",
    "    wv = np.zeros(len(t))\n",
    "    a = 0.003\n",
    "    b = tp\n",
    "    c = 1e-5\n",
    "    d = 1.1\n",
    "\n",
    "    for i in range(len(t)):\n",
    "        if t[i] < 0.01:\n",
    "            wv[i] = c\n",
    "        elif (0.01 <= t[i]) & (t[i] < (0.01+a/2)):\n",
    "            wv[i] = c + 2/a**2*(t[i]-0.01)**2\n",
    "        elif (0.01+a/2 <= t[i]) & (t[i] < (0.01+a)):\n",
    "            wv[i] = c + -2/a**2*(t[i]-0.01-a)**2+1\n",
    "        elif ((0.01+a) <= t[i]) & (t[i] < (0.01+b-a)):\n",
    "            wv[i] = c + 1\n",
    "        elif ((0.01+b-a) <= t[i]) & (t[i] < (0.01+b-a/2)):\n",
    "            wv[i] =c + -2/a**2*(t[i]-0.01-b+a)**2+1\n",
    "        elif ((0.01+b-a/2) <= t[i]) & (t[i] < (0.01+b)):\n",
    "            wv[i] =c + 2/a**2*(t[i]-0.01-b)**2\n",
    "        else:\n",
    "            wv[i] = c\n",
    "\n",
    "    V = V0 * wv\n",
    "    return V**2/4.418081"
   ]
  },
  {
   "cell_type": "code",
   "execution_count": null,
   "metadata": {},
   "outputs": [],
   "source": []
  },
  {
   "cell_type": "code",
   "execution_count": 273,
   "metadata": {},
   "outputs": [
    {
     "data": {
      "text/plain": [
       "['(0, 1)',\n",
       " '(0, 2)',\n",
       " '(1, 0)',\n",
       " '(1, 1)',\n",
       " '(1, 2)',\n",
       " '(2, 0)',\n",
       " '(2, 1)',\n",
       " '(2, 2)']"
      ]
     },
     "execution_count": 273,
     "metadata": {},
     "output_type": "execute_result"
    }
   ],
   "source": [
    "def heat_balance(V0,tp):\n",
    "    kh_para = [-9.32565889e-02 , 2.09599833e-04,  1.77346997e+02, -1.21625012e+01 , 1.96267900e-01, -1.62168276e+03 , 9.80895011e+01 ,-1.30744631e+00 ,3.86314934]\n",
    "    ht_para = [-4.21826078e-02 , 3.00437126e-04,  2.24196385e+01 ,-1.95811501e+00 ,  3.13161887e-02 ,-1.69467657e+02 , 9.93414871e+00 ,-7.06820597e-02,1.31282631]\n",
    "    kh = kh_para[0]*V0 + kh_para[1]*(V0**2) + \\\n",
    "         kh_para[2]*(tp**1)*(V0**0) + kh_para[3]*(tp**1)*(V0**1) + kh_para[4]*(tp**1)*(V0**2) + \\\n",
    "         kh_para[5]*(tp**2)*(V0**0)  + kh_para[6]*(tp**2)*(V0**1) + kh_para[7]*(tp**2)*(V0**2) + kh_para[8]\n",
    "    ht = ht_para[0]*V0 + ht_para[1]*(V0**2) + \\\n",
    "         ht_para[2]*(tp**1)*(V0**0) + ht_para[3]*(tp**1)*(V0**1) + ht_para[4]*(tp**1)*(V0**2) + \\\n",
    "         ht_para[5]*(tp**2)*(V0**0)  + ht_para[6]*(tp**2)*(V0**1) + ht_para[7]*(tp**2)*(V0**2) + ht_para[8]\n",
    "    Cp = kh*0.010783 #J/K\n",
    "    P = power(V0,tp)\n",
    "    Q = np.zeros(len(t))\n",
    "    for i in range(len(Q)-1):\n",
    "        dQ = (T[i]-T0)\n",
    "        if dQ <= 0:\n",
    "            dQ = 1e-6\n",
    "        Q = P[i]*(dt) - ht*dQ**(1)*(dt)\n",
    "        T[i+1] = Q/Cp + T[i]\n",
    "\n",
    "['(0, 1)', '(0, 2)', '(1, 0)', '(1, 1)', '(1, 2)', '(2, 0)', '(2, 1)', '(2, 2)']"
   ]
  },
  {
   "cell_type": "code",
   "execution_count": 274,
   "metadata": {},
   "outputs": [],
   "source": [
    "Tm = []\n",
    "tpm = []\n",
    "\n",
    "for i in range(len(V0)):\n",
    "    heat_balance(V0[i],tp[i])\n",
    "    Tm.append(T[np.argmax(T)])\n",
    "    # i = np.argwhere(t==0.015)\n",
    "    # test_T = T[i[0][0]:]\n",
    "    # ti = t[np.argwhere(test_T<735)][0]\n",
    "    # tpm.append(ti)\n",
    "    T = np.zeros(len(t))+T0"
   ]
  },
  {
   "cell_type": "code",
   "execution_count": 276,
   "metadata": {},
   "outputs": [
    {
     "data": {
      "image/png": "[encoded data removed]",
      "text/plain": [
       "<Figure size 640x480 with 1 Axes>"
      ]
     },
     "metadata": {},
     "output_type": "display_data"
    }
   ],
   "source": [
    "xpl = list(range(len(V0)))\n",
    "plt.scatter(xpl,Tm)\n",
    "plt.scatter(xpl,Tme)\n",
    "plt.show()\n",
    "\n"
   ]
  },
  {
   "cell_type": "code",
   "execution_count": null,
   "metadata": {},
   "outputs": [],
   "source": []
  }
 ],
 "metadata": {
  "kernelspec": {
   "display_name": "Python 3",
   "language": "python",
   "name": "python3"
  },
  "language_info": {
   "codemirror_mode": {
    "name": "ipython",
    "version": 3
   },
   "file_extension": ".py",
   "mimetype": "text/x-python",
   "name": "python",
   "nbconvert_exporter": "python",
   "pygments_lexer": "ipython3",
   "version": "3.12.3"
  }
 },
 "nbformat": 4,
 "nbformat_minor": 2
}
