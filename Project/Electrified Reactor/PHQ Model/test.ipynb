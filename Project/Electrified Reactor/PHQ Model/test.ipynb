{
 "cells": [
  {
   "cell_type": "code",
   "execution_count": 1,
   "metadata": {},
   "outputs": [
    {
     "ename": "AttributeError",
     "evalue": "attribute 'T' of 'cantera.reactor.ReactorBase' objects is not writable",
     "output_type": "error",
     "traceback": [
      "\u001b[1;31m---------------------------------------------------------------------------\u001b[0m",
      "\u001b[1;31mAttributeError\u001b[0m                            Traceback (most recent call last)",
      "Cell \u001b[1;32mIn[1], line 31\u001b[0m\n\u001b[0;32m     29\u001b[0m \u001b[38;5;66;03m# 0D 반응기 시뮬레이션 루프 (사용자 정의 온도 적용)\u001b[39;00m\n\u001b[0;32m     30\u001b[0m \u001b[38;5;28;01mfor\u001b[39;00m i \u001b[38;5;129;01min\u001b[39;00m \u001b[38;5;28mrange\u001b[39m(n_steps):\n\u001b[1;32m---> 31\u001b[0m     \u001b[43mreactor\u001b[49m\u001b[38;5;241;43m.\u001b[39;49m\u001b[43mT\u001b[49m \u001b[38;5;241m=\u001b[39m temperature_profile[i]  \u001b[38;5;66;03m# 사용자 지정 온도 프로파일 적용\u001b[39;00m\n\u001b[0;32m     32\u001b[0m     sim\u001b[38;5;241m.\u001b[39madvance(time[i])  \u001b[38;5;66;03m# 현재 시간까지 시뮬레이션 진행\u001b[39;00m\n\u001b[0;32m     34\u001b[0m     \u001b[38;5;66;03m# 결과 저장\u001b[39;00m\n",
      "\u001b[1;31mAttributeError\u001b[0m: attribute 'T' of 'cantera.reactor.ReactorBase' objects is not writable"
     ]
    }
   ],
   "source": [
    "import cantera as ct\n",
    "import numpy as np\n",
    "import matplotlib.pyplot as plt\n",
    "\n",
    "# 반응 시스템 설정: 메탄-산소 반응 시스템\n",
    "gas = ct.Solution('gri30.yaml')  # GRI-Mech 3.0 반응 메커니즘 사용\n",
    "gas.TPX = 1200.0, ct.one_atm, 'CH4:1, O2:2, N2:7'  # 초기 온도, 압력, 조성\n",
    "\n",
    "# 0D 반응기 설정 (정압 조건 및 비등온)\n",
    "reactor = ct.IdealGasConstPressureReactor(gas, energy='off')  # 정압 반응기, 에너지 방정식 꺼짐\n",
    "\n",
    "# 반응기 네트워크\n",
    "sim = ct.ReactorNet([reactor])\n",
    "\n",
    "# 시뮬레이션 시간 설정\n",
    "time_end = 0.05  # 총 시뮬레이션 시간 (초)\n",
    "n_steps = 100  # 계산 단계 수\n",
    "time = np.linspace(0, time_end, n_steps)  # 시뮬레이션 시간 배열\n",
    "dt = time_end / n_steps  # 시간 간격\n",
    "\n",
    "# 사용자 정의 시간에 따른 온도 프로파일 (예: 선형 증가)\n",
    "temperature_profile = np.linspace(1200, 1800, n_steps)  # 1200K에서 1800K까지 선형 증가\n",
    "\n",
    "# 결과 저장을 위한 배열\n",
    "temperature = np.zeros(n_steps)\n",
    "pressure = np.zeros(n_steps)\n",
    "mole_fractions = np.zeros((n_steps, len(gas.species_names)))\n",
    "\n",
    "# 0D 반응기 시뮬레이션 루프 (사용자 정의 온도 적용)\n",
    "for i in range(n_steps):\n",
    "    reactor.T = temperature_profile[i]  # 사용자 지정 온도 프로파일 적용\n",
    "    sim.advance(time[i])  # 현재 시간까지 시뮬레이션 진행\n",
    "    \n",
    "    # 결과 저장\n",
    "    temperature[i] = reactor.T  # 현재 온도\n",
    "    pressure[i] = reactor.thermo.P  # 현재 압력 (고정된 상태)\n",
    "    mole_fractions[i, :] = reactor.thermo.X  # 현재 몰분율\n",
    "\n",
    "# 결과 플로팅\n",
    "plt.figure(figsize=(10, 6))\n",
    "\n",
    "# 온도 그래프\n",
    "plt.subplot(2, 1, 1)\n",
    "plt.plot(time, temperature_profile, label='Temperature Profile (K)')\n",
    "plt.xlabel('Time (s)')\n",
    "plt.ylabel('Temperature (K)')\n",
    "plt.grid(True)\n",
    "plt.legend()\n",
    "\n",
    "# 주요 종의 몰분율 그래프 (예: CH4, O2, CO2, H2O)\n",
    "plt.subplot(2, 1, 2)\n",
    "plt.plot(time, mole_fractions[:, gas.species_index('CH4')], label='CH4')\n",
    "plt.plot(time, mole_fractions[:, gas.species_index('O2')], label='O2')\n",
    "plt.plot(time, mole_fractions[:, gas.species_index('CO2')], label='CO2')\n",
    "plt.plot(time, mole_fractions[:, gas.species_index('H2O')], label='H2O')\n",
    "plt.xlabel('Time (s)')\n",
    "plt.ylabel('Mole Fraction')\n",
    "plt.grid(True)\n",
    "plt.legend()\n",
    "\n",
    "plt.tight_layout()\n",
    "plt.show()\n"
   ]
  }
 ],
 "metadata": {
  "kernelspec": {
   "display_name": "Python 3",
   "language": "python",
   "name": "python3"
  },
  "language_info": {
   "codemirror_mode": {
    "name": "ipython",
    "version": 3
   },
   "file_extension": ".py",
   "mimetype": "text/x-python",
   "name": "python",
   "nbconvert_exporter": "python",
   "pygments_lexer": "ipython3",
   "version": "3.12.3"
  }
 },
 "nbformat": 4,
 "nbformat_minor": 2
}
