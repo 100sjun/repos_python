{
 "cells": [
  {
   "cell_type": "code",
   "execution_count": 207,
   "id": "11bd89b5",
   "metadata": {},
   "outputs": [],
   "source": [
    "import pyomo.environ as pyo\n",
    "from pyomo.dae import ContinuousSet, DerivativeVar\n",
    "import numpy as np"
   ]
  },
  {
   "cell_type": "code",
   "execution_count": 208,
   "id": "dd177a07",
   "metadata": {},
   "outputs": [],
   "source": [
    "# Define model\n",
    "model = pyo.ConcreteModel()"
   ]
  },
  {
   "cell_type": "code",
   "execution_count": 209,
   "id": "72e7deb0",
   "metadata": {},
   "outputs": [],
   "source": [
    "# Global parameters\n",
    "R = 0.082057 # L·atm/(mol·K)"
   ]
  },
  {
   "cell_type": "code",
   "execution_count": 210,
   "id": "9364ee69",
   "metadata": {},
   "outputs": [],
   "source": [
    "# Reator Configuration\n",
    "L = 50 # cm\n",
    "ID = 0.052 # cm\n",
    "nx = 101\n",
    "ny = 11\n",
    "A = np.pi * (ID/2)**2"
   ]
  },
  {
   "cell_type": "code",
   "execution_count": 211,
   "id": "4901cda4",
   "metadata": {},
   "outputs": [],
   "source": [
    "# Domain\n",
    "model.x = ContinuousSet(bounds=(0, L), initialize=np.linspace(0, L, nx))\n",
    "model.y = ContinuousSet(bounds=(0,ID/2), initialize=np.linspace(0,ID/2,ny))"
   ]
  },
  {
   "cell_type": "code",
   "execution_count": 212,
   "id": "584b94d8",
   "metadata": {},
   "outputs": [],
   "source": [
    "# Component properties\n",
    "comp = ['CO2', 'H2', 'CH4', 'CO', 'H2O']"
   ]
  },
  {
   "cell_type": "code",
   "execution_count": 218,
   "id": "f121888f",
   "metadata": {},
   "outputs": [
    {
     "ename": "ValueError",
     "evalue": "Unexpected keyword options found while constructing 'IndexedParam':\n\tintialize",
     "output_type": "error",
     "traceback": [
      "\u001b[31m---------------------------------------------------------------------------\u001b[39m",
      "\u001b[31mValueError\u001b[39m                                Traceback (most recent call last)",
      "\u001b[36mCell\u001b[39m\u001b[36m \u001b[39m\u001b[32mIn[218]\u001b[39m\u001b[32m, line 10\u001b[39m\n\u001b[32m      8\u001b[39m rhoi = P/R/T \u001b[38;5;66;03m# mol/L\u001b[39;00m\n\u001b[32m      9\u001b[39m zi = np.array([\u001b[32m0.2\u001b[39m, \u001b[32m0.8\u001b[39m, \u001b[32m0.\u001b[39m, \u001b[32m0.\u001b[39m, \u001b[32m0.\u001b[39m])\n\u001b[32m---> \u001b[39m\u001b[32m10\u001b[39m model.Ci = \u001b[43mpyo\u001b[49m\u001b[43m.\u001b[49m\u001b[43mParam\u001b[49m\u001b[43m(\u001b[49m\u001b[43mcomp\u001b[49m\u001b[43m,\u001b[49m\u001b[43m \u001b[49m\u001b[43mintialize\u001b[49m\u001b[43m=\u001b[49m\u001b[43mrhoi\u001b[49m\u001b[43m*\u001b[49m\u001b[43mzi\u001b[49m\u001b[43m)\u001b[49m\n",
      "\u001b[36mFile \u001b[39m\u001b[32m~/miniforge3/envs/fdmenv/lib/python3.11/site-packages/pyomo/core/base/param.py:375\u001b[39m, in \u001b[36mParam.__init__\u001b[39m\u001b[34m(self, *args, **kwd)\u001b[39m\n\u001b[32m    372\u001b[39m     \u001b[38;5;28mself\u001b[39m._rule = \u001b[38;5;28;01mNone\u001b[39;00m\n\u001b[32m    374\u001b[39m kwd.setdefault(\u001b[33m'\u001b[39m\u001b[33mctype\u001b[39m\u001b[33m'\u001b[39m, Param)\n\u001b[32m--> \u001b[39m\u001b[32m375\u001b[39m \u001b[43mIndexedComponent\u001b[49m\u001b[43m.\u001b[49m\u001b[34;43m__init__\u001b[39;49m\u001b[43m(\u001b[49m\u001b[38;5;28;43mself\u001b[39;49m\u001b[43m,\u001b[49m\u001b[43m \u001b[49m\u001b[43m*\u001b[49m\u001b[43margs\u001b[49m\u001b[43m,\u001b[49m\u001b[43m \u001b[49m\u001b[43m*\u001b[49m\u001b[43m*\u001b[49m\u001b[43mkwd\u001b[49m\u001b[43m)\u001b[49m\n\u001b[32m    377\u001b[39m \u001b[38;5;66;03m# We don't support per-index param domains, so we only need to\u001b[39;00m\n\u001b[32m    378\u001b[39m \u001b[38;5;66;03m# support constant initializers.\u001b[39;00m\n\u001b[32m    379\u001b[39m \u001b[38;5;66;03m# (after IndexedComponent.__init__ so we can call parent_block())\u001b[39;00m\n\u001b[32m    380\u001b[39m \u001b[38;5;28;01mif\u001b[39;00m _domain_rule \u001b[38;5;129;01mis\u001b[39;00m \u001b[38;5;28;01mNone\u001b[39;00m:\n",
      "\u001b[36mFile \u001b[39m\u001b[32m~/miniforge3/envs/fdmenv/lib/python3.11/site-packages/pyomo/core/base/indexed_component.py:307\u001b[39m, in \u001b[36mIndexedComponent.__init__\u001b[39m\u001b[34m(self, *args, **kwds)\u001b[39m\n\u001b[32m    304\u001b[39m \u001b[38;5;28;01mdef\u001b[39;00m\u001b[38;5;250m \u001b[39m\u001b[34m__init__\u001b[39m(\u001b[38;5;28mself\u001b[39m, *args, **kwds):\n\u001b[32m    305\u001b[39m     \u001b[38;5;66;03m#\u001b[39;00m\n\u001b[32m    306\u001b[39m     kwds.pop(\u001b[33m'\u001b[39m\u001b[33mnoruleinit\u001b[39m\u001b[33m'\u001b[39m, \u001b[38;5;28;01mNone\u001b[39;00m)\n\u001b[32m--> \u001b[39m\u001b[32m307\u001b[39m     \u001b[43mComponent\u001b[49m\u001b[43m.\u001b[49m\u001b[34;43m__init__\u001b[39;49m\u001b[43m(\u001b[49m\u001b[38;5;28;43mself\u001b[39;49m\u001b[43m,\u001b[49m\u001b[43m \u001b[49m\u001b[43m*\u001b[49m\u001b[43m*\u001b[49m\u001b[43mkwds\u001b[49m\u001b[43m)\u001b[49m\n\u001b[32m    308\u001b[39m     \u001b[38;5;66;03m#\u001b[39;00m\n\u001b[32m    309\u001b[39m     \u001b[38;5;28mself\u001b[39m._data = {}\n",
      "\u001b[36mFile \u001b[39m\u001b[32m~/miniforge3/envs/fdmenv/lib/python3.11/site-packages/pyomo/core/base/component.py:460\u001b[39m, in \u001b[36mComponent.__init__\u001b[39m\u001b[34m(self, **kwds)\u001b[39m\n\u001b[32m    458\u001b[39m         \u001b[38;5;28mself\u001b[39m._rule = PartialInitializer(\u001b[38;5;28mself\u001b[39m._rule, **kwds)\n\u001b[32m    459\u001b[39m     \u001b[38;5;28;01melse\u001b[39;00m:\n\u001b[32m--> \u001b[39m\u001b[32m460\u001b[39m         \u001b[38;5;28;01mraise\u001b[39;00m \u001b[38;5;167;01mValueError\u001b[39;00m(\n\u001b[32m    461\u001b[39m             \u001b[33m\"\u001b[39m\u001b[33mUnexpected keyword options found while constructing \u001b[39m\u001b[33m'\u001b[39m\u001b[38;5;132;01m%s\u001b[39;00m\u001b[33m'\u001b[39m\u001b[33m:\u001b[39m\u001b[38;5;130;01m\\n\u001b[39;00m\u001b[38;5;130;01m\\t\u001b[39;00m\u001b[38;5;132;01m%s\u001b[39;00m\u001b[33m\"\u001b[39m\n\u001b[32m    462\u001b[39m             % (\u001b[38;5;28mtype\u001b[39m(\u001b[38;5;28mself\u001b[39m).\u001b[34m__name__\u001b[39m, \u001b[33m'\u001b[39m\u001b[33m,\u001b[39m\u001b[33m'\u001b[39m.join(\u001b[38;5;28msorted\u001b[39m(kwds.keys())))\n\u001b[32m    463\u001b[39m         )\n\u001b[32m    464\u001b[39m \u001b[38;5;66;03m#\u001b[39;00m\n\u001b[32m    465\u001b[39m \u001b[38;5;66;03m# Verify that ctype has been specified.\u001b[39;00m\n\u001b[32m    466\u001b[39m \u001b[38;5;66;03m#\u001b[39;00m\n\u001b[32m    467\u001b[39m \u001b[38;5;28;01mif\u001b[39;00m \u001b[38;5;28mself\u001b[39m._ctype \u001b[38;5;129;01mis\u001b[39;00m \u001b[38;5;28;01mNone\u001b[39;00m:\n",
      "\u001b[31mValueError\u001b[39m: Unexpected keyword options found while constructing 'IndexedParam':\n\tintialize"
     ]
    }
   ],
   "source": [
    "# Feed conditions\n",
    "P = 1 # atm\n",
    "T0 = 273.15 # K\n",
    "Fvi = 100 # sccm\n",
    "Fi = P*Fvi/1000/60/R/T0 # mol/s\n",
    "\n",
    "T = 473.15 # K\n",
    "rhoi = P/R/T # mol/L\n",
    "zi = np.array([0.2, 0.8, 0., 0., 0.])\n",
    "model.Ci = pyo.Param(comp, initialize=rhoi*zi)"
   ]
  },
  {
   "cell_type": "code",
   "execution_count": null,
   "id": "483ba813",
   "metadata": {},
   "outputs": [],
   "source": [
    "# Thermodynamics\n",
    "model.C = pyo.Var(model.x, model.y, comp, domain=pyo.NonNegativeReals, initialize=0)\n",
    "\n"
   ]
  }
 ],
 "metadata": {
  "kernelspec": {
   "display_name": "fdmenv",
   "language": "python",
   "name": "python3"
  },
  "language_info": {
   "codemirror_mode": {
    "name": "ipython",
    "version": 3
   },
   "file_extension": ".py",
   "mimetype": "text/x-python",
   "name": "python",
   "nbconvert_exporter": "python",
   "pygments_lexer": "ipython3",
   "version": "undefined.undefined.undefined"
  }
 },
 "nbformat": 4,
 "nbformat_minor": 5
}
