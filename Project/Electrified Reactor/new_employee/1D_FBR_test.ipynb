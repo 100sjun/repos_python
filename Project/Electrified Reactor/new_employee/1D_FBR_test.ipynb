{
 "cells": [
  {
   "cell_type": "code",
   "execution_count": 31,
   "id": "cb2acd17",
   "metadata": {},
   "outputs": [],
   "source": [
    "from findiff import FinDiff"
   ]
  },
  {
   "cell_type": "code",
   "execution_count": 32,
   "id": "c48ff804",
   "metadata": {},
   "outputs": [],
   "source": [
    "# Reactor geomery\n",
    "L = 50 # cm\n",
    "D = 0.052 # cm\n",
    "nx = 100; ny = 10\n",
    "dx = L / (nx - 1); dy = D / (ny - 1)\n",
    "\n",
    "# 미분 연산자\n",
    "ddx = FinDiff(1, dx, 1)\n",
    "ddy = FinDiff(0, dy, 1)\n",
    "d2dx2 = FinDiff(1, dx, 2)\n",
    "d2dy2 = FinDiff(0, dy, 2)"
   ]
  },
  {
   "cell_type": "code",
   "execution_count": 33,
   "id": "ffd6c432",
   "metadata": {},
   "outputs": [],
   "source": [
    "class Component:\n",
    "    R = 0.082057 # L·atm/(mol·K), 이상기체 상수\n",
    "    R_SI = 8.314 # J/(mol·K), SI 단위\n",
    "\n",
    "    # 클래스 변수로 미리 정의된 몰질량 DB\n",
    "    molar_mass_db = {\n",
    "        \"CO2\": 44.01e-3, # kg/mol\n",
    "        \"H2\": 2.016e-3   # kg/mol\n",
    "    }\n",
    "\n",
    "    def __init__(self, name, P=1.0, T=273.15):\n",
    "        \"\"\"\n",
    "        name: 가스 이름 (예: 'CO2', 'H2')\n",
    "        P: 압력 [atm] (기본값: 1 atm)\n",
    "        T: 온도 [K] (기본값: 273.15 K, 0°C)\n",
    "        \"\"\"\n",
    "        if name in Component.molar_mass_db:\n",
    "            self.name = name\n",
    "            self.molar_mass = Component.molar_mass_db[name] # kg/mol\n",
    "            self.P = P\n",
    "            self.T = T\n",
    "            self.rho = P / Component.R / self.T\n",
    "        else:\n",
    "            raise ValueError(f\"{name}에 대한 몰질량 정보가 DB에 없습니다.\")\n",
    "\n",
    "# 사용 예시\n",
    "CO2 = Component(\"CO2\") # 1 atm, 0°C\n",
    "H2 = Component(\"H2\")   # 1 atm, 0°C"
   ]
  },
  {
   "cell_type": "code",
   "execution_count": null,
   "id": "2ee9ca62",
   "metadata": {},
   "outputs": [],
   "source": [
    "def init()"
   ]
  },
  {
   "cell_type": "code",
   "execution_count": null,
   "id": "bac47d96",
   "metadata": {},
   "outputs": [],
   "source": []
  }
 ],
 "metadata": {
  "kernelspec": {
   "display_name": "fdmenv",
   "language": "python",
   "name": "python3"
  },
  "language_info": {
   "codemirror_mode": {
    "name": "ipython",
    "version": 3
   },
   "file_extension": ".py",
   "mimetype": "text/x-python",
   "name": "python",
   "nbconvert_exporter": "python",
   "pygments_lexer": "ipython3",
   "version": "3.11.0"
  }
 },
 "nbformat": 4,
 "nbformat_minor": 5
}
