{
 "cells": [
  {
   "cell_type": "code",
   "execution_count": 53,
   "metadata": {},
   "outputs": [],
   "source": [
    "import numpy as np"
   ]
  },
  {
   "cell_type": "code",
   "execution_count": 54,
   "metadata": {},
   "outputs": [],
   "source": [
    "# Open the results\n",
    "with open('parameter sweep sol.txt', 'r') as f:\n",
    "    text = []\n",
    "    for line in f:\n",
    "        text.append(line)\n",
    "    f.close()"
   ]
  },
  {
   "cell_type": "code",
   "execution_count": 55,
   "metadata": {},
   "outputs": [],
   "source": [
    "data = []\n",
    "for i in range(len(text)):\n",
    "    if not text[i].startswith('%'):\n",
    "        data.append(text[i])\n",
    "    \n"
   ]
  },
  {
   "cell_type": "code",
   "execution_count": 56,
   "metadata": {},
   "outputs": [],
   "source": [
    "Time = np.zeros(len(data))\n",
    "Temperature = np.zeros(len(data))\n",
    "\n",
    "for i in range(len(data)):\n",
    "    line = data[i]\n",
    "    Time[i] = float(line[:26].replace(' ',''))\n",
    "    Temperature[i] = float(line[26:].replace(' ',''))\n"
   ]
  },
  {
   "cell_type": "code",
   "execution_count": 62,
   "metadata": {},
   "outputs": [],
   "source": [
    "index = np.argwhere(Time==0)\n",
    "T_set = list(range(len(index)))\n",
    "for i in range(len(index)):\n",
    "    if i < len(index)-1:\n",
    "        T_set[i] = Temperature[index[i][0]:index[i+1][0]]\n",
    "    else:\n",
    "        T_set[i] = Temperature[index[i][0]:]\n",
    "\n"
   ]
  },
  {
   "cell_type": "code",
   "execution_count": 64,
   "metadata": {},
   "outputs": [
    {
     "name": "stdout",
     "output_type": "stream",
     "text": [
      "Tmax = 954.9629093392184, Tavg = 768.5044899174989\n",
      "Tmax = 1132.9067974105872, Tavg = 793.1335267293734\n",
      "Tmax = 1320.3065234519474, Tavg = 822.3942877172968\n",
      "Tmax = 1479.5611915260602, Tavg = 879.0717428099442\n",
      "Tmax = 1628.3910721448078, Tavg = 912.8301318536331\n",
      "Tmax = 1822.9472828924409, Tavg = 986.4886066864772\n",
      "Tmax = 1949.8394584322948, Tavg = 1004.6380777382313\n",
      "Tmax = 2023.8526762938086, Tavg = 1009.0003455859405\n",
      "Tmax = 1017.6413656362453, Tavg = 770.7803768399418\n",
      "Tmax = 1233.2055131001268, Tavg = 823.0630365153439\n",
      "Tmax = 1443.0186041497184, Tavg = 918.6094280936968\n",
      "Tmax = 1740.3005655772993, Tavg = 982.5142825237808\n",
      "Tmax = 1985.1297507683232, Tavg = 1020.1297182757788\n",
      "Tmax = 1136.617713125776, Tavg = 802.0097821589997\n",
      "Tmax = 1483.0861711007533, Tavg = 903.0333416107566\n",
      "Tmax = 1809.5693077873564, Tavg = 995.5591989540794\n"
     ]
    }
   ],
   "source": [
    "for i in T_set:\n",
    "    print(f'Tmax = {max(i)}, Tavg = {np.average(i)}')"
   ]
  }
 ],
 "metadata": {
  "kernelspec": {
   "display_name": "Python 3",
   "language": "python",
   "name": "python3"
  },
  "language_info": {
   "codemirror_mode": {
    "name": "ipython",
    "version": 3
   },
   "file_extension": ".py",
   "mimetype": "text/x-python",
   "name": "python",
   "nbconvert_exporter": "python",
   "pygments_lexer": "ipython3",
   "version": "3.12.3"
  }
 },
 "nbformat": 4,
 "nbformat_minor": 2
}
