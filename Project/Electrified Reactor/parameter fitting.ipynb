{
 "cells": [
  {
   "cell_type": "code",
   "execution_count": 393,
   "metadata": {},
   "outputs": [],
   "source": [
    "import numpy as np\n",
    "import matplotlib.pyplot as plt\n",
    "from scipy.optimize import minimize"
   ]
  },
  {
   "cell_type": "code",
   "execution_count": 394,
   "metadata": {},
   "outputs": [],
   "source": [
    "V0 = 15\n",
    "tp = 0.11\n",
    "Tme = 873.2\n",
    "Tve = 742.9"
   ]
  },
  {
   "cell_type": "code",
   "execution_count": 395,
   "metadata": {},
   "outputs": [],
   "source": [
    "# Time\n",
    "dt = 1e-4\n",
    "t = np.arange(dt,1.11+dt,dt)\n",
    "# Power funciton\n",
    "wv = np.zeros(len(t))\n",
    "a = 0.003\n",
    "b = tp\n",
    "c = 1e-5\n",
    "d = 1.1\n",
    "\n",
    "for i in range(len(t)):\n",
    "    if t[i] < 0.01:\n",
    "        wv[i] = c\n",
    "    elif (0.01 <= t[i]) & (t[i] < (0.01+a/2)):\n",
    "        wv[i] = c + 2/a**2*(t[i]-0.01)**2\n",
    "    elif (0.01+a/2 <= t[i]) & (t[i] < (0.01+a)):\n",
    "        wv[i] = c + -2/a**2*(t[i]-0.01-a)**2+1\n",
    "    elif ((0.01+a) <= t[i]) & (t[i] < (0.01+b-a)):\n",
    "        wv[i] = c + 1\n",
    "    elif ((0.01+b-a) <= t[i]) & (t[i] < (0.01+b-a/2)):\n",
    "        wv[i] =c + -2/a**2*(t[i]-0.01-b+a)**2+1\n",
    "    elif ((0.01+b-a/2) <= t[i]) & (t[i] < (0.01+b)):\n",
    "        wv[i] =c + 2/a**2*(t[i]-0.01-b)**2\n",
    "    else:\n",
    "        wv[i] = c\n",
    "\n",
    "V = V0 * wv\n",
    "P = V**2/4.418081\n",
    "\n",
    "# heat transfer\n",
    "T0 = 730\n",
    "\n",
    "\n",
    "\n"
   ]
  },
  {
   "cell_type": "code",
   "execution_count": 396,
   "metadata": {},
   "outputs": [],
   "source": [
    "def heat_balance(x):\n",
    "    kh = x[0]\n",
    "    Cp = kh*0.010783 #J/K\n",
    "    ht = x[1]\n",
    "    T = np.zeros(len(t))+T0\n",
    "    Q = np.zeros(len(t))\n",
    "    \n",
    "    for i in range(len(Q)-1):\n",
    "        dQ = (T[i]-T0)\n",
    "        if dQ <= 0:\n",
    "            dQ = 1e-6\n",
    "        Q = P[i]*(dt) - ht*dQ*(dt)\n",
    "        T[i+1] = Q/Cp + T[i]\n",
    "\n",
    "    return T"
   ]
  },
  {
   "cell_type": "code",
   "execution_count": null,
   "metadata": {},
   "outputs": [],
   "source": []
  },
  {
   "cell_type": "code",
   "execution_count": 397,
   "metadata": {},
   "outputs": [],
   "source": [
    "def lsq(x):\n",
    "    T = heat_balance(x)\n",
    "    return ((T[np.argmax(T)]-Tme)/Tme)**2 + ((np.average(T)-Tve)/(Tve))**2"
   ]
  },
  {
   "cell_type": "code",
   "execution_count": 398,
   "metadata": {},
   "outputs": [],
   "source": [
    "x0 = [0.70532272 ,0.04197847]\n",
    "bounds= [(0.001,3),(1e-5,0.5)]\n",
    "res = minimize(lsq,x0,bounds=bounds)"
   ]
  },
  {
   "cell_type": "code",
   "execution_count": 399,
   "metadata": {},
   "outputs": [
    {
     "name": "stdout",
     "output_type": "stream",
     "text": [
      "1.1901747319473636e-06\n",
      "[0.39297686 0.35586413]\n"
     ]
    }
   ],
   "source": [
    "\n",
    "print(res.fun)\n",
    "print(res.x)"
   ]
  },
  {
   "cell_type": "code",
   "execution_count": 400,
   "metadata": {},
   "outputs": [
    {
     "name": "stdout",
     "output_type": "stream",
     "text": [
      "[730.         729.99999999 729.99999998 ... 730.00000001 730.00000001\n",
      " 730.00000001]\n"
     ]
    },
    {
     "data": {
      "image/png": "[encoded data removed]",
      "text/plain": [
       "<Figure size 640x480 with 1 Axes>"
      ]
     },
     "metadata": {},
     "output_type": "display_data"
    },
    {
     "name": "stdout",
     "output_type": "stream",
     "text": [
      "873.0910090993916\n",
      "743.7051457009389\n",
      "1.4460959459459455\n"
     ]
    }
   ],
   "source": [
    "T = heat_balance(res.x)\n",
    "print(T)\n",
    "plt.plot(t,T)\n",
    "plt.show()\n",
    "print(max(T))\n",
    "print(np.average(T))\n",
    "print(np.average(V))\n"
   ]
  }
 ],
 "metadata": {
  "kernelspec": {
   "display_name": "Python 3",
   "language": "python",
   "name": "python3"
  },
  "language_info": {
   "codemirror_mode": {
    "name": "ipython",
    "version": 3
   },
   "file_extension": ".py",
   "mimetype": "text/x-python",
   "name": "python",
   "nbconvert_exporter": "python",
   "pygments_lexer": "ipython3",
   "version": "3.12.3"
  }
 },
 "nbformat": 4,
 "nbformat_minor": 2
}
