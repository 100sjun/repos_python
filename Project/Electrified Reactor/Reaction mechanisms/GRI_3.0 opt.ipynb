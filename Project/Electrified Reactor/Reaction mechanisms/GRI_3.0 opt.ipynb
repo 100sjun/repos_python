{
 "cells": [
  {
   "cell_type": "code",
   "execution_count": 299,
   "metadata": {},
   "outputs": [],
   "source": [
    "import numpy as np\n",
    "import cantera as ct\n",
    "import matplotlib.pyplot as plt"
   ]
  },
  {
   "cell_type": "code",
   "execution_count": 300,
   "metadata": {},
   "outputs": [],
   "source": [
    "# import the model for gas-Fe interface and adjacent gas phase\n",
    "cat = ct.Interface('FeSiO2_NOMC.yaml','Fe_surf')\n",
    "gas = cat.adjacent['gas']\n",
    "\n",
    "# Modify gas phase reaction rates\n",
    "for i in range(gas.n_reactions):\n",
    "    gas.set_multiplier(0.001, i)\n",
    "\n",
    "# Modify gas phase reaction rates\n",
    "for i in range(cat.n_reactions):\n",
    "    cat.set_multiplier(1, i)"
   ]
  },
  {
   "cell_type": "code",
   "execution_count": 301,
   "metadata": {},
   "outputs": [],
   "source": [
    "# Set the initial conditions\n",
    "T0 = 1373.15 # K\n",
    "p0 = ct.one_atm # atm\n",
    "gas.TPX = T0, p0, \"CH4: 0.9, N2: 0.1\"\n",
    "cat.TP = T0, p0\n",
    "D = 0.004 # diameter of the tube [m]\n",
    "Ac = np.pi * D**2 / 4 # corss section of the tube [m2]\n",
    "w_cat = 0.82 # weight of catalyst [gcat]\n",
    "GHSV = 0.002016 # m3/gcat/hr\n",
    "u0 = GHSV * w_cat /3600 / Ac # [m/s]"
   ]
  },
  {
   "cell_type": "code",
   "execution_count": 302,
   "metadata": {},
   "outputs": [],
   "source": [
    "# Set the Reactor conditions\n",
    "reactor = ct.FlowReactor(gas)\n",
    "reactor.area = Ac\n",
    "reactor.mass_flow_rate = gas.density * u0 * Ac\n",
    "reactor.energy_enabled = False\n",
    "\n",
    "rsurf = ct.ReactorSurface(cat, reactor)\n",
    "net = ct.ReactorNet([reactor])\n",
    "soln = ct.SolutionArray(gas, extra=['x', 'surf_coverages'])\n"
   ]
  },
  {
   "cell_type": "code",
   "execution_count": 303,
   "metadata": {},
   "outputs": [],
   "source": [
    "# Integrate the reactor network\n",
    "while net.distance < 0.06:\n",
    "    net.step()\n",
    "    wdot = rsurf.kinetics.net_production_rates\n",
    "    soln.append(TDY=reactor.thermo.TDY,\n",
    "                x=net.distance,\n",
    "                surf_coverages=rsurf.coverages\n",
    "                )"
   ]
  },
  {
   "cell_type": "code",
   "execution_count": 304,
   "metadata": {},
   "outputs": [
    {
     "name": "stdout",
     "output_type": "stream",
     "text": [
      "0.8348085008297097\n"
     ]
    }
   ],
   "source": [
    "print(soln('CH4').Y[-1][0])"
   ]
  },
  {
   "cell_type": "code",
   "execution_count": null,
   "metadata": {},
   "outputs": [],
   "source": []
  }
 ],
 "metadata": {
  "kernelspec": {
   "display_name": "Python 3",
   "language": "python",
   "name": "python3"
  },
  "language_info": {
   "codemirror_mode": {
    "name": "ipython",
    "version": 3
   },
   "file_extension": ".py",
   "mimetype": "text/x-python",
   "name": "python",
   "nbconvert_exporter": "python",
   "pygments_lexer": "ipython3",
   "version": "3.12.3"
  }
 },
 "nbformat": 4,
 "nbformat_minor": 2
}
