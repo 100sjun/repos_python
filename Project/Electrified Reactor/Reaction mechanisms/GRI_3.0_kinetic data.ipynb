{
 "cells": [
  {
   "cell_type": "code",
   "execution_count": 2,
   "metadata": {},
   "outputs": [],
   "source": [
    "import numpy as np\n",
    "import cantera as ct\n",
    "import matplotlib.pyplot as plt\n",
    "import pandas as pd"
   ]
  },
  {
   "cell_type": "code",
   "execution_count": 3,
   "metadata": {},
   "outputs": [],
   "source": [
    "#Experimental Data\n",
    "Temp = np.arange(750,2000,50)\n",
    "Feed = np.linspace(0.0001,0.01,50)"
   ]
  },
  {
   "cell_type": "code",
   "execution_count": 4,
   "metadata": {},
   "outputs": [],
   "source": [
    "def run_simulation(Tx,Fx):\n",
    "    # Separate gas and interface multipliers\n",
    "    gas_mult = 5.08965517\n",
    "    cat_mult = 89.55172414\n",
    "    # import the model for gas-Fe interface and adjacent gas phase\n",
    "    cat = ct.Interface('FeSiO2_NOMC.yaml','Fe_surf')\n",
    "    gas = cat.adjacent['gas']\n",
    "\n",
    "    # Set gas phase reaction multiplier\n",
    "    gas.set_multiplier(gas_mult)\n",
    "    # Set cat phase reaction multiplier\n",
    "    cat.set_multiplier(cat_mult)\n",
    "\n",
    "    T0 = Tx # K\n",
    "    p0 = ct.one_atm # atm\n",
    "    gas.TPX = T0, p0, \"CH4: 0.9\"\n",
    "    cat.TP = T0, p0\n",
    "    D = 0.004 # diameter of the tube [m]\n",
    "    Ac = np.pi * D**2 / 4 # cross section of the tube [m2]\n",
    "    w_cat = 0.84 # weight of catalyst [gcat]\n",
    "    GHSV = Fx # m3/gcat/hr\n",
    "    u0 = GHSV * w_cat /3600 / Ac # [m/s]\n",
    "\n",
    "    # Set the Reactor conditions\n",
    "    reactor = ct.FlowReactor(gas)\n",
    "    reactor.area = Ac\n",
    "    reactor.mass_flow_rate = 0.704672614990904 * u0 * Ac\n",
    "    reactor.energy_enabled = False\n",
    "    rsurf = ct.ReactorSurface(cat, reactor)\n",
    "    net = ct.ReactorNet([reactor])\n",
    "    soln = ct.SolutionArray(gas, extra=['x', 'surf_coverages'])\n",
    "\n",
    "    # Integrate the reactor network\n",
    "    while net.distance < 0.06:\n",
    "        net.step()\n",
    "        wdot = rsurf.kinetics.net_production_rates\n",
    "        soln.append(TDY=reactor.thermo.TDY,\n",
    "                    x=net.distance,\n",
    "                    surf_coverages=rsurf.coverages\n",
    "        )\n",
    "    return (0.704672614990904 * u0 * Ac,soln('CH4').Y[-1][0],soln('H2').Y[-1][0],soln('C2H2').Y[-1][0],soln('C2H4').Y[-1][0],soln('C2H6').Y[-1][0],soln('C3H8').Y[-1][0] )\n"
   ]
  },
  {
   "cell_type": "code",
   "execution_count": 5,
   "metadata": {},
   "outputs": [],
   "source": [
    "def Kinetic_Data(input):\n",
    "    res = run_simulation(input[0],input[1])\n",
    "    return res"
   ]
  },
  {
   "cell_type": "code",
   "execution_count": 6,
   "metadata": {},
   "outputs": [
    {
     "name": "stderr",
     "output_type": "stream",
     "text": [
      "100%|██████████| 1250/1250 [05:13<00:00,  3.98it/s] "
     ]
    },
    {
     "name": "stdout",
     "output_type": "stream",
     "text": [
      "처리 완료\n"
     ]
    },
    {
     "name": "stderr",
     "output_type": "stream",
     "text": [
      "\n"
     ]
    }
   ],
   "source": [
    "from concurrent.futures import ThreadPoolExecutor\n",
    "from tqdm import tqdm\n",
    "from itertools import product\n",
    "\n",
    "x0 = Temp\n",
    "x1 = Feed\n",
    "xd = np.array(list(product(x0,x1)))\n",
    "results = []\n",
    "\n",
    "with ThreadPoolExecutor() as executor:\n",
    "    futures = [executor.submit(Kinetic_Data, x) for x in xd]\n",
    "\n",
    "    for future in tqdm(futures, total=len(futures)):\n",
    "        result = future.result()\n",
    "        results.append(result)\n",
    "\n",
    "print('처리 완료')"
   ]
  },
  {
   "cell_type": "code",
   "execution_count": 7,
   "metadata": {},
   "outputs": [
    {
     "data": {
      "text/plain": [
       "array([[1.64423610e-08, 4.96626414e-08, 8.28829219e-08, ...,\n",
       "        1.57779554e-06, 1.61101582e-06, 1.64423610e-06],\n",
       "       [9.99999828e-01, 9.99999950e-01, 9.99999971e-01, ...,\n",
       "        1.22429080e-02, 1.22429072e-02, 1.22429069e-02],\n",
       "       [1.08020269e-08, 3.14320765e-09, 1.84636268e-09, ...,\n",
       "        1.85576345e-01, 1.85576345e-01, 1.85576345e-01],\n",
       "       ...,\n",
       "       [4.21614186e-11, 7.58647213e-12, 3.90095296e-12, ...,\n",
       "        5.67243964e-03, 5.67243926e-03, 5.67243888e-03],\n",
       "       [1.59013148e-07, 4.48514218e-08, 2.55160709e-08, ...,\n",
       "        3.23436736e-06, 3.23436701e-06, 3.23436683e-06],\n",
       "       [5.31015809e-13, 9.49448794e-14, 4.84996245e-14, ...,\n",
       "        1.29748174e-09, 1.29748151e-09, 1.29748136e-09]])"
      ]
     },
     "execution_count": 7,
     "metadata": {},
     "output_type": "execute_result"
    }
   ],
   "source": [
    "res = np.array(results)\n",
    "res.T"
   ]
  },
  {
   "cell_type": "code",
   "execution_count": 8,
   "metadata": {},
   "outputs": [
    {
     "data": {
      "text/html": [
       "<div>\n",
       "<style scoped>\n",
       "    .dataframe tbody tr th:only-of-type {\n",
       "        vertical-align: middle;\n",
       "    }\n",
       "\n",
       "    .dataframe tbody tr th {\n",
       "        vertical-align: top;\n",
       "    }\n",
       "\n",
       "    .dataframe thead th {\n",
       "        text-align: right;\n",
       "    }\n",
       "</style>\n",
       "<table border=\"1\" class=\"dataframe\">\n",
       "  <thead>\n",
       "    <tr style=\"text-align: right;\">\n",
       "      <th></th>\n",
       "      <th>Temp</th>\n",
       "      <th>GHSV</th>\n",
       "      <th>F</th>\n",
       "      <th>WCH4</th>\n",
       "      <th>WH2</th>\n",
       "      <th>WC2H2</th>\n",
       "      <th>WC2H4</th>\n",
       "      <th>WC2H6</th>\n",
       "      <th>WC3H8</th>\n",
       "    </tr>\n",
       "  </thead>\n",
       "  <tbody>\n",
       "    <tr>\n",
       "      <th>0</th>\n",
       "      <td>750.0</td>\n",
       "      <td>0.000100</td>\n",
       "      <td>1.644236e-08</td>\n",
       "      <td>1.000000</td>\n",
       "      <td>1.080203e-08</td>\n",
       "      <td>2.197315e-18</td>\n",
       "      <td>4.216142e-11</td>\n",
       "      <td>1.590131e-07</td>\n",
       "      <td>5.310158e-13</td>\n",
       "    </tr>\n",
       "    <tr>\n",
       "      <th>1</th>\n",
       "      <td>750.0</td>\n",
       "      <td>0.000302</td>\n",
       "      <td>4.966264e-08</td>\n",
       "      <td>1.000000</td>\n",
       "      <td>3.143208e-09</td>\n",
       "      <td>1.189059e-19</td>\n",
       "      <td>7.586472e-12</td>\n",
       "      <td>4.485142e-08</td>\n",
       "      <td>9.494488e-14</td>\n",
       "    </tr>\n",
       "    <tr>\n",
       "      <th>2</th>\n",
       "      <td>750.0</td>\n",
       "      <td>0.000504</td>\n",
       "      <td>8.288292e-08</td>\n",
       "      <td>1.000000</td>\n",
       "      <td>1.846363e-09</td>\n",
       "      <td>3.569758e-20</td>\n",
       "      <td>3.900953e-12</td>\n",
       "      <td>2.551607e-08</td>\n",
       "      <td>4.849962e-14</td>\n",
       "    </tr>\n",
       "    <tr>\n",
       "      <th>3</th>\n",
       "      <td>750.0</td>\n",
       "      <td>0.000706</td>\n",
       "      <td>1.161032e-07</td>\n",
       "      <td>1.000000</td>\n",
       "      <td>1.389665e-09</td>\n",
       "      <td>1.868021e-20</td>\n",
       "      <td>2.752630e-12</td>\n",
       "      <td>1.870660e-08</td>\n",
       "      <td>3.403080e-14</td>\n",
       "    </tr>\n",
       "    <tr>\n",
       "      <th>4</th>\n",
       "      <td>750.0</td>\n",
       "      <td>0.000908</td>\n",
       "      <td>1.493235e-07</td>\n",
       "      <td>1.000000</td>\n",
       "      <td>1.000306e-09</td>\n",
       "      <td>8.697616e-21</td>\n",
       "      <td>1.835155e-12</td>\n",
       "      <td>1.290103e-08</td>\n",
       "      <td>2.247187e-14</td>\n",
       "    </tr>\n",
       "    <tr>\n",
       "      <th>...</th>\n",
       "      <td>...</td>\n",
       "      <td>...</td>\n",
       "      <td>...</td>\n",
       "      <td>...</td>\n",
       "      <td>...</td>\n",
       "      <td>...</td>\n",
       "      <td>...</td>\n",
       "      <td>...</td>\n",
       "      <td>...</td>\n",
       "    </tr>\n",
       "    <tr>\n",
       "      <th>1245</th>\n",
       "      <td>1950.0</td>\n",
       "      <td>0.009192</td>\n",
       "      <td>1.511355e-06</td>\n",
       "      <td>0.012243</td>\n",
       "      <td>1.855763e-01</td>\n",
       "      <td>7.958978e-01</td>\n",
       "      <td>5.672440e-03</td>\n",
       "      <td>3.234368e-06</td>\n",
       "      <td>1.297482e-09</td>\n",
       "    </tr>\n",
       "    <tr>\n",
       "      <th>1246</th>\n",
       "      <td>1950.0</td>\n",
       "      <td>0.009394</td>\n",
       "      <td>1.544575e-06</td>\n",
       "      <td>0.012243</td>\n",
       "      <td>1.855763e-01</td>\n",
       "      <td>7.958978e-01</td>\n",
       "      <td>5.672440e-03</td>\n",
       "      <td>3.234368e-06</td>\n",
       "      <td>1.297482e-09</td>\n",
       "    </tr>\n",
       "    <tr>\n",
       "      <th>1247</th>\n",
       "      <td>1950.0</td>\n",
       "      <td>0.009596</td>\n",
       "      <td>1.577796e-06</td>\n",
       "      <td>0.012243</td>\n",
       "      <td>1.855763e-01</td>\n",
       "      <td>7.958978e-01</td>\n",
       "      <td>5.672440e-03</td>\n",
       "      <td>3.234367e-06</td>\n",
       "      <td>1.297482e-09</td>\n",
       "    </tr>\n",
       "    <tr>\n",
       "      <th>1248</th>\n",
       "      <td>1950.0</td>\n",
       "      <td>0.009798</td>\n",
       "      <td>1.611016e-06</td>\n",
       "      <td>0.012243</td>\n",
       "      <td>1.855763e-01</td>\n",
       "      <td>7.958978e-01</td>\n",
       "      <td>5.672439e-03</td>\n",
       "      <td>3.234367e-06</td>\n",
       "      <td>1.297482e-09</td>\n",
       "    </tr>\n",
       "    <tr>\n",
       "      <th>1249</th>\n",
       "      <td>1950.0</td>\n",
       "      <td>0.010000</td>\n",
       "      <td>1.644236e-06</td>\n",
       "      <td>0.012243</td>\n",
       "      <td>1.855763e-01</td>\n",
       "      <td>7.958978e-01</td>\n",
       "      <td>5.672439e-03</td>\n",
       "      <td>3.234367e-06</td>\n",
       "      <td>1.297481e-09</td>\n",
       "    </tr>\n",
       "  </tbody>\n",
       "</table>\n",
       "<p>1250 rows × 9 columns</p>\n",
       "</div>"
      ],
      "text/plain": [
       "        Temp      GHSV             F      WCH4           WH2         WC2H2  \\\n",
       "0      750.0  0.000100  1.644236e-08  1.000000  1.080203e-08  2.197315e-18   \n",
       "1      750.0  0.000302  4.966264e-08  1.000000  3.143208e-09  1.189059e-19   \n",
       "2      750.0  0.000504  8.288292e-08  1.000000  1.846363e-09  3.569758e-20   \n",
       "3      750.0  0.000706  1.161032e-07  1.000000  1.389665e-09  1.868021e-20   \n",
       "4      750.0  0.000908  1.493235e-07  1.000000  1.000306e-09  8.697616e-21   \n",
       "...      ...       ...           ...       ...           ...           ...   \n",
       "1245  1950.0  0.009192  1.511355e-06  0.012243  1.855763e-01  7.958978e-01   \n",
       "1246  1950.0  0.009394  1.544575e-06  0.012243  1.855763e-01  7.958978e-01   \n",
       "1247  1950.0  0.009596  1.577796e-06  0.012243  1.855763e-01  7.958978e-01   \n",
       "1248  1950.0  0.009798  1.611016e-06  0.012243  1.855763e-01  7.958978e-01   \n",
       "1249  1950.0  0.010000  1.644236e-06  0.012243  1.855763e-01  7.958978e-01   \n",
       "\n",
       "             WC2H4         WC2H6         WC3H8  \n",
       "0     4.216142e-11  1.590131e-07  5.310158e-13  \n",
       "1     7.586472e-12  4.485142e-08  9.494488e-14  \n",
       "2     3.900953e-12  2.551607e-08  4.849962e-14  \n",
       "3     2.752630e-12  1.870660e-08  3.403080e-14  \n",
       "4     1.835155e-12  1.290103e-08  2.247187e-14  \n",
       "...            ...           ...           ...  \n",
       "1245  5.672440e-03  3.234368e-06  1.297482e-09  \n",
       "1246  5.672440e-03  3.234368e-06  1.297482e-09  \n",
       "1247  5.672440e-03  3.234367e-06  1.297482e-09  \n",
       "1248  5.672439e-03  3.234367e-06  1.297482e-09  \n",
       "1249  5.672439e-03  3.234367e-06  1.297481e-09  \n",
       "\n",
       "[1250 rows x 9 columns]"
      ]
     },
     "metadata": {},
     "output_type": "display_data"
    }
   ],
   "source": [
    "df_temp = xd.T[0]\n",
    "df_ghsv = xd.T[1]\n",
    "df_F = res.T[0]\n",
    "df_CH4 = res.T[1]\n",
    "df_H2 = res.T[2]\n",
    "df_C2H2 = res.T[3]\n",
    "df_C2H4 = res.T[4]\n",
    "df_C2H6 = res.T[5]\n",
    "df_C3H8 = res.T[6]\n",
    "\n",
    "df = {'Temp':df_temp, 'GHSV':df_ghsv, 'F':df_F}\n",
    "df['WCH4'] = df_CH4\n",
    "df['WH2'] = df_H2\n",
    "df['WC2H2'] = df_C2H2\n",
    "df['WC2H4'] = df_C2H4\n",
    "df['WC2H6'] = df_C2H6\n",
    "df['WC3H8'] = df_C3H8\n",
    "\n",
    "results_df = pd.DataFrame(df)\n",
    "\n",
    "display(results_df)\n",
    "\n"
   ]
  },
  {
   "cell_type": "code",
   "execution_count": 26,
   "metadata": {},
   "outputs": [
    {
     "data": {
      "text/plain": [
       "(0.0, 1.0)"
      ]
     },
     "execution_count": 26,
     "metadata": {},
     "output_type": "execute_result"
    },
    {
     "data": {
      "image/png": "[encoded data removed]",
      "text/plain": [
       "<Figure size 640x480 with 1 Axes>"
      ]
     },
     "metadata": {},
     "output_type": "display_data"
    }
   ],
   "source": [
    "plt.scatter(df['GHSV'],df['WC3H8'],marker='.')\n",
    "plt.title('GHSV vs C3H8 mass fraction')\n",
    "plt.xlabel('GHSV(mL/gcat/hr)')\n",
    "plt.ylabel('C3H8 mass fraction')\n",
    "plt.ylim(0,1)"
   ]
  },
  {
   "cell_type": "code",
   "execution_count": 10,
   "metadata": {},
   "outputs": [],
   "source": [
    "results_df.to_excel('kinetic data.xlsx')"
   ]
  }
 ],
 "metadata": {
  "kernelspec": {
   "display_name": "Python 3",
   "language": "python",
   "name": "python3"
  },
  "language_info": {
   "codemirror_mode": {
    "name": "ipython",
    "version": 3
   },
   "file_extension": ".py",
   "mimetype": "text/x-python",
   "name": "python",
   "nbconvert_exporter": "python",
   "pygments_lexer": "ipython3",
   "version": "3.12.3"
  }
 },
 "nbformat": 4,
 "nbformat_minor": 2
}
