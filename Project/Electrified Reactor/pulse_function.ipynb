{
 "cells": [
  {
   "cell_type": "code",
   "execution_count": 3,
   "metadata": {},
   "outputs": [
    {
     "ename": "ValueError",
     "evalue": "setting an array element with a sequence. The requested array has an inhomogeneous shape after 1 dimensions. The detected shape was (2,) + inhomogeneous part.",
     "output_type": "error",
     "traceback": [
      "\u001b[1;31m---------------------------------------------------------------------------\u001b[0m",
      "\u001b[1;31mValueError\u001b[0m                                Traceback (most recent call last)",
      "Cell \u001b[1;32mIn[3], line 12\u001b[0m\n\u001b[0;32m      9\u001b[0m x \u001b[38;5;241m=\u001b[39m np\u001b[38;5;241m.\u001b[39mlinspace(a, b, \u001b[38;5;241m1000\u001b[39m)\n\u001b[0;32m     11\u001b[0m \u001b[38;5;66;03m# 함수 계산\u001b[39;00m\n\u001b[1;32m---> 12\u001b[0m f \u001b[38;5;241m=\u001b[39m A \u001b[38;5;241m*\u001b[39m \u001b[43mnp\u001b[49m\u001b[38;5;241;43m.\u001b[39;49m\u001b[43mhanning\u001b[49m\u001b[43m(\u001b[49m\u001b[43mx\u001b[49m\u001b[43m \u001b[49m\u001b[38;5;241;43m-\u001b[39;49m\u001b[43m \u001b[49m\u001b[43ma\u001b[49m\u001b[43m)\u001b[49m \u001b[38;5;241m*\u001b[39m np\u001b[38;5;241m.\u001b[39mheaviside(x \u001b[38;5;241m-\u001b[39m a) \u001b[38;5;241m*\u001b[39m np\u001b[38;5;241m.\u001b[39mheaviside(b \u001b[38;5;241m-\u001b[39m x)\n\u001b[0;32m     14\u001b[0m \u001b[38;5;66;03m# 그래프 출력\u001b[39;00m\n\u001b[0;32m     15\u001b[0m \u001b[38;5;28;01mimport\u001b[39;00m \u001b[38;5;21;01mmatplotlib\u001b[39;00m\u001b[38;5;21;01m.\u001b[39;00m\u001b[38;5;21;01mpyplot\u001b[39;00m \u001b[38;5;28;01mas\u001b[39;00m \u001b[38;5;21;01mplt\u001b[39;00m\n",
      "File \u001b[1;32mc:\\Python\\Python312\\Lib\\site-packages\\numpy\\lib\\function_base.py:3226\u001b[0m, in \u001b[0;36mhanning\u001b[1;34m(M)\u001b[0m\n\u001b[0;32m   3130\u001b[0m \u001b[38;5;250m\u001b[39m\u001b[38;5;124;03m\"\"\"\u001b[39;00m\n\u001b[0;32m   3131\u001b[0m \u001b[38;5;124;03mReturn the Hanning window.\u001b[39;00m\n\u001b[0;32m   3132\u001b[0m \n\u001b[1;32m   (...)\u001b[0m\n\u001b[0;32m   3222\u001b[0m \n\u001b[0;32m   3223\u001b[0m \u001b[38;5;124;03m\"\"\"\u001b[39;00m\n\u001b[0;32m   3224\u001b[0m \u001b[38;5;66;03m# Ensures at least float64 via 0.0.  M should be an integer, but conversion\u001b[39;00m\n\u001b[0;32m   3225\u001b[0m \u001b[38;5;66;03m# to double is safe for a range.\u001b[39;00m\n\u001b[1;32m-> 3226\u001b[0m values \u001b[38;5;241m=\u001b[39m \u001b[43mnp\u001b[49m\u001b[38;5;241;43m.\u001b[39;49m\u001b[43marray\u001b[49m\u001b[43m(\u001b[49m\u001b[43m[\u001b[49m\u001b[38;5;241;43m0.0\u001b[39;49m\u001b[43m,\u001b[49m\u001b[43m \u001b[49m\u001b[43mM\u001b[49m\u001b[43m]\u001b[49m\u001b[43m)\u001b[49m\n\u001b[0;32m   3227\u001b[0m M \u001b[38;5;241m=\u001b[39m values[\u001b[38;5;241m1\u001b[39m]\n\u001b[0;32m   3229\u001b[0m \u001b[38;5;28;01mif\u001b[39;00m M \u001b[38;5;241m<\u001b[39m \u001b[38;5;241m1\u001b[39m:\n",
      "\u001b[1;31mValueError\u001b[0m: setting an array element with a sequence. The requested array has an inhomogeneous shape after 1 dimensions. The detected shape was (2,) + inhomogeneous part."
     ]
    }
   ],
   "source": [
    "import numpy as np\n",
    "\n",
    "# 변수 설정\n",
    "A = 1\n",
    "a = 0\n",
    "b = 10\n",
    "\n",
    "# x 값 생성\n",
    "x = np.linspace(a, b, 1000)\n",
    "\n",
    "# 함수 계산\n",
    "f = A * np.hanning(x - a) * np.heaviside(x - a) * np.heaviside(b - x)\n",
    "\n",
    "# 그래프 출력\n",
    "import matplotlib.pyplot as plt\n",
    "\n",
    "plt.plot(x, f)\n",
    "plt.xlabel('x')\n",
    "plt.ylabel('f(x)')\n",
    "plt.xlim(a, b)\n",
    "plt.ylim(-0.1, 1.1)\n",
    "plt.show()"
   ]
  }
 ],
 "metadata": {
  "kernelspec": {
   "display_name": "Python 3",
   "language": "python",
   "name": "python3"
  },
  "language_info": {
   "codemirror_mode": {
    "name": "ipython",
    "version": 3
   },
   "file_extension": ".py",
   "mimetype": "text/x-python",
   "name": "python",
   "nbconvert_exporter": "python",
   "pygments_lexer": "ipython3",
   "version": "3.12.3"
  }
 },
 "nbformat": 4,
 "nbformat_minor": 2
}
