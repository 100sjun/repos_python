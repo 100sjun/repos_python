{
 "cells": [
  {
   "cell_type": "code",
   "execution_count": 545,
   "metadata": {
    "metadata": {}
   },
   "outputs": [],
   "source": [
    "import numpy as np\n",
    "import pandas as pd\n",
    "from sklearn.linear_model import LinearRegression\n",
    "import scipy.optimize as optimize"
   ]
  },
  {
   "cell_type": "code",
   "execution_count": 546,
   "metadata": {
    "metadata": {}
   },
   "outputs": [],
   "source": [
    "data_20r = {\n",
    "    'k0': [9468808,9000000,9430215,9427047,9362424,9322566,9241749,9152780,9009681,8805289,8864576,8864702],\n",
    "    'Ea': [1.197,1.26,1.187,1.198,1.204,1.198,1.198,1.201,1.192,1.177,1.182,1.182],\n",
    "    'b': [-0.5739,-0.5425,-0.5788,-0.5738,-0.5737,-0.5710,-0.5758,-0.5621,-0.5929,-0.628,-0.6145,-0.6144],\n",
    "    'Conv': [88.5,77.5,89.6,88.2,87.1,88.2,87.8,88.1,87.4,87.3,87.4,87.4],\n",
    "}\n",
    "df_20r = pd.DataFrame(data_20r)\n",
    "data_35r = {\n",
    "    'k0': [9468808,9000000,9430215,9427047,9362424,9322566,9241749,9152780,9009681,8805289,8864576,8864702],\n",
    "    'Ea': [1.197,1.26,1.187,1.198,1.204,1.198,1.198,1.201,1.192,1.177,1.182,1.182],\n",
    "    'b': [-0.5739,-0.5425,-0.5788,-0.5738,-0.5737,-0.5710,-0.5758,-0.5621,-0.5929,-0.628,-0.6145,-0.6144],\n",
    "    'Conv': [77,59.4,79.2,76.7,74.9,76.8,76.1,76.5,75.6,75.8,75.9,75.9],\n",
    "}\n",
    "df_35r = pd.DataFrame(data_35r)\n"
   ]
  },
  {
   "cell_type": "code",
   "execution_count": 547,
   "metadata": {
    "metadata": {}
   },
   "outputs": [
    {
     "data": {
      "text/html": [
       "<div>\n",
       "<style scoped>\n",
       "    .dataframe tbody tr th:only-of-type {\n",
       "        vertical-align: middle;\n",
       "    }\n",
       "\n",
       "    .dataframe tbody tr th {\n",
       "        vertical-align: top;\n",
       "    }\n",
       "\n",
       "    .dataframe thead th {\n",
       "        text-align: right;\n",
       "    }\n",
       "</style>\n",
       "<table border=\"1\" class=\"dataframe\">\n",
       "  <thead>\n",
       "    <tr style=\"text-align: right;\">\n",
       "      <th></th>\n",
       "      <th>k0</th>\n",
       "      <th>Ea</th>\n",
       "      <th>b</th>\n",
       "      <th>Conv</th>\n",
       "    </tr>\n",
       "  </thead>\n",
       "  <tbody>\n",
       "    <tr>\n",
       "      <th>0</th>\n",
       "      <td>9468808</td>\n",
       "      <td>1.197</td>\n",
       "      <td>-0.5739</td>\n",
       "      <td>88.5</td>\n",
       "    </tr>\n",
       "    <tr>\n",
       "      <th>1</th>\n",
       "      <td>9000000</td>\n",
       "      <td>1.260</td>\n",
       "      <td>-0.5425</td>\n",
       "      <td>77.5</td>\n",
       "    </tr>\n",
       "    <tr>\n",
       "      <th>2</th>\n",
       "      <td>9430215</td>\n",
       "      <td>1.187</td>\n",
       "      <td>-0.5788</td>\n",
       "      <td>89.6</td>\n",
       "    </tr>\n",
       "    <tr>\n",
       "      <th>3</th>\n",
       "      <td>9427047</td>\n",
       "      <td>1.198</td>\n",
       "      <td>-0.5738</td>\n",
       "      <td>88.2</td>\n",
       "    </tr>\n",
       "    <tr>\n",
       "      <th>4</th>\n",
       "      <td>9362424</td>\n",
       "      <td>1.204</td>\n",
       "      <td>-0.5737</td>\n",
       "      <td>87.1</td>\n",
       "    </tr>\n",
       "    <tr>\n",
       "      <th>5</th>\n",
       "      <td>9322566</td>\n",
       "      <td>1.198</td>\n",
       "      <td>-0.5710</td>\n",
       "      <td>88.2</td>\n",
       "    </tr>\n",
       "    <tr>\n",
       "      <th>6</th>\n",
       "      <td>9241749</td>\n",
       "      <td>1.198</td>\n",
       "      <td>-0.5758</td>\n",
       "      <td>87.8</td>\n",
       "    </tr>\n",
       "    <tr>\n",
       "      <th>7</th>\n",
       "      <td>9152780</td>\n",
       "      <td>1.201</td>\n",
       "      <td>-0.5621</td>\n",
       "      <td>88.1</td>\n",
       "    </tr>\n",
       "    <tr>\n",
       "      <th>8</th>\n",
       "      <td>9009681</td>\n",
       "      <td>1.192</td>\n",
       "      <td>-0.5929</td>\n",
       "      <td>87.4</td>\n",
       "    </tr>\n",
       "    <tr>\n",
       "      <th>9</th>\n",
       "      <td>8805289</td>\n",
       "      <td>1.177</td>\n",
       "      <td>-0.6280</td>\n",
       "      <td>87.3</td>\n",
       "    </tr>\n",
       "    <tr>\n",
       "      <th>10</th>\n",
       "      <td>8864576</td>\n",
       "      <td>1.182</td>\n",
       "      <td>-0.6145</td>\n",
       "      <td>87.4</td>\n",
       "    </tr>\n",
       "  </tbody>\n",
       "</table>\n",
       "</div>"
      ],
      "text/plain": [
       "         k0     Ea       b  Conv\n",
       "0   9468808  1.197 -0.5739  88.5\n",
       "1   9000000  1.260 -0.5425  77.5\n",
       "2   9430215  1.187 -0.5788  89.6\n",
       "3   9427047  1.198 -0.5738  88.2\n",
       "4   9362424  1.204 -0.5737  87.1\n",
       "5   9322566  1.198 -0.5710  88.2\n",
       "6   9241749  1.198 -0.5758  87.8\n",
       "7   9152780  1.201 -0.5621  88.1\n",
       "8   9009681  1.192 -0.5929  87.4\n",
       "9   8805289  1.177 -0.6280  87.3\n",
       "10  8864576  1.182 -0.6145  87.4"
      ]
     },
     "execution_count": 547,
     "metadata": {},
     "output_type": "execute_result"
    }
   ],
   "source": [
    "df_20r"
   ]
  },
  {
   "cell_type": "code",
   "execution_count": 548,
   "metadata": {
    "metadata": {}
   },
   "outputs": [],
   "source": [
    "df_20r['lnk'] = np.log(df_20r['k0'])\n",
    "df_35r['lnk'] = np.log(df_35r['k0'])"
   ]
  },
  {
   "cell_type": "code",
   "execution_count": 549,
   "metadata": {
    "metadata": {}
   },
   "outputs": [
    {
     "name": "stdout",
     "output_type": "stream",
     "text": [
      "결정계수: 0.9978927343317576\n",
      "회귀 계수: [  13.46458095 -198.47099612   75.47320401]\n",
      "절편: 153.0072275803083\n"
     ]
    }
   ],
   "source": [
    "x = df_20r[['lnk','Ea','b']]\n",
    "y = df_20r['Conv']\n",
    "\n",
    "model20 = LinearRegression()\n",
    "model20.fit(x,y)\n",
    "y_pred = model20.predict(x)\n",
    "\n",
    "print(\"결정계수:\", model20.score(x, y))\n",
    "print(\"회귀 계수:\", model20.coef_)\n",
    "print(\"절편:\", model20.intercept_)"
   ]
  },
  {
   "cell_type": "code",
   "execution_count": 550,
   "metadata": {
    "metadata": {}
   },
   "outputs": [
    {
     "name": "stdout",
     "output_type": "stream",
     "text": [
      "결정계수: 0.9989877498452406\n",
      "회귀 계수: [  18.66491871 -320.58644811  115.4635245 ]\n",
      "절편: 227.21147521930675\n"
     ]
    }
   ],
   "source": [
    "x = df_35r[['lnk','Ea','b']]\n",
    "y = df_35r['Conv']\n",
    "\n",
    "model35 = LinearRegression()\n",
    "model35.fit(x,y)\n",
    "y_pred = model35.predict(x)\n",
    "\n",
    "print(\"결정계수:\", model35.score(x, y))\n",
    "print(\"회귀 계수:\", model35.coef_)\n",
    "print(\"절편:\", model35.intercept_)"
   ]
  },
  {
   "cell_type": "code",
   "execution_count": 551,
   "metadata": {
    "metadata": {}
   },
   "outputs": [],
   "source": [
    "def opt(x):\n",
    "    return ((x[0]*model20.coef_[0] + x[1]*model20.coef_[1] + x[2]*model20.coef_[2] + model20.intercept_ - 87.5)/87.5)**2 + ((x[0]*model35.coef_[0] + x[1]*model35.coef_[1] + x[2]*model35.coef_[2] + model35.intercept_ - 76)/76)**2"
   ]
  },
  {
   "cell_type": "code",
   "execution_count": 552,
   "metadata": {
    "metadata": {}
   },
   "outputs": [],
   "source": [
    "x0 = [np.log(8864576),1.182,-0.6145]\n",
    "bounds = ((0, np.inf), (0, 10), (-10, 10))\n",
    "result = optimize.minimize(opt, x0, bounds=bounds)"
   ]
  },
  {
   "cell_type": "code",
   "execution_count": 553,
   "metadata": {
    "metadata": {}
   },
   "outputs": [
    {
     "name": "stdout",
     "output_type": "stream",
     "text": [
      "  message: CONVERGENCE: NORM_OF_PROJECTED_GRADIENT_<=_PGTOL\n",
      "  success: True\n",
      "   status: 0\n",
      "      fun: 1.6760286586325994e-08\n",
      "        x: [ 1.600e+01  1.182e+00 -6.144e-01]\n",
      "      nit: 1\n",
      "      jac: [-4.747e-06 -3.551e-06 -8.993e-06]\n",
      "     nfev: 12\n",
      "     njev: 3\n",
      " hess_inv: <3x3 LbfgsInvHessProduct with dtype=float64>\n"
     ]
    }
   ],
   "source": [
    "print(result)"
   ]
  },
  {
   "cell_type": "code",
   "execution_count": 554,
   "metadata": {
    "metadata": {}
   },
   "outputs": [
    {
     "name": "stdout",
     "output_type": "stream",
     "text": [
      "8864702.344671555 44323511.723357774\n"
     ]
    }
   ],
   "source": [
    "rpm2 = np.exp(result.x[0])\n",
    "rpm35 = 5*rpm2\n",
    "print(rpm2, rpm35)"
   ]
  },
  {
   "cell_type": "code",
   "execution_count": null,
   "metadata": {},
   "outputs": [],
   "source": []
  },
  {
   "cell_type": "code",
   "execution_count": 555,
   "metadata": {
    "metadata": {}
   },
   "outputs": [
    {
     "ename": "NameError",
     "evalue": "name 'model' is not defined",
     "output_type": "error",
     "traceback": [
      "\u001b[0;31m---------------------------------------------------------------------------\u001b[0m",
      "\u001b[0;31mNameError\u001b[0m                                 Traceback (most recent call last)",
      "Cell \u001b[0;32mIn[555], line 3\u001b[0m\n\u001b[1;32m      1\u001b[0m \u001b[38;5;66;03m# 역산 모델\u001b[39;00m\n\u001b[1;32m      2\u001b[0m x2 \u001b[38;5;241m=\u001b[39m \u001b[38;5;241m1.25\u001b[39m\n\u001b[0;32m----> 3\u001b[0m x1 \u001b[38;5;241m=\u001b[39m (\u001b[38;5;241m74\u001b[39m \u001b[38;5;241m-\u001b[39m x2\u001b[38;5;241m*\u001b[39m\u001b[43mmodel\u001b[49m\u001b[38;5;241m.\u001b[39mcoef_[\u001b[38;5;241m1\u001b[39m] \u001b[38;5;241m-\u001b[39m model\u001b[38;5;241m.\u001b[39mintercept_)\u001b[38;5;241m/\u001b[39mmodel\u001b[38;5;241m.\u001b[39mcoef_[\u001b[38;5;241m0\u001b[39m]\n\u001b[1;32m      4\u001b[0m x1\n",
      "\u001b[0;31mNameError\u001b[0m: name 'model' is not defined"
     ]
    }
   ],
   "source": [
    "# 역산 모델\n",
    "x2 = 1.25\n",
    "x1 = (74 - x2*model.coef_[1] - model.intercept_)/model.coef_[0]\n",
    "x1"
   ]
  }
 ],
 "metadata": {
  "kernelspec": {
   "display_name": "Python 3",
   "language": "python",
   "name": "python3"
  },
  "language_info": {
   "codemirror_mode": {
    "name": "ipython",
    "version": 3
   },
   "file_extension": ".py",
   "mimetype": "text/x-python",
   "name": "python",
   "nbconvert_exporter": "python",
   "pygments_lexer": "ipython3",
   "version": "3.10.12"
  }
 },
 "nbformat": 4,
 "nbformat_minor": 2
}
