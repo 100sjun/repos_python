{
 "cells": [
  {
   "cell_type": "code",
   "execution_count": 12,
   "metadata": {
    "metadata": {}
   },
   "outputs": [],
   "source": [
    "import numpy as np\n",
    "import pandas as pd\n",
    "from sklearn.linear_model import LinearRegression\n",
    "import scipy.optimize as optimize"
   ]
  },
  {
   "cell_type": "code",
   "execution_count": 13,
   "metadata": {
    "metadata": {}
   },
   "outputs": [],
   "source": [
    "data_20r = {\n",
    "    'k0': [5684082,5797763],\n",
    "    'Ea': [1.139806,1.117],\n",
    "    'b': [-0.5419761,-0.5528],\n",
    "    'Conv': [86.5]\n",
    "}\n",
    "df_20r = pd.DataFrame(data_20r)\n",
    "data_35r = {\n",
    "    'k0': [5684082],\n",
    "    'Ea': [1.139806],\n",
    "    'b': [-0.5419761],\n",
    "    'Conv': [72.83],\n",
    "}\n",
    "df_35r = pd.DataFrame(data_35r)\n"
   ]
  },
  {
   "cell_type": "code",
   "execution_count": 14,
   "metadata": {
    "metadata": {}
   },
   "outputs": [
    {
     "data": {
      "text/html": [
       "<div>\n",
       "<style scoped>\n",
       "    .dataframe tbody tr th:only-of-type {\n",
       "        vertical-align: middle;\n",
       "    }\n",
       "\n",
       "    .dataframe tbody tr th {\n",
       "        vertical-align: top;\n",
       "    }\n",
       "\n",
       "    .dataframe thead th {\n",
       "        text-align: right;\n",
       "    }\n",
       "</style>\n",
       "<table border=\"1\" class=\"dataframe\">\n",
       "  <thead>\n",
       "    <tr style=\"text-align: right;\">\n",
       "      <th></th>\n",
       "      <th>k0</th>\n",
       "      <th>Ea</th>\n",
       "      <th>b</th>\n",
       "      <th>Conv</th>\n",
       "    </tr>\n",
       "  </thead>\n",
       "  <tbody>\n",
       "    <tr>\n",
       "      <th>0</th>\n",
       "      <td>5684082</td>\n",
       "      <td>1.139806</td>\n",
       "      <td>-0.541976</td>\n",
       "      <td>86.5</td>\n",
       "    </tr>\n",
       "  </tbody>\n",
       "</table>\n",
       "</div>"
      ],
      "text/plain": [
       "        k0        Ea         b  Conv\n",
       "0  5684082  1.139806 -0.541976  86.5"
      ]
     },
     "execution_count": 14,
     "metadata": {},
     "output_type": "execute_result"
    }
   ],
   "source": [
    "df_20r"
   ]
  },
  {
   "cell_type": "code",
   "execution_count": 15,
   "metadata": {
    "metadata": {}
   },
   "outputs": [],
   "source": [
    "df_20r['lnk'] = np.log(df_20r['k0'])\n",
    "df_35r['lnk'] = np.log(df_35r['k0'])"
   ]
  },
  {
   "cell_type": "code",
   "execution_count": 16,
   "metadata": {
    "metadata": {}
   },
   "outputs": [
    {
     "name": "stdout",
     "output_type": "stream",
     "text": [
      "결정계수: nan\n",
      "회귀 계수: [0. 0. 0.]\n",
      "절편: 86.5\n"
     ]
    },
    {
     "name": "stderr",
     "output_type": "stream",
     "text": [
      "c:\\Python\\python310\\lib\\site-packages\\sklearn\\metrics\\_regression.py:918: UndefinedMetricWarning: R^2 score is not well-defined with less than two samples.\n",
      "  warnings.warn(msg, UndefinedMetricWarning)\n"
     ]
    }
   ],
   "source": [
    "x = df_20r[['lnk','Ea','b']]\n",
    "y = df_20r['Conv']\n",
    "\n",
    "model20 = LinearRegression()\n",
    "model20.fit(x,y)\n",
    "y_pred = model20.predict(x)\n",
    "\n",
    "print(\"결정계수:\", model20.score(x, y))\n",
    "print(\"회귀 계수:\", model20.coef_)\n",
    "print(\"절편:\", model20.intercept_)"
   ]
  },
  {
   "cell_type": "code",
   "execution_count": 17,
   "metadata": {
    "metadata": {}
   },
   "outputs": [
    {
     "name": "stdout",
     "output_type": "stream",
     "text": [
      "결정계수: nan\n",
      "회귀 계수: [0. 0. 0.]\n",
      "절편: 72.83\n"
     ]
    },
    {
     "name": "stderr",
     "output_type": "stream",
     "text": [
      "c:\\Python\\python310\\lib\\site-packages\\sklearn\\metrics\\_regression.py:918: UndefinedMetricWarning: R^2 score is not well-defined with less than two samples.\n",
      "  warnings.warn(msg, UndefinedMetricWarning)\n"
     ]
    }
   ],
   "source": [
    "x = df_35r[['lnk','Ea','b']]\n",
    "y = df_35r['Conv']\n",
    "\n",
    "model35 = LinearRegression()\n",
    "model35.fit(x,y)\n",
    "y_pred = model35.predict(x)\n",
    "\n",
    "print(\"결정계수:\", model35.score(x, y))\n",
    "print(\"회귀 계수:\", model35.coef_)\n",
    "print(\"절편:\", model35.intercept_)"
   ]
  },
  {
   "cell_type": "code",
   "execution_count": 18,
   "metadata": {
    "metadata": {}
   },
   "outputs": [],
   "source": [
    "def opt(x):\n",
    "    return ((x[0]*model20.coef_[0] + x[1]*model20.coef_[1] + x[2]*model20.coef_[2] + model20.intercept_ - 87.5)/87.5)**2 + ((x[0]*model35.coef_[0] + x[1]*model35.coef_[1] + x[2]*model35.coef_[2] + model35.intercept_ - 76)/76)**2"
   ]
  },
  {
   "cell_type": "code",
   "execution_count": 19,
   "metadata": {
    "metadata": {}
   },
   "outputs": [],
   "source": [
    "x0 = [np.log(5684082),1.182,-0.6145]\n",
    "bounds = ((0, np.inf), (0, 10), (-10, 10))\n",
    "result = optimize.minimize(opt, x0, bounds=bounds)"
   ]
  },
  {
   "cell_type": "code",
   "execution_count": 20,
   "metadata": {
    "metadata": {}
   },
   "outputs": [
    {
     "name": "stdout",
     "output_type": "stream",
     "text": [
      "  message: CONVERGENCE: NORM_OF_PROJECTED_GRADIENT_<=_PGTOL\n",
      "  success: True\n",
      "   status: 0\n",
      "      fun: 0.0018703802504381273\n",
      "        x: [ 1.555e+01  1.182e+00 -6.145e-01]\n",
      "      nit: 0\n",
      "      jac: [ 0.000e+00  0.000e+00  0.000e+00]\n",
      "     nfev: 4\n",
      "     njev: 1\n",
      " hess_inv: <3x3 LbfgsInvHessProduct with dtype=float64>\n"
     ]
    }
   ],
   "source": [
    "print(result)"
   ]
  },
  {
   "cell_type": "code",
   "execution_count": 21,
   "metadata": {
    "metadata": {}
   },
   "outputs": [
    {
     "name": "stdout",
     "output_type": "stream",
     "text": [
      "5684081.999999995 28420409.999999978\n"
     ]
    }
   ],
   "source": [
    "rpm2 = np.exp(result.x[0])\n",
    "rpm35 = 5*rpm2\n",
    "print(rpm2, rpm35)"
   ]
  },
  {
   "cell_type": "code",
   "execution_count": null,
   "metadata": {},
   "outputs": [],
   "source": []
  },
  {
   "cell_type": "code",
   "execution_count": 22,
   "metadata": {
    "metadata": {}
   },
   "outputs": [
    {
     "ename": "NameError",
     "evalue": "name 'model' is not defined",
     "output_type": "error",
     "traceback": [
      "\u001b[1;31m---------------------------------------------------------------------------\u001b[0m",
      "\u001b[1;31mNameError\u001b[0m                                 Traceback (most recent call last)",
      "Cell \u001b[1;32mIn[22], line 3\u001b[0m\n\u001b[0;32m      1\u001b[0m \u001b[38;5;66;03m# 역산 모델\u001b[39;00m\n\u001b[0;32m      2\u001b[0m x2 \u001b[38;5;241m=\u001b[39m \u001b[38;5;241m1.25\u001b[39m\n\u001b[1;32m----> 3\u001b[0m x1 \u001b[38;5;241m=\u001b[39m (\u001b[38;5;241m74\u001b[39m \u001b[38;5;241m-\u001b[39m x2\u001b[38;5;241m*\u001b[39m\u001b[43mmodel\u001b[49m\u001b[38;5;241m.\u001b[39mcoef_[\u001b[38;5;241m1\u001b[39m] \u001b[38;5;241m-\u001b[39m model\u001b[38;5;241m.\u001b[39mintercept_)\u001b[38;5;241m/\u001b[39mmodel\u001b[38;5;241m.\u001b[39mcoef_[\u001b[38;5;241m0\u001b[39m]\n\u001b[0;32m      4\u001b[0m x1\n",
      "\u001b[1;31mNameError\u001b[0m: name 'model' is not defined"
     ]
    }
   ],
   "source": [
    "# 역산 모델\n",
    "x2 = 1.25\n",
    "x1 = (74 - x2*model.coef_[1] - model.intercept_)/model.coef_[0]\n",
    "x1"
   ]
  }
 ],
 "metadata": {
  "kernelspec": {
   "display_name": "Python 3",
   "language": "python",
   "name": "python3"
  },
  "language_info": {
   "codemirror_mode": {
    "name": "ipython",
    "version": 3
   },
   "file_extension": ".py",
   "mimetype": "text/x-python",
   "name": "python",
   "nbconvert_exporter": "python",
   "pygments_lexer": "ipython3",
   "version": "3.10.11"
  }
 },
 "nbformat": 4,
 "nbformat_minor": 2
}
