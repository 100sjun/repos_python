{
 "cells": [
  {
   "cell_type": "code",
   "execution_count": 267,
   "metadata": {},
   "outputs": [],
   "source": [
    "import numpy as np\n",
    "import pandas as pd\n",
    "from sklearn.linear_model import LinearRegression\n",
    "import scipy.optimize as optimize"
   ]
  },
  {
   "cell_type": "code",
   "execution_count": 268,
   "metadata": {},
   "outputs": [],
   "source": [
    "data_20r = {\n",
    "    'k0': [400000,500000,750000,900000,900000,2900000,3500000,16000000,3892216867299.855,1126346134192.752,35048547192.64328,13828534337.991575 ],\n",
    "    'Ea': [1.25,1.25,1.25,1.25,1.4,1.4,1.4,1.8,2.183,2.131,1.912,1.854],\n",
    "    'Conv': [80.2,82.3,85.6,87.0,60.5,74.4,76.4,21.8,92.175,86.3,87.2,87.5]\n",
    "}\n",
    "df_20r = pd.DataFrame(data_20r)\n",
    "data_35r = {\n",
    "    'k0': [400000,750000,900000,3500000,16000000,3892216867299.855,1126346134192.752,35048547192.64328,13828534337.991575 ],\n",
    "    'Ea': [1.25,1.25,1.4,1.4,1.8,2.183,2.131,1.912,1.854],\n",
    "    'Conv': [79.8,84.5,63.9,76,25.5,79.2,67.3,71.4,72.1]\n",
    "}\n",
    "df_35r = pd.DataFrame(data_35r)"
   ]
  },
  {
   "cell_type": "code",
   "execution_count": 269,
   "metadata": {},
   "outputs": [],
   "source": [
    "df_20r['lnk'] = np.log(df_20r['k0'])\n",
    "df_35r['lnk'] = np.log(df_35r['k0'])"
   ]
  },
  {
   "cell_type": "code",
   "execution_count": 270,
   "metadata": {},
   "outputs": [
    {
     "name": "stdout",
     "output_type": "stream",
     "text": [
      "결정계수: 0.9988075677357716\n",
      "회귀 계수: [  11.14700043 -178.93632116]\n",
      "절편: 158.90106097104672\n"
     ]
    }
   ],
   "source": [
    "x = df_20r[['lnk','Ea']]\n",
    "y = df_20r['Conv']\n",
    "\n",
    "model20 = LinearRegression()\n",
    "model20.fit(x,y)\n",
    "y_pred = model20.predict(x)\n",
    "\n",
    "print(\"결정계수:\", model20.score(x, y))\n",
    "print(\"회귀 계수:\", model20.coef_)\n",
    "print(\"절편:\", model20.intercept_)"
   ]
  },
  {
   "cell_type": "code",
   "execution_count": 271,
   "metadata": {},
   "outputs": [
    {
     "data": {
      "text/html": [
       "<div>\n",
       "<style scoped>\n",
       "    .dataframe tbody tr th:only-of-type {\n",
       "        vertical-align: middle;\n",
       "    }\n",
       "\n",
       "    .dataframe tbody tr th {\n",
       "        vertical-align: top;\n",
       "    }\n",
       "\n",
       "    .dataframe thead th {\n",
       "        text-align: right;\n",
       "    }\n",
       "</style>\n",
       "<table border=\"1\" class=\"dataframe\">\n",
       "  <thead>\n",
       "    <tr style=\"text-align: right;\">\n",
       "      <th></th>\n",
       "      <th>k0</th>\n",
       "      <th>Ea</th>\n",
       "      <th>Conv</th>\n",
       "      <th>lnk</th>\n",
       "    </tr>\n",
       "  </thead>\n",
       "  <tbody>\n",
       "    <tr>\n",
       "      <th>0</th>\n",
       "      <td>4.000000e+05</td>\n",
       "      <td>1.250</td>\n",
       "      <td>80.200</td>\n",
       "      <td>12.899220</td>\n",
       "    </tr>\n",
       "    <tr>\n",
       "      <th>1</th>\n",
       "      <td>5.000000e+05</td>\n",
       "      <td>1.250</td>\n",
       "      <td>82.300</td>\n",
       "      <td>13.122363</td>\n",
       "    </tr>\n",
       "    <tr>\n",
       "      <th>2</th>\n",
       "      <td>7.500000e+05</td>\n",
       "      <td>1.250</td>\n",
       "      <td>85.600</td>\n",
       "      <td>13.527828</td>\n",
       "    </tr>\n",
       "    <tr>\n",
       "      <th>3</th>\n",
       "      <td>9.000000e+05</td>\n",
       "      <td>1.250</td>\n",
       "      <td>87.000</td>\n",
       "      <td>13.710150</td>\n",
       "    </tr>\n",
       "    <tr>\n",
       "      <th>4</th>\n",
       "      <td>9.000000e+05</td>\n",
       "      <td>1.400</td>\n",
       "      <td>60.500</td>\n",
       "      <td>13.710150</td>\n",
       "    </tr>\n",
       "    <tr>\n",
       "      <th>5</th>\n",
       "      <td>2.900000e+06</td>\n",
       "      <td>1.400</td>\n",
       "      <td>74.400</td>\n",
       "      <td>14.880221</td>\n",
       "    </tr>\n",
       "    <tr>\n",
       "      <th>6</th>\n",
       "      <td>3.500000e+06</td>\n",
       "      <td>1.400</td>\n",
       "      <td>76.400</td>\n",
       "      <td>15.068274</td>\n",
       "    </tr>\n",
       "    <tr>\n",
       "      <th>7</th>\n",
       "      <td>1.600000e+07</td>\n",
       "      <td>1.800</td>\n",
       "      <td>21.800</td>\n",
       "      <td>16.588099</td>\n",
       "    </tr>\n",
       "    <tr>\n",
       "      <th>8</th>\n",
       "      <td>3.892217e+12</td>\n",
       "      <td>2.183</td>\n",
       "      <td>92.175</td>\n",
       "      <td>28.990000</td>\n",
       "    </tr>\n",
       "    <tr>\n",
       "      <th>9</th>\n",
       "      <td>1.126346e+12</td>\n",
       "      <td>2.131</td>\n",
       "      <td>86.300</td>\n",
       "      <td>27.750000</td>\n",
       "    </tr>\n",
       "    <tr>\n",
       "      <th>10</th>\n",
       "      <td>3.504855e+10</td>\n",
       "      <td>1.912</td>\n",
       "      <td>87.200</td>\n",
       "      <td>24.280000</td>\n",
       "    </tr>\n",
       "    <tr>\n",
       "      <th>11</th>\n",
       "      <td>1.382853e+10</td>\n",
       "      <td>1.854</td>\n",
       "      <td>87.500</td>\n",
       "      <td>23.350000</td>\n",
       "    </tr>\n",
       "  </tbody>\n",
       "</table>\n",
       "</div>"
      ],
      "text/plain": [
       "              k0     Ea    Conv        lnk\n",
       "0   4.000000e+05  1.250  80.200  12.899220\n",
       "1   5.000000e+05  1.250  82.300  13.122363\n",
       "2   7.500000e+05  1.250  85.600  13.527828\n",
       "3   9.000000e+05  1.250  87.000  13.710150\n",
       "4   9.000000e+05  1.400  60.500  13.710150\n",
       "5   2.900000e+06  1.400  74.400  14.880221\n",
       "6   3.500000e+06  1.400  76.400  15.068274\n",
       "7   1.600000e+07  1.800  21.800  16.588099\n",
       "8   3.892217e+12  2.183  92.175  28.990000\n",
       "9   1.126346e+12  2.131  86.300  27.750000\n",
       "10  3.504855e+10  1.912  87.200  24.280000\n",
       "11  1.382853e+10  1.854  87.500  23.350000"
      ]
     },
     "execution_count": 271,
     "metadata": {},
     "output_type": "execute_result"
    }
   ],
   "source": [
    "df_20r"
   ]
  },
  {
   "cell_type": "code",
   "execution_count": 272,
   "metadata": {},
   "outputs": [
    {
     "data": {
      "text/plain": [
       "178351843.7529233"
      ]
     },
     "execution_count": 272,
     "metadata": {},
     "output_type": "execute_result"
    }
   ],
   "source": [
    "a = 16000000\n",
    "b = 1.8\n",
    "a*model20.coef_[0] + b*model20.coef_[1] + model20.intercept_"
   ]
  },
  {
   "cell_type": "code",
   "execution_count": 273,
   "metadata": {},
   "outputs": [
    {
     "name": "stdout",
     "output_type": "stream",
     "text": [
      "결정계수: 0.9705822641455463\n",
      "회귀 계수: [   8.56783819 -154.86026314]\n",
      "절편: 162.34864683063802\n"
     ]
    }
   ],
   "source": [
    "x = df_35r[['lnk','Ea']]\n",
    "y = df_35r['Conv']\n",
    "\n",
    "model35 = LinearRegression()\n",
    "model35.fit(x,y)\n",
    "y_pred = model35.predict(x)\n",
    "\n",
    "print(\"결정계수:\", model35.score(x, y))\n",
    "print(\"회귀 계수:\", model35.coef_)\n",
    "print(\"절편:\", model35.intercept_)"
   ]
  },
  {
   "cell_type": "code",
   "execution_count": 274,
   "metadata": {},
   "outputs": [],
   "source": [
    "def opt(x):\n",
    "    return (x[0]*model20.coef_[0] + x[1]*model20.coef_[1] + model20.intercept_ - 87.5)**2 + (x[0]*model35.coef_[0] + x[1]*model35.coef_[1] + model35.intercept_ - 76)**2"
   ]
  },
  {
   "cell_type": "code",
   "execution_count": 275,
   "metadata": {},
   "outputs": [],
   "source": [
    "x0 = [np.log(1126346134192.752),2.131]\n",
    "bounds = ((0, np.inf), (0, 10))\n",
    "result = optimize.minimize(opt, x0, bounds=bounds)"
   ]
  },
  {
   "cell_type": "code",
   "execution_count": 276,
   "metadata": {},
   "outputs": [
    {
     "name": "stdout",
     "output_type": "stream",
     "text": [
      "  message: CONVERGENCE: NORM_OF_PROJECTED_GRADIENT_<=_PGTOL\n",
      "  success: True\n",
      "   status: 0\n",
      "      fun: 4.662239844441307e-10\n",
      "        x: [ 2.275e+01  1.816e+00]\n",
      "      nit: 4\n",
      "      jac: [ 6.868e-11 -4.728e-10]\n",
      "     nfev: 27\n",
      "     njev: 9\n",
      " hess_inv: <2x2 LbfgsInvHessProduct with dtype=float64>\n"
     ]
    }
   ],
   "source": [
    "print(result)"
   ]
  },
  {
   "cell_type": "code",
   "execution_count": 280,
   "metadata": {},
   "outputs": [
    {
     "name": "stdout",
     "output_type": "stream",
     "text": [
      "7589657411.903017 37948287059.51508\n"
     ]
    }
   ],
   "source": [
    "rpm2 = np.exp(result.x[0])\n",
    "rpm35 = 5*rpm2\n",
    "print(rpm2, rpm35)"
   ]
  },
  {
   "cell_type": "code",
   "execution_count": null,
   "metadata": {},
   "outputs": [],
   "source": []
  },
  {
   "cell_type": "code",
   "execution_count": 278,
   "metadata": {},
   "outputs": [
    {
     "data": {
      "text/plain": [
       "-91414.14141414558"
      ]
     },
     "execution_count": 278,
     "metadata": {},
     "output_type": "execute_result"
    }
   ],
   "source": [
    "# 역산 모델\n",
    "x2 = 1.25\n",
    "x1 = (74 - x2*model.coef_[1] - model.intercept_)/model.coef_[0]\n",
    "x1"
   ]
  }
 ],
 "metadata": {
  "kernelspec": {
   "display_name": "Python 3",
   "language": "python",
   "name": "python3"
  },
  "language_info": {
   "codemirror_mode": {
    "name": "ipython",
    "version": 3
   },
   "file_extension": ".py",
   "mimetype": "text/x-python",
   "name": "python",
   "nbconvert_exporter": "python",
   "pygments_lexer": "ipython3",
   "version": "3.10.12"
  }
 },
 "nbformat": 4,
 "nbformat_minor": 2
}
