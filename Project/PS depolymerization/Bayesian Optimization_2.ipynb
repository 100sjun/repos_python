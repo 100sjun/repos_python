{
 "cells": [
  {
   "cell_type": "code",
   "execution_count": 4763,
   "metadata": {},
   "outputs": [],
   "source": [
    "# Import Modules\n",
    "import math\n",
    "import numpy as np\n",
    "from sklearn.gaussian_process import GaussianProcessRegressor\n",
    "import matplotlib.pyplot as plt\n",
    "from warnings import catch_warnings\n",
    "from warnings import simplefilter\n",
    "import scipy.stats as stats\n",
    "import itertools"
   ]
  },
  {
   "cell_type": "code",
   "execution_count": 4764,
   "metadata": {},
   "outputs": [],
   "source": [
    "# objective function\n",
    "def objective(x):\n",
    "\tmodel20 = [13.46458095,-198.47099612,75.47320401,153.0072275803083]\n",
    "\tmodel35 = [18.66491871,-320.58644811,115.4635245,227.21147521930675]\n",
    "\tresult = [x[0]*model20[0] + x[1]*model20[1] + x[2]*model20[2] + model20[3],x[0]*model35[0] + x[1]*model35[1] + x[2]*model35[2] + model35[3]]\n",
    "\treturn result"
   ]
  },
  {
   "cell_type": "code",
   "execution_count": 4765,
   "metadata": {},
   "outputs": [],
   "source": [
    "# evaluation function\n",
    "def eval(y):\n",
    "\treturn ((y[0] - 87.5)/87.5)**2 + ((y[1] - 76)/76)**2"
   ]
  },
  {
   "cell_type": "code",
   "execution_count": 4766,
   "metadata": {},
   "outputs": [],
   "source": [
    "# surrogate or approximation for the objective function\n",
    "def surrogate(model, X):\n",
    "    # catch any warning generated when making a prediction\n",
    "    with catch_warnings():\n",
    "        # ignore generated warnings\n",
    "        simplefilter('ignore')\n",
    "        return model.predict(X, return_std=True)"
   ]
  },
  {
   "cell_type": "code",
   "execution_count": 4767,
   "metadata": {},
   "outputs": [],
   "source": [
    "# Expected improvement acquisition function\n",
    "def acquisition(X, Xsamples, model):\n",
    "    # calculate the best surrgate score found so far\n",
    "    yhat, _ = surrogate(model, X)\n",
    "    score1 = np.zeros(len(yhat))\n",
    "    for i in range(len(yhat)):\n",
    "        score1[i] = eval(yhat[i])\n",
    "    best = min(score1)\n",
    "\n",
    "    # calculate mean and stdev via surrogate function\n",
    "    mu, std = surrogate(model, Xsamples)\n",
    "    score2 = np.zeros(len(mu))\n",
    "    for i in range(len(mu)):\n",
    "        score2[i] = eval(mu[i])\n",
    "    # Calculate the expected improvement (EI)\n",
    "    # Clip std to avoid division by zero\n",
    "    std = np.clip(std, 1e-9, None)  # Replace None with a suitable upper bound if needed\n",
    "    std2 = [i[0] for i in std]\n",
    "    z = (score2 - best)**2 / std2\n",
    "    ei = (score2 - best)**2 * stats.norm.cdf(z) + std2 * stats.norm.pdf(z)\n",
    "    return ei"
   ]
  },
  {
   "cell_type": "code",
   "execution_count": 4768,
   "metadata": {},
   "outputs": [],
   "source": [
    "# optimize the acquisition function\n",
    "def opt_acquisition(X, y, model):\n",
    "    # random search, generate random samples\n",
    "    Xs1 = 14 + 3*np.random.random(46)\n",
    "    Xs2 = 1+0.2*np.random.random(46)\n",
    "    Xs3 = -0.8 + 0.4*np.random.random(46)\n",
    "    Xsamples = np.asarray(list(itertools.product(Xs1,Xs2,Xs3)))\n",
    "    \n",
    "    # calculate the acquisition function for each sample\n",
    "    scores = acquisition(X, Xsamples, model)\n",
    "    # locate the index of the largest scores\n",
    "    ix = np.argmin(scores)\n",
    "    return Xsamples[ix]"
   ]
  },
  {
   "cell_type": "code",
   "execution_count": 4769,
   "metadata": {},
   "outputs": [],
   "source": [
    "# plot real observation vs surrogate function\n",
    "def plot(X, y, model):\n",
    "    # Split inputs\n",
    "    Xe1 = [X[i][0] for i in range(len(X))]\n",
    "    Xe2 = [X[i][1] for i in range(len(X))]\n",
    "    Xe3 = [X[i][2] for i in range(len(X))]\n",
    "    ye1 = [y[i][0] for i in range(len(y))]\n",
    "    ye2 = [y[i][1] for i in range(len(y))]\n",
    "\n",
    "    # scatter plot of imputs\n",
    "    fig, axes = plt.subplots(2,3)\n",
    "    axes[0,0].scatter(Xe1, ye1)\n",
    "    axes[0,1].scatter(Xe2, ye1)\n",
    "    axes[0,2].scatter(Xe3, ye1)\n",
    "    axes[1,0].scatter(Xe1, ye2)\n",
    "    axes[1,1].scatter(Xe2, ye2)\n",
    "    axes[1,2].scatter(Xe3, ye2)\n",
    "\n",
    "    # line plot of surragte function acorss domain\n",
    "    Xp1 = np.append(Xe1,10 + 10*np.random.random(20))\n",
    "    Xp2 = np.append(Xe2,2*np.random.random(20))\n",
    "    Xp3 = np.append(Xe3,-10 + 20*np.random.random(20))\n",
    "    Xpred = np.asarray(list(itertools.product(Xp1,Xp2,Xp3)))\n",
    "\n",
    "    ypred, _ = surrogate(model, Xpred)\n",
    "    yp1 = [i[0] for i in ypred]\n",
    "    yp2 = [i[1] for i in ypred]\n",
    "\n",
    "    Xpl1 = [i[0] for i in Xpred]\n",
    "    Xpl2 = [i[1] for i in Xpred]\n",
    "    Xpl3 = [i[2] for i in Xpred]\n",
    "\n",
    "    axes[0,0].scatter(Xpl1, yp1, s=1)\n",
    "    axes[0,1].scatter(Xpl2, yp1, s=1)\n",
    "    axes[0,2].scatter(Xpl3, yp1, s=1)\n",
    "    axes[1,0].scatter(Xpl1, yp2, s=1)\n",
    "    axes[1,1].scatter(Xpl2, yp2, s=1)\n",
    "    axes[1,2].scatter(Xpl3, yp2, s=1)\n",
    "    # show the plot\n",
    "    plt.show()"
   ]
  },
  {
   "cell_type": "code",
   "execution_count": 4774,
   "metadata": {},
   "outputs": [
    {
     "name": "stdout",
     "output_type": "stream",
     "text": [
      ">x = [15.8338201   1.16954276 -0.53448514], f()=[[85.95001636 75.97000649]], actual=[67.06, 49.637]\n",
      "7525592.445736441 37627962.228682205\n"
     ]
    }
   ],
   "source": [
    "# Sample Data\n",
    "X = np.asarray([[np.log(8864702),1.182,-0.6144],[16.0505649,1.19114408,-0.68813221],[15.78691688,1.1436961,-0.54126377],[15.73317108,1.1070288,-0.53516194],[15.78133027,1.13980587,-0.54197605]])\n",
    "y = np.asarray([[74.44,59.56],[67.06,49.637],[85.95,75.97],[91.05,84.41],[86.50,76.79]])\n",
    "\n",
    "X1 = [X[i][0] for i in range(len(X))]\n",
    "X2 = [X[i][1] for i in range(len(X))]\n",
    "X3 = [X[i][2] for i in range(len(X))]\n",
    "y1 = [y[i][0] for i in range(len(y))]\n",
    "y2 = [y[i][1] for i in range(len(y))]\n",
    "\n",
    "# define the model\n",
    "model = GaussianProcessRegressor()\n",
    "model.fit(X,y)\n",
    "\n",
    "x = opt_acquisition(X, y, model)\n",
    "actual = [67.06,49.637]\n",
    "est, _ = surrogate(model, [X[2]])\n",
    "print(f'>x = {x}, f()={est}, actual={actual}')\n",
    "print(np.exp(x[0]),np.exp(x[0])*5)\n"
   ]
  },
  {
   "cell_type": "code",
   "execution_count": 4771,
   "metadata": {},
   "outputs": [
    {
     "name": "stdout",
     "output_type": "stream",
     "text": [
      "[15.78133027  1.13980587 -0.54197605] [86.51 76.78]\n"
     ]
    },
    {
     "name": "stderr",
     "output_type": "stream",
     "text": [
      "<>:10: SyntaxWarning: 'list' object is not callable; perhaps you missed a comma?\n",
      "<>:11: SyntaxWarning: 'list' object is not callable; perhaps you missed a comma?\n",
      "<>:10: SyntaxWarning: 'list' object is not callable; perhaps you missed a comma?\n",
      "<>:11: SyntaxWarning: 'list' object is not callable; perhaps you missed a comma?\n"
     ]
    },
    {
     "ename": "TypeError",
     "evalue": "scatter() missing 1 required positional argument: 'y'",
     "output_type": "error",
     "traceback": [
      "\u001b[1;31m---------------------------------------------------------------------------\u001b[0m",
      "\u001b[1;31mTypeError\u001b[0m                                 Traceback (most recent call last)",
      "Cell \u001b[1;32mIn[4771], line 8\u001b[0m\n\u001b[0;32m      5\u001b[0m ix \u001b[38;5;241m=\u001b[39m np\u001b[38;5;241m.\u001b[39margmin(score3)\n\u001b[0;32m      6\u001b[0m \u001b[38;5;28mprint\u001b[39m(X[ix], y[ix])\n\u001b[1;32m----> 8\u001b[0m \u001b[43mplt\u001b[49m\u001b[38;5;241;43m.\u001b[39;49m\u001b[43mscatter\u001b[49m\u001b[43m(\u001b[49m\u001b[43mscore3\u001b[49m\u001b[43m)\u001b[49m\n\u001b[0;32m     10\u001b[0m [\u001b[38;5;241m16.0505649\u001b[39m,\u001b[38;5;241m1.19114408\u001b[39m,\u001b[38;5;241m-\u001b[39m\u001b[38;5;241m0.68813221\u001b[39m](\u001b[38;5;124m\"\u001b[39m\u001b[38;5;124m\"\u001b[39m)\n\u001b[0;32m     11\u001b[0m [\u001b[38;5;241m67.19\u001b[39m,\u001b[38;5;241m49.637\u001b[39m](\u001b[38;5;124m\"\u001b[39m\u001b[38;5;124m\"\u001b[39m)\n",
      "\u001b[1;31mTypeError\u001b[0m: scatter() missing 1 required positional argument: 'y'"
     ]
    }
   ],
   "source": [
    "# best result\n",
    "score3=np.zeros(len(y))\n",
    "for i in range(len(y)):\n",
    "        score3[i] = eval(y[i])\n",
    "ix = np.argmin(score3)\n",
    "print(X[ix], y[ix])\n",
    "\n",
    "plt.scatter(score3)\n",
    "\n",
    ",[16.0505649,1.19114408,-0.68813221]\n",
    ",[67.19,49.637]"
   ]
  }
 ],
 "metadata": {
  "kernelspec": {
   "display_name": "Python 3",
   "language": "python",
   "name": "python3"
  },
  "language_info": {
   "codemirror_mode": {
    "name": "ipython",
    "version": 3
   },
   "file_extension": ".py",
   "mimetype": "text/x-python",
   "name": "python",
   "nbconvert_exporter": "python",
   "pygments_lexer": "ipython3",
   "version": "3.10.11"
  }
 },
 "nbformat": 4,
 "nbformat_minor": 2
}
