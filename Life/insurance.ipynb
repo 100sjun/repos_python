{
 "cells": [
  {
   "cell_type": "code",
   "execution_count": 8,
   "metadata": {},
   "outputs": [
    {
     "name": "stdout",
     "output_type": "stream",
     "text": [
      "엑셀 파일이 생성되었습니다: c:\\Users\\USER\\repos_python\\Life\\종합보험_상품안내.xlsx\n"
     ]
    }
   ],
   "source": [
    "import PyPDF2\n",
    "import openpyxl\n",
    "import os\n",
    "import re\n",
    "\n",
    "def clean_text(text):\n",
    "    # 엑셀에서 사용할 수 없는 문자 제거\n",
    "    return re.sub(r'[\\x00-\\x1f\\x7f-\\x9f]', '', text)\n",
    "\n",
    "def pdf_to_excel(pdf_path, excel_path):\n",
    "    # PDF 파일 열기\n",
    "    with open(pdf_path, 'rb') as file:\n",
    "        reader = PyPDF2.PdfReader(file)\n",
    "        \n",
    "        # 엑셀 워크북 생성\n",
    "        workbook = openpyxl.Workbook()\n",
    "        sheet = workbook.active\n",
    "        sheet.title = \"PDF Content\"\n",
    "        \n",
    "        # 각 페이지의 텍스트를 추출하여 엑셀에 쓰기\n",
    "        for page_num in range(len(reader.pages)):\n",
    "            page = reader.pages[page_num]\n",
    "            text = page.extract_text()\n",
    "            \n",
    "            # 텍스트를 줄 단위로 분할하여 엑셀에 쓰기\n",
    "            for row_num, line in enumerate(text.split('\\n'), start=1):\n",
    "                cleaned_line = clean_text(line)\n",
    "                sheet.cell(row=row_num, column=page_num+1, value=cleaned_line)\n",
    "        \n",
    "        # 엑셀 파일 저장\n",
    "        workbook.save(excel_path)\n",
    "    \n",
    "    print(f\"엑셀 파일이 생성되었습니다: {excel_path}\")\n",
    "\n",
    "# PDF 파일 경로 설정\n",
    "pdf_filename = '종합보험 상품안내.pdf'\n",
    "current_directory = os.getcwd()\n",
    "pdf_path = os.path.join(current_directory, pdf_filename)\n",
    "\n",
    "# 엑셀 파일 경로 설정\n",
    "excel_filename = '종합보험_상품안내.xlsx'\n",
    "excel_path = os.path.join(current_directory, excel_filename)\n",
    "\n",
    "# PDF를 엑셀로 변환\n",
    "pdf_to_excel(pdf_path, excel_path)"
   ]
  }
 ],
 "metadata": {
  "kernelspec": {
   "display_name": "Python 3",
   "language": "python",
   "name": "python3"
  },
  "language_info": {
   "codemirror_mode": {
    "name": "ipython",
    "version": 3
   },
   "file_extension": ".py",
   "mimetype": "text/x-python",
   "name": "python",
   "nbconvert_exporter": "python",
   "pygments_lexer": "ipython3",
   "version": "3.12.3"
  }
 },
 "nbformat": 4,
 "nbformat_minor": 2
}
