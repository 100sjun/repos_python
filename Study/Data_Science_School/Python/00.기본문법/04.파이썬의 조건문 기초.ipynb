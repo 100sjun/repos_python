{
 "cells": [
  {
   "cell_type": "markdown",
   "metadata": {},
   "source": [
    "# if ~ else 명령"
   ]
  },
  {
   "cell_type": "code",
   "execution_count": 1,
   "metadata": {},
   "outputs": [
    {
     "name": "stdout",
     "output_type": "stream",
     "text": [
      "홀수\n"
     ]
    }
   ],
   "source": [
    "a = 1\n",
    "if a % 2 == 0:\n",
    "    print('짝수')\n",
    "else:\n",
    "    print('홀수')"
   ]
  },
  {
   "cell_type": "code",
   "execution_count": 3,
   "metadata": {},
   "outputs": [
    {
     "name": "stdout",
     "output_type": "stream",
     "text": [
      "2자리 수의 짝수가 아니다.\n"
     ]
    }
   ],
   "source": [
    "b = 55\n",
    "if (b >= 10) & (b < 100) & (b % 2 == 0):\n",
    "    print('2자리 수의 짝수이다.')\n",
    "else:\n",
    "    print('2자리 수의 짝수가 아니다.')\n",
    "\n"
   ]
  },
  {
   "cell_type": "markdown",
   "metadata": {},
   "source": [
    "### 연습 문제 2.5.1"
   ]
  },
  {
   "cell_type": "code",
   "execution_count": 4,
   "metadata": {},
   "outputs": [
    {
     "name": "stdout",
     "output_type": "stream",
     "text": [
      "짝수\n"
     ]
    }
   ],
   "source": [
    "a = 2\n",
    "if a % 2 == 0:\n",
    "    print('짝수')\n",
    "else:\n",
    "    print('홀수')"
   ]
  },
  {
   "cell_type": "code",
   "execution_count": 6,
   "metadata": {},
   "outputs": [
    {
     "name": "stdout",
     "output_type": "stream",
     "text": [
      "2자리 수의 짝수가 아니다.\n"
     ]
    }
   ],
   "source": [
    "b = 8\n",
    "if (b >= 10) & (b < 100) & (b % 2 == 0):\n",
    "    print('2자리 수의 짝수이다.')\n",
    "else:\n",
    "    print('2자리 수의 짝수가 아니다.')"
   ]
  },
  {
   "cell_type": "markdown",
   "metadata": {},
   "source": [
    "### 연습 문제 2.5.2"
   ]
  },
  {
   "cell_type": "code",
   "execution_count": 16,
   "metadata": {},
   "outputs": [
    {
     "name": "stdout",
     "output_type": "stream",
     "text": [
      "2400년은 윤년입니다.\n"
     ]
    }
   ],
   "source": [
    "y = 2400\n",
    "\n",
    "if (y % 4 == 0):\n",
    "    if (y % 100 == 0):\n",
    "        if ( y % 400 == 0):\n",
    "            print(f'{y}년은 윤년입니다.')\n",
    "        else:\n",
    "            print(f'{y}년은 평년입니다.')\n",
    "    else:\n",
    "        print(f'{y}년은 윤년입니다.')\n",
    "else:\n",
    "    print(f'{y}년은 평년입니다.')"
   ]
  },
  {
   "cell_type": "markdown",
   "metadata": {},
   "source": [
    "# if ~ elif ~ else 명령"
   ]
  },
  {
   "cell_type": "code",
   "execution_count": 17,
   "metadata": {},
   "outputs": [
    {
     "name": "stdout",
     "output_type": "stream",
     "text": [
      "B\n"
     ]
    }
   ],
   "source": [
    "c = 6\n",
    "\n",
    "if c >= 8:\n",
    "    print('A')\n",
    "elif c >= 5:\n",
    "    print('B')\n",
    "else:\n",
    "    print('C')"
   ]
  },
  {
   "cell_type": "markdown",
   "metadata": {},
   "source": [
    "### 연습 문제 2.5.3"
   ]
  },
  {
   "cell_type": "code",
   "execution_count": 18,
   "metadata": {},
   "outputs": [
    {
     "name": "stdout",
     "output_type": "stream",
     "text": [
      "A\n"
     ]
    }
   ],
   "source": [
    "c = 10\n",
    "\n",
    "if c >= 8:\n",
    "    print('A')\n",
    "elif c >= 5:\n",
    "    print('B')\n",
    "else:\n",
    "    print('C')"
   ]
  },
  {
   "cell_type": "markdown",
   "metadata": {},
   "source": [
    "### 연습 문제 2.5.4"
   ]
  },
  {
   "cell_type": "code",
   "execution_count": 20,
   "metadata": {},
   "outputs": [
    {
     "name": "stdout",
     "output_type": "stream",
     "text": [
      "4등급\n"
     ]
    }
   ],
   "source": [
    "weight = 4\n",
    "\n",
    "if weight > 10:\n",
    "    print('1등급')\n",
    "elif weight > 7:\n",
    "    print('2등급')\n",
    "elif weight > 4:\n",
    "    print('3등급')\n",
    "else:\n",
    "    print('4등급')\n"
   ]
  },
  {
   "cell_type": "markdown",
   "metadata": {},
   "source": [
    "# 중첩 조건문"
   ]
  },
  {
   "cell_type": "code",
   "execution_count": 21,
   "metadata": {},
   "outputs": [
    {
     "name": "stdout",
     "output_type": "stream",
     "text": [
      "Fail\n"
     ]
    }
   ],
   "source": [
    "sex = 'boy'\n",
    "pushup = 8\n",
    "\n",
    "if sex == 'boy':\n",
    "    if pushup >= 10:\n",
    "        grade = 'Pass'\n",
    "    else:\n",
    "        grade = \"Fail\"\n",
    "else:\n",
    "    if pushup >= 5:\n",
    "        grade = 'Pass'\n",
    "    else:\n",
    "        grade = 'Fail'\n",
    "\n",
    "print(grade)"
   ]
  },
  {
   "cell_type": "markdown",
   "metadata": {},
   "source": [
    "### 연습 문제 2.5.5"
   ]
  },
  {
   "cell_type": "code",
   "execution_count": 43,
   "metadata": {},
   "outputs": [
    {
     "name": "stdout",
     "output_type": "stream",
     "text": [
      "A의 복역기간: 0, B의 복역기간: 10\n"
     ]
    }
   ],
   "source": [
    "XA = True\n",
    "XB = False\n",
    "\n",
    "if XA & XB:\n",
    "    YA = 5\n",
    "    YB = 5\n",
    "elif (not XB) & XA:\n",
    "    YA = 0\n",
    "    YB = 10\n",
    "elif (not XA) & XB:\n",
    "    YA = 10\n",
    "    YB = 0\n",
    "else:\n",
    "    YA = 1\n",
    "    YB = 1\n",
    "\n",
    "print(f'A의 복역기간: {YA}, B의 복역기간: {YB}')"
   ]
  },
  {
   "cell_type": "code",
   "execution_count": 40,
   "metadata": {},
   "outputs": [
    {
     "data": {
      "text/plain": [
       "True"
      ]
     },
     "execution_count": 40,
     "metadata": {},
     "output_type": "execute_result"
    }
   ],
   "source": [
    "not False & False"
   ]
  }
 ],
 "metadata": {
  "kernelspec": {
   "display_name": "Python 3",
   "language": "python",
   "name": "python3"
  },
  "language_info": {
   "codemirror_mode": {
    "name": "ipython",
    "version": 3
   },
   "file_extension": ".py",
   "mimetype": "text/x-python",
   "name": "python",
   "nbconvert_exporter": "python",
   "pygments_lexer": "ipython3",
   "version": "3.11.7"
  }
 },
 "nbformat": 4,
 "nbformat_minor": 2
}
