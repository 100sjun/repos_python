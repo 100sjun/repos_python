{
  "nbformat": 4,
  "nbformat_minor": 0,
  "metadata": {
    "colab": {
      "provenance": [],
      "authorship_tag": "ABX9TyNJEZjYlKRm7d8WRT6m4dvX"
    },
    "kernelspec": {
      "name": "python3",
      "display_name": "Python 3"
    },
    "language_info": {
      "name": "python"
    }
  },
  "cells": [
    {
      "cell_type": "markdown",
      "source": [
        "### 객체\n",
        "\n",
        "서로 연관된 데이터와 그 데이터를 조작하기 위한 함수를 하나의 집합에 모아놓은 것.\n",
        "\n",
        "집합의 원소가 되는 변수나 함수는 member 또는 attribute라고 한다. 특히 객체의 속성인 함수는 method라고 부른다."
      ],
      "metadata": {
        "id": "AhrB0niX7Sar"
      }
    },
    {
      "cell_type": "code",
      "source": [
        "# 사각형 면적을 구하는 프로그램 함수\n",
        "\n",
        "h = 10\n",
        "v = 20\n",
        "\n",
        "def area(h, v):\n",
        "  return h * v\n",
        "\n",
        "a = area(h, v)\n",
        "print(a)"
      ],
      "metadata": {
        "colab": {
          "base_uri": "https://localhost:8080/"
        },
        "id": "MZcq_OOE7kp-",
        "outputId": "f5eb1ddc-32fe-4160-d3f6-75c0a64d0857"
      },
      "execution_count": null,
      "outputs": [
        {
          "output_type": "stream",
          "name": "stdout",
          "text": [
            "200\n"
          ]
        }
      ]
    },
    {
      "cell_type": "code",
      "source": [
        "# 사각형의 면적을 계산하는 클래스 선언\n",
        "class Rectangle(object):\n",
        "\n",
        "  def __init__(self, h, v):\n",
        "      self.h = h\n",
        "      self.v = v\n",
        "\n",
        "  def area(self):\n",
        "      return self.h * self.v\n",
        "\n",
        "r = Rectangle(10,20)\n",
        "a = r.area()\n",
        "print(a)\n",
        "\n",
        "print(f'r.h: {r.h}')\n",
        "print(f'r.v: {r.v}')\n",
        "print(f'r.area(): {r.area()}')"
      ],
      "metadata": {
        "colab": {
          "base_uri": "https://localhost:8080/"
        },
        "id": "HZS5GnQ177Ul",
        "outputId": "e29f8fef-7db4-47ba-84e7-3d279f874332"
      },
      "execution_count": 9,
      "outputs": [
        {
          "output_type": "stream",
          "name": "stdout",
          "text": [
            "200\n",
            "r.h: 10\n",
            "r.v: 20\n",
            "r.area(): 200\n"
          ]
        }
      ]
    },
    {
      "cell_type": "markdown",
      "source": [
        "### 클래스\n",
        "위에서 r이 객체임, 파이썬에선 객체를 바로 만들 수 없고, class를 선언하여 객체를 만들어야 함\n",
        "\n",
        "클래스는 붕어빵을 만드는 틀과 같은 것이고, 객체는 class로 만들어진 붕어빵이라고 할 수 있음"
      ],
      "metadata": {
        "id": "9AUQCWIwCNSW"
      }
    },
    {
      "cell_type": "code",
      "source": [
        "a = Rectangle(1,1) # 가로 1, 세로 1인 사각형\n",
        "b = Rectangle(2,1) # 가로 2, 세로 1인 사각형\n",
        "\n",
        "print(f'a의 면적: {a.area()}')\n",
        "print(f'b의 면적: {b.area()}')"
      ],
      "metadata": {
        "id": "-k4cuHWB-dX0",
        "colab": {
          "base_uri": "https://localhost:8080/"
        },
        "outputId": "c6914bc2-c665-4415-ea7f-d54e70933e96"
      },
      "execution_count": 10,
      "outputs": [
        {
          "output_type": "stream",
          "name": "stdout",
          "text": [
            "a의 면적: 1\n",
            "b의 면적: 2\n"
          ]
        }
      ]
    },
    {
      "cell_type": "markdown",
      "source": [
        "### 생성자 (constructor)\n",
        "생성자는 class 내부에서 __init__으로 선언되는 함수를 의미함\n",
        "\n",
        "객체를 생성할 때 class 이름을 호출해야 하는데 이때 호출되는 것이 생성자임\n",
        "\n",
        "생성자 함수에서는 생성자를 호출할 때 넣는 입력 변수, 인자값을 속성값으로 저장함"
      ],
      "metadata": {
        "id": "F-kcBei9DC4k"
      }
    },
    {
      "cell_type": "markdown",
      "source": [
        "### 연습문제 2.12.1"
      ],
      "metadata": {
        "id": "_y0roLoFETTh"
      }
    },
    {
      "cell_type": "code",
      "source": [
        "class Triangle(object):\n",
        "\n",
        "  def __init__(self,b,h):\n",
        "    self.b = b\n",
        "    self.h = h\n",
        "\n",
        "  def area(self):\n",
        "    return 0.5 * self.b * self.h\n",
        "\n",
        "a = Triangle(10,5)\n",
        "print(a.area())"
      ],
      "metadata": {
        "colab": {
          "base_uri": "https://localhost:8080/"
        },
        "id": "fccZkd57EVx5",
        "outputId": "f0459a14-ed64-4c3c-a6c1-82e2d9e436cf"
      },
      "execution_count": 13,
      "outputs": [
        {
          "output_type": "stream",
          "name": "stdout",
          "text": [
            "25.0\n"
          ]
        }
      ]
    },
    {
      "cell_type": "code",
      "source": [
        "class RectCol(object):\n",
        "\n",
        "  def __init__(self, a, b, h):\n",
        "    self.a = a\n",
        "    self.b = b\n",
        "    self.h = h\n",
        "\n",
        "  def volume(self):\n",
        "    return self.a * self.b * self.h\n",
        "\n",
        "  def surface(self):\n",
        "    return 2 * (self.a*self.b + self.a*self.h + self.b*self.h)\n",
        "\n",
        "b = RectCol(10,20,30)\n",
        "print(f'부피:{b.volume()}, 면적:{b.surface()}')"
      ],
      "metadata": {
        "colab": {
          "base_uri": "https://localhost:8080/"
        },
        "id": "XMOD3zEAFM1p",
        "outputId": "a482033a-30d7-4e5b-9267-bf9ab2049f53"
      },
      "execution_count": 14,
      "outputs": [
        {
          "output_type": "stream",
          "name": "stdout",
          "text": [
            "부피:6000, 면적:2200\n"
          ]
        }
      ]
    },
    {
      "cell_type": "markdown",
      "source": [
        "### 클래스 상속 (class inheritance)\n",
        "parent class에서 정의된 attribute와 method를 호출해서 다른 초기값을 정의하거나 고유 method를 추가하는 방법\n",
        "법"
      ],
      "metadata": {
        "id": "4Xz3ObO9G_WO"
      }
    },
    {
      "cell_type": "code",
      "source": [
        "# 게임캐릭터로 생성으로 예제\n",
        "class Character(object):\n",
        "\n",
        "  def __init__(self):\n",
        "    self.life = 1000\n",
        "\n",
        "  def attacked(self):\n",
        "    self.life -= 10\n",
        "    print(ㄹ)"
      ],
      "metadata": {
        "id": "MosjDnpBG2NZ"
      },
      "execution_count": null,
      "outputs": []
    },
    {
      "cell_type": "code",
      "source": [],
      "metadata": {
        "id": "fjjq6VgUC4me"
      },
      "execution_count": null,
      "outputs": []
    }
  ]
}