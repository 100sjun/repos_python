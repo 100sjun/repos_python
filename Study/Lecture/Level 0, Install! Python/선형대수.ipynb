{
 "cells": [
  {
   "cell_type": "markdown",
   "metadata": {},
   "source": [
    "# 내적과 정사영 직관적 설명\n",
    "- 내적은 두 벡터가 얼마나 닮았는지 \n",
    "- dot product = scalar product보다 inner product가 더 넓은 의미임\n",
    "- a.Txb = b.Txb\n",
    "- a.Txb = ||a||||b|| cosO\n",
    "    - ||a||: a vecotr의 크기\n",
    "    - sqrt(성분 제곱 합)\n",
    "    - ||a||cosO x ||b||\n",
    "    - ||b| cosO x ||a||\n",
    "        - a vector를 b vector에 정사영한 크기에 b vector의 크기로 곱한 것 <-> 역도 가능\n",
    "        - a.Txa = ||a|| ||a|| = ||a||^2\n",
    "        - a vector의 크기를 그래서 ||a|| = sqrt(a.Txa)로 표현 가능\n",
    "        - a의 unit vector는 a/sqrt(a.Txa)로 표현 가능 -> normalize\n",
    "#### 내적은 닮은 정도이다\n",
    "- 내적의 값이 가장 크려면 방향이 같이야 함\n",
    "- 두 vector가 수직이면 내적이 0이다 -> 가장 안닮았다\n",
    "- 방향이 반대면 내적이 음수임\n",
    "#### 정사영된 벡터를 구하는 방법\n",
    "- a = [1 3]을 b = [5 1]에 정사영하면\n",
    "    - 정사영 벡터의 크기 = a.T x b = ||a||||b||cosO\n",
    "    - b의 방향만 곱하자 = b의 unit vector = b/sqrt(b.T x b)\n",
    "    - a.T x b / b.T/b *b\n",
    "- 기하학적인 방법\n",
    "    - b x x'이라고 가정\n",
    "    - a - b는 b vector를 반대로 돌린 것, 기하학적으로는 b벡터 끝점부터 a벡터 끝점으로 이어지는 벡터가 a - b 벡터임\n",
    "    - a - bx'이라는 벡터로 표현됨\n",
    "    - 그렇다면 bx'과 a-bx'은 수직이 성립해야 bx'이 정사영된 벡터라 할 수 잇음\n",
    "    - (a-bx').T x bx' = 0\n",
    "    - a.Txb - b.Tbx' = 0 \n",
    "    - x' = a.Tb / b.T/b\n",
    "    "
   ]
  },
  {
   "cell_type": "markdown",
   "metadata": {},
   "source": [
    "# 행렬의 곱셈과 네 가지 관점 (열공간 (column space))\n",
    "- 행렬의 곱셈은 행렬과 vector의 곱을 쌓는 것이다\n",
    "- 왼쪽 행렬의 열과 오른쪽 행렬의 행의 size가 같아야 함\n",
    "    - 위가 만족하면 계속 늘어나도 상관없음\n",
    "    - m x k와 k x n을 기준으로 하면 m x n이 생김\n",
    "- 교환법칙이 성립하지 않음\n",
    "- 여러번 곱하면\n",
    "    - 4x3 3x5 5x2를 곱하면 4x2가 생김\n",
    "#### 관점1: 내적으로 바라보기\n",
    "A = [a1.T, a2.T, a3.T] (보통 벡터를 열로 나타내서 행으로 하려면 Transpose)\n",
    "B = [b1, b2, b3]\n",
    "AB = [[a1.Tb1 a1.Tb2 a1.Tb3],[...],[...]]\n",
    "#### 관점2: rank-1 matrix의 합\n",
    "AB = [a1, a2, a3][b1.T, b2.T, b3.T] = a1b1.T + a2b2.T+ a3b3.T\n",
    "- rank01 matrix를 알아야 할 듯\n",
    "#### 관점3: column space로 바라보개\n",
    "Ax = [a1 a2 a3] [x1 x2 x3].T = a1x1 + a2x2 + a3x3\n",
    "- 벡터의 스칼라배의 합으로 표현됨\n",
    "- 어차피 다시 벡터가 됨\n",
    "- x1, x2, x3의 조합을 다 바꿔봤을때 나타나는 공간/영역을 column space라고 함\n",
    "#### 관점4: Row space로 바라보기\n",
    "xTA = [x1, x2, x3] [a1 a2 a3].T = x1a1T + x2a2T + x3a3T (트랜스포머 관점!)"
   ]
  }
 ],
 "metadata": {
  "language_info": {
   "name": "python"
  }
 },
 "nbformat": 4,
 "nbformat_minor": 2
}
