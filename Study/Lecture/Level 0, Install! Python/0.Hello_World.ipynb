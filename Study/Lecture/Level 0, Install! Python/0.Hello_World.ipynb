{
 "cells": [
  {
   "cell_type": "code",
   "execution_count": 1,
   "metadata": {},
   "outputs": [
    {
     "name": "stdout",
     "output_type": "stream",
     "text": [
      "Hello World!\n"
     ]
    }
   ],
   "source": [
    "print('Hello World!') \n",
    "# ctrl + enter 치면 현재 셀 실행\n",
    "# #하고 쓰면 주석 처리 됨\n",
    "# <- ctrl + / 하면 주석 처리 됨 <- 드래그하고 ctrl + / 하면 여러 줄 토글 가능\n",
    "# shift + enter 하면 실행하고 다음 셀로 이동\n",
    "# alt + enter 하면 실행하고 밑에 셀을 새로 만듦\n",
    "# esc 하면 방향키 위아래로 셀 이동 가능. 엔터 치면 코드 작성. 이 모드에서 a하면 위에 셀, b하면 아래에 셀을 만듦\n",
    "# ctrl + m, d 하면 셀 삭제\n"
   ]
  },
  {
   "cell_type": "markdown",
   "metadata": {},
   "source": [
    "# 큰 제목\n",
    "## 그 다음으로 큰\n",
    "### 그그그 다음으로 큰\n",
    "**볼드**\n",
    "- 1\n",
    "    - 1-1\n",
    "        - 1-1-1\n",
    "\n",
    "1. a\n",
    "2. b\n",
    "\n",
    "> ㅎㅎ\n",
    ">> ㅎㅎ\n",
    "\n",
    "$y=x$\n",
    "\n",
    "```python\n",
    "print(\"Hellow World\")\n",
    "```\n",
    "\n",
    "[유튜브](https://youtube.be/IJRxpLgT7oE)"
   ]
  },
  {
   "cell_type": "markdown",
   "metadata": {},
   "source": [
    "## 파이썬은 계산기다!"
   ]
  },
  {
   "cell_type": "code",
   "execution_count": 2,
   "metadata": {},
   "outputs": [
    {
     "data": {
      "text/plain": [
       "int"
      ]
     },
     "execution_count": 2,
     "metadata": {},
     "output_type": "execute_result"
    }
   ],
   "source": [
    "type(2) # int는 integer의 줄임말"
   ]
  },
  {
   "cell_type": "code",
   "execution_count": 3,
   "metadata": {},
   "outputs": [
    {
     "data": {
      "text/plain": [
       "float"
      ]
     },
     "execution_count": 3,
     "metadata": {},
     "output_type": "execute_result"
    }
   ],
   "source": [
    "type(2.) # float는 실수"
   ]
  },
  {
   "cell_type": "code",
   "execution_count": 4,
   "metadata": {},
   "outputs": [
    {
     "data": {
      "text/plain": [
       "2"
      ]
     },
     "execution_count": 4,
     "metadata": {},
     "output_type": "execute_result"
    }
   ],
   "source": [
    "4//2 # 그냥 4/2로 표현하면 2.0으로 출력되서 순서를 나타내지 못함\n",
    "# 몫을 뱉어주는 것임"
   ]
  },
  {
   "cell_type": "code",
   "execution_count": 5,
   "metadata": {},
   "outputs": [
    {
     "data": {
      "text/plain": [
       "2"
      ]
     },
     "execution_count": 5,
     "metadata": {},
     "output_type": "execute_result"
    }
   ],
   "source": [
    "int(2.9) # 반올림이 아니라 버림"
   ]
  },
  {
   "cell_type": "code",
   "execution_count": 6,
   "metadata": {},
   "outputs": [
    {
     "data": {
      "text/plain": [
       "1"
      ]
     },
     "execution_count": 6,
     "metadata": {},
     "output_type": "execute_result"
    }
   ],
   "source": [
    "5%2 # 나머지 연산, modulo 연산"
   ]
  },
  {
   "cell_type": "code",
   "execution_count": 7,
   "metadata": {},
   "outputs": [
    {
     "data": {
      "text/plain": [
       "1024"
      ]
     },
     "execution_count": 7,
     "metadata": {},
     "output_type": "execute_result"
    }
   ],
   "source": [
    "2 **10 # 2의 10승 열번 곱하지 말고 2^10 하지 말고 2**10"
   ]
  },
  {
   "cell_type": "code",
   "execution_count": 8,
   "metadata": {},
   "outputs": [
    {
     "name": "stdout",
     "output_type": "stream",
     "text": [
      "3\n",
      "10\n"
     ]
    }
   ],
   "source": [
    "print(0b011) # 0b는 이진수 표현\n",
    "print(0xA) # 0x는 16진수"
   ]
  },
  {
   "cell_type": "code",
   "execution_count": 9,
   "metadata": {},
   "outputs": [
    {
     "name": "stdout",
     "output_type": "stream",
     "text": [
      "10\n",
      "a\n",
      "1\n"
     ]
    }
   ],
   "source": [
    "a = 10 # a라는 이름의 변수에 10이라는 값을 넣음, 수학의 등호가 아님\n",
    "print(a) # a에 들어있는 값을 보여달라\n",
    "print('a')\n",
    "a = 1 # 10을 집어넣었다가 1을 집어넣었으니 이젠 a에 1이 들어가있다.\n",
    "print(a)"
   ]
  },
  {
   "cell_type": "code",
   "execution_count": 10,
   "metadata": {},
   "outputs": [],
   "source": [
    "a1 = 1\n",
    "a2 = 2\n",
    "a3 = 3\n",
    "# 1a = 10 # 변수명에서 숫자가 맨 앞에 올 수 없다"
   ]
  },
  {
   "cell_type": "code",
   "execution_count": 11,
   "metadata": {},
   "outputs": [
    {
     "name": "stdout",
     "output_type": "stream",
     "text": [
      "3\n",
      "4\n"
     ]
    }
   ],
   "source": [
    "a = 3\n",
    "A = 4\n",
    "print(a); print(A) # 대소문자 구별 됨. 한줄에 쓰려면 ;로 구별"
   ]
  },
  {
   "cell_type": "code",
   "execution_count": 12,
   "metadata": {},
   "outputs": [],
   "source": [
    "#print = 3 # 함수명에 변수를 할당하면 안돼! 이렇게 하면 런타임 다시 시작해야함함"
   ]
  },
  {
   "cell_type": "code",
   "execution_count": 13,
   "metadata": {},
   "outputs": [
    {
     "name": "stdout",
     "output_type": "stream",
     "text": [
      "hello\n"
     ]
    }
   ],
   "source": [
    "print('hello')"
   ]
  },
  {
   "cell_type": "code",
   "execution_count": 14,
   "metadata": {},
   "outputs": [],
   "source": [
    "# a - b = 1\n",
    "# a * b = 1\n",
    "# a ** 2 = 1"
   ]
  },
  {
   "cell_type": "code",
   "execution_count": 15,
   "metadata": {},
   "outputs": [],
   "source": [
    "del a # 변수 삭제, 메모리 관리\n",
    "# print(a)"
   ]
  },
  {
   "cell_type": "code",
   "execution_count": 16,
   "metadata": {},
   "outputs": [
    {
     "name": "stdout",
     "output_type": "stream",
     "text": [
      "3\n"
     ]
    }
   ],
   "source": [
    "a=1; b=2\n",
    "c = a+b\n",
    "print(c)"
   ]
  },
  {
   "cell_type": "code",
   "execution_count": 17,
   "metadata": {},
   "outputs": [
    {
     "name": "stdout",
     "output_type": "stream",
     "text": [
      "6\n"
     ]
    }
   ],
   "source": [
    "a = a+5 # 변수 업데이트\n",
    "print(a)"
   ]
  },
  {
   "cell_type": "code",
   "execution_count": 18,
   "metadata": {},
   "outputs": [
    {
     "name": "stdout",
     "output_type": "stream",
     "text": [
      "11\n"
     ]
    }
   ],
   "source": [
    "a += 5 # a = a+5와 동일\n",
    "print(a)"
   ]
  },
  {
   "cell_type": "code",
   "execution_count": 19,
   "metadata": {},
   "outputs": [
    {
     "name": "stdout",
     "output_type": "stream",
     "text": [
      "22\n"
     ]
    }
   ],
   "source": [
    "a *= 2 # a = a*2\n",
    "print(a)"
   ]
  },
  {
   "cell_type": "code",
   "execution_count": 20,
   "metadata": {},
   "outputs": [
    {
     "name": "stdout",
     "output_type": "stream",
     "text": [
      "11.0\n"
     ]
    }
   ],
   "source": [
    "a /= 2 # a = a/2\n",
    "print(a)"
   ]
  },
  {
   "cell_type": "code",
   "execution_count": 21,
   "metadata": {},
   "outputs": [
    {
     "name": "stdout",
     "output_type": "stream",
     "text": [
      "4\n",
      "x = 4\n"
     ]
    }
   ],
   "source": [
    "x = 4\n",
    "print(x)\n",
    "print(\"x =\", x)"
   ]
  },
  {
   "cell_type": "code",
   "execution_count": 22,
   "metadata": {},
   "outputs": [
    {
     "name": "stdout",
     "output_type": "stream",
     "text": [
      "Hello World\n",
      "11.0\n"
     ]
    }
   ],
   "source": [
    "print(\"Hello\", \"World\")\n",
    "print(a)"
   ]
  },
  {
   "cell_type": "markdown",
   "metadata": {},
   "source": [
    "## 진화된 계산기다!"
   ]
  },
  {
   "cell_type": "code",
   "execution_count": 23,
   "metadata": {},
   "outputs": [
    {
     "data": {
      "text/plain": [
       "True"
      ]
     },
     "execution_count": 23,
     "metadata": {},
     "output_type": "execute_result"
    }
   ],
   "source": [
    "a = 1\n",
    "a == 1 # 같냐? "
   ]
  },
  {
   "cell_type": "code",
   "execution_count": 24,
   "metadata": {},
   "outputs": [
    {
     "data": {
      "text/plain": [
       "False"
      ]
     },
     "execution_count": 24,
     "metadata": {},
     "output_type": "execute_result"
    }
   ],
   "source": [
    "a > 3"
   ]
  },
  {
   "cell_type": "code",
   "execution_count": 25,
   "metadata": {},
   "outputs": [
    {
     "data": {
      "text/plain": [
       "False"
      ]
     },
     "execution_count": 25,
     "metadata": {},
     "output_type": "execute_result"
    }
   ],
   "source": [
    "a >= 3"
   ]
  },
  {
   "cell_type": "code",
   "execution_count": 26,
   "metadata": {},
   "outputs": [],
   "source": [
    "# a => 3 안됨"
   ]
  },
  {
   "cell_type": "code",
   "execution_count": 27,
   "metadata": {},
   "outputs": [
    {
     "data": {
      "text/plain": [
       "True"
      ]
     },
     "execution_count": 27,
     "metadata": {},
     "output_type": "execute_result"
    }
   ],
   "source": [
    "a !=3 # 다르냐?"
   ]
  },
  {
   "cell_type": "code",
   "execution_count": 28,
   "metadata": {},
   "outputs": [
    {
     "name": "stderr",
     "output_type": "stream",
     "text": [
      "<>:1: SyntaxWarning: \"is\" with 'int' literal. Did you mean \"==\"?\n",
      "<>:1: SyntaxWarning: \"is\" with 'int' literal. Did you mean \"==\"?\n",
      "C:\\Users\\bsjun\\AppData\\Local\\Temp\\ipykernel_5032\\1224446397.py:1: SyntaxWarning: \"is\" with 'int' literal. Did you mean \"==\"?\n",
      "  a is 1\n"
     ]
    },
    {
     "data": {
      "text/plain": [
       "True"
      ]
     },
     "execution_count": 28,
     "metadata": {},
     "output_type": "execute_result"
    }
   ],
   "source": [
    "a is 1 "
   ]
  },
  {
   "cell_type": "code",
   "execution_count": 29,
   "metadata": {},
   "outputs": [
    {
     "name": "stderr",
     "output_type": "stream",
     "text": [
      "<>:1: SyntaxWarning: \"is not\" with 'int' literal. Did you mean \"!=\"?\n",
      "<>:1: SyntaxWarning: \"is not\" with 'int' literal. Did you mean \"!=\"?\n",
      "C:\\Users\\bsjun\\AppData\\Local\\Temp\\ipykernel_5032\\2998851572.py:1: SyntaxWarning: \"is not\" with 'int' literal. Did you mean \"!=\"?\n",
      "  a is not 1\n"
     ]
    },
    {
     "data": {
      "text/plain": [
       "False"
      ]
     },
     "execution_count": 29,
     "metadata": {},
     "output_type": "execute_result"
    }
   ],
   "source": [
    "a is not 1"
   ]
  },
  {
   "cell_type": "code",
   "execution_count": 30,
   "metadata": {},
   "outputs": [
    {
     "data": {
      "text/plain": [
       "False"
      ]
     },
     "execution_count": 30,
     "metadata": {},
     "output_type": "execute_result"
    }
   ],
   "source": [
    "'Python' == 'python'\n"
   ]
  },
  {
   "cell_type": "code",
   "execution_count": 31,
   "metadata": {},
   "outputs": [
    {
     "name": "stdout",
     "output_type": "stream",
     "text": [
      "True\n",
      "True\n",
      "True\n",
      "False\n",
      "<class 'bool'>\n",
      "<class 'str'>\n"
     ]
    }
   ],
   "source": [
    "x = 3\n",
    "print(x>1 and x<5)\n",
    "print(x>1 or x<-1)\n",
    "print(bool(1)) # bool 자료형\n",
    "print(bool(0)) # 0만 False, 나머지는 True\n",
    "print(type(x>1))\n",
    "print(type(\"True\"))"
   ]
  },
  {
   "cell_type": "markdown",
   "metadata": {},
   "source": [
    "## 여러 개를를 한 변수에 넣을 순 없을까? 리스트!"
   ]
  },
  {
   "cell_type": "code",
   "execution_count": 32,
   "metadata": {},
   "outputs": [
    {
     "name": "stdout",
     "output_type": "stream",
     "text": [
      "[1, 2, 3]\n"
     ]
    }
   ],
   "source": [
    "a = [1,2,3] # list라고 함\n",
    "print(a)"
   ]
  },
  {
   "cell_type": "code",
   "execution_count": 33,
   "metadata": {},
   "outputs": [
    {
     "name": "stdout",
     "output_type": "stream",
     "text": [
      "[1, 2, 3, 3, 4, 5]\n"
     ]
    }
   ],
   "source": [
    "a = [1,2,3]\n",
    "b = [3,4,5]\n",
    "print(a+b) # 더하는게 아니고 쌓는다."
   ]
  },
  {
   "cell_type": "code",
   "execution_count": 34,
   "metadata": {},
   "outputs": [
    {
     "name": "stdout",
     "output_type": "stream",
     "text": [
      "[4, 'ㅋ', 6]\n"
     ]
    }
   ],
   "source": [
    "a = [4, 'ㅋ', 6] # 뭐든 들어간다. 그래서 연산이 안됨\n",
    "print(a)"
   ]
  },
  {
   "cell_type": "code",
   "execution_count": 35,
   "metadata": {},
   "outputs": [
    {
     "name": "stdout",
     "output_type": "stream",
     "text": [
      "[1, '하하', 3]\n"
     ]
    }
   ],
   "source": [
    "c = [] # 빈 리스트\n",
    "c.append(1)\n",
    "c.append('하하')\n",
    "c.append(3)\n",
    "print(c)"
   ]
  },
  {
   "cell_type": "code",
   "execution_count": 36,
   "metadata": {},
   "outputs": [
    {
     "name": "stdout",
     "output_type": "stream",
     "text": [
      "[1, 'ㅋ', 'ㅋ', 'ㅋㅋㅎ', 2]\n"
     ]
    }
   ],
   "source": [
    "a = []\n",
    "# a = a + 1 이건 안됨\n",
    "a += [1] \n",
    "a += 'ㅋㅋ' # 문자열은 된다, 단 찢어서 들어감감\n",
    "a += ['ㅋㅋㅎ']\n",
    "a += [2]\n",
    "print(a)"
   ]
  },
  {
   "cell_type": "code",
   "execution_count": 37,
   "metadata": {},
   "outputs": [
    {
     "name": "stdout",
     "output_type": "stream",
     "text": [
      "[1, 0.5, 0.1]\n"
     ]
    }
   ],
   "source": [
    "loss_history = []\n",
    "loss = 1\n",
    "loss_history += [loss]\n",
    "loss = 0.5\n",
    "loss_history += [loss]\n",
    "loss = 0.1\n",
    "loss_history += [loss]\n",
    "print(loss_history)"
   ]
  },
  {
   "cell_type": "markdown",
   "metadata": {},
   "source": [
    "## range는 반복문의 친구"
   ]
  },
  {
   "cell_type": "code",
   "execution_count": 38,
   "metadata": {},
   "outputs": [
    {
     "name": "stdout",
     "output_type": "stream",
     "text": [
      "[0, 1, 2, 3, 4, 5, 6, 7, 8, 9]\n"
     ]
    }
   ],
   "source": [
    "range(10)\n",
    "a = list(range(10)) # range를 list로 바꿔줌\n",
    "print(a)"
   ]
  },
  {
   "cell_type": "code",
   "execution_count": 39,
   "metadata": {},
   "outputs": [
    {
     "name": "stdout",
     "output_type": "stream",
     "text": [
      "[1, 2, 3, 4, 5, 6, 7, 8, 9, 10]\n",
      "[1, 3, 5, 7, 9]\n",
      "[10, 9, 8, 7, 6, 5, 4, 3, 2, 1]\n"
     ]
    }
   ],
   "source": [
    "b = list(range(1,11)) # 1부터 시작 그리고 11 미만까지\n",
    "print(b)\n",
    "c = list(range(1,11,2)) # 1부터 시작 11 미만까지 2씩 증가\n",
    "print(c)\n",
    "print(list(range(10,0,-1))) # 10부터 시작 0 초과까지"
   ]
  },
  {
   "cell_type": "markdown",
   "metadata": {},
   "source": [
    "## 튜플이라는 것도 있어요"
   ]
  },
  {
   "cell_type": "code",
   "execution_count": 40,
   "metadata": {},
   "outputs": [
    {
     "name": "stdout",
     "output_type": "stream",
     "text": [
      "<class 'tuple'>\n",
      "<class 'list'>\n"
     ]
    }
   ],
   "source": [
    "a = (1,'ㅋ',3)\n",
    "b = [1,2,3]\n",
    "print(type(a))\n",
    "print(type(b))"
   ]
  },
  {
   "cell_type": "code",
   "execution_count": 41,
   "metadata": {},
   "outputs": [
    {
     "name": "stdout",
     "output_type": "stream",
     "text": [
      "(0, 1, 2, 3, 4, 5, 6, 7, 8, 9)\n"
     ]
    }
   ],
   "source": [
    "b = tuple(range(10))\n",
    "print(b)"
   ]
  },
  {
   "cell_type": "code",
   "execution_count": 42,
   "metadata": {},
   "outputs": [
    {
     "name": "stdout",
     "output_type": "stream",
     "text": [
      "[0, 1, 2, 3, 4, 5, 6, 7, 8, 9]\n",
      "(0, 1, 2, 3, 4, 5, 6, 7, 8, 9)\n",
      "(0, 1, 2, 3, 4, 5, 6, 7, 8, 9)\n",
      "[0, 1, 2, 3, 4, 5, 6, 7, 8, 9]\n"
     ]
    }
   ],
   "source": [
    "a = list(range(10))\n",
    "b = tuple(range(10))\n",
    "c = tuple(a)\n",
    "d = list(b)\n",
    "print(a)\n",
    "print(b)\n",
    "print(c) # 바뀐다!\n",
    "print(d) # 바뀐다!"
   ]
  },
  {
   "cell_type": "markdown",
   "metadata": {},
   "source": [
    "## in은 있냐? 를 물어봄"
   ]
  },
  {
   "cell_type": "code",
   "execution_count": 43,
   "metadata": {},
   "outputs": [
    {
     "name": "stdout",
     "output_type": "stream",
     "text": [
      "True\n",
      "False\n",
      "False\n",
      "False\n",
      "True\n"
     ]
    }
   ],
   "source": [
    "a = list(range(10))\n",
    "b = tuple(range(10))\n",
    "c = range(10)\n",
    "print(1 in a) # a에 1이 있냐?\n",
    "print(15 in a)\n",
    "print(1 not in b) # b에 1이 없냐?\n",
    "print(15 in b)\n",
    "print(5 in c)"
   ]
  },
  {
   "cell_type": "code",
   "execution_count": 44,
   "metadata": {},
   "outputs": [
    {
     "name": "stdout",
     "output_type": "stream",
     "text": [
      "False\n",
      "True\n"
     ]
    }
   ],
   "source": [
    "s = \"Hello\"\n",
    "print('h' in s)\n",
    "print(\"H\" in s)"
   ]
  },
  {
   "cell_type": "markdown",
   "metadata": {},
   "source": [
    "## 리스트의 기본 연산과 인덱싱"
   ]
  },
  {
   "cell_type": "code",
   "execution_count": 45,
   "metadata": {},
   "outputs": [
    {
     "name": "stdout",
     "output_type": "stream",
     "text": [
      "[1, 2, 3]\n",
      "[1, 2, 3, 1, 2, 3]\n",
      "[1, 2, 3, 1, 2, 3, 1, 2, 3]\n",
      "[1, 2, 3, 1, 2, 3, 1, 2, 3]\n",
      "[1, 2, 3, 1, 2, 3, 1, 2, 3]\n"
     ]
    }
   ],
   "source": [
    "a = [1,2,3]\n",
    "b = a+a\n",
    "c = a*3\n",
    "# d = a * (12/4) # 연산안됨\n",
    "d = a * (12//4)\n",
    "e = a* int(12/4)\n",
    "print(a)\n",
    "print(b)\n",
    "print(c)\n",
    "print(d)\n",
    "print(e)"
   ]
  },
  {
   "cell_type": "code",
   "execution_count": 46,
   "metadata": {},
   "outputs": [
    {
     "name": "stdout",
     "output_type": "stream",
     "text": [
      "3\n"
     ]
    }
   ],
   "source": [
    "a = [1,2,3]\n",
    "print(len(a))"
   ]
  },
  {
   "cell_type": "code",
   "execution_count": 47,
   "metadata": {},
   "outputs": [
    {
     "name": "stdout",
     "output_type": "stream",
     "text": [
      "hello\n",
      "5\n",
      "['hello']\n",
      "1\n"
     ]
    }
   ],
   "source": [
    "s = 'hello'\n",
    "s2 = ['hello']\n",
    "print(s)\n",
    "print(len(s)) # len() 안에 문자열이 들어오면 문자의 개수를 알려주고\n",
    "# len() 안에 리스트가 들어오면 리스트에 들어있는 원소의 개수를 알려준다!\n",
    "print(s2)\n",
    "print(len(s2)) # 왜 하나일까?"
   ]
  },
  {
   "cell_type": "code",
   "execution_count": 48,
   "metadata": {},
   "outputs": [
    {
     "name": "stdout",
     "output_type": "stream",
     "text": [
      "1\n",
      "1 2 3\n",
      "3\n",
      "3 2 1\n"
     ]
    }
   ],
   "source": [
    "a = [1,2,3]\n",
    "print(a[0]) # a[i]:i 번째의 값을 가리킴. 이런 것을 인덱싱이라 함\n",
    "print(a[0],a[1],a[2])\n",
    "print(a[-1]) # -1은 마지막 것을 가리킨다\n",
    "print(a[-1], a[-2], a[-3])"
   ]
  },
  {
   "cell_type": "code",
   "execution_count": 49,
   "metadata": {},
   "outputs": [
    {
     "name": "stdout",
     "output_type": "stream",
     "text": [
      "0 2 4\n"
     ]
    }
   ],
   "source": [
    "r = range(0,10,2) # range도 인덱싱이 된다.\n",
    "print(r[0], r[1], r[2])"
   ]
  },
  {
   "cell_type": "code",
   "execution_count": 50,
   "metadata": {},
   "outputs": [
    {
     "name": "stdout",
     "output_type": "stream",
     "text": [
      "[3, 5, 10]\n"
     ]
    }
   ],
   "source": [
    "a = [1,2,3]\n",
    "a[0] = 3\n",
    "a[1] = 5\n",
    "a[2] = 10\n",
    "print(a)"
   ]
  },
  {
   "cell_type": "code",
   "execution_count": 51,
   "metadata": {},
   "outputs": [],
   "source": [
    "a = (1,2,3)\n",
    "# a[0] = 1 # tuple은 변경이 불가능, immutable"
   ]
  },
  {
   "cell_type": "code",
   "execution_count": 52,
   "metadata": {},
   "outputs": [
    {
     "name": "stdout",
     "output_type": "stream",
     "text": [
      "[1, 3]\n"
     ]
    }
   ],
   "source": [
    "a = [1,2,3]\n",
    "del a[1]\n",
    "print(a)"
   ]
  },
  {
   "cell_type": "markdown",
   "metadata": {},
   "source": [
    "## 굉장히 많이 쓰이는 슬라이스!"
   ]
  },
  {
   "cell_type": "code",
   "execution_count": 53,
   "metadata": {},
   "outputs": [
    {
     "name": "stdout",
     "output_type": "stream",
     "text": [
      "[1, 2, 3]\n"
     ]
    }
   ],
   "source": [
    "a = [1,2,3,4,5,6,7,8,9,10]\n",
    "b = a[0:3] # 0부터 3미만번째까지\n",
    "print(b)"
   ]
  },
  {
   "cell_type": "code",
   "execution_count": 54,
   "metadata": {},
   "outputs": [
    {
     "name": "stdout",
     "output_type": "stream",
     "text": [
      "[2, 3]\n",
      "[4, 5, 6, 7, 8, 9]\n",
      "[2, 4, 6]\n",
      "[1, 2, 3, 4, 5]\n",
      "[6, 7, 8, 9, 10]\n",
      "[1, 2, 3, 4, 5, 6, 7, 8, 9, 10]\n"
     ]
    }
   ],
   "source": [
    "a = [1,2,3,4,5,6,7,8,9,10]\n",
    "print(a[1:3])\n",
    "print(a[3:-1])\n",
    "print(a[1:7:2])\n",
    "print(a[:5]) # 첫번째 자리를 비우면 처음부터\n",
    "print(a[5:]) # 마지막 자리를 비우면 마지막까지\n",
    "print(a[:]) # 처음부터 끝까지\n"
   ]
  },
  {
   "cell_type": "code",
   "execution_count": 55,
   "metadata": {},
   "outputs": [
    {
     "name": "stdout",
     "output_type": "stream",
     "text": [
      "[1, 3, 5, 7]\n",
      "[8, 10]\n",
      "[1, 3, 5, 7, 9]\n",
      "[1, 2, 3, 4, 5, 6, 7, 8, 9, 10]\n"
     ]
    }
   ],
   "source": [
    "a = [1,2,3,4,5,6,7,8,9,10]\n",
    "print(a[:7:2])\n",
    "print(a[7::2])\n",
    "print(a[::2])\n",
    "print(a[::]) # a[:]와 동일"
   ]
  },
  {
   "cell_type": "code",
   "execution_count": 56,
   "metadata": {},
   "outputs": [
    {
     "name": "stdout",
     "output_type": "stream",
     "text": [
      "[1, 4, 5]\n"
     ]
    }
   ],
   "source": [
    "a = [1,2,3,4,5]\n",
    "del a[1:3]\n",
    "print(a)"
   ]
  },
  {
   "cell_type": "markdown",
   "metadata": {},
   "source": [
    "## 딕셔너리"
   ]
  },
  {
   "cell_type": "code",
   "execution_count": 57,
   "metadata": {},
   "outputs": [
    {
     "name": "stdout",
     "output_type": "stream",
     "text": [
      "{'a': 1, 'b': 2, 100: '5', 200: 'ㅎㅎ'}\n",
      "1 2 5 ㅎㅎ\n",
      "4\n",
      "dict_keys(['a', 'b', 100, 200])\n",
      "dict_values([1, 2, '5', 'ㅎㅎ'])\n",
      "dict_items([('a', 1), ('b', 2), (100, '5'), (200, 'ㅎㅎ')])\n"
     ]
    }
   ],
   "source": [
    "dic1 = {'a':1, 'b':2, 100:'5', 200:'ㅎㅎ'} # 중괄호로 선언, 콜론(:)이 들어간다\n",
    "# 키: 값의 형태, 숫자 문자 뭐든 키, 값이 될 수 있다.\n",
    "# 키에는 수정할 수 없는 튜플은 되고 리스트는 안됨\n",
    "# 값에는 튜플도 되고 리스트도 됨\n",
    "print(dic1)\n",
    "print(dic1['a'],dic1['b'], dic1[100], dic1[200])\n",
    "print(len(dic1)) # 키를 기준으로 갯수를 센다\n",
    "print(dic1.keys())\n",
    "print(dic1.values())\n",
    "print(dic1.items())"
   ]
  },
  {
   "cell_type": "code",
   "execution_count": 58,
   "metadata": {},
   "outputs": [
    {
     "name": "stdout",
     "output_type": "stream",
     "text": [
      "{'a': 1, 'b': 2}\n",
      "[('a', 1), ('b', 2)]\n"
     ]
    }
   ],
   "source": [
    "a = dict(zip(['a','b'],[1,2])) # zip의 구조는 왼쪽에 key, 오른쪽에 value를 쌍으로 선언하는 구조임\n",
    "print(a)\n",
    "print(list(zip(['a','b'],[1,2])))\n"
   ]
  },
  {
   "cell_type": "code",
   "execution_count": 59,
   "metadata": {},
   "outputs": [
    {
     "name": "stdout",
     "output_type": "stream",
     "text": [
      "{'a': 100, 'b': 200, 'c': 300, 'd': 400}\n",
      "{'a': 100, 'b': 200, 'c': 300, 'd': 400, 'e': '새로운 키'}\n",
      "True\n",
      "False\n",
      "False\n"
     ]
    }
   ],
   "source": [
    "dic1 = {'a':1, 'b':2, 'c':3, 'd':4}\n",
    "dic1['a'] = 100; dic1['b'] = 200; dic1['c'] = 300; dic1['d'] = 400\n",
    "print(dic1)\n",
    "dic1['e'] = '새로운 키' # 새로운 키와 value를 추가해줌\n",
    "print(dic1)\n",
    "print('a' in dic1) # 'a'라는 키가 있냐?\n",
    "print('A' in dic1)\n",
    "print(100 in dic1) # 100이라는 키가 있냐? value 말고"
   ]
  },
  {
   "cell_type": "markdown",
   "metadata": {},
   "source": [
    "## 조건문"
   ]
  },
  {
   "cell_type": "code",
   "execution_count": 60,
   "metadata": {},
   "outputs": [
    {
     "name": "stdout",
     "output_type": "stream",
     "text": [
      "True\n",
      "False\n",
      "True\n",
      "3보다 큽니다\n",
      "5와 같습니다.\n"
     ]
    }
   ],
   "source": [
    "a = 5\n",
    "print(a>3)\n",
    "print(a<3)\n",
    "print(a==5)\n",
    "\n",
    "if a>3:\n",
    "    print('3보다 큽니다')\n",
    "\n",
    "if a<3:\n",
    "    print('3보다 작습니다.')\n",
    "\n",
    "if a == 5:\n",
    "    print('5와 같습니다.')\n",
    "\n",
    "# if a=5:\n",
    "#     print('5입니다.')"
   ]
  },
  {
   "cell_type": "code",
   "execution_count": 61,
   "metadata": {},
   "outputs": [
    {
     "name": "stdout",
     "output_type": "stream",
     "text": [
      "5와\n",
      "같습니다.\n",
      "if문 밖으로 나옴. 여기서부터 계속 실행된다.\n"
     ]
    }
   ],
   "source": [
    "a = 5\n",
    "if a == 5:\n",
    "    print('5와')\n",
    "    print('같습니다.')\n",
    "print('if문 밖으로 나옴. 여기서부터 계속 실행된다.')\n",
    "# if a == 5:\n",
    "#     print('5와')\n",
    "#         print('같습니다.') # 오류!, 들여쓰기 맞춰야 함"
   ]
  },
  {
   "cell_type": "code",
   "execution_count": 62,
   "metadata": {},
   "outputs": [
    {
     "name": "stdout",
     "output_type": "stream",
     "text": [
      "10보다 큽니다.\n",
      "15입니다.\n",
      "1\n"
     ]
    }
   ],
   "source": [
    "x = 15\n",
    "if x>10:\n",
    "    print('10보다 큽니다.')\n",
    "    if x==15:\n",
    "        print('15입니다.')\n",
    "    if x==20:\n",
    "        print('20입니다.')\n",
    "    a = 1\n",
    "print(a)"
   ]
  },
  {
   "cell_type": "code",
   "execution_count": 63,
   "metadata": {},
   "outputs": [],
   "source": [
    "x = 15\n",
    "if x<10:\n",
    "    print('10보다 큽니다.')\n",
    "    if x==15:\n",
    "        print('15입니다.')\n",
    "    if x==20:\n",
    "        print('20입니다.')"
   ]
  },
  {
   "cell_type": "code",
   "execution_count": 64,
   "metadata": {},
   "outputs": [
    {
     "name": "stdout",
     "output_type": "stream",
     "text": [
      "여기 들어온다\n",
      "이번엔 여기로 들어와야 함\n"
     ]
    }
   ],
   "source": [
    "if True:\n",
    "    print(\"여기 들어온다\")\n",
    "else:\n",
    "    print(\"여기 안들어와야\")\n",
    "\n",
    "if False:\n",
    "    print(\"여긴 안들어와야\")\n",
    "else:\n",
    "    print(\"이번엔 여기로 들어와야 함\")"
   ]
  },
  {
   "cell_type": "code",
   "execution_count": 70,
   "metadata": {},
   "outputs": [
    {
     "name": "stdout",
     "output_type": "stream",
     "text": [
      "0만 아니면 True 취급\n",
      "글자 있으면 True 취급\n",
      "비었으면 일로 온다\n"
     ]
    }
   ],
   "source": [
    "if -1: # bool(-1)이 True\n",
    "    print(\"0만 아니면 True 취급\")\n",
    "else:\n",
    "    print(\"여긴 안들어올 것이다\")\n",
    "\n",
    "if \"Hello\":\n",
    "    print(\"글자 있으면 True 취급\")\n",
    "else:\n",
    "    print(\"여긴 안들어올 것이다\")\n",
    "\n",
    "if \"\":\n",
    "    print(\"빈 문자는 False 취급\")\n",
    "else:\n",
    "    print(\"비었으면 일로 온다\")"
   ]
  },
  {
   "cell_type": "code",
   "execution_count": 72,
   "metadata": {},
   "outputs": [
    {
     "name": "stdout",
     "output_type": "stream",
     "text": [
      "True\n",
      "False\n",
      "True\n",
      "False\n"
     ]
    }
   ],
   "source": [
    "print(bool(1))\n",
    "print(bool(0))\n",
    "print(bool(\"Hello\"))\n",
    "print(bool(\"\"))"
   ]
  },
  {
   "cell_type": "code",
   "execution_count": 74,
   "metadata": {},
   "outputs": [
    {
     "name": "stdout",
     "output_type": "stream",
     "text": [
      "둘 다 맞아야만 들어옴\n"
     ]
    }
   ],
   "source": [
    "a = 1\n",
    "b = 2\n",
    "if a>0 and b>0:\n",
    "    print(\"둘 다 맞아야만 들어옴\")\n",
    "else:\n",
    "    print(\"둘 중 하나라도 안 맞으면 여기로로\")"
   ]
  },
  {
   "cell_type": "code",
   "execution_count": 76,
   "metadata": {},
   "outputs": [
    {
     "name": "stdout",
     "output_type": "stream",
     "text": [
      "둘 중 하나라도 안 맞으면 여기로로\n"
     ]
    }
   ],
   "source": [
    "a = 1\n",
    "b = -1\n",
    "if a>0 and b>0:\n",
    "    print(\"둘 다 맞아야만 들어옴\")\n",
    "else:\n",
    "    print(\"둘 중 하나라도 안 맞으면 여기로로\")"
   ]
  },
  {
   "cell_type": "code",
   "execution_count": 77,
   "metadata": {},
   "outputs": [
    {
     "name": "stdout",
     "output_type": "stream",
     "text": [
      "둘 중에 하나라도 맞으면 들어옴\n"
     ]
    }
   ],
   "source": [
    "a = 1\n",
    "b = -1\n",
    "if a>0 or b>0:\n",
    "    print(\"둘 중에 하나라도 맞으면 들어옴\")\n",
    "else:\n",
    "    print(\"둘 다 아니면 여기로로\")"
   ]
  },
  {
   "cell_type": "code",
   "execution_count": 79,
   "metadata": {},
   "outputs": [
    {
     "name": "stdout",
     "output_type": "stream",
     "text": [
      "둘 다 아니면 여기로로\n"
     ]
    }
   ],
   "source": [
    "a = -1\n",
    "b = -1\n",
    "if a>0 or b>0:\n",
    "    print(\"둘 중에 하나라도 맞으면 들어옴\")\n",
    "else:\n",
    "    print(\"둘 다 아니면 여기로로\")"
   ]
  },
  {
   "cell_type": "code",
   "execution_count": 80,
   "metadata": {},
   "outputs": [
    {
     "name": "stdout",
     "output_type": "stream",
     "text": [
      "부등호 연달아 써도 된다\n"
     ]
    }
   ],
   "source": [
    "x = 10\n",
    "if 0 < x < 20:\n",
    "    print('부등호 연달아 써도 된다') #파이썬만 됨!"
   ]
  },
  {
   "cell_type": "code",
   "execution_count": 85,
   "metadata": {},
   "outputs": [
    {
     "name": "stdout",
     "output_type": "stream",
     "text": [
      "50보다 작은가?\n"
     ]
    }
   ],
   "source": [
    "x = 25\n",
    "if x < 10:\n",
    "    print('10보다 작은가?')\n",
    "elif x < 50:\n",
    "    print('아니면 50보다 작은가?')"
   ]
  },
  {
   "cell_type": "code",
   "execution_count": 92,
   "metadata": {},
   "outputs": [
    {
     "name": "stdout",
     "output_type": "stream",
     "text": [
      "10보다 작은가?\n"
     ]
    }
   ],
   "source": [
    "x = 5\n",
    "if x < 10: #가장 먼저 본 애를 실행한다, 그리고 나서 통째로 튀어나감\n",
    "    print('10보다 작은가?')\n",
    "elif x < 100:\n",
    "    print('아니면 100보다 작은가?')\n",
    "else:\n",
    "    print(\"둘 다 아닌가? (10보다 작지도, 100보다 작지도 않은가?)\")"
   ]
  },
  {
   "cell_type": "code",
   "execution_count": 93,
   "metadata": {},
   "outputs": [
    {
     "name": "stdout",
     "output_type": "stream",
     "text": [
      "5에 해당하는 무언가 실행\n"
     ]
    }
   ],
   "source": [
    "x == 6\n",
    "if x == 1:\n",
    "    print(\"1에 해당하는 무언가 실행\")\n",
    "elif x==2: #elif는 개수 제한이 없다\n",
    "    print(\"2에 해당하는 무언가 실행\")\n",
    "elif x==3:\n",
    "    print(\"3에 해당하는 무언가 실행\")\n",
    "elif x==4:\n",
    "    print(\"4에 해당하는 무언가 실행\")\n",
    "elif x==5:\n",
    "    print(\"5에 해당하는 무언가 실행\")\n",
    "else: # else는 항상 맨 마지막에\n",
    "    print(\"다른 숫자\")"
   ]
  },
  {
   "cell_type": "markdown",
   "metadata": {},
   "source": [
    "## 반복문!"
   ]
  },
  {
   "cell_type": "code",
   "execution_count": 97,
   "metadata": {},
   "outputs": [
    {
     "name": "stdout",
     "output_type": "stream",
     "text": [
      "Hello\n",
      "Hello\n",
      "Hello\n",
      "Hello\n",
      "Hello\n"
     ]
    }
   ],
   "source": [
    "print('Hello')\n",
    "print('Hello')\n",
    "print('Hello')\n",
    "print('Hello')\n",
    "print('Hello')"
   ]
  },
  {
   "cell_type": "code",
   "execution_count": 99,
   "metadata": {},
   "outputs": [
    {
     "name": "stdout",
     "output_type": "stream",
     "text": [
      "Hello\n",
      "Hello\n",
      "Hello\n",
      "Hello\n",
      "Hello\n"
     ]
    }
   ],
   "source": [
    "for i in range(5):\n",
    "    print(\"Hello\")"
   ]
  },
  {
   "cell_type": "code",
   "execution_count": 101,
   "metadata": {},
   "outputs": [
    {
     "name": "stdout",
     "output_type": "stream",
     "text": [
      "0\n",
      "1\n",
      "2\n",
      "3\n",
      "4\n"
     ]
    }
   ],
   "source": [
    "for i in range(5): #<- range(5)에 0,1,2,3,4 로부터터 i라는 이름으로 하나씩 꺼내서 그 i에 실행해라\n",
    "    print(i)"
   ]
  },
  {
   "cell_type": "code",
   "execution_count": 102,
   "metadata": {},
   "outputs": [
    {
     "name": "stdout",
     "output_type": "stream",
     "text": [
      "5\n",
      "6\n",
      "7\n",
      "8\n",
      "9\n",
      "10\n",
      "11\n"
     ]
    }
   ],
   "source": [
    "for i in range(5,12):\n",
    "    print(i)"
   ]
  },
  {
   "cell_type": "code",
   "execution_count": 104,
   "metadata": {},
   "outputs": [
    {
     "name": "stdout",
     "output_type": "stream",
     "text": [
      "5\n",
      "7\n",
      "9\n",
      "11\n"
     ]
    }
   ],
   "source": [
    "for i in range(5,12,2):\n",
    "    print(i)"
   ]
  },
  {
   "cell_type": "code",
   "execution_count": 106,
   "metadata": {},
   "outputs": [
    {
     "name": "stdout",
     "output_type": "stream",
     "text": [
      "10\n",
      "9\n",
      "8\n",
      "7\n",
      "6\n",
      "5\n",
      "4\n",
      "3\n",
      "2\n",
      "1\n"
     ]
    }
   ],
   "source": [
    "for i in range(10,0,-1):\n",
    "    print(i)"
   ]
  },
  {
   "cell_type": "code",
   "execution_count": 107,
   "metadata": {},
   "outputs": [
    {
     "name": "stdout",
     "output_type": "stream",
     "text": [
      "9\n",
      "8\n",
      "7\n",
      "6\n",
      "5\n",
      "4\n",
      "3\n",
      "2\n",
      "1\n",
      "0\n"
     ]
    }
   ],
   "source": [
    "for i in reversed(range(10)):\n",
    "    print(i)"
   ]
  },
  {
   "cell_type": "code",
   "execution_count": 109,
   "metadata": {},
   "outputs": [
    {
     "data": {
      "text/plain": [
       "[9, 8, 7, 6, 5, 4, 3, 2, 1, 0]"
      ]
     },
     "execution_count": 109,
     "metadata": {},
     "output_type": "execute_result"
    }
   ],
   "source": [
    "list(reversed(range(10)))"
   ]
  },
  {
   "cell_type": "code",
   "execution_count": 111,
   "metadata": {},
   "outputs": [
    {
     "name": "stdout",
     "output_type": "stream",
     "text": [
      "0.4\n",
      "0.1\n",
      "0.67\n",
      "-0.2\n"
     ]
    }
   ],
   "source": [
    "for i in [0.4, 0.1, 0.67, -0.2]: # 리스트를 가지고 반복이 가능함\n",
    "    print(i)"
   ]
  },
  {
   "cell_type": "code",
   "execution_count": 112,
   "metadata": {},
   "outputs": [
    {
     "name": "stdout",
     "output_type": "stream",
     "text": [
      "10\n",
      "20\n",
      "30\n",
      "40\n",
      "50\n"
     ]
    }
   ],
   "source": [
    "# 파이썬스럽지 않은 표현\n",
    "a = [10,20,30,40,50]\n",
    "for i in range(len(a)):\n",
    "    print(a[i])"
   ]
  },
  {
   "cell_type": "code",
   "execution_count": 113,
   "metadata": {},
   "outputs": [
    {
     "name": "stdout",
     "output_type": "stream",
     "text": [
      "apple\n",
      "banana\n",
      "carrot\n",
      "d\n",
      "e\n"
     ]
    }
   ],
   "source": [
    "a = ['apple','banana','carrot','d','e']\n",
    "for i in a:\n",
    "    print(i)"
   ]
  },
  {
   "cell_type": "code",
   "execution_count": 114,
   "metadata": {},
   "outputs": [
    {
     "name": "stdout",
     "output_type": "stream",
     "text": [
      "H\n",
      "e\n",
      "l\n",
      "l\n",
      "o\n"
     ]
    }
   ],
   "source": [
    "a = \"Hello\"\n",
    "for i in a:\n",
    "    print(i)"
   ]
  },
  {
   "cell_type": "code",
   "execution_count": 115,
   "metadata": {},
   "outputs": [
    {
     "name": "stdout",
     "output_type": "stream",
     "text": [
      "H\n",
      "e\n",
      "l\n",
      "l\n",
      "o\n"
     ]
    }
   ],
   "source": [
    "a = \"Hello\"\n",
    "for i in a:\n",
    "    print(i, end=\"\\n\") #default가 \\n"
   ]
  },
  {
   "cell_type": "code",
   "execution_count": 117,
   "metadata": {},
   "outputs": [
    {
     "name": "stdout",
     "output_type": "stream",
     "text": [
      "Hello"
     ]
    }
   ],
   "source": [
    "a = \"Hello\"\n",
    "for i in a:\n",
    "    print(i, end=\"\")"
   ]
  },
  {
   "cell_type": "code",
   "execution_count": 118,
   "metadata": {},
   "outputs": [
    {
     "name": "stdout",
     "output_type": "stream",
     "text": [
      "0 0\n",
      "0 1\n",
      "0 2\n",
      "1 0\n",
      "1 1\n",
      "1 2\n",
      "2 0\n",
      "2 1\n",
      "2 2\n"
     ]
    }
   ],
   "source": [
    "for i in range(3):\n",
    "    for j in range(3):\n",
    "        print(i,j)"
   ]
  },
  {
   "cell_type": "code",
   "execution_count": 120,
   "metadata": {},
   "outputs": [
    {
     "name": "stdout",
     "output_type": "stream",
     "text": [
      "0\n",
      "1\n",
      "2\n",
      "3\n",
      "4\n",
      "\n",
      "i =  5\n"
     ]
    }
   ],
   "source": [
    "i = 0\n",
    "while i < 5: # i가 5보다 작은 동안에 반복적으로 실행\n",
    "    print(i)\n",
    "    i += 1\n",
    "print()\n",
    "print(\"i = \",i)"
   ]
  },
  {
   "cell_type": "code",
   "execution_count": 124,
   "metadata": {},
   "outputs": [
    {
     "name": "stdout",
     "output_type": "stream",
     "text": [
      "0\n",
      "1\n",
      "2\n",
      "3\n",
      "4\n"
     ]
    }
   ],
   "source": [
    "i = 0\n",
    "while True:\n",
    "    print(i)\n",
    "    i+=1\n",
    "    if i == 5:\n",
    "        break # 가장 가까운 반복문을 튀어나감"
   ]
  },
  {
   "cell_type": "code",
   "execution_count": null,
   "metadata": {},
   "outputs": [],
   "source": []
  },
  {
   "cell_type": "code",
   "execution_count": 126,
   "metadata": {},
   "outputs": [
    {
     "name": "stdout",
     "output_type": "stream",
     "text": [
      "0\n",
      "1\n",
      "2\n",
      "3\n",
      "4\n",
      "5\n",
      "6\n",
      "7\n",
      "8\n",
      "9\n",
      "10\n",
      "10\n"
     ]
    }
   ],
   "source": [
    "for i in range(1000000000000000):\n",
    "    print(i)\n",
    "    if i == 10:\n",
    "        break\n",
    "print(i)"
   ]
  },
  {
   "cell_type": "code",
   "execution_count": 128,
   "metadata": {},
   "outputs": [
    {
     "name": "stdout",
     "output_type": "stream",
     "text": [
      "1\n"
     ]
    }
   ],
   "source": [
    "EPOCH = 10\n",
    "for i in range(EPOCH):\n",
    "    asd = 1\n",
    "    print(asd)\n",
    "    break #디버깅 용으로 break를 걸어서 for문이 작동하는지 검토"
   ]
  },
  {
   "cell_type": "code",
   "execution_count": 130,
   "metadata": {},
   "outputs": [
    {
     "name": "stdout",
     "output_type": "stream",
     "text": [
      "1\n",
      "3\n",
      "5\n",
      "7\n",
      "9\n"
     ]
    }
   ],
   "source": [
    "for i in range(10):\n",
    "    if i % 2 == 0:\n",
    "        continue # r건너 뛰고 continue 만나면 그 밑으로는 안하고 하던 반복으로 마저 돌아감\n",
    "    print(i)"
   ]
  },
  {
   "cell_type": "code",
   "execution_count": 132,
   "metadata": {},
   "outputs": [
    {
     "name": "stdout",
     "output_type": "stream",
     "text": [
      "1\n",
      "3\n",
      "5\n",
      "7\n",
      "9\n"
     ]
    }
   ],
   "source": [
    "i = 0\n",
    "while i <10:\n",
    "    i+=1 \n",
    "    if i%2 == 0:\n",
    "        continue\n",
    "    print(i)"
   ]
  },
  {
   "cell_type": "code",
   "execution_count": 134,
   "metadata": {},
   "outputs": [
    {
     "name": "stdout",
     "output_type": "stream",
     "text": [
      "0 번째에 1 가 들어있어요\n",
      "1 번째에 2 가 들어있어요\n",
      "2 번째에 3 가 들어있어요\n",
      "3 번째에 4 가 들어있어요\n",
      "4 번째에 5 가 들어있어요\n"
     ]
    }
   ],
   "source": [
    "a = [1,2,3,4,5]\n",
    "for i in range(len(a)): #항상 \"0번째\" 라고 말해야 함\n",
    "    print(i,\"번째에\",a[i],\"가 들어있어요\")"
   ]
  },
  {
   "cell_type": "markdown",
   "metadata": {},
   "source": [
    "## for문과 함께 자주 쓰이는 enumerate"
   ]
  },
  {
   "cell_type": "code",
   "execution_count": 135,
   "metadata": {},
   "outputs": [
    {
     "name": "stdout",
     "output_type": "stream",
     "text": [
      "1 번째에 1 가 들어있어요\n",
      "2 번째에 2 가 들어있어요\n",
      "3 번째에 3 가 들어있어요\n",
      "4 번째에 4 가 들어있어요\n",
      "5 번째에 5 가 들어있어요\n"
     ]
    }
   ],
   "source": [
    "a = [1,2,3,4,5]\n",
    "j = 1\n",
    "for i in a:\n",
    "    print(j,\"번째에\", i,\"가 들어있어요\")\n",
    "    j+=1"
   ]
  },
  {
   "cell_type": "code",
   "execution_count": 136,
   "metadata": {},
   "outputs": [
    {
     "name": "stdout",
     "output_type": "stream",
     "text": [
      "0 번째에 1 가 들어있어요\n",
      "1 번째에 2 가 들어있어요\n",
      "2 번째에 3 가 들어있어요\n",
      "3 번째에 4 가 들어있어요\n",
      "4 번째에 5 가 들어있어요\n"
     ]
    }
   ],
   "source": [
    "a = [1,2,3,4,5]\n",
    "for i, val in enumerate(a):\n",
    "    print(i,\"번째에\",val,\"가 들어있어요\")"
   ]
  },
  {
   "cell_type": "code",
   "execution_count": 137,
   "metadata": {},
   "outputs": [
    {
     "name": "stdout",
     "output_type": "stream",
     "text": [
      "1 번째에 1 가 들어있어요\n",
      "2 번째에 2 가 들어있어요\n",
      "3 번째에 3 가 들어있어요\n",
      "4 번째에 4 가 들어있어요\n",
      "5 번째에 5 가 들어있어요\n"
     ]
    }
   ],
   "source": [
    "a = [1,2,3,4,5]\n",
    "for i, val in enumerate(a, start=1):\n",
    "    print(i,\"번째에\",val,\"가 들어있어요\")"
   ]
  },
  {
   "cell_type": "markdown",
   "metadata": {},
   "source": [
    "## 반복문 과제"
   ]
  },
  {
   "cell_type": "code",
   "execution_count": 139,
   "metadata": {},
   "outputs": [
    {
     "name": "stdout",
     "output_type": "stream",
     "text": [
      "*\n",
      "**\n",
      "***\n",
      "****\n"
     ]
    }
   ],
   "source": [
    "print(\"*\")\n",
    "print(\"**\")\n",
    "print(\"***\")\n",
    "print(\"****\")"
   ]
  },
  {
   "cell_type": "markdown",
   "metadata": {},
   "source": [
    "## 리스트 심화"
   ]
  },
  {
   "cell_type": "code",
   "execution_count": 140,
   "metadata": {},
   "outputs": [
    {
     "name": "stdout",
     "output_type": "stream",
     "text": [
      "[1, 2, 3, 4] len(a) = 4\n"
     ]
    }
   ],
   "source": [
    "a = [1,2,3]\n",
    "a.append(4)\n",
    "print(a,\"len(a) =\",len(a))"
   ]
  },
  {
   "cell_type": "code",
   "execution_count": 141,
   "metadata": {},
   "outputs": [
    {
     "name": "stdout",
     "output_type": "stream",
     "text": [
      "[1, 2, 3, [4, 5]] len(a) = 4\n"
     ]
    }
   ],
   "source": [
    "a = [1,2,3]\n",
    "a.append([4,5])\n",
    "print(a,\"len(a) =\",len(a))"
   ]
  },
  {
   "cell_type": "code",
   "execution_count": null,
   "metadata": {},
   "outputs": [],
   "source": []
  }
 ],
 "metadata": {
  "kernelspec": {
   "display_name": "NN_env",
   "language": "python",
   "name": "python3"
  },
  "language_info": {
   "codemirror_mode": {
    "name": "ipython",
    "version": 3
   },
   "file_extension": ".py",
   "mimetype": "text/x-python",
   "name": "python",
   "nbconvert_exporter": "python",
   "pygments_lexer": "ipython3",
   "version": "3.12.9"
  }
 },
 "nbformat": 4,
 "nbformat_minor": 2
}
