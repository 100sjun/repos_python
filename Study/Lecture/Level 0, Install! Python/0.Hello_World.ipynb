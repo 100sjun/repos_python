{
 "cells": [
  {
   "cell_type": "code",
   "execution_count": 38,
   "metadata": {},
   "outputs": [
    {
     "name": "stdout",
     "output_type": "stream",
     "text": [
      "Hello World!\n"
     ]
    }
   ],
   "source": [
    "print('Hello World!') \n",
    "# ctrl + enter 치면 현재 셀 실행\n",
    "# #하고 쓰면 주석 처리 됨\n",
    "# <- ctrl + / 하면 주석 처리 됨 <- 드래그하고 ctrl + / 하면 여러 줄 토글 가능\n",
    "# shift + enter 하면 실행하고 다음 셀로 이동\n",
    "# alt + enter 하면 실행하고 밑에 셀을 새로 만듦\n",
    "# esc 하면 방향키 위아래로 셀 이동 가능. 엔터 치면 코드 작성. 이 모드에서 a하면 위에 셀, b하면 아래에 셀을 만듦\n",
    "# ctrl + m, d 하면 셀 삭제\n"
   ]
  },
  {
   "cell_type": "markdown",
   "metadata": {},
   "source": [
    "# 큰 제목\n",
    "## 그 다음으로 큰\n",
    "### 그그그 다음으로 큰\n",
    "**볼드**\n",
    "- 1\n",
    "    - 1-1\n",
    "        - 1-1-1\n",
    "\n",
    "1. a\n",
    "2. b\n",
    "\n",
    "> ㅎㅎ\n",
    ">> ㅎㅎ\n",
    "\n",
    "$y=x$\n",
    "\n",
    "```python\n",
    "print(\"Hellow World\")\n",
    "```\n",
    "\n",
    "[유튜브](https://youtube.be/IJRxpLgT7oE)"
   ]
  },
  {
   "cell_type": "markdown",
   "metadata": {},
   "source": [
    "## 파이썬은 계산기다!"
   ]
  },
  {
   "cell_type": "code",
   "execution_count": 39,
   "metadata": {},
   "outputs": [
    {
     "data": {
      "text/plain": [
       "int"
      ]
     },
     "execution_count": 39,
     "metadata": {},
     "output_type": "execute_result"
    }
   ],
   "source": [
    "type(2) # int는 integer의 줄임말"
   ]
  },
  {
   "cell_type": "code",
   "execution_count": 40,
   "metadata": {},
   "outputs": [
    {
     "data": {
      "text/plain": [
       "float"
      ]
     },
     "execution_count": 40,
     "metadata": {},
     "output_type": "execute_result"
    }
   ],
   "source": [
    "type(2.) # float는 실수"
   ]
  },
  {
   "cell_type": "code",
   "execution_count": 41,
   "metadata": {},
   "outputs": [
    {
     "data": {
      "text/plain": [
       "2"
      ]
     },
     "execution_count": 41,
     "metadata": {},
     "output_type": "execute_result"
    }
   ],
   "source": [
    "4//2 # 그냥 4/2로 표현하면 2.0으로 출력되서 순서를 나타내지 못함\n",
    "# 몫을 뱉어주는 것임"
   ]
  },
  {
   "cell_type": "code",
   "execution_count": 42,
   "metadata": {},
   "outputs": [
    {
     "data": {
      "text/plain": [
       "2"
      ]
     },
     "execution_count": 42,
     "metadata": {},
     "output_type": "execute_result"
    }
   ],
   "source": [
    "int(2.9) # 반올림이 아니라 버림"
   ]
  },
  {
   "cell_type": "code",
   "execution_count": 43,
   "metadata": {},
   "outputs": [
    {
     "data": {
      "text/plain": [
       "1"
      ]
     },
     "execution_count": 43,
     "metadata": {},
     "output_type": "execute_result"
    }
   ],
   "source": [
    "5%2 # 나머지 연산, modulo 연산"
   ]
  },
  {
   "cell_type": "code",
   "execution_count": 44,
   "metadata": {},
   "outputs": [
    {
     "data": {
      "text/plain": [
       "1024"
      ]
     },
     "execution_count": 44,
     "metadata": {},
     "output_type": "execute_result"
    }
   ],
   "source": [
    "2 **10 # 2의 10승 열번 곱하지 말고 2^10 하지 말고 2**10"
   ]
  },
  {
   "cell_type": "code",
   "execution_count": 45,
   "metadata": {},
   "outputs": [
    {
     "name": "stdout",
     "output_type": "stream",
     "text": [
      "3\n",
      "10\n"
     ]
    }
   ],
   "source": [
    "print(0b011) # 0b는 이진수 표현\n",
    "print(0xA) # 0x는 16진수"
   ]
  },
  {
   "cell_type": "code",
   "execution_count": 46,
   "metadata": {},
   "outputs": [
    {
     "name": "stdout",
     "output_type": "stream",
     "text": [
      "10\n",
      "a\n",
      "1\n"
     ]
    }
   ],
   "source": [
    "a = 10 # a라는 이름의 변수에 10이라는 값을 넣음, 수학의 등호가 아님\n",
    "print(a) # a에 들어있는 값을 보여달라\n",
    "print('a')\n",
    "a = 1 # 10을 집어넣었다가 1을 집어넣었으니 이젠 a에 1이 들어가있다.\n",
    "print(a)"
   ]
  },
  {
   "cell_type": "code",
   "execution_count": 47,
   "metadata": {},
   "outputs": [],
   "source": [
    "a1 = 1\n",
    "a2 = 2\n",
    "a3 = 3\n",
    "# 1a = 10 # 변수명에서 숫자가 맨 앞에 올 수 없다"
   ]
  },
  {
   "cell_type": "code",
   "execution_count": 48,
   "metadata": {},
   "outputs": [
    {
     "name": "stdout",
     "output_type": "stream",
     "text": [
      "3\n",
      "4\n"
     ]
    }
   ],
   "source": [
    "a = 3\n",
    "A = 4\n",
    "print(a); print(A) # 대소문자 구별 됨. 한줄에 쓰려면 ;로 구별"
   ]
  },
  {
   "cell_type": "code",
   "execution_count": 49,
   "metadata": {},
   "outputs": [],
   "source": [
    "#print = 3 # 함수명에 변수를 할당하면 안돼! 이렇게 하면 런타임 다시 시작해야함함"
   ]
  },
  {
   "cell_type": "code",
   "execution_count": 50,
   "metadata": {},
   "outputs": [
    {
     "name": "stdout",
     "output_type": "stream",
     "text": [
      "hello\n"
     ]
    }
   ],
   "source": [
    "print('hello')"
   ]
  },
  {
   "cell_type": "code",
   "execution_count": 51,
   "metadata": {},
   "outputs": [],
   "source": [
    "# a - b = 1\n",
    "# a * b = 1\n",
    "# a ** 2 = 1"
   ]
  },
  {
   "cell_type": "code",
   "execution_count": 52,
   "metadata": {},
   "outputs": [],
   "source": [
    "del a # 변수 삭제, 메모리 관리\n",
    "# print(a)"
   ]
  },
  {
   "cell_type": "code",
   "execution_count": 53,
   "metadata": {},
   "outputs": [
    {
     "name": "stdout",
     "output_type": "stream",
     "text": [
      "3\n"
     ]
    }
   ],
   "source": [
    "a=1; b=2\n",
    "c = a+b\n",
    "print(c)"
   ]
  },
  {
   "cell_type": "code",
   "execution_count": 54,
   "metadata": {},
   "outputs": [
    {
     "name": "stdout",
     "output_type": "stream",
     "text": [
      "6\n"
     ]
    }
   ],
   "source": [
    "a = a+5 # 변수 업데이트\n",
    "print(a)"
   ]
  },
  {
   "cell_type": "code",
   "execution_count": 55,
   "metadata": {},
   "outputs": [
    {
     "name": "stdout",
     "output_type": "stream",
     "text": [
      "11\n"
     ]
    }
   ],
   "source": [
    "a += 5 # a = a+5와 동일\n",
    "print(a)"
   ]
  },
  {
   "cell_type": "code",
   "execution_count": 56,
   "metadata": {},
   "outputs": [
    {
     "name": "stdout",
     "output_type": "stream",
     "text": [
      "22\n"
     ]
    }
   ],
   "source": [
    "a *= 2 # a = a*2\n",
    "print(a)"
   ]
  },
  {
   "cell_type": "code",
   "execution_count": 57,
   "metadata": {},
   "outputs": [
    {
     "name": "stdout",
     "output_type": "stream",
     "text": [
      "11.0\n"
     ]
    }
   ],
   "source": [
    "a /= 2 # a = a/2\n",
    "print(a)"
   ]
  },
  {
   "cell_type": "code",
   "execution_count": 59,
   "metadata": {},
   "outputs": [
    {
     "name": "stdout",
     "output_type": "stream",
     "text": [
      "4\n",
      "x = 4\n"
     ]
    }
   ],
   "source": [
    "x = 4\n",
    "print(x)\n",
    "print(\"x =\", x)"
   ]
  },
  {
   "cell_type": "code",
   "execution_count": 61,
   "metadata": {},
   "outputs": [
    {
     "name": "stdout",
     "output_type": "stream",
     "text": [
      "Hello World\n",
      "11.0\n"
     ]
    }
   ],
   "source": [
    "print(\"Hello\", \"World\")\n",
    "print(a)"
   ]
  },
  {
   "cell_type": "markdown",
   "metadata": {},
   "source": [
    "## 진화된 계산기다!"
   ]
  },
  {
   "cell_type": "code",
   "execution_count": 63,
   "metadata": {},
   "outputs": [
    {
     "data": {
      "text/plain": [
       "True"
      ]
     },
     "execution_count": 63,
     "metadata": {},
     "output_type": "execute_result"
    }
   ],
   "source": [
    "a = 1\n",
    "a == 1 # 같냐? "
   ]
  },
  {
   "cell_type": "code",
   "execution_count": 64,
   "metadata": {},
   "outputs": [
    {
     "data": {
      "text/plain": [
       "False"
      ]
     },
     "execution_count": 64,
     "metadata": {},
     "output_type": "execute_result"
    }
   ],
   "source": [
    "a > 3"
   ]
  },
  {
   "cell_type": "code",
   "execution_count": 65,
   "metadata": {},
   "outputs": [
    {
     "data": {
      "text/plain": [
       "False"
      ]
     },
     "execution_count": 65,
     "metadata": {},
     "output_type": "execute_result"
    }
   ],
   "source": [
    "a >= 3"
   ]
  },
  {
   "cell_type": "code",
   "execution_count": 66,
   "metadata": {},
   "outputs": [],
   "source": [
    "# a => 3 안됨"
   ]
  },
  {
   "cell_type": "code",
   "execution_count": 67,
   "metadata": {},
   "outputs": [
    {
     "data": {
      "text/plain": [
       "True"
      ]
     },
     "execution_count": 67,
     "metadata": {},
     "output_type": "execute_result"
    }
   ],
   "source": [
    "a !=3 # 다르냐?"
   ]
  },
  {
   "cell_type": "code",
   "execution_count": 68,
   "metadata": {},
   "outputs": [
    {
     "name": "stderr",
     "output_type": "stream",
     "text": [
      "<>:1: SyntaxWarning: \"is\" with 'int' literal. Did you mean \"==\"?\n",
      "<>:1: SyntaxWarning: \"is\" with 'int' literal. Did you mean \"==\"?\n",
      "C:\\Users\\bsjun\\AppData\\Local\\Temp\\ipykernel_30620\\1224446397.py:1: SyntaxWarning: \"is\" with 'int' literal. Did you mean \"==\"?\n",
      "  a is 1\n"
     ]
    },
    {
     "data": {
      "text/plain": [
       "True"
      ]
     },
     "execution_count": 68,
     "metadata": {},
     "output_type": "execute_result"
    }
   ],
   "source": [
    "a is 1 "
   ]
  },
  {
   "cell_type": "code",
   "execution_count": 69,
   "metadata": {},
   "outputs": [
    {
     "name": "stderr",
     "output_type": "stream",
     "text": [
      "<>:1: SyntaxWarning: \"is not\" with 'int' literal. Did you mean \"!=\"?\n",
      "<>:1: SyntaxWarning: \"is not\" with 'int' literal. Did you mean \"!=\"?\n",
      "C:\\Users\\bsjun\\AppData\\Local\\Temp\\ipykernel_30620\\2998851572.py:1: SyntaxWarning: \"is not\" with 'int' literal. Did you mean \"!=\"?\n",
      "  a is not 1\n"
     ]
    },
    {
     "data": {
      "text/plain": [
       "False"
      ]
     },
     "execution_count": 69,
     "metadata": {},
     "output_type": "execute_result"
    }
   ],
   "source": [
    "a is not 1"
   ]
  },
  {
   "cell_type": "code",
   "execution_count": 70,
   "metadata": {},
   "outputs": [
    {
     "data": {
      "text/plain": [
       "False"
      ]
     },
     "execution_count": 70,
     "metadata": {},
     "output_type": "execute_result"
    }
   ],
   "source": [
    "'Python' == 'python'\n"
   ]
  },
  {
   "cell_type": "code",
   "execution_count": 76,
   "metadata": {},
   "outputs": [
    {
     "name": "stdout",
     "output_type": "stream",
     "text": [
      "True\n",
      "True\n",
      "True\n",
      "False\n",
      "<class 'bool'>\n",
      "<class 'str'>\n"
     ]
    }
   ],
   "source": [
    "x = 3\n",
    "print(x>1 and x<5)\n",
    "print(x>1 or x<-1)\n",
    "print(bool(1)) # bool 자료형\n",
    "print(bool(0)) # 0만 False, 나머지는 True\n",
    "print(type(x>1))\n",
    "print(type(\"True\"))"
   ]
  },
  {
   "cell_type": "markdown",
   "metadata": {},
   "source": [
    "## 여러 개를를 한 변수에 넣을 순 없을까? 리스트!"
   ]
  },
  {
   "cell_type": "code",
   "execution_count": 77,
   "metadata": {},
   "outputs": [
    {
     "name": "stdout",
     "output_type": "stream",
     "text": [
      "[1, 2, 3]\n"
     ]
    }
   ],
   "source": [
    "a = [1,2,3] # list라고 함\n",
    "print(a)"
   ]
  },
  {
   "cell_type": "code",
   "execution_count": 79,
   "metadata": {},
   "outputs": [
    {
     "name": "stdout",
     "output_type": "stream",
     "text": [
      "[1, 2, 3, 3, 4, 5]\n"
     ]
    }
   ],
   "source": [
    "a = [1,2,3]\n",
    "b = [3,4,5]\n",
    "print(a+b) # 더하는게 아니고 쌓는다."
   ]
  },
  {
   "cell_type": "code",
   "execution_count": 80,
   "metadata": {},
   "outputs": [
    {
     "name": "stdout",
     "output_type": "stream",
     "text": [
      "[4, 'ㅋ', 6]\n"
     ]
    }
   ],
   "source": [
    "a = [4, 'ㅋ', 6] # 뭐든 들어간다. 그래서 연산이 안됨\n",
    "print(a)"
   ]
  },
  {
   "cell_type": "code",
   "execution_count": 86,
   "metadata": {},
   "outputs": [
    {
     "name": "stdout",
     "output_type": "stream",
     "text": [
      "[1, '하하', 3]\n"
     ]
    }
   ],
   "source": [
    "c = [] # 빈 리스트\n",
    "c.append(1)\n",
    "c.append('하하')\n",
    "c.append(3)\n",
    "print(c)"
   ]
  },
  {
   "cell_type": "code",
   "execution_count": 93,
   "metadata": {},
   "outputs": [
    {
     "name": "stdout",
     "output_type": "stream",
     "text": [
      "[1, 'ㅋ', 'ㅋ', 'ㅋㅋㅎ', 2]\n"
     ]
    }
   ],
   "source": [
    "a = []\n",
    "# a = a + 1 이건 안됨\n",
    "a += [1] \n",
    "a += 'ㅋㅋ' # 문자열은 된다, 단 찢어서 들어감감\n",
    "a += ['ㅋㅋㅎ']\n",
    "a += [2]\n",
    "print(a)"
   ]
  },
  {
   "cell_type": "code",
   "execution_count": 96,
   "metadata": {},
   "outputs": [
    {
     "name": "stdout",
     "output_type": "stream",
     "text": [
      "[1, 0.5, 0.1]\n"
     ]
    }
   ],
   "source": [
    "loss_history = []\n",
    "loss = 1\n",
    "loss_history += [loss]\n",
    "loss = 0.5\n",
    "loss_history += [loss]\n",
    "loss = 0.1\n",
    "loss_history += [loss]\n",
    "print(loss_history)"
   ]
  },
  {
   "cell_type": "markdown",
   "metadata": {},
   "source": [
    "## range는 반복문의 친구"
   ]
  },
  {
   "cell_type": "code",
   "execution_count": 102,
   "metadata": {},
   "outputs": [
    {
     "name": "stdout",
     "output_type": "stream",
     "text": [
      "[0, 1, 2, 3, 4, 5, 6, 7, 8, 9]\n"
     ]
    }
   ],
   "source": [
    "range(10)\n",
    "a = list(range(10)) # range를 list로 바꿔줌\n",
    "print(a)"
   ]
  },
  {
   "cell_type": "code",
   "execution_count": 108,
   "metadata": {},
   "outputs": [
    {
     "name": "stdout",
     "output_type": "stream",
     "text": [
      "[1, 2, 3, 4, 5, 6, 7, 8, 9, 10]\n",
      "[1, 3, 5, 7, 9]\n",
      "[10, 9, 8, 7, 6, 5, 4, 3, 2, 1]\n"
     ]
    }
   ],
   "source": [
    "b = list(range(1,11)) # 1부터 시작 그리고 11 미만까지\n",
    "print(b)\n",
    "c = list(range(1,11,2)) # 1부터 시작 11 미만까지 2씩 증가\n",
    "print(c)\n",
    "print(list(range(10,0,-1))) # 10부터 시작 0 초과까지"
   ]
  },
  {
   "cell_type": "markdown",
   "metadata": {},
   "source": [
    "## 튜플이라는 것도 있어요"
   ]
  },
  {
   "cell_type": "code",
   "execution_count": 110,
   "metadata": {},
   "outputs": [
    {
     "name": "stdout",
     "output_type": "stream",
     "text": [
      "<class 'tuple'>\n",
      "<class 'list'>\n"
     ]
    }
   ],
   "source": [
    "a = (1,'ㅋ',3)\n",
    "b = [1,2,3]\n",
    "print(type(a))\n",
    "print(type(b))"
   ]
  },
  {
   "cell_type": "code",
   "execution_count": 111,
   "metadata": {},
   "outputs": [
    {
     "name": "stdout",
     "output_type": "stream",
     "text": [
      "(0, 1, 2, 3, 4, 5, 6, 7, 8, 9)\n"
     ]
    }
   ],
   "source": [
    "b = tuple(range(10))\n",
    "print(b)"
   ]
  },
  {
   "cell_type": "code",
   "execution_count": 113,
   "metadata": {},
   "outputs": [
    {
     "name": "stdout",
     "output_type": "stream",
     "text": [
      "[0, 1, 2, 3, 4, 5, 6, 7, 8, 9]\n",
      "(0, 1, 2, 3, 4, 5, 6, 7, 8, 9)\n",
      "(0, 1, 2, 3, 4, 5, 6, 7, 8, 9)\n",
      "[0, 1, 2, 3, 4, 5, 6, 7, 8, 9]\n"
     ]
    }
   ],
   "source": [
    "a = list(range(10))\n",
    "b = tuple(range(10))\n",
    "c = tuple(a)\n",
    "d = list(b)\n",
    "print(a)\n",
    "print(b)\n",
    "print(c) # 바뀐다!\n",
    "print(d) # 바뀐다!"
   ]
  },
  {
   "cell_type": "markdown",
   "metadata": {},
   "source": [
    "## in은 있냐? 를 물어봄"
   ]
  },
  {
   "cell_type": "code",
   "execution_count": 115,
   "metadata": {},
   "outputs": [
    {
     "name": "stdout",
     "output_type": "stream",
     "text": [
      "True\n",
      "False\n",
      "False\n",
      "False\n",
      "True\n"
     ]
    }
   ],
   "source": [
    "a = list(range(10))\n",
    "b = tuple(range(10))\n",
    "c = range(10)\n",
    "print(1 in a) # a에 1이 있냐?\n",
    "print(15 in a)\n",
    "print(1 not in b) # b에 1이 없냐?\n",
    "print(15 in b)\n",
    "print(5 in c)"
   ]
  },
  {
   "cell_type": "code",
   "execution_count": 117,
   "metadata": {},
   "outputs": [
    {
     "name": "stdout",
     "output_type": "stream",
     "text": [
      "False\n",
      "True\n"
     ]
    }
   ],
   "source": [
    "s = \"Hello\"\n",
    "print('h' in s)\n",
    "print(\"H\" in s)"
   ]
  },
  {
   "cell_type": "markdown",
   "metadata": {},
   "source": [
    "## 리스트의 기본 연산과 인덱싱"
   ]
  },
  {
   "cell_type": "code",
   "execution_count": 125,
   "metadata": {},
   "outputs": [
    {
     "name": "stdout",
     "output_type": "stream",
     "text": [
      "[1, 2, 3]\n",
      "[1, 2, 3, 1, 2, 3]\n",
      "[1, 2, 3, 1, 2, 3, 1, 2, 3]\n",
      "[1, 2, 3, 1, 2, 3, 1, 2, 3]\n",
      "[1, 2, 3, 1, 2, 3, 1, 2, 3]\n"
     ]
    }
   ],
   "source": [
    "a = [1,2,3]\n",
    "b = a+a\n",
    "c = a*3\n",
    "# d = a * (12/4) # 연산안됨\n",
    "d = a * (12//4)\n",
    "e = a* int(12/4)\n",
    "print(a)\n",
    "print(b)\n",
    "print(c)\n",
    "print(d)\n",
    "print(e)"
   ]
  },
  {
   "cell_type": "code",
   "execution_count": 126,
   "metadata": {},
   "outputs": [
    {
     "name": "stdout",
     "output_type": "stream",
     "text": [
      "3\n"
     ]
    }
   ],
   "source": [
    "a = [1,2,3]\n",
    "print(len(a))"
   ]
  },
  {
   "cell_type": "code",
   "execution_count": 128,
   "metadata": {},
   "outputs": [
    {
     "name": "stdout",
     "output_type": "stream",
     "text": [
      "hello\n",
      "5\n",
      "['hello']\n",
      "1\n"
     ]
    }
   ],
   "source": [
    "s = 'hello'\n",
    "s2 = ['hello']\n",
    "print(s)\n",
    "print(len(s)) # len() 안에 문자열이 들어오면 문자의 개수를 알려주고\n",
    "# len() 안에 리스트가 들어오면 리스트에 들어있는 원소의 개수를 알려준다!\n",
    "print(s2)\n",
    "print(len(s2)) # 왜 하나일까?"
   ]
  },
  {
   "cell_type": "code",
   "execution_count": 132,
   "metadata": {},
   "outputs": [
    {
     "name": "stdout",
     "output_type": "stream",
     "text": [
      "1\n",
      "1 2 3\n",
      "3\n",
      "3 2 1\n"
     ]
    }
   ],
   "source": [
    "a = [1,2,3]\n",
    "print(a[0]) # a[i]:i 번째의 값을 가리킴. 이런 것을 인덱싱이라 함\n",
    "print(a[0],a[1],a[2])\n",
    "print(a[-1]) # -1은 마지막 것을 가리킨다\n",
    "print(a[-1], a[-2], a[-3])"
   ]
  },
  {
   "cell_type": "code",
   "execution_count": 134,
   "metadata": {},
   "outputs": [
    {
     "name": "stdout",
     "output_type": "stream",
     "text": [
      "0 2 4\n"
     ]
    }
   ],
   "source": [
    "r = range(0,10,2) # range도 인덱싱이 된다.\n",
    "print(r[0], r[1], r[2])"
   ]
  },
  {
   "cell_type": "code",
   "execution_count": 136,
   "metadata": {},
   "outputs": [
    {
     "name": "stdout",
     "output_type": "stream",
     "text": [
      "[3, 5, 10]\n"
     ]
    }
   ],
   "source": [
    "a = [1,2,3]\n",
    "a[0] = 3\n",
    "a[1] = 5\n",
    "a[2] = 10\n",
    "print(a)"
   ]
  },
  {
   "cell_type": "code",
   "execution_count": 139,
   "metadata": {},
   "outputs": [],
   "source": [
    "a = (1,2,3)\n",
    "# a[0] = 1 # tuple은 변경이 불가능, immutable"
   ]
  },
  {
   "cell_type": "code",
   "execution_count": 141,
   "metadata": {},
   "outputs": [
    {
     "name": "stdout",
     "output_type": "stream",
     "text": [
      "[1, 3]\n"
     ]
    }
   ],
   "source": [
    "a = [1,2,3]\n",
    "del a[1]\n",
    "print(a)"
   ]
  },
  {
   "cell_type": "markdown",
   "metadata": {},
   "source": [
    "## 굉장히 많이 쓰이는 슬라이스!"
   ]
  },
  {
   "cell_type": "code",
   "execution_count": 143,
   "metadata": {},
   "outputs": [
    {
     "name": "stdout",
     "output_type": "stream",
     "text": [
      "[1, 2, 3]\n"
     ]
    }
   ],
   "source": [
    "a = [1,2,3,4,5,6,7,8,9,10]\n",
    "b = a[0:3] # 0부터 3미만번째까지\n",
    "print(b)"
   ]
  },
  {
   "cell_type": "code",
   "execution_count": 149,
   "metadata": {},
   "outputs": [
    {
     "name": "stdout",
     "output_type": "stream",
     "text": [
      "[2, 3]\n",
      "[4, 5, 6, 7, 8, 9]\n",
      "[2, 4, 6]\n",
      "[1, 2, 3, 4, 5]\n",
      "[6, 7, 8, 9, 10]\n",
      "[1, 2, 3, 4, 5, 6, 7, 8, 9, 10]\n"
     ]
    }
   ],
   "source": [
    "a = [1,2,3,4,5,6,7,8,9,10]\n",
    "print(a[1:3])\n",
    "print(a[3:-1])\n",
    "print(a[1:7:2])\n",
    "print(a[:5]) # 첫번째 자리를 비우면 처음부터\n",
    "print(a[5:]) # 마지막 자리를 비우면 마지막까지\n",
    "print(a[:]) # 처음부터 끝까지\n"
   ]
  },
  {
   "cell_type": "code",
   "execution_count": 153,
   "metadata": {},
   "outputs": [
    {
     "name": "stdout",
     "output_type": "stream",
     "text": [
      "[1, 3, 5, 7]\n",
      "[8, 10]\n",
      "[1, 3, 5, 7, 9]\n",
      "[1, 2, 3, 4, 5, 6, 7, 8, 9, 10]\n"
     ]
    }
   ],
   "source": [
    "a = [1,2,3,4,5,6,7,8,9,10]\n",
    "print(a[:7:2])\n",
    "print(a[7::2])\n",
    "print(a[::2])\n",
    "print(a[::]) # a[:]와 동일"
   ]
  },
  {
   "cell_type": "code",
   "execution_count": 156,
   "metadata": {},
   "outputs": [
    {
     "name": "stdout",
     "output_type": "stream",
     "text": [
      "[1, 4, 5]\n"
     ]
    }
   ],
   "source": [
    "a = [1,2,3,4,5]\n",
    "del a[1:3]\n",
    "print(a)"
   ]
  },
  {
   "cell_type": "markdown",
   "metadata": {},
   "source": [
    "## 딕셔너리"
   ]
  },
  {
   "cell_type": "code",
   "execution_count": 163,
   "metadata": {},
   "outputs": [
    {
     "name": "stdout",
     "output_type": "stream",
     "text": [
      "{'a': 1, 'b': 2, 100: '5', 200: 'ㅎㅎ'}\n",
      "1 2 5 ㅎㅎ\n",
      "4\n",
      "dict_keys(['a', 'b', 100, 200])\n",
      "dict_values([1, 2, '5', 'ㅎㅎ'])\n",
      "dict_items([('a', 1), ('b', 2), (100, '5'), (200, 'ㅎㅎ')])\n"
     ]
    }
   ],
   "source": [
    "dic1 = {'a':1, 'b':2, 100:'5', 200:'ㅎㅎ'} # 중괄호로 선언, 콜론(:)이 들어간다\n",
    "# 키: 값의 형태, 숫자 문자 뭐든 키, 값이 될 수 있다.\n",
    "# 키에는 수정할 수 없는 튜플은 되고 리스트는 안됨\n",
    "# 값에는 튜플도 되고 리스트도 됨\n",
    "print(dic1)\n",
    "print(dic1['a'],dic1['b'], dic1[100], dic1[200])\n",
    "print(len(dic1)) # 키를 기준으로 갯수를 센다\n",
    "print(dic1.keys())\n",
    "print(dic1.values())\n",
    "print(dic1.items())"
   ]
  },
  {
   "cell_type": "code",
   "execution_count": 170,
   "metadata": {},
   "outputs": [
    {
     "name": "stdout",
     "output_type": "stream",
     "text": [
      "{'a': 1, 'b': 2}\n",
      "[('a', 1), ('b', 2)]\n"
     ]
    }
   ],
   "source": [
    "a = dict(zip(['a','b'],[1,2])) # zip의 구조는 왼쪽에 key, 오른쪽에 value를 쌍으로 선언하는 구조임\n",
    "print(a)\n",
    "print(list(zip(['a','b'],[1,2])))\n"
   ]
  },
  {
   "cell_type": "code",
   "execution_count": 179,
   "metadata": {},
   "outputs": [
    {
     "name": "stdout",
     "output_type": "stream",
     "text": [
      "{'a': 100, 'b': 200, 'c': 300, 'd': 400}\n",
      "{'a': 100, 'b': 200, 'c': 300, 'd': 400, 'e': '새로운 키'}\n",
      "True\n",
      "False\n",
      "False\n"
     ]
    }
   ],
   "source": [
    "dic1 = {'a':1, 'b':2, 'c':3, 'd':4}\n",
    "dic1['a'] = 100; dic1['b'] = 200; dic1['c'] = 300; dic1['d'] = 400\n",
    "print(dic1)\n",
    "dic1['e'] = '새로운 키' # 새로운 키와 value를 추가해줌\n",
    "print(dic1)\n",
    "print('a' in dic1) # 'a'라는 키가 있냐?\n",
    "print('A' in dic1)\n",
    "print(100 in dic1) # 100이라는 키가 있냐? value 말고"
   ]
  },
  {
   "cell_type": "markdown",
   "metadata": {},
   "source": [
    "## 조건문"
   ]
  },
  {
   "cell_type": "code",
   "execution_count": 185,
   "metadata": {},
   "outputs": [
    {
     "name": "stdout",
     "output_type": "stream",
     "text": [
      "True\n",
      "False\n",
      "True\n",
      "3보다 큽니다\n",
      "5와 같습니다.\n"
     ]
    }
   ],
   "source": [
    "a = 5\n",
    "print(a>3)\n",
    "print(a<3)\n",
    "print(a==5)\n",
    "\n",
    "if a>3:\n",
    "    print('3보다 큽니다')\n",
    "\n",
    "if a<3:\n",
    "    print('3보다 작습니다.')\n",
    "\n",
    "if a == 5:\n",
    "    print('5와 같습니다.')\n",
    "\n",
    "# if a=5:\n",
    "#     print('5입니다.')"
   ]
  },
  {
   "cell_type": "code",
   "execution_count": 189,
   "metadata": {},
   "outputs": [
    {
     "name": "stdout",
     "output_type": "stream",
     "text": [
      "5와\n",
      "같습니다.\n",
      "if문 밖으로 나옴. 여기서부터 계속 실행된다.\n"
     ]
    }
   ],
   "source": [
    "a = 5\n",
    "if a == 5:\n",
    "    print('5와')\n",
    "    print('같습니다.')\n",
    "print('if문 밖으로 나옴. 여기서부터 계속 실행된다.')\n",
    "# if a == 5:\n",
    "#     print('5와')\n",
    "#         print('같습니다.') # 오류!, 들여쓰기 맞춰야 함"
   ]
  },
  {
   "cell_type": "code",
   "execution_count": 191,
   "metadata": {},
   "outputs": [
    {
     "name": "stdout",
     "output_type": "stream",
     "text": [
      "10보다 큽니다.\n",
      "15입니다.\n",
      "1\n"
     ]
    }
   ],
   "source": [
    "x = 15\n",
    "if x>10:\n",
    "    print('10보다 큽니다.')\n",
    "    if x==15:\n",
    "        print('15입니다.')\n",
    "    if x==20:\n",
    "        print('20입니다.')\n",
    "    a = 1\n",
    "print(a)"
   ]
  },
  {
   "cell_type": "code",
   "execution_count": 192,
   "metadata": {},
   "outputs": [],
   "source": [
    "x = 15\n",
    "if x<10:\n",
    "    print('10보다 큽니다.')\n",
    "    if x==15:\n",
    "        print('15입니다.')\n",
    "    if x==20:\n",
    "        print('20입니다.')"
   ]
  },
  {
   "cell_type": "code",
   "execution_count": null,
   "metadata": {},
   "outputs": [],
   "source": []
  }
 ],
 "metadata": {
  "kernelspec": {
   "display_name": "NN_env",
   "language": "python",
   "name": "python3"
  },
  "language_info": {
   "codemirror_mode": {
    "name": "ipython",
    "version": 3
   },
   "file_extension": ".py",
   "mimetype": "text/x-python",
   "name": "python",
   "nbconvert_exporter": "python",
   "pygments_lexer": "ipython3",
   "version": "3.12.9"
  }
 },
 "nbformat": 4,
 "nbformat_minor": 2
}
