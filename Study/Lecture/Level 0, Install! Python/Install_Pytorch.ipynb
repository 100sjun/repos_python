{
 "cells": [
  {
   "cell_type": "code",
   "execution_count": 3,
   "metadata": {},
   "outputs": [],
   "source": [
    "import os\n",
    "os.environ['KMP_DUPLICATE_LIB_OK'] = 'TRUE'"
   ]
  },
  {
   "cell_type": "markdown",
   "metadata": {},
   "source": [
    "#### numpy와 닮은 파이토치 pytorch"
   ]
  },
  {
   "cell_type": "code",
   "execution_count": 4,
   "metadata": {},
   "outputs": [
    {
     "name": "stdout",
     "output_type": "stream",
     "text": [
      "tensor([1, 2, 3, 4])\n",
      "<class 'torch.Tensor'>\n",
      "torch.int64\n",
      "torch.Size([4])\n",
      "torch.float32\n",
      "tensor([1.0000, 2.0000, 3.1000, 4.0000])\n"
     ]
    }
   ],
   "source": [
    "import torch\n",
    "a=torch.tensor([1,2,3,4]) # list가 입력으로 들어가는 함수\n",
    "print(a)\n",
    "print(type(a))\n",
    "print(a.dtype) # data type\n",
    "print(a.shape)\n",
    "b=torch.tensor([1,2,3.1,4])\n",
    "print(b.dtype) # 하나라도 실수면 자동으로 실수 타입으로\n",
    "print(b)"
   ]
  },
  {
   "cell_type": "code",
   "execution_count": 5,
   "metadata": {},
   "outputs": [
    {
     "name": "stdout",
     "output_type": "stream",
     "text": [
      "tensor([[1, 2, 3],\n",
      "        [3, 4, 5]])\n",
      "torch.Size([2, 3])\n",
      "2\n",
      "6\n"
     ]
    }
   ],
   "source": [
    "A=torch.tensor([[1,2,3],[3,4,5]]) # 이 셀부터는 import torch는 실행했다고 작성\n",
    "# A=torch.tensor([[1,2],[4,5,6]]) # 리스트와는 달리 이제는 행렬이라서 각 행에 해당하는 숫자의 갯수가 같아야 함\n",
    "print(A)\n",
    "print(A.shape)\n",
    "print(A.ndim) # 차원 수\n",
    "print(A.numel()) # 총 원소의 수"
   ]
  },
  {
   "cell_type": "code",
   "execution_count": 6,
   "metadata": {},
   "outputs": [
    {
     "name": "stdout",
     "output_type": "stream",
     "text": [
      "tensor([0., 0., 0., 0., 0.])\n",
      "tensor([[0, 0, 0],\n",
      "        [0, 0, 0]])\n",
      "tensor([1., 1., 1., 1., 1.])\n",
      "tensor([[0., 0., 0.],\n",
      "        [0., 0., 0.],\n",
      "        [0., 0., 0.]])\n",
      "tensor([3, 5, 7, 9])\n",
      "tensor([0.0000, 0.1000, 0.2000, 0.3000, 0.4000, 0.5000, 0.6000, 0.7000, 0.8000,\n",
      "        0.9000])\n",
      "tensor([0.0000, 0.1111, 0.2222, 0.3333, 0.4444, 0.5556, 0.6667, 0.7778, 0.8889,\n",
      "        1.0000])\n"
     ]
    }
   ],
   "source": [
    "print(torch.zeros(5))\n",
    "print(torch.zeros_like(A)) # A행렬과 동일한 모양으로 0을 채움\n",
    "print(torch.ones(5))\n",
    "print(torch.zeros(3,3))\n",
    "print(torch.arange(3,10,2)) # range랑 같은데 tensor로 만들어줌\n",
    "print(torch.arange(0,1,0.1)) #소수점 가능\n",
    "print(torch.linspace(0,1,10)) # 0에서부터 1 포함 10개로\n"
   ]
  },
  {
   "cell_type": "code",
   "execution_count": 7,
   "metadata": {},
   "outputs": [
    {
     "name": "stdout",
     "output_type": "stream",
     "text": [
      "tensor([5, 7, 9])\n"
     ]
    }
   ],
   "source": [
    "a=torch.tensor([1,2,3])\n",
    "b=torch.tensor([4,5,6])\n",
    "c=a+b\n",
    "print(c)"
   ]
  },
  {
   "cell_type": "code",
   "execution_count": 8,
   "metadata": {},
   "outputs": [
    {
     "name": "stdout",
     "output_type": "stream",
     "text": [
      "tensor([[ 5,  7,  9],\n",
      "        [11, 13, 15]])\n",
      "tensor([[-3, -3, -3],\n",
      "        [-3, -3, -3]])\n",
      "tensor([[ 5,  7,  9],\n",
      "        [11, 13, 15]])\n",
      "tensor([[ 4, 10, 18],\n",
      "        [28, 40, 54]])\n",
      "tensor([[0.2500, 0.4000, 0.5000],\n",
      "        [0.5714, 0.6250, 0.6667]])\n",
      "tensor([[16, 25, 36],\n",
      "        [49, 64, 81]])\n"
     ]
    }
   ],
   "source": [
    "A=torch.tensor([[1,2,3],[4,5,6]])\n",
    "B=torch.tensor([[4,5,6],[7,8,9]])\n",
    "C=A+B\n",
    "D=A-B\n",
    "print(C)\n",
    "print(D)\n",
    "print(A+B)\n",
    "print(A*B) # 곱셈은 성분 곱, Hardmard product\n",
    "print(A/B) # 나누기도 마찬가지\n",
    "print(B**2) # 제곱도 성분 제곱"
   ]
  },
  {
   "cell_type": "code",
   "execution_count": 9,
   "metadata": {},
   "outputs": [
    {
     "name": "stdout",
     "output_type": "stream",
     "text": [
      "tensor([[ 1,  4],\n",
      "        [ 9, 16]])\n",
      "tensor([[ 7, 10],\n",
      "        [15, 22]])\n"
     ]
    }
   ],
   "source": [
    "A=torch.tensor([[1,2],[3,4]])\n",
    "B=torch.tensor([[1,2],[3,4]])\n",
    "print(A*B)\n",
    "print(A@B) # 이게 진짜 행렬 곱하기"
   ]
  },
  {
   "cell_type": "markdown",
   "metadata": {},
   "source": [
    "#### pytorch의 인덱싱과 슬라이딩"
   ]
  },
  {
   "cell_type": "code",
   "execution_count": 10,
   "metadata": {},
   "outputs": [
    {
     "name": "stdout",
     "output_type": "stream",
     "text": [
      "tensor(1)\n",
      "tensor(2)\n",
      "tensor(9)\n",
      "tensor([2, 3, 4])\n",
      "tensor([8, 9])\n",
      "tensor([1, 2, 3, 4, 5, 6, 7])\n",
      "tensor([1, 2, 3, 4, 5, 6, 7, 8, 9])\n"
     ]
    }
   ],
   "source": [
    "a=torch.tensor([1,2,3,4,5,6,7,8,9])\n",
    "# 인덱싱과 슬라이싱, list할 때와 동일!\n",
    "print(a[0])\n",
    "print(a[1])\n",
    "print(a[-1])\n",
    "print(a[1:4])\n",
    "print(a[7:])\n",
    "print(a[:7])\n",
    "print(a[:])"
   ]
  },
  {
   "cell_type": "code",
   "execution_count": 11,
   "metadata": {},
   "outputs": [
    {
     "name": "stdout",
     "output_type": "stream",
     "text": [
      "tensor([1, 2, 3])\n",
      "tensor([7, 8, 9])\n",
      "tensor([[4, 5, 6],\n",
      "        [7, 8, 9]])\n",
      "tensor([[1, 2, 3],\n",
      "        [4, 5, 6],\n",
      "        [7, 8, 9]])\n",
      "tensor(3)\n",
      "tensor(3)\n",
      "[[1, 2, 3, 4], [5, 6, 7, 8]]\n",
      "3\n",
      "tensor([4, 5, 6])\n",
      "tensor([4, 6])\n",
      "tensor([3, 6, 9])\n",
      "tensor([7, 8, 9])\n"
     ]
    }
   ],
   "source": [
    "# 행렬에 대한 인덱싱과 슬라이싱\n",
    "A=torch.tensor([[1,2,3],[4,5,6],[7,8,9]])\n",
    "print(A[0]) # 하나만 쓰면 행에 대한 인덱싱 (리스트 속 리스트 생각)\n",
    "print(A[-1])\n",
    "print(A[1:])\n",
    "print(A[:])\n",
    "print(A[0][2])\n",
    "print(A[0,2]) # 2차원 행렬도 동일한데, 리스트와 달리 이런 것도 됨\n",
    "B = [[1,2,3,4],[5,6,7,8]]\n",
    "print(B)\n",
    "print(B[0][2])\n",
    "# print(B[0,2]) # 리스트는 에러뜸\n",
    "print(A[1,:]) # 1행, 전부\n",
    "print(A[1,0:3:2]) # 1행, 0부터 3까지 2씩 증가\n",
    "print(A[:,2]) # 2열, 전부\n",
    "print(A[:][2]) # 2행, 전부"
   ]
  },
  {
   "cell_type": "code",
   "execution_count": 12,
   "metadata": {},
   "outputs": [
    {
     "name": "stdout",
     "output_type": "stream",
     "text": [
      "tensor([[[ 0,  1,  2,  3],\n",
      "         [ 4,  5,  6,  7],\n",
      "         [ 8,  9, 10, 11]],\n",
      "\n",
      "        [[12, 13, 14, 15],\n",
      "         [16, 17, 18, 19],\n",
      "         [20, 21, 22, 23]]])\n",
      "torch.Size([2, 3, 4])\n",
      "tensor(6)\n",
      "torch.Size([1, 4])\n"
     ]
    }
   ],
   "source": [
    "# 3차우너 행렬 인덱싱\n",
    "A=torch.tensor([ [[0,1,2,3],[4,5,6,7],[8,9,10,11]],\n",
    "                 [[12,13,14,15],[16,17,18,19],[20,21,22,23]] ])\n",
    "print(A)\n",
    "print(A.shape)\n",
    "print(A[0,1,2])\n",
    "\n",
    "a=torch.tensor([[1,2,3,4]]) # 대괄호가 하나 늘어나면 왼쪽에 shape이 추가됨\n",
    "print(a.shape)\n"
   ]
  },
  {
   "cell_type": "markdown",
   "metadata": {},
   "source": [
    "#### 리스트로 인덱싱"
   ]
  },
  {
   "cell_type": "code",
   "execution_count": 13,
   "metadata": {},
   "outputs": [
    {
     "name": "stdout",
     "output_type": "stream",
     "text": [
      "tensor([[[ 0,  1,  2,  3],\n",
      "         [ 4,  5,  6,  7],\n",
      "         [ 8,  9, 10, 11]],\n",
      "\n",
      "        [[12, 13, 14, 15],\n",
      "         [16, 17, 18, 19],\n",
      "         [20, 21, 22, 23]]])\n"
     ]
    },
    {
     "data": {
      "text/plain": [
       "tensor([ 3, 19, 22,  5])"
      ]
     },
     "execution_count": 13,
     "metadata": {},
     "output_type": "execute_result"
    }
   ],
   "source": [
    "print(A)\n",
    "A[[0,1,1,0],[0,1,2,1],[3,3,2,1]]"
   ]
  },
  {
   "cell_type": "code",
   "execution_count": 14,
   "metadata": {},
   "outputs": [
    {
     "name": "stdout",
     "output_type": "stream",
     "text": [
      "False\n",
      "tensor([[False, False, False,  True],\n",
      "        [ True, False,  True, False]])\n",
      "tensor([4, 5, 7])\n",
      "tensor([[  1,   2,   3, 100],\n",
      "        [100,   3, 100,   3]])\n",
      "tensor([[1, 2],\n",
      "        [7, 8]])\n",
      "tensor([1, 2])\n"
     ]
    }
   ],
   "source": [
    "# boolean 인덱싱\n",
    "a=[1,2,3,4,5,3,3]\n",
    "print(a==3) # 여러 개 값 들어있는 리스트랑 3 달랑 하나랑 같냐? 다르다!\n",
    "A=torch.tensor([[1,2,3,4],[5,3,7,3]])\n",
    "print(A>3) # 리스트와 달리 각 성분에 대한 비교해줌\n",
    "print(A[A>3]) # True, False가 담긴 행렬로 인덱싱 가능!!\n",
    "\n",
    "A[A>3] = 100\n",
    "print(A) # 그러면 이런 것도 가능하다! (3보다 큰 애들을 100으로 바꿔줘)\n",
    "\n",
    "A=torch.tensor([[1,2],[3,4],[5,6],[7,8]])\n",
    "B=torch.tensor([True,False,False,True]) # 참고로 그냥 리스트여도 됨\n",
    "print(A[B,:]) # 0행 3행 슬라이싱\n",
    "\n",
    "b=torch.tensor([1,2,3,4])\n",
    "print(b[ [True,True,False,False]])\n",
    "c = [1,2,3,4]\n",
    "# c[[True,True,False,False]] # 리스트는 이렇게 하면 안됨"
   ]
  },
  {
   "cell_type": "code",
   "execution_count": 17,
   "metadata": {},
   "outputs": [
    {
     "name": "stdout",
     "output_type": "stream",
     "text": [
      "tensor(3)\n",
      "tensor(3)\n",
      "tensor([3, 4, 5])\n",
      "tensor([[3, 3, 3],\n",
      "        [4, 4, 4]])\n",
      "tensor([1, 2, 3])\n",
      "torch.Size([2, 2, 3])\n",
      "tensor([[[1, 2, 3],\n",
      "         [4, 5, 6]],\n",
      "\n",
      "        [[4, 5, 6],\n",
      "         [4, 5, 6]]])\n"
     ]
    },
    {
     "data": {
      "text/plain": [
       "<matplotlib.image.AxesImage at 0x224a634f500>"
      ]
     },
     "execution_count": 17,
     "metadata": {},
     "output_type": "execute_result"
    },
    {
     "data": {
      "image/png": "[encoded data removed]",
      "text/plain": [
       "<Figure size 640x480 with 1 Axes>"
      ]
     },
     "metadata": {},
     "output_type": "display_data"
    }
   ],
   "source": [
    "# tensor로 인덱싱\n",
    "a=torch.tensor([1,2,3,4,5])\n",
    "A=a[2]\n",
    "print(A)\n",
    "A=a[torch.tensor(2)] # torch.tensor를 안에다가?\n",
    "print(A)\n",
    "A=a[torch.tensor([2,3,4])]\n",
    "print(A)\n",
    "A=a[torch.tensor([[2,2,2],[3,3,3]])]\n",
    "print(A)\n",
    "\n",
    "a=[1,2,3]\n",
    "# a[[1,1,1,1,2,2,2]] # error!\n",
    "\n",
    "a=torch.tensor([[1,2,3],[4,5,6]])\n",
    "print(a[torch.tensor(0)])\n",
    "A=a[torch.tensor([[0,1],[1,1]])]\n",
    "print(A.shape) # 예를 들어, a[0] = tensor([1,2,3])과 같이 1차원 데이터이므로 한 차원이 뒤에 늘어나서 2,2,\"3\"이 된다!\n",
    "print(A)\n",
    "\n",
    "# segmentation 결과 그림 보여줄 때 사용!\n",
    "b=torch.tensor([[225,225,0],[0,255,0],[0,0,255],[255,0,255],[70,80,75],[0,0,4],[60,100,255]])\n",
    "import matplotlib.pyplot as plt\n",
    "plt.imshow(b[torch.tensor([[0,1],[1,2]])])"
   ]
  },
  {
   "cell_type": "code",
   "execution_count": 64,
   "metadata": {},
   "outputs": [
    {
     "name": "stdout",
     "output_type": "stream",
     "text": [
      "tensor([[1, 2, 3],\n",
      "        [4, 5, 6]])\n",
      "tensor([[[1, 2, 3],\n",
      "         [4, 5, 6]],\n",
      "\n",
      "        [[4, 5, 6],\n",
      "         [4, 5, 6]]])\n",
      "tensor([[[1, 2, 3],\n",
      "         [4, 5, 6]],\n",
      "\n",
      "        [[1, 2, 3],\n",
      "         [4, 5, 6]]])\n"
     ]
    }
   ],
   "source": [
    "# 도전해 보세요!\n",
    "a=torch.tensor([[1,2,3],[4,5,6]])\n",
    "A = a[torch.tensor([[0,1],[1,1]])] \n",
    "# A와 같은 것을 리스트로 인덱싱을 통해 얻으려면?\n",
    "print(a)\n",
    "print(A)\n",
    "\n",
    "B = a[[[[0,0,0],[1,1,1]],[[0,0,0],[1,1,1]]],[[[0,1,2],[0,1,2]],[[0,1,2],[0,1,2]]]]\n",
    "print(B)"
   ]
  },
  {
   "cell_type": "markdown",
   "metadata": {},
   "source": [
    "#### 비교 정리리"
   ]
  },
  {
   "cell_type": "code",
   "execution_count": 73,
   "metadata": {},
   "outputs": [
    {
     "name": "stdout",
     "output_type": "stream",
     "text": [
      "tensor([[1, 2, 6],\n",
      "        [3, 4, 7],\n",
      "        [5, 6, 2],\n",
      "        [7, 8, 9]])\n",
      "torch.Size([4, 3])\n",
      "tensor(2)\n",
      "tensor([2, 6, 7, 3, 5])\n",
      "tensor([[1, 2],\n",
      "        [8, 3]])\n",
      "tensor([2, 6, 2, 8])\n",
      "tensor([2, 2])\n",
      "tensor([2, 6])\n",
      "tensor([[3, 4, 7],\n",
      "        [3, 4, 7],\n",
      "        [5, 6, 2],\n",
      "        [5, 6, 2],\n",
      "        [5, 6, 2]])\n"
     ]
    }
   ],
   "source": [
    "A=torch.tensor([[1,2,6],[3,4,7],[5,6,2],[7,8,9]])\n",
    "print(A)\n",
    "print(A.shape)\n",
    "\n",
    "# 1. A[몇 번째 행이냐, 몇 번째 열이냐]\n",
    "print(A[0,1])\n",
    "# 2-1. A[[몇 번째 행이냐, 몇 번째 행이냐], [몇 번째 열이냐, 몇번째 열이냐]]\n",
    "print(A[ [0,2,3,1,2], [1,1,0,0,0]])\n",
    "# 2-2. A[ [[몇 번째 행이냐], [몇 번째 행이냐], [몇 번째 행이냐]], [[몇 번째 열이냐], [몇 번째 열이냐], [몇 번째 열이냐]]]\n",
    "print(A[ [[0,2],[3,1]], [[0,2],[1,0]]])\n",
    "# 3. A[ tensor(bool)] => A와 같은 shape을 가지는 tensor형 bool이 어디에 True를 가지고 있냐\n",
    "print(A[torch.tensor([[False,True,True],[False,False,False],[False,False,True],[False,True,False]])])\n",
    "print(A[A==2])\n",
    "# 4. A[몇 번째 값에 True가 있냐, 몇 번째 값에 True가 있냐]\n",
    "print(A[[True,False,False,False],[False,True,True]])\n",
    "# 5. A[ tensor ] => 몇 번째 것을 어떻게 싸을거냐\n",
    "print(A[torch.tensor([1,1,2,2,2])])"
   ]
  }
 ],
 "metadata": {
  "kernelspec": {
   "display_name": "NN_env",
   "language": "python",
   "name": "python3"
  },
  "language_info": {
   "codemirror_mode": {
    "name": "ipython",
    "version": 3
   },
   "file_extension": ".py",
   "mimetype": "text/x-python",
   "name": "python",
   "nbconvert_exporter": "python",
   "pygments_lexer": "ipython3",
   "version": "3.12.9"
  }
 },
 "nbformat": 4,
 "nbformat_minor": 2
}
