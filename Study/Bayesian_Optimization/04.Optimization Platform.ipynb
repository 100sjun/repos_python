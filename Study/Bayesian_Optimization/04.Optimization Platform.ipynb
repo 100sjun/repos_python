{
 "cells": [
  {
   "cell_type": "code",
   "execution_count": 53,
   "metadata": {},
   "outputs": [],
   "source": [
    "# Import Modules\n",
    "import math\n",
    "import numpy as np\n",
    "from sklearn.gaussian_process import GaussianProcessRegressor\n",
    "import matplotlib.pyplot as plt\n",
    "from warnings import catch_warnings\n",
    "from warnings import simplefilter\n",
    "import scipy.stats as stats"
   ]
  },
  {
   "cell_type": "code",
   "execution_count": 54,
   "metadata": {},
   "outputs": [],
   "source": [
    "# objective function\n",
    "def objective(x):\n",
    "\treturn (x**2 * math.sin(5 * math.pi * x)**6.0)"
   ]
  },
  {
   "cell_type": "code",
   "execution_count": 55,
   "metadata": {},
   "outputs": [],
   "source": [
    "# surrogate or approximation for the objective function\n",
    "def surrogate(model, X):\n",
    "    # catch any warning generated when making a prediction\n",
    "    with catch_warnings():\n",
    "        # ignore generated warnings\n",
    "        simplefilter('ignore')\n",
    "        return model.predict(X, return_std=True)"
   ]
  },
  {
   "cell_type": "code",
   "execution_count": 56,
   "metadata": {},
   "outputs": [],
   "source": [
    "# Expected improvement acquisition function\n",
    "def acquisition(X, Xpred, model):\n",
    "    # calculate the best surrgate score found so far\n",
    "    yhat, _ = surrogate(model, X)\n",
    "    best = max(yhat)\n",
    "\n",
    "    # calculate mean and stdev via surrogate function\n",
    "    mu, std = surrogate(model, Xpred)\n",
    "    # calculate the expected improvement (EI)\n",
    "    # Clip std to avoid division by zero\n",
    "    std = np.clip(std, 1e-9, None) # Replace None with a suitable upper bound if needed\n",
    "    z = (mu - best) / std\n",
    "    ei = (mu - best) * stats.norm.cdf(z) + std * stats.norm.pdf(z)\n",
    "    return ei"
   ]
  },
  {
   "cell_type": "code",
   "execution_count": 57,
   "metadata": {},
   "outputs": [],
   "source": [
    "# optimize the acquisition function\n",
    "def opt_acquisition(X, y, model):\n",
    "    # random search, generate random samples\n",
    "    Xsamples = np.random.random(100)\n",
    "    Xsamples = Xsamples.reshape(len(Xsamples), 1)\n",
    "    \n",
    "    # calculate the acquisition function for each sample\n",
    "    scores = acquisition(X, Xsamples, model)\n",
    "    # locate the index of the largest scores\n",
    "    ix = np.argmax(scores)\n",
    "    return Xsamples[ix,0]"
   ]
  },
  {
   "cell_type": "code",
   "execution_count": 58,
   "metadata": {},
   "outputs": [],
   "source": [
    "# plot real observation vs surrogate function\n",
    "def plot(X, y, model):\n",
    "    # scatter plot of imputs\n",
    "    plt.scatter(X, y)\n",
    "    # line plot of surragte function acorss domain\n",
    "    Xpred = np.asarray(np.arange(0,1,0.001))\n",
    "    Xpred = Xpred.reshape(len(Xpred), 1)\n",
    "    ypred, _ = surrogate(model, Xpred)\n",
    "    plt.plot(Xpred, ypred)\n",
    "    # show the plot\n",
    "    plt.show()"
   ]
  },
  {
   "cell_type": "code",
   "execution_count": 215,
   "metadata": {},
   "outputs": [
    {
     "data": {
      "image/png": "[encoded data removed]",
      "text/plain": [
       "<Figure size 640x480 with 1 Axes>"
      ]
     },
     "metadata": {},
     "output_type": "display_data"
    }
   ],
   "source": [
    "# Sample Data\n",
    "X = np.asarray([0.5,0.008,0.988,0.449,0.752,0.596,0.928,0.914,0.906,0.901,0.692,0.895,0.049,0.297,0.888])\n",
    "y = np.asarray([objective(x) for x in X])\n",
    "\n",
    "# reshape into rows and col\n",
    "X = X.reshape(len(X),1)\n",
    "y = y.reshape(len(y),1)\n",
    "\n",
    "# define the model\n",
    "model = GaussianProcessRegressor()\n",
    "model.fit(X,y)\n",
    "y_predict= model.predict(X)\n",
    "\n",
    "plot(X, y, model)"
   ]
  },
  {
   "cell_type": "code",
   "execution_count": 216,
   "metadata": {},
   "outputs": [
    {
     "name": "stdout",
     "output_type": "stream",
     "text": [
      ">x=0.888, f()=0.729468, actual=0.713\n"
     ]
    }
   ],
   "source": [
    "# select the next point ot sample\n",
    "x = opt_acquisition(X, y, model)\n",
    "\n",
    "# calculate the actual result\n",
    "actual = objective(x)\n",
    "\n",
    "# summarize the finding\n",
    "est, _ = surrogate(model, [[x]])\n",
    "print('>x=%.3f, f()=%3f, actual=%.3f' % (x, est, actual))\n"
   ]
  },
  {
   "cell_type": "code",
   "execution_count": null,
   "metadata": {},
   "outputs": [
    {
     "data": {
      "text/plain": [
       "0.9972883538906274"
      ]
     },
     "execution_count": 51,
     "metadata": {},
     "output_type": "execute_result"
    }
   ],
   "source": [
    "x"
   ]
  }
 ],
 "metadata": {
  "kernelspec": {
   "display_name": "Python 3",
   "language": "python",
   "name": "python3"
  },
  "language_info": {
   "codemirror_mode": {
    "name": "ipython",
    "version": 3
   },
   "file_extension": ".py",
   "mimetype": "text/x-python",
   "name": "python",
   "nbconvert_exporter": "python",
   "pygments_lexer": "ipython3",
   "version": "3.10.12"
  }
 },
 "nbformat": 4,
 "nbformat_minor": 2
}
