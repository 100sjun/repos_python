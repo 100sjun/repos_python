{
 "cells": [
  {
   "cell_type": "code",
   "execution_count": 1,
   "metadata": {},
   "outputs": [
    {
     "name": "stdout",
     "output_type": "stream",
     "text": [
      "Best solution: [ 1.92202975e-09 -8.71171704e-10 -3.81986512e-09  2.11297870e-09\n",
      " -1.37963930e-09 -9.02761772e-10  1.01839967e-09  1.81173852e-09\n",
      "  1.20758286e-09  2.01243088e-09]\n",
      "Best fitness: 3.605523920438405e-17\n"
     ]
    }
   ],
   "source": [
    "import numpy as np\n",
    "\n",
    "class DifferentialEvolution:\n",
    "    def __init__(self, objective_func, bounds, population_size=50, F=0.8, CR=0.7):\n",
    "        self.objective_func = objective_func\n",
    "        self.bounds = np.array(bounds)\n",
    "        self.population_size = population_size\n",
    "        self.F = F  # 차분 가중치\n",
    "        self.CR = CR  # 교차 확률\n",
    "        self.dimension = len(bounds)\n",
    "\n",
    "    def initialize_population(self):\n",
    "        return np.random.uniform(self.bounds[:, 0], self.bounds[:, 1], \n",
    "                                 size=(self.population_size, self.dimension))\n",
    "\n",
    "    def mutate(self, population):\n",
    "        mutations = np.zeros_like(population)\n",
    "        for i in range(self.population_size):\n",
    "            idx = np.random.choice(self.population_size, 3, replace=False)\n",
    "            a, b, c = population[idx]\n",
    "            mutations[i] = a + self.F * (b - c)\n",
    "        return mutations\n",
    "\n",
    "    def crossover(self, population, mutations):\n",
    "        crosses = np.zeros_like(population)\n",
    "        for i in range(self.population_size):\n",
    "            cross_points = np.random.rand(self.dimension) < self.CR\n",
    "            crosses[i] = np.where(cross_points, mutations[i], population[i])\n",
    "        return crosses\n",
    "\n",
    "    def selection(self, population, crosses):\n",
    "        for i in range(self.population_size):\n",
    "            if self.objective_func(crosses[i]) < self.objective_func(population[i]):\n",
    "                population[i] = crosses[i]\n",
    "        return population\n",
    "\n",
    "    def optimize(self, max_iter=1000):\n",
    "        population = self.initialize_population()\n",
    "        for _ in range(max_iter):\n",
    "            mutations = self.mutate(population)\n",
    "            crosses = self.crossover(population, mutations)\n",
    "            population = self.selection(population, crosses)\n",
    "        \n",
    "        best_idx = np.argmin([self.objective_func(ind) for ind in population])\n",
    "        return population[best_idx], self.objective_func(population[best_idx])\n",
    "\n",
    "# 사용 예시\n",
    "def objective_function(x):\n",
    "    return np.sum(x**2)  # 간단한 예시 함수\n",
    "\n",
    "bounds = [(-5, 5)] * 10  # 10차원 문제\n",
    "de = DifferentialEvolution(objective_function, bounds)\n",
    "best_solution, best_fitness = de.optimize()\n",
    "print(f\"Best solution: {best_solution}\")\n",
    "print(f\"Best fitness: {best_fitness}\")"
   ]
  }
 ],
 "metadata": {
  "kernelspec": {
   "display_name": "Python 3",
   "language": "python",
   "name": "python3"
  },
  "language_info": {
   "codemirror_mode": {
    "name": "ipython",
    "version": 3
   },
   "file_extension": ".py",
   "mimetype": "text/x-python",
   "name": "python",
   "nbconvert_exporter": "python",
   "pygments_lexer": "ipython3",
   "version": "3.11.7"
  }
 },
 "nbformat": 4,
 "nbformat_minor": 2
}
