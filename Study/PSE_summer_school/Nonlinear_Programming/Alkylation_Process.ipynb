{
 "cells": [
  {
   "cell_type": "code",
   "execution_count": 28,
   "id": "6232b3d8",
   "metadata": {},
   "outputs": [],
   "source": [
    "import pyomo.environ as pyo"
   ]
  },
  {
   "cell_type": "code",
   "execution_count": 29,
   "id": "b3e17e75",
   "metadata": {},
   "outputs": [
    {
     "name": "stdout",
     "output_type": "stream",
     "text": [
      "WARNING: Loading a SolverResults object with a warning status into\n",
      "model.name=\"unknown\";\n",
      "    - termination condition: infeasible\n",
      "    - message from solver: Ipopt 3.14.19\\x3a Converged to a locally infeasible\n",
      "      point. Problem may be infeasible.\n"
     ]
    }
   ],
   "source": [
    "model = pyo.ConcreteModel()\n",
    "\n",
    "# 최적화 변수들을 x1~x10으로 명확히 정의하고 목적함수 및 제약식에서 해당 변수들을 사용하도록 수정\n",
    "model.x1 = pyo.Var(domain=pyo.NonNegativeReals)\n",
    "model.x2 = pyo.Var(domain=pyo.NonNegativeReals)\n",
    "model.x3 = pyo.Var(domain=pyo.NonNegativeReals)\n",
    "model.x4 = pyo.Var(domain=pyo.NonNegativeReals)\n",
    "model.x5 = pyo.Var(domain=pyo.NonNegativeReals)\n",
    "model.x6 = pyo.Var(domain=pyo.NonNegativeReals, bounds=(0,100))\n",
    "model.x7 = pyo.Var(domain=pyo.NonNegativeReals, bounds=(1,10))\n",
    "model.x8 = pyo.Var(domain=pyo.NonNegativeReals, bounds=(0,10))\n",
    "model.x9 = pyo.Var(domain=pyo.NonNegativeReals, bounds=(0,1))\n",
    "model.x10 = pyo.Var(domain=pyo.NonNegativeReals)\n",
    "\n",
    "model.obj = pyo.Objective(expr=0.063*model.x4*model.x7 - 5.04*model.x1 -0.035*model.x2 -10*model.x3 -3.36*model.x5, sense=pyo.maximize)\n",
    "\n",
    "model.con1 = pyo.Constraint(expr=model.x4 == model.x1*(1.12 + 0.132*model.x8 - 0.0067*model.x8**2))\n",
    "model.con2 = pyo.Constraint(expr=model.x7 == 86.35 + 1.098*model.x8 -0.038*model.x8**2 + 0.325*(model.x6-89))\n",
    "model.con3 = pyo.Constraint(expr=model.x9 == 35.8 - 0.222*model.x10)\n",
    "model.con4 = pyo.Constraint(expr=model.x10 == 3*model.x7 -133)\n",
    "model.con5 = pyo.Constraint(expr=model.x1*model.x8 == model.x2+model.x5)\n",
    "model.con6 = pyo.Constraint(expr=model.x5 == 1.22*model.x4 -model.x1)\n",
    "model.con7 = pyo.Constraint(expr=model.x6*(model.x4*model.x9+1000*model.x3)==98000*model.x3)\n",
    "\n",
    "solver = pyo.SolverFactory('ipopt')\n",
    "# max_iter 옵션을 10000으로 늘림\n",
    "result = solver.solve(model, tee=False, options={'max_iter': 10000})"
   ]
  },
  {
   "cell_type": "code",
   "execution_count": 30,
   "id": "3d9df12a",
   "metadata": {},
   "outputs": [
    {
     "name": "stdout",
     "output_type": "stream",
     "text": [
      "최적화 상태: warning\n",
      "최적화 결과: infeasible\n",
      "목적함수 값: -1.0690085245566252e-07\n"
     ]
    },
    {
     "ename": "AttributeError",
     "evalue": "'ConcreteModel' object has no attribute 'x'",
     "output_type": "error",
     "traceback": [
      "\u001b[31m---------------------------------------------------------------------------\u001b[39m",
      "\u001b[31mAttributeError\u001b[39m                            Traceback (most recent call last)",
      "\u001b[36mCell\u001b[39m\u001b[36m \u001b[39m\u001b[32mIn[30]\u001b[39m\u001b[32m, line 6\u001b[39m\n\u001b[32m      4\u001b[39m \u001b[38;5;28mprint\u001b[39m(\u001b[33m\"\u001b[39m\u001b[33m목적함수 값:\u001b[39m\u001b[33m\"\u001b[39m, pyo.value(model.obj))\n\u001b[32m      5\u001b[39m \u001b[38;5;28;01mfor\u001b[39;00m i \u001b[38;5;129;01min\u001b[39;00m \u001b[38;5;28mrange\u001b[39m(\u001b[32m1\u001b[39m, \u001b[32m11\u001b[39m):\n\u001b[32m----> \u001b[39m\u001b[32m6\u001b[39m     \u001b[38;5;28mprint\u001b[39m(\u001b[33mf\u001b[39m\u001b[33m\"\u001b[39m\u001b[33mx[\u001b[39m\u001b[38;5;132;01m{\u001b[39;00mi\u001b[38;5;132;01m}\u001b[39;00m\u001b[33m] =\u001b[39m\u001b[33m\"\u001b[39m, pyo.value(\u001b[43mmodel\u001b[49m\u001b[43m.\u001b[49m\u001b[43mx\u001b[49m[i]))\n",
      "\u001b[36mFile \u001b[39m\u001b[32m~/miniforge3/envs/fdmenv/lib/python3.11/site-packages/pyomo/core/base/block.py:552\u001b[39m, in \u001b[36mBlockData.__getattr__\u001b[39m\u001b[34m(self, val)\u001b[39m\n\u001b[32m    549\u001b[39m     \u001b[38;5;28;01mreturn\u001b[39;00m _component_decorator(\u001b[38;5;28mself\u001b[39m, ModelComponentFactory.get_class(val))\n\u001b[32m    550\u001b[39m \u001b[38;5;66;03m# Since the base classes don't support getattr, we can just\u001b[39;00m\n\u001b[32m    551\u001b[39m \u001b[38;5;66;03m# throw the \"normal\" AttributeError\u001b[39;00m\n\u001b[32m--> \u001b[39m\u001b[32m552\u001b[39m \u001b[38;5;28;01mraise\u001b[39;00m \u001b[38;5;167;01mAttributeError\u001b[39;00m(\n\u001b[32m    553\u001b[39m     \u001b[33m\"\u001b[39m\u001b[33m'\u001b[39m\u001b[38;5;132;01m%s\u001b[39;00m\u001b[33m'\u001b[39m\u001b[33m object has no attribute \u001b[39m\u001b[33m'\u001b[39m\u001b[38;5;132;01m%s\u001b[39;00m\u001b[33m'\u001b[39m\u001b[33m\"\u001b[39m % (\u001b[38;5;28mself\u001b[39m.\u001b[34m__class__\u001b[39m.\u001b[34m__name__\u001b[39m, val)\n\u001b[32m    554\u001b[39m )\n",
      "\u001b[31mAttributeError\u001b[39m: 'ConcreteModel' object has no attribute 'x'"
     ]
    }
   ],
   "source": [
    "# 최적화 결과 출력\n",
    "print(\"최적화 상태:\", result.solver.status)\n",
    "print(\"최적화 결과:\", result.solver.termination_condition)\n",
    "print(\"목적함수 값:\", pyo.value(model.obj))\n",
    "for i in range(1, 11):\n",
    "    print(f\"x[{i}] =\", pyo.value(model.x[i]))\n"
   ]
  },
  {
   "cell_type": "code",
   "execution_count": null,
   "id": "6e63363b",
   "metadata": {},
   "outputs": [],
   "source": []
  }
 ],
 "metadata": {
  "kernelspec": {
   "display_name": "fdmenv",
   "language": "python",
   "name": "python3"
  },
  "language_info": {
   "codemirror_mode": {
    "name": "ipython",
    "version": 3
   },
   "file_extension": ".py",
   "mimetype": "text/x-python",
   "name": "python",
   "nbconvert_exporter": "python",
   "pygments_lexer": "ipython3",
   "version": "3.11.0"
  }
 },
 "nbformat": 4,
 "nbformat_minor": 5
}
