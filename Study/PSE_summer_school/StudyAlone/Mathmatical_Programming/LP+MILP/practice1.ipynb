{
 "cells": [
  {
   "cell_type": "code",
   "execution_count": 6,
   "id": "5ba4dfbf",
   "metadata": {},
   "outputs": [],
   "source": [
    "import pyomo.environ as pyo"
   ]
  },
  {
   "cell_type": "code",
   "execution_count": 7,
   "id": "1d931c71",
   "metadata": {},
   "outputs": [
    {
     "name": "stdout",
     "output_type": "stream",
     "text": [
      "brownie: -9.908874210129835e-09\n",
      "icecream: 2.999999985364352\n",
      "cola: 0.9999999973056684\n",
      "cheesecake: -9.949883563498269e-09\n",
      "\n",
      "목적함수 값: 89.99999833502271\n",
      "\n",
      "각 제약 조건의 실제 값:\n",
      "총 칼로리: 749.9999877302291 (>= 500)\n",
      "총 초콜릿: 5.9999999410020814 (>= 6)\n",
      "총 설탕: 9.999999900334096 (>= 10)\n",
      "총 지방: 12.99999986919591 (>= 8)\n"
     ]
    }
   ],
   "source": [
    "model = pyo.ConcreteModel()\n",
    "\n",
    "# 변수 정의\n",
    "model.food = pyo.Set(initialize=['brownie','icecream','cola','cheesecake'])\n",
    "model.calories = pyo.Param(model.food, initialize={'brownie':400,'icecream':200,'cola':150,'cheesecake':500})\n",
    "model.choco = pyo.Param(model.food, initialize={'brownie':3,'icecream':2,'cola':0,'cheesecake':0})\n",
    "model.sugar = pyo.Param(model.food, initialize={'brownie':2,'icecream':2,'cola':4,'cheesecake':4})\n",
    "model.fat = pyo.Param(model.food, initialize={'brownie':2,'icecream':4,'cola':1,'cheesecake':5})\n",
    "model.cost = pyo.Param(model.food, initialize={'brownie':50,'icecream':20,'cola':30,'cheesecake':80})\n",
    "\n",
    "# 변수 정의\n",
    "model.x = pyo.Var(model.food, within=pyo.NonNegativeReals)\n",
    "\n",
    "# 목적 함수\n",
    "model.obj = pyo.Objective(expr=sum(model.cost[i]*model.x[i] for i in model.food))\n",
    "\n",
    "# 제약 조건\n",
    "model.con_calories = pyo.Constraint(expr=sum(model.calories[i]*model.x[i] for i in model.food) >= 500)\n",
    "model.con_choco = pyo.Constraint(expr=sum(model.choco[i]*model.x[i] for i in model.food) >= 6)\n",
    "model.con_sugar = pyo.Constraint(expr=sum(model.sugar[i]*model.x[i] for i in model.food) >= 10)\n",
    "model.con_fat = pyo.Constraint(expr=sum(model.fat[i]*model.x[i] for i in model.food) >= 8)\n",
    "\n",
    "# 모델 해결\n",
    "model.solver = pyo.SolverFactory('ipopt')\n",
    "\n",
    "# 결과 출력\n",
    "# pyomo 계산 결과를 출력하는 코드\n",
    "result = model.solver.solve(model)\n",
    "for f in model.food:\n",
    "    print(f\"{f}: {pyo.value(model.x[f])}\")\n",
    "\n",
    "print(f\"\\n목적함수 값: {pyo.value(model.obj)}\")\n",
    "\n",
    "# 각 제약 조건이 어떻게 만족되었는지 출력\n",
    "print(\"\\n각 제약 조건의 실제 값:\")\n",
    "print(f\"총 칼로리: {sum(pyo.value(model.calories[i]) * pyo.value(model.x[i]) for i in model.food)} (>= 500)\")\n",
    "print(f\"총 초콜릿: {sum(pyo.value(model.choco[i]) * pyo.value(model.x[i]) for i in model.food)} (>= 6)\")\n",
    "print(f\"총 설탕: {sum(pyo.value(model.sugar[i]) * pyo.value(model.x[i]) for i in model.food)} (>= 10)\")\n",
    "print(f\"총 지방: {sum(pyo.value(model.fat[i]) * pyo.value(model.x[i]) for i in model.food)} (>= 8)\")\n"
   ]
  }
 ],
 "metadata": {
  "kernelspec": {
   "display_name": "fdmenv",
   "language": "python",
   "name": "python3"
  },
  "language_info": {
   "codemirror_mode": {
    "name": "ipython",
    "version": 3
   },
   "file_extension": ".py",
   "mimetype": "text/x-python",
   "name": "python",
   "nbconvert_exporter": "python",
   "pygments_lexer": "ipython3",
   "version": "3.11.0"
  }
 },
 "nbformat": 4,
 "nbformat_minor": 5
}
