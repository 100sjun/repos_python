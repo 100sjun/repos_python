{
 "cells": [
  {
   "cell_type": "code",
   "execution_count": 15,
   "id": "91a83f09",
   "metadata": {},
   "outputs": [],
   "source": [
    "import pyomo.environ as pyo"
   ]
  },
  {
   "cell_type": "code",
   "execution_count": 16,
   "id": "06c69423",
   "metadata": {},
   "outputs": [
    {
     "name": "stdout",
     "output_type": "stream",
     "text": [
      "PE: 20.000000200000173\n",
      "PP: 60.00000059749381\n",
      "\n",
      "목적함수 값: 180.00000179498812\n",
      "\n",
      "각 제약 조건의 실제 값:\n",
      "총 원료 사용량: 80.00000079749398 (<= 80)\n",
      "총 에너지 사용량: 100.00000099749415 (<= 100)\n",
      "PE 생산량: 20.000000200000173 (>= 40)\n"
     ]
    }
   ],
   "source": [
    "model = pyo.ConcreteModel()\n",
    "\n",
    "# 변수정의\n",
    "model.prod = pyo.Set(initialize=['PE','PP'])\n",
    "model.prec = pyo.Set(initialize=['ethylene','propylene'])\n",
    "model.profit = pyo.Param(model.prod, initialize={'PE':3,'PP':2})\n",
    "model.raw = pyo.Param(model.prod, model.prec, initialize={('PE','ethylene'):1,('PE','propylene'):0,('PP','ethylene'):0,('PP','propylene'):1})\n",
    "model.energy = pyo.Param(model.prod, initialize={'PE':2,'PP':1})\n",
    "\n",
    "model.x = pyo.Var(model.prod, within=pyo.NonNegativeReals)\n",
    "\n",
    "# 목적함수\n",
    "model.obj = pyo.Objective(expr=sum(model.profit[i]*model.x[i] for i in model.prod), sense=pyo.maximize)\n",
    "\n",
    "# 제약조건\n",
    "model.con_raw = pyo.Constraint(expr=sum(model.raw[i, j]*model.x[i] for i in model.prod for j in model.prec) <= 80)\n",
    "model.con_energy = pyo.Constraint(expr=sum(model.energy[i]*model.x[i] for i in model.prod) <= 100)\n",
    "model.con_PE = pyo.Constraint(expr=model.x['PE'] <= 40)\n",
    "\n",
    "model.solver = pyo.SolverFactory('ipopt')\n",
    "\n",
    "# 결과 출력\n",
    "# pyomo 계산 결과를 출력하는 코드\n",
    "result = model.solver.solve(model)\n",
    "for f in model.prod:\n",
    "    print(f\"{f}: {pyo.value(model.x[f])}\")\n",
    "\n",
    "print(f\"\\n목적함수 값: {pyo.value(model.obj)}\")\n",
    "\n",
    "# 각 제약 조건이 어떻게 만족되었는지 출력\n",
    "print(\"\\n각 제약 조건의 실제 값:\")\n",
    "print(f\"총 원료 사용량: {sum(pyo.value(model.raw[i, j]) * pyo.value(model.x[i]) for i in model.prod for j in model.prec)} (<= 80)\")\n",
    "print(f\"총 에너지 사용량: {sum(pyo.value(model.energy[i]) * pyo.value(model.x[i]) for i in model.prod)} (<= 100)\")\n",
    "print(f\"PE 생산량: {pyo.value(model.x['PE'])} (>= 40)\")\n"
   ]
  }
 ],
 "metadata": {
  "kernelspec": {
   "display_name": "fdmenv",
   "language": "python",
   "name": "python3"
  },
  "language_info": {
   "codemirror_mode": {
    "name": "ipython",
    "version": 3
   },
   "file_extension": ".py",
   "mimetype": "text/x-python",
   "name": "python",
   "nbconvert_exporter": "python",
   "pygments_lexer": "ipython3",
   "version": "3.11.0"
  }
 },
 "nbformat": 4,
 "nbformat_minor": 5
}
