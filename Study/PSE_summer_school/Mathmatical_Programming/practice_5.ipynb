{
 "cells": [
  {
   "cell_type": "code",
   "execution_count": 29,
   "id": "c541d29d",
   "metadata": {},
   "outputs": [],
   "source": [
    "import pyomo.environ as pyo\n",
    "import pandas as pd"
   ]
  },
  {
   "cell_type": "code",
   "execution_count": 30,
   "id": "e72002ee",
   "metadata": {},
   "outputs": [],
   "source": [
    "# Variable Sets\n",
    "time = list(range(0, 170, 2))\n",
    "prod = [0 for _ in range(len(time))]"
   ]
  },
  {
   "cell_type": "code",
   "execution_count": 35,
   "id": "7b546eb1",
   "metadata": {},
   "outputs": [],
   "source": [
    "# model 정의\n",
    "model = pyo.ConcreteModel()\n",
    "\n",
    "# 변수 집합\n",
    "model.Time = pyo.Set(initialize=time)\n",
    "model.Prod = pyo.Set(initialize=prod)\n",
    "\n",
    "# problem_5_product_cycle_dataset.xlsx의 general_data 탭에서 B1:E2 범위의 데이터를 읽어와서 상수로 선언\n",
    "general_data = pd.read_excel('problem_5_product_cycle_dataset.xlsx', sheet_name='general_data', usecols='B:E', nrows=2, header=None)\n",
    "const_names = general_data.iloc[0].tolist()\n",
    "const_values = general_data.iloc[1].tolist()\n",
    "\n",
    "# 상수 선언\n",
    "for name, value in zip(const_names, const_values):\n",
    "    setattr(model, name, pyo.Param(initialize=value, mutable=True))\n",
    "\n",
    "# tau_P\n",
    "tau_P_df = pd.read_excel('problem_5_product_cycle_dataset.xlsx', sheet_name='general_data', usecols='B:E', nrows=2, header=None)\n",
    "tau_P_index = tau_P_df.iloc[0].tolist()\n",
    "tau_P_values = tau_P_df.iloc[1].tolist()\n",
    "# tau_P를 parameter 명(예: tau_P_index의 값)과 값이 매핑된 dictionary 형태로 저장\n",
    "tau_P_dict = {tau_P_index[i]: tau_P_values[i] for i in range(len(tau_P_values))}\n",
    "model.tau_P = pyo.Param(tau_P_index, initialize=tau_P_dict, mutable=True)"
   ]
  },
  {
   "cell_type": "code",
   "execution_count": 44,
   "id": "69038443",
   "metadata": {},
   "outputs": [
    {
     "name": "stdout",
     "output_type": "stream",
     "text": [
      "p1: 6\n",
      "p2: 4\n",
      "p3: 6\n",
      "p4: 8\n"
     ]
    }
   ],
   "source": [
    "# model.tau_P에 저장된 데이터를 출력하는 코드입니다.\n",
    "for idx in model.tau_P:\n",
    "    print(f\"{idx}: {pyo.value(model.tau_P[idx])}\")\n"
   ]
  },
  {
   "cell_type": "code",
   "execution_count": null,
   "id": "aeb595d3",
   "metadata": {},
   "outputs": [
    {
     "data": {
      "text/plain": [
       "6"
      ]
     },
     "execution_count": 46,
     "metadata": {},
     "output_type": "execute_result"
    }
   ],
   "source": []
  },
  {
   "cell_type": "code",
   "execution_count": 34,
   "id": "4b423f04",
   "metadata": {},
   "outputs": [
    {
     "name": "stdout",
     "output_type": "stream",
     "text": [
      "WARNING: Implicitly replacing the Component attribute tau_P (type=<class\n",
      "'pyomo.core.base.param.IndexedParam'>) on block unknown with a new Component\n",
      "(type=<class 'pyomo.core.base.param.IndexedParam'>). This is usually\n",
      "indicative of a modelling error. To avoid this warning, use\n",
      "block.del_component() and block.add_component().\n",
      "WARNING: Implicitly replacing the Component attribute beta_P (type=<class\n",
      "'pyomo.core.base.param.IndexedParam'>) on block unknown with a new Component\n",
      "(type=<class 'pyomo.core.base.param.IndexedParam'>). This is usually\n",
      "indicative of a modelling error. To avoid this warning, use\n",
      "block.del_component() and block.add_component().\n",
      "WARNING: Implicitly replacing the Component attribute theta_min (type=<class\n",
      "'pyomo.core.base.param.IndexedParam'>) on block unknown with a new Component\n",
      "(type=<class 'pyomo.core.base.param.IndexedParam'>). This is usually\n",
      "indicative of a modelling error. To avoid this warning, use\n",
      "block.del_component() and block.add_component().\n",
      "WARNING: Implicitly replacing the Component attribute pi_P (type=<class\n",
      "'pyomo.core.base.param.IndexedParam'>) on block unknown with a new Component\n",
      "(type=<class 'pyomo.core.base.param.IndexedParam'>). This is usually\n",
      "indicative of a modelling error. To avoid this warning, use\n",
      "block.del_component() and block.add_component().\n",
      "WARNING: Implicitly replacing the Component attribute pi_OG (type=<class\n",
      "'pyomo.core.base.param.IndexedParam'>) on block unknown with a new Component\n",
      "(type=<class 'pyomo.core.base.param.IndexedParam'>). This is usually\n",
      "indicative of a modelling error. To avoid this warning, use\n",
      "block.del_component() and block.add_component().\n",
      "WARNING: Implicitly replacing the Component attribute xi (type=<class\n",
      "'pyomo.core.base.param.IndexedParam'>) on block unknown with a new Component\n",
      "(type=<class 'pyomo.core.base.param.IndexedParam'>). This is usually\n",
      "indicative of a modelling error. To avoid this warning, use\n",
      "block.del_component() and block.add_component().\n",
      "WARNING: Implicitly replacing the Component attribute tau_OG (type=<class\n",
      "'pyomo.core.base.param.IndexedParam'>) on block unknown with a new Component\n",
      "(type=<class 'pyomo.core.base.param.IndexedParam'>). This is usually\n",
      "indicative of a modelling error. To avoid this warning, use\n",
      "block.del_component() and block.add_component().\n"
     ]
    }
   ],
   "source": [
    "# GAMS에서 정의된 파라미터들을 파이썬(Pandas + Pyomo)으로 변환하는 코드입니다.\n",
    "\n",
    "# tau_P\n",
    "tau_P_df = pd.read_excel('problem_5_product_cycle_dataset.xlsx', sheet_name='general_data', usecols='B:E', nrows=2, header=None)\n",
    "tau_P_index = tau_P_df.iloc[0].tolist()\n",
    "tau_P_values = tau_P_df.iloc[1].tolist()\n",
    "# tau_P를 parameter 명(예: tau_P_index의 값)과 값이 매핑된 dictionary 형태로 저장\n",
    "tau_P_dict = {tau_P_index[i]: tau_P_values[i] for i in range(len(tau_P_values))}\n",
    "model.tau_P = pyo.Param(tau_P_index, initialize=tau_P_dict, mutable=True)\n",
    "\n",
    "# beta_P\n",
    "beta_P_df = pd.read_excel('problem_5_product_cycle_dataset.xlsx', sheet_name='general_data', usecols='B:E', skiprows=3, nrows=2, header=None)\n",
    "beta_P_index = beta_P_df.iloc[0].tolist()\n",
    "beta_P_values = beta_P_df.iloc[1].tolist()\n",
    "model.beta_P = pyo.Param(range(len(beta_P_values)), initialize={i: beta_P_values[i] for i in range(len(beta_P_values))}, mutable=True)\n",
    "\n",
    "# theta_min\n",
    "theta_min_df = pd.read_excel('problem_5_product_cycle_dataset.xlsx', sheet_name='general_data', usecols='B:E', skiprows=6, nrows=2, header=None)\n",
    "theta_min_index = theta_min_df.iloc[0].tolist()\n",
    "theta_min_values = theta_min_df.iloc[1].tolist()\n",
    "model.theta_min = pyo.Param(range(len(theta_min_values)), initialize={i: theta_min_values[i] for i in range(len(theta_min_values))}, mutable=True)\n",
    "\n",
    "# pi_P\n",
    "pi_P_df = pd.read_excel('problem_5_product_cycle_dataset.xlsx', sheet_name='general_data', usecols='B:E', skiprows=9, nrows=2, header=None)\n",
    "pi_P_index = pi_P_df.iloc[0].tolist()\n",
    "pi_P_values = pi_P_df.iloc[1].tolist()\n",
    "model.pi_P = pyo.Param(range(len(pi_P_values)), initialize={i: pi_P_values[i] for i in range(len(pi_P_values))}, mutable=True)\n",
    "\n",
    "# pi_OG\n",
    "pi_OG_df = pd.read_excel('problem_5_product_cycle_dataset.xlsx', sheet_name='general_data', usecols='B:E', skiprows=12, nrows=2, header=None)\n",
    "pi_OG_index = pi_OG_df.iloc[0].tolist()\n",
    "pi_OG_values = pi_OG_df.iloc[1].tolist()\n",
    "model.pi_OG = pyo.Param(range(len(pi_OG_values)), initialize={i: pi_OG_values[i] for i in range(len(pi_OG_values))}, mutable=True)\n",
    "\n",
    "# xi\n",
    "xi_df = pd.read_excel('problem_5_product_cycle_dataset.xlsx', sheet_name='general_data', usecols='B:E', skiprows=15, nrows=2, header=None)\n",
    "xi_index = xi_df.iloc[0].tolist()\n",
    "xi_values = xi_df.iloc[1].tolist()\n",
    "model.xi = pyo.Param(range(len(xi_values)), initialize={i: xi_values[i] for i in range(len(xi_values))}, mutable=True)\n",
    "\n",
    "# tau_OG (2차원 파라미터)\n",
    "tau_OG_df = pd.read_excel('problem_5_product_cycle_dataset.xlsx', sheet_name='transition_matrix', usecols='B:F', skiprows=2, nrows=5, header=None)\n",
    "tau_OG_dict = {}\n",
    "for i in range(tau_OG_df.shape[0]):\n",
    "    for j in range(tau_OG_df.shape[1]):\n",
    "        tau_OG_dict[(i, j)] = tau_OG_df.iloc[i, j]\n",
    "model.tau_OG = pyo.Param(range(tau_OG_df.shape[0]), range(tau_OG_df.shape[1]), initialize=tau_OG_dict, mutable=True)\n"
   ]
  }
 ],
 "metadata": {
  "kernelspec": {
   "display_name": "fdmenv",
   "language": "python",
   "name": "python3"
  },
  "language_info": {
   "codemirror_mode": {
    "name": "ipython",
    "version": 3
   },
   "file_extension": ".py",
   "mimetype": "text/x-python",
   "name": "python",
   "nbconvert_exporter": "python",
   "pygments_lexer": "ipython3",
   "version": "undefined.undefined.undefined"
  }
 },
 "nbformat": 4,
 "nbformat_minor": 5
}
