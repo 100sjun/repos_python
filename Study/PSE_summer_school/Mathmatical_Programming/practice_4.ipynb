{
 "cells": [
  {
   "cell_type": "code",
   "execution_count": 15,
   "id": "3340b73b",
   "metadata": {},
   "outputs": [],
   "source": [
    "import pyomo.environ as pyo"
   ]
  },
  {
   "cell_type": "code",
   "execution_count": 16,
   "id": "9e4318e6",
   "metadata": {},
   "outputs": [
    {
     "name": "stdout",
     "output_type": "stream",
     "text": [
      "WARNING: Implicitly replacing the Component attribute con8 (type=<class\n",
      "'pyomo.core.base.constraint.ScalarConstraint'>) on block unknown with a new\n",
      "Component (type=<class\n",
      "'pyomo.core.base.constraint.AbstractScalarConstraint'>). This is usually\n",
      "indicative of a modelling error. To avoid this warning, use\n",
      "block.del_component() and block.add_component().\n",
      "profit =  1459.35\n",
      "revenue = 18000.0\n",
      "cost = 16540.65\n",
      "bA = 13.55\n",
      "bB = 0.0\n",
      "cBII = 12.2\n",
      "cBIII = 0.0\n",
      "pB = 12.2\n",
      "pC = 10.0\n",
      "yI = 0.0\n",
      "yII = 1.0\n",
      "yIII = 0.0\n"
     ]
    }
   ],
   "source": [
    "model = pyo.ConcreteModel()\n",
    "\n",
    "# 변수와 계수 정의\n",
    "model.bA = pyo.Var(domain=pyo.NonNegativeReals)\n",
    "model.bB = pyo.Var(domain=pyo.NonNegativeReals)\n",
    "model.pB = pyo.Var(domain=pyo.NonNegativeReals)\n",
    "model.pC = pyo.Var(domain=pyo.NonNegativeReals)\n",
    "model.cBII = pyo.Var(domain=pyo.NonNegativeReals)\n",
    "model.cBIII = pyo.Var(domain=pyo.NonNegativeReals)\n",
    "model.yI = pyo.Var(domain=pyo.Binary)\n",
    "model.yII = pyo.Var(domain=pyo.Binary)\n",
    "model.yIII = pyo.Var(domain=pyo.Binary)\n",
    "model.revenue = pyo.Var(domain=pyo.NonNegativeReals)\n",
    "model.cost = pyo.Var(domain=pyo.NonNegativeReals)\n",
    "\n",
    "# 목적함수\n",
    "model.obj = pyo.Objective(expr=model.revenue-model.cost, sense=pyo.maximize)\n",
    "\n",
    "# 제약조건\n",
    "model.con1 = pyo.Constraint(expr=model.revenue == 1800*model.pC)\n",
    "model.con2 = pyo.Constraint(expr=model.cost == 500*model.bA+950*model.bB+250*model.bA+1000*model.yI+400*model.cBII+1500*model.yII+2000*model.yIII+550*model.cBIII)\n",
    "model.con3 = pyo.Constraint(expr=model.pB == 0.9*model.bA)\n",
    "model.con4 = pyo.Constraint(expr=model.cBII+model.cBIII == model.bB + model.pB)\n",
    "model.con5 = pyo.Constraint(expr=model.pC<=10)\n",
    "model.con6 = pyo.Constraint(expr=model.pC==0.82*model.cBII+0.95*model.cBIII)\n",
    "model.con7 = pyo.Constraint(expr=model.yII+model.yIII<=1)\n",
    "model.con8 = pyo.Constraint(expr=model.pB<=1e6*model.yI)\n",
    "model.con8 = pyo.Constraint(expr=model.cBII<=1e6*model.yII)\n",
    "model.con9 = pyo.Constraint(expr=model.cBIII<=1e6*model.yIII)\n",
    "\n",
    "# ipopt 솔버로 모델 계산\n",
    "solver = pyo.SolverFactory('cbc')\n",
    "result = solver.solve(model, tee=False)\n",
    "\n",
    "# 결과출력\n",
    "print('profit = ', round(pyo.value(model.obj), 2))\n",
    "print(\"revenue =\", round(pyo.value(model.revenue), 2))\n",
    "print(\"cost =\", round(pyo.value(model.cost), 2))\n",
    "print(\"bA =\", round(pyo.value(model.bA), 2))\n",
    "print(\"bB =\", round(pyo.value(model.bB), 2))\n",
    "print(\"cBII =\", round(pyo.value(model.cBII), 2))\n",
    "print(\"cBIII =\", round(pyo.value(model.cBIII), 2))\n",
    "print(\"pB =\", round(pyo.value(model.pB), 2))\n",
    "print(\"pC =\", round(pyo.value(model.pC), 2))\n",
    "print(\"yI =\", round(pyo.value(model.yI), 5))\n",
    "print(\"yII =\", round(pyo.value(model.yII), 5))\n",
    "print(\"yIII =\", round(pyo.value(model.yIII), 5))"
   ]
  },
  {
   "cell_type": "code",
   "execution_count": null,
   "id": "bb39a34b",
   "metadata": {},
   "outputs": [],
   "source": []
  },
  {
   "cell_type": "code",
   "execution_count": null,
   "id": "1f00ab36",
   "metadata": {},
   "outputs": [],
   "source": []
  }
 ],
 "metadata": {
  "kernelspec": {
   "display_name": "fdmenv",
   "language": "python",
   "name": "python3"
  },
  "language_info": {
   "codemirror_mode": {
    "name": "ipython",
    "version": 3
   },
   "file_extension": ".py",
   "mimetype": "text/x-python",
   "name": "python",
   "nbconvert_exporter": "python",
   "pygments_lexer": "ipython3",
   "version": "3.11.0"
  }
 },
 "nbformat": 4,
 "nbformat_minor": 5
}
