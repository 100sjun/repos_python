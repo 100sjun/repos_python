{
 "cells": [
  {
   "cell_type": "code",
   "execution_count": 20,
   "id": "1d9b1f4d",
   "metadata": {},
   "outputs": [],
   "source": [
    "# Load module\n",
    "import pyomo.environ as pyo"
   ]
  },
  {
   "cell_type": "code",
   "execution_count": 21,
   "id": "da1c51c2",
   "metadata": {},
   "outputs": [
    {
     "name": "stdout",
     "output_type": "stream",
     "text": [
      "Optimal solution:\n",
      "Brownie: -0.0\n",
      "Chocolate ice cream: 3.0\n",
      "Cola: 1.0\n",
      "Pineapple cheesecake: -0.0\n",
      "Total cost: 90.0\n"
     ]
    }
   ],
   "source": [
    "# Define model\n",
    "model = pyo.ConcreteModel()\n",
    "\n",
    "# Define decision variables\n",
    "food = [\"Brownie\", \"Chocolate ice cream\", \"Cola\", \"Pineapple cheesecake\"]\n",
    "model.x = pyo.Var(food, domain=pyo.NonNegativeReals)\n",
    "\n",
    "# Define objective function\n",
    "cost = {\"Brownie\": 50, \"Chocolate ice cream\": 20, \"Cola\": 30, \"Pineapple cheesecake\": 80}\n",
    "model.obj = pyo.Objective(expr=sum(cost[i]*model.x[i] for i in food))\n",
    "\n",
    "# Define constraints\n",
    "calories = {\"Brownie\": 400, \"Chocolate ice cream\": 200, \"Cola\": 150, \"Pineapple cheesecake\": 500}\n",
    "chocolate = {\"Brownie\": 3, \"Chocolate ice cream\": 2, \"Cola\": 0, \"Pineapple cheesecake\": 0}\n",
    "sugar = {\"Brownie\": 2, \"Chocolate ice cream\": 2, \"Cola\": 4, \"Pineapple cheesecake\": 4}\n",
    "fat = {\"Brownie\": 2, \"Chocolate ice cream\": 4, \"Cola\": 1, \"Pineapple cheesecake\": 5}\n",
    "\n",
    "model.con_calories = pyo.Constraint(expr=sum(calories[i]*model.x[i] for i in food) >= 500)\n",
    "model.con_chocolate = pyo.Constraint(expr=sum(chocolate[i]*model.x[i] for i in food) >= 6)\n",
    "model.con_sugar = pyo.Constraint(expr=sum(sugar[i]*model.x[i] for i in food) >= 10)\n",
    "model.con_fat = pyo.Constraint(expr=sum(fat[i]*model.x[i] for i in food) >= 8)\n",
    "\n",
    "# Solve the model\n",
    "solver = pyo.SolverFactory('ipopt')\n",
    "solver.solve(model)\n",
    "\n",
    "# print the results\n",
    "print(\"Optimal solution:\")\n",
    "for i in food:\n",
    "    print(f\"{i}: {round(pyo.value(model.x[i]), 2)}\")\n",
    "print(f\"Total cost: {round(pyo.value(model.obj), 2)}\")"
   ]
  }
 ],
 "metadata": {
  "kernelspec": {
   "display_name": "fdmenv",
   "language": "python",
   "name": "python3"
  },
  "language_info": {
   "codemirror_mode": {
    "name": "ipython",
    "version": 3
   },
   "file_extension": ".py",
   "mimetype": "text/x-python",
   "name": "python",
   "nbconvert_exporter": "python",
   "pygments_lexer": "ipython3",
   "version": "3.11.0"
  }
 },
 "nbformat": 4,
 "nbformat_minor": 5
}
