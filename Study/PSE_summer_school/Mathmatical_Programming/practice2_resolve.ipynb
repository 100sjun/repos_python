{
 "cells": [
  {
   "cell_type": "code",
   "execution_count": 8,
   "id": "5d08fc99",
   "metadata": {},
   "outputs": [
    {
     "name": "stdout",
     "output_type": "stream",
     "text": [
      "Optimal solution:\n",
      "PE: 20.0\n",
      "PP: 60.0\n",
      "Total profit: 180.0\n"
     ]
    }
   ],
   "source": [
    "# Load module\n",
    "import pyomo.environ as pyo\n",
    "\n",
    "# Define model\n",
    "model = pyo.ConcreteModel()\n",
    "\n",
    "# Define decision variables\n",
    "product = [\"PE\", \"PP\"]\n",
    "model.x = pyo.Var(product, domain=pyo.NonNegativeReals)\n",
    "\n",
    "# Define objective function\n",
    "profit = {\"PE\": 3, \"PP\": 2}\n",
    "model.obj = pyo.Objective(expr=sum(profit[i]*model.x[i] for i in product), sense=pyo.maximize)\n",
    "\n",
    "# Define constraints\n",
    "raw_material = {\n",
    "    \"PE\": {\"C2H4\": 1, \"C3H6\": 0},\n",
    "    \"PP\": {\"C2H4\": 0, \"C3H6\": 1}\n",
    "}\n",
    "feed = [\"C2H4\", \"C3H6\"]\n",
    "model.con_feed = pyo.Constraint(expr = sum(raw_material[p][f] * model.x[p] for p in product for f in feed) <= 80)\n",
    "\n",
    "energy_demand = {\n",
    "    \"PE\": 2,\n",
    "    \"PP\": 1\n",
    "}\n",
    "model.con_energy = pyo.Constraint(expr = sum(energy_demand[p] * model.x[p] for p in product) <= 100)\n",
    "model.con_PE_demand = pyo.Constraint(expr = model.x['PE'] <= 40)\n",
    "\n",
    "solve = pyo.SolverFactory('ipopt')\n",
    "solve.solve(model)\n",
    "\n",
    "# print the results\n",
    "print(\"Optimal solution:\")\n",
    "for i in product:\n",
    "    print(f\"{i}: {round(pyo.value(model.x[i]), 2)}\")\n",
    "print(f\"Total profit: {round(pyo.value(model.obj), 2)}\")\n"
   ]
  }
 ],
 "metadata": {
  "kernelspec": {
   "display_name": "fdmenv",
   "language": "python",
   "name": "python3"
  },
  "language_info": {
   "name": "python",
   "version": "3.11.0"
  }
 },
 "nbformat": 4,
 "nbformat_minor": 5
}
