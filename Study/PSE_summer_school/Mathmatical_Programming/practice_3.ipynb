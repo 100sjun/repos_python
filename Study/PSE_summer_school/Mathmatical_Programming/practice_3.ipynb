{
 "cells": [
  {
   "cell_type": "code",
   "execution_count": 24,
   "id": "f1bc5b7e",
   "metadata": {},
   "outputs": [],
   "source": [
    "import pyomo.environ as pyo\n",
    "import pandas as pd"
   ]
  },
  {
   "cell_type": "code",
   "execution_count": 25,
   "id": "8ff17e9e",
   "metadata": {},
   "outputs": [
    {
     "data": {
      "text/html": [
       "<div>\n",
       "<style scoped>\n",
       "    .dataframe tbody tr th:only-of-type {\n",
       "        vertical-align: middle;\n",
       "    }\n",
       "\n",
       "    .dataframe tbody tr th {\n",
       "        vertical-align: top;\n",
       "    }\n",
       "\n",
       "    .dataframe thead th {\n",
       "        text-align: right;\n",
       "    }\n",
       "</style>\n",
       "<table border=\"1\" class=\"dataframe\">\n",
       "  <thead>\n",
       "    <tr style=\"text-align: right;\">\n",
       "      <th></th>\n",
       "      <th>node_1</th>\n",
       "      <th>node_2</th>\n",
       "      <th>distance</th>\n",
       "    </tr>\n",
       "  </thead>\n",
       "  <tbody>\n",
       "    <tr>\n",
       "      <th>0</th>\n",
       "      <td>1</td>\n",
       "      <td>2</td>\n",
       "      <td>20</td>\n",
       "    </tr>\n",
       "    <tr>\n",
       "      <th>1</th>\n",
       "      <td>1</td>\n",
       "      <td>4</td>\n",
       "      <td>8</td>\n",
       "    </tr>\n",
       "    <tr>\n",
       "      <th>2</th>\n",
       "      <td>2</td>\n",
       "      <td>3</td>\n",
       "      <td>15</td>\n",
       "    </tr>\n",
       "    <tr>\n",
       "      <th>3</th>\n",
       "      <td>2</td>\n",
       "      <td>6</td>\n",
       "      <td>22</td>\n",
       "    </tr>\n",
       "    <tr>\n",
       "      <th>4</th>\n",
       "      <td>2</td>\n",
       "      <td>7</td>\n",
       "      <td>7</td>\n",
       "    </tr>\n",
       "  </tbody>\n",
       "</table>\n",
       "</div>"
      ],
      "text/plain": [
       "   node_1  node_2  distance\n",
       "0       1       2        20\n",
       "1       1       4         8\n",
       "2       2       3        15\n",
       "3       2       6        22\n",
       "4       2       7         7"
      ]
     },
     "execution_count": 25,
     "metadata": {},
     "output_type": "execute_result"
    }
   ],
   "source": [
    "df = pd.read_csv('problem_3_network_dataset.csv')\n",
    "df.head()"
   ]
  },
  {
   "cell_type": "code",
   "execution_count": 26,
   "id": "faf09829",
   "metadata": {},
   "outputs": [],
   "source": [
    "# node에 대한 값을 unique하게 정의해서 set으로 구성\n",
    "nodes = list(set(df['node_1']).union(set(df['node_2'])))\n",
    "# arc에 대한 값을 tuple로 구성\n",
    "arcs = list(zip(df['node_1'], df['node_2']))\n",
    "\n",
    "# 거리에 대한 값을 dictionary로 정의\n",
    "dist_dict = {(row.node_1, row.node_2): row.distance for idx, row in df.iterrows()}\n",
    "# 양방향 계산을 위해서 역방향에 대한 vector로 추가\n",
    "for idx, row in df.iterrows():\n",
    "    dist_dict[(row.node_2, row.node_1)] = row.distance\n",
    "    arcs.append((row.node_2, row.node_1))\n",
    "arcs = list(set(arcs))"
   ]
  },
  {
   "cell_type": "code",
   "execution_count": 27,
   "id": "4364466f",
   "metadata": {},
   "outputs": [],
   "source": [
    "# model 정의\n",
    "model = pyo.ConcreteModel()\n",
    "\n",
    "# 변수 집합\n",
    "model.Nodes = pyo.Set(initialize=nodes)\n",
    "model.Arcs = pyo.Set(initialize=arcs, dimen=2)\n",
    "\n",
    "# 변수 정의\n",
    "model.x = pyo.Var(model.Arcs, domain=pyo.Binary)\n",
    "\n",
    "# 목적함수\n",
    "def obj_rule(m):\n",
    "    return sum(dist_dict[i,j]*m.x[i,j] for (i,j) in m.Arcs)\n",
    "model.obj = pyo.Objective(rule=obj_rule, sense=pyo.minimize)\n",
    "\n",
    "# 흐름 제약식\n",
    "def flow_rule(m, n):\n",
    "    if n == 1:\n",
    "        return sum(m.x[i, j] for (i, j) in m.Arcs if i == n) - sum(m.x[j, i] for (j, i) in m.Arcs if i == n) == 1\n",
    "    elif n == 30:\n",
    "        return sum(m.x[i, j] for (i, j) in m.Arcs if j == n) - sum(m.x[j, i] for (j, i) in m.Arcs if j == n) == 1\n",
    "    else:\n",
    "        return sum(m.x[i, j] for (i, j) in m.Arcs if i == n) - sum(m.x[j, i] for (j, i) in m.Arcs if i == n) == 0\n",
    "model.flow = pyo.Constraint(model.Nodes, rule=flow_rule)"
   ]
  },
  {
   "cell_type": "code",
   "execution_count": 28,
   "id": "ec8d778f",
   "metadata": {},
   "outputs": [],
   "source": [
    "# MILP 풀기\n",
    "solver = pyo.SolverFactory('ipopt')\n",
    "result = solver.solve(model, tee=False)"
   ]
  },
  {
   "cell_type": "code",
   "execution_count": 29,
   "id": "3e4a3978",
   "metadata": {},
   "outputs": [
    {
     "name": "stdout",
     "output_type": "stream",
     "text": [
      "최적해를 찾았습니다.\n",
      "최단 경로: [1, 2, 3, 16, 26, 27, 30]\n",
      "최소 거리: 142.9999731747019\n"
     ]
    }
   ],
   "source": [
    "# 결과 해석\n",
    "if (result.solver.status == pyo.SolverStatus.ok) and (result.solver.termination_condition == pyo.TerminationCondition.optimal):\n",
    "    print(\"최적해를 찾았습니다.\")\n",
    "    # 경로 추적\n",
    "    path = [1]\n",
    "    current = 1\n",
    "    while current != 30:\n",
    "        for (i, j) in model.Arcs:\n",
    "            if i == current and pyo.value(model.x[i, j]) > 0.5:\n",
    "                path.append(j)\n",
    "                current = j\n",
    "                break\n",
    "    print(\"최단 경로:\", path)\n",
    "    print(\"최소 거리:\", pyo.value(model.obj))\n",
    "else:\n",
    "    print(\"최적해를 찾지 못했습니다.\")"
   ]
  },
  {
   "cell_type": "code",
   "execution_count": null,
   "id": "1690b09e",
   "metadata": {},
   "outputs": [],
   "source": []
  },
  {
   "cell_type": "code",
   "execution_count": null,
   "id": "cafbbab8",
   "metadata": {},
   "outputs": [],
   "source": []
  },
  {
   "cell_type": "code",
   "execution_count": null,
   "id": "785e7f38",
   "metadata": {},
   "outputs": [],
   "source": []
  },
  {
   "cell_type": "code",
   "execution_count": null,
   "id": "0542457b",
   "metadata": {},
   "outputs": [],
   "source": []
  },
  {
   "cell_type": "code",
   "execution_count": null,
   "id": "707a3630",
   "metadata": {},
   "outputs": [],
   "source": []
  }
 ],
 "metadata": {
  "kernelspec": {
   "display_name": "fdmenv",
   "language": "python",
   "name": "python3"
  },
  "language_info": {
   "codemirror_mode": {
    "name": "ipython",
    "version": 3
   },
   "file_extension": ".py",
   "mimetype": "text/x-python",
   "name": "python",
   "nbconvert_exporter": "python",
   "pygments_lexer": "ipython3",
   "version": "3.11.0"
  }
 },
 "nbformat": 4,
 "nbformat_minor": 5
}
