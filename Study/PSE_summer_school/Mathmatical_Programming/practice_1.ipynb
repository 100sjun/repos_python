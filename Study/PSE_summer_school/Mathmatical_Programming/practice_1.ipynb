{
 "cells": [
  {
   "cell_type": "code",
   "execution_count": 7,
   "id": "c8147908",
   "metadata": {},
   "outputs": [],
   "source": [
    "import pyomo.environ as pyo"
   ]
  },
  {
   "cell_type": "code",
   "execution_count": 8,
   "id": "a17d7187",
   "metadata": {},
   "outputs": [
    {
     "name": "stdout",
     "output_type": "stream",
     "text": [
      "x1 = -0.0\n",
      "x2 = 3.0\n",
      "x3 = 1.0\n",
      "x4 = -0.0\n",
      "con1 = 750.0 >= 500.0\n",
      "con2 = 6.0 >= 6.0\n",
      "con3 = 10.0 >= 10.0\n",
      "con4 = 13.0 >= 8.0\n",
      "목적함수 값 = 90.0\n"
     ]
    }
   ],
   "source": [
    "model = pyo.ConcreteModel()\n",
    "\n",
    "# 변수 정의\n",
    "model.x1 = pyo.Var(domain=pyo.PositiveReals)\n",
    "model.x2 = pyo.Var(domain=pyo.PositiveReals)\n",
    "model.x3 = pyo.Var(domain=pyo.PositiveReals)\n",
    "model.x4 = pyo.Var(domain=pyo.PositiveReals)\n",
    "\n",
    "# 목적함수 정의\n",
    "model.obj = pyo.Objective(expr=50*model.x1 + 20*model.x2 + 30*model.x3 + 80*model.x4, sense=pyo.minimize)\n",
    "\n",
    "# 제약조건 정의\n",
    "model.con1 = pyo.Constraint(expr=400*model.x1+200*model.x2+150*model.x3+500*model.x4 >= 500)\n",
    "model.con2 = pyo.Constraint(expr=3*model.x1+2*model.x2 >= 6)\n",
    "model.con3 = pyo.Constraint(expr=2*model.x1+2*model.x2+4*model.x3+4*model.x4 >= 10)\n",
    "model.con4 = pyo.Constraint(expr=2*model.x1+4*model.x2+model.x3+5*model.x4 >= 8)\n",
    "\n",
    "# ipopt 솔버로 모델 계산\n",
    "solver = pyo.SolverFactory('ipopt')\n",
    "result = solver.solve(model, tee=False)\n",
    "\n",
    "# 결과 출력\n",
    "print(\"x1 =\", round(pyo.value(model.x1), 2))\n",
    "print(\"x2 =\", round(pyo.value(model.x2), 2))\n",
    "print(\"x3 =\", round(pyo.value(model.x3), 2))\n",
    "print(\"x4 =\", round(pyo.value(model.x4), 2))\n",
    "print(\"con1 =\", round(pyo.value(model.con1.body), 2), \">=\", model.con1.lower)\n",
    "print(\"con2 =\", round(pyo.value(model.con2.body), 2), \">=\", model.con2.lower)\n",
    "print(\"con3 =\", round(pyo.value(model.con3.body), 2), \">=\", model.con3.lower)\n",
    "print(\"con4 =\", round(pyo.value(model.con4.body), 2), \">=\", model.con4.lower)\n",
    "print(\"목적함수 값 =\", round(pyo.value(model.obj), 2))\n"
   ]
  },
  {
   "cell_type": "code",
   "execution_count": 9,
   "id": "b6854b92",
   "metadata": {},
   "outputs": [
    {
     "name": "stdout",
     "output_type": "stream",
     "text": [
      "x1 = -0.0\n",
      "x2 = 3.0\n",
      "x3 = 1.0\n",
      "x4 = -0.0\n",
      "con1 = 750.0 >= 500\n",
      "con2 = 6.0 >= 6\n",
      "con3 = 10.0 >= 10\n",
      "con4 = 13.0 >= 8\n",
      "목적함수 값 = 90.0\n"
     ]
    }
   ],
   "source": [
    "import pyomo.environ as pyo\n",
    "\n",
    "model2 = pyo.ConcreteModel()\n",
    "\n",
    "# 변수와 제약조건 파라미터를 set으로 정의\n",
    "I = [1, 2, 3, 4]\n",
    "model2.I = pyo.Set(initialize=I)\n",
    "\n",
    "# 변수 정의\n",
    "model2.x = pyo.Var(model2.I, domain=pyo.PositiveReals)\n",
    "\n",
    "# 계수 파라미터 정의\n",
    "c = {1: 50, 2: 20, 3: 30, 4: 80}\n",
    "a1 = {1: 400, 2: 200, 3: 150, 4: 500}\n",
    "a2 = {1: 3, 2: 2, 3: 0, 4: 0}\n",
    "a3 = {1: 2, 2: 2, 3: 4, 4: 4}\n",
    "a4 = {1: 2, 2: 4, 3: 1, 4: 5}\n",
    "\n",
    "# 목적함수\n",
    "def obj_rule(m):\n",
    "    return sum(c[i]*m.x[i] for i in m.I)\n",
    "model2.obj = pyo.Objective(rule=obj_rule, sense=pyo.minimize)\n",
    "\n",
    "# 제약조건\n",
    "def con1_rule(m):\n",
    "    return sum(a1[i]*m.x[i] for i in m.I) >= 500\n",
    "model2.con1 = pyo.Constraint(rule=con1_rule)\n",
    "\n",
    "def con2_rule(m):\n",
    "    return sum(a2[i]*m.x[i] for i in m.I) >= 6\n",
    "model2.con2 = pyo.Constraint(rule=con2_rule)\n",
    "\n",
    "def con3_rule(m):\n",
    "    return sum(a3[i]*m.x[i] for i in m.I) >= 10\n",
    "model2.con3 = pyo.Constraint(rule=con3_rule)\n",
    "\n",
    "def con4_rule(m):\n",
    "    return sum(a4[i]*m.x[i] for i in m.I) >= 8\n",
    "model2.con4 = pyo.Constraint(rule=con4_rule)\n",
    "\n",
    "# ipopt 솔버로 모델 계산\n",
    "solver2 = pyo.SolverFactory('ipopt')\n",
    "result2 = solver2.solve(model2, tee=False)\n",
    "\n",
    "# 결과 출력\n",
    "for i in model2.I:\n",
    "    print(f\"x{i} =\", round(pyo.value(model2.x[i]), 2))\n",
    "print(\"con1 =\", round(pyo.value(sum(a1[i]*model2.x[i] for i in model2.I)), 2), \">= 500\")\n",
    "print(\"con2 =\", round(pyo.value(sum(a2[i]*model2.x[i] for i in model2.I)), 2), \">= 6\")\n",
    "print(\"con3 =\", round(pyo.value(sum(a3[i]*model2.x[i] for i in model2.I)), 2), \">= 10\")\n",
    "print(\"con4 =\", round(pyo.value(sum(a4[i]*model2.x[i] for i in model2.I)), 2), \">= 8\")\n",
    "print(\"목적함수 값 =\", round(pyo.value(model2.obj), 2))\n"
   ]
  }
 ],
 "metadata": {
  "kernelspec": {
   "display_name": "fdmenv",
   "language": "python",
   "name": "python3"
  },
  "language_info": {
   "codemirror_mode": {
    "name": "ipython",
    "version": 3
   },
   "file_extension": ".py",
   "mimetype": "text/x-python",
   "name": "python",
   "nbconvert_exporter": "python",
   "pygments_lexer": "ipython3",
   "version": "3.11.0"
  }
 },
 "nbformat": 4,
 "nbformat_minor": 5
}
