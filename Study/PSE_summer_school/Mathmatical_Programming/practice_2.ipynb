{
 "cells": [
  {
   "cell_type": "code",
   "execution_count": 5,
   "id": "5c2557ff",
   "metadata": {},
   "outputs": [],
   "source": [
    "import pyomo.environ as pyo"
   ]
  },
  {
   "cell_type": "code",
   "execution_count": 6,
   "id": "d6eb6dfe",
   "metadata": {},
   "outputs": [
    {
     "name": "stdout",
     "output_type": "stream",
     "text": [
      "x1 = 20.0\n",
      "x2 = 60.0\n",
      "con1 = 80.0 <= 80.0\n",
      "con2 = 100.0 <= 100.0\n",
      "con3 = 20.0 <= 40.0\n",
      "목적함수 값 = 180.0\n"
     ]
    }
   ],
   "source": [
    "model = pyo.ConcreteModel()\n",
    "\n",
    "# 변수 정의\n",
    "model.x1 = pyo.Var(domain=pyo.PositiveReals)\n",
    "model.x2 = pyo.Var(domain=pyo.PositiveReals)\n",
    "\n",
    "# 목적함수 정의\n",
    "model.obj = pyo.Objective(expr=3*model.x1+2*model.x2, sense=pyo.maximize)\n",
    "\n",
    "# 제약조건 정의\n",
    "model.con1 = pyo.Constraint(expr=model.x1+model.x2 <= 80)\n",
    "model.con2 = pyo.Constraint(expr=2*model.x1+model.x2 <= 100)\n",
    "model.con3 = pyo.Constraint(expr=model.x1 <= 40)\n",
    "\n",
    "# ipopt 솔버로 모델 계산\n",
    "solver = pyo.SolverFactory('ipopt')\n",
    "result = solver.solve(model, tee=False)\n",
    "\n",
    "# 결과출력\n",
    "print(\"x1 =\", round(pyo.value(model.x1), 2))\n",
    "print(\"x2 =\", round(pyo.value(model.x2), 2))\n",
    "print(\"con1 =\", round(pyo.value(model.con1.body), 2), \"<=\", model.con1.upper)\n",
    "print(\"con2 =\", round(pyo.value(model.con2.body), 2), \"<=\", model.con2.upper)\n",
    "print(\"con3 =\", round(pyo.value(model.con3.body), 2), \"<=\", model.con3.upper)\n",
    "print(\"목적함수 값 =\", round(pyo.value(model.obj), 2))"
   ]
  },
  {
   "cell_type": "code",
   "execution_count": 7,
   "id": "3f17ef62",
   "metadata": {},
   "outputs": [
    {
     "name": "stdout",
     "output_type": "stream",
     "text": [
      "x1 = 20.0\n",
      "x2 = 60.0\n",
      "con1 = 80.0 <= 80\n",
      "con2 = 100.0 <= 100\n",
      "con3 = 20.0 <= 40\n",
      "목적함수 값 = 180.0\n"
     ]
    }
   ],
   "source": [
    "import pyomo.environ as pyo\n",
    "\n",
    "# 변수와 계수 정의\n",
    "var_names = ['x1', 'x2']\n",
    "obj_coeff = {'x1': 3, 'x2': 2}\n",
    "con_coeff = {\n",
    "    'con1': {'x1': 1, 'x2': 1},\n",
    "    'con2': {'x1': 2, 'x2': 1},\n",
    "    'con3': {'x1': 1, 'x2': 0}\n",
    "}\n",
    "con_rhs = {'con1': 80, 'con2': 100, 'con3': 40}\n",
    "\n",
    "# 모델 생성\n",
    "model2 = pyo.ConcreteModel()\n",
    "\n",
    "# 변수 집합\n",
    "model2.VARS = pyo.Set(initialize=var_names)\n",
    "\n",
    "# 변수 정의\n",
    "model2.x = pyo.Var(model2.VARS, domain=pyo.PositiveReals)\n",
    "\n",
    "# 목적함수\n",
    "def obj_rule(m):\n",
    "    return sum(obj_coeff[v] * m.x[v] for v in m.VARS)\n",
    "model2.obj = pyo.Objective(rule=obj_rule, sense=pyo.maximize)\n",
    "\n",
    "# 제약조건\n",
    "def con1_rule(m):\n",
    "    return sum(con_coeff['con1'][v] * m.x[v] for v in m.VARS) <= con_rhs['con1']\n",
    "model2.con1 = pyo.Constraint(rule=con1_rule)\n",
    "\n",
    "def con2_rule(m):\n",
    "    return sum(con_coeff['con2'][v] * m.x[v] for v in m.VARS) <= con_rhs['con2']\n",
    "model2.con2 = pyo.Constraint(rule=con2_rule)\n",
    "\n",
    "def con3_rule(m):\n",
    "    return sum(con_coeff['con3'][v] * m.x[v] for v in m.VARS) <= con_rhs['con3']\n",
    "model2.con3 = pyo.Constraint(rule=con3_rule)\n",
    "\n",
    "# ipopt 솔버로 모델 계산\n",
    "solver2 = pyo.SolverFactory('ipopt')\n",
    "result2 = solver2.solve(model2, tee=False)\n",
    "\n",
    "# 결과 출력\n",
    "for v in model2.VARS:\n",
    "    print(f\"{v} =\", round(pyo.value(model2.x[v]), 2))\n",
    "print(\"con1 =\", round(sum(con_coeff['con1'][v]*pyo.value(model2.x[v]) for v in model2.VARS),2), \"<=\", con_rhs['con1'])\n",
    "print(\"con2 =\", round(sum(con_coeff['con2'][v]*pyo.value(model2.x[v]) for v in model2.VARS),2), \"<=\", con_rhs['con2'])\n",
    "print(\"con3 =\", round(sum(con_coeff['con3'][v]*pyo.value(model2.x[v]) for v in model2.VARS),2), \"<=\", con_rhs['con3'])\n",
    "print(\"목적함수 값 =\", round(pyo.value(model2.obj), 2))\n"
   ]
  }
 ],
 "metadata": {
  "kernelspec": {
   "display_name": "fdmenv",
   "language": "python",
   "name": "python3"
  },
  "language_info": {
   "codemirror_mode": {
    "name": "ipython",
    "version": 3
   },
   "file_extension": ".py",
   "mimetype": "text/x-python",
   "name": "python",
   "nbconvert_exporter": "python",
   "pygments_lexer": "ipython3",
   "version": "3.11.0"
  }
 },
 "nbformat": 4,
 "nbformat_minor": 5
}
